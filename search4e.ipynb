{
 "cells": [
  {
   "cell_type": "markdown",
   "metadata": {},
   "source": [
    "# Search for AIMA 4th edition\n",
    "\n",
    "Implementation of search algorithms and search problems for AIMA.\n",
    "\n",
    "# Problems and Nodes\n",
    "\n",
    "We start by defining the abstract class for a `Problem`; specific problem domains will subclass this. To make it easier for algorithms that use a heuristic evaluation function, `Problem` has a default `h` function (uniformly zero), and subclasses can define their own default `h` function.\n",
    "\n",
    "We also define a `Node` in a search tree, and some functions on nodes: `expand` to generate successors; `path_actions` and `path_states`  to recover aspects of the path from the node.  "
   ]
  },
  {
   "cell_type": "code",
   "execution_count": 3,
   "metadata": {},
   "outputs": [],
   "source": [
    "%matplotlib inline\n",
    "import matplotlib.pyplot as plt\n",
    "import random\n",
    "import heapq\n",
    "import math\n",
    "import sys\n",
    "from collections import defaultdict, deque, Counter\n",
    "from itertools import combinations\n",
    "\n",
    "\n",
    "class Problem(object):\n",
    "    \"\"\"The abstract class for a formal problem. A new domain subclasses this,\n",
    "    overriding `actions` and `results`, and perhaps other methods.\n",
    "    The default heuristic is 0 and the default action cost is 1 for all states.\n",
    "    When yiou create an instance of a subclass, specify `initial`, and `goal` states \n",
    "    (or give an `is_goal` method) and perhaps other keyword args for the subclass.\"\"\"\n",
    "\n",
    "    def __init__(self, initial=None, goal=None, **kwds): \n",
    "        self.__dict__.update(initial=initial, goal=goal, **kwds) \n",
    "        \n",
    "    def actions(self, state):        raise NotImplementedError\n",
    "    def result(self, state, action): raise NotImplementedError\n",
    "    def is_goal(self, state):        return state == self.goal\n",
    "    def step_cost(self, s, a, s1): return 1\n",
    "    def h(self, node):               return 0\n",
    "    \n",
    "    def __str__(self):\n",
    "        return '{}({!r}, {!r})'.format(\n",
    "            type(self).__name__, self.initial, self.goal)\n",
    "    \n",
    "\n",
    "class Node:\n",
    "    \"A Node in a search tree.\"\n",
    "    def __init__(self, state, parent=None, action=None, path_cost=0):\n",
    "        self.__dict__.update(state=state, parent=parent, action=action, path_cost=path_cost)\n",
    "\n",
    "    def __repr__(self): return '<{}>'.format(self.state)\n",
    "    def __len__(self): return 0 if self.parent is None else (1 + len(self.parent))\n",
    "    def __lt__(self, other): return self.path_cost < other.path_cost\n",
    "    \n",
    "    \n",
    "failure = Node('failure', path_cost=math.inf) # Indicates an algorithm couldn't find a solution.\n",
    "cutoff  = Node('cutoff',  path_cost=math.inf) # Indicates iterative deepening search was cut off.\n",
    "    \n",
    "    \n",
    "def expand(problem, node):\n",
    "    \"Expand a node, generating the children nodes.\"\n",
    "    s = node.state\n",
    "    for action in problem.actions(s):\n",
    "        s1 = problem.result(s, action)\n",
    "        cost = node.path_cost + problem.step_cost(s, action, s1)\n",
    "        yield Node(s1, node, action, cost)\n",
    "        \n",
    "\n",
    "def path_actions(node):\n",
    "    \"The sequence of actions to get to this node.\"\n",
    "    if node.parent is None:\n",
    "        return []  \n",
    "    return path_actions(node.parent) + [node.action]\n",
    "\n",
    "\n",
    "def path_states(node):\n",
    "    \"The sequence of states to get to this node.\"\n",
    "    if node in (cutoff, failure, None): \n",
    "        return []\n",
    "    return path_states(node.parent) + [node.state]"
   ]
  },
  {
   "cell_type": "markdown",
   "metadata": {},
   "source": [
    "# Queues\n",
    "\n",
    "First-in-first-out and Last-in-first-out queues, and a `PriorityQueue`, which allows you to keep a collection of items, and continually remove from it the item with minimum `f(item)` score."
   ]
  },
  {
   "cell_type": "code",
   "execution_count": 4,
   "metadata": {},
   "outputs": [],
   "source": [
    "FIFOQueue = deque\n",
    "\n",
    "LIFOQueue = list\n",
    "\n",
    "class PriorityQueue:\n",
    "    \"\"\"A queue in which the item with minimum f(item) is always popped first.\"\"\"\n",
    "\n",
    "    def __init__(self, items=(), key=lambda x: x): \n",
    "        self.key = key\n",
    "        self.items = [] # a heap of (score, item) pairs\n",
    "        for item in items:\n",
    "            self.add(item)\n",
    "         \n",
    "    def add(self, item):\n",
    "        \"\"\"Add item to the queuez.\"\"\"\n",
    "        pair = (self.key(item), item)\n",
    "        heapq.heappush(self.items, pair)\n",
    "\n",
    "    def pop(self):\n",
    "        \"\"\"Pop and return the item with min f(item) value.\"\"\"\n",
    "        return heapq.heappop(self.items)[1]\n",
    "    \n",
    "    def top(self): return self.items[0][1]\n",
    "\n",
    "    def __len__(self): return len(self.items)"
   ]
  },
  {
   "cell_type": "markdown",
   "metadata": {},
   "source": [
    "# Search Algorithms: Best-First\n",
    "\n",
    "Best-first search with various *f(n)* functions gives us different search algorithms. Note that A\\*, weighted A\\* and greedy search can be given a heuristic function, `h`, but if `h` is not supplied they use the problem's default `h` function (if the problem does not define one, it is taken as *h(n)* = 0)."
   ]
  },
  {
   "cell_type": "code",
   "execution_count": 5,
   "metadata": {},
   "outputs": [],
   "source": [
    "def best_first_search(problem, f):\n",
    "    \"Search nodes with minimum f(node) value first.\"\n",
    "    node = Node(problem.initial)\n",
    "    frontier = PriorityQueue([node], key=f)\n",
    "    reached = {problem.initial: node}\n",
    "    while frontier:\n",
    "        node = frontier.pop()\n",
    "        if problem.is_goal(node.state):\n",
    "            return node\n",
    "        for child in expand(problem, node):\n",
    "            s = child.state\n",
    "            if s not in reached or child.path_cost < reached[s].path_cost:\n",
    "                reached[s] = child\n",
    "                frontier.add(child)\n",
    "    return failure\n",
    "\n",
    "\n",
    "def best_first_tree_search(problem, f):\n",
    "    \"A version of best_first_search without the `reached` table.\"\n",
    "    frontier = PriorityQueue([Node(problem.initial)], key=f)\n",
    "    while frontier:\n",
    "        node = frontier.pop()\n",
    "        if problem.is_goal(node.state):\n",
    "            return node\n",
    "        for child in expand(problem, node):\n",
    "            if not is_cycle(child):\n",
    "                frontier.add(child)\n",
    "    return failure\n",
    "\n",
    "\n",
    "def g(n): return n.path_cost\n",
    "\n",
    "\n",
    "def astar_search(problem, h=None):\n",
    "    \"\"\"Search nodes with minimum f(n) = g(n) + h(n).\"\"\"\n",
    "    h = h or problem.h\n",
    "    return best_first_search(problem, f=lambda n: g(n) + h(n))\n",
    "\n",
    "\n",
    "def astar_tree_search(problem, h=None):\n",
    "    \"\"\"Search nodes with minimum f(n) = g(n) + h(n), with no `reached` table.\"\"\"\n",
    "    h = h or problem.h\n",
    "    return best_first_tree_search(problem, f=lambda n: g(n) + h(n))\n",
    "\n",
    "\n",
    "def weighted_astar_search(problem, h=None, weight=1.4):\n",
    "    \"\"\"Search nodes with minimum f(n) = g(n) + weight * h(n).\"\"\"\n",
    "    h = h or problem.h\n",
    "    return best_first_search(problem, f=lambda n: g(n) + weight * h(n))\n",
    "\n",
    "        \n",
    "def greedy_bfs(problem, h=None):\n",
    "    \"\"\"Search nodes with minimum h(n).\"\"\"\n",
    "    h = h or problem.h\n",
    "    return best_first_search(problem, f=h)\n",
    "\n",
    "\n",
    "def uniform_cost_search(problem):\n",
    "    \"Search nodes with minimum path cost first.\"\n",
    "    return best_first_search(problem, f=g)\n",
    "\n",
    "\n",
    "def breadth_first_bfs(problem):\n",
    "    \"Search shallowest nodes in the search tree first; using best-first.\"\n",
    "    return best_first_search(problem, f=len)\n",
    "\n",
    "\n",
    "def depth_first_bfs(problem):\n",
    "    \"Search deepest nodes in the search tree first; using best-first.\"\n",
    "    return best_first_search(problem, f=lambda n: -len(n))\n",
    "\n",
    "\n",
    "def is_cycle(node, k=30):\n",
    "    \"Does this node form a cycle of length k or less?\"\n",
    "    def find_cycle(ancestor, k):\n",
    "        return (ancestor is not None and k > 0 and\n",
    "                (ancestor.state == node.state or find_cycle(ancestor.parent, k - 1)))\n",
    "    return find_cycle(node.parent, k)\n",
    "\n"
   ]
  },
  {
   "cell_type": "markdown",
   "metadata": {},
   "source": [
    "# Other Search Algorithms\n",
    "\n",
    "Here are the other search algorithms:"
   ]
  },
  {
   "cell_type": "code",
   "execution_count": 6,
   "metadata": {},
   "outputs": [],
   "source": [
    "def breadth_first_search(problem):\n",
    "    \"Search shallowest nodes in the search tree first.\"\n",
    "    node = Node(problem.initial)\n",
    "    if problem.is_goal(problem.initial):\n",
    "        return node\n",
    "    frontier = FIFOQueue([node])\n",
    "    reached = {problem.initial}\n",
    "    while frontier:\n",
    "        node = frontier.pop()\n",
    "        for child in expand(problem, node):\n",
    "            s = child.state\n",
    "            if problem.is_goal(s):\n",
    "                return child\n",
    "            if s not in reached:\n",
    "                reached.add(s)\n",
    "                frontier.appendleft(child)\n",
    "    return failure\n",
    "\n",
    "\n",
    "def iterative_deepening_search(problem):\n",
    "    \"Do depth-limited search with increasing depth limits.\"\n",
    "    for limit in range(1, sys.maxsize):\n",
    "        result = depth_limited_search(problem, limit)\n",
    "        if result != cutoff:\n",
    "            return result\n",
    "        \n",
    "        \n",
    "def depth_limited_search(problem, limit=10):\n",
    "    \"Search deepest nodes in the search tree first.\"\n",
    "    frontier = LIFOQueue([Node(problem.initial)])\n",
    "    result = failure\n",
    "    while frontier:\n",
    "        node = frontier.pop()\n",
    "        if problem.is_goal(node.state):\n",
    "            return node\n",
    "        elif len(node) >= limit:\n",
    "            result = cutoff\n",
    "        elif not is_cycle(node):\n",
    "            for child in expand(problem, node):\n",
    "                frontier.append(child)\n",
    "    return result\n",
    "\n",
    "\n",
    "def depth_first_recursive_search(problem, node=None):\n",
    "    if node is None: \n",
    "        node = Node(problem.initial)\n",
    "    if problem.is_goal(node.state):\n",
    "        return node\n",
    "    elif is_cycle(node):\n",
    "        return failure\n",
    "    else:\n",
    "        for child in expand(problem, node):\n",
    "            result = depth_first_recursive_search(problem, child)\n",
    "            if result:\n",
    "                return result\n",
    "        return failure"
   ]
  },
  {
   "cell_type": "markdown",
   "metadata": {},
   "source": [
    "# Bidirectional Best-First Search"
   ]
  },
  {
   "cell_type": "code",
   "execution_count": 8,
   "metadata": {},
   "outputs": [],
   "source": [
    "def bidirectional_best_first_search(problem_f, f_f, problem_b, f_b, terminated):\n",
    "    node_f = Node(problem_f.initial)\n",
    "    node_b = Node(problem_f.goal)\n",
    "    frontier_f, reached_f = PriorityQueue([node_f], key=f_f), {node_f.state: node_f}\n",
    "    frontier_b, reached_b = PriorityQueue([node_b], key=f_b), {node_b.state: node_b}\n",
    "    solution = failure\n",
    "    while frontier_f and frontier_b and not terminated(solution, frontier_f, frontier_b):\n",
    "        def S1(node, f):\n",
    "            return str(int(f(node))) + ' ' + str(path_states(node))\n",
    "        print('Bi:', S1(frontier_f.top(), f_f), S1(frontier_b.top(), f_b))\n",
    "        if f_f(frontier_f.top()) < f_b(frontier_b.top()):\n",
    "            solution = proceed('f', problem_f, frontier_f, reached_f, reached_b, solution)\n",
    "        else:\n",
    "            solution = proceed('b', problem_b, frontier_b, reached_b, reached_f, solution)\n",
    "    return solution\n",
    "\n",
    "def inverse_problem(problem):\n",
    "    if isinstance(problem, CountCalls):\n",
    "        return CountCalls(inverse_problem(problem._object))\n",
    "    else:\n",
    "        inv = copy.copy(problem)\n",
    "        inv.initial, inv.goal = inv.goal, inv.initial\n",
    "        return inv"
   ]
  },
  {
   "cell_type": "code",
   "execution_count": 9,
   "metadata": {},
   "outputs": [],
   "source": [
    "def bidirectional_uniform_cost_search(problem_f):\n",
    "    def terminated(solution, frontier_f, frontier_b):\n",
    "        n_f, n_b = frontier_f.top(), frontier_b.top()\n",
    "        return g(n_f) + g(n_b) > g(solution)\n",
    "    return bidirectional_best_first_search(problem_f, g, inverse_problem(problem_f), g, terminated)\n",
    "\n",
    "def bidirectional_astar_search(problem_f):\n",
    "    def terminated(solution, frontier_f, frontier_b):\n",
    "        nf, nb = frontier_f.top(), frontier_b.top()\n",
    "        return g(nf) + g(nb) > g(solution)\n",
    "    problem_f = inverse_problem(problem_f)\n",
    "    return bidirectional_best_first_search(problem_f, lambda n: g(n) + problem_f.h(n),\n",
    "                                           problem_b, lambda n: g(n) + problem_b.h(n), \n",
    "                                           terminated)\n",
    "   \n",
    "\n",
    "def proceed(direction, problem, frontier, reached, reached2, solution):\n",
    "    node = frontier.pop()\n",
    "    for child in expand(problem, node):\n",
    "        s = child.state\n",
    "        print('proceed', direction, S(child))\n",
    "        if s not in reached or child.path_cost < reached[s].path_cost:\n",
    "            frontier.add(child)\n",
    "            reached[s] = child\n",
    "            if s in reached2: # Frontiers collide; solution found\n",
    "                solution2 = (join_nodes(child, reached2[s]) if direction == 'f' else\n",
    "                             join_nodes(reached2[s], child))\n",
    "                #print('solution', path_states(solution2), solution2.path_cost, \n",
    "                # path_states(child), path_states(reached2[s]))\n",
    "                if solution2.path_cost < solution.path_cost:\n",
    "                    solution = solution2\n",
    "    return solution\n",
    "\n",
    "S = path_states\n",
    "\n",
    "#A-S-R + B-P-R => A-S-R-P + B-P\n",
    "def join_nodes(nf, nb):\n",
    "    \"\"\"Join the reverse of the backward node nb to the forward node nf.\"\"\"\n",
    "    #print('join', S(nf), S(nb))\n",
    "    join = nf\n",
    "    while nb.parent is not None:\n",
    "        cost = join.path_cost + nb.path_cost - nb.parent.path_cost\n",
    "        join = Node(nb.parent.state, join, nb.action, cost)\n",
    "        nb = nb.parent\n",
    "        #print('  now join', S(join), 'with nb', S(nb), 'parent', S(nb.parent))\n",
    "    return join\n",
    "    \n",
    "   "
   ]
  },
  {
   "cell_type": "markdown",
   "metadata": {},
   "source": [
    "# TODO: RBFS"
   ]
  },
  {
   "cell_type": "markdown",
   "metadata": {},
   "source": [
    "# Problem Domains\n",
    "\n",
    "Now we turn our attention to defining some problem domains as subclasses of `Problem`."
   ]
  },
  {
   "cell_type": "markdown",
   "metadata": {},
   "source": [
    "# Route Finding Problems\n",
    "\n",
    "![](romania.png)\n",
    "\n",
    "In a `RouteProblem`, the states are names of \"cities\" (or other locations), like `'A'` for Arad. The actions are also city names; `'Z'` is the action to move to city `'Z'`. The layout of cities is given by a separate data structure, a `Map`, which is a graph where there are vertexes (cities), links between vertexes, distances (costs) of those links (if not specified, the default is 1 for every link), and optionally the 2D (x, y) location of each city can be specified. A `RouteProblem` takes this `Map` as input and allows actions to move between linked cities. The default heuristic is straight-line distance to the goal, or is uniformly zero if locations were not given."
   ]
  },
  {
   "cell_type": "code",
   "execution_count": 10,
   "metadata": {},
   "outputs": [],
   "source": [
    "class RouteProblem(Problem):\n",
    "    \"\"\"A problem to find a route between locations on a `Map`.\n",
    "    Create a problem with RouteProblem(start, goal, map=Map(...)}).\n",
    "    States are the vertexes in the Map graph; actions are destination states.\"\"\"\n",
    "    \n",
    "    def actions(self, state): \n",
    "        \"\"\"The places neighboring `state`.\"\"\"\n",
    "        return self.map.neighbors[state]\n",
    "    \n",
    "    def result(self, state, action):\n",
    "        \"\"\"Go to the `action` place, if the map says that is possible.\"\"\"\n",
    "        return action if action in self.map.neighbors[state] else state\n",
    "    \n",
    "    def step_cost(self, s, action, s1):\n",
    "        \"\"\"The distance (cost) to go from s to s1.\"\"\"\n",
    "        return self.map.distances[s, s1]\n",
    "    \n",
    "    def h(self, node):\n",
    "        \"Straight-line distance between state and the goal.\"\n",
    "        locs = self.map.locations\n",
    "        return straight_line_distance(locs[node.state], locs[self.goal])\n",
    "    \n",
    "    \n",
    "def straight_line_distance(A, B):\n",
    "    \"Straight-line distance between two points.\"\n",
    "    return sum(abs(a - b)**2 for (a, b) in zip(A, B)) ** 0.5"
   ]
  },
  {
   "cell_type": "code",
   "execution_count": 11,
   "metadata": {},
   "outputs": [],
   "source": [
    "class Map:\n",
    "    \"\"\"A map of places in a 2D world: a graph with vertexes and links between them. \n",
    "    In `Map(links, locations)`, `links` can be either [(v1, v2)...] pairs, \n",
    "    or a {(v1, v2): distance...} dict. Optional `locations` can be {v1: (x, y)} \n",
    "    If `directed=False` then for every (v1, v2) link, we add a (v2, v1) link.\"\"\"\n",
    "\n",
    "    def __init__(self, links, locations=None, directed=False):\n",
    "        if not hasattr(links, 'items'): # Distances are 1 by default\n",
    "            links = {link: 1 for link in links}\n",
    "        if not directed:\n",
    "            for (v1, v2) in list(links):\n",
    "                links[v2, v1] = links[v1, v2]\n",
    "        self.distances = links\n",
    "        self.neighbors = multimap(links)\n",
    "        self.locations = locations or defaultdict(lambda: (0, 0))\n",
    "\n",
    "        \n",
    "def multimap(pairs) -> dict:\n",
    "    \"Given (key, val) pairs, make a dict of {key: [val,...]}.\"\n",
    "    result = defaultdict(list)\n",
    "    for key, val in pairs:\n",
    "        result[key].append(val)\n",
    "    return result"
   ]
  },
  {
   "cell_type": "code",
   "execution_count": 12,
   "metadata": {},
   "outputs": [],
   "source": [
    "# Some specific RouteProblems\n",
    "\n",
    "romania = Map(\n",
    "    {('O', 'Z'):  71, ('O', 'S'): 151, ('A', 'Z'): 75, ('A', 'S'): 140, ('A', 'T'): 118, \n",
    "     ('L', 'T'): 111, ('L', 'M'):  70, ('D', 'M'): 75, ('C', 'D'): 120, ('C', 'R'): 146, \n",
    "     ('C', 'P'): 138, ('R', 'S'):  80, ('F', 'S'): 99, ('B', 'F'): 211, ('B', 'P'): 101, \n",
    "     ('B', 'G'):  90, ('B', 'U'):  85, ('H', 'U'): 98, ('E', 'H'):  86, ('U', 'V'): 142, \n",
    "     ('I', 'V'):  92, ('I', 'N'):  87, ('P', 'R'): 97},\n",
    "    {'A': ( 76, 497), 'B': (400, 327), 'C': (246, 285), 'D': (160, 296), 'E': (558, 294), \n",
    "     'F': (285, 460), 'G': (368, 257), 'H': (548, 355), 'I': (488, 535), 'L': (162, 379),\n",
    "     'M': (160, 343), 'N': (407, 561), 'O': (117, 580), 'P': (311, 372), 'R': (227, 412),\n",
    "     'S': (187, 463), 'T': ( 83, 414), 'U': (471, 363), 'V': (535, 473), 'Z': (92, 539)})\n",
    "\n",
    "\n",
    "r0 = RouteProblem('A', 'A', map=romania)\n",
    "r1 = RouteProblem('A', 'B', map=romania)\n",
    "r2 = RouteProblem('N', 'L', map=romania)\n",
    "r3 = RouteProblem('E', 'T', map=romania)\n",
    "r4 = RouteProblem('O', 'M', map=romania)"
   ]
  },
  {
   "cell_type": "code",
   "execution_count": 13,
   "metadata": {},
   "outputs": [
    {
     "data": {
      "text/plain": [
       "['A', 'S', 'R', 'P', 'B']"
      ]
     },
     "execution_count": 13,
     "metadata": {},
     "output_type": "execute_result"
    }
   ],
   "source": [
    "path_states(uniform_cost_search(r1)) # Lowest-cost path from Arab to Bucharest"
   ]
  },
  {
   "cell_type": "code",
   "execution_count": 14,
   "metadata": {},
   "outputs": [
    {
     "data": {
      "text/plain": [
       "['A', 'S', 'F', 'B']"
      ]
     },
     "execution_count": 14,
     "metadata": {},
     "output_type": "execute_result"
    }
   ],
   "source": [
    "path_states(breadth_first_search(r1)) # Breadth-first: fewer steps, higher path cost"
   ]
  },
  {
   "cell_type": "markdown",
   "metadata": {},
   "source": [
    "# Grid Problems\n",
    "\n",
    "A `GridProblem` involves navigating on a 2D grid, with some cells being impassible obstacles. By default you can move to any of the eight neighboring cells that are not obstacles (but in a problem instance you can supply a `directions=` keyword to change that). Again, the default heuristic is straight-line distance to the goal. States are `(x, y)` cell locations, such as `(4, 2)`, and actions are `(dx, dy)` cell movements, such as `(0, -1)`, which means leave the `x` coordinate alone, and decrement the `y` coordinate by 1."
   ]
  },
  {
   "cell_type": "code",
   "execution_count": 15,
   "metadata": {},
   "outputs": [],
   "source": [
    "class GridProblem(Problem):\n",
    "    \"\"\"Finding a path on a 2D grid with obstacles. Obstacles are (x, y) cells.\"\"\"\n",
    "\n",
    "    def __init__(self, initial=(15, 30), goal=(130, 30), obstacles=(), **kwds):\n",
    "        Problem.__init__(self, initial=initial, goal=goal, \n",
    "                         obstacles=set(obstacles) - {initial, goal}, **kwds)\n",
    "\n",
    "    directions = [(-1, -1), (0, -1), (1, -1),\n",
    "                  (-1, 0),           (1,  0),\n",
    "                  (-1, +1), (0, +1), (1, +1)]\n",
    "    \n",
    "    def step_cost(self, s, action, s1): return straight_line_distance(s, s1)\n",
    "    \n",
    "    def h(self, node): return straight_line_distance(node.state, self.goal)\n",
    "                  \n",
    "    def result(self, state, action): \n",
    "        \"Both states and actions are represented by (x, y) pairs.\"\n",
    "        return action if action not in self.obstacles else state\n",
    "    \n",
    "    def actions(self, state):\n",
    "        \"\"\"You can move one cell in any of `directions` to a non-obstacle cell.\"\"\"\n",
    "        x, y = state\n",
    "        return {(x + dx, y + dy) for (dx, dy) in self.directions} - self.obstacles\n",
    "    \n",
    "class ErraticVacuum(Problem):\n",
    "    def actions(self, state): \n",
    "        return ['suck', 'forward', 'backward']\n",
    "    \n",
    "    def results(self, state, action): return self.table[action][state]\n",
    "    \n",
    "    table = dict(suck=    {1:{5,7}, 2:{4,8}, 3:{7}, 4:{2,4}, 5:{1,5}, 6:{8}, 7:{3,7}, 8:{6,8}},\n",
    "                 forward= {1:{2}, 2:{2}, 3:{4}, 4:{4}, 5:{6}, 6:{6}, 7:{8}, 8:{8}},\n",
    "                 backward={1:{1}, 2:{1}, 3:{3}, 4:{3}, 5:{5}, 6:{5}, 7:{7}, 8:{7}})"
   ]
  },
  {
   "cell_type": "code",
   "execution_count": 16,
   "metadata": {},
   "outputs": [],
   "source": [
    "# Some grid routing problems\n",
    "\n",
    "# The following can be used to create obstacles:\n",
    "    \n",
    "def random_lines(X=range(15, 130), Y=range(60), N=150, lengths=range(6, 12)):\n",
    "    \"\"\"The set of cells in N random lines of the given lengths.\"\"\"\n",
    "    result = set()\n",
    "    for _ in range(N):\n",
    "        x, y = random.choice(X), random.choice(Y)\n",
    "        dx, dy = random.choice(((0, 1), (1, 0)))\n",
    "        result |= line(x, y, dx, dy, random.choice(lengths))\n",
    "    return result\n",
    "\n",
    "def line(x, y, dx, dy, length):\n",
    "    \"\"\"A line of `length` cells starting at (x, y) and going in (dx, dy) direction.\"\"\"\n",
    "    return {(x + i * dx, y + i * dy) for i in range(length)}\n",
    "\n",
    "random.seed(42) # To make this reproducible\n",
    "\n",
    "frame = line(-10, 20, 0, 1, 20) | line(150, 20, 0, 1, 20)\n",
    "cup = line(102, 44, -1, 0, 15) | line(102, 20, -1, 0, 20) | line(102, 44, 0, -1, 24)\n",
    "\n",
    "d1 = GridProblem(obstacles=random_lines(N=100) | frame)\n",
    "d2 = GridProblem(obstacles=random_lines(N=150) | frame)\n",
    "d3 = GridProblem(obstacles=random_lines(N=200) | frame)\n",
    "d4 = GridProblem(obstacles=random_lines(N=250) | frame)\n",
    "d5 = GridProblem(obstacles=random_lines(N=300) | frame)\n",
    "d6 = GridProblem(obstacles=cup | frame)\n",
    "d7 = GridProblem(obstacles=cup | frame | line(50, 35, 0, -1, 10) | line(60, 37, 0, -1, 17) | line(70, 31, 0, -1, 19))"
   ]
  },
  {
   "cell_type": "markdown",
   "metadata": {},
   "source": [
    "# 8 Puzzle Problems\n",
    "\n",
    "![](https://ece.uwaterloo.ca/~dwharder/aads/Algorithms/N_puzzles/images/puz3.png)\n",
    "\n",
    "A sliding tile puzzle where you can swap the blank with an adjacent piece, trying to reach a goal configuration. The cells are numbered 0 to 8, starting at the top left and going row by row left to right. The pieces are numebred 1 to 8, with 0 representing the blank. An action is the cell index number that is to be swapped with the blank (*not* the actual number to be swapped but the index into the state). So the diagram above left is the state `(5, 2, 7, 8, 4, 0, 1, 3, 6)`, and the action is `8`, because the cell number 8 (the 9th or last cell, the `6` in the bottom right) is swapped with the blank.\n",
    "\n",
    "There are two disjoint sets of states that cannot be reached from each other. One set has an even number of \"inversions\"; the other has an odd number. An inversion is when a piece in the state is larger than a piece that follows it.\n",
    "\n",
    "\n"
   ]
  },
  {
   "cell_type": "code",
   "execution_count": 20,
   "metadata": {},
   "outputs": [],
   "source": [
    "class EightPuzzle(Problem):\n",
    "    \"\"\" The problem of sliding tiles numbered from 1 to 8 on a 3x3 board,\n",
    "    where one of the squares is a blank, trying to reach a goal configuration.\n",
    "    A board state is represented as a tuple of length 9, where the element at index i \n",
    "    represents the tile number at index i, or 0 if for the empty square, e.g. the goal:\n",
    "        1 2 3\n",
    "        4 5 6 ==> (1, 2, 3, 4, 5, 6, 7, 8, 0)\n",
    "        7 8 _\n",
    "    \"\"\"\n",
    "\n",
    "    def __init__(self, initial, goal=(0, 1, 2, 3, 4, 5, 6, 7, 8)):\n",
    "        assert inversions(initial) % 2 == inversions(goal) % 2 # Parity check\n",
    "        self.initial, self.goal = initial, goal\n",
    "    \n",
    "    def actions(self, state):\n",
    "        \"\"\"The indexes of the squares that the blank can move to.\"\"\"\n",
    "        moves = ((1, 3),    (0, 2, 4),    (1, 5),\n",
    "                 (0, 4, 6), (1, 3, 5, 7), (2, 4, 8),\n",
    "                 (3, 7),    (4, 6, 8),    (7, 5))\n",
    "        blank = state.index(0)\n",
    "        return moves[blank]\n",
    "    \n",
    "    def result(self, state, action):\n",
    "        \"\"\"Swap the blank with the square numbered `action`.\"\"\"\n",
    "        s = list(state)\n",
    "        blank = state.index(0)\n",
    "        s[action], s[blank] = s[blank], s[action]\n",
    "        return tuple(s)\n",
    "    \n",
    "    def h1(self, node):\n",
    "        \"\"\"The misplaced tiles heuristic.\"\"\"\n",
    "        return hamming_distance(node.state, self.goal)\n",
    "    \n",
    "    def h2(self, node):\n",
    "        \"\"\"The Manhattan heuristic.\"\"\"\n",
    "        X = (0, 1, 2, 0, 1, 2, 0, 1, 2)\n",
    "        Y = (0, 0, 0, 1, 1, 1, 2, 2, 2)\n",
    "        return sum(abs(X[s] - X[g]) + abs(Y[s] - Y[g])\n",
    "                   for (s, g) in zip(node.state, self.goal) if s != 0)\n",
    "    \n",
    "    def h(self, node): return self.h2(node)\n",
    "    \n",
    "    \n",
    "def hamming_distance(A, B):\n",
    "    \"Number of positions where vectors A and B are different.\"\n",
    "    return sum(a != b for a, b in zip(A, B))\n",
    "    \n",
    "\n",
    "def inversions(board):\n",
    "    \"The number of times a piece is a smaller number than a following piece.\"\n",
    "    return sum((a > b and a != 0 and b != 0) for (a, b) in combinations(board, 2))\n",
    "    \n",
    "    \n",
    "def board8(board, fmt=(3 * '{} {} {}\\n')):\n",
    "    \"A string representing an 8-puzzle board\"\n",
    "    return fmt.format(*board).replace('0', '_')\n",
    "\n",
    "class Board(defaultdict):\n",
    "    empty = '.'\n",
    "    off = '#'\n",
    "    def __init__(self, board=None, width=8, height=8, to_move=None, **kwds):\n",
    "        if board is not None:\n",
    "            self.update(board)\n",
    "            self.width, self.height = (board.width, board.height) \n",
    "        else:\n",
    "            self.width, self.height = (width, height)\n",
    "        self.to_move = to_move\n",
    "\n",
    "    def __missing__(self, key):\n",
    "        x, y = key\n",
    "        if x < 0 or x >= self.width or y < 0 or y >= self.height:\n",
    "            return self.off\n",
    "        else:\n",
    "            return self.empty\n",
    "        \n",
    "    def __repr__(self):\n",
    "        def row(y): return ' '.join(self[x, y] for x in range(self.width))\n",
    "        return '\\n'.join(row(y) for y in range(self.height))\n",
    "            \n",
    "    def __hash__(self): \n",
    "        return hash(tuple(sorted(self.items()))) + hash(self.to_move)"
   ]
  },
  {
   "cell_type": "code",
   "execution_count": 21,
   "metadata": {},
   "outputs": [],
   "source": [
    "# Some specific EightPuzzle problems\n",
    "\n",
    "e1 = EightPuzzle((1, 4, 2, 0, 7, 5, 3, 6, 8))\n",
    "e2 = EightPuzzle((1, 2, 3, 4, 5, 6, 7, 8, 0))\n",
    "e3 = EightPuzzle((4, 0, 2, 5, 1, 3, 7, 8, 6))\n",
    "e4 = EightPuzzle((7, 2, 4, 5, 0, 6, 8, 3, 1))\n",
    "e5 = EightPuzzle((8, 6, 7, 2, 5, 4, 3, 0, 1))"
   ]
  },
  {
   "cell_type": "code",
   "execution_count": 22,
   "metadata": {},
   "outputs": [
    {
     "name": "stdout",
     "output_type": "stream",
     "text": [
      "1 4 2\n",
      "_ 7 5\n",
      "3 6 8\n",
      "\n",
      "1 4 2\n",
      "3 7 5\n",
      "_ 6 8\n",
      "\n",
      "1 4 2\n",
      "3 7 5\n",
      "6 _ 8\n",
      "\n",
      "1 4 2\n",
      "3 _ 5\n",
      "6 7 8\n",
      "\n",
      "1 _ 2\n",
      "3 4 5\n",
      "6 7 8\n",
      "\n",
      "_ 1 2\n",
      "3 4 5\n",
      "6 7 8\n",
      "\n"
     ]
    }
   ],
   "source": [
    "# Solve an 8 puzzle problem and print out each state\n",
    "\n",
    "for s in path_states(astar_search(e1)):\n",
    "    print(board8(s))"
   ]
  },
  {
   "cell_type": "markdown",
   "metadata": {},
   "source": [
    "# Water Pouring Problems\n",
    "\n",
    "![](http://puzzles.nigelcoldwell.co.uk/images/water22.png)\n",
    "\n",
    "In a [water pouring problem](https://en.wikipedia.org/wiki/Water_pouring_puzzle) you are given a collection of jugs, each of which has a size (capacity) in, say, litres, and a current level of water (in litres). The goal is to measure out a certain level of water; it can appear in any of the jugs. For example, in the movie *Die Hard 3*, the heroes were faced with the task of making exactly 4 gallons from jugs of size 5 gallons and 3 gallons.) A state is represented by a tuple of current water levels, and the available actions are:\n",
    "- `(Fill, i)`: fill the `i`th jug all the way to the top (from a tap with unlimited water).\n",
    "- `(Dump, i)`: dump all the water out of the `i`th jug.\n",
    "- `(Pour, i, j)`: pour water from the `i`th jug into the `j`th jug until either the jug `i` is empty, or jug `j` is full, whichever comes first."
   ]
  },
  {
   "cell_type": "code",
   "execution_count": 23,
   "metadata": {},
   "outputs": [],
   "source": [
    "class PourProblem(Problem):\n",
    "    \"\"\"Problem about pouring water between jugs to achieve some water level.\n",
    "    Each state is a tuples of water levels. In the initialization, also provide a tuple of \n",
    "    jug sizes, e.g. PourProblem(initial=(0, 0), goal=4, sizes=(5, 3)), \n",
    "    which means two jugs of sizes 5 and 3, initially both empty, with the goal\n",
    "    of getting a level of 4 in either jug.\"\"\"\n",
    "    \n",
    "    def actions(self, state):\n",
    "        \"\"\"The actions executable in this state.\"\"\"\n",
    "        jugs = range(len(state))\n",
    "        return ([('Fill', i)    for i in jugs if state[i] < self.sizes[i]] +\n",
    "                [('Dump', i)    for i in jugs if state[i]] +\n",
    "                [('Pour', i, j) for i in jugs if state[i] for j in jugs if i != j])\n",
    "\n",
    "    def result(self, state, action):\n",
    "        \"\"\"The state that results from executing this action in this state.\"\"\"\n",
    "        result = list(state)\n",
    "        act, i, *_ = action\n",
    "        if act == 'Fill':   # Fill i to capacity\n",
    "            result[i] = self.sizes[i]\n",
    "        elif act == 'Dump': # Empty i\n",
    "            result[i] = 0\n",
    "        elif act == 'Pour': # Pour from i into j\n",
    "            j = action[2]\n",
    "            amount = min(state[i], self.sizes[j] - state[j])\n",
    "            result[i] -= amount\n",
    "            result[j] += amount\n",
    "        return tuple(result)\n",
    "\n",
    "    def is_goal(self, state):\n",
    "        \"\"\"True if the goal level is in any one of the jugs.\"\"\"\n",
    "        return self.goal in state"
   ]
  },
  {
   "cell_type": "markdown",
   "metadata": {},
   "source": [
    "In a `GreenPourProblem`, the states and actions are the same, but instead of all actions costing 1, in these problems the cost of an action is the amount of water that flows from the tap. (There is an issue that non-*Fill* actions have 0 cost, which in general can lead to indefinitely long solutions, but in this problem there is a finite number of states, so we're ok.)"
   ]
  },
  {
   "cell_type": "code",
   "execution_count": 24,
   "metadata": {},
   "outputs": [],
   "source": [
    "class GreenPourProblem(PourProblem): \n",
    "    \"\"\"A PourProblem in which the cost is the amount of water used.\"\"\"\n",
    "    def action_cost(self, s, action, s1):\n",
    "        \"The cost is the amount of water used.\"\n",
    "        act, i, *_ = action\n",
    "        return self.sizes[i] - s[i] if act == 'Fill' else 0"
   ]
  },
  {
   "cell_type": "code",
   "execution_count": 25,
   "metadata": {},
   "outputs": [],
   "source": [
    "# Some specific PourProblems\n",
    "\n",
    "p1 = PourProblem((1, 1, 1), 13, sizes=(2, 16, 32))\n",
    "p2 = PourProblem((0, 0, 0), 21, sizes=(8, 11, 31))\n",
    "p3 = PourProblem((0, 0),     8, sizes=(7,9))\n",
    "p4 = PourProblem((0, 0, 0), 21, sizes=(8, 11, 31))\n",
    "p5 = PourProblem((0, 0),     4, sizes=(3, 5))\n",
    "\n",
    "g1 = GreenPourProblem((1, 1, 1), 13, sizes=(2, 16, 32))\n",
    "g2 = GreenPourProblem((0, 0, 0), 21, sizes=(8, 11, 31))\n",
    "g3 = GreenPourProblem((0, 0),     8, sizes=(7,9))\n",
    "g4 = GreenPourProblem((0, 0, 0), 21, sizes=(8, 11, 31))\n",
    "g5 = GreenPourProblem((0, 0),     4, sizes=(3, 5))"
   ]
  },
  {
   "cell_type": "code",
   "execution_count": 26,
   "metadata": {},
   "outputs": [
    {
     "data": {
      "text/plain": [
       "([('Fill', 1), ('Pour', 1, 0), ('Dump', 0), ('Pour', 1, 0)],\n",
       " [(1, 1, 1), (1, 16, 1), (2, 15, 1), (0, 15, 1), (2, 13, 1)])"
      ]
     },
     "execution_count": 26,
     "metadata": {},
     "output_type": "execute_result"
    }
   ],
   "source": [
    "# Solve the PourProblem of getting 13 in some jug, and show the actions and states\n",
    "soln = breadth_first_search(p1)\n",
    "path_actions(soln), path_states(soln)"
   ]
  },
  {
   "cell_type": "markdown",
   "metadata": {},
   "source": [
    "# Pancake Sorting Problems\n",
    "\n",
    "Given a stack of pancakes of various sizes, can you sort them into a stack of decreasing sizes, largest on bottom to smallest on top? You have a spatula with which you can flip the top `i` pancakes. This is shown below for `i = 3`; on the top the spatula grabs the first three pancakes; on the bottom we see them flipped:\n",
    "\n",
    "\n",
    "![](https://upload.wikimedia.org/wikipedia/commons/0/0f/Pancake_sort_operation.png)\n",
    "\n",
    "How many flips will it take to get the whole stack sorted? This is an interesting [problem](https://en.wikipedia.org/wiki/Pancake_sorting) that Bill Gates has [written about](https://people.eecs.berkeley.edu/~christos/papers/Bounds%20For%20Sorting%20By%20Prefix%20Reversal.pdf). A reasonable heuristic for this problem is the *gap heuristic*: if we look at neighboring pancakes, if, say, the 2nd smallest is next to the 3rd smallest, that's good; they should stay next to each other. But if the 2nd smallest is next to the 4th smallest, that's bad: we will require at least one move to separate them and insert the 3rd smallest between them. The gap heuristic counts the number of neighbors that have a gap like this. In our specification of the problem, pancakes are ranked by size: the smallest is `1`, the 2nd smallest `2`, and so on, and the representation of a state is a tuple of these rankings, from the top to the bottom pancake. Thus the goal state is always `(1, 2, ..., `*n*`)` and the initial (top) state in the diagram above is `(2, 1, 4, 6, 3, 5)`.\n"
   ]
  },
  {
   "cell_type": "code",
   "execution_count": 27,
   "metadata": {},
   "outputs": [],
   "source": [
    "class PancakeProblem(Problem):\n",
    "    \"\"\"A PancakeProblem the goal is always `tuple(range(1, n+1))`, where the\n",
    "    initial state is a permutation of `range(1, n+1)`. An act is the index `i` \n",
    "    of the top `i` pancakes that will be flipped.\"\"\"\n",
    "    \n",
    "    def __init__(self, initial): \n",
    "        self.initial, self.goal = tuple(initial), tuple(sorted(initial))\n",
    "    \n",
    "    def actions(self, state): return range(2, len(state) + 1)\n",
    "\n",
    "    def result(self, state, i): return state[:i][::-1] + state[i:]\n",
    "    \n",
    "    def h(self, node):\n",
    "        \"The gap heuristic.\"\n",
    "        s = node.state\n",
    "        return sum(abs(s[i] - s[i - 1]) > 1 for i in range(1, len(s)))"
   ]
  },
  {
   "cell_type": "code",
   "execution_count": 28,
   "metadata": {},
   "outputs": [],
   "source": [
    "c0 = PancakeProblem((2, 1, 4, 6, 3, 5))\n",
    "c1 = PancakeProblem((4, 6, 2, 5, 1, 3))\n",
    "c2 = PancakeProblem((1, 3, 7, 5, 2, 6, 4))\n",
    "c3 = PancakeProblem((1, 7, 2, 6, 3, 5, 4))\n",
    "c4 = PancakeProblem((1, 3, 5, 7, 9, 2, 4, 6, 8))"
   ]
  },
  {
   "cell_type": "code",
   "execution_count": 29,
   "metadata": {},
   "outputs": [
    {
     "data": {
      "text/plain": [
       "[(2, 1, 4, 6, 3, 5),\n",
       " (6, 4, 1, 2, 3, 5),\n",
       " (5, 3, 2, 1, 4, 6),\n",
       " (4, 1, 2, 3, 5, 6),\n",
       " (3, 2, 1, 4, 5, 6),\n",
       " (1, 2, 3, 4, 5, 6)]"
      ]
     },
     "execution_count": 29,
     "metadata": {},
     "output_type": "execute_result"
    }
   ],
   "source": [
    "# Solve a pancake problem\n",
    "path_states(astar_search(c0))"
   ]
  },
  {
   "cell_type": "markdown",
   "metadata": {},
   "source": [
    "# Jumping Frogs Puzzle\n",
    "\n",
    "In this puzzle (which also can be played as a two-player game), the initial state is a line of squares, with N pieces of one kind on the left, then one empty square, then N pieces of another kind on the right. The diagram below uses 2 blue toads and 2 red frogs; we will represent this as the string `'LL.RR'`. The goal is to swap the pieces, arriving at `'RR.LL'`. An `'L'` piece moves left-to-right, either sliding one space ahead to an empty space, or two spaces ahead if that space is empty and if there is an `'R'` in between to hop over. The `'R'` pieces move right-to-left analogously. An action will be an `(i, j)` pair meaning to swap the pieces at those indexes. The set of actions for the N = 2 position below is `{(1, 2), (3, 2)}`, meaning either the blue toad in position 1 or the red frog in position 3 can swap places with the blank in position 2.\n",
    "\n",
    "![](https://upload.wikimedia.org/wikipedia/commons/2/2f/ToadsAndFrogs.png)"
   ]
  },
  {
   "cell_type": "code",
   "execution_count": 30,
   "metadata": {},
   "outputs": [],
   "source": [
    "class JumpingPuzzle(Problem):\n",
    "    \"\"\"Try to exchange L and R by moving one ahead or hopping two ahead.\"\"\"\n",
    "    def __init__(self, N=2):\n",
    "        self.initial = N*'L' + '.' + N*'R'\n",
    "        self.goal = self.initial[::-1]\n",
    "        \n",
    "    def actions(self, state):\n",
    "        \"\"\"Find all possible move or hop moves.\"\"\"\n",
    "        idxs = range(len(state))\n",
    "        return ({(i, i + 1) for i in idxs if state[i:i+2] == 'L.'}   # Slide\n",
    "               |{(i, i + 2) for i in idxs if state[i:i+3] == 'LR.'}  # Hop\n",
    "               |{(i + 1, i) for i in idxs if state[i:i+2] == '.R'}   # Slide\n",
    "               |{(i + 2, i) for i in idxs if state[i:i+3] == '.LR'}) # Hop\n",
    "\n",
    "    def result(self, state, action):\n",
    "        \"\"\"An action (i, j) means swap the pieces at positions i and j.\"\"\"\n",
    "        i, j = action\n",
    "        result = list(state)\n",
    "        result[i], result[j] = state[j], state[i]\n",
    "        return ''.join(result)\n",
    "    \n",
    "    def h(self, node): return hamming_distance(node.state, self.goal)"
   ]
  },
  {
   "cell_type": "code",
   "execution_count": 31,
   "metadata": {},
   "outputs": [
    {
     "data": {
      "text/plain": [
       "{(1, 2), (3, 2)}"
      ]
     },
     "execution_count": 31,
     "metadata": {},
     "output_type": "execute_result"
    }
   ],
   "source": [
    "JumpingPuzzle(N=2).actions('LL.RR')"
   ]
  },
  {
   "cell_type": "code",
   "execution_count": 32,
   "metadata": {},
   "outputs": [
    {
     "data": {
      "text/plain": [
       "['LLL.RRR',\n",
       " 'LLLR.RR',\n",
       " 'LL.RLRR',\n",
       " 'L.LRLRR',\n",
       " 'LRL.LRR',\n",
       " 'LRLRL.R',\n",
       " 'LRLRLR.',\n",
       " 'LRLR.RL',\n",
       " 'LR.RLRL',\n",
       " '.RLRLRL',\n",
       " 'R.LRLRL',\n",
       " 'RRL.LRL',\n",
       " 'RRLRL.L',\n",
       " 'RRLR.LL',\n",
       " 'RR.RLLL',\n",
       " 'RRR.LLL']"
      ]
     },
     "execution_count": 32,
     "metadata": {},
     "output_type": "execute_result"
    }
   ],
   "source": [
    "j3 = JumpingPuzzle(N=3)\n",
    "j9 = JumpingPuzzle(N=9)\n",
    "path_states(astar_search(j3))"
   ]
  },
  {
   "cell_type": "markdown",
   "metadata": {},
   "source": [
    "# Reporting Summary Statistics on Search Algorithms\n",
    "\n",
    "Now let's gather some metrics on how well each algorithm does.  We'll use `CountCalls` to wrap a `Problem` object in such a way that calls to its methods are delegated to the original problem, but each call increments a counter. Once we've solved the problem, we print out summary statistics."
   ]
  },
  {
   "cell_type": "code",
   "execution_count": 33,
   "metadata": {},
   "outputs": [],
   "source": [
    "class CountCalls:\n",
    "    \"\"\"Delegate all attribute gets to the object, and count them in ._counts\"\"\"\n",
    "    def __init__(self, obj):\n",
    "        self._object = obj\n",
    "        self._counts = Counter()\n",
    "        \n",
    "    def __getattr__(self, attr):\n",
    "        \"Delegate to the original object, after incrementing a counter.\"\n",
    "        self._counts[attr] += 1\n",
    "        return getattr(self._object, attr)\n",
    "\n",
    "        \n",
    "def report(searchers, problems, verbose=True):\n",
    "    \"\"\"Show summary statistics for each searcher (and on each problem unless verbose is false).\"\"\"\n",
    "    for searcher in searchers:\n",
    "        print(searcher.__name__ + ':')\n",
    "        total_counts = Counter()\n",
    "        for p in problems:\n",
    "            prob   = CountCalls(p)\n",
    "            soln   = searcher(prob)\n",
    "            counts = prob._counts; \n",
    "            counts.update(actions=len(soln), cost=soln.path_cost)\n",
    "            total_counts += counts\n",
    "            if verbose: report_counts(counts, str(p)[:40])\n",
    "        report_counts(total_counts, 'TOTAL\\n')\n",
    "        \n",
    "def report_counts(counts, name):\n",
    "    \"\"\"Print one line of the counts report.\"\"\"\n",
    "    print('{:9,d} nodes |{:9,d} goal |{:5.0f} cost |{:8,d} actions | {}'.format(\n",
    "          counts['result'], counts['is_goal'], counts['cost'], counts['actions'], name))"
   ]
  },
  {
   "cell_type": "markdown",
   "metadata": {},
   "source": [
    "Here's a tiny report for uniform-cost search on the jug pouring problems:"
   ]
  },
  {
   "cell_type": "code",
   "execution_count": 34,
   "metadata": {},
   "outputs": [
    {
     "name": "stdout",
     "output_type": "stream",
     "text": [
      "uniform_cost_search:\n",
      "      948 nodes |      109 goal |    4 cost |     112 actions | PourProblem((1, 1, 1), 13)\n",
      "    3,499 nodes |      389 goal |    9 cost |     397 actions | PourProblem((0, 0, 0), 21)\n",
      "      124 nodes |       30 goal |   14 cost |      43 actions | PourProblem((0, 0), 8)\n",
      "    3,499 nodes |      389 goal |    9 cost |     397 actions | PourProblem((0, 0, 0), 21)\n",
      "       52 nodes |       14 goal |    6 cost |      19 actions | PourProblem((0, 0), 4)\n",
      "    8,122 nodes |      931 goal |   42 cost |     968 actions | TOTAL\n",
      "\n"
     ]
    }
   ],
   "source": [
    "report([uniform_cost_search], [p1, p2, p3, p4, p5])"
   ]
  },
  {
   "cell_type": "code",
   "execution_count": 35,
   "metadata": {},
   "outputs": [
    {
     "name": "stdout",
     "output_type": "stream",
     "text": [
      "uniform_cost_search:\n",
      "      948 nodes |      109 goal |    4 cost |     112 actions | PourProblem((1, 1, 1), 13)\n",
      "      948 nodes |      109 goal |    4 cost |     112 actions | GreenPourProblem((1, 1, 1), 13)\n",
      "    3,499 nodes |      389 goal |    9 cost |     397 actions | PourProblem((0, 0, 0), 21)\n",
      "    3,499 nodes |      389 goal |    9 cost |     397 actions | GreenPourProblem((0, 0, 0), 21)\n",
      "      124 nodes |       30 goal |   14 cost |      43 actions | PourProblem((0, 0), 8)\n",
      "      124 nodes |       30 goal |   14 cost |      43 actions | GreenPourProblem((0, 0), 8)\n",
      "    3,499 nodes |      389 goal |    9 cost |     397 actions | PourProblem((0, 0, 0), 21)\n",
      "    3,499 nodes |      389 goal |    9 cost |     397 actions | GreenPourProblem((0, 0, 0), 21)\n",
      "    3,499 nodes |      389 goal |    9 cost |     397 actions | PourProblem((0, 0, 0), 21)\n",
      "    3,499 nodes |      389 goal |    9 cost |     397 actions | GreenPourProblem((0, 0, 0), 21)\n",
      "    3,590 nodes |      719 goal |    7 cost |     725 actions | PancakeProblem((4, 6, 2, 5, 1, 3), (1, 2\n",
      "   30,204 nodes |    5,035 goal |    8 cost |   5,042 actions | PancakeProblem((1, 3, 7, 5, 2, 6, 4), (1\n",
      "   22,068 nodes |    3,679 goal |    6 cost |   3,684 actions | PancakeProblem((1, 7, 2, 6, 3, 5, 4), (1\n",
      "   79,000 nodes |   12,045 goal |  111 cost |  12,143 actions | TOTAL\n",
      "\n",
      "breadth_first_search:\n",
      "      596 nodes |      597 goal |    4 cost |      73 actions | PourProblem((1, 1, 1), 13)\n",
      "      596 nodes |      597 goal |    4 cost |      73 actions | GreenPourProblem((1, 1, 1), 13)\n",
      "    2,618 nodes |    2,619 goal |    9 cost |     302 actions | PourProblem((0, 0, 0), 21)\n",
      "    2,618 nodes |    2,619 goal |    9 cost |     302 actions | GreenPourProblem((0, 0, 0), 21)\n",
      "      120 nodes |      121 goal |   14 cost |      42 actions | PourProblem((0, 0), 8)\n",
      "      120 nodes |      121 goal |   14 cost |      42 actions | GreenPourProblem((0, 0), 8)\n",
      "    2,618 nodes |    2,619 goal |    9 cost |     302 actions | PourProblem((0, 0, 0), 21)\n",
      "    2,618 nodes |    2,619 goal |    9 cost |     302 actions | GreenPourProblem((0, 0, 0), 21)\n",
      "    2,618 nodes |    2,619 goal |    9 cost |     302 actions | PourProblem((0, 0, 0), 21)\n",
      "    2,618 nodes |    2,619 goal |    9 cost |     302 actions | GreenPourProblem((0, 0, 0), 21)\n",
      "    2,951 nodes |    2,952 goal |    7 cost |     598 actions | PancakeProblem((4, 6, 2, 5, 1, 3), (1, 2\n",
      "   25,945 nodes |   25,946 goal |    8 cost |   4,333 actions | PancakeProblem((1, 3, 7, 5, 2, 6, 4), (1\n",
      "    5,975 nodes |    5,976 goal |    6 cost |   1,002 actions | PancakeProblem((1, 7, 2, 6, 3, 5, 4), (1\n",
      "   52,011 nodes |   52,024 goal |  111 cost |   7,975 actions | TOTAL\n",
      "\n"
     ]
    }
   ],
   "source": [
    "report((uniform_cost_search, breadth_first_search), \n",
    "       (p1, g1, p2, g2, p3, g3, p4, g4, p4, g4, c1, c2, c3)) "
   ]
  },
  {
   "cell_type": "markdown",
   "metadata": {},
   "source": [
    "# Comparing heuristics\n",
    "\n",
    "First, let's look at the eight puzzle problems, and compare three different heuristics the Manhattan heuristic, the less informative misplaced tiles heuristic, and the uninformed (i.e. *h* = 0) breadth-first search:"
   ]
  },
  {
   "cell_type": "code",
   "execution_count": 36,
   "metadata": {
    "scrolled": false
   },
   "outputs": [
    {
     "name": "stdout",
     "output_type": "stream",
     "text": [
      "breadth_first_search:\n",
      "       81 nodes |       82 goal |    5 cost |      35 actions | EightPuzzle((1, 4, 2, 0, 7, 5, 3, 6, 8),\n",
      "  160,948 nodes |  160,949 goal |   22 cost |  59,960 actions | EightPuzzle((1, 2, 3, 4, 5, 6, 7, 8, 0),\n",
      "  218,263 nodes |  218,264 goal |   23 cost |  81,829 actions | EightPuzzle((4, 0, 2, 5, 1, 3, 7, 8, 6),\n",
      "  418,771 nodes |  418,772 goal |   26 cost | 156,533 actions | EightPuzzle((7, 2, 4, 5, 0, 6, 8, 3, 1),\n",
      "  448,667 nodes |  448,668 goal |   27 cost | 167,799 actions | EightPuzzle((8, 6, 7, 2, 5, 4, 3, 0, 1),\n",
      "1,246,730 nodes |1,246,735 goal |  103 cost | 466,156 actions | TOTAL\n",
      "\n",
      "astar_misplaced_tiles:\n",
      "       17 nodes |        7 goal |    5 cost |      11 actions | EightPuzzle((1, 4, 2, 0, 7, 5, 3, 6, 8),\n",
      "   23,407 nodes |    8,726 goal |   22 cost |   8,747 actions | EightPuzzle((1, 2, 3, 4, 5, 6, 7, 8, 0),\n",
      "   38,632 nodes |   14,433 goal |   23 cost |  14,455 actions | EightPuzzle((4, 0, 2, 5, 1, 3, 7, 8, 6),\n",
      "  124,324 nodes |   46,553 goal |   26 cost |  46,578 actions | EightPuzzle((7, 2, 4, 5, 0, 6, 8, 3, 1),\n",
      "  156,111 nodes |   58,475 goal |   27 cost |  58,501 actions | EightPuzzle((8, 6, 7, 2, 5, 4, 3, 0, 1),\n",
      "  342,491 nodes |  128,194 goal |  103 cost | 128,292 actions | TOTAL\n",
      "\n",
      "astar_search:\n",
      "       15 nodes |        6 goal |    5 cost |      10 actions | EightPuzzle((1, 4, 2, 0, 7, 5, 3, 6, 8),\n",
      "    3,614 nodes |    1,349 goal |   22 cost |   1,370 actions | EightPuzzle((1, 2, 3, 4, 5, 6, 7, 8, 0),\n",
      "    5,373 nodes |    2,010 goal |   23 cost |   2,032 actions | EightPuzzle((4, 0, 2, 5, 1, 3, 7, 8, 6),\n",
      "   10,832 nodes |    4,086 goal |   26 cost |   4,111 actions | EightPuzzle((7, 2, 4, 5, 0, 6, 8, 3, 1),\n",
      "   11,669 nodes |    4,417 goal |   27 cost |   4,443 actions | EightPuzzle((8, 6, 7, 2, 5, 4, 3, 0, 1),\n",
      "   31,503 nodes |   11,868 goal |  103 cost |  11,966 actions | TOTAL\n",
      "\n"
     ]
    }
   ],
   "source": [
    "def astar_misplaced_tiles(problem): return astar_search(problem, h=problem.h1)\n",
    "\n",
    "report([breadth_first_search, astar_misplaced_tiles, astar_search], \n",
    "       [e1, e2, e3, e4, e5])"
   ]
  },
  {
   "cell_type": "markdown",
   "metadata": {},
   "source": [
    "We see that all three algorithms get cost-optimal solutions, but the better the heuristic, the fewer nodes explored. \n",
    "Compared to the uninformed search, the misplaced tiles heuristic explores about 1/4 the number of nodes, and the Manhattan heuristic needs just 2%.\n",
    "\n",
    "Next, we can show the value of the gap heuristic for pancake sorting problems:"
   ]
  },
  {
   "cell_type": "code",
   "execution_count": 37,
   "metadata": {},
   "outputs": [
    {
     "name": "stdout",
     "output_type": "stream",
     "text": [
      "astar_search:\n",
      "    1,285 nodes |      258 goal |    7 cost |     264 actions | PancakeProblem((4, 6, 2, 5, 1, 3), (1, 2\n",
      "    3,804 nodes |      635 goal |    8 cost |     642 actions | PancakeProblem((1, 3, 7, 5, 2, 6, 4), (1\n",
      "      294 nodes |       50 goal |    6 cost |      55 actions | PancakeProblem((1, 7, 2, 6, 3, 5, 4), (1\n",
      "    2,256 nodes |      283 goal |    9 cost |     291 actions | PancakeProblem((1, 3, 5, 7, 9, 2, 4, 6, \n",
      "    7,639 nodes |    1,226 goal |   30 cost |   1,252 actions | TOTAL\n",
      "\n",
      "uniform_cost_search:\n",
      "    3,590 nodes |      719 goal |    7 cost |     725 actions | PancakeProblem((4, 6, 2, 5, 1, 3), (1, 2\n",
      "   30,204 nodes |    5,035 goal |    8 cost |   5,042 actions | PancakeProblem((1, 3, 7, 5, 2, 6, 4), (1\n",
      "   22,068 nodes |    3,679 goal |    6 cost |   3,684 actions | PancakeProblem((1, 7, 2, 6, 3, 5, 4), (1\n",
      "2,271,792 nodes |  283,975 goal |    9 cost | 283,983 actions | PancakeProblem((1, 3, 5, 7, 9, 2, 4, 6, \n",
      "2,327,654 nodes |  293,408 goal |   30 cost | 293,434 actions | TOTAL\n",
      "\n"
     ]
    }
   ],
   "source": [
    "report([astar_search, uniform_cost_search], [c1, c2, c3, c4])"
   ]
  },
  {
   "cell_type": "markdown",
   "metadata": {},
   "source": [
    "We need to explore 300 times more nodes without the heuristic.\n",
    "\n",
    "# Comparing graph search and tree search\n",
    "\n",
    "Keeping the *reached* table in `best_first_search` allows us to do a graph search, where we notice when we reach a state by two different paths, rather than a tree search, where we have duplicated effort. The *reached* table consumes space and also saves time. How much time? In part it depends on how good the heuristics are at focusing the search.  Below we show that on some pancake and eight puzzle problems, the tree search expands roughly twice as many nodes (and thus takes roughly twice as much time):"
   ]
  },
  {
   "cell_type": "code",
   "execution_count": 38,
   "metadata": {},
   "outputs": [
    {
     "name": "stdout",
     "output_type": "stream",
     "text": [
      "astar_search:\n",
      "       15 nodes |        6 goal |    5 cost |      10 actions | EightPuzzle((1, 4, 2, 0, 7, 5, 3, 6, 8),\n",
      "    3,614 nodes |    1,349 goal |   22 cost |   1,370 actions | EightPuzzle((1, 2, 3, 4, 5, 6, 7, 8, 0),\n",
      "    5,373 nodes |    2,010 goal |   23 cost |   2,032 actions | EightPuzzle((4, 0, 2, 5, 1, 3, 7, 8, 6),\n",
      "   10,832 nodes |    4,086 goal |   26 cost |   4,111 actions | EightPuzzle((7, 2, 4, 5, 0, 6, 8, 3, 1),\n",
      "       15 nodes |        6 goal |  418 cost |       9 actions | RouteProblem('A', 'B')\n",
      "       34 nodes |       15 goal |  910 cost |      23 actions | RouteProblem('N', 'L')\n",
      "       33 nodes |       14 goal |  805 cost |      21 actions | RouteProblem('E', 'T')\n",
      "       20 nodes |        9 goal |  445 cost |      13 actions | RouteProblem('O', 'M')\n",
      "   19,936 nodes |    7,495 goal | 2654 cost |   7,589 actions | TOTAL\n",
      "\n",
      "astar_tree_search:\n",
      "       15 nodes |        6 goal |    5 cost |      10 actions | EightPuzzle((1, 4, 2, 0, 7, 5, 3, 6, 8),\n",
      "    5,384 nodes |    2,000 goal |   22 cost |   2,021 actions | EightPuzzle((1, 2, 3, 4, 5, 6, 7, 8, 0),\n",
      "    9,116 nodes |    3,404 goal |   23 cost |   3,426 actions | EightPuzzle((4, 0, 2, 5, 1, 3, 7, 8, 6),\n",
      "   19,084 nodes |    7,185 goal |   26 cost |   7,210 actions | EightPuzzle((7, 2, 4, 5, 0, 6, 8, 3, 1),\n",
      "       15 nodes |        6 goal |  418 cost |       9 actions | RouteProblem('A', 'B')\n",
      "       47 nodes |       19 goal |  910 cost |      27 actions | RouteProblem('N', 'L')\n",
      "       46 nodes |       18 goal |  805 cost |      25 actions | RouteProblem('E', 'T')\n",
      "       24 nodes |       10 goal |  445 cost |      14 actions | RouteProblem('O', 'M')\n",
      "   33,731 nodes |   12,648 goal | 2654 cost |  12,742 actions | TOTAL\n",
      "\n"
     ]
    }
   ],
   "source": [
    "report([astar_search, astar_tree_search], [e1, e2, e3, e4, r1, r2, r3, r4])"
   ]
  },
  {
   "cell_type": "markdown",
   "metadata": {},
   "source": [
    "# Comparing different weighted search values\n",
    "\n",
    "Below we report on problems using these four algorithms:\n",
    "\n",
    "|Algorithm|*f*|Optimality|\n",
    "|:---------|---:|:----------:|\n",
    "|Greedy best-first search | *f = h*|nonoptimal|\n",
    "|Extra weighted A* search | *f = g + 2 &times; h*|nonoptimal|\n",
    "|Weighted A* search | *f = g + 1.4 &times; h*|nonoptimal|\n",
    "|A* search | *f = g + h*|optimal|\n",
    "|Uniform-cost search | *f = g*|optimal|\n",
    "\n",
    "We will see that greedy best-first search (which ranks nodes solely by the heuristic) explores the fewest number of nodes, but has the highest path costs. Weighted A* search explores twice as many nodes (on this problem set) but gets 10% better path costs. A* is optimal, but explores more nodes, and uniform-cost is also optimal, but explores an order of magnitude more nodes."
   ]
  },
  {
   "cell_type": "code",
   "execution_count": 39,
   "metadata": {
    "scrolled": false
   },
   "outputs": [
    {
     "name": "stdout",
     "output_type": "stream",
     "text": [
      "greedy_bfs:\n",
      "        0 nodes |        1 goal |    0 cost |       0 actions | RouteProblem('A', 'A')\n",
      "        9 nodes |        4 goal |  450 cost |       6 actions | RouteProblem('A', 'B')\n",
      "       28 nodes |       12 goal | 1207 cost |      22 actions | RouteProblem('N', 'L')\n",
      "       19 nodes |        8 goal |  837 cost |      14 actions | RouteProblem('E', 'T')\n",
      "       14 nodes |        6 goal |  572 cost |      10 actions | RouteProblem('O', 'M')\n",
      "       15 nodes |        6 goal |    5 cost |      10 actions | EightPuzzle((1, 4, 2, 0, 7, 5, 3, 6, 8),\n",
      "      909 nodes |      138 goal |  136 cost |     258 actions | GridProblem((15, 30), (130, 30))\n",
      "      974 nodes |      147 goal |  152 cost |     277 actions | GridProblem((15, 30), (130, 30))\n",
      "    5,146 nodes |    4,984 goal |   99 cost |   5,082 actions | JumpingPuzzle('LLLLLLLLL.RRRRRRRRR', 'RR\n",
      "    1,569 nodes |      568 goal |   58 cost |     625 actions | EightPuzzle((1, 2, 3, 4, 5, 6, 7, 8, 0),\n",
      "    1,424 nodes |      257 goal |  164 cost |     406 actions | GridProblem((15, 30), (130, 30))\n",
      "    1,899 nodes |      342 goal |  153 cost |     470 actions | GridProblem((15, 30), (130, 30))\n",
      "   18,239 nodes |    2,439 goal |  134 cost |   2,564 actions | GridProblem((15, 30), (130, 30))\n",
      "   18,329 nodes |    2,460 goal |  152 cost |   2,594 actions | GridProblem((15, 30), (130, 30))\n",
      "      287 nodes |      109 goal |   33 cost |     141 actions | EightPuzzle((4, 0, 2, 5, 1, 3, 7, 8, 6),\n",
      "    1,128 nodes |      408 goal |   46 cost |     453 actions | EightPuzzle((7, 2, 4, 5, 0, 6, 8, 3, 1),\n",
      "   49,989 nodes |   11,889 goal | 4198 cost |  12,932 actions | TOTAL\n",
      "\n",
      "extra_weighted_astar_search:\n",
      "        0 nodes |        1 goal |    0 cost |       0 actions | RouteProblem('A', 'A')\n",
      "        9 nodes |        4 goal |  450 cost |       6 actions | RouteProblem('A', 'B')\n",
      "       31 nodes |       13 goal |  910 cost |      21 actions | RouteProblem('N', 'L')\n",
      "       23 nodes |        9 goal |  805 cost |      16 actions | RouteProblem('E', 'T')\n",
      "       18 nodes |        8 goal |  445 cost |      12 actions | RouteProblem('O', 'M')\n",
      "       15 nodes |        6 goal |    5 cost |      10 actions | EightPuzzle((1, 4, 2, 0, 7, 5, 3, 6, 8),\n",
      "    1,575 nodes |      239 goal |  136 cost |     357 actions | GridProblem((15, 30), (130, 30))\n",
      "    1,384 nodes |      231 goal |  133 cost |     349 actions | GridProblem((15, 30), (130, 30))\n",
      "   10,990 nodes |   10,660 goal |   99 cost |  10,758 actions | JumpingPuzzle('LLLLLLLLL.RRRRRRRRR', 'RR\n",
      "    1,720 nodes |      633 goal |   24 cost |     656 actions | EightPuzzle((1, 2, 3, 4, 5, 6, 7, 8, 0),\n",
      "    9,282 nodes |    1,412 goal |  163 cost |   1,551 actions | GridProblem((15, 30), (130, 30))\n",
      "    1,354 nodes |      228 goal |  134 cost |     345 actions | GridProblem((15, 30), (130, 30))\n",
      "   16,024 nodes |    2,098 goal |  129 cost |   2,214 actions | GridProblem((15, 30), (130, 30))\n",
      "   16,950 nodes |    2,237 goal |  140 cost |   2,359 actions | GridProblem((15, 30), (130, 30))\n",
      "    1,908 nodes |      709 goal |   25 cost |     733 actions | EightPuzzle((4, 0, 2, 5, 1, 3, 7, 8, 6),\n",
      "    1,312 nodes |      489 goal |   30 cost |     518 actions | EightPuzzle((7, 2, 4, 5, 0, 6, 8, 3, 1),\n",
      "   62,595 nodes |   18,977 goal | 3628 cost |  19,905 actions | TOTAL\n",
      "\n",
      "weighted_astar_search:\n",
      "        0 nodes |        1 goal |    0 cost |       0 actions | RouteProblem('A', 'A')\n",
      "        9 nodes |        4 goal |  450 cost |       6 actions | RouteProblem('A', 'B')\n",
      "       32 nodes |       14 goal |  910 cost |      22 actions | RouteProblem('N', 'L')\n",
      "       28 nodes |       11 goal |  805 cost |      18 actions | RouteProblem('E', 'T')\n",
      "       18 nodes |        8 goal |  445 cost |      12 actions | RouteProblem('O', 'M')\n",
      "       15 nodes |        6 goal |    5 cost |      10 actions | EightPuzzle((1, 4, 2, 0, 7, 5, 3, 6, 8),\n",
      "    1,631 nodes |      236 goal |  128 cost |     350 actions | GridProblem((15, 30), (130, 30))\n",
      "    1,706 nodes |      275 goal |  131 cost |     389 actions | GridProblem((15, 30), (130, 30))\n",
      "   10,990 nodes |   10,660 goal |   99 cost |  10,758 actions | JumpingPuzzle('LLLLLLLLL.RRRRRRRRR', 'RR\n",
      "    2,082 nodes |      771 goal |   22 cost |     792 actions | EightPuzzle((1, 2, 3, 4, 5, 6, 7, 8, 0),\n",
      "    8,385 nodes |    1,266 goal |  154 cost |   1,396 actions | GridProblem((15, 30), (130, 30))\n",
      "    1,400 nodes |      229 goal |  133 cost |     344 actions | GridProblem((15, 30), (130, 30))\n",
      "   12,122 nodes |    1,572 goal |  124 cost |   1,686 actions | GridProblem((15, 30), (130, 30))\n",
      "   24,129 nodes |    3,141 goal |  127 cost |   3,255 actions | GridProblem((15, 30), (130, 30))\n",
      "    3,960 nodes |    1,475 goal |   25 cost |   1,499 actions | EightPuzzle((4, 0, 2, 5, 1, 3, 7, 8, 6),\n",
      "    1,992 nodes |      748 goal |   26 cost |     773 actions | EightPuzzle((7, 2, 4, 5, 0, 6, 8, 3, 1),\n",
      "   68,499 nodes |   20,417 goal | 3585 cost |  21,310 actions | TOTAL\n",
      "\n",
      "astar_search:\n",
      "        0 nodes |        1 goal |    0 cost |       0 actions | RouteProblem('A', 'A')\n",
      "       15 nodes |        6 goal |  418 cost |       9 actions | RouteProblem('A', 'B')\n",
      "       34 nodes |       15 goal |  910 cost |      23 actions | RouteProblem('N', 'L')\n",
      "       33 nodes |       14 goal |  805 cost |      21 actions | RouteProblem('E', 'T')\n",
      "       20 nodes |        9 goal |  445 cost |      13 actions | RouteProblem('O', 'M')\n",
      "       15 nodes |        6 goal |    5 cost |      10 actions | EightPuzzle((1, 4, 2, 0, 7, 5, 3, 6, 8),\n",
      "   26,711 nodes |    3,620 goal |  127 cost |   3,734 actions | GridProblem((15, 30), (130, 30))\n",
      "   12,932 nodes |    1,822 goal |  124 cost |   1,936 actions | GridProblem((15, 30), (130, 30))\n",
      "   10,991 nodes |   10,661 goal |   99 cost |  10,759 actions | JumpingPuzzle('LLLLLLLLL.RRRRRRRRR', 'RR\n",
      "    3,614 nodes |    1,349 goal |   22 cost |   1,370 actions | EightPuzzle((1, 2, 3, 4, 5, 6, 7, 8, 0),\n",
      "   62,509 nodes |    8,729 goal |  154 cost |   8,859 actions | GridProblem((15, 30), (130, 30))\n",
      "   15,190 nodes |    2,276 goal |  133 cost |   2,391 actions | GridProblem((15, 30), (130, 30))\n",
      "   25,303 nodes |    3,196 goal |  124 cost |   3,310 actions | GridProblem((15, 30), (130, 30))\n",
      "   32,572 nodes |    4,149 goal |  127 cost |   4,263 actions | GridProblem((15, 30), (130, 30))\n",
      "    5,373 nodes |    2,010 goal |   23 cost |   2,032 actions | EightPuzzle((4, 0, 2, 5, 1, 3, 7, 8, 6),\n",
      "   10,832 nodes |    4,086 goal |   26 cost |   4,111 actions | EightPuzzle((7, 2, 4, 5, 0, 6, 8, 3, 1),\n",
      "  206,144 nodes |   41,949 goal | 3543 cost |  42,841 actions | TOTAL\n",
      "\n",
      "uniform_cost_search:\n",
      "        0 nodes |        1 goal |    0 cost |       0 actions | RouteProblem('A', 'A')\n",
      "       30 nodes |       13 goal |  418 cost |      16 actions | RouteProblem('A', 'B')\n",
      "       42 nodes |       19 goal |  910 cost |      27 actions | RouteProblem('N', 'L')\n",
      "       44 nodes |       20 goal |  805 cost |      27 actions | RouteProblem('E', 'T')\n",
      "       30 nodes |       12 goal |  445 cost |      16 actions | RouteProblem('O', 'M')\n",
      "      124 nodes |       46 goal |    5 cost |      50 actions | EightPuzzle((1, 4, 2, 0, 7, 5, 3, 6, 8),\n",
      "  355,452 nodes |   44,984 goal |  127 cost |  45,098 actions | GridProblem((15, 30), (130, 30))\n",
      "  326,962 nodes |   41,650 goal |  124 cost |  41,764 actions | GridProblem((15, 30), (130, 30))\n",
      "   10,992 nodes |   10,662 goal |   99 cost |  10,760 actions | JumpingPuzzle('LLLLLLLLL.RRRRRRRRR', 'RR\n",
      "  214,952 nodes |   79,187 goal |   22 cost |  79,208 actions | EightPuzzle((1, 2, 3, 4, 5, 6, 7, 8, 0),\n",
      "  558,084 nodes |   70,738 goal |  154 cost |  70,868 actions | GridProblem((15, 30), (130, 30))\n",
      "  370,370 nodes |   47,243 goal |  133 cost |  47,358 actions | GridProblem((15, 30), (130, 30))\n",
      "  349,062 nodes |   43,693 goal |  124 cost |  43,807 actions | GridProblem((15, 30), (130, 30))\n",
      "  366,996 nodes |   45,970 goal |  127 cost |  46,084 actions | GridProblem((15, 30), (130, 30))\n",
      "  300,925 nodes |  112,082 goal |   23 cost | 112,104 actions | EightPuzzle((4, 0, 2, 5, 1, 3, 7, 8, 6),\n",
      "  457,766 nodes |  171,571 goal |   26 cost | 171,596 actions | EightPuzzle((7, 2, 4, 5, 0, 6, 8, 3, 1),\n",
      "3,311,831 nodes |  667,891 goal | 3543 cost | 668,783 actions | TOTAL\n",
      "\n"
     ]
    }
   ],
   "source": [
    "def extra_weighted_astar_search(problem): return weighted_astar_search(problem, weight=2)\n",
    "    \n",
    "report((greedy_bfs, extra_weighted_astar_search, weighted_astar_search, astar_search, uniform_cost_search), \n",
    "       (r0, r1, r2, r3, r4, e1, d1, d2, j9, e2, d3, d4, d6, d7, e3, e4))"
   ]
  },
  {
   "cell_type": "markdown",
   "metadata": {},
   "source": [
    "We see that greedy search expands the fewest nodes, but has the highest path costs. In contrast, A\\* gets optimal path costs, but expands 4 or 5 times more nodes. Weighted A* is a good compromise, using half the compute time as A\\*, and achieving path costs within  1% or 2% of optimal. Uniform-cost is optimal, but is an order of magnitude slower than A\\*.\n",
    "\n",
    "# Comparing  many search algorithms\n",
    "\n",
    "Finally, we compare a host of algorihms (even the slow ones) on some of the easier problems:"
   ]
  },
  {
   "cell_type": "code",
   "execution_count": 40,
   "metadata": {
    "scrolled": false
   },
   "outputs": [
    {
     "name": "stdout",
     "output_type": "stream",
     "text": [
      "astar_search:\n",
      "      948 nodes |      109 goal |    4 cost |     112 actions | PourProblem((1, 1, 1), 13)\n",
      "      948 nodes |      109 goal |    4 cost |     112 actions | GreenPourProblem((1, 1, 1), 13)\n",
      "    3,499 nodes |      389 goal |    9 cost |     397 actions | PourProblem((0, 0, 0), 21)\n",
      "    3,499 nodes |      389 goal |    9 cost |     397 actions | GreenPourProblem((0, 0, 0), 21)\n",
      "      124 nodes |       30 goal |   14 cost |      43 actions | PourProblem((0, 0), 8)\n",
      "      124 nodes |       30 goal |   14 cost |      43 actions | GreenPourProblem((0, 0), 8)\n",
      "    3,499 nodes |      389 goal |    9 cost |     397 actions | PourProblem((0, 0, 0), 21)\n",
      "    3,499 nodes |      389 goal |    9 cost |     397 actions | GreenPourProblem((0, 0, 0), 21)\n",
      "        0 nodes |        1 goal |    0 cost |       0 actions | RouteProblem('A', 'A')\n",
      "       15 nodes |        6 goal |  418 cost |       9 actions | RouteProblem('A', 'B')\n",
      "       34 nodes |       15 goal |  910 cost |      23 actions | RouteProblem('N', 'L')\n",
      "       33 nodes |       14 goal |  805 cost |      21 actions | RouteProblem('E', 'T')\n",
      "       20 nodes |        9 goal |  445 cost |      13 actions | RouteProblem('O', 'M')\n",
      "       15 nodes |        6 goal |    5 cost |      10 actions | EightPuzzle((1, 4, 2, 0, 7, 5, 3, 6, 8),\n",
      "   16,257 nodes |    1,885 goal | 2655 cost |   1,974 actions | TOTAL\n",
      "\n",
      "uniform_cost_search:\n",
      "      948 nodes |      109 goal |    4 cost |     112 actions | PourProblem((1, 1, 1), 13)\n",
      "      948 nodes |      109 goal |    4 cost |     112 actions | GreenPourProblem((1, 1, 1), 13)\n",
      "    3,499 nodes |      389 goal |    9 cost |     397 actions | PourProblem((0, 0, 0), 21)\n",
      "    3,499 nodes |      389 goal |    9 cost |     397 actions | GreenPourProblem((0, 0, 0), 21)\n",
      "      124 nodes |       30 goal |   14 cost |      43 actions | PourProblem((0, 0), 8)\n",
      "      124 nodes |       30 goal |   14 cost |      43 actions | GreenPourProblem((0, 0), 8)\n",
      "    3,499 nodes |      389 goal |    9 cost |     397 actions | PourProblem((0, 0, 0), 21)\n",
      "    3,499 nodes |      389 goal |    9 cost |     397 actions | GreenPourProblem((0, 0, 0), 21)\n",
      "        0 nodes |        1 goal |    0 cost |       0 actions | RouteProblem('A', 'A')\n",
      "       30 nodes |       13 goal |  418 cost |      16 actions | RouteProblem('A', 'B')\n",
      "       42 nodes |       19 goal |  910 cost |      27 actions | RouteProblem('N', 'L')\n",
      "       44 nodes |       20 goal |  805 cost |      27 actions | RouteProblem('E', 'T')\n",
      "       30 nodes |       12 goal |  445 cost |      16 actions | RouteProblem('O', 'M')\n",
      "      124 nodes |       46 goal |    5 cost |      50 actions | EightPuzzle((1, 4, 2, 0, 7, 5, 3, 6, 8),\n",
      "   16,410 nodes |    1,945 goal | 2655 cost |   2,034 actions | TOTAL\n",
      "\n",
      "breadth_first_search:\n",
      "      596 nodes |      597 goal |    4 cost |      73 actions | PourProblem((1, 1, 1), 13)\n",
      "      596 nodes |      597 goal |    4 cost |      73 actions | GreenPourProblem((1, 1, 1), 13)\n",
      "    2,618 nodes |    2,619 goal |    9 cost |     302 actions | PourProblem((0, 0, 0), 21)\n",
      "    2,618 nodes |    2,619 goal |    9 cost |     302 actions | GreenPourProblem((0, 0, 0), 21)\n",
      "      120 nodes |      121 goal |   14 cost |      42 actions | PourProblem((0, 0), 8)\n",
      "      120 nodes |      121 goal |   14 cost |      42 actions | GreenPourProblem((0, 0), 8)\n",
      "    2,618 nodes |    2,619 goal |    9 cost |     302 actions | PourProblem((0, 0, 0), 21)\n",
      "    2,618 nodes |    2,619 goal |    9 cost |     302 actions | GreenPourProblem((0, 0, 0), 21)\n",
      "        0 nodes |        1 goal |    0 cost |       0 actions | RouteProblem('A', 'A')\n",
      "       18 nodes |       19 goal |  450 cost |      10 actions | RouteProblem('A', 'B')\n",
      "       42 nodes |       43 goal | 1085 cost |      27 actions | RouteProblem('N', 'L')\n",
      "       36 nodes |       37 goal |  837 cost |      22 actions | RouteProblem('E', 'T')\n",
      "       30 nodes |       31 goal |  445 cost |      16 actions | RouteProblem('O', 'M')\n",
      "       81 nodes |       82 goal |    5 cost |      35 actions | EightPuzzle((1, 4, 2, 0, 7, 5, 3, 6, 8),\n",
      "   12,111 nodes |   12,125 goal | 2894 cost |   1,548 actions | TOTAL\n",
      "\n",
      "breadth_first_bfs:\n",
      "      948 nodes |      109 goal |    4 cost |     112 actions | PourProblem((1, 1, 1), 13)\n",
      "      948 nodes |      109 goal |    4 cost |     112 actions | GreenPourProblem((1, 1, 1), 13)\n",
      "    3,499 nodes |      389 goal |    9 cost |     397 actions | PourProblem((0, 0, 0), 21)\n",
      "    3,499 nodes |      389 goal |    9 cost |     397 actions | GreenPourProblem((0, 0, 0), 21)\n",
      "      124 nodes |       30 goal |   14 cost |      43 actions | PourProblem((0, 0), 8)\n",
      "      124 nodes |       30 goal |   14 cost |      43 actions | GreenPourProblem((0, 0), 8)\n",
      "    3,499 nodes |      389 goal |    9 cost |     397 actions | PourProblem((0, 0, 0), 21)\n",
      "    3,499 nodes |      389 goal |    9 cost |     397 actions | GreenPourProblem((0, 0, 0), 21)\n",
      "        0 nodes |        1 goal |    0 cost |       0 actions | RouteProblem('A', 'A')\n",
      "       28 nodes |       12 goal |  450 cost |      14 actions | RouteProblem('A', 'B')\n",
      "       55 nodes |       24 goal |  910 cost |      32 actions | RouteProblem('N', 'L')\n",
      "       51 nodes |       22 goal |  837 cost |      28 actions | RouteProblem('E', 'T')\n",
      "       40 nodes |       16 goal |  445 cost |      20 actions | RouteProblem('O', 'M')\n",
      "      124 nodes |       46 goal |    5 cost |      50 actions | EightPuzzle((1, 4, 2, 0, 7, 5, 3, 6, 8),\n",
      "   16,438 nodes |    1,955 goal | 2719 cost |   2,042 actions | TOTAL\n",
      "\n",
      "iterative_deepening_search:\n",
      "    6,133 nodes |    6,118 goal |    4 cost |     822 actions | PourProblem((1, 1, 1), 13)\n",
      "    6,133 nodes |    6,118 goal |    4 cost |     822 actions | GreenPourProblem((1, 1, 1), 13)\n",
      "  288,706 nodes |  288,675 goal |    9 cost |  36,962 actions | PourProblem((0, 0, 0), 21)\n",
      "  288,706 nodes |  288,675 goal |    9 cost |  36,962 actions | GreenPourProblem((0, 0, 0), 21)\n",
      "    3,840 nodes |    3,824 goal |   14 cost |     949 actions | PourProblem((0, 0), 8)\n",
      "    3,840 nodes |    3,824 goal |   14 cost |     949 actions | GreenPourProblem((0, 0), 8)\n",
      "  288,706 nodes |  288,675 goal |    9 cost |  36,962 actions | PourProblem((0, 0, 0), 21)\n",
      "  288,706 nodes |  288,675 goal |    9 cost |  36,962 actions | GreenPourProblem((0, 0, 0), 21)\n",
      "        0 nodes |        1 goal |    0 cost |       0 actions | RouteProblem('A', 'A')\n",
      "       27 nodes |       25 goal |  450 cost |      13 actions | RouteProblem('A', 'B')\n",
      "      167 nodes |      173 goal |  910 cost |      82 actions | RouteProblem('N', 'L')\n",
      "      117 nodes |      120 goal |  837 cost |      56 actions | RouteProblem('E', 'T')\n",
      "      108 nodes |      109 goal |  572 cost |      44 actions | RouteProblem('O', 'M')\n",
      "      116 nodes |      118 goal |    5 cost |      47 actions | EightPuzzle((1, 4, 2, 0, 7, 5, 3, 6, 8),\n",
      "1,175,305 nodes |1,175,130 goal | 2846 cost | 151,632 actions | TOTAL\n",
      "\n",
      "depth_limited_search:\n",
      "    4,433 nodes |    4,374 goal |   10 cost |     627 actions | PourProblem((1, 1, 1), 13)\n",
      "    4,433 nodes |    4,374 goal |   10 cost |     627 actions | GreenPourProblem((1, 1, 1), 13)\n",
      "   37,149 nodes |   37,106 goal |   10 cost |   4,753 actions | PourProblem((0, 0, 0), 21)\n",
      "   37,149 nodes |   37,106 goal |   10 cost |   4,753 actions | GreenPourProblem((0, 0, 0), 21)\n",
      "      452 nodes |      453 goal |  inf cost |     110 actions | PourProblem((0, 0), 8)\n",
      "      452 nodes |      453 goal |  inf cost |     110 actions | GreenPourProblem((0, 0), 8)\n",
      "   37,149 nodes |   37,106 goal |   10 cost |   4,753 actions | PourProblem((0, 0, 0), 21)\n",
      "   37,149 nodes |   37,106 goal |   10 cost |   4,753 actions | GreenPourProblem((0, 0, 0), 21)\n",
      "        0 nodes |        1 goal |    0 cost |       0 actions | RouteProblem('A', 'A')\n",
      "       17 nodes |        8 goal |  733 cost |      14 actions | RouteProblem('A', 'B')\n",
      "       40 nodes |       38 goal |  910 cost |      26 actions | RouteProblem('N', 'L')\n",
      "       29 nodes |       23 goal |  992 cost |      20 actions | RouteProblem('E', 'T')\n",
      "       35 nodes |       29 goal |  895 cost |      22 actions | RouteProblem('O', 'M')\n",
      "      351 nodes |      349 goal |    5 cost |     138 actions | EightPuzzle((1, 4, 2, 0, 7, 5, 3, 6, 8),\n",
      "  158,838 nodes |  158,526 goal |  inf cost |  20,706 actions | TOTAL\n",
      "\n",
      "greedy_bfs:\n",
      "      948 nodes |      109 goal |    4 cost |     112 actions | PourProblem((1, 1, 1), 13)\n",
      "      948 nodes |      109 goal |    4 cost |     112 actions | GreenPourProblem((1, 1, 1), 13)\n",
      "    3,499 nodes |      389 goal |    9 cost |     397 actions | PourProblem((0, 0, 0), 21)\n",
      "    3,499 nodes |      389 goal |    9 cost |     397 actions | GreenPourProblem((0, 0, 0), 21)\n",
      "      124 nodes |       30 goal |   14 cost |      43 actions | PourProblem((0, 0), 8)\n",
      "      124 nodes |       30 goal |   14 cost |      43 actions | GreenPourProblem((0, 0), 8)\n",
      "    3,499 nodes |      389 goal |    9 cost |     397 actions | PourProblem((0, 0, 0), 21)\n",
      "    3,499 nodes |      389 goal |    9 cost |     397 actions | GreenPourProblem((0, 0, 0), 21)\n",
      "        0 nodes |        1 goal |    0 cost |       0 actions | RouteProblem('A', 'A')\n",
      "        9 nodes |        4 goal |  450 cost |       6 actions | RouteProblem('A', 'B')\n",
      "       28 nodes |       12 goal | 1207 cost |      22 actions | RouteProblem('N', 'L')\n",
      "       19 nodes |        8 goal |  837 cost |      14 actions | RouteProblem('E', 'T')\n",
      "       14 nodes |        6 goal |  572 cost |      10 actions | RouteProblem('O', 'M')\n",
      "       15 nodes |        6 goal |    5 cost |      10 actions | EightPuzzle((1, 4, 2, 0, 7, 5, 3, 6, 8),\n",
      "   16,225 nodes |    1,871 goal | 3143 cost |   1,960 actions | TOTAL\n",
      "\n",
      "weighted_astar_search:\n",
      "      948 nodes |      109 goal |    4 cost |     112 actions | PourProblem((1, 1, 1), 13)\n",
      "      948 nodes |      109 goal |    4 cost |     112 actions | GreenPourProblem((1, 1, 1), 13)\n",
      "    3,499 nodes |      389 goal |    9 cost |     397 actions | PourProblem((0, 0, 0), 21)\n",
      "    3,499 nodes |      389 goal |    9 cost |     397 actions | GreenPourProblem((0, 0, 0), 21)\n",
      "      124 nodes |       30 goal |   14 cost |      43 actions | PourProblem((0, 0), 8)\n",
      "      124 nodes |       30 goal |   14 cost |      43 actions | GreenPourProblem((0, 0), 8)\n",
      "    3,499 nodes |      389 goal |    9 cost |     397 actions | PourProblem((0, 0, 0), 21)\n",
      "    3,499 nodes |      389 goal |    9 cost |     397 actions | GreenPourProblem((0, 0, 0), 21)\n",
      "        0 nodes |        1 goal |    0 cost |       0 actions | RouteProblem('A', 'A')\n",
      "        9 nodes |        4 goal |  450 cost |       6 actions | RouteProblem('A', 'B')\n",
      "       32 nodes |       14 goal |  910 cost |      22 actions | RouteProblem('N', 'L')\n",
      "       28 nodes |       11 goal |  805 cost |      18 actions | RouteProblem('E', 'T')\n",
      "       18 nodes |        8 goal |  445 cost |      12 actions | RouteProblem('O', 'M')\n",
      "       15 nodes |        6 goal |    5 cost |      10 actions | EightPuzzle((1, 4, 2, 0, 7, 5, 3, 6, 8),\n",
      "   16,242 nodes |    1,878 goal | 2687 cost |   1,966 actions | TOTAL\n",
      "\n",
      "extra_weighted_astar_search:\n",
      "      948 nodes |      109 goal |    4 cost |     112 actions | PourProblem((1, 1, 1), 13)\n",
      "      948 nodes |      109 goal |    4 cost |     112 actions | GreenPourProblem((1, 1, 1), 13)\n",
      "    3,499 nodes |      389 goal |    9 cost |     397 actions | PourProblem((0, 0, 0), 21)\n",
      "    3,499 nodes |      389 goal |    9 cost |     397 actions | GreenPourProblem((0, 0, 0), 21)\n",
      "      124 nodes |       30 goal |   14 cost |      43 actions | PourProblem((0, 0), 8)\n",
      "      124 nodes |       30 goal |   14 cost |      43 actions | GreenPourProblem((0, 0), 8)\n",
      "    3,499 nodes |      389 goal |    9 cost |     397 actions | PourProblem((0, 0, 0), 21)\n"
     ]
    },
    {
     "name": "stdout",
     "output_type": "stream",
     "text": [
      "    3,499 nodes |      389 goal |    9 cost |     397 actions | GreenPourProblem((0, 0, 0), 21)\n",
      "        0 nodes |        1 goal |    0 cost |       0 actions | RouteProblem('A', 'A')\n",
      "        9 nodes |        4 goal |  450 cost |       6 actions | RouteProblem('A', 'B')\n",
      "       31 nodes |       13 goal |  910 cost |      21 actions | RouteProblem('N', 'L')\n",
      "       23 nodes |        9 goal |  805 cost |      16 actions | RouteProblem('E', 'T')\n",
      "       18 nodes |        8 goal |  445 cost |      12 actions | RouteProblem('O', 'M')\n",
      "       15 nodes |        6 goal |    5 cost |      10 actions | EightPuzzle((1, 4, 2, 0, 7, 5, 3, 6, 8),\n",
      "   16,236 nodes |    1,875 goal | 2687 cost |   1,963 actions | TOTAL\n",
      "\n"
     ]
    }
   ],
   "source": [
    "report((astar_search, uniform_cost_search,  breadth_first_search, breadth_first_bfs, \n",
    "        iterative_deepening_search, depth_limited_search, greedy_bfs, \n",
    "        weighted_astar_search, extra_weighted_astar_search), \n",
    "       (p1, g1, p2, g2, p3, g3, p4, g4, r0, r1, r2, r3, r4, e1))"
   ]
  },
  {
   "cell_type": "markdown",
   "metadata": {},
   "source": [
    "This confirms some of the things we already knew: A* and uniform-cost search are optimal, but the others are not. A* explores fewer nodes than uniform-cost. "
   ]
  },
  {
   "cell_type": "markdown",
   "metadata": {},
   "source": [
    "# Visualizing Reached States\n",
    "\n",
    "I would like to draw a picture of the state space, marking the states that have been reached by the search.\n",
    "Unfortunately, the *reached* variable is inaccessible inside `best_first_search`, so I will define a new version of `best_first_search` that is identical except that it declares *reached* to be `global`. I can then define `plot_grid_problem` to plot the obstacles of a `GridProblem`, along with the initial and goal states, the solution path, and the states reached during a search."
   ]
  },
  {
   "cell_type": "code",
   "execution_count": 41,
   "metadata": {},
   "outputs": [],
   "source": [
    "def best_first_search(problem, f):\n",
    "    \"Search nodes with minimum f(node) value first.\"\n",
    "    global reached # <<<<<<<<<<< Only change here\n",
    "    node = Node(problem.initial)\n",
    "    frontier = PriorityQueue([node], key=f)\n",
    "    reached = {problem.initial: node}\n",
    "    while frontier:\n",
    "        node = frontier.pop()\n",
    "        if problem.is_goal(node.state):\n",
    "            return node\n",
    "        for child in expand(problem, node):\n",
    "            s = child.state\n",
    "            if s not in reached or child.path_cost < reached[s].path_cost:\n",
    "                reached[s] = child\n",
    "                frontier.add(child)\n",
    "    return failure\n",
    "\n",
    "\n",
    "def plot_grid_problem(grid, solution, reached=(), title='Search', show=True):\n",
    "    \"Use matplotlib to plot the grid, obstacles, solution, and reached.\"\n",
    "    reached = list(reached)\n",
    "    plt.figure(figsize=(16, 10))\n",
    "    plt.axis('off'); plt.axis('equal')\n",
    "    plt.scatter(*transpose(grid.obstacles), marker='s', color='darkgrey')\n",
    "    plt.scatter(*transpose(reached), 1**2, marker='.', c='blue')\n",
    "    plt.scatter(*transpose(path_states(solution)), marker='s', c='blue')\n",
    "    plt.scatter(*transpose([grid.initial]), 9**2, marker='D', c='green')\n",
    "    plt.scatter(*transpose([grid.goal]), 9**2, marker='8', c='red')\n",
    "    if show: plt.show()\n",
    "    print('{} {} search: {:.1f} path cost, {:,d} states reached'\n",
    "          .format(' ' * 10, title, solution.path_cost, len(reached)))\n",
    "    \n",
    "def plots(grid, weights=(1.4, 2)): \n",
    "    \"\"\"Plot the results of 4 heuristic search algorithms for this grid.\"\"\"\n",
    "    solution = astar_search(grid)\n",
    "    plot_grid_problem(grid, solution, reached, 'A* search')\n",
    "    for weight in weights:\n",
    "        solution = weighted_astar_search(grid, weight=weight)\n",
    "        plot_grid_problem(grid, solution, reached, '(b) Weighted ({}) A* search'.format(weight))\n",
    "    solution = greedy_bfs(grid)\n",
    "    plot_grid_problem(grid, solution, reached, 'Greedy best-first search')\n",
    "    \n",
    "def transpose(matrix): return list(zip(*matrix))"
   ]
  },
  {
   "cell_type": "code",
   "execution_count": 83,
   "metadata": {},
   "outputs": [],
   "source": [
    "class AnimateProblem(GridProblem):\n",
    "    def __init__(self, solver, weight=1.4, cell_weights=None, **kwargs):\n",
    "        \"\"\"Aniamte the Grid Problem\"\"\"\n",
    "        super().__init__(**kwargs)\n",
    "        self.weight = weight\n",
    "        self.cell_weights = cell_weights # We may change the ceel_weights in case of Uniform Cost search\n",
    "        if self.cell_weights is None:\n",
    "            self.cell_weights = np.ones((self.width+5, self.height+5), dtype=np.int16)\n",
    "        # Define all the allowed solvers and their f-value function.\n",
    "        self.SOLVERS = {'astar': (lambda n: n.path_cost + self.h(n)),\n",
    "                        'wastar': (lambda n: n.path_cost + self.weight*self.h(n)),\n",
    "                        'bfs': (lambda n: len(n)),\n",
    "                        'dfs': (lambda n: -len(n)),\n",
    "                        'ucs': (lambda n: n.path_cost),\n",
    "                        'bestfs': (lambda n: self.h(n))\n",
    "                       }\n",
    "        self.solver_f = self.SOLVERS[solver] # Assign the solver's f-value function\n",
    "        self.solver = solver\n",
    "        self.__initial_node = Node(self.initial)\n",
    "        # Dictionary of reach nodes. Simlar to `explored` set.\n",
    "        self.reached = {self.initial: self.__initial_node}\n",
    "        # Frontier of nodes to beexplored!\n",
    "        self.frontier = PriorityQueue([self.__initial_node], key=self.solver_f)\n",
    "        # We will draw each frame onto this figure\n",
    "        self.fig, self.ax = plt.subplots(figsize=(10, 6))\n",
    "        self.solution = [(-1, -1)]\n",
    "        self.ax.axis('off')\n",
    "        self.ax.axis('equal')\n",
    "        self.done = False\n",
    "    \n",
    "    def step_cost(self, s, a, s1):\n",
    "        \"\"\"Return the cost of moving from s to s1\"\"\"\n",
    "        return self.cell_weights[s1[0]][s1[1]]\n",
    "    \n",
    "    def draw_walls(self):\n",
    "        \"\"\"Draws wall around the grid to stop exploring redundant nodes\"\"\"\n",
    "        self.obstacles |= {(i, -2) for i in range(-2, self.width+4)}\n",
    "        self.obstacles |= {(i, self.height+4) for i in range(-2, self.width+4)}\n",
    "        self.obstacles |= {(-2, j) for j in range(-2, self.height+5)}\n",
    "        self.obstacles |= {(self.width+4, j) for j in range(-2, self.height+5)}\n",
    "        \n",
    "    def step(self, frame):\n",
    "        \"\"\"\n",
    "        One step of search algorithm.\n",
    "        Explore a node in the frontier and plot\n",
    "        all the scatter plots again to create a frame.\n",
    "        A collection of these frames will be used to\n",
    "        create the animation by matplotlib.\n",
    "        \"\"\"\n",
    "        # If we are done, don't do anything.\n",
    "        if self.done:\n",
    "            return self.sc1, self.sc2, self.sc3, self.sc4, self.sc5, self.sc6\n",
    "        \n",
    "        # Run the search algorithm for a single\n",
    "        # node in the frontier.\n",
    "        node = self.frontier.pop()\n",
    "        self.solution = path_states(node)\n",
    "        if self.is_goal(node.state):\n",
    "            self.done = True\n",
    "        else:\n",
    "            for child in expand(self, node):\n",
    "                s = child.state\n",
    "                if s not in self.reached or child.path_cost < self.reached[s].path_cost:\n",
    "                    self.reached[s] = child\n",
    "                    self.frontier.add(child)\n",
    "\n",
    "        # Plot all the new states onto our figure\n",
    "        # and return them to matplotlib for creating animation.\n",
    "        self.ax.clear()\n",
    "        self.ax.axis('off')\n",
    "        self.ax.axis('equal')\n",
    "        self.sc1 = self.ax.scatter(*transpose(self.obstacles), marker='s', color='darkgrey')\n",
    "        self.sc2 = self.ax.scatter(*transpose(list(self.reached)), 1**2, marker='.', c='blue')\n",
    "        self.sc3 = self.ax.scatter(*transpose(self.solution), marker='s', c='blue')\n",
    "        self.sc4 = self.ax.scatter(*transpose([node.state]), 9**2, marker='8', c='yellow')\n",
    "        self.sc5 = self.ax.scatter(*transpose([self.initial]), 9**2, marker='D', c='green')\n",
    "        self.sc6 = self.ax.scatter(*transpose([self.goal]), 9**2, marker='8', c='red')\n",
    "        plt.title(f\"Explored: {len(self.reached)}, Path Cost: {node.path_cost}\\nSolver: {self.solver}\")\n",
    "        return self.sc1, self.sc2, self.sc3, self.sc4, self.sc5, self.sc6\n",
    "        \n",
    "    def run(self):\n",
    "        \"\"\"\n",
    "        Run the main loop of the problem to\n",
    "        create an animation. If you are running\n",
    "        on your local machine, you can save animations\n",
    "        in you system by using the following commands:\n",
    "        First, you need to download the ffmpeg using:\n",
    "        Linux/MacOS: `sudo apt install ffmpeg`\n",
    "        Then you can use the following line of code to generate\n",
    "        a video of the animation.\n",
    "        Linux/MacOS : `anim.save('animation.mp4')`\n",
    "        For Windows users, the process is a little longer:\n",
    "        Download ffmpeg by following this article: https://www.wikihow.com/Install-FFmpeg-on-Windows\n",
    "        Then the animation can be saved in a video format as follows:\n",
    "        Windows: `anim.save('animation.mp4')`\n",
    "        \n",
    "        If the animation is not complete, increase the number\n",
    "        of frames in the below lines of code. ---------------------------------\n",
    "                                                                               |\n",
    "                                                                              \\/\n",
    "        \"\"\"\n",
    "        anim = FuncAnimation(self.fig, self.step, blit=True, interval=200, frames=200)\n",
    "        return anim.to_html5_video()"
   ]
  },
  {
   "cell_type": "code",
   "execution_count": 84,
   "metadata": {},
   "outputs": [
    {
     "data": {
      "text/html": [
       "<video width=\"720\" height=\"432\" controls autoplay loop>\n",
       "  <source type=\"video/mp4\" src=\"data:video/mp4;base64,AAAAIGZ0eXBNNFYgAAACAE00ViBpc29taXNvMmF2YzEAAAAIZnJlZQAAp+dtZGF0AAACoAYF//+c\n",
       "3EXpvebZSLeWLNgg2SPu73gyNjQgLSBjb3JlIDE1OSAtIEguMjY0L01QRUctNCBBVkMgY29kZWMg\n",
       "LSBDb3B5bGVmdCAyMDAzLTIwMTkgLSBodHRwOi8vd3d3LnZpZGVvbGFuLm9yZy94MjY0Lmh0bWwg\n",
       "LSBvcHRpb25zOiBjYWJhYz0xIHJlZj0zIGRlYmxvY2s9MTowOjAgYW5hbHlzZT0weDM6MHgxMTMg\n",
       "bWU9aGV4IHN1Ym1lPTcgcHN5PTEgcHN5X3JkPTEuMDA6MC4wMCBtaXhlZF9yZWY9MSBtZV9yYW5n\n",
       "ZT0xNiBjaHJvbWFfbWU9MSB0cmVsbGlzPTEgOHg4ZGN0PTEgY3FtPTAgZGVhZHpvbmU9MjEsMTEg\n",
       "ZmFzdF9wc2tpcD0xIGNocm9tYV9xcF9vZmZzZXQ9LTIgdGhyZWFkcz0xMyBsb29rYWhlYWRfdGhy\n",
       "ZWFkcz0yIHNsaWNlZF90aHJlYWRzPTAgbnI9MCBkZWNpbWF0ZT0xIGludGVybGFjZWQ9MCBibHVy\n",
       "YXlfY29tcGF0PTAgY29uc3RyYWluZWRfaW50cmE9MCBiZnJhbWVzPTMgYl9weXJhbWlkPTIgYl9h\n",
       "ZGFwdD0xIGJfYmlhcz0wIGRpcmVjdD0xIHdlaWdodGI9MSBvcGVuX2dvcD0wIHdlaWdodHA9MiBr\n",
       "ZXlpbnQ9MjUwIGtleWludF9taW49NSBzY2VuZWN1dD00MCBpbnRyYV9yZWZyZXNoPTAgcmNfbG9v\n",
       "a2FoZWFkPTQwIHJjPWNyZiBtYnRyZWU9MSBjcmY9MjMuMCBxY29tcD0wLjYwIHFwbWluPTAgcXBt\n",
       "YXg9NjkgcXBzdGVwPTQgaXBfcmF0aW89MS40MCBhcT0xOjEuMDAAgAAAPPZliIQAE//+97GPgU3I\n",
       "AA2XOop6H+EVsfSQUXqx2aBk6gAAAwAAAwAAAwAQjocotiX1cXGXW+5jtfxk7cAB0A8431oWMYTF\n",
       "8nv+o7xhMyAzwnyvnGAvO6WLG516jOuSHjC/a0SQnQDR1xVVWjvIL/amxX2lL1Xuw+2TqvC3bgoO\n",
       "/0gNnZreN2axIBfybqxKEYY0FjgkbSxn61AN33UfS2BoZO1Rq9zDH3MBecVii5Jn9woPcFQB87fD\n",
       "TWwVaj4FCX7OLW7OgMhf0NesFhkyHX19a6bjrentSqWm03SXBpsYSzG2BVgfoRs5zYQ5T0KY/sj0\n",
       "a5LcBCsmYkrLScrOR3Nnd4qK+pNLvGAQLLXYYwxwghBzO1tSt4NgP2wj2T0H4wFuRF6JxRfSYT+m\n",
       "m1wNjPMjTIhZyGBd7uj5OjDbhgjrZybabvR7PXZZoPj+k7YCFJoFYhS0tohxBLRT2dEaERdisYEn\n",
       "L4zi1Sx49SF9rJBe3XLJ/7emlynlYYP/rc3EBUUeiRyFprm8UHrSO9nQr5ddirEnL6nUeudH29SL\n",
       "vEkZ7Eqq5JF3v9prU/R+7pHXMmp4cgkGHjE0IW/gf4gjxrjjiTXvaDs1l4H8nzHu9yEotDXnoHPa\n",
       "8t9vvFmOm/xrAL1SgpqqFfqfcZZhXopVVfUR6XFv8gMU/t/EJDjA/qhmqQxIHUkmlvzRGa8iX9QK\n",
       "f/9bZnZdxljgN1gZQ10UKihQiTtnLlo1w1FVZy7BOd1ev5TzlVzQnC4GvluxcCFsMhZiYKDpdfsj\n",
       "5k1Mu5Rg3QvRU4pNDmjlF/ZRiTmuF+8OrnqO/r8Ri5F9aLt5yBkfduuInKIZD38xPmWd5UN8Xpcm\n",
       "i5MlUy66u0flH+DiMEGVZDJ8LtBKWxX2XSNTPgKg07kkPj5lmFeTUu7+5pRgtlzqhRQGzbxYezxk\n",
       "NQWjswQXW4tvxrDl3b5GOmXMvSuIeg3hl49ZfwB+R6NqAJqDKTc0l4vS52K2DFJ1eaP8pRd8V4kW\n",
       "s5itZv76vMaTG1bkS1yMfC54fAy8NSX3g+H/lwt/nNHpwto/8wiP3wyO5iZdGA82h0/cC4VhVK9m\n",
       "hP9WNhBhAz45I3ibwIAYwy78wRv2FcWzbcaqUx0BWn5Rl3++y9TBUnwfiCOlns2zx5281vPW424e\n",
       "bp5gDzdr8CNohWqM86E6RZsjUgyBOT6FJ+oFhholBr26UxcMC4t00QhNMgKurKb5fiStWudKSxfo\n",
       "fsYXv8vjxcNGSeF34aIajS6rI8OuXesDEhnzByt8WFO14avpgQuvtQuXyvngLi31O+Uw4CZMp1rE\n",
       "bZYjJmkkuulk/P8vnN+yg4N0dmhwViIwPqrSkU//oB+wU2t65niT0qJ8XOvpU85BFx35Mr9y1TYJ\n",
       "Y7bhM0jCg5iqVXNruELDjlzbkZE7/6j1QJbEJmauGa6j96EvqvHXZmUWYUOHFIxjfuGl3IrWtwjt\n",
       "JTjYAdzCI0uz+lCKK0D4pvaAIKGhCe3n0g86ZqzIUAAAI0ApyLLiMV/1EQmXTlnKmWmiPQ/ns55e\n",
       "H6MS6e7J6RWcDVT+J9jSdnnRGKlceDTg+UwqcmmHprfY0oJ/RmIQod77hM8sObyDb8qypjoB2Nw9\n",
       "vSqC/+v4olNNNu3R8lxqy0a0AX1APt8dWLq6f9+J3eSn3uPl1q8s9Cj7D+/rPoqBYUS+HIDF4QZ3\n",
       "9kRSP1iSN46VlQ7cRRz4iBbW6aKE1oF9xPW4Vuu70O/TTkKHqAe9G1eguKlwnV9hY2CkojSGV9cx\n",
       "o4IOfZ8TE0EA7C+PEkEtXcU1RLtQrOpJL8zvnu8EYo1SN3+rW4LtT596bznx6G+nSg2HpG54ufok\n",
       "EWGWroLkP35JOVGcckTB/qrRqlfe/8LUgMjB0VC6/B2G6xYe19df47iVhvCNRAGWbpimvlFT5+My\n",
       "aS7ILMzIq2R7juSSeyNIFn0/htGkSdkAYyUsIyudtidxtxJr8Uurj3VIbVMBnazIhcqjf8ESxYEl\n",
       "FIB083hXCldwd1MQkph52e7r0xHC7z9O4ksLtyTpB+eg/YNFkfhPwq3RtmLxfV9fCD7d3eHQ+va6\n",
       "zIkV+W5fbf3W7EkSZqBIgOPDnm8XQUJlzjpWAtdUdUH5iE/iLFFQAQ4a/s6M6tjXdasvFyy5axsW\n",
       "wK75M6tEGoqXFuyvM753ZHO3k3UzoNe125tJM6+rAfe9M9T++LIGnkUh6C2kGqBZvw7T59dJeCgv\n",
       "JOuTNQMpGd2UZe1lMRhlEwUosyVb8W8tSAU7Xe+pvDr8dxFd1xtZ1KhnmRVYsPNobB0Ytxd0NN20\n",
       "dMltoq3ezmUMgNurlZYEVn5hVW7mRW2VemjSyWo1kpwdmTBqEN/v8RYizvYqzcITcvJxm/5qiPrQ\n",
       "5XTUQYX451oERc5XRsNmMH3NNpf1V/tl8BNJE8ou2xTWv1K/AHBWcQYRfK5RnqqFYSc/L9/7gCk2\n",
       "3psd2vC7e+EXGyLYTV4QkPy3/TR40XmnrNp+98eyYBR5cIcwFN3EB/nssMBrXgiQAx75ZjrGt7kD\n",
       "b4/nB13FMV5Oo3v9ie+XcYNF6lfPt6ZA37ihqFUVt8eQsO0K0VH18Rht4JItnJ7T8TDjRabjO7xm\n",
       "CUrRVyehvCuPFvnZDsT3DWkxoaGQ4Hf/7w0ZmXD6m6jBf50qQ4gRQiOhy3ffuf/0hil90FC8ksUO\n",
       "tkb4MiLTVrUFmg3DIqCZ9btmYdVy4Tr8pVLbhjA8FNjXB5/yfS1CCCmIt4+xXSrhQS5XRFJQKPTj\n",
       "i81y0+L0x/rNkUSTniBMdzvQN+8VGQMKL4W920o3+P/nfFIfuf+EdihDAQogWQr22+2v3RrTOYmQ\n",
       "O3dQGtW0WGHOqYnq+Q43tXG12pOWgRVQPHC9qWUkaMdECJqaEk100Omxfj6hzuPb/7Pf4cSfiyta\n",
       "+dCnqhwuAeHVddjEYwtwuNXrZVW6+H/MF7b1OI+g/efcm8ut9I7rY4AdLQFALJ9COzLRi7IrP8V/\n",
       "vlGMF7vcZ8APLYKc3UQO8i4Bh9sglcv2Mdu4nMaaTAVm33NmD+2iriNi7tLQNUIJgKybX4Jj/GIH\n",
       "MR97esj1nLoCX1Q8rrXC89cWPXrb1OTDxdrvfGBD2nddAb0TfbDpo7w5LiuTmLVaqZpbJlAT+ZmG\n",
       "/Jf9cX8bPwnREsHWGx4RL//MxzYoeUBkGHGQOsbqLfcZGXJRzUh4gI0dVtBULrLQAADVJdm/W5AK\n",
       "jhh3IZfoPejWmZ/tKe0N0jvvP8XPJR03i0ST90Ur75pf9162VZVAr44UzMKc/yN0Fz3oIINh97cc\n",
       "aw3bGeGEvVSRECAgyv0WD02jwaN53Dlpl6p+jP3IhJG9j4WKyrNbXBJzAialdF9o4Kk2F6uE5dp1\n",
       "rLgCvgEue9l9xvlOeCm2vIRqI5AVz3VYIRTwC9hXHY32PF005AYaHf6751jEjqTYMT34mVBjxarY\n",
       "wE7CFnDqMXpEW7fnP+wtj1WE7F2/QFU+yCyxPDAifECZ0KLltPxQB2StFYcFHrUIso+haa7NvZZc\n",
       "58PnQo0gnGRnN0JDTZ/AMNQPiM9u3hVVeMSHAJzXV+9CIcLAm03+MEfEFnophuWlPz/cH+W6HSUu\n",
       "DktS+fpwT9VhTyJSKFj7uG/1pig5PazWaPHsJYNkjsUZ/w1WBivCJ6kqcgKXSDwHXW+IJZrCirit\n",
       "8VtHCWELuhaygj2Hx4SSi4nCIxgiCN4u1CewTCnr6e8RXdOkcJPGCnjHEXO8pHmxadl2LhAMaxVE\n",
       "3y5wkvzO8C7feeKMgT4kbW7F+khs29SKJrZOSVaUWB2fUvnTIIJ0gRQVcTrr4Cm/rBHIbfSzLGmJ\n",
       "p+lGKxKOefibznAWmFdjH8Li286kKmWNlEfATYqfe39qkONpze/vNc8RhDH5ANfW/fVR37CMjDFP\n",
       "GDGSw6a/B4TFRo+TQLLBI9XIKRXfw/l92FNek7wWU8XJq7SRBR2Cr2Tc8nPeV/J/7b56kRuwOf/e\n",
       "ilffNMDlD1ngRkf0k3l4Aa4tgOpBXs4ZapKTm6Bzn3Kd6Gez+Vcp2j/3DQrUcaNMP2A1hzmDU2CM\n",
       "r/l1ZnLsiWg859Kx1VeMSHJpQ1T+IQiHCwJQEQx8osgs9FL8K/bEt0uWjb+aSlwcgAY6+JcgIkPu\n",
       "1vtENRmYciwyEHkyL36fVITpYNkjsWBLw1WBTgkJ6kqcgKXSA1o9P1K6bVap1wMK7GDp+PCgWsn+\n",
       "Um5I5XXhrOBEwAW1fi5OEjYJZgZhKM5XB0WwIiK4R5qIpGhxy80yuELZRpAcdPtG1O5AFhZN+eMJ\n",
       "IoSaJk+Lf1znSM+4qy8IbKod8K783DO+B0MRU7EHBQKGk4P1pWFygH4ma/hzqF88VXkMuOoTcbA5\n",
       "vYw72AX3Sn0qDF565u9FaJZh5BqPxdGaQ6OKRrW4ZnmQyYUkiG4xIJ1Ay0vxEM7zf/TbxJsCQgu3\n",
       "q/X7dJHHFkVrVrtCy1oIWV7InEQEzNchSoEttA3XUPGK/xIPuD39AJ2Y5PoggEeoJzPiQpyMQZCq\n",
       "SXXBkkGSqGY2kgnafu7eFL3UuqjB80J2u6GHqMjHfZzFXwpUVmpJMoNxLayRiPLbomwNMmTtQ0Wz\n",
       "iniz3rvHMJdxGIwLLDcBsEIXLm+GYkhTIpxK3mJcinPKDgLdPqdYk3061ls95K0+pnXTQojjXbFb\n",
       "vwpEBwp8AhG5LfkPwTybc5uejH93htzP2dLSnkjfPwfA6qQ5Ra+/rEis0/TAO8QWo7XGn72T5Fwx\n",
       "kKJz/QAy8t6AF0xUn9I8xE2shXrw8uFQtcsFYaCcfcK//dW9Q9GtMz+yxMjxxdFOJCjnhbuY6Tg/\n",
       "bPlDVQdiDQq8x6ExdkXH5w5p2pvzx9M1ib8oUVGQ9BZ41M3boEI1F3sANY0GYPsJk3/3QKa+8Yjn\n",
       "W8vp2kbqC5tGeHASP/Ggct3x1yJNaZ3/IekZ5k4hNmREIbzPTtRdh+Bnh5Z8VTQl2NjFd4GHUJzq\n",
       "UbE9NaIbq+jwT0OL/NXS/icy5lohD2pEW7f3v+m7bw+IObw+zh/OoZC5AIojrfxAmdCSBHOCE6sg\n",
       "jEGr6QwuM3fIfgE0JB+IEDKTC20+bLbFMgzHfZzFYFojH+u5oKIFFVg1sIoTBboo9UVibE7x5CNo\n",
       "LpjBMWg/tS6H2q4hZl8KP0sCK3w7ojhEXnVGdfxNkMfFKkowTOgaeJVjJj2xS1p0cl9RUieI1fL5\n",
       "M7+Gi1Fs6cCfv4PegB7JxfwehVBs/fcyyO3FL2mtCW0yTVXdXzG9HNY/FmB0IRtxJnqb+9TINnuV\n",
       "rOOaA+ONFXEPniRao1vV40427jXtrK1BRiZWB9o0j8QP7dZ9Y15yo9Sny2iemGKtrP0xW10p5wz/\n",
       "gVE6+VHE33y65vkskvA/Tg3KGIAkFWpkUqxmwljxtYxvh8NfWD5aROIn0U7iE+T9ANA+wI7zcCiz\n",
       "q+6XgXHw0SIrwRbfEtjW/N6HW7WwoUik2qGA+JVUQHaae8iQ6x/ffcMZ2YS2wCBE5275caSN55yu\n",
       "4tz+A+mU3OhShtTsRUTfhiXg7AxTA/hLy7rcj5AIlnS9sErHTDlRohN4i/ejmYqxiM22KMITK2nA\n",
       "jZIr3SDc85im9+Ftvsp1UEEHHG/tsM7XZCdZ5nKZlCdMoeUMG4/ylIbBHoOzlYrj5TRn0WTT2AH2\n",
       "JzOoLEixWciwA0JyTmM35mENTrYacFOFDrbofSbB4oGGr03/33N6K8/8TRd/OOwUOSgIOE+npEhM\n",
       "dSq2t42JEfW/3Nuh/pWk738br71sLoObYdL+sfvQFvwERmiXbWJ2CmM/8na26vHO8SjvLdk87TUf\n",
       "LvsnRzrXr89LOxI9trfC8e7AmTCDhlTtBEDV6Bdugw28D9oc5FTtTQs+xkWkTOVSqgQed5jHgp7X\n",
       "gXkd1NdKAW7qxZZJ5Y17x8FzR+8oMz5I6w7AN5QbCp86EFQnHFG88/bibxfRtCMGHfPOcWVfFVeS\n",
       "RM/Nm54pvBUAOZaXNBT5y9pTjyH6gv7vjCWzBNOSu23vqEqY7v6f+jOXO/X29Ohm6husPJbPAVp4\n",
       "CpBEC0Nf0iQY1ofTXKIblhQqNoiCv2YwuHGJoHEk6YKxuKCXUJgibDpdCQIUoAiku/bMWGmQMSUv\n",
       "8mGLzRBKBD9rXBezhK3Ukbm4ND3nE9aJ7BStSFPhG1qZJdS8gzrpwofthj0Ll6SetrlX4Bi+S4x+\n",
       "yhO96CNh+u76P0faaydtoi55F2Qo4ADRHX/rlFWGLHkcNzHzwk8CHRSFGVytKYNP4RxrYAQPnz/H\n",
       "OnTLtgBKO72fQcy18MChP5qsLOwX/di95wKFbxxk2/RPumCeqaHH2EubrZXh7JsBb3gJ+WxG0NPF\n",
       "QqHfDmB7ZB6eut2nnOnw6aKbUP2SqFg7r+o/rQPo7RMmpOj09T4gHv0ddK/ppnH9uDxAwvJ0FIlY\n",
       "VCLfMlsFQ/ghwgJHAgPxDbzJzV6wpNU/ohuE2saboWMUioGe38yF+KR0daTkWfOxFIwEv/YGL/p/\n",
       "Z0YGZ0aXT31sh5fyxHp9SXYZCp5Ofp4ZmGok9eoslq0H5tiW9vAuLWzKXatWvNTBBwSRjW+JCfiC\n",
       "UPK/LhOCe5emYr4AkpLt64z6IxIaCqvffszCsV4FA7DwdsPKJO5QDbHw/vtA6ehuNgbyogrS6ZIW\n",
       "xc6CRuRS0ZA8xwhFM7HLL3Y/LK/DeB4g3lXgcBDePMqOM7x4IaCEPM2gqjIa7PkcgLRfjxx8lAMn\n",
       "77Ytbn+kP0llNrnHfc+6YCHZFWOe3vM8VP9FK3/4812EpePZsNh3oTegpZ94vwP4x2HU2tV+IrLN\n",
       "52DLitANDYQwP9DVTcyRqrxlU+KWWbjSEl+IUPL+Cg47wzNuYngLNYHQWyjd7A5EsR+/r2/mjzH8\n",
       "SdzztxAYcPXprYx76R7mus1aaaSk//NJ5ucE2kmewSG5LIhJ1pe8xqk7Mn9FepK1/W+7YDZwKXwa\n",
       "cxRrmJtRxs9ikHGTR0EHHa1AVRkPKQ0Mx0PCciSbhQSIn/MCMezRGXO3foedqIKgOifOzcH+XYqE\n",
       "Vys3FKhcjmqDBr1b8ELjMAdaveQXd1al7Hm3p47wIsPuj+oC/+nxIO/qZ8COZPm1xtHp8/6Pm+C/\n",
       "kvUafUdT2qiaZNfwCFyee1L19I41zqYmv+OA+D/+3WAzcVGhp0csO2wzsASZ+STPe0VJz+t/9E6j\n",
       "6jYS45IVhQEi5yUqkSJq3W3kPClyHWFq+eyrALfv6S04nBn9+lh7Niebnjo9zySplG0kGxwSkpLI\n",
       "JspI4g7Id4RZZcY2/3ZwFrrS5MPJb2BX8f1ZLxFahMSecvvgpvSo9pnanqKnws2OH87BZMiuPBy0\n",
       "jcOExQ8SC4NtIus2+66z9qrcfYx05as1tndrVwAry2qqelinQW66t7cobJ+Irt9ywzZg9D9C0uBX\n",
       "7/S0Msdz7YMOfayqYNH46fZ91FInjzQzwCPHXcbPSBetRVpan/2s4f0kDwLWCQZSg7ymtwfX0IQ8\n",
       "BeGtvgVIoUhoE7ZqMJjOtm8/Rhxo1/UGDdKVOpOXuFpcG7/G6ybUJXG/tOM1rOissg1UKEavPxKu\n",
       "CTTLkWt4PVrWwmntGujd2zFHR2Q3H91fLhyLFyJVPsIW983rnGwvmpq/3g+jCbED/4BSeSSK7uOa\n",
       "XEMAMot8w2QOJnC9jFzEkOg/7QmbNj0pNfLINXPaezKB+O2J7qfUbzgjGeiaG0vVNcHyOJY/I3Xk\n",
       "pYFLsGWDWR75aVIiyDxTQ0QFNzDmfPEKlwN9jEwqg4aFG25BNaIcPZUQLRUGXPX57xGKMUswM2Dd\n",
       "hQ0jIgqLmAYKBCiDQ5pvE6bbaNFMpro0IOKDHXtEdDfaPx2J/T1OuQmLSrZd1JPqcqa4IInUFlSU\n",
       "YQ5HV8x6V54B8XSlzfPtnL9emQ3qsc1ZDF5WmifvQjfeoHWMid4t2CU96gN++In2X6kS21+WhNgG\n",
       "dKgZBh+9LkxFlBR38ke7U3dbQkzzlmeESd2IOy1hRRP67LYWKcH5M9CsVP5+0+sK1NG7FUhiw2HA\n",
       "tHcK06JN8sZaJ2f8vdlvwy/mAlrT6TAMa5ZxwOlahU+jLvCrU8MStnFYyatxRDxj1Z7P7R9BZ/KZ\n",
       "DiOh6HMPpNt8jTxrTYmUVPXYnOldilie9bscAeLF/7lpdIZ7mPDjYiTRSiuKRHF52HN2Sb0H429B\n",
       "G0DRNeTsbRQ4l6vWmISVSUq6PrjlqmGLdJK4o0OWKl6EzOKGsnuLOo3aYXJx/Iv00so4gEMPcv3a\n",
       "YsqD+GPboifH998pLnrTgktY6NmkJOtda9FKBVfy1eh0bv9bfsUPI+QuZqVkvYjaSJuxuD/XRhiY\n",
       "2gMNx0avyA0jQZO7xQ1f8ZMC0VrRlUDjiIZEjkbdjXh0Wr1Q7HK07Ou/ffOij1/fSbbTa3VFKOHJ\n",
       "P/zAipBTzj9M1uXDz7Mf0r4eBrl//I8a5b1jFPcN37YI3qn8CqdS8WC/vCuJWurQSCgD/WyN8ABx\n",
       "8ry96aift79wVjZUt2/kSDUMqWmhR7SAnS0KYeKwbwyvm711RbKW4lLQXrV1vAfObjevwcb2i7jq\n",
       "uuV19FQfx577Fst8NYNcMp2JgNCBChCl2z+8ST4qed6VhYlLmpX3UCEqC31Crc0IcemRiFUWkwI+\n",
       "YIqO2dbiOPksXp0A9xVvDK+bvXVF0gYQii2U0oCOnW+vWDQGvkqjq+7dgUTaT7vpmAxHNPifeotq\n",
       "tWIyMhkBRitTdRKyWhp2zw41OL4rxySCOces9FPP2ttwyHMA2BzRi/KqE5dvAdQV3J088I/Q7T3I\n",
       "s4oHlnUoUyldaq8FCcKX+o03B+UA4yACnzpFhC1B1DHAiPQikVBKp/YGl73dQd6Idk1Yt4VdrAsh\n",
       "aV6XQJm/YNBO0nqF/K9trzenZom3k/yf9dDDB2Troe7/SHEoDw4dQhaJDYz6GygdFi5+tjiGGNZ8\n",
       "J/oqEeG+G324HclKDtRtfPdP1VmgdRss9WA5PAfy+TJfKYnMxF1XJOqvdmpg3w37EEySToO2n6cZ\n",
       "MOwK9emmfPEubu95eMXB7OON29pv679lgXNNrcpcOuXouwir/KrABjVczQjSsDBEfeJy61haZM5H\n",
       "mWPbEs33xq7/0r+8VmqPwbg78Wf8TT9zPVseVZY6hjiFS0fC3dh5/y0f+75M62GKJTAvXY6TMJAj\n",
       "xIDHrBaqYmb7gfGkYsBFrZr1vJjgZG6F6C2LpcdtppMJL6NyGCmSkk3/UmEAc5Ls0Y6gaAAnPH5E\n",
       "qU5SyAfPZhKFFQDxhe25umFGUW34es4Wofr7O4JgkpeY5tahzFYVTXul6PCEXWIf6J98lqQQxWGA\n",
       "84abp2tpOfPn86TRrn2zE66rRYBIqiFjYUmeAjTylCqrdxALJZAHVl3tCjWJUvzARMZhf+LZrQqf\n",
       "61JyemsP7+zK7oV4GPJp5CywGgUH4MwKnXZqNNgMThzpXBDDNhSawGvMwi++oe//IG+IuTJ+bv88\n",
       "CBULc0NSTJroV2HXnD8bH1OdP3oEE1eWlQ/k9hOBCLbZejbJMEmgAfmlkQnJ97B6kXMeFaJg9+r1\n",
       "VpVtYek7+zYj97IILtcz3QtubEtQy+ov6PhcWjdutmN6JdqIVJhjVmBLaZmf+eOYStRQmIsUJnFR\n",
       "zQLpTOUFqYZjsK9uHUT8qL/UJUoso33tQReebUR3irpAUUxY/0givWwbBh/5vbTZkNx2Yx9vOuyE\n",
       "qEg3J/oaSMxdsumCv6HC0aflI//Eha1p9yz+P46PLTwU4bgIm6c1oj2w1/wSHhY81WRJtw/BwFXx\n",
       "JcO+T/vij7JOWbu+UwgP0AChCnXy6Ufvl09FX2ogheHp4KcBcBwzAUk8OKjORX3x7lrLB5w5Nzuz\n",
       "9oLQls3RXkgTD60L8zZxOGmBZkarnfwFrrs08MOzrTqbucsQ4b0p3K/4c4c+CTL0chJhCCr9Igr/\n",
       "7T93tzT/ob+LIhDlnM62MLO74Bsqj5LrNasV777znxWUNPinIusE/cZ7HQAxfa8usw20Ap/pkPO1\n",
       "hMvl/yzKvnxgEPNQwn60LsNvojsefzzaJ72t7XynacR8IWk2qqqRloZZvI9+lIB/9YuNXrL/hPeG\n",
       "ODpS9Y6wSHp3V9hr8EbqP6oXdUSOYVbJHdvCAsAp1cPqhf9mRLOLP/c3J1VsV0w0274hDs+bhgnQ\n",
       "Atfy4pO87Gdc9jfWGjwpkVsMFBz9If/RUqNupGMueR0yEs/M6mVe/9JO2xA9ZZE0ll9zTdLD9iF4\n",
       "m06h2uPXyeqiP/KCKIXGzNT8isg8zLP+hAY/xJQH4q2A82rN/1SBMRHM0bMc4RVkbHgz/ZrLFDYu\n",
       "C9tkhLn+EEpcckt3h1YbXQtJeU5ESovY5+c0o0YpAkHrEP8eI5S2nRgq7EGS5+b+A/jBI9NqiABt\n",
       "kqkr4k3JdrL3+EmSRY0MTC/mIulEEu2ZXzTWgBeTpmxX7iPTtfR4m1rjh0rn77jNkHIwArntdo5R\n",
       "IlgB58N38i2ii9809J1KwwhOZS1HPhSDNb7WDbGZuKoN4seDMUKUhZEnrbMAry15RlekfsD8At5J\n",
       "nZjavfU5z+4WRi0580CSfU4feS/rRTEbD8vvboxB9hsOKlmQlvhMT4t+07cHouRz6MekAFptjjAt\n",
       "ByFBzvzkIOPsApdiILVf4iROOHTCu0DTY9s8DAVKM2a8ZjjY70xW9BAEKACMts8xqgW46crj9Qjo\n",
       "L89MyaPCFXgT9N6aiPUuDT5ihGzWwao5x6lVHyjGTgqUgCbS8Rve1LaT355dd6sK6Yv7BgaysvgC\n",
       "h4o3euwOyI3A8fWWE4L/BiVMe12jlFPdm1mUNnBOlZBT9fh7vV9KsifOVSSOkL8l0oPDpedp+Iyp\n",
       "UeTLdRqKlGB+Ov6SAg3FW04FQOZhd+r8whgW6hwJ+oN9ZLsUim3yvqeg3VMa9qApZ9SiTerBzMke\n",
       "7ch8qNCux/qh/DnocTylVZy3bvJQxuV9zG/atVZKYgi+wqx9Z6vV0ob24554WQTGhxrrbcdY/vhN\n",
       "D14Uuta7XaOUTvSwyv6NnBOladMy/N8/hw4J/lJCrUPZVRTw9p4dVRytx1GhTvZ/m7y1YReOXP4R\n",
       "hMD96Nd3uq40srzpFaWQP42x6pTZIduiI7um/Nrz3meEp9orGGGzpxjpowWScMLLvdGh5mdoELD9\n",
       "KyJPW2ZISRGgT83K+oufVryjGYRfWZWcK0A5oje4g8axs6cHLiwst/idXIGQfrOZH/gzo87XYrZb\n",
       "GQKUn4mKs3KxLWpvynxanfvVsVIkHJSuTxuDQJcMxfsRWI552lKNZ0QRnpY/WpWUBpfcDBUX3c6P\n",
       "vrl+7k/zq4MIZ1h5LgrlVAiAgJ/02dHVkIWEUw/05qaDSNOkUMmZme4TcIo9cS0pfVIY9i29YkYJ\n",
       "lSAnrguuSdrtHKI4B/eNbbv5FtFb5v778WWYGaG9X5R7wOM9X1Xk9f/L8uwslhJOJLm8CFVpfLD8\n",
       "RonYsrQVYOiz0n4Oe/zstT+j6yj0bAY2k+Gf/wgyaJSO03RTVrGQ0MBx0ZrPuPUO0RcUUHgJRk4/\n",
       "DoQuQnJIjQVWdMm3X9alf6h3VDENCp4yeVLKuzM5MAEHxg2mIFTX9Uep3zVmE1X0p+w5AOFSGm+O\n",
       "J5llp1JdLVKHsCx3b0c3zMMf86J56Us4qHqeGjf0VYJKmKwFfVluMIAvKTAkaspwsThEDYYfpgyi\n",
       "gjV5wskWNu5Oab2lbc6RV2bBrXXnyWcT+M8FOocKKvICRz/1Tcdtj6UUjhY1wr2I2wR8UkE6EPXQ\n",
       "ZVYbCFVkaFobkacBAaTRE7b63fTj4NCrduor/RRN3+BmLaYRwdJX43FSpoNsMyDOnInWtCba3gji\n",
       "TRUfpCaNz0sHC/PLHt4znZmcyPTCPhn7zOSZ90R7865FjN66sdxB+mNfVCVARhW8fAB3cLEBABFE\n",
       "tBPqZ0CXYvr+Zj45Eq/9ohWAodo4Q3zYXeDRdc7pgvpyGN/tryfcdB22z7uYejGv2Hu/QYb0WWOS\n",
       "teeHTu3XLQtx4OTsMR85WJhdcITmUfe87M2D7lRR+wjU2pomcehZ8NgKdZ74G/mtQyARwjmfkcjR\n",
       "EsglSqZ+2vPo4fow1pISm0gZQnx1t/aSDD8Uqa3AEDN/4SxAZTt6XS9P8+vX3Mw8yIu//mL1vsC7\n",
       "vekmLu/mWjccGH7Oa8/0aF5UhH93lrNfa57ZPZjnxChaTtiELelRoBIDq/53QyJUBoCpyAlFEkUh\n",
       "h1kghwx7mq7NpURPuwvtBoScaRgAZVR/05D+6d6faGyHhkwKImb5lHBVk7RQkAoq+gAnRUBdLzm4\n",
       "tClEifr6Lz8Bxgl8eOt8mSUGwBvyh81u2j6jTvgXwsnZGvMDO2Lugathj/+vkv4xU8npzaj16vvq\n",
       "kwMs0PDhQ9tva4Wbfvt3RjWxEmCznXCel1VmzgrUKKB000ngi+FHdW+iD5TD3XRYntkd7QjKz5Nl\n",
       "IHt6bydkR4l7Y/MuMHpPMpzIttpgp8OYuduP/rY8qXyMfjT7sHR5Nz4xOeydChqVod6x9p/fic1o\n",
       "Pho1CFPQweF2nzGCOHR3M+lLil0EgN/+dWUF6JSGJsUwS2jZZ4a0s9oK59aNUyaVsWnJP4mfQ+O4\n",
       "w9JRSotooNFqsspmGhQFGwLb5FJQzJJ0irfIZfS47ZUpTxf3gvblUQRSQlLNQwdA/C+NX2N+QTsZ\n",
       "pE1E6J0E4FsAyqLvm0gk4Lm+3OEaX6QyXSHna3wHp3Ujq7e+BL6aT/eGhAoCvJ8jmQmK7JazpgkV\n",
       "4OmSSnt1L7IT/uZIpQGKf0rqMik0fWyW/p+8Gz3TY4rEunsK0bIqtRKPaKoPJQWxxwirwjtU3rAT\n",
       "qHpWW56bYkPOUcHZU0AlJEMwMVkqoBbHXW/hwv+lSAVVNcNjBoio+oyxf/+IL4eso16+Jmkl3y1v\n",
       "1jiaxa3tku1QFck0SiCA7wS6m1XZAQ7byzyR7U4WMqVdch1V3gWss09u2HIubvUdkau6e7590mG2\n",
       "ih3p7fc8mQf/XuGoyDKvPFcxYSWGZKHoM9um6d0H8Tc1+opaFEzZEZ24RdcD3wjeLYoE1nOf/mFP\n",
       "rrE3UeXbkIZ72iKaYiu7oxzj47zk3FcNZNUkEpd4P9j28OIu7Ab+RBAYhQgvJmLg2OuUwZkxyW/r\n",
       "hCXuV5ilsJvcQxBPKTk+PTw158/wzj3DD/5i0E6UdD7kal6tgLPEso7KzstpUKzQiJ0dgpFMeZrh\n",
       "SNbfGgMGOc/bVO9zsXym3CTls632Fwx4mrB4TuN5umXxQP/T6++9kcgRKWeBTWrouGyqB62aa386\n",
       "XLAIjb9YkkF28rEN2dDv/zwlpnGrjOW9k1lb1X2Yar5vMB53+8a3msvs7S+OZr8WKGUu/Cpomr9s\n",
       "qyPniMuocEVlaVvINcyLZI3TiYVLvsM7xCo52iLRvioK69azT2UqYlm3/rvDUYoCmNbjmqSAtGUL\n",
       "a6cSJVT26QYdnGTmBSP2GnCYHrIZkPc68I7q3/z8spYDFJbJWzEOaCb5UbZ4MQWuIQl7NdKjGub+\n",
       "wKgNXbu26CufqqajaOpxcSAk/fXYliqg9ta2A5lydHe6XpuwCPYVzEYxBWZUMYTzOz+1Ks4IN+Yp\n",
       "MQyawVufozjo4i98YDnrhuRMfzDjdtmrfirMYhyYkkrRhAqR0cqL9n4IbVs/lylPQhoOFTr0e1GU\n",
       "T+dIfJUwhN8GZKd5UY5Xh+7XuBaOKU4d1mifMxihjoMr+4+WrJJSn+jG4NAJ6oxuwdGD7wKDYI7d\n",
       "pFy5gZ5r463NssfWuf9GUaC0j/uLztcbR+5ckrjT5ox6jyvVh67/c0PgbTaiIIyEZG16/VW84Ghj\n",
       "490XIhwWRoJwhTX3WSK+buT0bf6amfOS7UEzH1Dizr3yooWfgad2vIgdckueqz/noxqqi7GjO+sb\n",
       "cnBYFlx0NCkSeB9CL4SUjxBBYIF+3fC3j4UXVFv/t/Y1/5gEuMc2C8kyNB1+1VA72Bp9ZqrSumxI\n",
       "ncAhAIWl+n47Qn0IjSLXtZRearjWLwRaBKCRuDospNndbL6XY8ZLRZOFNzLf0qLU5WRq/F6V3NR0\n",
       "84cL8TYt5h2Zpf56eeeW3CKqXgNyeyYSWelzXtP2DhIPGCnbAD2SHqUlQZ5FyBgKBjbB1tBGCQGx\n",
       "6EwzxdHzteLOOieW36DJh625jgL5nixFYDJs7pbMhmxQyJG3oANLtyK8L9Prs+K4A6o6Z9Rn5T0W\n",
       "SIQulpAogw5tsi7z3Do4ilG2jtUnxVLadIB0rFtsY3i3AILHlncM+jlW4nmc+rv9Vxy76e6Ns8r/\n",
       "jRry1LlUfuKJ1D6zLVXyvPemjMXZB5kKrRnf832MvnJR0+F9twx2WagIBb/c2xknA60QmiD9EJzI\n",
       "MJu9zPE+Qoo7TKiJYWDOry4SUnxoZKW5nwDNWOQvWgKup/cdtQ0rK47FpDLJrbt8hFrLsMsqmfA1\n",
       "gygbNhNNx9G/vk70CpnFLmCI/fw08FpPWTw9LdJH9PiKH8JqH6/7LFtAKM/Pzo9CmOzCUG/yNgHG\n",
       "hpYneyUjNydu+urUULyx+v93RGx0CQ2NVmdjXjKgYuWS0p5E/aTMdBNJS1R/v6DAdwIqK2Llz7Yp\n",
       "HChYgYC4vwbNWbcv9K4c6KkGQCRxxVOBueje+DDcWn3IKs3+QudKhVMk+wxCrHRxxV+MilqfLvnv\n",
       "PNJrgiCGv81caZPu10Az2dd+YWPh/XAnh00L5dkfskvBrS9kXVl5WhlATjGtPROV4bPK4az/yTvK\n",
       "OdYdaFnLJ43fmVLEBRnmkXKjLAY5Dlr4SDGpFM/58ytvgolM+MdFvYWg13bDouyOWzQqI8kn4gTe\n",
       "Dyu2PEGJHlJUuw1ONBsHZROT3CSh9Z/Q/87GXF2h8C6IkpCVtyCSGlZm3A88T1rjbNrKvEiC6Rn4\n",
       "v3W2lB514e2UdJgKlGL9UINO1Qqk9weOWEBPjHt7KKJ6JzDvccYjc9Sgr4LkD76+SC4eQdIO3y3y\n",
       "7gP44wvFH97pIL0NtLYSuculjmiaC3GyzxEAe/YILHz6BpYLJ/zKOtOv+AZmmHrQ5or1ObDPDdlM\n",
       "NIGwYyt1KYTriILzbIUp3Q3xpURG4Hj6zZXm5gW5XC/54SY1azQUzWi14HfT4gPNolp8Kzqea3Oa\n",
       "cyJKx8h37PkfUUPeaviOcrHis0tXRHLjHGkfMt+Vp7/Zzw0sPhxOTROVux2uII7+hU0SRGrDnNnK\n",
       "WXlVsCkhuaRWRGhkN9j6vcJAta5auC8Dx820prJ0vQwARF3JmObeMC3ztWJ1w1YYv5KxRwVo21ey\n",
       "lZ25ea/29vP1Y34kQdF0RHE+MoOY59Rz6fX2rtsDntwO2wyDZ5WWykkkDlMtzvty/dwyrAexFQ9p\n",
       "wVBpKJjDXI6A/SKoO4kl0+/2whvcCC40Ofc7U7Gf84yjiKbw1yzemJ00V91ZBh7CPOS34vcrDl5u\n",
       "URRv3o7ixqPNopG7Mu/C9fbBV/+3VLiDTJYf7yGLWeItoD8wviMfqpSKSm8a0r1F7D/0ZoBhAtZ1\n",
       "tSqDXUfz+jrOfXKQgZB7Tf2BkpilXvVhxEMgBvQ0syV6awJtq4NXE5aOOonqkCfoWBkqeheSJl7j\n",
       "ys7TNFOt3K9fj8OMPPPu3ApiMnVIoe+8Ip6BNnEiWMDMFFBafLHraTLoTr+Qp9L3WyQPXmiwn3te\n",
       "ckOAQLH/Op4bui6nnr8JsHqzK3PP+KZxG59ZRsQt5zEBqPk40bfGpWKU3VuX2LSziQzN2aaTXVuF\n",
       "RUIMQfFD8riQYFBtfrTo3IWAKcJAqR8Q0Z+H1XkNFsHsoF2kMzyzaYBq/KYwvSlMkaYJulEbS/eu\n",
       "Yu0NCQFfFyKLY/fCrf/4LdqtCXQoc1FduwXaZK3fEUIGXU0N/8eVDszrmb7YG34dzPOZBI6CAome\n",
       "EaV38ZuM/LLVZ5J8qSdtSVv4RImfKC/+81R1WhFInj2uZBRH4LWBJD9Y0cn4kyusI/vxbR7Bfpol\n",
       "rNAf/OpJwk6XXWPhz+tP8+YxcmQT1k5GidOiavXtxWL1VJzt+84F2R27sTJWDM1Yq2hOacOv2HiQ\n",
       "sKsE08ej337T8zCUKIXoJcWpkVMVyHSQSAqDEB7Bf8v3OXELVt+6iE9TQ8nKIZWiaRuRIdJzO1dt\n",
       "rB////2JRwvcTE5phzdz+z4oi06xHy+wUvl1K9+HPOt07Yl/PxhOuDosiQo6idbiJtFt3eGLNZnN\n",
       "efqFbK2cKqDtZrdg4X3jc8jMRCRJL16EbPtECPO3/e53JHYu76j3/oCIyapPQ48Wy7jdsHytHXC+\n",
       "wUuEg5W/Df/0imHH7OHAl6z7epoWPe7Vs4rVFzhcLe6uHv7j0om0rLVhadM38v3LB1fieHrtNLB4\n",
       "ePpwWQnVvT+BZ6ydm7EWokCC3FUxqEAgysSXdsb34R+0wd0ci6BhFtw7X1vq/gEFnkCX/v00F6zU\n",
       "4VtawNSJos1Ty/jEq9CS/N9mFFVO/r3fl2zqAEhStE56m3cu+grtci7QAGWpgam8HbWpDN/Q9fSf\n",
       "Knu911bd+GC5lcvqof7gg0XoOIW+hnPXFPfwF+fQizK8jPDURl/u8SIA19QZ01UmbR1/sG1qRylS\n",
       "JC5SO85kyq6lAWjbWRP/m/eCjzdnVEObUECMLxWwvfclCb0epzMMlWXybyNk+V1YyF2hIHzV5/wV\n",
       "OzvuMSI8Z2X2hZfAbUzyNEZT/3cMHALvgtoFvcx25be8FZckdf4DZA4hLcWpueOL/VzeKToKzxGj\n",
       "NT/QSKTha9FZGnsRmfN2OX7GZ0lPCOjxnFFwCDJBQJLMwE/mAdtnIadfXOq0Rdrk8fW4TMP79P2r\n",
       "ReLKovtScrVzbqD8lHGf5rqkmsItmvQIS7VplzP95Buwh5Soikiy15K1v7RPWhXxjvEUkcyAkn2C\n",
       "95m1W4xnO6183zCnAqICxC8h3lhycrWGb7y/5P1NbtGr37yAcYWcd1w239+n6Qh6uH7go97QEXKa\n",
       "jvmz9P9KpNKsB3sG1Cq4vq42XOkLY/pF1Ziow89GPviMZ4qJ9Ur6YTmsglkAJDU7eUzpkXcWIyYL\n",
       "Oc3MUirdBxaJ0NfGFK+rT8rfnFTc/8nt4sPy3PvZFI5AxZ5/Z03u6b+HGyHolFyAjonJxmokBjPR\n",
       "l92IJpzM/oxEELECCaVEqpNTbdwlnylxTVODSY1IByvw0NLT/aCeOypGFf7NQNNJrJdnJr7M6+Fg\n",
       "5h5XjWx9r4ZZShD246IPlIenO9wRQGbol5MFwrSgn/EkcZE0B2yKoGQF47Ro8JPXXT6APj3CXPjW\n",
       "+1GcWe7caK9EP5P/hXywnblNcxntOo1NhfwZmdcdv4Urt09pIAHkc+jHpABh8xH7WlWrifU+umyb\n",
       "xWxgX3ztj3a7XaOVTStTZqYe3/Q9LSDdvYo0faoQh3P99T2MfkN/NY/Id6dGTh5F1zdeP/E478xY\n",
       "CXrXipRUKrzShjbIV0le8+fOZ+lRN/DcSFnB1ZKbEc4c8Tj9Q1tZApxwDMulQyJnCYAUHWjlFP2R\n",
       "xPqch2RkrLjncZ8ItxxFy0amvHW4qg3ix4OJKVLZ101fCupMFp5yZt3lqwiH/XEccf27PoU5lvXV\n",
       "L8iIDoVqLp9SkL638DY49nC6BHKnJkMqDsU0Ml0F1j6CnGYWYpIpQ/5ul0TeS8sBK8WygMuhmjeZ\n",
       "hzAYcDnCgfc0N0f80qHU4EtEvJrWSuPQngaAA1rNj+ykk1UU9REhxbVBaviEghunlyRHhC0LiFEv\n",
       "V/MUzjbd4Br8Pl3Dq7JA8iG4Se2MUoVwi+BjG+qS1x5+kQeTATuYJB1pjdH2dAv+YyTfX1402SRl\n",
       "JkaWro/zT0Q9bpvEuOcmebX9ZYaT6TVzavFZ+vP7C+7tQHM3bruEu43WaHa/PODppIplxi+hPqq5\n",
       "9atZHaiu3S3z6qIKjuGo+ROjrBn1zN1RvZeorKTbzVXPazAG+TU/XiQjwFnkAjbRitqqRUeEZn/Z\n",
       "JWmOkeHnQIBJnOLbokNGBzhCj9pxvhRB1GGZ6w9HeF02FbiUyAWOh4ESvNqBWQd7LAjdo4tab9oj\n",
       "7e70MH4xRuAM0lWVDY7ljYLbcmfX8TzSWyNebYWPKjh41MLimMwLpEBiRYlm3efH//wIXpuo1wVo\n",
       "Vo2BbeKPRzlkgvkWfO0z7JYUUC8nn7AQc8W89WhuhTIhIpMYQAPYtXG2uEB2HfrbtEK2dgna01KE\n",
       "jGrTnNhhlrL/R2KM/DfkV61SLBHMPsD9dKlz63H1QSNUgt+J12DPgENu1vn+a1MWf8fjTBpcdQEJ\n",
       "UGrUXEzn5Z2teqY0pFZ46s6x7ROJa7IBT09vEHQfCy9IvGypQOSUnVueh44K34hdpaN0ergrff5x\n",
       "jPqLS00Vdj358iJ1T54MCOES0YeIRjioM6ERLQ57lH69KNLkSuwEMcEVVeMTWYOP5KuLBgKkNSrx\n",
       "Jyx8OTP6tTTsNZMHsSCB1J7Nw7/ISxuHCrLqpOgPwmT8DHBVVveSxJMo7++VUbixz6fU327kfDTn\n",
       "ca9IUNBx6gvavITCMJBEG8AM+KWASD0GNXIvoDnKblJ3FMuQFs6cHLe4HFed+nZjff+65//PTK+R\n",
       "iPKAn38+D9W+1rIpqJaquIUcfF8skDb046eVauUDraNmMWnQUvCU/4gAjRijLUow4ZcUEvUJKGh6\n",
       "T0xl1xXBGUp7WM+BmhAdOrKk05HpL/t3BV//lG7c7UDCAaDEIe+lRLkt35clRaf9EO9qRMQq1Sxa\n",
       "4UG32no3wB94BT78bkgt/xvnOVYXCqkdGgT8MPNaaaBBTFMuuqAjDyvY84OGcyhIXhPVu8gO9gRJ\n",
       "GF9OOn00neZMz+MhMl8Tz72qTpJmuPkp55bfyp49IJAdVeKCJRUinICpZqSNVyVjP0srClMKxBjV\n",
       "91G3V8KBzqWgYalqDhR6YzeRYaskIABfXxjggaP5EXrHgqOLVvMXvotlBZnzYzxNcDdk/8e+tug2\n",
       "RCvJZPa7jYaju6lY0+PzgK4T9P/daFOgRM/hWMBcsVYSBAfX93kWvbDCFjh7RR1xIrSf0PYitoRQ\n",
       "2DWW6XK2PESW+6KoMMYmFNeBldhUGiS2BpgSa9iC9iBJRWXU+3sYSOU9HPhZ7qugF5PIB4ntShkd\n",
       "I8DGRYrX4qgvsGgH6/wIWBe/r6BVSNU0V/fTJDjVDX9qVajZmAgzTYuWjOVFtE3DWo9Ti9xGG5I4\n",
       "QUF/+vS97psJgjSU4udVevRORjKD6IgZ1YfGP/TwoVF0CIhQxGSY7P5Dy5Vp2/f11aLLyVTLMP/b\n",
       "LcNqiNrV8INSdn3n94NPSSTiea0l5wsB9O088OeEWiswMs0PDhU7oT/qdmTyCT9CX762mZ5bvJm+\n",
       "jRP3HvEfGpZVONd+AXdnajLvNm7YiDB19ja1rPEETJVTWo7JHfB5e+CqTDUkLOs6hwRWVzB4GLeQ\n",
       "AXjtYaCjgVuUiXVapYimqB8qbI/DrlN4B+uY8SB5wlgDBsTIIE1g5q5l/3tOzVdAWxQLoEWJYLxr\n",
       "maRhew+OwDtVYSNQpWtHyTL3K+45a5su8/hfgG2l2A1RxB0JjLgWuuzTww7OiiyEWefUwGVeIatv\n",
       "l+uzMlLiqM3LRZcBxr1R/sM75WLgy6A1xhfyTgPq7S+XOtxJPvNINikthPpEXvJaxhlmEt00x/EN\n",
       "moagefQCFkc5hd9lDswaTMFiwuDUCkB0Tg8UWECWedS58yGLymdP+wU91x+6qWO0sSI9s8bqWXL7\n",
       "nLhvodY9iF+LkcW1sYjsi28xtt70InAwHh1kDX+SKzT/ulF6C0PCUqXMATsQFcd4OTAhN3mm2BID\n",
       "n36ohDdZ5leSThs3Y/V9hB7VmzDRy+S6lmwyiOsfRRZBVjobFh570Q63F9y8Ag2V6KPi5k48PF41\n",
       "i8EWgRcTnlU+DRkwv5T+aOXf2DzK/ueH1MwN3QDbnqGfbcMdllpigNr4LJM6WvZOaGcBXPQ8CmPH\n",
       "DUoYlKEtBPy/6Ykk4cZN1eTuOiFH7Gke3Wsc+FP4SXYNHV35rRaMtWsxXRhUTrKQ/+5jxsNRXsOo\n",
       "Jb4Tbc8+3d6MdxjZuEOqK58xSZyfai48xy3ThuKx/GTY86Dh2Vyyq8bOAfjqFOqV6QXoxlF60jvo\n",
       "PU5nacgBz79UQiM6HnvJJw2bsfq+wY+Xko7MDC6/Hfakzwx683Pa/a3/d6MtWsxXRmkNPvFQDN88\n",
       "2mXz9wXcXr01x1zBsY/UmN/CMGvD+nC2EXHmORC6QSyaU2bdOVgLHtqd/0AQHnQcOyuWAIcOAEaH\n",
       "hKVLnY5mahk2vApjxw1KL9yhLQcTU239J3aK2p+Li4rTqedaKn4kZkvqv5zk65fZEZpFFwJl/Hfu\n",
       "g45TIuTOT7UXHmNdzLQvvztmA0DX+SK0BAcdHip06A2CCyZ3/kmnkURJ2W9mxpB5ZED/ZuRN1Ip6\n",
       "lF726t3ZiBzFbImTOPyPyGkZMrweFaktzyUVxc4YwkQbKkGqGlXhBl/g3c7a5t79jSHXGJ4wsj4h\n",
       "lTY7vXmQHU+qA8XExRr2jR+BTNj2PW5Rga/i+Pm5PQPcHk/Pb/JFZqQ6elXo0PCUqXP68cEYXcGU\n",
       "IFUKih4XhtU6d2JI4FPle4QT/owhciAepFilEFrQpU/0iAs8DtmaDMOVM+9UHnLosMR8x4ApEmjE\n",
       "DDOrNGvAedygM7OM2HRZD0IOKu0glqXGX1zBwDFQ2L9cxOKsC8GJ7f5IrP+KUaXVdbFQTEcjK+3/\n",
       "HUKdARsjAqi7oNCEvPv1RCRtpNV8mJAqqpIG/XDy1DBX6TJ+WvLKI6x9FFkFWeb6p8Hhytir4X59\n",
       "EqAI1rfV7xjFRUxAhff4BA0Lp/QvRAAVzr5gAkLbWJZC8rcjvNs52vKQ5y82op3l7Fmd/Kn0d2W8\n",
       "crurSCRGt7JfnSBAvH+JGLHhYAAAAwCXQAqQAOvAMyEAAAYDQZokbEE//rUqgBbLHAVAA0Y4i1Es\n",
       "bjiPZC+INLDF/+PxX/cgrr0SAopXLdoOkmo+Ig0yR2sJihCwbTOTiO5ZLtpRk44LDzI+o0Vna08L\n",
       "T80pgE2qlVWFEz3mUniV48yt4lh3O4CxLsXX4G7Ae8/ZtS+Uajc9bfqNLsB99xdi7EcPXiJpomBT\n",
       "Ni0twk9mMnkaV03nt1aQtu6PGWrlL/azJdBshnp7Q6oY8TiKTh3MC/KtW0iujXl7zfb9C7V/FDKp\n",
       "M89foCMkc2Sg8mbuKyUKoW2iHlVDlO0lTCODSa9r9/FLr47pOJjZKMvL8eOFfIDYwVepFY7UFYw0\n",
       "OiE8ox/ziaFsjDG34hgJIgQJkb4i7kn5DFp1mRzG7yg4wdKXVSNBZY9niGYIJLdEn75NlnRqC0wY\n",
       "juNdrsESY6tagssEN+IFpoq532cV+epal5Qx40kVDwKzlXQc5RZv7P8CyDqudij6Ih6tzXf17ijV\n",
       "rPNCvsR1OIVtaM1Xcbmix9yWmBGVYFtSuIGoFm55eyVONTj2Gs/FjCjDSeejtMCLqa4oBWuq6m6c\n",
       "ZU5JTCB0hLFVvJaXFKELQbNr+yFdaYfD4elHvo9cd5ILkDHWqFEBuwWc3RdObzxjBlX8TSmSpbBi\n",
       "HAJIl51mqrGgUGqSA2lW0NUBJevLbBtEtPluBVyYOS3lVXLkjIU0eJ93JPRu1ieDS67PDWfbO2r9\n",
       "M6hPp//pvxZTr7FMqgRB+gGrFyW1ZDy0/5+iY36Glw4cVNSxpc2B8W2LVH5wEooruy9LXISP94iX\n",
       "iBzY7pPYKrSbWIbe96Rq8ap62WrmCD2VlbW02Ua9E3dKKwQ64SNmOleyLcXxhYAvgZZRJPqyX5+u\n",
       "Hu31OZcTLKLOBwrwcnn02TIpGuRfY5ZwqMcLjWldtONP6EvgP70qSv4VEIVHXHPApQHwwcCEAxZw\n",
       "NbxxPeiAFA1kJHHqJb5VOz5itP5VV+MgPaOm3PQdbAGKGqP1T9f+ZXzyS7UWR9/wvamJUsPESp/4\n",
       "S9yyWV72gUatquda/qgsI2vIkM2Kb3aOPvpK9PcUy3Rv34H1l+DB3f86H1XCAIaT/xIoJ89pEMzc\n",
       "LDdJSerb+MjdgOyOoLZFPvsLZZ2At73uWyzwsRwi9evZklcPWZ4Kw15r9l9jiDQzYXrGi37igjVB\n",
       "A4qOLOYbZtLRs3VeXa99aH5tMtOLA1uXBogyFKB5ssBN6oY/w1ztkyQ/SizDU6ERdPTjv4nCum/r\n",
       "Rp/WdJ2yN8EHoQh5qRUfZZLCKFrYBrWCw6B503ezt91DUTH5rJ35aM7HXlu9gIpUwe7h7b4fZ/LM\n",
       "lGnFQHWOqruvW2luZX8QmRUwa7eKBgJLfh5stf9+CWnhjr4P+BCe60kWdIlFeo1DclLTRJi75stO\n",
       "/lBRH090qsW6coPe6NNKmg8KQNzV9ot3mN5mlhpuCPV8UuyUuu9i863gGrcOeSc05RqC4Vk3uWjt\n",
       "uhb3vxI4ngaBh4hD+iaY4qy4LPao23bDYSOY/JNyZmgZMvhqHvg3tB8ec9UUuoB7cWIPSu79dJsK\n",
       "AemmEeIpOq9OhUGM8Wjf2fgVEOI1IHvwiyUBuiNPVh3DFZrcG2BQmqw3A16uv+bwMRGfaDhTQzFB\n",
       "9UDQxL+YpjQmoDuzcr/+RzxAorCIUJ9qm9E2G3bctEfdq9mrMNFW5yjVAIEgeiGxW5PIpvw/5okT\n",
       "XOaa9Enl10mC5GeX8FVYD72YWlKf1Gj7ZaA0DZDXxugYGAF3qurkWRlcUhvXqzdTwZx4/SKWUoj+\n",
       "btLbskzPck2D0Fgs9K8YccIIJxNw/Zj5RbOwCVP5px6CTLR5BUj0K5kfCFcxJUIPflz4sWdQBzf1\n",
       "m0uZEDvyq8kEBRX86E9tiBna4+j0ztaj+g62eB0O4nBm+AXlDiU5c+Vi9Oi19h2cADEkFjJSS2of\n",
       "D6JTokwjgKT4w/MkQz65Ef3QelZu+wv3B4Gkzn/P55D2EYGQeqZpD8CJN4NZoAP8R5C7fe+ZoU/7\n",
       "bHdIj9QTaV3wOGdAN13lMI3PVTzeXdlKnKcqLjs76txz9+6AAAABrkGeQniCHwAbNkDt5YAE021v\n",
       "G+Ztj6AG7iEIEF1RT7Yg4qvY+lEwxlZ4CLQJJGgVaBSUj7rwwddkHzziZHyONbeHlq5D6klVUBhu\n",
       "ikufgJTHPFqTfZF74+OAPUDvCxMAAyo/yytaEF/TJsbZ68axD5j1QYOrfatP9NYMq0PxHtcrDbOc\n",
       "E6M0qlhASN75ss+KJ7qdVFF1K5+WlDSZ1eJ9OB0kqFQDpSthkdXdZAdM/orcmQiaYOmTSSNUpVsG\n",
       "jbIYJZk1vughw7QmuozorU5KPBO3LcCzcqvQelVWbvCaj4PnM4pQr4pU+Kv+ctCJsGLhZpr8oKha\n",
       "VwnyHJH6sSBQsI9Nq8i9HYNzNFv/GjfkDn6LNE+jwAlHXEefQ5RHDvEFiWzupKdOW92Y2mASMwcL\n",
       "+cvk1lF/BkfgPDiKEekjzZIdYbq8IiwefZlDGxMvo9Ntmro5U2evDUrXfX58ppLQ67o0zQkRBCtj\n",
       "ScB+9LDICvASy4N2R1dZUe8fiQbMPknDbHOiBYPFeOR0pZNSE3ta/DvHckn9ycK0/lilqAP+sU7t\n",
       "PMifvE+UseslmQ4AMqEAAAEVAZ5hdEP/AaUdHm+ztrwtQ+yQAANpQku7Jh7Bw/+h8mR56jwZCe/e\n",
       "UCu4q6+kWYBrg6aNYNCoK/zNLr/7PYm2fN+J6iIrLmwLeatstU+aARnQIG76PjUXtpKGmzbXKw7C\n",
       "YJMptmhRVOEwLR/Gpv3y17B70iBVQ7oDPMQHoPw+sKAtMLXkz3hj7qXlGvybpsuE60jC/WiOU6Z3\n",
       "+lZgk48nVpyU5jNJ5DtzNlwlcocwFvs8HIpDh5zHG/IpNxL+66aB0AlXmcrD1/bl2FcrPUnqEVHQ\n",
       "f40Ec9jEoGP+n3Alho6fh2ZFcjm1X5ycKPFh2ZbPlTbozFNMvdjWy+TwZfat9ztb+TXb//tjmPw1\n",
       "c2uz4NoBBqA4IAAAAOwBnmNqQ/8BpEMj9Yde8MwAAbLuW0Lfv2IiEF0zhZ/1+PxGtifDWKT8oXwQ\n",
       "h7NJLwOFyiMXnttnF3fuM6e+Lzd86VtusrlEYBcwFdcs8bDUIFLg4722ZJIc7z89ZOjlDFO9VnnI\n",
       "NEzhRdXWwd6UmE+5vWZZ7wIpIyDQMM7oAvD8uEfvhH/UIEUhmvLUgjHdQst3JGcDP3zprzoPhOiU\n",
       "JFPCUNshJYzQX7oNjc4uftwJMPNRyAHxQOn9A9CbTUeRXd9r+HZ8rh3S9FQYVp+Bstwe//TwXePv\n",
       "23y1drNknWJhypJjEDXSjYsIKJ6CBwAAA2ZBmmZJqEFomUwU8E///rUqgBbtxULJ/tflAAHZuO8E\n",
       "u6JNbNv2xz+/XG7AZuSSyAKciuGA56i70FcdNhS26N9KibdPDP2wRr0YEHNLczlWLto2wMPmImcP\n",
       "BTL6XNZujYReKkFWeBmWJHy6axBvNIZOCIhDkBxZGom11Elk1opTw+0UCXG7NOpAsyUQSPMZZyzw\n",
       "z0JMUAa+rHE0MP4DYLihrR+HWhDdyGKpOQnkujjPm2J9xh9ufUFx/Qp+xyaReuzsffnGxK9OD6bg\n",
       "dirIthyYO12tvsFL7V36HYJ0dwXL3Ic0qxmzPnNRl0JlioU8F4DysPxTth7BU12S7A7XBhYIscW4\n",
       "HnYPO4fcDjJv5Jb5hXHiPDDoNSmURvpmKR3LqDt+hzyBqkfC+X9rCl65COWbXFFgmeDHn8x6T90l\n",
       "SrXBhThZrdW8FPVRVmKWJ4shJ5YmdRAv4pOiamgi2giOegZw63XTysvBp0ZN/y2W+/Oja5kfJBPM\n",
       "qYHLTJK49D+Tjxu+KLGaxVZr4izWP3MWxZXfbO0j+nm2PbyiP3l8DRQrEFyVuzyksfZgvlQO1AUW\n",
       "EADFLmeQi7PmiUeiE73pJ+pQtd7AX1vHL2xPOkSgZ9s+1+AAAnng4a/y1EekUrHDr8fPCvtcyCGD\n",
       "pClsBY+oETJAUtY2ZGfmjSoc3T3gJzfJ6eWYaFGEyusNvkBpgKaLzeaRMo7cxnw0MGbbTQvDGJiF\n",
       "BwXClYfbZgG53/cQ0S8UQWCLanLnelxi6gb7GZO010/U2hQ0D+wUvnvxP+VxoCnn3cIo0O7pA24+\n",
       "BXXq0X7NgIbtlLrImLOoVR2lGIoBaAoJUBSA4NDzSZYRDoHoMvs/ZkEd9ML++DwNWZ07w8wjjOYk\n",
       "JjxCrL37mxM+A+q6BlDQPJuaBdn8frcgKEvLX+980JPuCnKW+aMEbIGvpg63zQxgBOcluPFFY+PQ\n",
       "b2q29nVc7qunJmSZIgujps4IWTbUCJYR2dfxvOFtrZf+NmhUEqg26xiKqgAMp2N/exHhgzBvx6Tt\n",
       "EyjCzzJ3d4Mnmi5dNXzxYUsTMSi+9cX9WFvYMVhD94CVXmkZwZOT073dlV8rb9CddMLXM+5TUBew\n",
       "VSXxB1lonzVrEo4KxZGZxEtZtCfUF395FnwKXco50hwtiOLcvjvqQ3sAAACUAZ6FakP/ADu/GPhm\n",
       "lXY7zABs9B+9/09DyV2K8TSiEiva09doeroicn4HVr8tHEbqrGph/EJ0APa65uxRlOBVclthtX2q\n",
       "fsOrm9ORwzVhZjup22S1QuI8R7czUMLEg8xQChlAU1hzDvbsYxacHq4ATP3uDmuUrMIcAu5sATuZ\n",
       "mPELew/dckIPBgeP0++dpMdj7wAfMQAAA2lBmohJ4QpSZTBSwT/+tSqAGkR8tpDLmPXRE7T5MTAA\n",
       "F9p9Vqb9vy8sd7VJpT56vWBVH2EOW3OCFt8N4Lka0DIfT3CcNxg1vrql1oUOD9Gge9tObw84aGgw\n",
       "veN0ezuhAcNtr/fZhMG68HpIXUdZ2wfshotAI8bKV/GySUKmugtelAmL7zimaWD20Bo0/PbHGlKu\n",
       "cBeAst2BpN+1QbW4sv33AOgK7ujTfjJEpehkLLSKOf9T/xpEyznwNFmEDWGtUm3TtNrZdiGAGE2Q\n",
       "lamhN8NJf52g3SxnyVz2DD81n2eaQpkZFOLW/nL3bC5mmAAcU/elT0Dx2bMzi4ltQBv3ynSsQRrt\n",
       "ZT1YN3IVO4ZozVinD+3hw4IzjhoW4DtO3c3X/P0/AeOsceIoT5l96aj2JPnRc1NVszOT9cLnMRe4\n",
       "tfd+jhBunCB809VSfUmxk3xEWlT3Z/UEgp/vswwHvBiOCqIlHzpJ9nxBjNTvdqPvADUnw/HHTcOw\n",
       "aSduZA0bSwZgWIL2PfZA1Y8OfaVZMRKcXr5mfrYmP+2fa7VXIUqIq1wVEXpeB8HDmnnydH00dV/5\n",
       "ABHg5/gsxPYP3+fYasYWmZ39xIwLTy1VrK/8yA/e3FxQZzKSaMeKMem87U37306wyOHRYJegqlBR\n",
       "HyopDuYbk8dTm3gF8gfBok0N6K3GItJdA1SgWr4QfVeB3L1uuYBfQ0V7CmbVTeoe6iWtcfVXePjD\n",
       "bKMUTsXegqvJhqFPkqOTcVAJDgl2OGLfWDcerLcBjVjwSQWaiBf/x1qcVEuCNH1SSz3OIIaCC1kX\n",
       "eOPTCfDKS8A6iixPr7EorLP4JIia69OAOEMgZBqRoS35Vx0l6v8MGQU1a2g82rg+Vt8Vhrj+SBWm\n",
       "Y318orIf1DpK4AFIg2/+nZj+xq4ZvdOliCtVEnK1awSJ2L+NHf+T+cC9zRHpiDmQpqLvvPNlRM4I\n",
       "A5SZZfTNvtwRCaZHOzIWv5iRWpt7AU/amPNNBPTayiahDUWyJw0CQGhegaluvS5vwSOrVBnwJdf+\n",
       "1nVZ+EuQ0LH57R5UHgB074g12/Fi/gKUKnwdTOddfEGEcAjv4IhT48b6NmJkE8gn6E20D//j9JAv\n",
       "8DePHQgo/hJyRsB0MrLn2VCBzfydGKhTBnOFVxoAgn9rSvLQDYKJg45lgXcAAAFJAZ6nakP/AELg\n",
       "1uZx21HDf+pvM7ACE1qT8rR50UobzBgRjEJ+X5W0q8+mArrV4VV4dGPMmHOk0v+vVeXjNoIjDflw\n",
       "0Px5bh47c0/hxP4hqg4nuADzwYaOcy8Qqlk0R/y92N50BW6NfNSNu1LFUXWRf2Kg1ZLK1zcL3s7w\n",
       "aW4pTRFlfNBsVjAH5NZczWZHbYBtNZj+gaHKiLlvCi2zfhbhUnwP7DllZlnryfPVQMx3VRNTjraz\n",
       "StFJppK0wwZVfHrrBdxxAT0VB3qLHon60zIAzUPLOmLUCDCquXHSjY1NNnG4lmvbxgdb0atUgUVL\n",
       "y5CcMIsnTSQnnXj0xxQn7P+n0GBf2B8QCjGBHGn9k4MoSDwqCI6OHSx61wyPouYD6jPRsNULbq9V\n",
       "sME47reb/C2w8TgmIUDg0B/QzRzDmNRgk9Ac5ste6Q0AHHAAAAWgQZqsSeEOiZTAgn/+tSqAF4cD\n",
       "MAC3t52JjdaHdhV64NIADrsqnia+uRv2IHr0ew4vMP9Q2TVi/+fgDp6jcT/BjsG6+TtZElF3PqPq\n",
       "QxnQGFTuorg46GGbzegx3ESP/jhvirjE13jJhY6dBCHq8Vs973h/32TbWICO7PoZwnSQ1DDDKphJ\n",
       "uUF/0y7UutAiGIB32MtWgR19TsKNbTz8dxlwaTKmqvy6XY7CN1CFEaOVjLtZoEeP1kW/bUoJ/Cu8\n",
       "0v8WNB0kVhCm/55z+GDiksKDD9Jhf3kJR2NjEczLGhWQH7LcO9A0ZJ238V4F2WCLC77nnb2pGcoA\n",
       "5XxZFl211Sr8oMmAcxvJAJl/Hz4swIEzk4DgU7cb5FKb3CkQslgfLIBUYUh8NXe/WJPaggMokVwe\n",
       "ix+mzvD8vPqy/j3GfyUdu1nXvopprRpTG4NFosM+vwWspgjNmgfAcjrldQTvYWwXUvuVJGI34aIx\n",
       "GhIHgxx659rH/wrotbb+QFM/6YSPX40L6C9i+3u/728jB/iPUDhhaR3LdQWXIKchbyDaM1LnExwz\n",
       "UAsjS+Yf5daButYCg4/MsbzBzpkcnUs9MRH5y7G99QLZ90PoavL8KDA9p6ZqcoXgSYsjHJWmV41D\n",
       "e4x6vg9kke0XXPIhBReBAQBV/Znk/2zcAAqOa8FFbHDdd2Bbpfro6PkopkTsEEoYqGrTHh3Ze9G2\n",
       "2xyQqwQc4Kzq2N6o2b2inzVBvbMr8tD6u4C1k4CkkBDimV8Qgf/j5PSKRCqAcU/NudePmEbUG9wV\n",
       "/7CEmCjp1eFd+Pgk7wbjsyXNEWQQ8q2v7h0Ipmi1V/1hEQ/J/FGpZIedx4Hg9j4VYPrCIJY1Li6d\n",
       "ylXU67WgdUxr63TvXEXazSp+FdIuApLNyBTx64Kf4oWUYfQRfE+e0dbuNldHpbMT+yvRu456+BJs\n",
       "I53Hpj6Vmry5z/1xSqEGU/9/CPtQcrttt25+uDgj2VjCRjc2TcGBLHyJzRzAi/npRin254K7Asx8\n",
       "wN28TkyzgEVSoHpfq7mwbi34cY0GGXlFR2mN//yOa+N6BkR42SsIX2/4SdRpmekRtl5lymTPdX2s\n",
       "PwBPFhsEGyliLsWjUgC/emPY1o7i824mHKIokLIKxBokSOHzKbjMVIJ02oL8wys/zT+a1+ede+Kl\n",
       "7V+l4M68VF+D0b/FiJTN7RGY9JBPNfTsMhx2GJ35xI/4inkSrcCoiVNTlp66JJNFDh/15BUgyXDM\n",
       "zIepUwJf/FbAQDMx+20KhnSuVBrUydeiZkooG3swHFOP6vlnbtdCpXNkq9oubmP/MQGrNJPottur\n",
       "BFe/ReIESdIEUg1mUr6qfCibuaou2tQcohYCSKZB2xStpDeGp1m5O/S+vbwVxsl8M4vvnzZfms7S\n",
       "7H/m9vGZs1tPjgnFN06Nqe+WrDkrsn/I+NbwYtrcCgERCg4B/c4hNg9r9ZwQIt1iN1ht3By0r1qG\n",
       "T6ZF3wNI43ZBfQeKdcSozy4O7pFvm5B3xqVdaBg7z70TJzquZZLkyhZvupu7HrVuuS/5G9gPtUfp\n",
       "8N6R6AHJQm47CQmTxjrdSZgmSAPObXSv268kHflaTNMz9t+SnNNY7QUCrX87qtKQVxocsZJQh7rR\n",
       "x/+O52i6/Orem0k7TPcuZCdKcG1U9y+lKTzMQNfTjpvSTaXVhqxu8EiCqYxUU90wOjkbqik/SptG\n",
       "tFlCHTpjPOAFw2LDnnsjPDp+PMnZesPPht+l2exzRHG9jC3K11ae8efm3j2ooRO9O+r0GAj/Bwcm\n",
       "hyP/ihQFr0UwNWUaL8EiqMMlHVb+3ZQdXkKyyrIZ3sV7ni7YLA+uQCTZXxhZ6r+J2DXQY5LMp+3C\n",
       "3lnk/gmzi65SXi401PkT5GhJBAgErSHsihdBfwQFl4tcgg+1ppbPYMe3V+XvCcCoK1EEAAj4AAAB\n",
       "A0GeykUVPBD/ABvTBnBVidEswAcbkDVphg1spupGv0NPHigddB6YtJ0+54Raw3P5fy/yYnjqr5sW\n",
       "E9FByp2E9px2rKg1P+uhUVJX3MBWN+zF9asUijnyb7QcvkAn3lZxth8z4FAMdpiQOzT+Kyp2kYgW\n",
       "hee1VN6iBN9Wfk+Z8Bnq1LryB5RdabvBwfN847ichjOFMy2AGiPK5dv0Id/cOAu6OVsyobgkiNTI\n",
       "VJwsRchZK8fPOsJ6RmualaA4K5KtDNNQfYCapZK43Scn+ufwf+q50FLzwlLJlBbgk5dOph9CpHyP\n",
       "2yGC7MTCi8wS/tuVkg6zXs6F/pyrW4AXeErrKnAAKCEAAADuAZ7pdEP/AD3V2vsMwbj1xFOqQATr\n",
       "KY6TgUOuhPvToGwV4YHbng4375EkQ/ZTZd0YTuL3LdKiLJyhLMYUci8vFoGj5X4gNelibL+V7ZNa\n",
       "NF3WmjS5tJkyTXz2/vAQPqIQj2H1NQmaqaDBw6x0wp33UUXgXHpQvtriSmn91d18BotSIVmntbxL\n",
       "2DI04O/WNhbLvBemhy6xagBSbA5bQtqN7r/5hR1Upp81TUyQs7X7s963JJXoMMxlmcM8wAIAFCMr\n",
       "He2C9gjVDet4pkbeR3S20Nzx6v1Gbehto5Zes3RdS+sURxyEZIulmQQArgB/gAAAAScBnutqQ/8A\n",
       "Pd1+K1kTgvhABtJFK8tw9DbM62g4ypyGbMLaWfhh4o/cb6Zc+h4Gl6viKBOP7jxYYUk9i+zS1inm\n",
       "j//Qomhm5INNCbal51GVFULyAGtC0Z9U/jrwfwh1vvCaGO+xDca8A+O9IYnm2KOAX9hiVnVoaUi/\n",
       "Q2VuQGx2+8tphSB869lT0BLuBOY92fQYSt0d7E6iaJenlhc9doeqh59zVWiH4d/GAEoiQ5gfkFz4\n",
       "WGtSWc7TaWKaoRAoZLXFuh6kNWg2Hwdkp0B41n6AufzUqSI6DEshZH+Dw/AH32ob3OogPzH4RC5t\n",
       "o3pOcF8qOJAqLaTM6eX/ovabfYXHb5Hh6of9K5fI2rjteodzDYj1uIl03+CUZx/vPmpceH6Xq+L9\n",
       "jAEHAAAFaEGa8EmoQWiZTAgn//61KoAXg3/8ABbzYdexPn8jJcyPUJMwJ3mWkoyyu9QTmQYnE5JA\n",
       "y213732ILxuy9k2tMbP0Sz2m3LNwY0afa1s7M6Vku+phgLi9UOz6TgGhfOwZeJ/Hgt0WBUoGthlD\n",
       "2PThPM2cr0W0K8YikrrS69c8PhoDwKGXsUQy2N07GxfNBjxpbBzaZbEqlJ33SDAz0Ro9Rk/gVc0p\n",
       "wmqwXao4LN/0zbMnd4g2JJ4HoYJoTAv51W4EwEarI99+c5qdENlmVLUympYcCXcZGJD3RBVUHQk2\n",
       "mKF09qOqPYqIR8W3uItQ5K4ONMc7PEUp99sRkt/m7LEvmUi2dZW6plfLSnHaWsTv4Tyr5eH7Lm/9\n",
       "4sc80SPO7It6LQue84YcAdqLO1XNjMiC5IEysjjIKM/BdYvbzcVigMnkfY7FdgpFdpl4CFtZ9B2r\n",
       "9yFGvmOg79zoLcmbAHFjhqGssU12q+jCjv/rJsefHG0m+M5ouOTuFKO5UoQ9772OF0lOEKlVqBIv\n",
       "ym58T1CM5p5gaJRSczDFVEHyI5VcvftQ6v6KrhaXhc/pbplWLjiB2ent8UwDO9h/wZqXhFU6iy6G\n",
       "C68hLV9pfS1bb8m4593a0W0BxtknnaX/P0TG/H2PCEXSY+PnKCY7+a8YmJXF2zzdiNG1XZgdrQGu\n",
       "BEv8HM9RfsmQLdmNtRUDrgxFrfg1Cs68mHqGXG5qP6Htt6ZNxgPJb4cIQHJHelakJgUkZmygo/zW\n",
       "qEWbEWCvXuqNQ5PA9QIP9xOID/pBZSrO09ibQWH4T5lHPK9ttU+bkot0kwix72XQIdjzKXkp05/v\n",
       "tCAIeXMI3TK3+iqSddIEQCJQnyda42aNxexDDXRQKuGoFM5idquUNu1Y3MqpbkUa/xb0glUm7mYy\n",
       "DqLVzb7qJDt5Ry6QfW6bdSEYnjDC22IR4G1HjscUp5IMUsXwU8JaNsvfAd/74VTWM6kffbP7TqNP\n",
       "bex3HragoVs695GTd9Nk1PZaFDpa1VgBUJR++rswfNTxVgrFEty0wwrk5wCZrrv2J0PgC5TwRo4Q\n",
       "m5shSZd9hFKrcJ5i8WEj+toSPNS71OOAE4JtL+NM+OpGC34pNKlmcREMGnffZ6dXdDe28cAo0XMS\n",
       "4J1/X8Qrn+vr09UzNL4YS6UeI4HnvLgj7kyPV6OXSnCTKOC5hhn+74JVs6kN/inmGKI3Xcds+eip\n",
       "Fk8uwAlwxsILMcSZz2VAZ79dOzBiJSrduiM2PcKBaFYsDcewR9bc3Q5zFxSfwTwjYqrAe70bwV1k\n",
       "7MhmJ+wYd8gPRdNCr9UQ2tacccdxWGf7roEfVcaHRfQUryw1kR8E2OhzsVE3fhBgfsmkzStSk65L\n",
       "oCV4Y/b2rNxEcpwWofNl+WIvVq+CxP7UTshXSFg0lDQmVoTk2XRezXYwyMgzLsaWQb6IoMon7dbt\n",
       "9Ixiod5Xgp1yUrKLY77Nu7XePqKPhk9X+wH6Y5JN4DGmO+8RqogUmbjVLHIfGrxJ/bAunuiQqfyu\n",
       "j5L4H8X+S/Ogmtng8Aev7u03+APTjJRcCCkwqPemtf5QN5p1V+JURJ2rX1ujrpHe86SRBR5qx99V\n",
       "tKRnXNyxrZHNnsGUBtzwma5awJGsQBcgCH3as3+frY1aps8I/1M/3GQpqK0CQhJ5Yiuge/G43yic\n",
       "Lut5FZmqyTgAlLIRA/g8muoM8tUertZpNbiAuG4w57WI6UlY+M3FBiADi+NWqeFet0jbhId+ts8O\n",
       "Wgm+JN6N9yzkekl0CGkcgeSHAg3A0qBAnXjE6JYh/FhnmN8IQE2Brn3zd56ozuzKMPGC6Q7rsPSP\n",
       "i1mVFSdC0eOUcT+90Lr2qJG88JJIFJEAAAEAQZ8ORREsEP8AHCv2WBTmx7DwAD+EfA1hUDYFm8cc\n",
       "Qy8HCdm+3h7sHOPCHATLUcziwYwZhF5KoKHloYzm/ZLBZjiW6g8bXUJeh4beUHu5oi0CJ+r8NUCU\n",
       "rBCK6rB2XPwBInpi/xzNR4OAvdjJiU8k9cvIDfxGp03LMZmoCRLF9/axzywU3Zh0YDNaVZRwbL1s\n",
       "pHH3bH/zSDwb3FzLwAkfMZeCNW+Rc+Vld6PJ1EbioY+BZ8VJRPHPCK6yEiQsz6hJZfcMeBc0TzY/\n",
       "b02XyZdGJaRwBCGAu6rYo8wDz5gYyRI7eMRYMEfNm/EPfKxtIGRU82COELyuhHYf7/s7wACbgQAA\n",
       "AO8Bny10Q/8APHa44AIU+PUFvmtWAwPbqahm2UglVVDrL3PcWj1va0aw1oVzTRmTAKslGA0OVGXU\n",
       "mZdEVoLG3Vyg9s4GaJUw4bImXtigRf5zedCQkRdvQPLiByoZkAOpBqQlrqhDGu8vGYyDacMFGJ4D\n",
       "BRAbCMgYLWdmMv9oxBtCOvx9aYAtUMpW4beUTUag/QTYYVfPcNVrxtdJWw1WQOXdUzTqgMVLjKfo\n",
       "wJSsgGin84yDSgEJ/FuDfy/ZGlHm3y99e7IXAHyn1Un/Ed4cI0B/XxWlCESsRYJulUqQFPuJKQsQ\n",
       "zMIbXVZ1f2m9fEAHTQAAAPgBny9qQ/8APd2JH3p4oAIdFxtbA9WXpIJYO+eFGAd1OYev2gieE1FJ\n",
       "XKBDylrIkmePGlC0/PK7ewYBJPQkG1bzh48aANmGP3HCeSO7tvN+aRedkf9ZTMvI24nMWXCtlTAC\n",
       "aN4CYs6CM8mXPwHcty8nYK9MI9JIU0W3ShA/zehb4oBJHi+7rG7F03HMLN6Kwkm7V6S0M/OLhcxo\n",
       "L+Bu25N0mBaQp/+wUds6lhun1ZiC46HxNdNfCXlyQhHufRaYsuhNxqMUfFtG72+PZ0nhI9FDnImM\n",
       "g3HVWP0uFPSP7a/Rau2pBdisOhTu9y8QrqLjkkTjfKdn3WAFlAAAA0JBmzJJqEFsmUwUTBP//rUq\n",
       "gBeBuKe8exiWAHH3ak2vwctq9NxLC2Azh385XHNy0NHoQDqXNK1BxIg57IGRf8pIgDgM6+tgat/P\n",
       "SNftM5sQYPWsSLnmDCqix8/N2PACUOTTiKu1hZZ6y1QadAtkbCI6JhSLt4GI+oT7f8P9E+KJlHkJ\n",
       "a2/k+OGsCcavHYnif6wZciGGyE5mulC8kttOjkTfGC97BWzN++6/2w86X+r28YXBxwhO29Hu8U2B\n",
       "LspHJ/YnvVviEZ8fli4J3lnlzKBWa/CRSMIW8nqe90C69UawaE34a16RoWANFebDJqHZriU1lM6y\n",
       "gZegTmyd26KzgXhoLSGoBZkQaXWRMbr83SMW4l0ql9oJT/rWHEwElgF8FCD5VEYjAoYNnap55Fc7\n",
       "fViWQCVSOf4KH0tJBkiMEEVc1ERrfFHvXPHArz8oXkdoCmfqFq1mMjK1YsC4dXKO3OHp/xPQ2qmC\n",
       "ZX98YxUPiPP5DZWAj5lzGglFDURyG8CLve4WrBWkYRh+HyHQOdWnvyxxxrVcqbjA1yeP5etSg/RG\n",
       "LIqZmkFL5pkMyx9OMdATH/OYkn961gD5/D35RbI/ypxtSSOsTGb5zM7U20OuOIjsLaWwfv/6TeIK\n",
       "a0H+lsjBqkH09M1P5yUeENAMk+LSfIozsUCUndbiwDvab25HZiT6NmvkjCN/TLLxrPStId3yekav\n",
       "/V9HC4EvSj2Ucve/VzsWw5i7RnQJPbcKRKMHPos7iQ+Y3EPQB6foNuIn4w61nNpnWp8WLX3qoTYe\n",
       "zKR1mJL8qiMdUgz2/fld3w3xFyF3ispHXDuxsxr8W0hVUPADUJAWDQ6zla5Dg4xyVQV00JCEG3r0\n",
       "quXlnM7kyLPXNczC2/Hm5jvcxldUCbGCQwkvUYNbUJc7dc9Xy2hjFNlqJwuioJ5mrOlEJFaG9UO0\n",
       "mpFKY4fo28tOvgtNAypgR6zfIAqfDOOiK+nvXrDDMUuH84sfr4r92oLx3tk4rQB6Dtdk97NpqXb1\n",
       "owKbe4AbBYfa5Ev5+P5WNgvh60xGZeDkLxDIoWTUJb+sop/wKXedEBSzsn1dUy4XjWBDVfw3XTyj\n",
       "LhczSdFd7ZZIp7kNWQLpXB4AIuAAAAD8AZ9RakP/AD3dfiqW3HVFUgAh+qe7PskdBcCS1ghSRAyX\n",
       "5pWZ+1HGpNpYHC2Iwwn7NJAcaODKR5FLrcDTAK6ngUgDuTJr4o9xoWS+8Z2xzAvN90Q18a6Ug0Wt\n",
       "19VECypFL6Orgo2FvEmqyKDIQ26jLLOS97zsaVTEVM8ix8S0IH90nkH8zEPPnkGvr5j6ZzANyW8Q\n",
       "FR4G8A3n0aKOtyxnQD95CMrispVgLnZ64qxB5hUTIkkuun0VwPp/ZZXAuMYLkM+4P2sb/+rRrvke\n",
       "5aRJuEAVRbSgaXhix2U7gfj+OdXQjigjyCC3xZZRcmh8n/pyxZzLwRrIfDYAABsxAAADuEGbVEnh\n",
       "ClJlMFLBP/61KoAXgWymoO2QAsNeznLW/CR9I7h9d/L4uxdpaJR/jVtb9ZDbKOVpbqr88y8nn73F\n",
       "1TUpofxHjjsrIdAtawF0Rn131DWXPBE9uMF3WENpNdEH/VpCtKAHMNGamR9/MTz6h3zI+//7kgo/\n",
       "WmOoRwOEjo9HXSBy49628tGyjgBbkP0ahtnAA2p0jT54F3ktYApunEy7hS9FwDaN0WX8eXu0eU2m\n",
       "hmkuKEqvDKc/Lls2QJJ9arv0p9vsIGM7745OKVYTeGkErzU5UryqtVvcTj8n+2bQjfwG4yDcZnZt\n",
       "wIgrS3aNtx88R3ZNs70iqp5Gt+RuI4v+fomN9kPy46hgEEROYIjiDATtg0jfp45bGZEZdi0UQWHB\n",
       "EZ2Gad8YwFFTlzrDWWKpepbtHCUDVPK3xzxvxt4k4/OiXLDxtWLElwKtNgBrtosUhuolUXZqdRhM\n",
       "iZm/w53VX3UoWCI1/rSNucZO9EnydRgqtdxKmOb/lTe1tzirSCX9NbFJlcu94C6juRzTK1ecIyfF\n",
       "VPkV1Hz0/FgKiUXFq3SX8WHfSnoxGNy0VXQiZPm5hkf+GQizLG6RsTRS7jcY1dNhqu46+LiOx1pZ\n",
       "lJn1RZOygMF35VHl1ki+Qjo5aKfdrJAX/ldRKCJ2yRodEe+sVxErr0dBv7XBQUehPsEcfL1iJsYs\n",
       "aTgc6Hu1HSE35rgiCJzrQJ7J9uLNDTVX7R21JMkD3BlXG7T6qYNJjy5NiEUg5SyWUcgNCMaY/scL\n",
       "5hPQMTbs/l093bmtW3FaREOoK05ueh6ckGgcUuQFlEe90ddfVkRYHGtmu9h2rhs8/zFkWRXgnowe\n",
       "quTpH++s+5CvYhUVc70IdMJNlis5HeXwNgLQmsU+PDCU//hrEAQPTz1zO5AK584isN7Sf3lfIywU\n",
       "shUJ81q4Bz6Qu8vlYHnNR3gzMNIyIxV0AeUi0bDPbwgRfQwswfP1JRk490R+iuwtzA3zCqeI/0Gm\n",
       "LVmqZxRkD3LiS70+xcOlWlXqVb8PxKiYJhvFeczlgG+yKJuIAG2koTBpf3zGWsak48el4R0zi0Y0\n",
       "HDyEQAImUOWzlhzAG20Infqd4bcD/GTlnsWUoBNULAitezOcVetBycNSfDsRVto+mMg/VDhzazi+\n",
       "SHOs6tuNiXDAsi7EvGC8dGz+hQn3mMLuWRscvhRA8y1IXbUQgOx8tmAKwE0ipE7wlPOa6vMcX0xn\n",
       "IB0+h5JLe5tLVKm8xLyrtXJo26MVFevjOs/GP2lo0WwABHwAAADyAZ9zakP/AD3disZdQADarsrz\n",
       "wi5kwIp9eNVvWVrdCxvX8jk2fVMmPSbjx5+UYw2/V4vhmFGfOupab95zZLxB4sSxiNzELF05C0UR\n",
       "0mXS47P92V3BC09LgyMgRoHegO1kzpZOBb9i4/XmGSDMZwdSg2/arA970QBsLVECpynukZxNeJ99\n",
       "Qyq7NREx1ayCYWYVsF+JtYt7n2a+Ero9QHGLDgFXheuZVrq3+rgswELEFfyIlKuy3SrcQzyGedsb\n",
       "1O0rVdYgIfM/HIcor1ElssvKI7K0i4CMfjtmGxRkmwPnoEL9HKcXCddnl5kv6vu82AAAakAAAAKS\n",
       "QZt4SeEOiZTAgn/+tSqAF4cDMAFb5ficVzfmYlQ41t+H/P4EGaJAaZOW78W8rVT2QRvbnSk+mFZP\n",
       "oRcPowlxveKeXllCuxwuPxjCIhqFpYLqoXKnmz2DXTgwvkieVS8b281CyOohJxZcOJrcEFyX2Rr5\n",
       "Jjyx6Xr9ANLzFuh0YQOXJq1LCTNFBCyjIFFUW9ZuW0mB8zGLQvKyjo2BfyYr+hg7Y6vC/edxXH7A\n",
       "UoIuSQmZGETdhubdVU0HJkGsCr7+Ri9wNbEv7ntE81lpwztqsfTCAEFs3MD/fMPU3H2JXh8o3QlT\n",
       "nAMI5EEvzQFlweA3lXPBNxoFhhEvTNJP+kTyjtlZ2Uhlb6QEpzGuDKNZhDiPLdJqzb5p2Qj3FUko\n",
       "6QoODN0JIx3BBqNSr40//NnlW0ELM4HHgkAiEdwPz0oFF5elNNxsMK+CxEEqo2ylzIyStCMw/2+A\n",
       "1Dew2qFakeU0hcLw+bQZfQ0U/8MjM8SZ5+UfPL/2hvbylNgPY4e650HQ5olyf08XU3ZoK06d3eIe\n",
       "FsET3+CcuhcAMvfAbywsYe++anPKoLM+cQpNTmgtCTyEuSA3A/FHStRnKZCosCesJ49ub5SUf5nK\n",
       "NUmgXx5nt8RUeoZPedInH8vgf3Si7+D7fnNf9b2/+X3F3orPj3v4CCwYoNdZlx8G0QqtetKHNr/N\n",
       "HccqPAxWrsqv4Yj4F74vUXKPpo8r+iuSoaNQnB08GZCrJEDiRqfD4/qbJZZJq0WYGsr/wpoHHkQD\n",
       "OAAeIzJusnXKQ9Nz0847j+sdMWzIrTbFvhialwOQ7JFWyfHf1y+tRUhyBV4/FcbqWk6lZ/THvyqO\n",
       "udpv9Fw0dN7iR+8NIliJWUjydSROj4QJnR4J0gBQQQAAAOxBn5ZFFTwQ/wAcKeSbwh7Y4ACWrgOr\n",
       "NSMTcTN68jd/7eC1lYCurmFybutVRPBIQuJH73kQH/jxsJecQ1Qc6Ry0chHx8YeXuWSyGgdZ9nyY\n",
       "Rdy4Qh8gyJui3ITPQP4NqNDyrumpwUdgjBam1+CL5yyM6bmyrqz2Y06FKwq93yUiNPjtVnK6/x/D\n",
       "YPL/w9zQB/iG+fsimzmvOwtLS043s3RWXz42p6q/g/9VAWafv7sX6OFJEAhWJzmkir8A+F9CFUci\n",
       "flQNZrp3tgufEvht6pkzBkMAMX9uJ7dmvCtA3tRBKczO0yC0IUyQAACbgAAAAUoBn7V0Q/8APd+P\n",
       "v2NHCADaJMpzoQPBY1r7vqycb6T5vMrBfNkWiOZlyz6janqzHiJg55SN0IzPOu+3R77qkIqXf9j2\n",
       "Hb7Z8Fpvl8IVRnPcis4+/lnojNqfmfaMa7wYlD1l1W3XZ/3sA7YnMy/H7teJWIy6FjYc8oxWLuEH\n",
       "miMKtt1JmfNKFW4GdxYEtKs4UBKzwsR4K79+UNxD8+Sh4N2OQs4kM2eK+u4/E23bp1X2RGpwW5kE\n",
       "LB3Re4as4UqPz+G1yasXYVYEem7GrjKHwasR3elWlsIPP7TR63Vml34hUZ8177STwqM1Ub8mTx+X\n",
       "rSharmClHt6+woEPSJKJjwhw7//J+rwd9X5ovx01Xna2X2u3sQsyqIrh6sIyP8OFM1kjLEQsjgS7\n",
       "EYDkJNyNUKjz89Cb4ELZwS9k+Qeto+GYK3ZqVNvEqAAANCEAAABpAZ+3akP/ADx9jIpRa5XSzMbP\n",
       "RqtmcM99d1J11ACG1GOHtii/0gp+HPU5HOw9oN+BLA4VUDw91dkQU6PtiEacGGkBrXBU3fHEmjzw\n",
       "NMO2v6PSQ/+01U0J09dZpTOXs2xBJSC+X7NeAAypAAAA5EGbukmoQWiZTBTwT//+tSqAFsh7UAEQ\n",
       "qWZz8Eo05PuUVzN8+FjCVxaKbdXd6AZRa4TEvQyf95SzdU6S3/SKpdhGUg87ZTCMBraxmBQYZ5mB\n",
       "dZ8Zz01Axi3pPD0xHsMi37G3n4JeB5nKrFEB5CIMgC1TR3nafhVvQ3As8lbTGfrlK+rfJEbbqaY5\n",
       "Y++yawEg8w6Jq4lfwDYH0x84v2hcldwvgQEvISbFCPq9EvSnOWzvTOVgnB4Aoj5GuQW8O1oxH5vL\n",
       "uiJzNWkxzFYilwbUpyugwaoYai3/H3HQVCWIcq+3QkAC7gAAALEBn9lqQ/8APH2TNqqAD+kQk++q\n",
       "d0jRFjfggkd9XJ1KP8iuzagX8W8Mj9cPQs/lOFtQMDut7zfP71t8BgcaikHPCdiS9q/DRinX3SSn\n",
       "k8d+CNuXZNieCKfynwDNSNX152/A7+xlFNdw+6si/XozUp/xRslC/+XkjmfH04GxIh4dJFMEkAPR\n",
       "kk5swXNF+NhmN1wswXnmrcLQnrXI/6Qpf10rcsOEW0lunvAbSnNSoAAAZUEAAAIdQZveSeEKUmUw\n",
       "IJ///rUqgBbFDGoAOOpZnMv7EWox6BAnMR1MLiiVNCmRMS+e8201s/LSyPrSA0yThBQnkZaLyLZl\n",
       "GtDRXcH4VZVesVMY3Iw+Ot8gOc51bD4O6ay+ODmyyDFclXTJad9fBhC8hijYceJgHdr4rHbSjM4/\n",
       "NXv3HIubLJD3uB6G3W5hyniG9H2G58ljjA+UN5oP+dP5u8cit1SYoucEZsXLZ/qm3qKGK+OfIehR\n",
       "90AnDX2TtHsbkUKgiXdRERRgDkzcuHckoXyApD5exXY05WtvSnI0A7a4ex9iSg/ub5REMmLRucNF\n",
       "kovcBAb4YntB4iRLO8Zen/VZtl/GIHhVRe/FhEIU+9KOZHi2P3IHRs6pHdUOfGZlmomjAN1jpLcj\n",
       "Zx2FhrF3GMPw6zC61ftwYZ5XyP1FG6NjDlwz1Of42cPIXCWoq8DzLGoGnf5kZZQy+hNBtOdB25vZ\n",
       "hWySqwn8Kr/GdANyY0pP7OCSJ4hmVSLnkltLSFJrKPQRx8mvhuhAErSqx4bMpR29NgVdQ5Dufse3\n",
       "dD9xlsOvCi9C5+wuycSoD8ggK5G4pnxbD7dUeSDxOBnHbzAxaTqYm+BXTwIRb5Gujo20OXX2CGkr\n",
       "4Lp5OW52aky6duZ5ADMmYklabFRoa8iS/ADjwVq1fRKtRRxvrpUlapDk5j1GK1+oyvyc77QxIv7l\n",
       "dmspD7vEoS7ZPahXOKXAQABWwAAAAP5Bn/xFNEwQ/wAbfMPgACdvnv44qKSgxWT9kQFBujx76hin\n",
       "awqk00YeZ1IK9pjIMcZ+1zXA/idgJ83GP05kundZK2EWiIuvyx5GE6iwMPajXrEYA2A4+G3y24W/\n",
       "6Zyt9U4iRS0W3BjsNXsRCJgihAYwhxSFnMKuY1lxhSsncEpOwX5d3D7DJGf+3BupCaPVllWRPVnb\n",
       "qlDgZOjeDm8JpwtUNqxhpsbwm2vjBn2NW9NRnkhCitIW/LHN35Zhgj65rWGjVIjzy0AL+3n8L0ZD\n",
       "dWct2uoTdg29wCnUJ53uVgWEuLnxR2nBR7mghmYwrTNw7tF+88poXT37HarQAABiwQAAAOwBnht0\n",
       "Q/8APHXsxnoUpTvQAAmbNlQZsx0i0wLs5Dk0GzX4KZsx7W1sVm5TrBg+/02xQMT6yRd6QT/8/4fo\n",
       "Cu0hlua8ce9YRXtv6fHtL9mfIUmeXXlUcJF4KwDwLIFiz6LtASdCNTrm+5M/cDI39ZnrcyxcksWT\n",
       "y/q/AfxI25zhVND+k1+Y8ZwvFXKRHhpdqIGs0xikOOyutEN9V4tM4EpY4qL1AkaqyYbv06tpCwxi\n",
       "EQLB7q+wY0WVVlhoEcfQE66tkMdPGbGvXf808PwFQpxg9cLtdh3EbCusavI6JnjjLdo4C7VBpfJh\n",
       "gAAEHQAAAUABnh1qQ/8APHhCfoNleU+pB6gA2qRdj4DDooxZDMhplOfmNSvtSV8cA31di+yjsCwB\n",
       "8wl7uDqznYKR+7R9fxvQ9BPU+tAzKqFycz/pWFQV0BhHnQUXrv/H9I/VxR15ICTa1U3M1VU2W9Uc\n",
       "Inrb/BixfJoz1VbEt6treKZ4f9cBlebU8iUz1uZkRwYEJT2q4UNxaenX0B8j8anBtM3TFBO+fYjL\n",
       "ps2aXg2RmXt8KADTdCyL7HFW9vOX/IrTW9rCUvKMEY/5MLLjyhyzqp17deJ4WHP0aXwH+FeVYivU\n",
       "mTE3Kq9MuTuvX+1DaOadYusLCB9AuyfiSgYcoy0rFLgdOVzAnoB6EdovhpRUGcu0SkXOAuhnQa23\n",
       "BU8XXwf3xfQ3WY5RbhNhE2M0yzkw5j6S/htMTdtLf9xJM6d2WMFkAAAIeAAABG5BmgFJqEFomUwI\n",
       "J//+tSqAG0x8tpDLmPXRE04frNTe7XNO7gDbhZnEQ/7MKqrcdxOstjhxcjokhG/Hq88574uYZceJ\n",
       "HLINn5L2JSJC/2zHeae1h1uVKKHp1G0ojCe2JvaGzhpbTfOzCNy01wqooTzjrB2NK1qbtfiaTKvJ\n",
       "rDDv4m+lp9V9PJBFZ7jdv8qOkM0Bb6SZmws40KlTJjm/qWC9+eoxRoEdlLjv2J5R5m4huAEZeEK0\n",
       "3hka/55V7TSeNj+/Hvr0nu+3eQR+k67CTr+3uRXBmzU1Gbs2/XpVCs4XgTkLO4sIRC/gHv1KzPua\n",
       "PrxlWda4vGnYNE3YDPbyW1Qpbb6Okj/vok94e5lkujRaQUT0sRI3I59jNiTA06be30m2p5GTItbz\n",
       "ebSgoo6DiN8US5JdepsN4goHH8k4lLPBxgWf0n7JHHM6i09SSyvvpJz5C3WspFBNyQOLuXi5O4jH\n",
       "iq75lcTsWGvWJuTS0JX2k9trnr/NT73z/Jf3zagkhM2D0ISOLN/7fmU3ywJMLVWIUKq5ikwnuP6r\n",
       "RM3ADCKoij1akWozpyuKOS8UDeBJ+Aw3BPEf/Az9dSqKPUdpeVtxRvhpyIDzlPMUKx6e7R+JzCq2\n",
       "jwHgbfKZpKKOkQzvD94lkpkbIrtPaZUbnGqmPn5BP7tGInhl+tpxIaLItGixyuJrASqkMKcSbKRY\n",
       "NTCpg2CMrLT+RJGlnkywSxNx5XqDQ1R9biiXLF5wZC8ED5n+sMOTGbH2exWvEk4oW+t1DKPfYBWH\n",
       "oeX9QGvlePp4FpI7a3WSYqGLvSlAxHGtf595cTOfrregRkkqgux7mA6dzscLWn4jE3vYwHmAkQwh\n",
       "XGTxk+Yfkdqr/DfZr15cbf6BYpSAS05D70i8FiudugFYzYlWS6mW/y8ctrTww8hd51apNCYKGbHL\n",
       "1RlK+ryRsIgTUAy4fqu40/MweJQLD3P7DArrdJF8rQ49mkD5Bcg3rRfBup0nrhUzZhXT5lxavvL+\n",
       "bCNt+SolX70CzgyG6KZ2RRoV9Ei+ynkXUDZ+q3XoHjoRJuJlVKseOgVqa8wiaZ+2RippjVpm+0D1\n",
       "JhesqLDkxALxPVH3biO7pq9008lv1cUskav6k1FhkPeoPeVjWj7nvvleL0sxRpnPzaJPblcL5Egf\n",
       "AE2PNZkiGIJ6HrnWS+dTUeIou3+czKZ33Ozty9cyYBVIkaddj762zg3XsUOQMbcWCtvZF/Ln7EGK\n",
       "54aNfhhijrGDOGWe2pKuP5MEoIAsa/pFLxdTTuskSZm5EnwjoGOS4FFahjbZ2O9vE/KKz0CusUtM\n",
       "O/Vs8xJmDvE0i384YLG+ftx2gJhiV/7LzAcfF+yNSWMz+uHMI4zCR0XrIm6/NCwIEYJNZrdiVV0m\n",
       "Eg9YXpylJGw4ls8POaIMQr/0wqNx9kaI4+jV/y9QdLhmK7a5VjqEz5wOV6oqaxPns3LhrGRg0GLm\n",
       "Sst4nmuIkS8/FIJVGBDbSjfpylEHrJN4iqoux+BCYDXA7Wvx8gAAf4AAAADmQZ4/RREsEP8AHuv6\n",
       "xof13PjSEFF2FKADarv+87Dr9AMTdFRV5SXW8L6UWJIihrBqu+e3YqN9I4SLgFOtzT78bqCtkX+e\n",
       "TQnccnHwc8JFX31pJtqK3tnRt5SyX5JX/ygzJnN1rLwMRoURxFOxxlF4vqmTU+0lSr17UXO32D+H\n",
       "OoDod33hGAHCAhLygIl2xaBl9vlntLxihA9ZJ8AZidSp4YwimuUgXLkxh6SA2u1P/eLup1hZU9Eg\n",
       "P2e/u60jgdqfLfah9+26t7e2hnm72SzDXdkqJUlt9j4J892h7ouyGdanRAAAMuEAAAF/AZ5AakP/\n",
       "AETg1uZx25WhTi352X6OKkAEPXu2Rs2h43FIFdZioW2cCkh61DSzkmW67E9kzFreGFzkG/ihF5SX\n",
       "6sk9U4rAi1BLh4c85FQL7lGUoB6EE0YMIUkubbKfHEayy0EnXwon7a1ckqFu7IveOvbqJ9iAiwL6\n",
       "x3o1RM82vlgL3vQDB3Coz2Kh/SGHcHK9IBIrch4dDNkoM8LZsyeG5sHNVUgJFHPdrQuuJx6bX+kW\n",
       "uQqQ7YosvW96Xuluw23Y91kWmqen7w03hGRNgJWDSKG54rVwV/8yGReZLrPBpf2snFVfFal2Zjlk\n",
       "sP0hwLKroXtRpOYSwZRHq0D9DEBiWWmThtDevuvnlxApYoyP7ljR858lL3S0Kkbw26XCn4aMMvDD\n",
       "G9TmoAI+bpeVg1gr7REhYwkiPkcsUMnzmWAaxbclUY713F+Omwd5qCB+CA3EPyNTXo5uu41iGRtz\n",
       "bw4Y0pAulYNynqGVN70MA42oCo+cHDPPE5NmaogtIAAAWUAAAAShQZpFSahBbJlMCCf//rUqgBbt\n",
       "wsquNdQACdjf2mXunlMYgytgeQdm5ePZjLBUQp2zhqK40ty7sLWZyhoHugAHnYYR32mCK6klZC82\n",
       "P16JOfab67fq0HoEH7+G32LtKD4b0p0180snBCaDm4Y4NwDh/zmOlHv+kFJ/snIuF193R/xIJ9W6\n",
       "R+dab/wlbghNMYZsqp563km6Ze9x0zKFT3ROzCgl68cApBsdtjTTarobVlBtIq0iuTaxPs7tv7Pf\n",
       "69k24Jav2XleuKlifky5iJAV8Wilc9Cw/dynXd1MMvDjx2ZGF1Gvq4bMIARtM173/O3YIyPxcrNz\n",
       "RzDJx6fcy9kW6yjH/g+ORuKZ19L/A0cfDYdEi2LZfvqWqvHoYa8NL1H1V4WjJhf9X07+O2/O1LPg\n",
       "sgxJAcaouvffSywEHnhmNPeBPHgHqFByc0SeNlvXCeWecJICTgnVyxfnYt1I5WH9mbyWXOWMxVJu\n",
       "agv19fuWr7d5VyohDhiJe3h0YTf22SKUD4+dHdtG6OPlBOLVeFwQl5Eahgp/w5t+6QmCxutYoTY1\n",
       "BEcv6TE+vYOTKiWkfMN3mc5KN5nZn2uPOQxHKCp7WB4uidKffBoipV5cgCEp/4L/x9M+2Q/I88kj\n",
       "AOXRhgXQxBph+HxwXYQpsHub8vFqTLuWavOuoF6IT/dhlE0kjrUCHp1a370JFxHoZJifAkiGvDgp\n",
       "2BKOD7WqPFlsvumplF+tLBOpmtXg6yYfwxW1mA5xC0q6e2lvQlcHYZJXb7GWRT0PeYsgj/3tWTjD\n",
       "JP7IHGAa4glgYkNVwSAK1MqGMLVBM9eerw4n8T+yShKb2u9Bnh73kWPbsJQCS94tQRi7/xGWB2Uo\n",
       "odbBJpX8TyxZ8FnYW7KT1sWV/XxihpqNJbaMh/+vpFrYzo+1l/0+efJgjzpexPEhTWdhoShr0erZ\n",
       "FYoe0N316yRNs7fbUy+4uf1Opq712aM2n5c551BEEM8tiqlq4IuUi0KkfoCrCiKV2WrkodbC6qP+\n",
       "m2oVzgmIvNmv9hvhmcZ1ial7EqRZUN34U6Th0HGjhkwXrMcm9gp/yGF9vXQ6l1VjDZDaQ7+Fymhf\n",
       "dDh71tmccJ8N/q86YQrwoBhorpULoPGaIdhK1sYITyaYq+DGzSA3a+gPHBgib03JU5YrHOv1bJQq\n",
       "FkHOejM7z2XsB5gM3JbgFx68dSptssaYEW9ljNeaYqxmj+buVMg+BOS7W6nX5GdnFv56lzRuo/32\n",
       "df3tSGxEfVXoqbWhC+25hfGqXklaOM2r1RwI0Pp/sLiwNbH6uBPQxdgQH476/e/qHszfKN3l5VbF\n",
       "PxLlkgdgZVmKpHynHFC971IUTWbvyumP4xXB4WINJXOKyTXtJIJgBMZC4UihIhUZ5shzCwit4Hfy\n",
       "5ATg3L6TDlQiJFa7vY77PCCTqpfI72rYEWIYupFiqCAmEj3H6klHGJ4+cU/aBybDlqBg60iDSXYr\n",
       "umfn85uqqRIbPM7RbkES92Lxwx2RdsAn0y9ff5flsaIXTBQsm/ESVnMXcMEX7qOHMnrfwqHlSHSz\n",
       "8kAAfXMCpFcWk3JqtEaiPMKXBgaUAAADAM+BAAABO0GeY0UVLBD/ABstpcqTAiABLV4q9YzIekBw\n",
       "VoaXEVXSo3aAZHkho/rUMjo4bRnuuobnSjjKbyCp7EDa+6zAVM46uvEWFiKTQJoVSv310eNi688M\n",
       "AnLG64EKTdvCBpXX7ZenV8mb/KOKcGRbAN/1uvfgXjn4pVEOUcDC1qn3i+aVlx6HCSH7BmJyFYXp\n",
       "asD41t/7UZ5rAxZSlCHuOycSMOs/xcy2oSODFL7WoO68m08vYrN8JhF8Af0BxAIxtmgFf43Zx18c\n",
       "aPC9Jhu5/eioX4lTvAbQ0ZKdh/RkhGIFA3Dyugv5uJLMAsdkBx0TLJBmlGvUjZz6DQvNikkgijq7\n",
       "qzM5LtZ74uGPBpdJ/YrBivIxTGZ8FpxgExELA8pc+4LKyFwVnTVofRqzXLqNcZdOqG/YwC43UkQY\n",
       "AABdwAAAAMgBnoJ0Q/8APKueACE7VTHp/bBCGpnRKWmMCff5mqHIggzIz/UJGpmQe56t/bwBEmWK\n",
       "6g2OF0yvboNmIx06forBc7kkXP4Qn4NiEaCWwDJWKzpXzQVHiFxOzoYEaQ3N87sbOWutWNAik4qy\n",
       "M7IRMvmBxDT6m936eM+6Q15jy/tv9cmyGOYXTTK56/ynLcoXLLh0Bum/fh5opc5gp4PVqaOlobLr\n",
       "T3DVVwtLoIfTfGmfeEB96cJQ2bh7eu5DiT+h6uNBDpAvgAADjwAAAOkBnoRqQ/8AO71bQBCOwAQ5\n",
       "qPcQB7mhuPI6vU3IjOkySzGS/CyCF6FT01gTs6MwbA7ibDPPoQAftzzWI/+4D+h6PpQNbCeYsRQV\n",
       "ITQkktgWx2YRr+0tCP3jOXcH35axGRozJW+40AhbaJOkq+OY39wTCJshGqZc7jGOIyLsNYd8L8+M\n",
       "bVTGsiCR/ebmdf7nTcFNKfgjL1p3VTH3X/UQM8wATVMpSsBPzOYeqpidPeVVUDKdcHAO2nsOHnBF\n",
       "FOKNkUuHvQMYYV289QPXLiQxOAbd3MnhFL3aCY7Kpv4BItzWu0tD0Df6QAAB0wAAAjhBmoZJqEFs\n",
       "mUwIJ//+tSqAFtwKqMAAW647jkANARWMbz91GF0VDDii733m6vVik1akm9u4Wqm8sbo3GVO/2ApR\n",
       "OyDyfxDg5oGoi0wIjVz0aCBEThtlQDyp51z0OZHeizNf3IRbR/V0PQq9vhD5zHWP31L9wt00UOZI\n",
       "Dh5SE++2PVI5nCHzZGXUNppLTroWhJHxjNjlDsQm6VCggK7k70T0AyBaJRiOf2PyTvNGvT7wLhU6\n",
       "tfuBKk1WoiLXo/lb62gnVTfkBszx9Sj3UrX8HHzdxZ2ottQrd5IddFRIwWilYgi0l2qNujkTMJcl\n",
       "DT7mkwlAdAUSqDsX0iWJtW77YMr2op0tjea/N5X98icyzthdA6+jo2deTWgibeuSX4MGC7aLLQzZ\n",
       "dQ+g7FEDaJZz4Yx5lTYJCtv/hUjbOE/1jNC/mbUF14PaVva8rjMxfotvRRQQ9SOLZO9OQEUFelMz\n",
       "trxsxWq3Pk5mmm5AdO+MCFnEC38QBSIYxWdwuL2gvsn6VyWro/lUN6T7H5HwnjeBhbWloViQ9pEI\n",
       "yThXIqFp7GfjirFm2JYfUo+zi7HCJ1N+W6j+RkbwbNfbGmS0k6zrrUP2Sm4lFdpX8Vb2ZHIL0pJ/\n",
       "kKMeW+CCPE4hXJwLDtgxjTIz8FOhsNVnRfJzD17277yJm4Z5WErbvatLppWCTgtfza1QpAgmQnof\n",
       "bbL4bYkbWXTIGkBpyFQsnfVGmxcqmRfLAihg3hbgYGPj9B/BbEywcEzy3fWAAEPBAAADekGaqUnh\n",
       "ClJlMCCf//61KoAWwryL5QCoARi3Dc5ct8HZmPNyufk/fD+LOmeQnqRyOrBv3Ld38mFxb1yhU5zW\n",
       "KQ7sWcmlyLerhSk2xvZhRRrVQUf6pm+1MRWg8fe3vfFklTFean4Ecn27VboH8lWBsgmfhFChohQ6\n",
       "9cdcqyxPun2EX+TICXUZWrzNEZLsQvfm2bmc1XzD67B5Ab8PrmD3wiUIswFrzcYKPtetYNiWAP8h\n",
       "NcDiC6ziPM4Bj9yG+EleGLSXkAQ5gXLsWXEN9uzO4ZfkWvn2Tq+zUUYZxwKEhduvS6/cgQ7haxUv\n",
       "ozCulKs6BzSLcRA9xbQSrFVhQu61NFkUjLeYBtboVwPF/hu/q9jwtIsnk8lfe2DcsPXiKEJFYPd+\n",
       "dSQdHyEWTk24OPmiAhkHV/kBU9gEFN1DNh/bkgCRYPE7IdLvfjwYw0veWyJaVv4k6hwJ93yxr7ju\n",
       "+hsDxNafFa+dchVvaBvzovfhcSvSxNM7PFAvvq/yxYpFSiOgJ3iErf+QtMZU3gaMAFHd9W4ASVcr\n",
       "N6hyiACd/+FQn6eUK/FR67S+EUm3BJbKo63YcDyaWa+C++eUTKYg577mnsO91JXnKtHD7sXfHPT0\n",
       "XMJSuLJqQdIJswwy1p7MLMRzlTpZgHJ2rWJZyp40mquyAn8XAnbex+lNNS77VEAMbYQ35+ED2TOK\n",
       "wrPBMMEB8l3OwCYQ3f7kMr9mnn56hANZhX1TAeBdbGxKkttS5vrWOAKnO5sitObWnrFKN388bYMP\n",
       "MiWXxUO7SCyUImi1n0qFkfpoo9vhif1GWoTIJS1v/oXD2vjuCChmInZbP2G7a8lDWQ5/tsQqbff1\n",
       "TPLBOG8DVHkTxnwsni0dXaAE6UwkA2khmK5GISWmR0gGT9SWYD9o1Yg6RzrbC90NHIOUebI7yn9c\n",
       "3ahVfTIzXT1jvLpef0ATC72qszL5sW1sAqYIv+1WzM1nzu4dhlhn+rP5/mqKaUiCSUaFww1jWKF0\n",
       "3+TIIkDoPDNiZ+zROF/4tZcTGOKap12H9MaX9q8KmZXPk8W/N84F4lnHeBWu9NkQ8fxqwxXms3vx\n",
       "At5wn2de/QLiYhgRg6pZdZUp89PQ6tyyddMhghNuvX7w+UMUQsP7t+P4DJiewyvnFBPrpYHGtVYR\n",
       "p0RmzN9pnnAHs4jkiya002H7ZRmLwAepeMjwAAypAAABBkGex0U0TBD/ABt8HkwATra8aqJV4EMU\n",
       "k9b1MTCItT/aznH1uurXrdoHNv42f/BshbxloDI7hVl6myBGktDGFfXzAvzcIzJuO0E2Jhms1xpD\n",
       "bCTt2k23393o7JoQLCT/+fn/Y6Q2x8IUSvj73FuEdvbDz4oC1yVOkc92DwfIJqO3f9cT/FRb3G9u\n",
       "M1+9mvWsS9Wd32J1ruX+J3Xft6wH4HAE01zht/5c8JSqSPgyH2c0k8aCW5T0J2Jfvxu5AzsjzwN/\n",
       "Oeuk9/T+OFTihnnJ+7XqQMTZOSye7/aydFizp9kaDtTLsDGdbEQE76mLdnjp/v1qbUBp8u/dWYSl\n",
       "qUzG+siNQAAAS8AAAAFnAZ7oakP/AVnHHtgr6F4QAbSZcq4bKbb4jvAb8cv2wPxzu7YawvT+6nfY\n",
       "WUEB5zFk6G8RKKjDEMzqNZh9K7MvOGWmznhe6g+mZ4fSw5wM8V2CWBGafJrMQ5ZxlUSGHw1p6iA9\n",
       "2tLKuJy95iW3JiNycC9YJYhkAVLLp2P3dHaavXZ+C0y0GC45DYijrkFeUFlRDZcoRAlSMUDVdCGq\n",
       "jKNQ+1VMH2cIZ02Ad85jEuIz9ukoJdGayRHKQQwhjC4dW90+2fFOgPXifelkQElNyqzaoJWs/liJ\n",
       "el4BhQi/t14VtyLQToqI8SzsPbAmADa9L87wfV1B/mp6PGQyXLEv7DdRZJniFqBGpXoQW4gXlgo8\n",
       "AmfmXyeHB3Ev9EBdoArn8gxS5DhZed8FGmGN7UYA+r0sif9aFAYMvH3JzIajrK+3KAZdwxh0I6F7\n",
       "nyroTFTJykAx4wvgNrnmHmHl0Ybld3ZFMabirAAAMCAAAAKrQZrrSahBaJlMFPBT//7WjLAF4cp2\n",
       "AEehkTOn/q6hGdMBf0oGXsg7+lXLz+41NAUMYXNwGyxdr8mE4oGjGYiXvrMtUmY9DwMFJ/oH1iho\n",
       "9/SYsl5Kl/PulfBkaUK5OiGC8D1B/sRPDWGePBeys+cYPfyvmIAkazG05/6efYc+izPro0NPMbB8\n",
       "ZURWTQVrsfmpv/PrP0H33j9jkCLBnaMjmVKD35M0vHY6QdNTCbUDUrJt6aoBna0YC6+p+dw9VD+9\n",
       "YsD9+hwi+h7SBNgfgjW5mXsJY0PKj6ZpmczsCins6sXx0o+0Ml/AoxYdq8UjM0UFK9yYJSjFmU0O\n",
       "RmEXpbo+oHI8Q6hKNQRXSQzFMIaRvQcpgaxWB2tSX2Rp2O48EwelTik1/F33uRB8xrm3atc9GWLh\n",
       "tFVweIX7m0ZJQiJQMrgqyjSAglMHu/utEworQPe2u0JN6JjOqcIX3AeZSju+EPFioN4BY9RexGL0\n",
       "+IvjW0cckiYlEVR2aitDcLuYptmlzI/OpYAQanG45RGRc+oWJPNoDxVcRt3W0cviMyw+S96tRb9H\n",
       "CWgxJubG1miFm1VapvRW6jynoFS2w8mJQdNfUGMxYM0y6TFomm7seKt6gpZuoAopu4t1c/w/k1sV\n",
       "xmh7q/fatXlJGlOlW8ra8m67jFlFYnqgOTY1X/akWGgGpSdf9kTnWY67WyLckTNSaoaEFa1jHV4P\n",
       "poZlknKNAEp+FzRFqWIYljMO2n1tbxN4FDOMOhzx5keBcyyXnL/6FLFHjZ1JfH22QCxsuxRnTmaT\n",
       "rVCZa2ELUlHVgeR5Dl6cU+zf8UAUi/01b1YHjnddaFbCySd7oYG/EXjmc1Taq9fb42FCe1iiv8Gp\n",
       "JOGOBfSI810mUEgMP1+VJdsP5JRzS13sEWI1H/D2E8gABB0AAAD+AZ8KakP/ADvEO5RsO3M8AEJv\n",
       "zVCfu49C3Z2vGUsI/pxiMO1L5i5MZXtW1yueUl4f6ShMCMoOowgKe8Hs7vnBx7pdVmppMWSruWIb\n",
       "FHR9431Mq7DpC5Pc6FJtQVHV+KneFf75U43SXGtlg3w7kngOK7OWKWrqeT68pveby5hKekHIzYGP\n",
       "xlF0KVBqrQlPyTkB/mIUJkDGWz9AgPvWBJ39zD0FbrVJQWw/UBE8phftIGZgrMmP4uJ5PnPoEZCQ\n",
       "NsvbFgSfxz5S8BWrgs3BV9amWo7wlTK61mLamLG4lvc+0RXf8Fg+aEvaeampW9n6322wrk3M//IH\n",
       "QE/ZGQAAC9gAAAF6QZsPSeEKUmUwIKf//taMsATk5LFQZAAdFy+cMHVjaVl4cTYkRm1Wm3Nd1VsP\n",
       "HRJCk4wc1a5QsDBfenbp/XucDyL1RtEmIR5S62eCs0S5dIe4ERPKGD8ALFyqzCrgK3dW+3y8N/06\n",
       "Mi9ul3TY6vy1M+IerAmko7pRgBKkqTfjkaHGTgwOaMFqdKH0/30rVxkLw4KL95whKYOg40+p8ctr\n",
       "HQ/JxniUBvhdXhsxbZLQkNaKKGu/tBY1O1Fi7rnzCH106fMNrUOQ+3uF3SNepgF0oXfEQVb0ZAyT\n",
       "gNgbBD6TTFOp3qHVfcn0OufcM3/qLBkPe5yH359CcPzL2WwzcPrfW4vCDnMDCpqklk/Tr1nB6tID\n",
       "maaq5/j5rnhHaTUBjqICGB83gOmyWq4OSuoNw4TnpIpm73gP+AW4MQJkn3IlcithcgKa3KQJxNFY\n",
       "9VRK7VlujPki1hQdk0LsUwEQ90Xrihu2kJ2P0/dvf/+pbhbzsgSnEZaHBfb9gB3QAAAALUGfLUU0\n",
       "TBD/ABe/n224KFDr06mW2uIVDEKv6s8xwIO4F8RJbME1VqMAAAMCtwAAAB8Bn0x0Q/8ANHdJ0kA+\n",
       "FLL7g4kO+NBjlyQZhwAAAwGpAAAAGgGfTmpD/wARWDZ9nrMYE5+wARNOAAADADphAAAAIkGbU0mo\n",
       "QWiZTAgp//7WjLAAA6SggdTeNlYADjxztAAACJgAAAAlQZ9xRREsEP8AB8NU6FJTp2ZBBQ0b92dI\n",
       "Ah+UaBrej1OgAADpgAAAABoBn5B0Q/8AEVXKiqSgMCJ5/ARLOAAAAwDpgQAAABkBn5JqQ/8AEVg2\n",
       "fZ6zGBOfTzfOAAADAHTAAAAAGkGbl0moQWyZTAgp//7WjLAAAAMAAAMAAPuAAAAAJUGftUUVLBD/\n",
       "AAfDVOhSU6dmQQUNG/dnMLe3OlrijQgAAAMAnYEAAAAYAZ/UdEP/ABFVyoqkoDAieKg7OAAAAwHT\n",
       "AAAAGQGf1mpD/wARWDZ9nrMYE59PN84AAAMAdMEAAAAaQZvbSahBbJlMCCn//taMsAAAAwAAAwAA\n",
       "+4EAAAAlQZ/5RRUsEP8AB8NU6FJTp2ZBBQ0b92cwt7c6WuKNCAAAAwCdgAAAABgBnhh0Q/8AEVXK\n",
       "iqSgMCJ4qDs4AAADAdMAAAAZAZ4aakP/ABFYNn2esxgTn083zgAAAwB0wAAAABpBmh9JqEFsmUwI\n",
       "Kf/+1oywAAADAAADAAD7gQAAACVBnj1FFSwQ/wAHw1ToUlOnZkEFDRv3ZzC3tzpa4o0IAAADAJ2B\n",
       "AAAAGAGeXHRD/wARVcqKpKAwInioOzgAAAMB0wAAABkBnl5qQ/8AEVg2fZ6zGBOfTzfOAAADAHTA\n",
       "AAAAGkGaQ0moQWyZTAgp//7WjLAAAAMAAAMAAPuBAAAAJUGeYUUVLBD/AAfDVOhSU6dmQQUNG/dn\n",
       "MLe3OlrijQgAAAMAnYAAAAAYAZ6AdEP/ABFVyoqkoDAieKg7OAAAAwHTAAAAGQGegmpD/wARWDZ9\n",
       "nrMYE59PN84AAAMAdMAAAAAaQZqHSahBbJlMCCn//taMsAAAAwAAAwAA+4EAAAAlQZ6lRRUsEP8A\n",
       "B8NU6FJTp2ZBBQ0b92cwt7c6WuKNCAAAAwCdgQAAABgBnsR0Q/8AEVXKiqSgMCJ4qDs4AAADAdMA\n",
       "AAAZAZ7GakP/ABFYNn2esxgTn083zgAAAwB0wQAAABpBmstJqEFsmUwIKf/+1oywAAADAAADAAD7\n",
       "gAAAACVBnulFFSwQ/wAHw1ToUlOnZkEFDRv3ZzC3tzpa4o0IAAADAJ2AAAAAGAGfCHRD/wARVcqK\n",
       "pKAwInioOzgAAAMB0wAAABkBnwpqQ/8AEVg2fZ6zGBOfTzfOAAADAHTAAAAAGkGbD0moQWyZTAgp\n",
       "//7WjLAAAAMAAAMAAPuAAAAAJUGfLUUVLBD/AAfDVOhSU6dmQQUNG/dnMLe3OlrijQgAAAMAnYEA\n",
       "AAAYAZ9MdEP/ABFVyoqkoDAieKg7OAAAAwHTAAAAGQGfTmpD/wARWDZ9nrMYE59PN84AAAMAdMEA\n",
       "AAAaQZtTSahBbJlMCCn//taMsAAAAwAAAwAA+4AAAAAlQZ9xRRUsEP8AB8NU6FJTp2ZBBQ0b92cw\n",
       "t7c6WuKNCAAAAwCdgAAAABgBn5B0Q/8AEVXKiqSgMCJ4qDs4AAADAdMAAAAZAZ+SakP/ABFYNn2e\n",
       "sxgTn083zgAAAwB0wAAAABpBm5dJqEFsmUwIKf/+1oywAAADAAADAAD7gAAAACVBn7VFFSwQ/wAH\n",
       "w1ToUlOnZkEFDRv3ZzC3tzpa4o0IAAADAJ2BAAAAGAGf1HRD/wARVcqKpKAwInioOzgAAAMB0wAA\n",
       "ABkBn9ZqQ/8AEVg2fZ6zGBOfTzfOAAADAHTBAAAAGkGb20moQWyZTAgp//7WjLAAAAMAAAMAAPuB\n",
       "AAAAJUGf+UUVLBD/AAfDVOhSU6dmQQUNG/dnMLe3OlrijQgAAAMAnYAAAAAYAZ4YdEP/ABFVyoqk\n",
       "oDAieKg7OAAAAwHTAAAAGQGeGmpD/wARWDZ9nrMYE59PN84AAAMAdMAAAAAaQZofSahBbJlMCCn/\n",
       "/taMsAAAAwAAAwAA+4EAAAAlQZ49RRUsEP8AB8NU6FJTp2ZBBQ0b92cwt7c6WuKNCAAAAwCdgQAA\n",
       "ABgBnlx0Q/8AEVXKiqSgMCJ4qDs4AAADAdMAAAAZAZ5eakP/ABFYNn2esxgTn083zgAAAwB0wAAA\n",
       "ABpBmkNJqEFsmUwIKf/+1oywAAADAAADAAD7gQAAACVBnmFFFSwQ/wAHw1ToUlOnZkEFDRv3ZzC3\n",
       "tzpa4o0IAAADAJ2AAAAAGAGegHRD/wARVcqKpKAwInioOzgAAAMB0wAAABkBnoJqQ/8AEVg2fZ6z\n",
       "GBOfTzfOAAADAHTAAAAAGkGah0moQWyZTAgp//7WjLAAAAMAAAMAAPuBAAAAJUGepUUVLBD/AAfD\n",
       "VOhSU6dmQQUNG/dnMLe3OlrijQgAAAMAnYEAAAAYAZ7EdEP/ABFVyoqkoDAieKg7OAAAAwHTAAAA\n",
       "GQGexmpD/wARWDZ9nrMYE59PN84AAAMAdMEAAAAaQZrLSahBbJlMCCn//taMsAAAAwAAAwAA+4AA\n",
       "AAAlQZ7pRRUsEP8AB8NU6FJTp2ZBBQ0b92cwt7c6WuKNCAAAAwCdgAAAABgBnwh0Q/8AEVXKiqSg\n",
       "MCJ4qDs4AAADAdMAAAAZAZ8KakP/ABFYNn2esxgTn083zgAAAwB0wAAAABpBmw9JqEFsmUwIKf/+\n",
       "1oywAAADAAADAAD7gAAAACVBny1FFSwQ/wAHw1ToUlOnZkEFDRv3ZzC3tzpa4o0IAAADAJ2BAAAA\n",
       "GAGfTHRD/wARVcqKpKAwInioOzgAAAMB0wAAABkBn05qQ/8AEVg2fZ6zGBOfTzfOAAADAHTBAAAA\n",
       "GkGbU0moQWyZTAgp//7WjLAAAAMAAAMAAPuAAAAAJUGfcUUVLBD/AAfDVOhSU6dmQQUNG/dnMLe3\n",
       "OlrijQgAAAMAnYAAAAAYAZ+QdEP/ABFVyoqkoDAieKg7OAAAAwHTAAAAGQGfkmpD/wARWDZ9nrMY\n",
       "E59PN84AAAMAdMAAAAAaQZuXSahBbJlMCCn//taMsAAAAwAAAwAA+4AAAAAlQZ+1RRUsEP8AB8NU\n",
       "6FJTp2ZBBQ0b92cwt7c6WuKNCAAAAwCdgQAAABgBn9R0Q/8AEVXKiqSgMCJ4qDs4AAADAdMAAAAZ\n",
       "AZ/WakP/ABFYNn2esxgTn083zgAAAwB0wQAAABpBm9tJqEFsmUwIKf/+1oywAAADAAADAAD7gQAA\n",
       "ACVBn/lFFSwQ/wAHw1ToUlOnZkEFDRv3ZzC3tzpa4o0IAAADAJ2AAAAAGAGeGHRD/wARVcqKpKAw\n",
       "InioOzgAAAMB0wAAABkBnhpqQ/8AEVg2fZ6zGBOfTzfOAAADAHTAAAAAGkGaH0moQWyZTAgp//7W\n",
       "jLAAAAMAAAMAAPuBAAAAJUGePUUVLBD/AAfDVOhSU6dmQQUNG/dnMLe3OlrijQgAAAMAnYEAAAAY\n",
       "AZ5cdEP/ABFVyoqkoDAieKg7OAAAAwHTAAAAGQGeXmpD/wARWDZ9nrMYE59PN84AAAMAdMAAAAAa\n",
       "QZpDSahBbJlMCCn//taMsAAAAwAAAwAA+4EAAAAlQZ5hRRUsEP8AB8NU6FJTp2ZBBQ0b92cwt7c6\n",
       "WuKNCAAAAwCdgAAAABgBnoB0Q/8AEVXKiqSgMCJ4qDs4AAADAdMAAAAZAZ6CakP/ABFYNn2esxgT\n",
       "n083zgAAAwB0wAAAABpBmodJqEFsmUwIKf/+1oywAAADAAADAAD7gQAAACVBnqVFFSwQ/wAHw1To\n",
       "UlOnZkEFDRv3ZzC3tzpa4o0IAAADAJ2BAAAAGAGexHRD/wARVcqKpKAwInioOzgAAAMB0wAAABkB\n",
       "nsZqQ/8AEVg2fZ6zGBOfTzfOAAADAHTBAAAAGkGay0moQWyZTAgp//7WjLAAAAMAAAMAAPuAAAAA\n",
       "JUGe6UUVLBD/AAfDVOhSU6dmQQUNG/dnMLe3OlrijQgAAAMAnYAAAAAYAZ8IdEP/ABFVyoqkoDAi\n",
       "eKg7OAAAAwHTAAAAGQGfCmpD/wARWDZ9nrMYE59PN84AAAMAdMAAAAAaQZsPSahBbJlMCCn//taM\n",
       "sAAAAwAAAwAA+4AAAAAlQZ8tRRUsEP8AB8NU6FJTp2ZBBQ0b92cwt7c6WuKNCAAAAwCdgQAAABgB\n",
       "n0x0Q/8AEVXKiqSgMCJ4qDs4AAADAdMAAAAZAZ9OakP/ABFYNn2esxgTn083zgAAAwB0wQAAABpB\n",
       "m1NJqEFsmUwIKf/+1oywAAADAAADAAD7gAAAACVBn3FFFSwQ/wAHw1ToUlOnZkEFDRv3ZzC3tzpa\n",
       "4o0IAAADAJ2AAAAAGAGfkHRD/wARVcqKpKAwInioOzgAAAMB0wAAABkBn5JqQ/8AEVg2fZ6zGBOf\n",
       "TzfOAAADAHTAAAAAGkGbl0moQWyZTAgp//7WjLAAAAMAAAMAAPuAAAAAJUGftUUVLBD/AAfDVOhS\n",
       "U6dmQQUNG/dnMLe3OlrijQgAAAMAnYEAAAAYAZ/UdEP/ABFVyoqkoDAieKg7OAAAAwHTAAAAGQGf\n",
       "1mpD/wARWDZ9nrMYE59PN84AAAMAdMEAAAAaQZvbSahBbJlMCCn//taMsAAAAwAAAwAA+4EAAAAl\n",
       "QZ/5RRUsEP8AB8NU6FJTp2ZBBQ0b92cwt7c6WuKNCAAAAwCdgAAAABgBnhh0Q/8AEVXKiqSgMCJ4\n",
       "qDs4AAADAdMAAAAZAZ4aakP/ABFYNn2esxgTn083zgAAAwB0wAAAABpBmh9JqEFsmUwIKf/+1oyw\n",
       "AAADAAADAAD7gQAAACVBnj1FFSwQ/wAHw1ToUlOnZkEFDRv3ZzC3tzpa4o0IAAADAJ2BAAAAGAGe\n",
       "XHRD/wARVcqKpKAwInioOzgAAAMB0wAAABkBnl5qQ/8AEVg2fZ6zGBOfTzfOAAADAHTAAAAAGkGa\n",
       "Q0moQWyZTAgp//7WjLAAAAMAAAMAAPuBAAAAJUGeYUUVLBD/AAfDVOhSU6dmQQUNG/dnMLe3Olri\n",
       "jQgAAAMAnYAAAAAYAZ6AdEP/ABFVyoqkoDAieKg7OAAAAwHTAAAAGQGegmpD/wARWDZ9nrMYE59P\n",
       "N84AAAMAdMAAAAAaQZqHSahBbJlMCCn//taMsAAAAwAAAwAA+4EAAAAlQZ6lRRUsEP8AB8NU6FJT\n",
       "p2ZBBQ0b92cwt7c6WuKNCAAAAwCdgQAAABgBnsR0Q/8AEVXKiqSgMCJ4qDs4AAADAdMAAAAZAZ7G\n",
       "akP/ABFYNn2esxgTn083zgAAAwB0wQAAACRBmstJqEFsmUwIKf/+1oywAAADARhx1gACn2CWR6ln\n",
       "ya0AFnAAAAAlQZ7pRRUsEP8AB8NU6FJTp2ZBBQ0b92cwt7c6WuKNCAAAAwCdgAAAABgBnwh0Q/8A\n",
       "EVXKiqSgMCJ4qDs4AAADAdMAAAAZAZ8KakP/ABFYNn2esxgTn083zgAAAwB0wAAAACNBmw9JqEFs\n",
       "mUwIKf/+1oywAABbixTEAVJ1CdC6GXjuT0AD0gAAACVBny1FFSwQ/wAHw1ToUlOnZkEFDRv3ZzC3\n",
       "tzpa4o0IAAADAJ2BAAAAGAGfTHRD/wARVcqKpKAwInioOzgAAAMB0wAAABkBn05qQ/8AEVg2fZ6z\n",
       "GBOfTzfOAAADAHTBAAAAH0GbU0moQWyZTAgp//7WjLAAAFuLFMQBUIc50AAAEnAAAAAlQZ9xRRUs\n",
       "EP8AB8NU6FJTp2ZBBQ0b92cwt7c6WuKNCAAAAwCdgAAAABgBn5B0Q/8AEVXKiqSgMCJ4qDs4AAAD\n",
       "AdMAAAAZAZ+SakP/ABFYNn2esxgTn083zgAAAwB0wAAAAB9Bm5dJqEFsmUwIJ//+tSqAAAADAAxW\n",
       "0fAAS9CToAQcAAAAJUGftUUVLBD/AAfDVOhSU6dmQQUNG/dnMLe3OlrijQgAAAMAnYEAAAAYAZ/U\n",
       "dEP/ABFVyoqkoDAieKg7OAAAAwHTAAAAGQGf1mpD/wARWDZ9nrMYE59PN84AAAMAdMEAAAAZQZvb\n",
       "SahBbJlMCCf//rUqgAAAAwAAAwAD1wAAACVBn/lFFSwQ/wAHw1ToUlOnZkEFDRv3ZzC3tzpa4o0I\n",
       "AAADAJ2AAAAAGAGeGHRD/wARVcqKpKAwInioOzgAAAMB0wAAABkBnhpqQ/8AEVg2fZ6zGBOfTzfO\n",
       "AAADAHTAAAAAGUGaH0moQWyZTAgn//61KoAAAAMAAAMAA9cAAAAlQZ49RRUsEP8AB8NU6FJTp2ZB\n",
       "BQ0b92cwt7c6WuKNCAAAAwCdgQAAABgBnlx0Q/8AEVXKiqSgMCJ4qDs4AAADAdMAAAAZAZ5eakP/\n",
       "ABFYNn2esxgTn083zgAAAwB0wAAAABlBmkNJqEFsmUwIJf/+tSqAAAADAAADAAPXAAAAJUGeYUUV\n",
       "LBD/AAfDVOhSU6dmQQUNG/dnMLe3OlrijQgAAAMAnYAAAAAYAZ6AdEP/ABFVyoqkoDAieKg7OAAA\n",
       "AwHTAAAAGQGegmpD/wARWDZ9nrMYE59PN84AAAMAdMAAAAAZQZqHSahBbJlMCH///qmWAAADAAAD\n",
       "AAAeEQAAACVBnqVFFSwQ/wAHw1ToUlOnZkEFDRv3ZzC3tzpa4o0IAAADAJ2BAAAAGAGexHRD/wAR\n",
       "VcqKpKAwInioOzgAAAMB0wAAABkBnsZqQ/8AEVg2fZ6zGBOfTzfOAAADAHTBAAAMgm1vb3YAAABs\n",
       "bXZoZAAAAAAAAAAAAAAAAAAAA+gAAJxAAAEAAAEAAAAAAAAAAAAAAAABAAAAAAAAAAAAAAAAAAAA\n",
       "AQAAAAAAAAAAAAAAAAAAQAAAAAAAAAAAAAAAAAAAAAAAAAAAAAAAAAAAAAAAAAIAAAusdHJhawAA\n",
       "AFx0a2hkAAAAAwAAAAAAAAAAAAAAAQAAAAAAAJxAAAAAAAAAAAAAAAAAAAAAAAABAAAAAAAAAAAA\n",
       "AAAAAAAAAQAAAAAAAAAAAAAAAAAAQAAAAALQAAABsAAAAAAAJGVkdHMAAAAcZWxzdAAAAAAAAAAB\n",
       "AACcQAAAEAAAAQAAAAALJG1kaWEAAAAgbWRoZAAAAAAAAAAAAAAAAAAAKAAABkAAVcQAAAAAAC1o\n",
       "ZGxyAAAAAAAAAAB2aWRlAAAAAAAAAAAAAAAAVmlkZW9IYW5kbGVyAAAACs9taW5mAAAAFHZtaGQA\n",
       "AAABAAAAAAAAAAAAAAAkZGluZgAAABxkcmVmAAAAAAAAAAEAAAAMdXJsIAAAAAEAAAqPc3RibAAA\n",
       "ALdzdHNkAAAAAAAAAAEAAACnYXZjMQAAAAAAAAABAAAAAAAAAAAAAAAAAAAAAALQAbAASAAAAEgA\n",
       "AAAAAAAAAQAAAAAAAAAAAAAAAAAAAAAAAAAAAAAAAAAAAAAAAAAAABj//wAAADVhdmNDAWQAFv/h\n",
       "ABhnZAAWrNlAtDehAAADAAEAAAMACg8WLZYBAAZo6+PLIsD9+PgAAAAAHHV1aWRraEDyXyRPxbo5\n",
       "pRvPAyPzAAAAAAAAABhzdHRzAAAAAAAAAAEAAADIAAAIAAAAABRzdHNzAAAAAAAAAAEAAAABAAAG\n",
       "QGN0dHMAAAAAAAAAxgAAAAEAABAAAAAAAQAAKAAAAAABAAAQAAAAAAEAAAAAAAAAAQAACAAAAAAB\n",
       "AAAYAAAAAAEAAAgAAAAAAQAAGAAAAAABAAAIAAAAAAEAACgAAAAAAQAAEAAAAAABAAAAAAAAAAEA\n",
       "AAgAAAAAAQAAKAAAAAABAAAQAAAAAAEAAAAAAAAAAQAACAAAAAABAAAYAAAAAAEAAAgAAAAAAQAA\n",
       "GAAAAAABAAAIAAAAAAEAACgAAAAAAQAAEAAAAAABAAAAAAAAAAEAAAgAAAAAAQAAGAAAAAABAAAI\n",
       "AAAAAAEAACgAAAAAAQAAEAAAAAABAAAAAAAAAAEAAAgAAAAAAQAAIAAAAAACAAAIAAAAAAEAACgA\n",
       "AAAAAQAAEAAAAAABAAAAAAAAAAEAAAgAAAAAAQAAEAAAAAABAAAgAAAAAAIAAAgAAAAAAQAAGAAA\n",
       "AAABAAAIAAAAAAEAACgAAAAAAQAAEAAAAAABAAAAAAAAAAEAAAgAAAAAAQAAKAAAAAABAAAQAAAA\n",
       "AAEAAAAAAAAAAQAACAAAAAABAAAoAAAAAAEAABAAAAAAAQAAAAAAAAABAAAIAAAAAAEAACgAAAAA\n",
       "AQAAEAAAAAABAAAAAAAAAAEAAAgAAAAAAQAAKAAAAAABAAAQAAAAAAEAAAAAAAAAAQAACAAAAAAB\n",
       "AAAoAAAAAAEAABAAAAAAAQAAAAAAAAABAAAIAAAAAAEAACgAAAAAAQAAEAAAAAABAAAAAAAAAAEA\n",
       "AAgAAAAAAQAAKAAAAAABAAAQAAAAAAEAAAAAAAAAAQAACAAAAAABAAAoAAAAAAEAABAAAAAAAQAA\n",
       "AAAAAAABAAAIAAAAAAEAACgAAAAAAQAAEAAAAAABAAAAAAAAAAEAAAgAAAAAAQAAKAAAAAABAAAQ\n",
       "AAAAAAEAAAAAAAAAAQAACAAAAAABAAAoAAAAAAEAABAAAAAAAQAAAAAAAAABAAAIAAAAAAEAACgA\n",
       "AAAAAQAAEAAAAAABAAAAAAAAAAEAAAgAAAAAAQAAKAAAAAABAAAQAAAAAAEAAAAAAAAAAQAACAAA\n",
       "AAABAAAoAAAAAAEAABAAAAAAAQAAAAAAAAABAAAIAAAAAAEAACgAAAAAAQAAEAAAAAABAAAAAAAA\n",
       "AAEAAAgAAAAAAQAAKAAAAAABAAAQAAAAAAEAAAAAAAAAAQAACAAAAAABAAAoAAAAAAEAABAAAAAA\n",
       "AQAAAAAAAAABAAAIAAAAAAEAACgAAAAAAQAAEAAAAAABAAAAAAAAAAEAAAgAAAAAAQAAKAAAAAAB\n",
       "AAAQAAAAAAEAAAAAAAAAAQAACAAAAAABAAAoAAAAAAEAABAAAAAAAQAAAAAAAAABAAAIAAAAAAEA\n",
       "ACgAAAAAAQAAEAAAAAABAAAAAAAAAAEAAAgAAAAAAQAAKAAAAAABAAAQAAAAAAEAAAAAAAAAAQAA\n",
       "CAAAAAABAAAoAAAAAAEAABAAAAAAAQAAAAAAAAABAAAIAAAAAAEAACgAAAAAAQAAEAAAAAABAAAA\n",
       "AAAAAAEAAAgAAAAAAQAAKAAAAAABAAAQAAAAAAEAAAAAAAAAAQAACAAAAAABAAAoAAAAAAEAABAA\n",
       "AAAAAQAAAAAAAAABAAAIAAAAAAEAACgAAAAAAQAAEAAAAAABAAAAAAAAAAEAAAgAAAAAAQAAKAAA\n",
       "AAABAAAQAAAAAAEAAAAAAAAAAQAACAAAAAABAAAoAAAAAAEAABAAAAAAAQAAAAAAAAABAAAIAAAA\n",
       "AAEAACgAAAAAAQAAEAAAAAABAAAAAAAAAAEAAAgAAAAAAQAAKAAAAAABAAAQAAAAAAEAAAAAAAAA\n",
       "AQAACAAAAAABAAAoAAAAAAEAABAAAAAAAQAAAAAAAAABAAAIAAAAAAEAACgAAAAAAQAAEAAAAAAB\n",
       "AAAAAAAAAAEAAAgAAAAAAQAAKAAAAAABAAAQAAAAAAEAAAAAAAAAAQAACAAAAAABAAAoAAAAAAEA\n",
       "ABAAAAAAAQAAAAAAAAABAAAIAAAAAAEAACgAAAAAAQAAEAAAAAABAAAAAAAAAAEAAAgAAAAAAQAA\n",
       "KAAAAAABAAAQAAAAAAEAAAAAAAAAAQAACAAAAAABAAAoAAAAAAEAABAAAAAAAQAAAAAAAAABAAAI\n",
       "AAAAABxzdHNjAAAAAAAAAAEAAAABAAAAyAAAAAEAAAM0c3RzegAAAAAAAAAAAAAAyAAAP54AAAYH\n",
       "AAABsgAAARkAAADwAAADagAAAJgAAANtAAABTQAABaQAAAEHAAAA8gAAASsAAAVsAAABBAAAAPMA\n",
       "AAD8AAADRgAAAQAAAAO8AAAA9gAAApYAAADwAAABTgAAAG0AAADoAAAAtQAAAiEAAAECAAAA8AAA\n",
       "AUQAAARyAAAA6gAAAYMAAASlAAABPwAAAMwAAADtAAACPAAAA34AAAEKAAABawAAAq8AAAECAAAB\n",
       "fgAAADEAAAAjAAAAHgAAACYAAAApAAAAHgAAAB0AAAAeAAAAKQAAABwAAAAdAAAAHgAAACkAAAAc\n",
       "AAAAHQAAAB4AAAApAAAAHAAAAB0AAAAeAAAAKQAAABwAAAAdAAAAHgAAACkAAAAcAAAAHQAAAB4A\n",
       "AAApAAAAHAAAAB0AAAAeAAAAKQAAABwAAAAdAAAAHgAAACkAAAAcAAAAHQAAAB4AAAApAAAAHAAA\n",
       "AB0AAAAeAAAAKQAAABwAAAAdAAAAHgAAACkAAAAcAAAAHQAAAB4AAAApAAAAHAAAAB0AAAAeAAAA\n",
       "KQAAABwAAAAdAAAAHgAAACkAAAAcAAAAHQAAAB4AAAApAAAAHAAAAB0AAAAeAAAAKQAAABwAAAAd\n",
       "AAAAHgAAACkAAAAcAAAAHQAAAB4AAAApAAAAHAAAAB0AAAAeAAAAKQAAABwAAAAdAAAAHgAAACkA\n",
       "AAAcAAAAHQAAAB4AAAApAAAAHAAAAB0AAAAeAAAAKQAAABwAAAAdAAAAHgAAACkAAAAcAAAAHQAA\n",
       "AB4AAAApAAAAHAAAAB0AAAAeAAAAKQAAABwAAAAdAAAAHgAAACkAAAAcAAAAHQAAAB4AAAApAAAA\n",
       "HAAAAB0AAAAeAAAAKQAAABwAAAAdAAAAHgAAACkAAAAcAAAAHQAAACgAAAApAAAAHAAAAB0AAAAn\n",
       "AAAAKQAAABwAAAAdAAAAIwAAACkAAAAcAAAAHQAAACMAAAApAAAAHAAAAB0AAAAdAAAAKQAAABwA\n",
       "AAAdAAAAHQAAACkAAAAcAAAAHQAAAB0AAAApAAAAHAAAAB0AAAAdAAAAKQAAABwAAAAdAAAAFHN0\n",
       "Y28AAAAAAAAAAQAAADAAAABidWR0YQAAAFptZXRhAAAAAAAAACFoZGxyAAAAAAAAAABtZGlyYXBw\n",
       "bAAAAAAAAAAAAAAAAC1pbHN0AAAAJal0b28AAAAdZGF0YQAAAAEAAAAATGF2ZjU4LjM1LjEwMg==\n",
       "\">\n",
       "  Your browser does not support the video tag.\n",
       "</video>"
      ],
      "text/plain": [
       "<IPython.core.display.HTML object>"
      ]
     },
     "execution_count": 84,
     "metadata": {},
     "output_type": "execute_result"
    },
    {
     "data": {
      "image/png": "[encoded data removed]",
      "text/plain": [
       "<Figure size 720x432 with 1 Axes>"
      ]
     },
     "metadata": {
      "needs_background": "light"
     },
     "output_type": "display_data"
    }
   ],
   "source": [
    "import numpy as np\n",
    "from matplotlib.animation import FuncAnimation\n",
    "from IPython.display import HTML\n",
    "\n",
    "# This section will allow you to run animations of the search algorithms\n",
    "# by tweaking the parameters in the below function\n",
    "# The allowed search algorithms are:\n",
    "# 1. A* : solver='astar'\n",
    "# 2. Weighed A* : solver='wastar', weight=1.4\n",
    "# 3. Breadth first search : solver='bfs'\n",
    "# 4. Depth First Search : solver='dfs'\n",
    "# 5. Uniform Cost Search : solver='ucs'\n",
    "# 6. Greedy Best Frist Search : solver='bestfs'\n",
    "# TODO: bidirectional search\n",
    "\n",
    "grid = AnimateProblem(solver='wastar', # allowed: ['astar', 'wastar', 'bfs', 'dfs', 'bestfs', 'ucs']\n",
    "                      weight=1.4, # If you are using 'wastar', change the weights here.\n",
    "                      height=20, width=40,\n",
    "                      initial=(1, 1), goal=(35, 19),\n",
    "                      obstacles=random_lines(X=range(40), Y=range(20), N=80, lengths=range(1, 7)))\n",
    "grid.draw_walls()\n",
    "anim = grid.run()\n",
    "HTML(anim)"
   ]
  },
  {
   "cell_type": "code",
   "execution_count": 85,
   "metadata": {
    "scrolled": false
   },
   "outputs": [
    {
     "data": {
      "image/png": "[encoded data removed]",
      "text/plain": [
       "<Figure size 1152x720 with 1 Axes>"
      ]
     },
     "metadata": {
      "needs_background": "light"
     },
     "output_type": "display_data"
    },
    {
     "name": "stdout",
     "output_type": "stream",
     "text": [
      "           A* search search: 154.2 path cost, 7,418 states reached\n"
     ]
    },
    {
     "data": {
      "image/png": "[encoded data removed]",
      "text/plain": [
       "<Figure size 1152x720 with 1 Axes>"
      ]
     },
     "metadata": {
      "needs_background": "light"
     },
     "output_type": "display_data"
    },
    {
     "name": "stdout",
     "output_type": "stream",
     "text": [
      "           (b) Weighted (1.4) A* search search: 154.2 path cost, 944 states reached\n"
     ]
    },
    {
     "data": {
      "image/png": "[encoded data removed]",
      "text/plain": [
       "<Figure size 1152x720 with 1 Axes>"
      ]
     },
     "metadata": {
      "needs_background": "light"
     },
     "output_type": "display_data"
    },
    {
     "name": "stdout",
     "output_type": "stream",
     "text": [
      "           (b) Weighted (2) A* search search: 162.8 path cost, 782 states reached\n"
     ]
    },
    {
     "data": {
      "image/png": "[encoded data removed]",
      "text/plain": [
       "<Figure size 1152x720 with 1 Axes>"
      ]
     },
     "metadata": {
      "needs_background": "light"
     },
     "output_type": "display_data"
    },
    {
     "name": "stdout",
     "output_type": "stream",
     "text": [
      "           Greedy best-first search search: 164.5 path cost, 448 states reached\n"
     ]
    }
   ],
   "source": [
    "plots(d3)"
   ]
  },
  {
   "cell_type": "code",
   "execution_count": 86,
   "metadata": {
    "scrolled": false
   },
   "outputs": [
    {
     "data": {
      "image/png": "[encoded data removed]",
      "text/plain": [
       "<Figure size 1152x720 with 1 Axes>"
      ]
     },
     "metadata": {
      "needs_background": "light"
     },
     "output_type": "display_data"
    },
    {
     "name": "stdout",
     "output_type": "stream",
     "text": [
      "           A* search search: 133.0 path cost, 2,196 states reached\n"
     ]
    },
    {
     "data": {
      "image/png": "[encoded data removed]",
      "text/plain": [
       "<Figure size 1152x720 with 1 Axes>"
      ]
     },
     "metadata": {
      "needs_background": "light"
     },
     "output_type": "display_data"
    },
    {
     "name": "stdout",
     "output_type": "stream",
     "text": [
      "           (b) Weighted (1.4) A* search search: 133.0 path cost, 440 states reached\n"
     ]
    },
    {
     "data": {
      "image/png": "[encoded data removed]",
      "text/plain": [
       "<Figure size 1152x720 with 1 Axes>"
      ]
     },
     "metadata": {
      "needs_background": "light"
     },
     "output_type": "display_data"
    },
    {
     "name": "stdout",
     "output_type": "stream",
     "text": [
      "           (b) Weighted (2) A* search search: 134.2 path cost, 418 states reached\n"
     ]
    },
    {
     "data": {
      "image/png": "[encoded data removed]",
      "text/plain": [
       "<Figure size 1152x720 with 1 Axes>"
      ]
     },
     "metadata": {
      "needs_background": "light"
     },
     "output_type": "display_data"
    },
    {
     "name": "stdout",
     "output_type": "stream",
     "text": [
      "           Greedy best-first search search: 153.0 path cost, 502 states reached\n"
     ]
    }
   ],
   "source": [
    "plots(d4)"
   ]
  },
  {
   "cell_type": "markdown",
   "metadata": {},
   "source": [
    "# The cost of weighted A* search\n",
    "\n",
    "Now I want to try a much simpler grid problem, `d6`, with only a few obstacles. We see that A* finds the optimal path, skirting below the obstacles. Weighterd A* with a weight of 1.4 finds the same optimal path while exploring only 1/3 the number of states. But weighted A* with weight 2 takes the slightly longer path above the obstacles, because that path allowed it to stay closer to the goal in straight-line distance, which it over-weights. And greedy best-first search has a bad showing, not deviating from its path towards the goal until it is almost inside the cup made by the obstacles."
   ]
  },
  {
   "cell_type": "code",
   "execution_count": 87,
   "metadata": {
    "scrolled": false
   },
   "outputs": [
    {
     "data": {
      "image/png": "[encoded data removed]",
      "text/plain": [
       "<Figure size 1152x720 with 1 Axes>"
      ]
     },
     "metadata": {
      "needs_background": "light"
     },
     "output_type": "display_data"
    },
    {
     "name": "stdout",
     "output_type": "stream",
     "text": [
      "           A* search search: 124.1 path cost, 3,305 states reached\n"
     ]
    },
    {
     "data": {
      "image/png": "[encoded data removed]",
      "text/plain": [
       "<Figure size 1152x720 with 1 Axes>"
      ]
     },
     "metadata": {
      "needs_background": "light"
     },
     "output_type": "display_data"
    },
    {
     "name": "stdout",
     "output_type": "stream",
     "text": [
      "           (b) Weighted (1.4) A* search search: 124.1 path cost, 975 states reached\n"
     ]
    },
    {
     "data": {
      "image/png": "[encoded data removed]",
      "text/plain": [
       "<Figure size 1152x720 with 1 Axes>"
      ]
     },
     "metadata": {
      "needs_background": "light"
     },
     "output_type": "display_data"
    },
    {
     "name": "stdout",
     "output_type": "stream",
     "text": [
      "           (b) Weighted (2) A* search search: 128.6 path cost, 879 states reached\n"
     ]
    },
    {
     "data": {
      "image/png": "[encoded data removed]",
      "text/plain": [
       "<Figure size 1152x720 with 1 Axes>"
      ]
     },
     "metadata": {
      "needs_background": "light"
     },
     "output_type": "display_data"
    },
    {
     "name": "stdout",
     "output_type": "stream",
     "text": [
      "           Greedy best-first search search: 133.9 path cost, 758 states reached\n"
     ]
    }
   ],
   "source": [
    "plots(d6)"
   ]
  },
  {
   "cell_type": "markdown",
   "metadata": {},
   "source": [
    "In the next problem, `d7`, we see a similar story. the optimal path found by A*, and we see that again weighted A* with weight 1.4 does great and with weight 2 ends up erroneously going below the first two barriers, and then makes another mistake by reversing direction back towards the goal and passing above the third barrier. Again, greedy best-first makes bad decisions all around."
   ]
  },
  {
   "cell_type": "code",
   "execution_count": 49,
   "metadata": {
    "scrolled": false
   },
   "outputs": [
    {
     "data": {
      "image/png": "[encoded data removed]",
      "text/plain": [
       "<Figure size 1152x720 with 1 Axes>"
      ]
     },
     "metadata": {
      "needs_background": "light"
     },
     "output_type": "display_data"
    },
    {
     "name": "stdout",
     "output_type": "stream",
     "text": [
      "           A* search search: 127.4 path cost, 4,058 states reached\n"
     ]
    },
    {
     "data": {
      "image/png": "[encoded data removed]",
      "text/plain": [
       "<Figure size 1152x720 with 1 Axes>"
      ]
     },
     "metadata": {
      "needs_background": "light"
     },
     "output_type": "display_data"
    },
    {
     "name": "stdout",
     "output_type": "stream",
     "text": [
      "           (b) Weighted (1.4) A* search search: 127.4 path cost, 1,289 states reached\n"
     ]
    },
    {
     "data": {
      "image/png": "[encoded data removed]",
      "text/plain": [
       "<Figure size 1152x720 with 1 Axes>"
      ]
     },
     "metadata": {
      "needs_background": "light"
     },
     "output_type": "display_data"
    },
    {
     "name": "stdout",
     "output_type": "stream",
     "text": [
      "           (b) Weighted (2) A* search search: 140.4 path cost, 982 states reached\n"
     ]
    },
    {
     "data": {
      "image/png": "[encoded data removed]",
      "text/plain": [
       "<Figure size 1152x720 with 1 Axes>"
      ]
     },
     "metadata": {
      "needs_background": "light"
     },
     "output_type": "display_data"
    },
    {
     "name": "stdout",
     "output_type": "stream",
     "text": [
      "           Greedy best-first search search: 151.6 path cost, 826 states reached\n"
     ]
    }
   ],
   "source": [
    "plots(d7)"
   ]
  },
  {
   "cell_type": "markdown",
   "metadata": {},
   "source": [
    "# Nondeterministic Actions\n",
    "\n",
    "To handle problems with nondeterministic problems, we'll replace the `result` method with `results`, which returns a collection of possible result states. We'll represent the solution to a problem not with a `Node`, but with a plan that consist of two types of component: sequences of actions, like `['forward', 'suck']`, and condition actions, like\n",
    "`{5: ['forward', 'suck'], 7: []}`, which says that if we end up in state 5, then do `['forward', 'suck']`, but if we end up in state 7, then do the empty sequence of actions."
   ]
  },
  {
   "cell_type": "code",
   "execution_count": 50,
   "metadata": {},
   "outputs": [],
   "source": [
    "def and_or_search(problem):\n",
    "    \"Find a plan for a problem that has nondterministic actions.\"\n",
    "    return or_search(problem, problem.initial, [])\n",
    "    \n",
    "def or_search(problem, state, path):\n",
    "    \"Find a sequence of actions to reach goal from state, without repeating states on path.\"\n",
    "    if problem.is_goal(state): return []\n",
    "    if state in path: return failure # check for loops\n",
    "    for action in problem.actions(state):\n",
    "        plan = and_search(problem, problem.results(state, action), [state] + path)\n",
    "        if plan != failure:\n",
    "            return [action] + plan\n",
    "    return failure\n",
    "\n",
    "def and_search(problem, states, path):\n",
    "    \"Plan for each of the possible states we might end up in.\"\n",
    "    if len(states) == 1: \n",
    "        return or_search(problem, next(iter(states)), path)\n",
    "    plan = {}\n",
    "    for s in states:\n",
    "        plan[s] = or_search(problem, s, path)\n",
    "        if plan[s] == failure: return failure\n",
    "    return [plan]"
   ]
  },
  {
   "cell_type": "code",
   "execution_count": 51,
   "metadata": {},
   "outputs": [],
   "source": [
    "class MultiGoalProblem(Problem):\n",
    "    \"\"\"A version of `Problem` with a colllection of `goals` instead of one `goal`.\"\"\"\n",
    "    \n",
    "    def __init__(self, initial=None, goals=(), **kwds): \n",
    "        self.__dict__.update(initial=initial, goals=goals, **kwds)\n",
    "        \n",
    "    def is_goal(self, state): return state in self.goals\n",
    "    \n",
    "class ErraticVacuum(MultiGoalProblem):\n",
    "    \"\"\"In this 2-location vacuum problem, the suck action in a dirty square will either clean up that square,\n",
    "    or clean up both squares. A suck action in a clean square will either do nothing, or\n",
    "    will deposit dirt in that square. Forward and backward actions are deterministic.\"\"\"\n",
    "    \n",
    "    def actions(self, state): \n",
    "        return ['suck', 'forward', 'backward']\n",
    "    \n",
    "    def results(self, state, action): return self.table[action][state]\n",
    "    \n",
    "    table = {'suck':{1:{5,7}, 2:{4,8}, 3:{7}, 4:{2,4}, 5:{1,5}, 6:{8}, 7:{3,7}, 8:{6,8}},\n",
    "             'forward': {1:{2}, 2:{2}, 3:{4}, 4:{4}, 5:{6}, 6:{6}, 7:{8}, 8:{8}},\n",
    "             'backward': {1:{1}, 2:{1}, 3:{3}, 4:{3}, 5:{5}, 6:{5}, 7:{7}, 8:{7}}}"
   ]
  },
  {
   "cell_type": "markdown",
   "metadata": {},
   "source": [
    "Let's find a plan to get from state 1 to the goal of no dirt (states 7 or 8):"
   ]
  },
  {
   "cell_type": "code",
   "execution_count": 52,
   "metadata": {},
   "outputs": [
    {
     "data": {
      "text/plain": [
       "['suck', {5: ['forward', 'suck'], 7: []}]"
      ]
     },
     "execution_count": 52,
     "metadata": {},
     "output_type": "execute_result"
    }
   ],
   "source": [
    "and_or_search(ErraticVacuum(1, {7, 8}))"
   ]
  },
  {
   "cell_type": "markdown",
   "metadata": {},
   "source": [
    "This plan says \"First suck, and if we end up in state 5, go forward and suck again; if we end up in state 7, do nothing because that is a goal.\"\n",
    "\n",
    "Here are the plans to get to a goal state starting from any one of the 8 states:"
   ]
  },
  {
   "cell_type": "code",
   "execution_count": 53,
   "metadata": {},
   "outputs": [
    {
     "data": {
      "text/plain": [
       "{1: ['suck', {5: ['forward', 'suck'], 7: []}],\n",
       " 2: ['suck', {8: [], 4: ['backward', 'suck']}],\n",
       " 3: ['suck'],\n",
       " 4: ['backward', 'suck'],\n",
       " 5: ['forward', 'suck'],\n",
       " 6: ['suck'],\n",
       " 7: [],\n",
       " 8: []}"
      ]
     },
     "execution_count": 53,
     "metadata": {},
     "output_type": "execute_result"
    }
   ],
   "source": [
    "{s: and_or_search(ErraticVacuum(s, {7,8})) \n",
    " for s in range(1, 9)}"
   ]
  },
  {
   "cell_type": "markdown",
   "metadata": {},
   "source": [
    "# Comparing Algorithms on EightPuzzle Problems of Different Lengths"
   ]
  },
  {
   "cell_type": "code",
   "execution_count": 54,
   "metadata": {},
   "outputs": [],
   "source": [
    "from functools import lru_cache\n",
    "\n",
    "def build_table(table, depth, state, problem):\n",
    "    if depth > 0 and state not in table:\n",
    "        problem.initial = state\n",
    "        table[state] = len(astar_search(problem))\n",
    "        for a in problem.actions(state):\n",
    "            build_table(table, depth - 1, problem.result(state, a), problem)\n",
    "    return table\n",
    "\n",
    "def invert_table(table):\n",
    "    result = defaultdict(list)\n",
    "    for key, val in table.items():\n",
    "        result[val].append(key)\n",
    "    return result\n",
    "\n",
    "goal = (0, 1, 2, 3, 4, 5, 6, 7, 8)\n",
    "table8 = invert_table(build_table({}, 25, goal, EightPuzzle(goal)))"
   ]
  },
  {
   "cell_type": "code",
   "execution_count": 78,
   "metadata": {
    "scrolled": false
   },
   "outputs": [
    {
     "data": {
      "text/plain": [
       "2.6724"
      ]
     },
     "execution_count": 78,
     "metadata": {},
     "output_type": "execute_result"
    }
   ],
   "source": [
    "def report8(table8, M, Ds=range(2, 25, 2), searchers=(breadth_first_search, astar_misplaced_tiles, astar_search)):\n",
    "    \"Make a table of average nodes generated and effective branching factor\"\n",
    "    for d in Ds:\n",
    "        line = [d]\n",
    "        N = min(M, len(table8[d]))\n",
    "        states = random.sample(table8[d], N)\n",
    "        for searcher in searchers:\n",
    "            nodes = 0\n",
    "            for s in states:\n",
    "                problem = CountCalls(EightPuzzle(s))\n",
    "                searcher(problem)\n",
    "                nodes += problem._counts['result']\n",
    "            nodes = int(round(nodes/N))\n",
    "            line.append(nodes)\n",
    "        line.extend([ebf(d, n) for n in line[1:]])\n",
    "        print('{:2} & {:6} & {:5} & {:5} && {:.2f} & {:.2f} & {:.2f}'\n",
    "              .format(*line))\n",
    "\n",
    "        \n",
    "def ebf(d, N, possible_bs=[b/100 for b in range(100, 300)]):\n",
    "    \"Effective Branching Factor\"\n",
    "    return min(possible_bs, key=lambda b: abs(N - sum(b**i for i in range(1, d+1))))\n",
    "\n",
    "def edepth_reduction(d, N, b=2.67):\n",
    "    \n",
    "    \n",
    "\n",
    "from statistics import mean \n",
    "\n",
    "def random_state():\n",
    "    x = list(range(9))\n",
    "    random.shuffle(x)\n",
    "    return tuple(x)\n",
    "\n",
    "meanbf = mean(len(e3.actions(random_state())) for _ in range(10000))\n",
    "meanbf"
   ]
  },
  {
   "cell_type": "code",
   "execution_count": 72,
   "metadata": {},
   "outputs": [
    {
     "data": {
      "text/plain": [
       "{0: 1,\n",
       " 1: 2,\n",
       " 2: 4,\n",
       " 3: 8,\n",
       " 4: 16,\n",
       " 5: 20,\n",
       " 6: 36,\n",
       " 7: 60,\n",
       " 8: 87,\n",
       " 9: 123,\n",
       " 10: 175,\n",
       " 11: 280,\n",
       " 12: 397,\n",
       " 13: 656,\n",
       " 14: 898,\n",
       " 15: 1452,\n",
       " 16: 1670,\n",
       " 17: 2677,\n",
       " 18: 2699,\n",
       " 19: 4015,\n",
       " 20: 3472,\n",
       " 21: 4672,\n",
       " 22: 3311,\n",
       " 23: 3898,\n",
       " 24: 1945,\n",
       " 25: 1796,\n",
       " 26: 621,\n",
       " 27: 368,\n",
       " 28: 63,\n",
       " 29: 19,\n",
       " 30: 0}"
      ]
     },
     "execution_count": 72,
     "metadata": {},
     "output_type": "execute_result"
    }
   ],
   "source": [
    "{n: len(v) for (n, v) in table30.items()}"
   ]
  },
  {
   "cell_type": "code",
   "execution_count": 67,
   "metadata": {},
   "outputs": [
    {
     "name": "stdout",
     "output_type": "stream",
     "text": [
      "CPU times: user 24min 7s, sys: 11.6 s, total: 24min 19s\n",
      "Wall time: 24min 44s\n"
     ]
    }
   ],
   "source": [
    "%time table30 = invert_table(build_table({}, 30, goal, EightPuzzle(goal)))"
   ]
  },
  {
   "cell_type": "code",
   "execution_count": 68,
   "metadata": {},
   "outputs": [
    {
     "name": "stdout",
     "output_type": "stream",
     "text": [
      " 2 &      5 &     6 &     6 && 1.79 & 2.00 & 2.00\n",
      " 4 &     33 &    12 &    12 && 2.06 & 1.49 & 1.49\n",
      " 6 &    128 &    24 &    19 && 2.01 & 1.42 & 1.34\n",
      " 8 &    368 &    48 &    31 && 1.91 & 1.40 & 1.30\n",
      "10 &   1033 &   116 &    48 && 1.85 & 1.43 & 1.27\n",
      "12 &   2672 &   279 &    84 && 1.80 & 1.45 & 1.28\n",
      "14 &   6783 &   678 &   174 && 1.77 & 1.47 & 1.31\n",
      "16 &  17270 &  1683 &   364 && 1.74 & 1.48 & 1.32\n",
      "18 &  41558 &  4102 &   751 && 1.72 & 1.49 & 1.34\n",
      "20 &  91493 &  9905 &  1318 && 1.69 & 1.50 & 1.34\n",
      "22 & 175921 & 22955 &  2548 && 1.66 & 1.50 & 1.34\n",
      "24 & 290082 & 53039 &  5733 && 1.62 & 1.50 & 1.36\n",
      "CPU times: user 6min, sys: 3.63 s, total: 6min 4s\n",
      "Wall time: 6min 13s\n"
     ]
    }
   ],
   "source": [
    "%time report8(table30, 20, range(26, 31, 2))"
   ]
  },
  {
   "cell_type": "code",
   "execution_count": 70,
   "metadata": {},
   "outputs": [
    {
     "name": "stdout",
     "output_type": "stream",
     "text": [
      "26 & 395355 & 110372 & 10080 && 1.58 & 1.50 & 1.35\n",
      "28 & 463234 & 202565 & 22055 && 1.53 & 1.49 & 1.36\n"
     ]
    },
    {
     "ename": "ZeroDivisionError",
     "evalue": "division by zero",
     "output_type": "error",
     "traceback": [
      "\u001b[0;31m---------------------------------------------------------------------------\u001b[0m",
      "\u001b[0;31mZeroDivisionError\u001b[0m                         Traceback (most recent call last)",
      "\u001b[0;32m<timed eval>\u001b[0m in \u001b[0;36m<module>\u001b[0;34m()\u001b[0m\n",
      "\u001b[0;32m<ipython-input-69-674fb01939fb>\u001b[0m in \u001b[0;36mreport8\u001b[0;34m(table8, M, Ds, searchers)\u001b[0m\n\u001b[1;32m     11\u001b[0m                 \u001b[0msearcher\u001b[0m\u001b[0;34m(\u001b[0m\u001b[0mproblem\u001b[0m\u001b[0;34m)\u001b[0m\u001b[0;34m\u001b[0m\u001b[0m\n\u001b[1;32m     12\u001b[0m                 \u001b[0mnodes\u001b[0m \u001b[0;34m+=\u001b[0m \u001b[0mproblem\u001b[0m\u001b[0;34m.\u001b[0m\u001b[0m_counts\u001b[0m\u001b[0;34m[\u001b[0m\u001b[0;34m'result'\u001b[0m\u001b[0;34m]\u001b[0m\u001b[0;34m\u001b[0m\u001b[0m\n\u001b[0;32m---> 13\u001b[0;31m             \u001b[0mnodes\u001b[0m \u001b[0;34m=\u001b[0m \u001b[0mint\u001b[0m\u001b[0;34m(\u001b[0m\u001b[0mround\u001b[0m\u001b[0;34m(\u001b[0m\u001b[0mnodes\u001b[0m\u001b[0;34m/\u001b[0m\u001b[0mN\u001b[0m\u001b[0;34m)\u001b[0m\u001b[0;34m)\u001b[0m\u001b[0;34m\u001b[0m\u001b[0m\n\u001b[0m\u001b[1;32m     14\u001b[0m             \u001b[0mline\u001b[0m\u001b[0;34m.\u001b[0m\u001b[0mappend\u001b[0m\u001b[0;34m(\u001b[0m\u001b[0mnodes\u001b[0m\u001b[0;34m)\u001b[0m\u001b[0;34m\u001b[0m\u001b[0m\n\u001b[1;32m     15\u001b[0m         \u001b[0mline\u001b[0m\u001b[0;34m.\u001b[0m\u001b[0mextend\u001b[0m\u001b[0;34m(\u001b[0m\u001b[0;34m[\u001b[0m\u001b[0mebf\u001b[0m\u001b[0;34m(\u001b[0m\u001b[0md\u001b[0m\u001b[0;34m,\u001b[0m \u001b[0mn\u001b[0m\u001b[0;34m)\u001b[0m \u001b[0;32mfor\u001b[0m \u001b[0mn\u001b[0m \u001b[0;32min\u001b[0m \u001b[0mline\u001b[0m\u001b[0;34m[\u001b[0m\u001b[0;36m1\u001b[0m\u001b[0;34m:\u001b[0m\u001b[0;34m]\u001b[0m\u001b[0;34m]\u001b[0m\u001b[0;34m)\u001b[0m\u001b[0;34m\u001b[0m\u001b[0m\n",
      "\u001b[0;31mZeroDivisionError\u001b[0m: division by zero"
     ]
    }
   ],
   "source": [
    "%time report8(table30, 20, range(26, 31, 2))"
   ]
  },
  {
   "cell_type": "code",
   "execution_count": 315,
   "metadata": {},
   "outputs": [
    {
     "name": "stdout",
     "output_type": "stream",
     "text": [
      "0 116 116 ['A']\n",
      "140 0 140 ['A', 'S']\n",
      "0 83 83 ['A']\n",
      "118 0 118 ['A', 'T']\n",
      "0 45 45 ['A']\n",
      "75 0 75 ['A', 'Z']\n",
      "0 176 176 ['B']\n",
      "101 92 193 ['B', 'P']\n",
      "211 0 211 ['B', 'F']\n",
      "0 77 77 ['B']\n",
      "90 0 90 ['B', 'G']\n",
      "0 100 100 ['B']\n",
      "101 0 101 ['B', 'P']\n",
      "0 80 80 ['B']\n",
      "85 0 85 ['B', 'U']\n",
      "0 87 87 ['C']\n",
      "120 0 120 ['C', 'D']\n",
      "0 109 109 ['C']\n",
      "138 0 138 ['C', 'P']\n",
      "0 128 128 ['C']\n",
      "146 0 146 ['C', 'R']\n",
      "0 47 47 ['D']\n",
      "75 0 75 ['D', 'M']\n",
      "0 62 62 ['E']\n",
      "86 0 86 ['E', 'H']\n",
      "0 98 98 ['F']\n",
      "99 0 99 ['F', 'S']\n",
      "0 77 77 ['H']\n",
      "98 0 98 ['H', 'U']\n",
      "0 85 85 ['I']\n",
      "87 0 87 ['I', 'N']\n",
      "0 78 78 ['I']\n",
      "92 0 92 ['I', 'V']\n",
      "0 36 36 ['L']\n",
      "70 0 70 ['L', 'M']\n",
      "0 86 86 ['L']\n",
      "111 0 111 ['L', 'T']\n",
      "0 136 136 ['O']\n",
      "151 0 151 ['O', 'S']\n",
      "0 48 48 ['O']\n",
      "71 0 71 ['O', 'Z']\n",
      "0 93 93 ['P']\n",
      "97 0 97 ['P', 'R']\n",
      "0 65 65 ['R']\n",
      "80 0 80 ['R', 'S']\n",
      "0 127 127 ['U']\n",
      "142 0 142 ['U', 'V']\n"
     ]
    },
    {
     "data": {
      "text/plain": [
       "(1.2698088530709188, 1.2059558858330393)"
      ]
     },
     "execution_count": 315,
     "metadata": {},
     "output_type": "execute_result"
    }
   ],
   "source": [
    "from itertools import combinations\n",
    "from statistics import median, mean\n",
    "\n",
    "# Detour index for Romania\n",
    "\n",
    "L = romania.locations\n",
    "def ratio(a, b): return astar_search(RouteProblem(a, b, map=romania)).path_cost / sld(L[a], L[b])\n",
    "nums = [ratio(a, b) for a,b in combinations(L, 2) if b in r1.actions(a)]\n",
    "mean(nums), median(nums) # 1.7, 1.6 # 1.26, 1.2 for adjacent cities"
   ]
  },
  {
   "cell_type": "code",
   "execution_count": 300,
   "metadata": {},
   "outputs": [
    {
     "data": {
      "text/plain": [
       "<function __main__.straight_line_distance(A, B)>"
      ]
     },
     "execution_count": 300,
     "metadata": {},
     "output_type": "execute_result"
    }
   ],
   "source": [
    "sld"
   ]
  },
  {
   "cell_type": "code",
   "execution_count": null,
   "metadata": {},
   "outputs": [],
   "source": []
  }
 ],
 "metadata": {
  "kernelspec": {
   "display_name": "Python 3",
   "language": "python",
   "name": "python3"
  },
  "language_info": {
   "codemirror_mode": {
    "name": "ipython",
    "version": 3
   },
   "file_extension": ".py",
   "mimetype": "text/x-python",
   "name": "python",
   "nbconvert_exporter": "python",
   "pygments_lexer": "ipython3",
   "version": "3.6.8"
  }
 },
 "nbformat": 4,
 "nbformat_minor": 2
}
