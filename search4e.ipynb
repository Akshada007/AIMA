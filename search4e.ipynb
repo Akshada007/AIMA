{
 "cells": [
  {
   "cell_type": "markdown",
   "metadata": {},
   "source": [
    "# Search for AIMA 4th edition\n",
    "\n",
    "Implementation of search algorithms and search problems for AIMA.\n",
    "\n",
    "# Problems and Nodes\n",
    "\n",
    "We start by defining the abstract class for a `Problem`; specific problem domains will subclass this. To make it easier for algorithms that use a heuristic evaluation function, `Problem` has a default `h` function (uniformly zero), and subclasses can define their own default `h` function.\n",
    "\n",
    "We also define a `Node` in a search tree, and some functions on nodes: `expand` to generate successors; `path_actions` and `path_states`  to recover aspects of the path from the node.  "
   ]
  },
  {
   "cell_type": "code",
   "execution_count": 1,
   "metadata": {},
   "outputs": [],
   "source": [
    "%matplotlib inline\n",
    "import matplotlib.pyplot as plt\n",
    "import random\n",
    "import heapq\n",
    "import math\n",
    "import sys\n",
    "from collections import defaultdict, deque, Counter\n",
    "from itertools import combinations\n",
    "from notebook4e import AnimateProblem\n",
    "\n",
    "\n",
    "class Problem(object):\n",
    "    \"\"\"The abstract class for a formal problem. A new domain subclasses this,\n",
    "    overriding `actions` and `results`, and perhaps other methods.\n",
    "    The default heuristic is 0 and the default action cost is 1 for all states.\n",
    "    When yiou create an instance of a subclass, specify `initial`, and `goal` states \n",
    "    (or give an `is_goal` method) and perhaps other keyword args for the subclass.\"\"\"\n",
    "\n",
    "    def __init__(self, initial=None, goal=None, **kwds): \n",
    "        self.__dict__.update(initial=initial, goal=goal, **kwds) \n",
    "        \n",
    "    def actions(self, state):        raise NotImplementedError\n",
    "    def result(self, state, action): raise NotImplementedError\n",
    "    def is_goal(self, state):        return state == self.goal\n",
    "    def step_cost(self, s, a, s1): return 1\n",
    "    def h(self, node):               return 0\n",
    "    \n",
    "    def __str__(self):\n",
    "        return '{}({!r}, {!r})'.format(\n",
    "            type(self).__name__, self.initial, self.goal)\n",
    "    \n",
    "\n",
    "class Node:\n",
    "    \"A Node in a search tree.\"\n",
    "    def __init__(self, state, parent=None, action=None, path_cost=0):\n",
    "        self.__dict__.update(state=state, parent=parent, action=action, path_cost=path_cost)\n",
    "\n",
    "    def __repr__(self): return '<{}>'.format(self.state)\n",
    "    def __len__(self): return 0 if self.parent is None else (1 + len(self.parent))\n",
    "    def __lt__(self, other): return self.path_cost < other.path_cost\n",
    "    \n",
    "    \n",
    "failure = Node('failure', path_cost=math.inf) # Indicates an algorithm couldn't find a solution.\n",
    "cutoff  = Node('cutoff',  path_cost=math.inf) # Indicates iterative deepening search was cut off.\n",
    "    \n",
    "    \n",
    "def expand(problem, node):\n",
    "    \"Expand a node, generating the children nodes.\"\n",
    "    s = node.state\n",
    "    for action in problem.actions(s):\n",
    "        s1 = problem.result(s, action)\n",
    "        cost = node.path_cost + problem.step_cost(s, action, s1)\n",
    "        yield Node(s1, node, action, cost)\n",
    "        \n",
    "\n",
    "def path_actions(node):\n",
    "    \"The sequence of actions to get to this node.\"\n",
    "    if node.parent is None:\n",
    "        return []  \n",
    "    return path_actions(node.parent) + [node.action]\n",
    "\n",
    "\n",
    "def path_states(node):\n",
    "    \"The sequence of states to get to this node.\"\n",
    "    if node in (cutoff, failure, None): \n",
    "        return []\n",
    "    return path_states(node.parent) + [node.state]"
   ]
  },
  {
   "cell_type": "markdown",
   "metadata": {},
   "source": [
    "# Queues\n",
    "\n",
    "First-in-first-out and Last-in-first-out queues, and a `PriorityQueue`, which allows you to keep a collection of items, and continually remove from it the item with minimum `f(item)` score."
   ]
  },
  {
   "cell_type": "code",
   "execution_count": 2,
   "metadata": {},
   "outputs": [],
   "source": [
    "FIFOQueue = deque\n",
    "\n",
    "LIFOQueue = list\n",
    "\n",
    "class PriorityQueue:\n",
    "    \"\"\"A queue in which the item with minimum f(item) is always popped first.\"\"\"\n",
    "\n",
    "    def __init__(self, items=(), key=lambda x: x): \n",
    "        self.key = key\n",
    "        self.items = [] # a heap of (score, item) pairs\n",
    "        for item in items:\n",
    "            self.add(item)\n",
    "         \n",
    "    def add(self, item):\n",
    "        \"\"\"Add item to the queuez.\"\"\"\n",
    "        pair = (self.key(item), item)\n",
    "        heapq.heappush(self.items, pair)\n",
    "\n",
    "    def pop(self):\n",
    "        \"\"\"Pop and return the item with min f(item) value.\"\"\"\n",
    "        return heapq.heappop(self.items)[1]\n",
    "    \n",
    "    def top(self): return self.items[0][1]\n",
    "\n",
    "    def __len__(self): return len(self.items)"
   ]
  },
  {
   "cell_type": "markdown",
   "metadata": {},
   "source": [
    "# Search Algorithms: Best-First\n",
    "\n",
    "Best-first search with various *f(n)* functions gives us different search algorithms. Note that A\\*, weighted A\\* and greedy search can be given a heuristic function, `h`, but if `h` is not supplied they use the problem's default `h` function (if the problem does not define one, it is taken as *h(n)* = 0)."
   ]
  },
  {
   "cell_type": "code",
   "execution_count": 3,
   "metadata": {},
   "outputs": [],
   "source": [
    "def best_first_search(problem, f):\n",
    "    \"Search nodes with minimum f(node) value first.\"\n",
    "    node = Node(problem.initial)\n",
    "    frontier = PriorityQueue([node], key=f)\n",
    "    reached = {problem.initial: node}\n",
    "    while frontier:\n",
    "        node = frontier.pop()\n",
    "        if problem.is_goal(node.state):\n",
    "            return node\n",
    "        for child in expand(problem, node):\n",
    "            s = child.state\n",
    "            if s not in reached or child.path_cost < reached[s].path_cost:\n",
    "                reached[s] = child\n",
    "                frontier.add(child)\n",
    "    return failure\n",
    "\n",
    "\n",
    "def best_first_tree_search(problem, f):\n",
    "    \"A version of best_first_search without the `reached` table.\"\n",
    "    frontier = PriorityQueue([Node(problem.initial)], key=f)\n",
    "    while frontier:\n",
    "        node = frontier.pop()\n",
    "        if problem.is_goal(node.state):\n",
    "            return node\n",
    "        for child in expand(problem, node):\n",
    "            if not is_cycle(child):\n",
    "                frontier.add(child)\n",
    "    return failure\n",
    "\n",
    "\n",
    "def g(n): return n.path_cost\n",
    "\n",
    "\n",
    "def astar_search(problem, h=None):\n",
    "    \"\"\"Search nodes with minimum f(n) = g(n) + h(n).\"\"\"\n",
    "    h = h or problem.h\n",
    "    return best_first_search(problem, f=lambda n: g(n) + h(n))\n",
    "\n",
    "\n",
    "def astar_tree_search(problem, h=None):\n",
    "    \"\"\"Search nodes with minimum f(n) = g(n) + h(n), with no `reached` table.\"\"\"\n",
    "    h = h or problem.h\n",
    "    return best_first_tree_search(problem, f=lambda n: g(n) + h(n))\n",
    "\n",
    "\n",
    "def weighted_astar_search(problem, h=None, weight=1.4):\n",
    "    \"\"\"Search nodes with minimum f(n) = g(n) + weight * h(n).\"\"\"\n",
    "    h = h or problem.h\n",
    "    return best_first_search(problem, f=lambda n: g(n) + weight * h(n))\n",
    "\n",
    "        \n",
    "def greedy_bfs(problem, h=None):\n",
    "    \"\"\"Search nodes with minimum h(n).\"\"\"\n",
    "    h = h or problem.h\n",
    "    return best_first_search(problem, f=h)\n",
    "\n",
    "\n",
    "def uniform_cost_search(problem):\n",
    "    \"Search nodes with minimum path cost first.\"\n",
    "    return best_first_search(problem, f=g)\n",
    "\n",
    "\n",
    "def breadth_first_bfs(problem):\n",
    "    \"Search shallowest nodes in the search tree first; using best-first.\"\n",
    "    return best_first_search(problem, f=len)\n",
    "\n",
    "\n",
    "def depth_first_bfs(problem):\n",
    "    \"Search deepest nodes in the search tree first; using best-first.\"\n",
    "    return best_first_search(problem, f=lambda n: -len(n))\n",
    "\n",
    "\n",
    "def is_cycle(node, k=30):\n",
    "    \"Does this node form a cycle of length k or less?\"\n",
    "    def find_cycle(ancestor, k):\n",
    "        return (ancestor is not None and k > 0 and\n",
    "                (ancestor.state == node.state or find_cycle(ancestor.parent, k - 1)))\n",
    "    return find_cycle(node.parent, k)\n",
    "\n"
   ]
  },
  {
   "cell_type": "markdown",
   "metadata": {},
   "source": [
    "# Other Search Algorithms\n",
    "\n",
    "Here are the other search algorithms:"
   ]
  },
  {
   "cell_type": "code",
   "execution_count": 4,
   "metadata": {},
   "outputs": [],
   "source": [
    "def breadth_first_search(problem):\n",
    "    \"Search shallowest nodes in the search tree first.\"\n",
    "    node = Node(problem.initial)\n",
    "    if problem.is_goal(problem.initial):\n",
    "        return node\n",
    "    frontier = FIFOQueue([node])\n",
    "    reached = {problem.initial}\n",
    "    while frontier:\n",
    "        node = frontier.pop()\n",
    "        for child in expand(problem, node):\n",
    "            s = child.state\n",
    "            if problem.is_goal(s):\n",
    "                return child\n",
    "            if s not in reached:\n",
    "                reached.add(s)\n",
    "                frontier.appendleft(child)\n",
    "    return failure\n",
    "\n",
    "\n",
    "def iterative_deepening_search(problem):\n",
    "    \"Do depth-limited search with increasing depth limits.\"\n",
    "    for limit in range(1, sys.maxsize):\n",
    "        result = depth_limited_search(problem, limit)\n",
    "        if result != cutoff:\n",
    "            return result\n",
    "        \n",
    "        \n",
    "def depth_limited_search(problem, limit=10):\n",
    "    \"Search deepest nodes in the search tree first.\"\n",
    "    frontier = LIFOQueue([Node(problem.initial)])\n",
    "    result = failure\n",
    "    while frontier:\n",
    "        node = frontier.pop()\n",
    "        if problem.is_goal(node.state):\n",
    "            return node\n",
    "        elif len(node) >= limit:\n",
    "            result = cutoff\n",
    "        elif not is_cycle(node):\n",
    "            for child in expand(problem, node):\n",
    "                frontier.append(child)\n",
    "    return result\n",
    "\n",
    "\n",
    "def depth_first_recursive_search(problem, node=None):\n",
    "    if node is None: \n",
    "        node = Node(problem.initial)\n",
    "    if problem.is_goal(node.state):\n",
    "        return node\n",
    "    elif is_cycle(node):\n",
    "        return failure\n",
    "    else:\n",
    "        for child in expand(problem, node):\n",
    "            result = depth_first_recursive_search(problem, child)\n",
    "            if result:\n",
    "                return result\n",
    "        return failure"
   ]
  },
  {
   "cell_type": "markdown",
   "metadata": {},
   "source": [
    "# Bidirectional Best-First Search"
   ]
  },
  {
   "cell_type": "code",
   "execution_count": 5,
   "metadata": {},
   "outputs": [],
   "source": [
    "def bidirectional_best_first_search(problem_f, f_f, problem_b, f_b, terminated):\n",
    "    node_f = Node(problem_f.initial)\n",
    "    node_b = Node(problem_f.goal)\n",
    "    frontier_f, reached_f = PriorityQueue([node_f], key=f_f), {node_f.state: node_f}\n",
    "    frontier_b, reached_b = PriorityQueue([node_b], key=f_b), {node_b.state: node_b}\n",
    "    solution = failure\n",
    "    while frontier_f and frontier_b and not terminated(solution, frontier_f, frontier_b):\n",
    "        def S1(node, f):\n",
    "            return str(int(f(node))) + ' ' + str(path_states(node))\n",
    "        print('Bi:', S1(frontier_f.top(), f_f), S1(frontier_b.top(), f_b))\n",
    "        if f_f(frontier_f.top()) < f_b(frontier_b.top()):\n",
    "            solution = proceed('f', problem_f, frontier_f, reached_f, reached_b, solution)\n",
    "        else:\n",
    "            solution = proceed('b', problem_b, frontier_b, reached_b, reached_f, solution)\n",
    "    return solution\n",
    "\n",
    "def inverse_problem(problem):\n",
    "    if isinstance(problem, CountCalls):\n",
    "        return CountCalls(inverse_problem(problem._object))\n",
    "    else:\n",
    "        inv = copy.copy(problem)\n",
    "        inv.initial, inv.goal = inv.goal, inv.initial\n",
    "        return inv"
   ]
  },
  {
   "cell_type": "code",
   "execution_count": 6,
   "metadata": {},
   "outputs": [],
   "source": [
    "def bidirectional_uniform_cost_search(problem_f):\n",
    "    def terminated(solution, frontier_f, frontier_b):\n",
    "        n_f, n_b = frontier_f.top(), frontier_b.top()\n",
    "        return g(n_f) + g(n_b) > g(solution)\n",
    "    return bidirectional_best_first_search(problem_f, g, inverse_problem(problem_f), g, terminated)\n",
    "\n",
    "def bidirectional_astar_search(problem_f):\n",
    "    def terminated(solution, frontier_f, frontier_b):\n",
    "        nf, nb = frontier_f.top(), frontier_b.top()\n",
    "        return g(nf) + g(nb) > g(solution)\n",
    "    problem_f = inverse_problem(problem_f)\n",
    "    return bidirectional_best_first_search(problem_f, lambda n: g(n) + problem_f.h(n),\n",
    "                                           problem_b, lambda n: g(n) + problem_b.h(n), \n",
    "                                           terminated)\n",
    "   \n",
    "\n",
    "def proceed(direction, problem, frontier, reached, reached2, solution):\n",
    "    node = frontier.pop()\n",
    "    for child in expand(problem, node):\n",
    "        s = child.state\n",
    "        print('proceed', direction, S(child))\n",
    "        if s not in reached or child.path_cost < reached[s].path_cost:\n",
    "            frontier.add(child)\n",
    "            reached[s] = child\n",
    "            if s in reached2: # Frontiers collide; solution found\n",
    "                solution2 = (join_nodes(child, reached2[s]) if direction == 'f' else\n",
    "                             join_nodes(reached2[s], child))\n",
    "                #print('solution', path_states(solution2), solution2.path_cost, \n",
    "                # path_states(child), path_states(reached2[s]))\n",
    "                if solution2.path_cost < solution.path_cost:\n",
    "                    solution = solution2\n",
    "    return solution\n",
    "\n",
    "S = path_states\n",
    "\n",
    "#A-S-R + B-P-R => A-S-R-P + B-P\n",
    "def join_nodes(nf, nb):\n",
    "    \"\"\"Join the reverse of the backward node nb to the forward node nf.\"\"\"\n",
    "    #print('join', S(nf), S(nb))\n",
    "    join = nf\n",
    "    while nb.parent is not None:\n",
    "        cost = join.path_cost + nb.path_cost - nb.parent.path_cost\n",
    "        join = Node(nb.parent.state, join, nb.action, cost)\n",
    "        nb = nb.parent\n",
    "        #print('  now join', S(join), 'with nb', S(nb), 'parent', S(nb.parent))\n",
    "    return join\n",
    "    \n",
    "   "
   ]
  },
  {
   "cell_type": "markdown",
   "metadata": {},
   "source": [
    "# TODO: RBFS"
   ]
  },
  {
   "cell_type": "markdown",
   "metadata": {},
   "source": [
    "# Problem Domains\n",
    "\n",
    "Now we turn our attention to defining some problem domains as subclasses of `Problem`."
   ]
  },
  {
   "cell_type": "markdown",
   "metadata": {},
   "source": [
    "# Route Finding Problems\n",
    "\n",
    "![](romania.png)\n",
    "\n",
    "In a `RouteProblem`, the states are names of \"cities\" (or other locations), like `'A'` for Arad. The actions are also city names; `'Z'` is the action to move to city `'Z'`. The layout of cities is given by a separate data structure, a `Map`, which is a graph where there are vertexes (cities), links between vertexes, distances (costs) of those links (if not specified, the default is 1 for every link), and optionally the 2D (x, y) location of each city can be specified. A `RouteProblem` takes this `Map` as input and allows actions to move between linked cities. The default heuristic is straight-line distance to the goal, or is uniformly zero if locations were not given."
   ]
  },
  {
   "cell_type": "code",
   "execution_count": 7,
   "metadata": {},
   "outputs": [],
   "source": [
    "class RouteProblem(Problem):\n",
    "    \"\"\"A problem to find a route between locations on a `Map`.\n",
    "    Create a problem with RouteProblem(start, goal, map=Map(...)}).\n",
    "    States are the vertexes in the Map graph; actions are destination states.\"\"\"\n",
    "    \n",
    "    def actions(self, state): \n",
    "        \"\"\"The places neighboring `state`.\"\"\"\n",
    "        return self.map.neighbors[state]\n",
    "    \n",
    "    def result(self, state, action):\n",
    "        \"\"\"Go to the `action` place, if the map says that is possible.\"\"\"\n",
    "        return action if action in self.map.neighbors[state] else state\n",
    "    \n",
    "    def step_cost(self, s, action, s1):\n",
    "        \"\"\"The distance (cost) to go from s to s1.\"\"\"\n",
    "        return self.map.distances[s, s1]\n",
    "    \n",
    "    def h(self, node):\n",
    "        \"Straight-line distance between state and the goal.\"\n",
    "        locs = self.map.locations\n",
    "        return straight_line_distance(locs[node.state], locs[self.goal])\n",
    "    \n",
    "    \n",
    "def straight_line_distance(A, B):\n",
    "    \"Straight-line distance between two points.\"\n",
    "    return sum(abs(a - b)**2 for (a, b) in zip(A, B)) ** 0.5"
   ]
  },
  {
   "cell_type": "code",
   "execution_count": 8,
   "metadata": {},
   "outputs": [],
   "source": [
    "class Map:\n",
    "    \"\"\"A map of places in a 2D world: a graph with vertexes and links between them. \n",
    "    In `Map(links, locations)`, `links` can be either [(v1, v2)...] pairs, \n",
    "    or a {(v1, v2): distance...} dict. Optional `locations` can be {v1: (x, y)} \n",
    "    If `directed=False` then for every (v1, v2) link, we add a (v2, v1) link.\"\"\"\n",
    "\n",
    "    def __init__(self, links, locations=None, directed=False):\n",
    "        if not hasattr(links, 'items'): # Distances are 1 by default\n",
    "            links = {link: 1 for link in links}\n",
    "        if not directed:\n",
    "            for (v1, v2) in list(links):\n",
    "                links[v2, v1] = links[v1, v2]\n",
    "        self.distances = links\n",
    "        self.neighbors = multimap(links)\n",
    "        self.locations = locations or defaultdict(lambda: (0, 0))\n",
    "\n",
    "        \n",
    "def multimap(pairs) -> dict:\n",
    "    \"Given (key, val) pairs, make a dict of {key: [val,...]}.\"\n",
    "    result = defaultdict(list)\n",
    "    for key, val in pairs:\n",
    "        result[key].append(val)\n",
    "    return result"
   ]
  },
  {
   "cell_type": "code",
   "execution_count": 9,
   "metadata": {},
   "outputs": [],
   "source": [
    "# Some specific RouteProblems\n",
    "\n",
    "romania = Map(\n",
    "    {('O', 'Z'):  71, ('O', 'S'): 151, ('A', 'Z'): 75, ('A', 'S'): 140, ('A', 'T'): 118, \n",
    "     ('L', 'T'): 111, ('L', 'M'):  70, ('D', 'M'): 75, ('C', 'D'): 120, ('C', 'R'): 146, \n",
    "     ('C', 'P'): 138, ('R', 'S'):  80, ('F', 'S'): 99, ('B', 'F'): 211, ('B', 'P'): 101, \n",
    "     ('B', 'G'):  90, ('B', 'U'):  85, ('H', 'U'): 98, ('E', 'H'):  86, ('U', 'V'): 142, \n",
    "     ('I', 'V'):  92, ('I', 'N'):  87, ('P', 'R'): 97},\n",
    "    {'A': ( 76, 497), 'B': (400, 327), 'C': (246, 285), 'D': (160, 296), 'E': (558, 294), \n",
    "     'F': (285, 460), 'G': (368, 257), 'H': (548, 355), 'I': (488, 535), 'L': (162, 379),\n",
    "     'M': (160, 343), 'N': (407, 561), 'O': (117, 580), 'P': (311, 372), 'R': (227, 412),\n",
    "     'S': (187, 463), 'T': ( 83, 414), 'U': (471, 363), 'V': (535, 473), 'Z': (92, 539)})\n",
    "\n",
    "\n",
    "r0 = RouteProblem('A', 'A', map=romania)\n",
    "r1 = RouteProblem('A', 'B', map=romania)\n",
    "r2 = RouteProblem('N', 'L', map=romania)\n",
    "r3 = RouteProblem('E', 'T', map=romania)\n",
    "r4 = RouteProblem('O', 'M', map=romania)"
   ]
  },
  {
   "cell_type": "code",
   "execution_count": 10,
   "metadata": {
    "scrolled": true
   },
   "outputs": [
    {
     "data": {
      "text/plain": [
       "['A', 'S', 'R', 'P', 'B']"
      ]
     },
     "execution_count": 10,
     "metadata": {},
     "output_type": "execute_result"
    }
   ],
   "source": [
    "path_states(uniform_cost_search(r1)) # Lowest-cost path from Arab to Bucharest"
   ]
  },
  {
   "cell_type": "code",
   "execution_count": 11,
   "metadata": {},
   "outputs": [
    {
     "data": {
      "text/plain": [
       "['A', 'S', 'F', 'B']"
      ]
     },
     "execution_count": 11,
     "metadata": {},
     "output_type": "execute_result"
    }
   ],
   "source": [
    "path_states(breadth_first_search(r1)) # Breadth-first: fewer steps, higher path cost"
   ]
  },
  {
   "cell_type": "markdown",
   "metadata": {},
   "source": [
    "# Grid Problems\n",
    "\n",
    "A `GridProblem` involves navigating on a 2D grid, with some cells being impassible obstacles. By default you can move to any of the eight neighboring cells that are not obstacles (but in a problem instance you can supply a `directions=` keyword to change that). Again, the default heuristic is straight-line distance to the goal. States are `(x, y)` cell locations, such as `(4, 2)`, and actions are `(dx, dy)` cell movements, such as `(0, -1)`, which means leave the `x` coordinate alone, and decrement the `y` coordinate by 1."
   ]
  },
  {
   "cell_type": "code",
   "execution_count": 12,
   "metadata": {},
   "outputs": [],
   "source": [
    "class GridProblem(Problem):\n",
    "    \"\"\"Finding a path on a 2D grid with obstacles. Obstacles are (x, y) cells.\"\"\"\n",
    "\n",
    "    def __init__(self, initial=(15, 30), goal=(130, 30), obstacles=(), **kwds):\n",
    "        Problem.__init__(self, initial=initial, goal=goal, \n",
    "                         obstacles=set(obstacles) - {initial, goal}, **kwds)\n",
    "\n",
    "    directions = [(-1, -1), (0, -1), (1, -1),\n",
    "                  (-1, 0),           (1,  0),\n",
    "                  (-1, +1), (0, +1), (1, +1)]\n",
    "    \n",
    "    def step_cost(self, s, action, s1): return straight_line_distance(s, s1)\n",
    "    \n",
    "    def h(self, node): return straight_line_distance(node.state, self.goal)\n",
    "                  \n",
    "    def result(self, state, action): \n",
    "        \"Both states and actions are represented by (x, y) pairs.\"\n",
    "        return action if action not in self.obstacles else state\n",
    "    \n",
    "    def actions(self, state):\n",
    "        \"\"\"You can move one cell in any of `directions` to a non-obstacle cell.\"\"\"\n",
    "        x, y = state\n",
    "        return {(x + dx, y + dy) for (dx, dy) in self.directions} - self.obstacles\n",
    "    \n",
    "class ErraticVacuum(Problem):\n",
    "    def actions(self, state): \n",
    "        return ['suck', 'forward', 'backward']\n",
    "    \n",
    "    def results(self, state, action): return self.table[action][state]\n",
    "    \n",
    "    table = dict(suck=    {1:{5,7}, 2:{4,8}, 3:{7}, 4:{2,4}, 5:{1,5}, 6:{8}, 7:{3,7}, 8:{6,8}},\n",
    "                 forward= {1:{2}, 2:{2}, 3:{4}, 4:{4}, 5:{6}, 6:{6}, 7:{8}, 8:{8}},\n",
    "                 backward={1:{1}, 2:{1}, 3:{3}, 4:{3}, 5:{5}, 6:{5}, 7:{7}, 8:{7}})"
   ]
  },
  {
   "cell_type": "code",
   "execution_count": 13,
   "metadata": {},
   "outputs": [],
   "source": [
    "# Some grid routing problems\n",
    "\n",
    "# The following can be used to create obstacles:\n",
    "    \n",
    "def random_lines(X=range(15, 130), Y=range(60), N=150, lengths=range(6, 12)):\n",
    "    \"\"\"The set of cells in N random lines of the given lengths.\"\"\"\n",
    "    result = set()\n",
    "    for _ in range(N):\n",
    "        x, y = random.choice(X), random.choice(Y)\n",
    "        dx, dy = random.choice(((0, 1), (1, 0)))\n",
    "        result |= line(x, y, dx, dy, random.choice(lengths))\n",
    "    return result\n",
    "\n",
    "def line(x, y, dx, dy, length):\n",
    "    \"\"\"A line of `length` cells starting at (x, y) and going in (dx, dy) direction.\"\"\"\n",
    "    return {(x + i * dx, y + i * dy) for i in range(length)}\n",
    "\n",
    "random.seed(42) # To make this reproducible\n",
    "\n",
    "frame = line(-10, 20, 0, 1, 20) | line(150, 20, 0, 1, 20)\n",
    "cup = line(102, 44, -1, 0, 15) | line(102, 20, -1, 0, 20) | line(102, 44, 0, -1, 24)\n",
    "\n",
    "d1 = GridProblem(obstacles=random_lines(N=100) | frame)\n",
    "d2 = GridProblem(obstacles=random_lines(N=150) | frame)\n",
    "d3 = GridProblem(obstacles=random_lines(N=200) | frame)\n",
    "d4 = GridProblem(obstacles=random_lines(N=250) | frame)\n",
    "d5 = GridProblem(obstacles=random_lines(N=300) | frame)\n",
    "d6 = GridProblem(obstacles=cup | frame)\n",
    "d7 = GridProblem(obstacles=cup | frame | line(50, 35, 0, -1, 10) | line(60, 37, 0, -1, 17) | line(70, 31, 0, -1, 19))"
   ]
  },
  {
   "cell_type": "markdown",
   "metadata": {},
   "source": [
    "# 8 Puzzle Problems\n",
    "\n",
    "![](https://ece.uwaterloo.ca/~dwharder/aads/Algorithms/N_puzzles/images/puz3.png)\n",
    "\n",
    "A sliding tile puzzle where you can swap the blank with an adjacent piece, trying to reach a goal configuration. The cells are numbered 0 to 8, starting at the top left and going row by row left to right. The pieces are numebred 1 to 8, with 0 representing the blank. An action is the cell index number that is to be swapped with the blank (*not* the actual number to be swapped but the index into the state). So the diagram above left is the state `(5, 2, 7, 8, 4, 0, 1, 3, 6)`, and the action is `8`, because the cell number 8 (the 9th or last cell, the `6` in the bottom right) is swapped with the blank.\n",
    "\n",
    "There are two disjoint sets of states that cannot be reached from each other. One set has an even number of \"inversions\"; the other has an odd number. An inversion is when a piece in the state is larger than a piece that follows it.\n",
    "\n",
    "\n"
   ]
  },
  {
   "cell_type": "code",
   "execution_count": 14,
   "metadata": {},
   "outputs": [],
   "source": [
    "class EightPuzzle(Problem):\n",
    "    \"\"\" The problem of sliding tiles numbered from 1 to 8 on a 3x3 board,\n",
    "    where one of the squares is a blank, trying to reach a goal configuration.\n",
    "    A board state is represented as a tuple of length 9, where the element at index i \n",
    "    represents the tile number at index i, or 0 if for the empty square, e.g. the goal:\n",
    "        1 2 3\n",
    "        4 5 6 ==> (1, 2, 3, 4, 5, 6, 7, 8, 0)\n",
    "        7 8 _\n",
    "    \"\"\"\n",
    "\n",
    "    def __init__(self, initial, goal=(0, 1, 2, 3, 4, 5, 6, 7, 8)):\n",
    "        assert inversions(initial) % 2 == inversions(goal) % 2 # Parity check\n",
    "        self.initial, self.goal = initial, goal\n",
    "    \n",
    "    def actions(self, state):\n",
    "        \"\"\"The indexes of the squares that the blank can move to.\"\"\"\n",
    "        moves = ((1, 3),    (0, 2, 4),    (1, 5),\n",
    "                 (0, 4, 6), (1, 3, 5, 7), (2, 4, 8),\n",
    "                 (3, 7),    (4, 6, 8),    (7, 5))\n",
    "        blank = state.index(0)\n",
    "        return moves[blank]\n",
    "    \n",
    "    def result(self, state, action):\n",
    "        \"\"\"Swap the blank with the square numbered `action`.\"\"\"\n",
    "        s = list(state)\n",
    "        blank = state.index(0)\n",
    "        s[action], s[blank] = s[blank], s[action]\n",
    "        return tuple(s)\n",
    "    \n",
    "    def h1(self, node):\n",
    "        \"\"\"The misplaced tiles heuristic.\"\"\"\n",
    "        return hamming_distance(node.state, self.goal)\n",
    "    \n",
    "    def h2(self, node):\n",
    "        \"\"\"The Manhattan heuristic.\"\"\"\n",
    "        X = (0, 1, 2, 0, 1, 2, 0, 1, 2)\n",
    "        Y = (0, 0, 0, 1, 1, 1, 2, 2, 2)\n",
    "        return sum(abs(X[s] - X[g]) + abs(Y[s] - Y[g])\n",
    "                   for (s, g) in zip(node.state, self.goal) if s != 0)\n",
    "    \n",
    "    def h(self, node): return self.h2(node)\n",
    "    \n",
    "    \n",
    "def hamming_distance(A, B):\n",
    "    \"Number of positions where vectors A and B are different.\"\n",
    "    return sum(a != b for a, b in zip(A, B))\n",
    "    \n",
    "\n",
    "def inversions(board):\n",
    "    \"The number of times a piece is a smaller number than a following piece.\"\n",
    "    return sum((a > b and a != 0 and b != 0) for (a, b) in combinations(board, 2))\n",
    "    \n",
    "    \n",
    "def board8(board, fmt=(3 * '{} {} {}\\n')):\n",
    "    \"A string representing an 8-puzzle board\"\n",
    "    return fmt.format(*board).replace('0', '_')\n",
    "\n",
    "class Board(defaultdict):\n",
    "    empty = '.'\n",
    "    off = '#'\n",
    "    def __init__(self, board=None, width=8, height=8, to_move=None, **kwds):\n",
    "        if board is not None:\n",
    "            self.update(board)\n",
    "            self.width, self.height = (board.width, board.height) \n",
    "        else:\n",
    "            self.width, self.height = (width, height)\n",
    "        self.to_move = to_move\n",
    "\n",
    "    def __missing__(self, key):\n",
    "        x, y = key\n",
    "        if x < 0 or x >= self.width or y < 0 or y >= self.height:\n",
    "            return self.off\n",
    "        else:\n",
    "            return self.empty\n",
    "        \n",
    "    def __repr__(self):\n",
    "        def row(y): return ' '.join(self[x, y] for x in range(self.width))\n",
    "        return '\\n'.join(row(y) for y in range(self.height))\n",
    "            \n",
    "    def __hash__(self): \n",
    "        return hash(tuple(sorted(self.items()))) + hash(self.to_move)"
   ]
  },
  {
   "cell_type": "code",
   "execution_count": 15,
   "metadata": {},
   "outputs": [],
   "source": [
    "# Some specific EightPuzzle problems\n",
    "\n",
    "e1 = EightPuzzle((1, 4, 2, 0, 7, 5, 3, 6, 8))\n",
    "e2 = EightPuzzle((1, 2, 3, 4, 5, 6, 7, 8, 0))\n",
    "e3 = EightPuzzle((4, 0, 2, 5, 1, 3, 7, 8, 6))\n",
    "e4 = EightPuzzle((7, 2, 4, 5, 0, 6, 8, 3, 1))\n",
    "e5 = EightPuzzle((8, 6, 7, 2, 5, 4, 3, 0, 1))"
   ]
  },
  {
   "cell_type": "code",
   "execution_count": 16,
   "metadata": {},
   "outputs": [
    {
     "name": "stdout",
     "output_type": "stream",
     "text": [
      "1 4 2\n",
      "_ 7 5\n",
      "3 6 8\n",
      "\n",
      "1 4 2\n",
      "3 7 5\n",
      "_ 6 8\n",
      "\n",
      "1 4 2\n",
      "3 7 5\n",
      "6 _ 8\n",
      "\n",
      "1 4 2\n",
      "3 _ 5\n",
      "6 7 8\n",
      "\n",
      "1 _ 2\n",
      "3 4 5\n",
      "6 7 8\n",
      "\n",
      "_ 1 2\n",
      "3 4 5\n",
      "6 7 8\n",
      "\n"
     ]
    }
   ],
   "source": [
    "# Solve an 8 puzzle problem and print out each state\n",
    "\n",
    "for s in path_states(astar_search(e1)):\n",
    "    print(board8(s))"
   ]
  },
  {
   "cell_type": "markdown",
   "metadata": {},
   "source": [
    "# Water Pouring Problems\n",
    "\n",
    "![](http://puzzles.nigelcoldwell.co.uk/images/water22.png)\n",
    "\n",
    "In a [water pouring problem](https://en.wikipedia.org/wiki/Water_pouring_puzzle) you are given a collection of jugs, each of which has a size (capacity) in, say, litres, and a current level of water (in litres). The goal is to measure out a certain level of water; it can appear in any of the jugs. For example, in the movie *Die Hard 3*, the heroes were faced with the task of making exactly 4 gallons from jugs of size 5 gallons and 3 gallons.) A state is represented by a tuple of current water levels, and the available actions are:\n",
    "- `(Fill, i)`: fill the `i`th jug all the way to the top (from a tap with unlimited water).\n",
    "- `(Dump, i)`: dump all the water out of the `i`th jug.\n",
    "- `(Pour, i, j)`: pour water from the `i`th jug into the `j`th jug until either the jug `i` is empty, or jug `j` is full, whichever comes first."
   ]
  },
  {
   "cell_type": "code",
   "execution_count": 17,
   "metadata": {},
   "outputs": [],
   "source": [
    "class PourProblem(Problem):\n",
    "    \"\"\"Problem about pouring water between jugs to achieve some water level.\n",
    "    Each state is a tuples of water levels. In the initialization, also provide a tuple of \n",
    "    jug sizes, e.g. PourProblem(initial=(0, 0), goal=4, sizes=(5, 3)), \n",
    "    which means two jugs of sizes 5 and 3, initially both empty, with the goal\n",
    "    of getting a level of 4 in either jug.\"\"\"\n",
    "    \n",
    "    def actions(self, state):\n",
    "        \"\"\"The actions executable in this state.\"\"\"\n",
    "        jugs = range(len(state))\n",
    "        return ([('Fill', i)    for i in jugs if state[i] < self.sizes[i]] +\n",
    "                [('Dump', i)    for i in jugs if state[i]] +\n",
    "                [('Pour', i, j) for i in jugs if state[i] for j in jugs if i != j])\n",
    "\n",
    "    def result(self, state, action):\n",
    "        \"\"\"The state that results from executing this action in this state.\"\"\"\n",
    "        result = list(state)\n",
    "        act, i, *_ = action\n",
    "        if act == 'Fill':   # Fill i to capacity\n",
    "            result[i] = self.sizes[i]\n",
    "        elif act == 'Dump': # Empty i\n",
    "            result[i] = 0\n",
    "        elif act == 'Pour': # Pour from i into j\n",
    "            j = action[2]\n",
    "            amount = min(state[i], self.sizes[j] - state[j])\n",
    "            result[i] -= amount\n",
    "            result[j] += amount\n",
    "        return tuple(result)\n",
    "\n",
    "    def is_goal(self, state):\n",
    "        \"\"\"True if the goal level is in any one of the jugs.\"\"\"\n",
    "        return self.goal in state"
   ]
  },
  {
   "cell_type": "markdown",
   "metadata": {},
   "source": [
    "In a `GreenPourProblem`, the states and actions are the same, but instead of all actions costing 1, in these problems the cost of an action is the amount of water that flows from the tap. (There is an issue that non-*Fill* actions have 0 cost, which in general can lead to indefinitely long solutions, but in this problem there is a finite number of states, so we're ok.)"
   ]
  },
  {
   "cell_type": "code",
   "execution_count": 18,
   "metadata": {},
   "outputs": [],
   "source": [
    "class GreenPourProblem(PourProblem): \n",
    "    \"\"\"A PourProblem in which the cost is the amount of water used.\"\"\"\n",
    "    def action_cost(self, s, action, s1):\n",
    "        \"The cost is the amount of water used.\"\n",
    "        act, i, *_ = action\n",
    "        return self.sizes[i] - s[i] if act == 'Fill' else 0"
   ]
  },
  {
   "cell_type": "code",
   "execution_count": 19,
   "metadata": {},
   "outputs": [],
   "source": [
    "# Some specific PourProblems\n",
    "\n",
    "p1 = PourProblem((1, 1, 1), 13, sizes=(2, 16, 32))\n",
    "p2 = PourProblem((0, 0, 0), 21, sizes=(8, 11, 31))\n",
    "p3 = PourProblem((0, 0),     8, sizes=(7,9))\n",
    "p4 = PourProblem((0, 0, 0), 21, sizes=(8, 11, 31))\n",
    "p5 = PourProblem((0, 0),     4, sizes=(3, 5))\n",
    "\n",
    "g1 = GreenPourProblem((1, 1, 1), 13, sizes=(2, 16, 32))\n",
    "g2 = GreenPourProblem((0, 0, 0), 21, sizes=(8, 11, 31))\n",
    "g3 = GreenPourProblem((0, 0),     8, sizes=(7,9))\n",
    "g4 = GreenPourProblem((0, 0, 0), 21, sizes=(8, 11, 31))\n",
    "g5 = GreenPourProblem((0, 0),     4, sizes=(3, 5))"
   ]
  },
  {
   "cell_type": "code",
   "execution_count": 20,
   "metadata": {},
   "outputs": [
    {
     "data": {
      "text/plain": [
       "([('Fill', 1), ('Pour', 1, 0), ('Dump', 0), ('Pour', 1, 0)],\n",
       " [(1, 1, 1), (1, 16, 1), (2, 15, 1), (0, 15, 1), (2, 13, 1)])"
      ]
     },
     "execution_count": 20,
     "metadata": {},
     "output_type": "execute_result"
    }
   ],
   "source": [
    "# Solve the PourProblem of getting 13 in some jug, and show the actions and states\n",
    "soln = breadth_first_search(p1)\n",
    "path_actions(soln), path_states(soln)"
   ]
  },
  {
   "cell_type": "markdown",
   "metadata": {},
   "source": [
    "# Pancake Sorting Problems\n",
    "\n",
    "Given a stack of pancakes of various sizes, can you sort them into a stack of decreasing sizes, largest on bottom to smallest on top? You have a spatula with which you can flip the top `i` pancakes. This is shown below for `i = 3`; on the top the spatula grabs the first three pancakes; on the bottom we see them flipped:\n",
    "\n",
    "\n",
    "![](https://upload.wikimedia.org/wikipedia/commons/0/0f/Pancake_sort_operation.png)\n",
    "\n",
    "How many flips will it take to get the whole stack sorted? This is an interesting [problem](https://en.wikipedia.org/wiki/Pancake_sorting) that Bill Gates has [written about](https://people.eecs.berkeley.edu/~christos/papers/Bounds%20For%20Sorting%20By%20Prefix%20Reversal.pdf). A reasonable heuristic for this problem is the *gap heuristic*: if we look at neighboring pancakes, if, say, the 2nd smallest is next to the 3rd smallest, that's good; they should stay next to each other. But if the 2nd smallest is next to the 4th smallest, that's bad: we will require at least one move to separate them and insert the 3rd smallest between them. The gap heuristic counts the number of neighbors that have a gap like this. In our specification of the problem, pancakes are ranked by size: the smallest is `1`, the 2nd smallest `2`, and so on, and the representation of a state is a tuple of these rankings, from the top to the bottom pancake. Thus the goal state is always `(1, 2, ..., `*n*`)` and the initial (top) state in the diagram above is `(2, 1, 4, 6, 3, 5)`.\n"
   ]
  },
  {
   "cell_type": "code",
   "execution_count": 21,
   "metadata": {},
   "outputs": [],
   "source": [
    "class PancakeProblem(Problem):\n",
    "    \"\"\"A PancakeProblem the goal is always `tuple(range(1, n+1))`, where the\n",
    "    initial state is a permutation of `range(1, n+1)`. An act is the index `i` \n",
    "    of the top `i` pancakes that will be flipped.\"\"\"\n",
    "    \n",
    "    def __init__(self, initial): \n",
    "        self.initial, self.goal = tuple(initial), tuple(sorted(initial))\n",
    "    \n",
    "    def actions(self, state): return range(2, len(state) + 1)\n",
    "\n",
    "    def result(self, state, i): return state[:i][::-1] + state[i:]\n",
    "    \n",
    "    def h(self, node):\n",
    "        \"The gap heuristic.\"\n",
    "        s = node.state\n",
    "        return sum(abs(s[i] - s[i - 1]) > 1 for i in range(1, len(s)))"
   ]
  },
  {
   "cell_type": "code",
   "execution_count": 22,
   "metadata": {},
   "outputs": [],
   "source": [
    "c0 = PancakeProblem((2, 1, 4, 6, 3, 5))\n",
    "c1 = PancakeProblem((4, 6, 2, 5, 1, 3))\n",
    "c2 = PancakeProblem((1, 3, 7, 5, 2, 6, 4))\n",
    "c3 = PancakeProblem((1, 7, 2, 6, 3, 5, 4))\n",
    "c4 = PancakeProblem((1, 3, 5, 7, 9, 2, 4, 6, 8))"
   ]
  },
  {
   "cell_type": "code",
   "execution_count": 23,
   "metadata": {},
   "outputs": [
    {
     "data": {
      "text/plain": [
       "[(2, 1, 4, 6, 3, 5),\n",
       " (6, 4, 1, 2, 3, 5),\n",
       " (5, 3, 2, 1, 4, 6),\n",
       " (4, 1, 2, 3, 5, 6),\n",
       " (3, 2, 1, 4, 5, 6),\n",
       " (1, 2, 3, 4, 5, 6)]"
      ]
     },
     "execution_count": 23,
     "metadata": {},
     "output_type": "execute_result"
    }
   ],
   "source": [
    "# Solve a pancake problem\n",
    "path_states(astar_search(c0))"
   ]
  },
  {
   "cell_type": "markdown",
   "metadata": {},
   "source": [
    "# Jumping Frogs Puzzle\n",
    "\n",
    "In this puzzle (which also can be played as a two-player game), the initial state is a line of squares, with N pieces of one kind on the left, then one empty square, then N pieces of another kind on the right. The diagram below uses 2 blue toads and 2 red frogs; we will represent this as the string `'LL.RR'`. The goal is to swap the pieces, arriving at `'RR.LL'`. An `'L'` piece moves left-to-right, either sliding one space ahead to an empty space, or two spaces ahead if that space is empty and if there is an `'R'` in between to hop over. The `'R'` pieces move right-to-left analogously. An action will be an `(i, j)` pair meaning to swap the pieces at those indexes. The set of actions for the N = 2 position below is `{(1, 2), (3, 2)}`, meaning either the blue toad in position 1 or the red frog in position 3 can swap places with the blank in position 2.\n",
    "\n",
    "![](https://upload.wikimedia.org/wikipedia/commons/2/2f/ToadsAndFrogs.png)"
   ]
  },
  {
   "cell_type": "code",
   "execution_count": 24,
   "metadata": {},
   "outputs": [],
   "source": [
    "class JumpingPuzzle(Problem):\n",
    "    \"\"\"Try to exchange L and R by moving one ahead or hopping two ahead.\"\"\"\n",
    "    def __init__(self, N=2):\n",
    "        self.initial = N*'L' + '.' + N*'R'\n",
    "        self.goal = self.initial[::-1]\n",
    "        \n",
    "    def actions(self, state):\n",
    "        \"\"\"Find all possible move or hop moves.\"\"\"\n",
    "        idxs = range(len(state))\n",
    "        return ({(i, i + 1) for i in idxs if state[i:i+2] == 'L.'}   # Slide\n",
    "               |{(i, i + 2) for i in idxs if state[i:i+3] == 'LR.'}  # Hop\n",
    "               |{(i + 1, i) for i in idxs if state[i:i+2] == '.R'}   # Slide\n",
    "               |{(i + 2, i) for i in idxs if state[i:i+3] == '.LR'}) # Hop\n",
    "\n",
    "    def result(self, state, action):\n",
    "        \"\"\"An action (i, j) means swap the pieces at positions i and j.\"\"\"\n",
    "        i, j = action\n",
    "        result = list(state)\n",
    "        result[i], result[j] = state[j], state[i]\n",
    "        return ''.join(result)\n",
    "    \n",
    "    def h(self, node): return hamming_distance(node.state, self.goal)"
   ]
  },
  {
   "cell_type": "code",
   "execution_count": 25,
   "metadata": {},
   "outputs": [
    {
     "data": {
      "text/plain": [
       "{(1, 2), (3, 2)}"
      ]
     },
     "execution_count": 25,
     "metadata": {},
     "output_type": "execute_result"
    }
   ],
   "source": [
    "JumpingPuzzle(N=2).actions('LL.RR')"
   ]
  },
  {
   "cell_type": "code",
   "execution_count": 26,
   "metadata": {},
   "outputs": [
    {
     "data": {
      "text/plain": [
       "['LLL.RRR',\n",
       " 'LLLR.RR',\n",
       " 'LL.RLRR',\n",
       " 'L.LRLRR',\n",
       " 'LRL.LRR',\n",
       " 'LRLRL.R',\n",
       " 'LRLRLR.',\n",
       " 'LRLR.RL',\n",
       " 'LR.RLRL',\n",
       " '.RLRLRL',\n",
       " 'R.LRLRL',\n",
       " 'RRL.LRL',\n",
       " 'RRLRL.L',\n",
       " 'RRLR.LL',\n",
       " 'RR.RLLL',\n",
       " 'RRR.LLL']"
      ]
     },
     "execution_count": 26,
     "metadata": {},
     "output_type": "execute_result"
    }
   ],
   "source": [
    "j3 = JumpingPuzzle(N=3)\n",
    "j9 = JumpingPuzzle(N=9)\n",
    "path_states(astar_search(j3))"
   ]
  },
  {
   "cell_type": "markdown",
   "metadata": {},
   "source": [
    "# Reporting Summary Statistics on Search Algorithms\n",
    "\n",
    "Now let's gather some metrics on how well each algorithm does.  We'll use `CountCalls` to wrap a `Problem` object in such a way that calls to its methods are delegated to the original problem, but each call increments a counter. Once we've solved the problem, we print out summary statistics."
   ]
  },
  {
   "cell_type": "code",
   "execution_count": 27,
   "metadata": {},
   "outputs": [],
   "source": [
    "class CountCalls:\n",
    "    \"\"\"Delegate all attribute gets to the object, and count them in ._counts\"\"\"\n",
    "    def __init__(self, obj):\n",
    "        self._object = obj\n",
    "        self._counts = Counter()\n",
    "        \n",
    "    def __getattr__(self, attr):\n",
    "        \"Delegate to the original object, after incrementing a counter.\"\n",
    "        self._counts[attr] += 1\n",
    "        return getattr(self._object, attr)\n",
    "\n",
    "        \n",
    "def report(searchers, problems, verbose=True):\n",
    "    \"\"\"Show summary statistics for each searcher (and on each problem unless verbose is false).\"\"\"\n",
    "    for searcher in searchers:\n",
    "        print(searcher.__name__ + ':')\n",
    "        total_counts = Counter()\n",
    "        for p in problems:\n",
    "            prob   = CountCalls(p)\n",
    "            soln   = searcher(prob)\n",
    "            counts = prob._counts; \n",
    "            counts.update(actions=len(soln), cost=soln.path_cost)\n",
    "            total_counts += counts\n",
    "            if verbose: report_counts(counts, str(p)[:40])\n",
    "        report_counts(total_counts, 'TOTAL\\n')\n",
    "        \n",
    "def report_counts(counts, name):\n",
    "    \"\"\"Print one line of the counts report.\"\"\"\n",
    "    print('{:9,d} nodes |{:9,d} goal |{:5.0f} cost |{:8,d} actions | {}'.format(\n",
    "          counts['result'], counts['is_goal'], counts['cost'], counts['actions'], name))"
   ]
  },
  {
   "cell_type": "markdown",
   "metadata": {},
   "source": [
    "Here's a tiny report for uniform-cost search on the jug pouring problems:"
   ]
  },
  {
   "cell_type": "code",
   "execution_count": 28,
   "metadata": {},
   "outputs": [
    {
     "name": "stdout",
     "output_type": "stream",
     "text": [
      "uniform_cost_search:\n",
      "      948 nodes |      109 goal |    4 cost |     112 actions | PourProblem((1, 1, 1), 13)\n",
      "    3,499 nodes |      389 goal |    9 cost |     397 actions | PourProblem((0, 0, 0), 21)\n",
      "      124 nodes |       30 goal |   14 cost |      43 actions | PourProblem((0, 0), 8)\n",
      "    3,499 nodes |      389 goal |    9 cost |     397 actions | PourProblem((0, 0, 0), 21)\n",
      "       52 nodes |       14 goal |    6 cost |      19 actions | PourProblem((0, 0), 4)\n",
      "    8,122 nodes |      931 goal |   42 cost |     968 actions | TOTAL\n",
      "\n"
     ]
    }
   ],
   "source": [
    "report([uniform_cost_search], [p1, p2, p3, p4, p5])"
   ]
  },
  {
   "cell_type": "code",
   "execution_count": 29,
   "metadata": {},
   "outputs": [
    {
     "name": "stdout",
     "output_type": "stream",
     "text": [
      "uniform_cost_search:\n",
      "      948 nodes |      109 goal |    4 cost |     112 actions | PourProblem((1, 1, 1), 13)\n",
      "      948 nodes |      109 goal |    4 cost |     112 actions | GreenPourProblem((1, 1, 1), 13)\n",
      "    3,499 nodes |      389 goal |    9 cost |     397 actions | PourProblem((0, 0, 0), 21)\n",
      "    3,499 nodes |      389 goal |    9 cost |     397 actions | GreenPourProblem((0, 0, 0), 21)\n",
      "      124 nodes |       30 goal |   14 cost |      43 actions | PourProblem((0, 0), 8)\n",
      "      124 nodes |       30 goal |   14 cost |      43 actions | GreenPourProblem((0, 0), 8)\n",
      "    3,499 nodes |      389 goal |    9 cost |     397 actions | PourProblem((0, 0, 0), 21)\n",
      "    3,499 nodes |      389 goal |    9 cost |     397 actions | GreenPourProblem((0, 0, 0), 21)\n",
      "    3,499 nodes |      389 goal |    9 cost |     397 actions | PourProblem((0, 0, 0), 21)\n",
      "    3,499 nodes |      389 goal |    9 cost |     397 actions | GreenPourProblem((0, 0, 0), 21)\n",
      "    3,590 nodes |      719 goal |    7 cost |     725 actions | PancakeProblem((4, 6, 2, 5, 1, 3), (1, 2\n",
      "   30,204 nodes |    5,035 goal |    8 cost |   5,042 actions | PancakeProblem((1, 3, 7, 5, 2, 6, 4), (1\n",
      "   22,068 nodes |    3,679 goal |    6 cost |   3,684 actions | PancakeProblem((1, 7, 2, 6, 3, 5, 4), (1\n",
      "   79,000 nodes |   12,045 goal |  111 cost |  12,143 actions | TOTAL\n",
      "\n",
      "breadth_first_search:\n",
      "      596 nodes |      597 goal |    4 cost |      73 actions | PourProblem((1, 1, 1), 13)\n",
      "      596 nodes |      597 goal |    4 cost |      73 actions | GreenPourProblem((1, 1, 1), 13)\n",
      "    2,618 nodes |    2,619 goal |    9 cost |     302 actions | PourProblem((0, 0, 0), 21)\n",
      "    2,618 nodes |    2,619 goal |    9 cost |     302 actions | GreenPourProblem((0, 0, 0), 21)\n",
      "      120 nodes |      121 goal |   14 cost |      42 actions | PourProblem((0, 0), 8)\n",
      "      120 nodes |      121 goal |   14 cost |      42 actions | GreenPourProblem((0, 0), 8)\n",
      "    2,618 nodes |    2,619 goal |    9 cost |     302 actions | PourProblem((0, 0, 0), 21)\n",
      "    2,618 nodes |    2,619 goal |    9 cost |     302 actions | GreenPourProblem((0, 0, 0), 21)\n",
      "    2,618 nodes |    2,619 goal |    9 cost |     302 actions | PourProblem((0, 0, 0), 21)\n",
      "    2,618 nodes |    2,619 goal |    9 cost |     302 actions | GreenPourProblem((0, 0, 0), 21)\n",
      "    2,951 nodes |    2,952 goal |    7 cost |     598 actions | PancakeProblem((4, 6, 2, 5, 1, 3), (1, 2\n",
      "   25,945 nodes |   25,946 goal |    8 cost |   4,333 actions | PancakeProblem((1, 3, 7, 5, 2, 6, 4), (1\n",
      "    5,975 nodes |    5,976 goal |    6 cost |   1,002 actions | PancakeProblem((1, 7, 2, 6, 3, 5, 4), (1\n",
      "   52,011 nodes |   52,024 goal |  111 cost |   7,975 actions | TOTAL\n",
      "\n"
     ]
    }
   ],
   "source": [
    "report((uniform_cost_search, breadth_first_search), \n",
    "       (p1, g1, p2, g2, p3, g3, p4, g4, p4, g4, c1, c2, c3)) "
   ]
  },
  {
   "cell_type": "markdown",
   "metadata": {},
   "source": [
    "# Comparing heuristics\n",
    "\n",
    "First, let's look at the eight puzzle problems, and compare three different heuristics the Manhattan heuristic, the less informative misplaced tiles heuristic, and the uninformed (i.e. *h* = 0) breadth-first search:"
   ]
  },
  {
   "cell_type": "code",
   "execution_count": 30,
   "metadata": {
    "scrolled": false
   },
   "outputs": [
    {
     "name": "stdout",
     "output_type": "stream",
     "text": [
      "breadth_first_search:\n",
      "       81 nodes |       82 goal |    5 cost |      35 actions | EightPuzzle((1, 4, 2, 0, 7, 5, 3, 6, 8),\n",
      "  160,948 nodes |  160,949 goal |   22 cost |  59,960 actions | EightPuzzle((1, 2, 3, 4, 5, 6, 7, 8, 0),\n",
      "  218,263 nodes |  218,264 goal |   23 cost |  81,829 actions | EightPuzzle((4, 0, 2, 5, 1, 3, 7, 8, 6),\n",
      "  418,771 nodes |  418,772 goal |   26 cost | 156,533 actions | EightPuzzle((7, 2, 4, 5, 0, 6, 8, 3, 1),\n",
      "  448,667 nodes |  448,668 goal |   27 cost | 167,799 actions | EightPuzzle((8, 6, 7, 2, 5, 4, 3, 0, 1),\n",
      "1,246,730 nodes |1,246,735 goal |  103 cost | 466,156 actions | TOTAL\n",
      "\n",
      "astar_misplaced_tiles:\n",
      "       17 nodes |        7 goal |    5 cost |      11 actions | EightPuzzle((1, 4, 2, 0, 7, 5, 3, 6, 8),\n",
      "   23,407 nodes |    8,726 goal |   22 cost |   8,747 actions | EightPuzzle((1, 2, 3, 4, 5, 6, 7, 8, 0),\n",
      "   38,632 nodes |   14,433 goal |   23 cost |  14,455 actions | EightPuzzle((4, 0, 2, 5, 1, 3, 7, 8, 6),\n",
      "  124,324 nodes |   46,553 goal |   26 cost |  46,578 actions | EightPuzzle((7, 2, 4, 5, 0, 6, 8, 3, 1),\n",
      "  156,111 nodes |   58,475 goal |   27 cost |  58,501 actions | EightPuzzle((8, 6, 7, 2, 5, 4, 3, 0, 1),\n",
      "  342,491 nodes |  128,194 goal |  103 cost | 128,292 actions | TOTAL\n",
      "\n",
      "astar_search:\n",
      "       15 nodes |        6 goal |    5 cost |      10 actions | EightPuzzle((1, 4, 2, 0, 7, 5, 3, 6, 8),\n",
      "    3,614 nodes |    1,349 goal |   22 cost |   1,370 actions | EightPuzzle((1, 2, 3, 4, 5, 6, 7, 8, 0),\n",
      "    5,373 nodes |    2,010 goal |   23 cost |   2,032 actions | EightPuzzle((4, 0, 2, 5, 1, 3, 7, 8, 6),\n",
      "   10,832 nodes |    4,086 goal |   26 cost |   4,111 actions | EightPuzzle((7, 2, 4, 5, 0, 6, 8, 3, 1),\n",
      "   11,669 nodes |    4,417 goal |   27 cost |   4,443 actions | EightPuzzle((8, 6, 7, 2, 5, 4, 3, 0, 1),\n",
      "   31,503 nodes |   11,868 goal |  103 cost |  11,966 actions | TOTAL\n",
      "\n"
     ]
    }
   ],
   "source": [
    "def astar_misplaced_tiles(problem): return astar_search(problem, h=problem.h1)\n",
    "\n",
    "report([breadth_first_search, astar_misplaced_tiles, astar_search], \n",
    "       [e1, e2, e3, e4, e5])"
   ]
  },
  {
   "cell_type": "markdown",
   "metadata": {},
   "source": [
    "We see that all three algorithms get cost-optimal solutions, but the better the heuristic, the fewer nodes explored. \n",
    "Compared to the uninformed search, the misplaced tiles heuristic explores about 1/4 the number of nodes, and the Manhattan heuristic needs just 2%.\n",
    "\n",
    "Next, we can show the value of the gap heuristic for pancake sorting problems:"
   ]
  },
  {
   "cell_type": "code",
   "execution_count": 31,
   "metadata": {},
   "outputs": [
    {
     "name": "stdout",
     "output_type": "stream",
     "text": [
      "astar_search:\n",
      "    1,285 nodes |      258 goal |    7 cost |     264 actions | PancakeProblem((4, 6, 2, 5, 1, 3), (1, 2\n",
      "    3,804 nodes |      635 goal |    8 cost |     642 actions | PancakeProblem((1, 3, 7, 5, 2, 6, 4), (1\n",
      "      294 nodes |       50 goal |    6 cost |      55 actions | PancakeProblem((1, 7, 2, 6, 3, 5, 4), (1\n",
      "    2,256 nodes |      283 goal |    9 cost |     291 actions | PancakeProblem((1, 3, 5, 7, 9, 2, 4, 6, \n",
      "    7,639 nodes |    1,226 goal |   30 cost |   1,252 actions | TOTAL\n",
      "\n",
      "uniform_cost_search:\n",
      "    3,590 nodes |      719 goal |    7 cost |     725 actions | PancakeProblem((4, 6, 2, 5, 1, 3), (1, 2\n",
      "   30,204 nodes |    5,035 goal |    8 cost |   5,042 actions | PancakeProblem((1, 3, 7, 5, 2, 6, 4), (1\n",
      "   22,068 nodes |    3,679 goal |    6 cost |   3,684 actions | PancakeProblem((1, 7, 2, 6, 3, 5, 4), (1\n",
      "2,271,792 nodes |  283,975 goal |    9 cost | 283,983 actions | PancakeProblem((1, 3, 5, 7, 9, 2, 4, 6, \n",
      "2,327,654 nodes |  293,408 goal |   30 cost | 293,434 actions | TOTAL\n",
      "\n"
     ]
    }
   ],
   "source": [
    "report([astar_search, uniform_cost_search], [c1, c2, c3, c4])"
   ]
  },
  {
   "cell_type": "markdown",
   "metadata": {},
   "source": [
    "We need to explore 300 times more nodes without the heuristic.\n",
    "\n",
    "# Comparing graph search and tree search\n",
    "\n",
    "Keeping the *reached* table in `best_first_search` allows us to do a graph search, where we notice when we reach a state by two different paths, rather than a tree search, where we have duplicated effort. The *reached* table consumes space and also saves time. How much time? In part it depends on how good the heuristics are at focusing the search.  Below we show that on some pancake and eight puzzle problems, the tree search expands roughly twice as many nodes (and thus takes roughly twice as much time):"
   ]
  },
  {
   "cell_type": "code",
   "execution_count": 32,
   "metadata": {},
   "outputs": [
    {
     "name": "stdout",
     "output_type": "stream",
     "text": [
      "astar_search:\n",
      "       15 nodes |        6 goal |    5 cost |      10 actions | EightPuzzle((1, 4, 2, 0, 7, 5, 3, 6, 8),\n",
      "    3,614 nodes |    1,349 goal |   22 cost |   1,370 actions | EightPuzzle((1, 2, 3, 4, 5, 6, 7, 8, 0),\n",
      "    5,373 nodes |    2,010 goal |   23 cost |   2,032 actions | EightPuzzle((4, 0, 2, 5, 1, 3, 7, 8, 6),\n",
      "   10,832 nodes |    4,086 goal |   26 cost |   4,111 actions | EightPuzzle((7, 2, 4, 5, 0, 6, 8, 3, 1),\n",
      "       15 nodes |        6 goal |  418 cost |       9 actions | RouteProblem('A', 'B')\n",
      "       34 nodes |       15 goal |  910 cost |      23 actions | RouteProblem('N', 'L')\n",
      "       33 nodes |       14 goal |  805 cost |      21 actions | RouteProblem('E', 'T')\n",
      "       20 nodes |        9 goal |  445 cost |      13 actions | RouteProblem('O', 'M')\n",
      "   19,936 nodes |    7,495 goal | 2654 cost |   7,589 actions | TOTAL\n",
      "\n",
      "astar_tree_search:\n",
      "       15 nodes |        6 goal |    5 cost |      10 actions | EightPuzzle((1, 4, 2, 0, 7, 5, 3, 6, 8),\n",
      "    5,384 nodes |    2,000 goal |   22 cost |   2,021 actions | EightPuzzle((1, 2, 3, 4, 5, 6, 7, 8, 0),\n",
      "    9,116 nodes |    3,404 goal |   23 cost |   3,426 actions | EightPuzzle((4, 0, 2, 5, 1, 3, 7, 8, 6),\n",
      "   19,084 nodes |    7,185 goal |   26 cost |   7,210 actions | EightPuzzle((7, 2, 4, 5, 0, 6, 8, 3, 1),\n",
      "       15 nodes |        6 goal |  418 cost |       9 actions | RouteProblem('A', 'B')\n",
      "       47 nodes |       19 goal |  910 cost |      27 actions | RouteProblem('N', 'L')\n",
      "       46 nodes |       18 goal |  805 cost |      25 actions | RouteProblem('E', 'T')\n",
      "       24 nodes |       10 goal |  445 cost |      14 actions | RouteProblem('O', 'M')\n",
      "   33,731 nodes |   12,648 goal | 2654 cost |  12,742 actions | TOTAL\n",
      "\n"
     ]
    }
   ],
   "source": [
    "report([astar_search, astar_tree_search], [e1, e2, e3, e4, r1, r2, r3, r4])"
   ]
  },
  {
   "cell_type": "markdown",
   "metadata": {},
   "source": [
    "# Comparing different weighted search values\n",
    "\n",
    "Below we report on problems using these four algorithms:\n",
    "\n",
    "|Algorithm|*f*|Optimality|\n",
    "|:---------|---:|:----------:|\n",
    "|Greedy best-first search | *f = h*|nonoptimal|\n",
    "|Extra weighted A* search | *f = g + 2 &times; h*|nonoptimal|\n",
    "|Weighted A* search | *f = g + 1.4 &times; h*|nonoptimal|\n",
    "|A* search | *f = g + h*|optimal|\n",
    "|Uniform-cost search | *f = g*|optimal|\n",
    "\n",
    "We will see that greedy best-first search (which ranks nodes solely by the heuristic) explores the fewest number of nodes, but has the highest path costs. Weighted A* search explores twice as many nodes (on this problem set) but gets 10% better path costs. A* is optimal, but explores more nodes, and uniform-cost is also optimal, but explores an order of magnitude more nodes."
   ]
  },
  {
   "cell_type": "code",
   "execution_count": 33,
   "metadata": {
    "scrolled": false
   },
   "outputs": [
    {
     "name": "stdout",
     "output_type": "stream",
     "text": [
      "greedy_bfs:\n",
      "        0 nodes |        1 goal |    0 cost |       0 actions | RouteProblem('A', 'A')\n",
      "        9 nodes |        4 goal |  450 cost |       6 actions | RouteProblem('A', 'B')\n",
      "       28 nodes |       12 goal | 1207 cost |      22 actions | RouteProblem('N', 'L')\n",
      "       19 nodes |        8 goal |  837 cost |      14 actions | RouteProblem('E', 'T')\n",
      "       14 nodes |        6 goal |  572 cost |      10 actions | RouteProblem('O', 'M')\n",
      "       15 nodes |        6 goal |    5 cost |      10 actions | EightPuzzle((1, 4, 2, 0, 7, 5, 3, 6, 8),\n",
      "      909 nodes |      138 goal |  136 cost |     258 actions | GridProblem((15, 30), (130, 30))\n",
      "      974 nodes |      147 goal |  152 cost |     277 actions | GridProblem((15, 30), (130, 30))\n",
      "    5,146 nodes |    4,984 goal |   99 cost |   5,082 actions | JumpingPuzzle('LLLLLLLLL.RRRRRRRRR', 'RR\n",
      "    1,569 nodes |      568 goal |   58 cost |     625 actions | EightPuzzle((1, 2, 3, 4, 5, 6, 7, 8, 0),\n",
      "    1,424 nodes |      257 goal |  164 cost |     406 actions | GridProblem((15, 30), (130, 30))\n",
      "    1,899 nodes |      342 goal |  153 cost |     470 actions | GridProblem((15, 30), (130, 30))\n",
      "   18,239 nodes |    2,439 goal |  134 cost |   2,564 actions | GridProblem((15, 30), (130, 30))\n",
      "   18,329 nodes |    2,460 goal |  152 cost |   2,594 actions | GridProblem((15, 30), (130, 30))\n",
      "      287 nodes |      109 goal |   33 cost |     141 actions | EightPuzzle((4, 0, 2, 5, 1, 3, 7, 8, 6),\n",
      "    1,128 nodes |      408 goal |   46 cost |     453 actions | EightPuzzle((7, 2, 4, 5, 0, 6, 8, 3, 1),\n",
      "   49,989 nodes |   11,889 goal | 4198 cost |  12,932 actions | TOTAL\n",
      "\n",
      "extra_weighted_astar_search:\n",
      "        0 nodes |        1 goal |    0 cost |       0 actions | RouteProblem('A', 'A')\n",
      "        9 nodes |        4 goal |  450 cost |       6 actions | RouteProblem('A', 'B')\n",
      "       31 nodes |       13 goal |  910 cost |      21 actions | RouteProblem('N', 'L')\n",
      "       23 nodes |        9 goal |  805 cost |      16 actions | RouteProblem('E', 'T')\n",
      "       18 nodes |        8 goal |  445 cost |      12 actions | RouteProblem('O', 'M')\n",
      "       15 nodes |        6 goal |    5 cost |      10 actions | EightPuzzle((1, 4, 2, 0, 7, 5, 3, 6, 8),\n",
      "    1,575 nodes |      239 goal |  136 cost |     357 actions | GridProblem((15, 30), (130, 30))\n",
      "    1,384 nodes |      231 goal |  133 cost |     349 actions | GridProblem((15, 30), (130, 30))\n",
      "   10,990 nodes |   10,660 goal |   99 cost |  10,758 actions | JumpingPuzzle('LLLLLLLLL.RRRRRRRRR', 'RR\n",
      "    1,720 nodes |      633 goal |   24 cost |     656 actions | EightPuzzle((1, 2, 3, 4, 5, 6, 7, 8, 0),\n",
      "    9,282 nodes |    1,412 goal |  163 cost |   1,551 actions | GridProblem((15, 30), (130, 30))\n",
      "    1,354 nodes |      228 goal |  134 cost |     345 actions | GridProblem((15, 30), (130, 30))\n",
      "   16,024 nodes |    2,098 goal |  129 cost |   2,214 actions | GridProblem((15, 30), (130, 30))\n",
      "   16,950 nodes |    2,237 goal |  140 cost |   2,359 actions | GridProblem((15, 30), (130, 30))\n",
      "    1,908 nodes |      709 goal |   25 cost |     733 actions | EightPuzzle((4, 0, 2, 5, 1, 3, 7, 8, 6),\n",
      "    1,312 nodes |      489 goal |   30 cost |     518 actions | EightPuzzle((7, 2, 4, 5, 0, 6, 8, 3, 1),\n",
      "   62,595 nodes |   18,977 goal | 3628 cost |  19,905 actions | TOTAL\n",
      "\n",
      "weighted_astar_search:\n",
      "        0 nodes |        1 goal |    0 cost |       0 actions | RouteProblem('A', 'A')\n",
      "        9 nodes |        4 goal |  450 cost |       6 actions | RouteProblem('A', 'B')\n",
      "       32 nodes |       14 goal |  910 cost |      22 actions | RouteProblem('N', 'L')\n",
      "       28 nodes |       11 goal |  805 cost |      18 actions | RouteProblem('E', 'T')\n",
      "       18 nodes |        8 goal |  445 cost |      12 actions | RouteProblem('O', 'M')\n",
      "       15 nodes |        6 goal |    5 cost |      10 actions | EightPuzzle((1, 4, 2, 0, 7, 5, 3, 6, 8),\n",
      "    1,631 nodes |      236 goal |  128 cost |     350 actions | GridProblem((15, 30), (130, 30))\n",
      "    1,706 nodes |      275 goal |  131 cost |     389 actions | GridProblem((15, 30), (130, 30))\n",
      "   10,990 nodes |   10,660 goal |   99 cost |  10,758 actions | JumpingPuzzle('LLLLLLLLL.RRRRRRRRR', 'RR\n",
      "    2,082 nodes |      771 goal |   22 cost |     792 actions | EightPuzzle((1, 2, 3, 4, 5, 6, 7, 8, 0),\n",
      "    8,385 nodes |    1,266 goal |  154 cost |   1,396 actions | GridProblem((15, 30), (130, 30))\n",
      "    1,400 nodes |      229 goal |  133 cost |     344 actions | GridProblem((15, 30), (130, 30))\n",
      "   12,122 nodes |    1,572 goal |  124 cost |   1,686 actions | GridProblem((15, 30), (130, 30))\n",
      "   24,129 nodes |    3,141 goal |  127 cost |   3,255 actions | GridProblem((15, 30), (130, 30))\n",
      "    3,960 nodes |    1,475 goal |   25 cost |   1,499 actions | EightPuzzle((4, 0, 2, 5, 1, 3, 7, 8, 6),\n",
      "    1,992 nodes |      748 goal |   26 cost |     773 actions | EightPuzzle((7, 2, 4, 5, 0, 6, 8, 3, 1),\n",
      "   68,499 nodes |   20,417 goal | 3585 cost |  21,310 actions | TOTAL\n",
      "\n",
      "astar_search:\n",
      "        0 nodes |        1 goal |    0 cost |       0 actions | RouteProblem('A', 'A')\n",
      "       15 nodes |        6 goal |  418 cost |       9 actions | RouteProblem('A', 'B')\n",
      "       34 nodes |       15 goal |  910 cost |      23 actions | RouteProblem('N', 'L')\n",
      "       33 nodes |       14 goal |  805 cost |      21 actions | RouteProblem('E', 'T')\n",
      "       20 nodes |        9 goal |  445 cost |      13 actions | RouteProblem('O', 'M')\n",
      "       15 nodes |        6 goal |    5 cost |      10 actions | EightPuzzle((1, 4, 2, 0, 7, 5, 3, 6, 8),\n",
      "   26,711 nodes |    3,620 goal |  127 cost |   3,734 actions | GridProblem((15, 30), (130, 30))\n",
      "   12,932 nodes |    1,822 goal |  124 cost |   1,936 actions | GridProblem((15, 30), (130, 30))\n",
      "   10,991 nodes |   10,661 goal |   99 cost |  10,759 actions | JumpingPuzzle('LLLLLLLLL.RRRRRRRRR', 'RR\n",
      "    3,614 nodes |    1,349 goal |   22 cost |   1,370 actions | EightPuzzle((1, 2, 3, 4, 5, 6, 7, 8, 0),\n",
      "   62,509 nodes |    8,729 goal |  154 cost |   8,859 actions | GridProblem((15, 30), (130, 30))\n",
      "   15,190 nodes |    2,276 goal |  133 cost |   2,391 actions | GridProblem((15, 30), (130, 30))\n",
      "   25,303 nodes |    3,196 goal |  124 cost |   3,310 actions | GridProblem((15, 30), (130, 30))\n",
      "   32,572 nodes |    4,149 goal |  127 cost |   4,263 actions | GridProblem((15, 30), (130, 30))\n",
      "    5,373 nodes |    2,010 goal |   23 cost |   2,032 actions | EightPuzzle((4, 0, 2, 5, 1, 3, 7, 8, 6),\n",
      "   10,832 nodes |    4,086 goal |   26 cost |   4,111 actions | EightPuzzle((7, 2, 4, 5, 0, 6, 8, 3, 1),\n",
      "  206,144 nodes |   41,949 goal | 3543 cost |  42,841 actions | TOTAL\n",
      "\n",
      "uniform_cost_search:\n",
      "        0 nodes |        1 goal |    0 cost |       0 actions | RouteProblem('A', 'A')\n",
      "       30 nodes |       13 goal |  418 cost |      16 actions | RouteProblem('A', 'B')\n",
      "       42 nodes |       19 goal |  910 cost |      27 actions | RouteProblem('N', 'L')\n",
      "       44 nodes |       20 goal |  805 cost |      27 actions | RouteProblem('E', 'T')\n",
      "       30 nodes |       12 goal |  445 cost |      16 actions | RouteProblem('O', 'M')\n",
      "      124 nodes |       46 goal |    5 cost |      50 actions | EightPuzzle((1, 4, 2, 0, 7, 5, 3, 6, 8),\n",
      "  355,452 nodes |   44,984 goal |  127 cost |  45,098 actions | GridProblem((15, 30), (130, 30))\n",
      "  326,962 nodes |   41,650 goal |  124 cost |  41,764 actions | GridProblem((15, 30), (130, 30))\n",
      "   10,992 nodes |   10,662 goal |   99 cost |  10,760 actions | JumpingPuzzle('LLLLLLLLL.RRRRRRRRR', 'RR\n",
      "  214,952 nodes |   79,187 goal |   22 cost |  79,208 actions | EightPuzzle((1, 2, 3, 4, 5, 6, 7, 8, 0),\n",
      "  558,084 nodes |   70,738 goal |  154 cost |  70,868 actions | GridProblem((15, 30), (130, 30))\n",
      "  370,370 nodes |   47,243 goal |  133 cost |  47,358 actions | GridProblem((15, 30), (130, 30))\n",
      "  349,062 nodes |   43,693 goal |  124 cost |  43,807 actions | GridProblem((15, 30), (130, 30))\n",
      "  366,996 nodes |   45,970 goal |  127 cost |  46,084 actions | GridProblem((15, 30), (130, 30))\n",
      "  300,925 nodes |  112,082 goal |   23 cost | 112,104 actions | EightPuzzle((4, 0, 2, 5, 1, 3, 7, 8, 6),\n",
      "  457,766 nodes |  171,571 goal |   26 cost | 171,596 actions | EightPuzzle((7, 2, 4, 5, 0, 6, 8, 3, 1),\n",
      "3,311,831 nodes |  667,891 goal | 3543 cost | 668,783 actions | TOTAL\n",
      "\n"
     ]
    }
   ],
   "source": [
    "def extra_weighted_astar_search(problem): return weighted_astar_search(problem, weight=2)\n",
    "    \n",
    "report((greedy_bfs, extra_weighted_astar_search, weighted_astar_search, astar_search, uniform_cost_search), \n",
    "       (r0, r1, r2, r3, r4, e1, d1, d2, j9, e2, d3, d4, d6, d7, e3, e4))"
   ]
  },
  {
   "cell_type": "markdown",
   "metadata": {},
   "source": [
    "We see that greedy search expands the fewest nodes, but has the highest path costs. In contrast, A\\* gets optimal path costs, but expands 4 or 5 times more nodes. Weighted A* is a good compromise, using half the compute time as A\\*, and achieving path costs within  1% or 2% of optimal. Uniform-cost is optimal, but is an order of magnitude slower than A\\*.\n",
    "\n",
    "# Comparing  many search algorithms\n",
    "\n",
    "Finally, we compare a host of algorihms (even the slow ones) on some of the easier problems:"
   ]
  },
  {
   "cell_type": "code",
   "execution_count": 34,
   "metadata": {
    "scrolled": false
   },
   "outputs": [
    {
     "name": "stdout",
     "output_type": "stream",
     "text": [
      "astar_search:\n",
      "      948 nodes |      109 goal |    4 cost |     112 actions | PourProblem((1, 1, 1), 13)\n",
      "      948 nodes |      109 goal |    4 cost |     112 actions | GreenPourProblem((1, 1, 1), 13)\n",
      "    3,499 nodes |      389 goal |    9 cost |     397 actions | PourProblem((0, 0, 0), 21)\n",
      "    3,499 nodes |      389 goal |    9 cost |     397 actions | GreenPourProblem((0, 0, 0), 21)\n",
      "      124 nodes |       30 goal |   14 cost |      43 actions | PourProblem((0, 0), 8)\n",
      "      124 nodes |       30 goal |   14 cost |      43 actions | GreenPourProblem((0, 0), 8)\n",
      "    3,499 nodes |      389 goal |    9 cost |     397 actions | PourProblem((0, 0, 0), 21)\n",
      "    3,499 nodes |      389 goal |    9 cost |     397 actions | GreenPourProblem((0, 0, 0), 21)\n",
      "        0 nodes |        1 goal |    0 cost |       0 actions | RouteProblem('A', 'A')\n",
      "       15 nodes |        6 goal |  418 cost |       9 actions | RouteProblem('A', 'B')\n",
      "       34 nodes |       15 goal |  910 cost |      23 actions | RouteProblem('N', 'L')\n",
      "       33 nodes |       14 goal |  805 cost |      21 actions | RouteProblem('E', 'T')\n",
      "       20 nodes |        9 goal |  445 cost |      13 actions | RouteProblem('O', 'M')\n",
      "       15 nodes |        6 goal |    5 cost |      10 actions | EightPuzzle((1, 4, 2, 0, 7, 5, 3, 6, 8),\n",
      "   16,257 nodes |    1,885 goal | 2655 cost |   1,974 actions | TOTAL\n",
      "\n",
      "uniform_cost_search:\n",
      "      948 nodes |      109 goal |    4 cost |     112 actions | PourProblem((1, 1, 1), 13)\n",
      "      948 nodes |      109 goal |    4 cost |     112 actions | GreenPourProblem((1, 1, 1), 13)\n",
      "    3,499 nodes |      389 goal |    9 cost |     397 actions | PourProblem((0, 0, 0), 21)\n",
      "    3,499 nodes |      389 goal |    9 cost |     397 actions | GreenPourProblem((0, 0, 0), 21)\n",
      "      124 nodes |       30 goal |   14 cost |      43 actions | PourProblem((0, 0), 8)\n",
      "      124 nodes |       30 goal |   14 cost |      43 actions | GreenPourProblem((0, 0), 8)\n",
      "    3,499 nodes |      389 goal |    9 cost |     397 actions | PourProblem((0, 0, 0), 21)\n",
      "    3,499 nodes |      389 goal |    9 cost |     397 actions | GreenPourProblem((0, 0, 0), 21)\n",
      "        0 nodes |        1 goal |    0 cost |       0 actions | RouteProblem('A', 'A')\n",
      "       30 nodes |       13 goal |  418 cost |      16 actions | RouteProblem('A', 'B')\n",
      "       42 nodes |       19 goal |  910 cost |      27 actions | RouteProblem('N', 'L')\n",
      "       44 nodes |       20 goal |  805 cost |      27 actions | RouteProblem('E', 'T')\n",
      "       30 nodes |       12 goal |  445 cost |      16 actions | RouteProblem('O', 'M')\n",
      "      124 nodes |       46 goal |    5 cost |      50 actions | EightPuzzle((1, 4, 2, 0, 7, 5, 3, 6, 8),\n",
      "   16,410 nodes |    1,945 goal | 2655 cost |   2,034 actions | TOTAL\n",
      "\n",
      "breadth_first_search:\n",
      "      596 nodes |      597 goal |    4 cost |      73 actions | PourProblem((1, 1, 1), 13)\n",
      "      596 nodes |      597 goal |    4 cost |      73 actions | GreenPourProblem((1, 1, 1), 13)\n",
      "    2,618 nodes |    2,619 goal |    9 cost |     302 actions | PourProblem((0, 0, 0), 21)\n",
      "    2,618 nodes |    2,619 goal |    9 cost |     302 actions | GreenPourProblem((0, 0, 0), 21)\n",
      "      120 nodes |      121 goal |   14 cost |      42 actions | PourProblem((0, 0), 8)\n",
      "      120 nodes |      121 goal |   14 cost |      42 actions | GreenPourProblem((0, 0), 8)\n",
      "    2,618 nodes |    2,619 goal |    9 cost |     302 actions | PourProblem((0, 0, 0), 21)\n",
      "    2,618 nodes |    2,619 goal |    9 cost |     302 actions | GreenPourProblem((0, 0, 0), 21)\n",
      "        0 nodes |        1 goal |    0 cost |       0 actions | RouteProblem('A', 'A')\n",
      "       18 nodes |       19 goal |  450 cost |      10 actions | RouteProblem('A', 'B')\n",
      "       42 nodes |       43 goal | 1085 cost |      27 actions | RouteProblem('N', 'L')\n",
      "       36 nodes |       37 goal |  837 cost |      22 actions | RouteProblem('E', 'T')\n",
      "       30 nodes |       31 goal |  445 cost |      16 actions | RouteProblem('O', 'M')\n",
      "       81 nodes |       82 goal |    5 cost |      35 actions | EightPuzzle((1, 4, 2, 0, 7, 5, 3, 6, 8),\n",
      "   12,111 nodes |   12,125 goal | 2894 cost |   1,548 actions | TOTAL\n",
      "\n",
      "breadth_first_bfs:\n",
      "      948 nodes |      109 goal |    4 cost |     112 actions | PourProblem((1, 1, 1), 13)\n",
      "      948 nodes |      109 goal |    4 cost |     112 actions | GreenPourProblem((1, 1, 1), 13)\n",
      "    3,499 nodes |      389 goal |    9 cost |     397 actions | PourProblem((0, 0, 0), 21)\n",
      "    3,499 nodes |      389 goal |    9 cost |     397 actions | GreenPourProblem((0, 0, 0), 21)\n",
      "      124 nodes |       30 goal |   14 cost |      43 actions | PourProblem((0, 0), 8)\n",
      "      124 nodes |       30 goal |   14 cost |      43 actions | GreenPourProblem((0, 0), 8)\n",
      "    3,499 nodes |      389 goal |    9 cost |     397 actions | PourProblem((0, 0, 0), 21)\n",
      "    3,499 nodes |      389 goal |    9 cost |     397 actions | GreenPourProblem((0, 0, 0), 21)\n",
      "        0 nodes |        1 goal |    0 cost |       0 actions | RouteProblem('A', 'A')\n",
      "       28 nodes |       12 goal |  450 cost |      14 actions | RouteProblem('A', 'B')\n",
      "       55 nodes |       24 goal |  910 cost |      32 actions | RouteProblem('N', 'L')\n",
      "       51 nodes |       22 goal |  837 cost |      28 actions | RouteProblem('E', 'T')\n",
      "       40 nodes |       16 goal |  445 cost |      20 actions | RouteProblem('O', 'M')\n",
      "      124 nodes |       46 goal |    5 cost |      50 actions | EightPuzzle((1, 4, 2, 0, 7, 5, 3, 6, 8),\n",
      "   16,438 nodes |    1,955 goal | 2719 cost |   2,042 actions | TOTAL\n",
      "\n",
      "iterative_deepening_search:\n",
      "    6,133 nodes |    6,118 goal |    4 cost |     822 actions | PourProblem((1, 1, 1), 13)\n",
      "    6,133 nodes |    6,118 goal |    4 cost |     822 actions | GreenPourProblem((1, 1, 1), 13)\n",
      "  288,706 nodes |  288,675 goal |    9 cost |  36,962 actions | PourProblem((0, 0, 0), 21)\n",
      "  288,706 nodes |  288,675 goal |    9 cost |  36,962 actions | GreenPourProblem((0, 0, 0), 21)\n",
      "    3,840 nodes |    3,824 goal |   14 cost |     949 actions | PourProblem((0, 0), 8)\n",
      "    3,840 nodes |    3,824 goal |   14 cost |     949 actions | GreenPourProblem((0, 0), 8)\n",
      "  288,706 nodes |  288,675 goal |    9 cost |  36,962 actions | PourProblem((0, 0, 0), 21)\n",
      "  288,706 nodes |  288,675 goal |    9 cost |  36,962 actions | GreenPourProblem((0, 0, 0), 21)\n",
      "        0 nodes |        1 goal |    0 cost |       0 actions | RouteProblem('A', 'A')\n",
      "       27 nodes |       25 goal |  450 cost |      13 actions | RouteProblem('A', 'B')\n",
      "      167 nodes |      173 goal |  910 cost |      82 actions | RouteProblem('N', 'L')\n",
      "      117 nodes |      120 goal |  837 cost |      56 actions | RouteProblem('E', 'T')\n",
      "      108 nodes |      109 goal |  572 cost |      44 actions | RouteProblem('O', 'M')\n",
      "      116 nodes |      118 goal |    5 cost |      47 actions | EightPuzzle((1, 4, 2, 0, 7, 5, 3, 6, 8),\n",
      "1,175,305 nodes |1,175,130 goal | 2846 cost | 151,632 actions | TOTAL\n",
      "\n",
      "depth_limited_search:\n",
      "    4,433 nodes |    4,374 goal |   10 cost |     627 actions | PourProblem((1, 1, 1), 13)\n",
      "    4,433 nodes |    4,374 goal |   10 cost |     627 actions | GreenPourProblem((1, 1, 1), 13)\n",
      "   37,149 nodes |   37,106 goal |   10 cost |   4,753 actions | PourProblem((0, 0, 0), 21)\n",
      "   37,149 nodes |   37,106 goal |   10 cost |   4,753 actions | GreenPourProblem((0, 0, 0), 21)\n",
      "      452 nodes |      453 goal |  inf cost |     110 actions | PourProblem((0, 0), 8)\n",
      "      452 nodes |      453 goal |  inf cost |     110 actions | GreenPourProblem((0, 0), 8)\n",
      "   37,149 nodes |   37,106 goal |   10 cost |   4,753 actions | PourProblem((0, 0, 0), 21)\n",
      "   37,149 nodes |   37,106 goal |   10 cost |   4,753 actions | GreenPourProblem((0, 0, 0), 21)\n",
      "        0 nodes |        1 goal |    0 cost |       0 actions | RouteProblem('A', 'A')\n",
      "       17 nodes |        8 goal |  733 cost |      14 actions | RouteProblem('A', 'B')\n",
      "       40 nodes |       38 goal |  910 cost |      26 actions | RouteProblem('N', 'L')\n",
      "       29 nodes |       23 goal |  992 cost |      20 actions | RouteProblem('E', 'T')\n",
      "       35 nodes |       29 goal |  895 cost |      22 actions | RouteProblem('O', 'M')\n",
      "      351 nodes |      349 goal |    5 cost |     138 actions | EightPuzzle((1, 4, 2, 0, 7, 5, 3, 6, 8),\n",
      "  158,838 nodes |  158,526 goal |  inf cost |  20,706 actions | TOTAL\n",
      "\n",
      "greedy_bfs:\n",
      "      948 nodes |      109 goal |    4 cost |     112 actions | PourProblem((1, 1, 1), 13)\n",
      "      948 nodes |      109 goal |    4 cost |     112 actions | GreenPourProblem((1, 1, 1), 13)\n",
      "    3,499 nodes |      389 goal |    9 cost |     397 actions | PourProblem((0, 0, 0), 21)\n",
      "    3,499 nodes |      389 goal |    9 cost |     397 actions | GreenPourProblem((0, 0, 0), 21)\n",
      "      124 nodes |       30 goal |   14 cost |      43 actions | PourProblem((0, 0), 8)\n",
      "      124 nodes |       30 goal |   14 cost |      43 actions | GreenPourProblem((0, 0), 8)\n",
      "    3,499 nodes |      389 goal |    9 cost |     397 actions | PourProblem((0, 0, 0), 21)\n",
      "    3,499 nodes |      389 goal |    9 cost |     397 actions | GreenPourProblem((0, 0, 0), 21)\n",
      "        0 nodes |        1 goal |    0 cost |       0 actions | RouteProblem('A', 'A')\n",
      "        9 nodes |        4 goal |  450 cost |       6 actions | RouteProblem('A', 'B')\n",
      "       28 nodes |       12 goal | 1207 cost |      22 actions | RouteProblem('N', 'L')\n",
      "       19 nodes |        8 goal |  837 cost |      14 actions | RouteProblem('E', 'T')\n",
      "       14 nodes |        6 goal |  572 cost |      10 actions | RouteProblem('O', 'M')\n",
      "       15 nodes |        6 goal |    5 cost |      10 actions | EightPuzzle((1, 4, 2, 0, 7, 5, 3, 6, 8),\n",
      "   16,225 nodes |    1,871 goal | 3143 cost |   1,960 actions | TOTAL\n",
      "\n",
      "weighted_astar_search:\n",
      "      948 nodes |      109 goal |    4 cost |     112 actions | PourProblem((1, 1, 1), 13)\n",
      "      948 nodes |      109 goal |    4 cost |     112 actions | GreenPourProblem((1, 1, 1), 13)\n",
      "    3,499 nodes |      389 goal |    9 cost |     397 actions | PourProblem((0, 0, 0), 21)\n",
      "    3,499 nodes |      389 goal |    9 cost |     397 actions | GreenPourProblem((0, 0, 0), 21)\n",
      "      124 nodes |       30 goal |   14 cost |      43 actions | PourProblem((0, 0), 8)\n",
      "      124 nodes |       30 goal |   14 cost |      43 actions | GreenPourProblem((0, 0), 8)\n",
      "    3,499 nodes |      389 goal |    9 cost |     397 actions | PourProblem((0, 0, 0), 21)\n",
      "    3,499 nodes |      389 goal |    9 cost |     397 actions | GreenPourProblem((0, 0, 0), 21)\n",
      "        0 nodes |        1 goal |    0 cost |       0 actions | RouteProblem('A', 'A')\n",
      "        9 nodes |        4 goal |  450 cost |       6 actions | RouteProblem('A', 'B')\n",
      "       32 nodes |       14 goal |  910 cost |      22 actions | RouteProblem('N', 'L')\n",
      "       28 nodes |       11 goal |  805 cost |      18 actions | RouteProblem('E', 'T')\n",
      "       18 nodes |        8 goal |  445 cost |      12 actions | RouteProblem('O', 'M')\n",
      "       15 nodes |        6 goal |    5 cost |      10 actions | EightPuzzle((1, 4, 2, 0, 7, 5, 3, 6, 8),\n",
      "   16,242 nodes |    1,878 goal | 2687 cost |   1,966 actions | TOTAL\n",
      "\n",
      "extra_weighted_astar_search:\n",
      "      948 nodes |      109 goal |    4 cost |     112 actions | PourProblem((1, 1, 1), 13)\n",
      "      948 nodes |      109 goal |    4 cost |     112 actions | GreenPourProblem((1, 1, 1), 13)\n",
      "    3,499 nodes |      389 goal |    9 cost |     397 actions | PourProblem((0, 0, 0), 21)\n",
      "    3,499 nodes |      389 goal |    9 cost |     397 actions | GreenPourProblem((0, 0, 0), 21)\n",
      "      124 nodes |       30 goal |   14 cost |      43 actions | PourProblem((0, 0), 8)\n",
      "      124 nodes |       30 goal |   14 cost |      43 actions | GreenPourProblem((0, 0), 8)\n",
      "    3,499 nodes |      389 goal |    9 cost |     397 actions | PourProblem((0, 0, 0), 21)\n",
      "    3,499 nodes |      389 goal |    9 cost |     397 actions | GreenPourProblem((0, 0, 0), 21)\n",
      "        0 nodes |        1 goal |    0 cost |       0 actions | RouteProblem('A', 'A')\n",
      "        9 nodes |        4 goal |  450 cost |       6 actions | RouteProblem('A', 'B')\n",
      "       31 nodes |       13 goal |  910 cost |      21 actions | RouteProblem('N', 'L')\n",
      "       23 nodes |        9 goal |  805 cost |      16 actions | RouteProblem('E', 'T')\n",
      "       18 nodes |        8 goal |  445 cost |      12 actions | RouteProblem('O', 'M')\n",
      "       15 nodes |        6 goal |    5 cost |      10 actions | EightPuzzle((1, 4, 2, 0, 7, 5, 3, 6, 8),\n",
      "   16,236 nodes |    1,875 goal | 2687 cost |   1,963 actions | TOTAL\n",
      "\n"
     ]
    }
   ],
   "source": [
    "report((astar_search, uniform_cost_search,  breadth_first_search, breadth_first_bfs, \n",
    "        iterative_deepening_search, depth_limited_search, greedy_bfs, \n",
    "        weighted_astar_search, extra_weighted_astar_search), \n",
    "       (p1, g1, p2, g2, p3, g3, p4, g4, r0, r1, r2, r3, r4, e1))"
   ]
  },
  {
   "cell_type": "markdown",
   "metadata": {},
   "source": [
    "This confirms some of the things we already knew: A* and uniform-cost search are optimal, but the others are not. A* explores fewer nodes than uniform-cost. "
   ]
  },
  {
   "cell_type": "markdown",
   "metadata": {},
   "source": [
    "# Visualizing Reached States\n",
    "\n",
    "I would like to draw a picture of the state space, marking the states that have been reached by the search.\n",
    "Unfortunately, the *reached* variable is inaccessible inside `best_first_search`, so I will define a new version of `best_first_search` that is identical except that it declares *reached* to be `global`. I can then define `plot_grid_problem` to plot the obstacles of a `GridProblem`, along with the initial and goal states, the solution path, and the states reached during a search."
   ]
  },
  {
   "cell_type": "code",
   "execution_count": 35,
   "metadata": {},
   "outputs": [],
   "source": [
    "def best_first_search(problem, f):\n",
    "    \"Search nodes with minimum f(node) value first.\"\n",
    "    global reached # <<<<<<<<<<< Only change here\n",
    "    node = Node(problem.initial)\n",
    "    frontier = PriorityQueue([node], key=f)\n",
    "    reached = {problem.initial: node}\n",
    "    while frontier:\n",
    "        node = frontier.pop()\n",
    "        if problem.is_goal(node.state):\n",
    "            return node\n",
    "        for child in expand(problem, node):\n",
    "            s = child.state\n",
    "            if s not in reached or child.path_cost < reached[s].path_cost:\n",
    "                reached[s] = child\n",
    "                frontier.add(child)\n",
    "    return failure\n",
    "\n",
    "\n",
    "def plot_grid_problem(grid, solution, reached=(), title='Search', show=True):\n",
    "    \"Use matplotlib to plot the grid, obstacles, solution, and reached.\"\n",
    "    reached = list(reached)\n",
    "    plt.figure(figsize=(16, 10))\n",
    "    plt.axis('off'); plt.axis('equal')\n",
    "    plt.scatter(*transpose(grid.obstacles), marker='s', color='darkgrey')\n",
    "    plt.scatter(*transpose(reached), 1**2, marker='.', c='blue')\n",
    "    plt.scatter(*transpose(path_states(solution)), marker='s', c='blue')\n",
    "    plt.scatter(*transpose([grid.initial]), 9**2, marker='D', c='green')\n",
    "    plt.scatter(*transpose([grid.goal]), 9**2, marker='8', c='red')\n",
    "    if show: plt.show()\n",
    "    print('{} {} search: {:.1f} path cost, {:,d} states reached'\n",
    "          .format(' ' * 10, title, solution.path_cost, len(reached)))\n",
    "    \n",
    "def plots(grid, weights=(1.4, 2)): \n",
    "    \"\"\"Plot the results of 4 heuristic search algorithms for this grid.\"\"\"\n",
    "    solution = astar_search(grid)\n",
    "    plot_grid_problem(grid, solution, reached, 'A* search')\n",
    "    for weight in weights:\n",
    "        solution = weighted_astar_search(grid, weight=weight)\n",
    "        plot_grid_problem(grid, solution, reached, '(b) Weighted ({}) A* search'.format(weight))\n",
    "    solution = greedy_bfs(grid)\n",
    "    plot_grid_problem(grid, solution, reached, 'Greedy best-first search')\n",
    "    \n",
    "def transpose(matrix): return list(zip(*matrix))"
   ]
  },
  {
   "cell_type": "code",
   "execution_count": 36,
   "metadata": {
    "scrolled": false
   },
   "outputs": [
    {
     "name": "stderr",
     "output_type": "stream",
     "text": [
      "Traceback (most recent call last):\n",
      "  File \"C:\\Users\\tirth\\AppData\\Local\\Continuum\\anaconda3\\lib\\site-packages\\matplotlib\\cbook\\__init__.py\", line 216, in process\n",
      "    func(*args, **kwargs)\n",
      "  File \"C:\\Users\\tirth\\AppData\\Local\\Continuum\\anaconda3\\lib\\site-packages\\matplotlib\\animation.py\", line 953, in _start\n",
      "    self._init_draw()\n",
      "  File \"C:\\Users\\tirth\\AppData\\Local\\Continuum\\anaconda3\\lib\\site-packages\\matplotlib\\animation.py\", line 1732, in _init_draw\n",
      "    self._draw_frame(next(self.new_frame_seq()))\n",
      "  File \"C:\\Users\\tirth\\AppData\\Local\\Continuum\\anaconda3\\lib\\site-packages\\matplotlib\\animation.py\", line 1755, in _draw_frame\n",
      "    self._drawn_artists = self._func(framedata, *self._args)\n",
      "  File \"C:\\Users\\tirth\\Desktop\\AIMA Python (for contributions)\\notebook4e.py\", line 1289, in step\n",
      "    self.sc3 = self.ax.scatter(*transpose(self.solution), marker='s', c='blue')\n",
      "  File \"C:\\Users\\tirth\\AppData\\Local\\Continuum\\anaconda3\\lib\\site-packages\\matplotlib\\__init__.py\", line 1589, in inner\n",
      "    return func(ax, *map(sanitize_sequence, args), **kwargs)\n",
      "TypeError: scatter() missing 2 required positional arguments: 'x' and 'y'\n"
     ]
    },
    {
     "data": {
      "text/html": [
       "<video width=\"720\" height=\"432\" controls autoplay loop>\n",
       "  <source type=\"video/mp4\" src=\"data:video/mp4;base64,AAAAIGZ0eXBNNFYgAAACAE00ViBpc29taXNvMmF2YzEAAAAIZnJlZQAAscxtZGF0AAACoAYF//+c\n",
       "3EXpvebZSLeWLNgg2SPu73gyNjQgLSBjb3JlIDE1OSAtIEguMjY0L01QRUctNCBBVkMgY29kZWMg\n",
       "LSBDb3B5bGVmdCAyMDAzLTIwMTkgLSBodHRwOi8vd3d3LnZpZGVvbGFuLm9yZy94MjY0Lmh0bWwg\n",
       "LSBvcHRpb25zOiBjYWJhYz0xIHJlZj0zIGRlYmxvY2s9MTowOjAgYW5hbHlzZT0weDM6MHgxMTMg\n",
       "bWU9aGV4IHN1Ym1lPTcgcHN5PTEgcHN5X3JkPTEuMDA6MC4wMCBtaXhlZF9yZWY9MSBtZV9yYW5n\n",
       "ZT0xNiBjaHJvbWFfbWU9MSB0cmVsbGlzPTEgOHg4ZGN0PTEgY3FtPTAgZGVhZHpvbmU9MjEsMTEg\n",
       "ZmFzdF9wc2tpcD0xIGNocm9tYV9xcF9vZmZzZXQ9LTIgdGhyZWFkcz0xMyBsb29rYWhlYWRfdGhy\n",
       "ZWFkcz0yIHNsaWNlZF90aHJlYWRzPTAgbnI9MCBkZWNpbWF0ZT0xIGludGVybGFjZWQ9MCBibHVy\n",
       "YXlfY29tcGF0PTAgY29uc3RyYWluZWRfaW50cmE9MCBiZnJhbWVzPTMgYl9weXJhbWlkPTIgYl9h\n",
       "ZGFwdD0xIGJfYmlhcz0wIGRpcmVjdD0xIHdlaWdodGI9MSBvcGVuX2dvcD0wIHdlaWdodHA9MiBr\n",
       "ZXlpbnQ9MjUwIGtleWludF9taW49NSBzY2VuZWN1dD00MCBpbnRyYV9yZWZyZXNoPTAgcmNfbG9v\n",
       "a2FoZWFkPTQwIHJjPWNyZiBtYnRyZWU9MSBjcmY9MjMuMCBxY29tcD0wLjYwIHFwbWluPTAgcXBt\n",
       "YXg9NjkgcXBzdGVwPTQgaXBfcmF0aW89MS40MCBhcT0xOjEuMDAAgAAAPwxliIQAE//+97GPgU3I\n",
       "AA2XOop6H+EVsfSQUXqx2aBk6gAAAwAAAwAAAwAQjocotiX1cXGXW+5jtfxk7cAB0A8431oWMYTF\n",
       "8nv+o7xhMyAzwnyvnGAvO6WLG516jOuSHjC/a0SQnQDR1xVVWjvIL/amxX2lL1Xuw+2TqvC3bgoO\n",
       "/0gNnZreN2axIBfybqxKEYY0FjgkbSxn61AN33UfS2BoZO1Rq9zDH3MBecVii5Jn9woPcFQB87fD\n",
       "TWwVaj4FCX7OLW7OgMhf0NesFhkyHX19a6bjrentSqWm03SXBpsYSzG2BVgfoRs5zYQ5T0KY/sj0\n",
       "a5LcBCsmYkrLScrOR3Nnd4qK+pNLvGAQLLXYYwxwghBzO1tSt4NgP2wj2T0H4wFuRF6JxRfSYT+m\n",
       "m1wNjPMjTIhZyGBd7uj5OjDbhgjrZybabvR7PXZZoPj+k7YCFJoFYhS0tohxBLRT2dEaERdisYEn\n",
       "L4zi1Sx49SF9rJBe3XLJ/7emlynlYYP/rc3EBUUeiRyFprm8UHrSO9nQr5ddirEnL6nUeudH29SL\n",
       "vEkZ7Eqq5JF3v9prU/R+7pHXMmp4cgkGHjE0IW/gf4gjxrjjiTXvaDs1l4H8nzHu9yEotDXnoHPa\n",
       "8t9vvFmOm/xrAL1Sk7fyY/AsFePhjP8PGmlmYGUuusTOp++OSdvAmVtfxwNY9dNLPW+tYyEnuL65\n",
       "E3+tOeUqJXdS6hCVEV0krwsQ6xqK9MPGqH7Ogq29GZnsMqdshRU4mu9GzAx7MgM7pinqR72PkTda\n",
       "iX/RxOKuyga0ol+Qy4baOGI6g86KtIgAnStJAyJytKzjsuweXc82lkT14jB0ElIn0KSMv82bm7RQ\n",
       "IkZUgEzVLEivY9CumRsNodv7elCa0FUks5xNBGWkkHrBElc4oEmTK5BKqawwkErF8G/blW/9pX3J\n",
       "T4dIpbp4wjKUNAw9H49fSb1c8kvvVN2YINDRGaYnhUCwYFIPzSZxdLaRDmABY7U4rBUbm+lN3WYp\n",
       "hn0gARXAsa/VCCOqCfBa5rNCQFBdNNzn2C0A7PpndIoDYpHTA6+ZkKisLIVABwPCiP2oP/BLN7X7\n",
       "4SykdDr0+lSQoz5m3BirqhU+aNDz8vMAIxn3K48d8LAWVumra/Ca8Ii1nKSG3lgVDk3h+4BZvhrV\n",
       "WzpYQwBSQwjLbULklesf3vGS1EdSJ90dOb0cQhntIoCnVBIVYvweRs7Oh3MXTf6MVFKv+8BvkrbF\n",
       "TEbgY8AS1VWrVLvg7ft4yVwmbZgnbqH/BCGuwz0IRJdO1S7S2w1SEjCP68XDUkMorXToaVLJhpnf\n",
       "FIZTg6OoQ6mCTUG7LxZmqauAI+JI6AtJ1+Pqwg9KYbKbnmNzIFUn7cGCKpmIbOrEkkZ+nvU5FZOa\n",
       "IO/oBbQkx3tIcnMVDaFMfizPgkfkRMkyI+GerQYUYCbJqMv6xtAA0DK9puRArWS3ik4EhIF0D1y2\n",
       "c8ZmdR67dRIykXUOhieSRdyZoJlULyThaypip9D/Noc2+Ja6S6RVVd6A/hNvAR3gQXnZ1kjWwcAA\n",
       "AJiAp4bA9Ll/1EQ+yh0ZLVLzFqw5JP6EQX76+SPvJxHvXaFT+cu8bpqRzOHEJ9XTo3ITihZ0Qj6I\n",
       "IH1hSOrKXQ3eL+00Q9R2Hx4fo7sl+Fl6YHWkzGwvgTMcD48Zn6PkFhLsaZIZLaDhCq8YBWP6pWgH\n",
       "hE8xA5HUs2+kcRlcFbCHeVQx41SnsvbB+4y8NqYQW7pjnRhVwjI13Od64M6b6V7x7Di+om0nKSzK\n",
       "7yYiidjvGYpF4lQubgNkYJ/W+dQtQdsB+OwY8G1XNQE0znPdVx9aS2teSVcFhYSlbzmZDfShdU10\n",
       "7mylOh6dCERopziesP6gqlOiTAhLefLzCv9M2qz0zDpl/dK+P07Du1QpU45+DDT3CNGXxU5Wkikq\n",
       "9obQBzNTdSdAwO4ybovNgEjplnvfSaUU/ZMl8gC6UOaOylRKx8CjPnF6KMtX84zq1i50SkHBzrMT\n",
       "Ud9RwA3luzeD1kf2GXYs4e14rDRhF7q6Cl4SW8nnqKAbrQsP53fEtJKvvStJBNzQ2gy58lXaHTOM\n",
       "YsX/EeGPtJut7BaIRO9NYGQPEAXYi2exOFOo1uQrmbDbrt1oZX9fajIDcwd6ehdlOLLz9CHQ7tsD\n",
       "Pk9sOoUFvCmBiARNFbbjRhA7TmO9JFcK9S7WXAm9LGbQaoOq7H3IaPqn6BYnZ2NpSoMnDw4UWc9N\n",
       "aCdj8fO86s8sYkXZjl1dffYm0aWcvSz5ZyUeCHYRAsStoGBv3hHjMm9TnC4RP0t1ZsCi84Pq/X+T\n",
       "mAhplflYsWWOyQ7LMyg0mHb0AqWkZ1vdWhHJ90g+B5D4gy734cHeGR+B95zWVyDy58q5t1g/yC+/\n",
       "EUf+2Xk4ZrcbwQ18E2De3YYeGvC+JbyeUmfe7lWgp5B3rGXzhQdg4uX9hhlcEAbInGHhPIeasLxs\n",
       "83y6DY/E74mt3ukD13a1vKnPBiFxkuLke9ZWSU0BHjRHDTWv0QEhIPJkFmoyZoomWwO+lBufxyGY\n",
       "8MSTrB4nIzL8XdV1mCaYzBrOjndQzF/38F0IHMeE8WpDJBGGGjQi04XkHcV225YZh/RvtdWwaIzJ\n",
       "7FoDUNZ/6qCrS60vFtdVIjCE9baksRrpP//eON1TBS/TkMwHQLkDkd7+nxcyUbukf6X/+PkajD8K\n",
       "IAyFDrZG+DwFIGRQuYP5ldKgmfW7ZVvfTiw+HwfWKrCLZD3exlCuR1PWzIsyhOpHvZC6idJv/xcj\n",
       "mDc2PF/74TIKxHjjxyANxo2ZiAWdh7yX+oBhRfC0A38OqadbM35VIln37J5WWsXgoUKQhEAth3Sl\n",
       "2KJjkndLhE6HZP48Oir+er5DiR72J3ak5BGrVM7G0AtSyCNZTiJZxVddagAf+h/fkDM3hi+tLHXI\n",
       "xtD/CsNjofxcFJW31wvWb79Gr8I8bST/+wPrzelXc0pqRGPmY1WIwn6PelNNn5Q70OlEYyFvBE5w\n",
       "3/4y2qN6DG8lpNQISeCnF9lAQLU1HEjGr9hO+XOMrowCrSEIgJTmHbFu1k0rw3WKk/+iSxcft/2v\n",
       "qNbqmHQj4//9hL1dw/Idhv2iNukIydXIE6HIkOrn3rOZv6uwyd3rqGF2HtIRU9IFNy7Lc0XY1uoG\n",
       "lOGvALHv/ho7R5SfmxpEfDQ4JLxxIKzjIHDUKB3P/hwarXsXUZoJDapzmVBjXqENjvPEui/t8gJN\n",
       "/f3IhsGwURsHVa11L0LIefpYqQ/vnxScrPwJMUJ8cSZy6dbKsqgiMr8oS5I0dFfe/dMHWnabBkya\n",
       "I8PHgKU7VWxQbAS6v5jDwga13aYmMucExv+HprZf6eWPhYrKs1a/NnMCJqV0X2jgqTYbIuf0+nWs\n",
       "uAnOBy6nOfON8pzwU215BNvMNcukWrBCKeAXsKxkBg8i/yQUivC3/g3OsYkraoi7Rt1tBi/3Zn+V\n",
       "O+j506jF6RFu35cf2HaXmZou/b6Aqn2QWWMj6dakz9+ZertJ+KAURp1tN9COzH2b9S7vLbb9ruDB\n",
       "zEFajSCcZGc3QgzNn8Aw1A+IyzD7jutA+OAAb1dX70IhwsCZNS4wR8QWeimF5aVLP9sCZEEr3szY\n",
       "kl95+lWSVVJ11XtET8JkVC4RRmkjrlTVA9hLBskdijP+GqwONavfmDhXcCe1N9ERnkCWawoq3MfW\n",
       "BRwlhC7oWsoGl7ciEkotJwiMYKoFZcnCRsEwqM+Xs+1HTpHCTxhp4xxFzvKR5uXHZdl+RDGsVRN8\n",
       "ub7UuIJ3aY+Vvz/8+oHV5vO+XxULC6Sa2TklWlFgdYVPwfBBIaVuvKiiddfANoQA3KBb6WZY0wRP\n",
       "0oxuJRzz8Tec4ClfJbgkNB9ug95c9no+TwE2Kn3t/arlohUFe/vNc8RhDH5AL/W/fVR37CMjDFPF\n",
       "nGSw6a/B4TFRo+QQLLBI9XIKRXfw/n7QxODbVUMiYwjwbxd+o6HuO1tLPGBtiCh7zjkLRBqsPpp3\n",
       "//W3MUic2XT9/lSWETCf1fgAnM1Zqb8fouYmRWMNWwDaoadPK2pAihN9KSxwl/KwB44Xc/eX43ED\n",
       "YDk6TnZo3WbBAbBtvl6+blilWs+0q3X+UNDgcoSskEIRDhYEvXwhwAFsWeil4xcU9/mh1ZGh4TZc\n",
       "HIBwOvJbDirOq6r2iDhPIZkGmKDkgmiiU9QTpYNkjsVJLw1WA6D29+YOFdwJ7Sd0XF61dNqtU61a\n",
       "2iNZKhvE8lRicGH8ocrr0wlGRMAFtX4uThI2CWYG2SjOVwdFsCGSuEe6YAUdSUJiBA8cbKNIBDyZ\n",
       "cjtvIAsLJvzxg6tE35QoqMhxEJQ7hisvCGyqHe8wzNwzvgk/YPgKdNc0oxuD9ZthcgCUJmv4c6hf\n",
       "PE93rLjqE3GwObx8O9QF92I3EPxcZ+DDzmeWb3RL6EnZTSHRwugy3DM8yGS6ZT/Z8mv5cDHS/EQz\n",
       "vN/8mjEnMZCC7er9ft0kcXQRWvyxoIoWLx1XV5uc8XeRyFKgS20Dddc6s7KJB+M+/oBOzHJ9EEAe\n",
       "8xOZ8SFORiCxjE664MkgyUehhnCp9D+Hbwpg6hlUYPmhO13QxCRkY77OYq+FKis1JKsf2HRhiMR5\n",
       "bdE2AoraqpIgZ7FZjWsxuwIl3EIjA6+owGwQhcub2Pt0KZFOJW8uzls55QcBbqBYqgm+nWstn6H+\n",
       "n1M66aFEcabYraQFIRQ1PgEI3Jb7h+CczbnNz0Y/u8OlXL2t6Xyb4rdHQJBSHKLX39YkVmn6YBqg\n",
       "C1Ha40/eyfIeGMhROf6AGXlvQAulqs/pHmIm1kK9cHlwqFrlgrDQTj/Yma/J/bd4lXkjmbuJseOL\n",
       "opxIUc8LdzGUKSBYE8SFILDEn4HulLF2Rccbjj1sMQ+UoMuk35QoqMiLqn/bKaSpduSABP/32Gp/\n",
       "zKFAZZWMOo0IvY1kLH1boNjP3BNP3E8gz7LF4mAojd8NcjFSsIglfitJxKgFESwdYbHhEv/1MPOG\n",
       "A+iDfNu6FVk/xeilrpbiUfgI+QqCdRvkcQ/JUFr2k5f+YxNHqsw1GAiUAN2e4RR7+43l34WoxekR\n",
       "bt/Ivq5Pcf9Qxv+gWt930SCAIpbrfxAmdCSAhE63rEoRiDU1cgn9DO0+oTQkDV4FuXOF4z82Wxdo\n",
       "7kWRfe8Ijnzn+u5oKIFFVNEwkBy4UY5tmfpsTvHkI2fxhfU9X7b33SHIIiFmXwUIo5ZN1o6jWI/g\n",
       "VQn+7PFDAB4hmYaD5zNRK1A+ZDz8BuGldwfQviNXy+TO4wEiWt7vekw+vNsyYF4kP3rkkq2SP3+r\n",
       "bMrEZ85V4wkvWlcyIXCi0CZJdoCggEfFW7As5mdchT91rGcfZlhTJ1brRbQ64jvN0wt7mq2a4UM2\n",
       "kPG6E10NJOljZj1v+DAiOUUp6N6vn4g3EZg/U6I/ikSYxZohwji9HwtInGC2NncUyFFH0WnOrk+1\n",
       "14kHDCD1rEn2xQHrqaKvclBiCyh7AfWyedOqo6n8wWMlwXsglAlVJW9Bnd0VxtmA/SJaqoTlbqwZ\n",
       "63VINFkM2z/Aki+bl9ops6mp2Twaif1Ygb09s6b/dyOpVU1sPXAFlWiqso2bM4Ndaxjp8Ff+7+A7\n",
       "y/d3jbxf9i+sRjfdp7kWcYPBvDyNE4SdWW2Zo371bdrwVfex/ieH+v3aVMwRL1LjHAf1wK//zJxi\n",
       "gz5cRTGXNIRugBt/C0SCxJl7fKhqN1Z1MX1SlhMKmPgSNFYOJgxrFxO9b04iasxJ2y8d8H2estsi\n",
       "9UKt1EprWeEtIdG9+JPd1UYvyzwyY0mJjsq4hlmbRv0m1JhBPI1/0ogu8+7PA3dgouxTJzRc5DFH\n",
       "HZEbgePoIOLdiBIwLm87nJ2lAp+vU4bqxOuGrCXj+jK+gRtgoze/0Xus8SzhwfQ68E0ak0hYtnFG\n",
       "iRsKBWt9NrLAr9WNUXnjBb8MpwElJz86nKJ0f2c0t/JQIB3OEIVmHzJIw002b1VWsfy/QUkWmBbe\n",
       "3n6FFvMuNk8I0nGJRpHjiVluX8BvrqGlZdztRf5P8pnPbVm0V4uHnuckcmShtVzW5Pxkh4urhD0+\n",
       "EF72JKZSh6uQW7uT9DRMMkNDDKZ2LZE5acNB/8A+zFiRda0hHi2HvGUxuvlZDRTSXxbNmrSW2DSp\n",
       "qAvXeUXwcm6XN8Xa4WQBa0VsYTi3JbRrg3pgZ/xMlLzVaocLhjs1WQ+5opnaOkLe91nVQCKp4XTx\n",
       "o+A1yK+TT0KTR7Ucco/4WQxjXRK78z6mJJIydi8csH5gl2kPwWOc0wbliELoUFCsy1t1sjSrjJjD\n",
       "SvCTE5CKoAjAG/Jo31OD2BqYWq5NSFDYcdrLdAFHgLRWhHo1SotBvoEillrPBuUmHrfutOpLDMRm\n",
       "/sqPxBOJJ0wVjcUEuoTBE2HS6EgQpQBFJqoWJakOO0AnB3sTJIypiFwuIH6WhA2IpNCdRxAhGdQp\n",
       "VYiaHUAqLkbVw5d8TBgxD8EFg6DQ95xPWiewUrUhT4RtamSXUvIM66cKHFM5uIxv+fgABJnE8xN7\n",
       "rc49LDfKC7NeWJ2a/RvyFO1DSOAaTdhVh2nvjCvgJ+zrgMcLT6Y4Cz2rXGQGwbvozBE0snwqjoHu\n",
       "zNscTaRsBGYr1ddZob4ea9KCA4hlSvs+9Apwc/tudhdkvXn+qSHrMN8FRleYPoIIs9y30YRk8XZv\n",
       "ipo3BcaNq5NAZ2GE22vTzW3qGTkaLmGP/jgvSC8JRwJPk77oTDnngrP3nHZ3FniHDKLbf0HhZEzT\n",
       "QKrAVHv8ltXqh+Yrm66BQUff6xc+L1pOt/WMIzMvkm3NGiiequ7+TWvqHOOr6rUPvPGmYuFsG3qG\n",
       "R93tOigEfWjRtmtCqER7K0KTbxpOiutT9WPFfLwze+mnAhJn1wlUo7vPRzLTMWmn4Ce0z9tefSSf\n",
       "rHOkE0zuEgYh+knzlvhqNg1peKR3KSvj/MzfK6C/PbQvD13NmQvQZOG1KFi1NZZJn8KMvV8WoGEw\n",
       "6Cukd5ENmNIlVmKg566aYHTsTO40snTf1LLO4H794bp85wTqGaiUyYe6UlrbvjIxf7AKuXrhQFWF\n",
       "i20Z5qOH7v3tz9Or//jB6bXg2/yPogVWouCXEO8gLQ6oPqJu0wyFadxn56KrqEwjkxFp1uTxkZFi\n",
       "iN8j+3T2u1aXZRN1ptNBmd13vNaXxkWDoSvhteGhiut1up9wBHVry5Kqo3s4KYXO7uTCxSiwEmyj\n",
       "CMY//HRMCfk52y7Oixo8NMw3tiseUmlSXl/pWlfbNbTIrjaJ/JcbQTJt1EqTYf4X/dEdwjSctCSV\n",
       "jMALjMx/iG6XFJUCBQXaSlPMUzygDqx+afxumA97SCGFBMwzYUmeA0ciLObofXI/PgCnepcdYQPU\n",
       "LYJ22q46op953tOFzjXwrCiYTb3QtCxnp33M//SYQlz6oknqtDLcGnCDhvIwWz/xs1NypjDchK3i\n",
       "izXvlsLp6hCBd4RFPkm1Fr+2miE5R7b0RLKWHcfjArhw/0/q/bkY9M/NKd6zCp8Ch6TmKXI24Ybl\n",
       "/i0wWr193fxWLDHTHpIyhDHhSlQnGfH8QUSzico8t+dK7z2IbFs1JneyKMmqSmfcdbCi0OLSHEAY\n",
       "4cXD6O+/Lr97BlEkZfSQkkVf39IErK/ayBC/67x3z/7TTFxBY1ShnRQQvhmeE9vHU+8BFIn92cBa\n",
       "60uTDyW9gV/H9WS8RWoTEnnL74KbyCixPlKCWKvf7PgoOgYzLd4BQL6ZkJUD+A+WPyaPK/ao/FvE\n",
       "iBZ1/GaPI7cHIBFlFmR6+l11KONu3tH5G5EA+Z9amM1s/mf/+8amIUQja3g0bGWVsWehaiLpP9Id\n",
       "iTQ6dVcs8A7kGT/7R7/pgl5vp9dG8ivRA4bsw0BSDvQas/Q6bIZQ0RMi2Sf5rsBLJpYKqS8wF7hv\n",
       "veMSSh9AisPkKDCDSInnrhG45SOY0QkTXW7/w0MaMzH2//fD68kIV/esAE/uDI+37iozPEdPR7rB\n",
       "1/+0disTerjlVjNhuxihfp2yw44j7bN5VZruP65SOJBQkCbMWytgBgTp19aBCOlytfJ/Z7GMhNxa\n",
       "BfcQPJPFPxY1sjVZUk11S1W6Na759z+AD0bbwWew4u2A2f/MTpPSmN39h9gMXErRJr/bN7fep+4L\n",
       "Bp9mvdz3ds3ZdyZDk/fRZHrQX5ZHg89eVANrGQeapx69Otdra1vGwZCmW6j8/+IwR//0L5Oma7Cq\n",
       "tbFT047nsTNjqjd85ytVuP6YHrGbMGiNCKSQtoeCjJBlyL1HccTrdSihJnHXHWVm8sCT/91z/0Vz\n",
       "N/P0q7oNLdcL7L7P9bWaSMHlJDzgae5pB2THnFh0Hx2DGS3wX9E/RrhDni0l1YMQl246yigwUGu/\n",
       "iBblJDXMSe5mEG1gaM8pyPnJfqfkxdQUJJMwDKue++Y5RPZDDrZUutG0tbyD7q7rzJh4/9n1LRT9\n",
       "kOcZrtBL3hfI8oQndBC2a1ID3H4UNM7iljH58fEjrzXkP43sdHEk3bgW0jhMy5Fh3CXF7H8l7uLF\n",
       "8zXK8Z29CPplttqJBf/MmCgAKzgCO7yG+m2VmJdqBk9IKxfzKkj73/dRwlDRV34WzkVFwvN0xyOz\n",
       "2va5v+aMqke6P4O4BGmpXK5urwZN2viHPzloCKYgiODB+LvSg0qHWVhR95tNyeSTM1VvPArD3Iwg\n",
       "4alMcCLdSXzBzyBLM/wkPYetD+WI94XLR9A38CSRT2K92gAc0SWXqyOJPvF00VsphG9rNJrFf+Kj\n",
       "VGnTvTvsqnaOHhNvvXo8oq3npvta+SWWKXJQ/8x0C2ScR3JQG0x/lkohTMnXeBAF4RatBlaFCJWf\n",
       "Qs8ux7neTO5kwXjUAqoDTsiqSAJ8yKxmp5H5AoIE++a+5xY4mDHWG3S36jY7RMFs7ZzHzo47slBZ\n",
       "WrVZakoKM3RycUxN4qI7TK3ITDt4btEn+3N06IdTrktTy5OXhuxkX6ZCF0SQzKmw7gfOzA3e9hH+\n",
       "FELpXmbiGO5Uom9rJGwWESaXJQeksK70gYXLb7vKexUPEb9yfY4Ob0WjyKfvIl2JQI4w3alJvfkP\n",
       "VbW18MyKc8EuZHdGGO+jMH9HaQY5ytPfFY1FPsYg/jJRK4iJVg1LjQw0VTopnGD4PT3QcNp2LQ7m\n",
       "ZkWyeQdUK4xkqqBpYIKVOcrUjj7Vi6nE/Lc+9m35fpCjPu2WnLZm9OVfT2kDLrI+w9j1g/RX3OQ3\n",
       "YJRqMDy/AAVipwvD04ql03Av+YX100dj6YFBl2/Yatho3QFfxSHY+DHhtyMOGY0KgAfmT/4wPtQ5\n",
       "uzbOP+R/4Ce59D8co7dkEmtaNjITO5JIn2PEn/OkERaFkwwyZmZ7fzch5Crp0IcQCQ1OHxZe/ND+\n",
       "9jjuV3HzC5wSlJI+R10P627tJEXjcBYKaDXGTl9jpqfee4aRG4Hj6UCTJ7aSL6PMRdKIGNFdhSHP\n",
       "GSbVxeby9bhsHlINFopbefugA24YRLwkljB/eZQCkpBZHlPwAkmou5i7JqAJpT9/qq6fBnMHbRt4\n",
       "n1Mc8PwyAm1vRxF2/kuaQhbZbN5d/I7e3HwnyILyUkV4KXqe3Yqym8+oclthj9ffLq/zmV+E4zsd\n",
       "w/GsXDga8iOkT0xuwrAnyTmWUXSoE6IPV/O+6bhab+IX6cSTsaaD2us9DFWuDyEjQBeLOBd9CfIE\n",
       "sUs8bE0+NK2Llo2TWmFw1YVABKxJwkSj8uhh33wYfaMxBryhDGj+DICOT5eOUlhXekDD8UvWIIgh\n",
       "am2EiCsWY3wsGcj9EzqQU3TU7l+j8rUnHNPRDMm8ryNWutnRjseSqM9k/mSf+Zc/bhmC/bXlU/R2\n",
       "9vFkmJqPZck7jgSNdUTNZPjcEFX1QZp522gnS3ljLc4H8yFcTDt+AjzzJ0AgHhk127C5r7+qjqnC\n",
       "1N5dXiwFsehAqMvdb6F0ZS1NYEKJIPryVbIIZ0+dQCRNvXKQ1yyT085kJY1ci1Fnkg28/XgOoK7k\n",
       "6fXQgpnL0hTvnP83eX/h6Iy9VGUvhFX1pc4QVZjexXVm7TayIENTtQ6yugVbuSMa1fI/dgyQlrIk\n",
       "a+Yi6U9NnDUZB6xjpZj0evftA4wrPkdGTzWBU1rHbyuLecVeu4UIlZ9CzyHBrnpkPc44cpG33wk6\n",
       "EPi7vfYG3vn5dzsKHS0hTkQmr6du0qVuGoFwCyu4nAulGJDjMVmWwz1rwQLAl90w6GGOFxnb0ENV\n",
       "1XFePjXDFh9LDwRwpukRAhRzrZ54jFqcTQ8wNmT1nqbjqXunSQ2Y4d1G1/dP6EEtNNOmIfmUz1U6\n",
       "GVn/Ag/Jb0/tqt3vAmA/Gm/On6NiOlteF+ZYkvmq1ml+ZT/t//HLyvY1nf2alks8W+o27e/A2Kpe\n",
       "hk0zpTlVfDGYZbDSG/z9ssznSjLXO6dAOHOwvxPXI7rMOwjsg/+GQ/ZcGE94lFKvrlfskYj7yHPf\n",
       "UCh6rAcTjKqiYwNZkVxIn+zez2HWJwVm896gTgypXv95IR4g6s4dOMWMbHXNwBpIIxK2npTWdXpd\n",
       "MldZM7mC+Z4CJ0IrKgWwVvqJWjockdd/0lmxMOFov3T8WW7iH5U1sgA3kqJeBp+pz2MCYm8rKU8C\n",
       "hmGBcEqJDprPDEmHbRDLPQ+v+xV7r6AXHhQ8Ts4MFh3mazE/eUN8FWbrHQtDk9r99rGHUS9891J4\n",
       "tKn8li2J6xZDY7HEfYybuQFeetN1p9MzWbIUzeZK8i5M/DXfGwzYHOAAFj/odItHXvDHNT/qTf9J\n",
       "QCQAaoNfjVbZTqYzeXc/qIfVZdAw5vtMF9rKwz5LHJ/+ot1KwQC7UgRd5+5C8B0duSnRd2ApIA4Z\n",
       "qJIn77N8KDjHqmmxBpfobta5dOkA6yKE6iEGo9LtHRce4ghpWa5u92iR0TyqBmqd6bRqVj+bLczo\n",
       "feYBJC+LwzX4rqWhASmZCzTdmHGvH/8ax4nWr5a8KgD8GChxxVI5FYgsKYX9D1BbG6x/FeRxJoGi\n",
       "916QyEl8bBmBRdk+L+V6wdrSeSOXpLsodmDSbRV4OoTskqAm8NVxRMwqpnWZ3tgtSxhA3azWbNqL\n",
       "QMKPSd/Vn59995yb99WjCFT/QY/0CihusjKzclSop2KqNvNXT+bO6sd0ttDaiatkUnGxgbhSb7m1\n",
       "smtu2/KRYlQi5WyK4yBZFz3WQ57eZ7x3amt3CJGDbYejrRkaylkQz5+DgLn30JtzymaLIlE0UW/7\n",
       "PyRtIqKBtpYrGLAs9QNYGrCWQRhay8R3bYOZyx/CfR/7Zyk3f/gR/FWK2mv4bowcFcBBO9Mh6gaf\n",
       "6e7G131XDBRQUvziqzXoLJLOPIgLrKVfAEeHC7Zt8xoF8X+ZkPH0ib9ivvW0Kw150oXkruWbdMyF\n",
       "eaIO6i4JDmgzafGYZz8NQJKgHMwOtO4kurjihogZE11pTUYWlRWiGgNVmd+mMqlLuV08TsnOd8Ny\n",
       "gxS5+l/z8Q2rKcGN7js5DuXgl6dz2h2e53V9eJd+Tg/9DU8I3TSRHNU9EhBqQbqGCI3xrSk+DlQI\n",
       "W0IMK8knDjD0kDfBL2PI162TfQuB53cGIBFoOfmU/3HBOo7ME3qJnLoNuawqTdE1gi1gXyxvNiHf\n",
       "8nXDBE+xCsTqZwM69+N42Dv8h7AvhHRXxCMnqeI5vCQGuT7wMssGn2LxckQ+Yn6nJMtCVQd66J0p\n",
       "AGxhgQjb/GJzdkOPGUrar55RDBpVUCBtSPyTqIdieZl6x8XWXOzWhyBCY/5Vny8XD/mNqoonbeVh\n",
       "2YZybHVTv74X5+Pag8vGOOFQBw/I9CbMhJrXugHvaNwPHyuCLW4DcNTnO5b5oPkzWmi96ej4yrwL\n",
       "3pxfOHGWzHP/yd9RSyZ9xrP2f8m7jQvfufF+7OUBC5iLHzZBcsOnmOt8BnVwYhc+ppj3BgsV5EeO\n",
       "V01vjy+fhzezgRMcdn3N9KvgQxYiT9U27t0HVqfAEVfM7V/lm5NjecfWJFDBW0ynkqTh7jQQ4+of\n",
       "hnPzvT862dt7jHQk7ML89VmUUVmBeVWPZpPEYnDmf8JF7PNV76jojgC5OL8tiYtkLY8HESx5MaZN\n",
       "vl6x3K8aNGEtP97HBcF39BQXAp938bZSrLJLFoMDTHbbefdPFPUrC29hzD+8lvkcGDnPlr+3fqrY\n",
       "EyFkOcINet0NMdwsqPjmrhlOxMBe8nR/SkeMDaQ019S0/ox/azxy2bHHRX0SdiaJq+kW7y4Woyw7\n",
       "X6pIOig4nzeTBFFVXK686wGOtGZC0K+5Gnamg0y3r8zdHwhGOCPbq3lkfl8lEf9Zf0AguV9Vgvpc\n",
       "1jojo5QweIwPbTxC0JdRW3psenFTMWOi5HPox6QAWpmRv2vdvjwkyuiDSHpTXNEWbw6QYfVAMceV\n",
       "o7SH5TThFgON2yqOuVYbRJH13bOzzy+ZDDKYZCW+ExPi20Q5bJpYtybDKWMqSO0+L6Vqho8xybvH\n",
       "dWh/ETYcHYHtyBTsYxOwpMX8aaJM12bgxeW3RRVT+Kql+q9zcUm1ST+qHiclD/ySOn+QN8oyuODP\n",
       "8SYtx+zCtzU4SXPOV3Ft28koN/v5duaWJ0yZieBVXBfN1t3gzYqar7vn4Yea000hpmasuLABQKEc\n",
       "o5OConSxtf54XXu21cA0PyywE8Sf7DbXmqgO0AB9vIrehdw+KsAn7A9mHu1cZ7h97H9AMfpP3SS8\n",
       "cAjQtmJjK/fZBfmUNgKepRTHcLdjObjykGQQ2hBooDXfj9JJi3XuiG/GHpqssmcJ+6hTfh40G1Zz\n",
       "+0ycgb/sSB2A9hbG7W0kMhPUsHwfaCvzfbNSffr5pUqxlM6yoW/kOb7+OBKVxqV+krN1fyXAhjeR\n",
       "ircUD/vpQ1SH0XMktlRBF6gjkN8UX7Qky3qSojA3JbeucGD+CX/c9T7pb1COsvevt0gpExDY3owp\n",
       "dikGr59Q89DsGbMoiyMKd4i9jfzAiHUmvoG0Pp/PIHhhWAlQvLSOAC31hYZNjFbZGaU9b1hx0mpk\n",
       "2XUqW+4xPxvq49W3ONA/4vL2ClR54nMBRkpT5zfVMxRmw4hf9s5A0HB8Otp6G4Wp+bpTNrwo/VhK\n",
       "Y2Xgoe/zwsjZGjdGFSdb8CaJM0YEJe9EZnnVRwyRGvqtevVRvpbNtAdPOqu5PLRrD1PrKhdbj4n6\n",
       "ae1hRrwn+/g8ohb7DfkW6/xfCIMbuOM7iRJVU2rb3au2N68rgQiWbJR73WG62IN9Za8j7Eh/dLRu\n",
       "Kga9mf/DovEp3ZrTOxf7zlal/kcAYdTIwvklC7VkdUnffp7TE99tLxHF1JdXlsmIgEqcxV0yNt4Q\n",
       "jU019hUuxlupqgOdc3VRDwT9ZLWkSzunYE8p93iVSv33xI/7G+qy7HFec3bU7oTs/WpCNwvPjGSZ\n",
       "BLt9ST/d2fCiKaTUSBjezCW+ht+LfW63GW9nIWj3MfCGDDwU2io1SF+BL+kbDHmoF9DdS5c7vGLH\n",
       "uzI1aXNSylkVmdKqlc6oqbXD4qycCbP0+n8soD/0NhDIJsA3sHHajMDhNv19xYQrmbytAsrzAksY\n",
       "tt5zv/v8wDDs8k4LeCt9wkfyzXz1pOx7mX3+4+tK9L6lWu8q5GCjTccN/+xhtP+aI8GbTIFlwuCB\n",
       "W+X/diUG5JzaGIwcAPZwC9Yoyx4Xy6+z5/Jg0hh6cDlItObEQV+pJHK9xbfLhfrptZ+aaV6DlvSb\n",
       "lMLAPFduxbgjvOBrGbaa3U5/eB+AWW1XkYb5XDqDX2eVNalkB0FT/a2XhJxcZlpCH2ypa2C/sTwW\n",
       "S+VcyCD0KS33TPoOw/67N35VoCvpJG1Te+KfHmREiO1ZrEGMakdb+0inKeO4JJz10rA+n2Zkbt+2\n",
       "xfmXitqmLmrf9oXFHvD+2D/6Fas2m8imEgVIR/f0JwMIec6Vfnkz3/eaMGthrMheglH8143oL+Zd\n",
       "vPgCY47ICDSFNdIXVj6ndECwNy1eZCwzFiUOx/KuKBSudzKORqn2CxB+Uw+AKT4P+1/LGF/c8ewq\n",
       "Un73XwK8AeUQjxq0tEJRFexn6nsjzIM8G+oYrWSCwculMQT/45rK1t+pcQhOlfmSa7LyXEYy7NWB\n",
       "QMV6rAO1w/zLozJn6FK5kGSaS9yhtA71dNXNtf0ePhGeybXlEqdJbN0YljzFDq9BFz8cM+TJ3+YA\n",
       "nvVTtJ3cgClaZcY7S3toLUqs0vzsaM8Y0MO0dLcTJB7siq6OlHBmLqr3N1o4/uz92+NUU2u55Su6\n",
       "ZCbjiIKfnwLSofUvnnLneQPP6qJwOfF/kdbxxGcItggNFd6z7yRPIbWZjbS9nUlgbi8IAabfYBjf\n",
       "hdUIO2LJ6UEi4g/upe1IO7qgtCM/hvz9/mrELBBP+zEYMP+LPX4+GEqdIoH4agZURemMnouGMBOu\n",
       "vRWzqlbLw1gkGbQpQuHsQNk2awVyQyyq/RM1/onu2CYxhaGpyBNqrXZp4YdnagjlqXgoc4WpOxO/\n",
       "79+7F0jmgS5wCBkCbR5ye8GUmUWvNx9Q7X0bRMqss4NkHlRe0hlQrpV+okuHNGKHj1rdxaRf5RNE\n",
       "zS0pPfHRrRixfFV5yD6WYqFhI1GvxeW6kLmKGlVAK7iCYoHx6O3h3gDZ1owgVI6OVF9UcureZB2N\n",
       "YB5L9wIY13aNJlOylaeX8ORdt1nnHOZ3X77KIvLmrmxrHjbq2XhOcsObGupWHbEsfNDpt40pGhKa\n",
       "5J77Uh1Xnz/88w2D/eS+vGChUv91vvxAGV4W6arGz0eP8GWm8HaYebxBPPgKUEusKO8QItH2eWNL\n",
       "fCaEK+ioxx1RHc9rKuGvBud1qrecDQq6F/Bq8F1EdX8p/gP+EdMmikCGwZqyksAaYxbx2MqCtHIA\n",
       "PsLCuvq1ZTX/HCgm7pVsYkiQvyiCEmrG4wR741pSfHhl1EAfrvUjaE3dz5swPqpncYsGnV3AWdHU\n",
       "tQH6r+398nehwaOFyC8T6CYvUXxx4sQHCTq0uhDYm/RqT9D7z4CJMNx0C8rS8d4XgLsI5VdC1kAE\n",
       "rSWp51szOsWERnQDsgEsHHOyPdcVIYjcACxaJPsnwNx6MwysoDr/xQuyboQhu0RqXCIAfVfDAte8\n",
       "iCCUXqMZ/yAfKlTbwJpPvrZoTwQMXxTrZTQ1QROOsOBWd4KNF82HFED7iAPTZ4CBipVAX3lsN613\n",
       "+eIAxPzp8117dHiOFyUXeotbsmcSTsq2v/TAhAQ9b8Dd0gz0pbHHHNU382etAuInBYTCcy3+UjFA\n",
       "SDPe0TG7pOvWFD9ymnQ7XilJsKuDNEDC2ZWfYsnyqZBOhX6V74Qkjqg56mP5nLd4On0OYvcbGaVY\n",
       "z/CAXDge7nB3OWruIsm8EkYNNB/OBnidL+YCWtPpfF2RsjwBeNshFsK8/k1eh7VdkeoyaylN0Vbm\n",
       "Zj57TmuUY+Hgne98BzKBJTHMfALSXAMz697/vjraLxsuB5341I0e4i5LHHYgSS4Qm/F7eDYCwYSM\n",
       "HiAHrW+AmM5770+6/K0gc2bjQQLA0XNrPlHDrVUvkB6VY/KLX1ds5RojW7CifU6Vid0qcLcfnJEj\n",
       "kk0jQRZ13hXQ+k2DxQMMt3r2GlXSXDpY87BP1UzniFywiG5KSx5wYXHwRB2o+MAqD/CZJuHcG26X\n",
       "XHW8zKQbmQ7Ga+NxoiG6GIL32zFSRZ8YBTtQq8lOJP4VHvz5FjtOber9LgLjd4r58UOSv6tz5rQr\n",
       "p26il0coi8MyIuIJl9yQhf7aFjhMh2f95UN+/+FgZbk9JKS1n7ZELFyG/RHhZvnTRs/wQaYE4/Ej\n",
       "URLpomHX7X+auLPSibyMgt4SuFQEolzQFlZucHl3KJaeZ0fd07QH6+lKkk6Aa124ZnXZZlPYK4xM\n",
       "nWf2EAeJufOcaHGE+MMlENRl/ngBHHBlxurUdHFqIHDSyXn+8GnvcfqLR2l1rCnMuFTlNgy6QB2f\n",
       "cV/DGbZJdZr7/wDV8jGAhgIE+qy7x4DuZ+r9+bkKcV9xM2CbxTGkiWnBQZINqD/wF7IBFlclw/wq\n",
       "x1J1E/gbJrMYxC7yDdJzSmp8nRiH7tJsihRrvvfXH9iTtj7hU9IphJyfDYICmsPgdhKO457qbXBl\n",
       "GoFqP7wcpVkZ9GI6C3vY8k8Umst5ApGQj30BGRC1gu6+aS4asKgAe3dVUUNmpwEZSBHWnnj3AEhq\n",
       "cYeGPDatZy8cpLCu9IGEdhzRVtu9G7SGOT6uIhglRCByG+P4+D3rvWHjomjFM88pn30aDIv46D/P\n",
       "p6mERN+gdfXxMbEXRlmv3QOGI19PLvYZZpYnyhGoPHnOZ58lOtZsdzQuN4oyCMB5E3Ef+pj92Mu0\n",
       "/WL4u/VGjp1H5ec+jcHnH5F8VS6THRigCXf8PgyrIcYyPT0MJlEgvzLXk3tW+Y+K8d8HI/j8lTxp\n",
       "WPXRgAkUzindo3A8faygr6Ma6ocTedzkKV67gtC7+RbRCL7wILG0sTrhq1lG0I/aXDFipuYALFv/\n",
       "Xf6/Y86xWP5bCcR1BHJcgh81zMMd7K0dOm+1SOWuwR2VaFsUprIUuiqz0cT9JIsZjQLHvx2cZWuP\n",
       "3jNKnJi/oMi8cNJpK2vAe3JZJMzwFnTrBY4pnZCAdg2pbsKhMSlUoNX1W2VflQJtIh81YILWJPWQ\n",
       "es45T9twurxQLHtmc/Qf2oCsxrJzG5cAukYW8jqtfAyJZj4rINeJ+kEJEttSnV9mNS+aFcNmxMmG\n",
       "0v+ivjSxqTFqDWBtyewoNB/aEKf7RgjLoJctSe1EDMwHVC0F8QvuononGEPmgPTKT739qEfKT5BP\n",
       "t0dSux0UDf4yEQpfkF2LN4L0OgLIqQQzl0TntdybgePol1GaAOxW1a+icIYWxZefsJ9nKlpOeHsi\n",
       "pR5rNNahwBLAvlZqpSde8u5R4KOWYpy9SAqb+IC+NgPEz6MfgbGbHTQPLA7AH69qJspSuQE7WzzJ\n",
       "IppsO3t4skxPeuETJ7vUMqxhQqiNDJISoMEKg/9ZsnnD9c1fwAWiU0Zon707w16RlN0HnrMz7Wf0\n",
       "yveYi6UxZHnQ1Vae6sTrhrEzryFuB43qGKUORmA4oRSTRJDZS0sjtQ3+0RbbgoCpUpeF9TIDXnJK\n",
       "GN0Hcx4BCQgGb5B9yURkaOaivDWdeSNX+n0D1IrZiZQWnXhNgjhpBSuQumjjI8d9TxZxf7ge7ofg\n",
       "M3EoEcYdCNeC+Tjg4xD0SZ9P7FgOGNKL50QBnZm8ExsdnyRbIpV8/P4kIfB+BxRvCRznMeEOSXHh\n",
       "xbHDXjupXAWM1L2wFUwTCMaaZo1YjL4VZrYP04knY1P9IwtK4t1flRZBpMZyCtsOAQLH/Wp2WTDh\n",
       "xFO3CvW0rRHC/4pnEbnpbpykppWO4Z3dtG3xrZIZfdW5fYtLOJDM3W6Yal8cVFQgxB6Rv1kSh4vg\n",
       "ZQ8D6ar+yN4oKo9AHJ/w9UbRotg+7MZzQJ27fa5VIuoIcOTNa/dwxUi1lBkNf04LR3Qb4uCR/xUR\n",
       "ggNPzT4Gcn+0evhkiW9uz6/DjgWpvU4p/kmnilhgqLRRHrIsApLpd5bmId5ZVNhW8FYsPjPu75Lp\n",
       "QQ1++IZRzQz0M2YOfvbr8Pe8K1//YRGfgmhleC7n224KOSoUpVOvGckoUyOy///goATEeQZvYHAW\n",
       "hqTeYuw8Jnuxlomf8/AbQd4G9zQuvWw+8KX17LDfJ1/O/R2t5h1p4vNT4Yn7dbwVvmwyjMo3cBGW\n",
       "6xPokh3Oh0/L1a5iKTlttD4mlEEZTXoo/3/+AeblU1phJjTytj63Ip+ojdqfo+8vHcs9wzK4DmMU\n",
       "vkufff3UPfdn3ZaWcs/PbNgxPQlEHne7qYwx6tvXfKu0IQPPIskfRTduZaHeuLRt3bBEWF6YGAMu\n",
       "j1/umW5umSJ4SOeJq0P4uWTjOVB+zDQmGOReTYQBnKuUbeK5eDyJYeytEVkTVVa+oDY8irw8Bkbz\n",
       "8a95VS16uBVGEO54YwliZb969JKBQLAnXcKADSRC3LgV1BzY8Bo6HoZDRJk7IZ2mTpLSzJhVXn/s\n",
       "Bd34gE371uPU0rOUjxHiXf7pOlPSy4szR+IR9CnRod3TfgmdVWzuBjtODS25s5yOnn1PkDd7YZpq\n",
       "EM85ui9yEokJ+XLQQW6ljW43Hjm3lfSx9pRj6mRypFLmALIyARTs8ymrT8qQrF6FLb+OOLiupTlx\n",
       "R0ctVDWoawhVYlrSc6o361jfBHCPT6mwIYv3LktbnBYNPpRA9LwpCP14tAJd1XvTprJ5vgFdeQy0\n",
       "QvrpnKefO9SVHSv1WOML2bHNzz9zfNYj6ydsDpV00BpofGrKxnpgZqskQk+tYgfANH4xAPUgIazs\n",
       "KZUV1hidOySQxK4a2pyuwFeXeNXqLyvf3JUObqYM7FEAL5g3LurMWjpGCyLvHiTVsJJ+oy7FfYf3\n",
       "8aQoqmnBKyNPYjM9db+DcftQOhvgp//FFwCDJB8RAX1cEIozeXIadxIvSkuKwtbdtvhEM98f5Qov\n",
       "FnyXqMS5f+y1xEA83aYJan2OC6/Nwq9AAdzkmN4oXYQuljGKRZazxeZLe4PSzPfRwaBc+NnSzRAL\n",
       "y8llMf9zA/sGq3JwiYsMjm8VUWXYggWQGx8x0gyO7PCg+BnYNT/amTb/Ty9IQ9XD9wUe9oCLlNOw\n",
       "VwlCelUmGBeupmEUv3Y/xmv22XTv6RdWYqMPPRkUtid+Kilgq+mE5rMsHyBQ2a7ymdMi7ixGTBWR\n",
       "JgCkVboOLROhr4pSD8/6SZvkPA+ZSoZjM7AbLzBlRa9bnGuVgGO2WQcXqOTAN+COicgrgrpSWERu\n",
       "10EEOxT+O7fjD8IJpUSqk1Nt3By4i66KOhktSAcs/2FixSHfhypaIxmov1lkvuFCKyR+vbEhIlnk\n",
       "0Oj5ZF/739bLgNoahYkCDg0Y+NKliM4G4hSlhRvF0ujZiPm22U4YIdyU7HHVPiQxdx56bNZckASS\n",
       "6pW+CiesI9f4rsUyc0y0tJGS8grJhDEtwuZgkzqDrRyoU2xOS6x7/0KQIgSkw+pLCJy+NR/zOBH1\n",
       "1GcSvquwVR9kOUjJaclUQNrEoVSOGeiyHPox6QAVQfNYdfu2rT9ZR13a7XaOUeclBAj1sn7D62Fk\n",
       "1SyS+K7FMnNLp3YIXNi4qnuOKSd2u0cqd4MoX+R2/3cm7FCrKxymA2aVVmgt0DSDq4CPREO+dwDz\n",
       "+RSah+Y9ypKT3ILDAY3R9l4CnPv/R3dYrV/BtUriw7DXiwVt79zhlB1xILrUsHgmWj2NdFmK2bLf\n",
       "jptH0peRTaYIQhvtql5xc+Ko1vx8SPH7EfXgqOt293F6B+g4hOU4ufXNvsVDKgQr0l4EJal5ZMT6\n",
       "i8xZ6y/oVMuf7/Si0/PWakaIobTUm1WQ4BWB83psjOoAabsXyAxyPC+V4ojc/sfMa6I5PXTXXj/z\n",
       "hb/M7iRqEB/ncwff4OPIjiypXX1XOrVkOsIDTNjysbMo5eavT/G+tcK6bNKTxr3nRK7KvfEhFT88\n",
       "ZiJAnvgv3/8KeJb5Q5LfXU4bxc7tEFsKWs3mO2+aIBSCVPvhFGtJ4aglkgKDNUX/ZTc8A/igvBo0\n",
       "oNTbneMRtjukyRPvUI1YPD7+SdJaKY8Cj+GF2bypJptoatEuma+Szbhvs5L+Lso3OBD9Cxl7uK46\n",
       "68tGh7CxEvj/yyxLkeonfhHhYg5IWIZFkE/MhcI2TZ+BUdLxgcOYgvNsDDDkL9IvmsC9WjFIFSrF\n",
       "pFp+pJPGn7Q9eRxPF4Z/OPmHldr4rsUyc0xrU5dmI8ap3a7Ryi7Nnrsazv5FtEwHWEqkE0K+4B/V\n",
       "meA7iqDeLHgzAPN1hGkHntfBbZTK9h2P56ihSKTc/XbfVEZPOv/JI6g39EV9fiiSVZYesNhISz+6\n",
       "Lb/nU5RNT+wKVzQdv7Ajtrb6BXlPQPpROlgEwNNE7rAlIbItC4z2qULYJ+ZrqlbTxLLdA0ZScJQ+\n",
       "OkG9Q1tVq7kj0LMpmsRVoDj8QgrdGwMlBBtYWHeQ6+VS8IVsSrB0aOfSpypwDH8haCMJBqDkoGlW\n",
       "akDwDaQ2yZQ2POt7HYV5jZ6E/urEOyOL+amSCizA+6AgPJ+x0AAAen1sj5wnf/1uNLSPD+ImOxOL\n",
       "dU6aSkUzSNTvo28bsM66D2scc//wwHZdya3h2HmgE6Vf/9DjbS1fEeE5OWW29OUbvk5G+29WZupn\n",
       "3u27K5WJ8EFPgw2EAi0M/mbainN4ukXLv5kbwFOFpXyVyPpyGp9moPGnMIKtuOvsbWtaLxpjfMnR\n",
       "oZJWyaJS4NoZroL0QNlPgjKojSYt5+9PTlfRyLJ2+P4QgTk94fNbEgt+wt7IQU8uaw9De+38pCIX\n",
       "0Cawc1c1lKpBYLf/npxGpfm8FFTbwJpQvZe/WZ2CwkahStaPku78E4g7mCbMCO1v4tyn+H2cmAvk\n",
       "W/oW/Mdh/0u5oDk7cWsJwGVeIauaG/j3nCVuWDk8bjlQJ/rilsM75WLg0P+DjC/knAfV2mfMX1T1\n",
       "o0g2KS2BDtDj2QJvaAt8k5u7oGyoitWIyZOGmckm4ModmDSZhQo1M2kpAdE4PFFf/e25EdadOdgi\n",
       "OSc/hHOl4fYY0t4wSI9s8bqWXL7nTYp1pfS9+I29lXkVRPAC4hq0LkrTvq7V3cOCKyud+hISRoIu\n",
       "gwOMhTXVJEB76ftWyFuxC0DNNsEEvPv1RCNKJGuWxQgVbbKhaeUp1cvUaILIIEPQHMeOvTUc+FeX\n",
       "cK7MZuM0/vH+78PIVmohGsTQdNM37vdnE2Gw8Xsyi8cpkwv5T+auvZypOzvA5urY4G7hMR46hn23\n",
       "DHZZZz7QEE5WpPV6pcaZWQVz0PApjxw1KGlyhURHw2bqAJHDjJuryd0wnYPpaNq8MaHWP/hJXBhq\n",
       "M0H2fH7h+1Q382EdqiH/3MeNhiK9h1BLfCbbnn3C0/COMbNwhxSg0gKTOT7UXHmOWH7ShUtsYaJ3\n",
       "DgisrJhaX0geVoOU6pXoybM7qL1o6ggwv4PPqAHPv1RCKoIee8knDZux+r7BqV6PeMrQXEQ+Uhqm\n",
       "aleDgBO+Pj7Pj9w/aob+3lLY6FAee/bP8u0Yq2Okn2f1StNS1qmxJIhO4M0zk+1Fx5jkM+ho8Nt+\n",
       "eJ7KwFj22T0B1Lo1YHDsrlc9slT7laDlOqWJ+eX5IAtomaWlJ7+mxG5dzGavaxJJw4ybq8ncbxUH\n",
       "yruaHT7tvyV/Ocm4E+g6k/u9GWrWYroGJ5uUX04Wwi48xrtHY19jtyrdVYHDsrqNT9wcDK19bAnb\n",
       "aZ5lSaeRREnZbh0xyHlkQP9m5E3V7LqUXvbq3dmIK45DbZM4/Jdmw+a5cUhVGS3PJRI+M+d5NwgF\n",
       "0nPtonQRgnDdztqZeXu/gEGJxFmX7EMqbHd68yA6n1QGoD/KAPdjb4PMFBSaElEKgeyfL1fety/5\n",
       "Pz2/yRWajAjJV6NDwlKlz+vnBGF2mQCYwO20BAc+/VEkoTOBT5XuEE/6MEUZYuBe9CNPWwSvtLgg\n",
       "4ah+dZH/gJ77jU6rMB4dJfK/QKRJoxAwzoJxrwHncoEIYikNn85+zGazISMuTDL65g4BiobF+OY3\n",
       "65nR8j3uCKytW0lGcKB2YUEv2YKvt/x1CnQEbIwJou6DQhLz79UQkPrphfJiQKqqSBv1w9G/pb9U\n",
       "lCLXllEdY+iiyCrPN9U+CQ5WxV/9u9ansho31FxulpT2bKtQ1PFrdnlzmCbC0C0OaT7DiQpOEx8O\n",
       "ZiZF0D5NVgNvAe1+XUk2FMQFMgkz7Dz9ZCgmMqcscRMEiwPMAcBbXdgAAAMCuQAq8AQ8ARcAAAT8\n",
       "QZoibEFP/taMsAXglmuGxAAhMM7xtJW0Co5dGln0JWm+3eDNdJyHCtsyr+hsRqgbaJeA+Q32FbU6\n",
       "TBsxMPgC9g8TmlNozd09w0Vosb7sWOdTH/9jXMU853O12mmfwHqrpLeTdzN6fvyAwGBSy9Mpt7Mh\n",
       "RzMmPCM9DBqUSGHJK1VomCTvmCt/IufBh6E/oevHafg+MQ/CeNEsNip0/IK2kJjGFIiXuI7Fe5Bc\n",
       "qpZbmdFSV4h3XYroE0sj3ZGmM1Utp6vil7ZD8sgdQB9LBNrmJeYVEy97TNxztOUrIDdeQbEJyk1y\n",
       "SkuWhZFICocHJRqcYygv2HK9/WqYs7u1JGdz7SbiVI2oxZ39aLx7A4CCh/fnin5QdSwMXrkFbX5R\n",
       "vMfuyq7rXnyS7/ODyMMQjLmT5a0Cv/pjOQlyybMblhGTh6V9BZ/eQEPRBMxydxk9KREwBwACIk8e\n",
       "YCAT2o67SfzooYwpwmEYrSTX2dm/7OB040CXrVu5b59Qvz2Ym7oZs8/BKC8lxR5kM7Lk0FEaKyyq\n",
       "zc+zAgV2KvUMnx6cY+2aZJwGqsOY1MB91YdhzMqXlM+zC0esQGjixVI3wp7ngJ47hhAw8G3qlUBK\n",
       "K23T37gyTnJmOEN6zOlZsrRDdef9pbbBTJREhkExqqq2r2nlhigs1VS/w6/sTU+sfoXMz2rlQMFj\n",
       "tP6RJjlAli+fJ1aZhB9IkVckUelVAeNEYqG4aBjEI0AwYNjKnVBYBMJ3ia6vkHmFnf2f0XwPXH/I\n",
       "kWsurs85fMUIwyrAkGUVr1MnGtXnM3teJTnUKRdzdhr268h2/0iHQfAgloo7mFzVf4e8aDLKEDcK\n",
       "CD9NZ++9qzyypUYhn9oOLE/hUI6WCa/e3rI4mZShjBk/o+4xgDMXqNi9hOFu8EFA2Y+UqbVGFAGG\n",
       "uMWMFFlmrvXFVzZJFvTCtqM3uAjAKEiwjVFT6yVGiqZexdkTPnspKzEyk3WcRTR1M+R56VW5sYsn\n",
       "+QUOzDR63ALHSXaFvDWPT0quMhmf9MvNxsoARBSrt0X2aBMlEORvWUlOSGS3wLK8W89Ymh4oqp+A\n",
       "DtKTY8K69ec6MwItbgJTj9Hk9yagaI3+twkamrDHlZSpDskvP7YbYvgfoqTyFx2q/mkz+5pd9pNZ\n",
       "smsoBburM50G7B3De7b/gbL5cOEOuytnlJwjt2NK9U/+H0WeIxdN3HnOTCg/QTxYo1aH38wKDjfx\n",
       "n/5aX8yFqh5m+fYV3kgbkr4Jq7zMa89cxD3mp5tcEBVtkLR8MpeT7oC/6HUjrm63/OdrBClnWtBk\n",
       "ysgQMkvCp5qCn8Dy4I2FzJnnCAvNDrj/r6pX7sQa1MKPIsSMPP2QYXX4zxC3nQi9etA3WTBC4xpd\n",
       "WoWcIvG1noUrjM0RhXmUbMugiy5J5vcBgcV7RXjo7F6r1LwpfCltQQBhyX2C1DIaV9ZWGVs6HCsq\n",
       "wt/FGfzWuQZaXPbQ+lcULgK4bX4r1nawByNLMjonVM0OZn2+nlhbspGXEr12TVClqpnw4fG3Uqtk\n",
       "7u4d73RrovPB8KEV+P/TLDMhq5H9Ml8EuJqVQb21rc9EgDbkwIOHPLye7z5pSOexdXlQ7H+Hxz4J\n",
       "BDZDuYidgmQnbeUmPKQPni4Bc1Edln2I3Wi4c6dqNRgqdzz6CAEbufFBsfZXscNOh27fkPaEwa8i\n",
       "QPk07MSvmAkHDPyWynoHSVueGhtUwAAAAWsBnkF5D/8AO8R5eXJdoIAQqCQFOZshjbfKVZ6ixtcS\n",
       "pQtBiJz4u/WDZlHQoxHQjj05ndhUiCcx5yeXEq5y/RTFW4gwl3r3deWNlr9kx7gUdodDBJ6BjIxZ\n",
       "emExMkcBslyp3l0Z9C2s7/t7Ydksz0q8B2cEXGjkZl32Nh6NeoBYKSogjLDvl4QvJXJvn/69KqIu\n",
       "gDyzgrfo1HeJ3W2ujFFzOv0W3sANqWn6QCXctnBdvZh9d77YLB98iuI8JZIi82dmyzMRukrg6ViX\n",
       "zoiJ8SlytUmdZyWCP0rr6WFHrmK1q0kA0NhuOW6t7O0uDAXQAEwkU/FsrVnTqKnPQKksE8jlkWrO\n",
       "mcT/4daLfZashSz20TvcnNi68YWx8Lf0JsFIiylb/t1FKx97Eh7scf+1h7UWuOMvH+941pqBV8Ap\n",
       "1OK1tBCR28Er6/TYJbAhHlH1XtJ4JkGYd61ctU/7ZuvomyuziG+F8RovuC8ABv0AAAOfQZpGPCGT\n",
       "KYQT//61KoAWyJAFQARAcdimI7WwHmAOfwe5s3rJC347B82Syy2juDXC5Wi+RhtmZiks3GO4RCYm\n",
       "rU5ecMr0QN/yXONmHhChDM/RWCdBCKCnEBAqEkzaRxMQAOOXXkG7VvE3Kuv4xbE8nEqwe/ni1n6F\n",
       "zFGs0o8WP8yvUYd54Y7gT6yvhSS//GJmug2rfU5+G9i991sNkUT3SblfjWT1TZgHy79PnRTsT+gy\n",
       "A/ggfpMQvUryuaky82hXS2Vyerf8KSo8dhEyqBdYRkq3zWYrEnJMD09Po0T7nmlgfx4uMb71p4K5\n",
       "OmZfnhL7BBxLQNa3WFIl+LS/gT1eZqzgalfBRmR9ErWp8sOt20Qd2H52LEkyOT6rRyfn8xmxy3hc\n",
       "VqRad72wF06xkNjtH0wR6guAMq08+Br5LRGI7aQWK2kk9Q58MIg2kwDKkvuTU5mnvoAPdYQ+c9Bg\n",
       "RbOKH6CAqDCkrFJ9TUEQ8drNRjemr3vq7OwSiDEkqoJFtuV0D0sPzV/RV9Nv2SO580tLs2kB/rtq\n",
       "4LoEweJXYz0EWYhPLmIdfZr3PyMRqgszpce1PAUsbW1odU9JOgRQk81kqFl+rQUaMsp+01hR7KBJ\n",
       "gQtk9riecVG/4Ro4ALVxheBOIMyS3tVH5HgEylSqJVo+d2vPd1BhSXTYlVvagABk3WQPRDEHBJ/P\n",
       "af+h1fyk5W9ofkgWPSvj7y8gXeXxXtjzzk73cyQi1d0EMUBmwJC6epRQbqDLuszDFaAL/azqy+qm\n",
       "beKAXgSzIlbE9KzGJmEunXJzsZdp+C9iTTPmPMfDBrttBSLtXWG7XBuYzCQGOju0dImPLEVkROFE\n",
       "c3RLIQUFA2Gl2USG3CFOxYlUpayKIRuMNQkCdqpFv18m5C3zcjdJZR/y9OriGO0Wms/5wFY3vQGj\n",
       "ZHpdeU3HkMDgkX51pLVhaJZic4ByLZBD9ZAgAWOjCt4/rmoFKvKXyZHDVi++4GQQUJf9nC1kcqgE\n",
       "cd5N+1cex68Kr3Zq4io2NDP11W40/5OR2sV2UghQ71HMD8/NXs0GrLFHzRa3HBtkNy0upAPNiDmC\n",
       "b+coo/aJYY9HTcGk9+H6bC7vHq3CqMYoPsFm3CYaay8F/rKKmshRpBXMMgxM1AOLUUfb7csmgx/i\n",
       "rR4E4/E4HS48nof02n+t7omupgnjI0KsuLaF5t2I0LQr0HKN7tYF6eUBJy4FU/GYoyILuocq+4Ck\n",
       "A68sbmLsnEWkAAAA2EGeZGpTwQ8AGztLJ/CpH/DELACaGYzFkX2xWxdTV8l00aZVHmvlepbmyCjK\n",
       "ZfHHFmFnRG7ejMa41MXNW7rZgF325R4dqcHL886BOmKT5dIhXcPGYyort/lpnxPJ4nGIAqELDH4w\n",
       "xK7UryIFLfQb93om/QDaIPHO89jB5h6M2A4b+NZLY7FjEAIB4wvvBL9ttJ5NbIhtRnV24yxuk+vu\n",
       "DbjBEhNDprYQoplBiDMs9EGM51oRd61HbLFI7sgRNZeXMgurRgJDxYwytzNutlAlzZpBp8tyRDQM\n",
       "+QAAAV8BnoN0Q/8AO79UNZSwyywAQnadaekeSwJAXSjYd2NGJZdzrc4QQWs7mHEjeBVEFnVbQW4M\n",
       "7PFk/6B4BPwEroxUOWfhWKanXQc98v2dMsODh2gLWZDGoeeU95kvkPNSNpDOXRJgtUbingH7BJw/\n",
       "I6lSNr5pXhiBNVa8BLkexZzhtevz7N+bjb/1eJiP2mWSF0+5OZiETGcroLLWLXTECth9V4OlR6bx\n",
       "FYHx/I0hl73f3c0MdFl5t6v5f7AgZ9H7A6xyxGUcz33QQEo1tLBwcDCn1BvZ/NwWnWV0flL3PDZj\n",
       "NlE5MIqAR3ZzAOuQB7eAW6Dov3eSSOoyxi3xxhh6b4W1W6OPRIb7QswxGXguwe2vq58Yj1hlDic5\n",
       "gTpPPHduYZIFr2MVx06QUVaXYcUIn7iCJx44edfGqPHhwSQ6ElP+0SEEHiYgRXY36uVIl7ob/+72\n",
       "u9fBuL2FVz9oo4PwEPEAAAFaAZ6FakP/ADvEeCHJLnMAGy0VwEi9xP5g1OPo6O2XP892N+nYYWyN\n",
       "8XCtcjd7+FCFO3btsyn5RiNpe1l1Eql9AfCiJgsODj2DSOxu55apUnRY3uLEJAWwkcTCoy0RZVxn\n",
       "P9LNr0whcWuf8k45Zid5dppByvstp1OuWCfvWKQgZw+vXcJ1wJADnFq4oPbsv0cMcpL7RVUTVsDJ\n",
       "85DvQYdsP5UCOZBj4pxbWLXWyAuljekgWv6/up4PWRCSADNSQbyHecBW5eyoD01X6/8IEdQVsepg\n",
       "asyv1B7aRQ/eEFeEi8s3Px/DAChZNSMdjyM70Lb3Zz37TE8JHSaGSHQi+EivP9jeS6zMPFCQlGQ+\n",
       "2CBOvcbFw3SE+loKWj2m1I3tffUcsXZTv6JSe2+EbRjHbhDof7PzXZ1GOHN+Dh9/6VAS+RpIUoF0\n",
       "SBgppWl3olMr0ty3eA8qhUruZYBxwQAAA55BmolJqEFomUwIKf/+1oywBtMxzv+F+N0QyEaAA46k\n",
       "kmJ+MZukpDacQm+10vaB2UYzajJ6srXWHQgEikIPadQSLGkb3P7vtLycumY39PqwPxNqDjXMJ4Vt\n",
       "O7ev37MoeTzlMSIFIRA7NyAcHsqYmCux1NBLW24h2otwJd25nNPR0qN5PGdGP2Ba7Bt+ah8Hf/h5\n",
       "gfNLfqPcF6jbIhRb/qzTg/D8/op1dmngAnYTUreCrH4dRjLFdpid/7S93W/o/B1h7P8GzdBxByZU\n",
       "2uI3iqUpzKQq6ETwlUAe51plTOBwcMaELVQNkIg8YCeNGjxeb8YbYBzuXYqbVkzU+v2rBQVRxHCI\n",
       "mUd0/GUML1wKgEnuWMstacaEb6h4DcPvnBE/rSPK38immQjtzR8G/nWhWL19ZGGObfpdFKBYhIO7\n",
       "WYfdsK1RyABg73NAg07ML/vVb1ezPtongL+UrOngQgqDXOSS7jIZnwy8KxKqrf0MqFQZ+p+e6pjW\n",
       "tDpoe3NzHL50hw8oaUql4VeYwWdtiLLSIYXqJa4k8J3XEHR7b+hy/AJirfAz2pAZpMczCe3Ub7+N\n",
       "3B81stjahTokLMaN9TbIOXwvwVuzF3EIqSx84Nq0tncbHUW/wp3UBFVf/4Wg1KvX6BWTckV6m6PO\n",
       "btjsNicbsHCaMkzOwP11zbBwPR6hume6jQcRbsTrEDYgL4zHEhL2QSIDdS1jMtbQeFVGSuZvf/It\n",
       "2G/jKE4mM8q6zdnuSosTriwKmQk6Wxwca6nPZLER/sq5iY+lkg72ojo0Ake3Rs7QGJ/NE959Hhfu\n",
       "kO3F1198teD7sM0TQq8QLUTa7wTJ33RD7IlkYv9zcUAJa6YjMhpMQDhGBgvUyf8irQ9ZkC8XmZGt\n",
       "n0L9xN8F0AtAQTm+acdmVjKnU9ygfIiim/0bEwJu0B/5yGy6IpJ8a7iNEHTWrjKxDnJquQJdb9UT\n",
       "u41BXRZ03iZSeNsw8kpNf9Z2eQDjPkY99bh5vh/qKjqn3xHCiVZK58y1WbHUpRI7ugreTXe94cP1\n",
       "gPrUoK5B2Vfy8saL9NNAf4usRaT9aWMn2+vy4IrRHcs4vOQy3EPtwbj1Njvcrd2GWSbhZrUYDbX5\n",
       "3kuIaUfI8qJ7q8BzGU3FRD53KPCBvbXUtPeGwgkL0O2IoUaD+1jw8NlOYJGqivf3hSGBLYJzxm+L\n",
       "Hn+HqBecfm1dPXRWzWTqYj4K9P/9bIQ49ggAEYA3vZIKHyA1zbIrYQAAAbNBnqdFESwQ/wAeO/rG\n",
       "h/W/7fFUrpMAADs0e3jfEyT8C629oILqkE6i9s32+Ckxh9WYUrmtcc7vA1vj2VaDuivn1YHlpndE\n",
       "+jo0udknsD6yhHRpGyFSi3Noi76sqMZeq4I61ztn0lzDqdqvYGHFaPgyHaAILF6pB510/Z4NnraY\n",
       "FIrdGeHEAm32TfTbTp+EweNSWTj2lyBEgM+/iKTi+vMI5LYyhRhkNCSikXtQIOVSTYgxxvTOpayv\n",
       "E37GMN1zdmZt96ZvdbPqWIgmEVaW4eLrlVSckneSS6Y3SJ4IBVhPbTc/uRaXfRbpqIfEBHto0WYv\n",
       "Eniu2gDD9H8spDYi7bvXyViWj/UQ22wFm1kz1s7ejQVt9bydd0rr57Ldl9qd9OrX/wpk98+isL+c\n",
       "nFP6CWpfP1ifnH2HkBnKzqD0dCwKYEGGGGzdt3XuxnqlWeBl0XF8KZx8aXqWMrtCUin8d8RH3rxz\n",
       "tPmkvqbQu2TZaD76ZJfs1iDg9LfLq0aCIR+5RHJsOE3ndKIYzE0Nov4Kc94X92s5K8xqrPp4h5qE\n",
       "r2GTRTTVJgAUgWtWJrfxENfPSCBYAf4AAAEbAZ7IakP/AELaNIOBQ/qrMgfMAEQfFFTBu0XxFXma\n",
       "ijkIPYrG8MN4QbOyC0ulWs7HCOmgiU4yQlFsQnGFESViIsac+cXz8GguGFf5hK6riJ5+JSuUUj+5\n",
       "U/hSXGVDqnNRQdAztLv85GDEifVRcpg3RXDHqhoNQUTSWcvAPejhO8l6be2AGZLXqQKAwHCzpC0A\n",
       "nun/tityixgU2TjBmRpzunbaCTekXOu7Hjxmv01WIv/evMT2APT/ShUYMsRAVnBnHjtxixK850oH\n",
       "Y0nxHxWtc+8TFQUUmExoYeB0s67G+ucZp3TbMqiLNX68UI0Jq5A6+QeXb6Q7nuL1EqVHd3rby7h4\n",
       "v0QwlMHfXLfA9IqpLnG95jp2669EnQAFTAAAAwFBms1JqEFsmUwIKf/+1oywBeCkow/wADnN8Izp\n",
       "oEaxvTTURsk1kUFChhvn3EJMP8RPqz8qqnLGj5FCzJ2cn3fFNXVu+T6lcZs1fD0PFZa2sIMX1Beh\n",
       "4C2NjhVfbnTD/WJSFwRdiUcikrttXmzeI90fyMNtK6sPHAy02FqyCtjrTyWwh69feA8UM8JnALwP\n",
       "VjgAGgq4HL2bGH4Q8s6jEc+pv0IEgN0f7OdX7F9TY93Vt5DmXp3BnhgmZNhORIj4p5K1NZ0URKgN\n",
       "5Xmco8sdAWqkTBlBZJkZs3AormCe0YXqNf/wzBw9tlRJ6VgT0GqNGkRKXj4o5oEUTKZ6H6RnDGvd\n",
       "8N7owod53KUWY7rQ1xYu6KKPA6YsUj2Xx7OFUy3sRplzRePdcT0WyymCdBYI/52mRu3vxN0hOI0F\n",
       "woVSAbqUiJ4h2LuxD0YaqOaOnUa/UjT9M7kRxy6ivELaURJWb5f2BvcYgXvCT7bopIXIC4xD+Y4x\n",
       "jTvz4BxlGt9z6MzeEbR6Mw21xq3XJstxWNfwalKHD4chX30QTazUL7v0fGWsiSqRybvYVcKkuJFF\n",
       "HVF+8izmymZDEZlBqMNtr8AADGRLtsiKLMH6SiN6DNlJASkOVzE0Rqd6HaKoCbfQSqVkfAaHUeK4\n",
       "JC5vI1BGHPbYnfuEei/+cG1nD/rdrpytuqGAQRGAqck9yx5BCHQGlaeHo/7KJVEssL96pwaNy/sR\n",
       "DgpURMhfZINRM7A6p0fBkoyAWHnfH7byoglwJ8dsWIHTvmM2yZhtE+mVdTL2KkRGIL6bgFgBYLV0\n",
       "Nf1Nl6qlbGANt4sk1K/CXQg/+nG/pTCR8n9yA1tMID8szWautV6E/7nbSAY1M2pS6jt5Dor48WV5\n",
       "E5y+FNQbutaBr9WqePWUW2ov5TAqU0+7qC4cbcjRaHYpF65SdNFktBnqZuC6jg4st5BkUe0RrMXK\n",
       "4C867V9NOWTjLnrwG2D4mtZ1Jp18y/3nPAqHtyjCteafQdcUS6p/su5WqaxDeDLRADnCkv8Es8W1\n",
       "AAAArkGe60UVLBD/ABt7+saH9dz42VCz3AABbprHTsDp1RUiiPXMeZ8Ga6OEKG8+yvSfnENU36Vb\n",
       "AJetdHEd/OT7ff6q+OIXyJ/LwfYpQ4XwRdPlLRDexHdJwa/uaoIsG1EhKjDPYfRLS+8Km/SIO36x\n",
       "GEG6EN7A9v/g6MQNrIMqHnLVZWnk8SMnq4swIWAxfngsRE0Qj8vyVTx62FheWGeuvD2tKBQgpsYD\n",
       "j+F+wDQK+AAAAPsBnwp0Q/8ANeVmAD+ZilRSr0vCzSSwbRXfzlLAS5zp2DviVLo89QaNDboABkbE\n",
       "JQJr/PN7Ib3RPIN2lzcr1oTM8aORkRBMZLLhlkHZW9aRUfW1V6fT2qQAWiSOzq5hTwGhtto+XOB0\n",
       "Toe4XLs+S9ac4nVZY/7dvFCh/+4XwxsoGU3BbbOGN/t+3u7aqK/oJ8XfIjz6PFvpgrayj/JO1l9b\n",
       "Hj++yp+HaFsCJktFW8/CVjsnyJ6Aq6n+dT8EYaYkAGm+YRHKAE1Zp71tE72tIUmf6TSy0wHnhh1x\n",
       "W6nZAPZPqL5cMPbDuctK/39DLxof8FLZpcFCdxAeI+AHTAAAAHwBnwxqQ/8APH2MilFrldLMxqIS\n",
       "d4988WTLvwAt4U81Q2St64AWvhLIg8xk/36dBOG3GMUisItjxVPaFJ1Jx7/d8W3cFzcMxbamfSnG\n",
       "pBf0/TFnb8x6+Ley0ZTjcGTEAbq11EBWF62dA2ocm+w1FfyovVxpu4e3uoVzAA6ZAAAFXUGbEUmo\n",
       "QWyZTAgp//7WjLAGF59iACWt+DSnxVZM8dCC/3+OfKMEIBpi1rojNRiJFBvnBrLqJLH2qPgBQnbI\n",
       "4qgq5bJYPw/uGAvNj6Kqi2pXLuRZeXDXAjcovqSPM6bDSpHs9odmRXsBo59SlFoiaW19+Qv/wfML\n",
       "dur0MAF5YLMrEMGPomEjZWDQp7QiwsztWj2jELAZlgJbnmBaJpqEmboTadNKYqFHpdkceKrJmtBL\n",
       "uR3Himv3OGLfYcBo8GkKAZEQRQzPeDi0WxE3t6ohxOFcCTEZo0tRMyIIqDCMeV7DINGEPjHhHobB\n",
       "/KdpzGuJdHViC9nFxcQsv9LXjZhcpvarY2NGwPmDsRZpdyNzUjKxzUdaRCredWmHw3YzWNYA+uU2\n",
       "vb5zzQJA5Tw0CdYQNLWKSeX/nQeRKBlXeXeWX0m+WA/kHuD3BmBIRGSKjuqvKdVsjHlzHJI8qe31\n",
       "/23ckLqGu+KuT33qDjdUFF9/+qrLx6azPpw2VxhfuVkt2YwBBU90f/TqYWGVxyYvxswpOtFQNikc\n",
       "SUMWuieAqTxDFBMtejbydiotZnpBxM4PEXgKwasiZ+ScwtI5rQhDurzFkA9QsOSa16bubsxgHGCi\n",
       "NRz7XU5E+qZtO0khzXVLHHWJPpLCEYUK0zDKPo+pbnBGIl0BN4zmwWw9jwjOCe4i+oTrMPV/kv2i\n",
       "KhOn/Qq+/NwAIik0NP6YxNH2t89uS4ggL953Wiqd3plrSgns+v0g12co1mjnKa2ZivLOjeEqysja\n",
       "IzNZ5BRLgvESKCeYhe7zrcWAgnKECZXpPCltWk6fuDtjzJ8qV9RRZPm/zvJZRNbFhdQBa8BrOXkw\n",
       "pd4SNSwdhhcYWzuIeP5GN4nzXq9LTUEt8LBmMc7N6ZjH6TQHgfOPP//8eJZuLCaCv0E70+nYjk6u\n",
       "VikRf/PMh/ewl5qiMO/urytIPcK3SlxxqQ7oHjG1sCeDklq0gzG5jT47/Wn1Y9G3wA6nckagZ+rO\n",
       "TExCcf9FjY+0zA7H9VbvRqhyGzAZSqwTRrgHWA1ADr1XejMfuKj9n/EhgDvWC7p6k19Z5cguk8Um\n",
       "Y0CvFSyMm/JqMe7jr+w1XqrbPNquxhDhEI6wy3q0GoDHw4aZD2yY/sph8jmP9ShMHLt5OuEr3odf\n",
       "76YW6a17j95aLGa0VCxpACg0ulxOjrm3z8rdWEHjR712xDqPG3LHLBIJN/6uLn3CJwSQ8+Ays9NG\n",
       "QyXY8aP//2fgdkxWNXrefFJ4cErLM/PYZpaDEOEvX+FkTx/fnd2/wHeeADv+vLTZLb++ENc36nNz\n",
       "HBuHS4h95/Ftkopg2lxdi0GA+/tYf6/loJQZAjOmlAvXSpmITQfVVb8dSsvDtghZb986UhWXciw3\n",
       "2U+FCix1nsUvOkH9Sp5iNuMuER78m29rgxYYh4npRBWFCvSmrnuktqPeW0M9BayW3K8jwIASQFJh\n",
       "YAAL+lCZZouV6pjA9k+RvCL1baDradIsDB7niEtIOMQy9OMgR0sf+NA7GrC6hlCiYJ0MBIGnzEY8\n",
       "m9RXgZ6YsiyJ51F3vpmou22ALSZ5hzk5Q+Fh3Rn+QSPrJQaqobNTXYRDbk98OOG12+z31jaw/vmi\n",
       "dERQXegdBrNnwmu4wTSrgByGZg06iecgTRQ//I+akKZ8Cy6tKrMsAxs4i1pQBwnm3BzQNosQjByk\n",
       "PEwzxJOTBlhA5xYbgBmvmz1G5cMaIoZJISdoxcSQ6EwLXtoi4wNt+I/UA6ck6zn+uKhccYKn/C/T\n",
       "HFXL/eeCVvSy8Cm57IgN79l2YfRsj8sjAPVW6bMMuq5sXGEbnYMRRcmNiAcTDD6LGgDJCrJDAM+B\n",
       "AAABYUGfL0UVLBD/ABvTBnBVidEswAcbjx5u5xR7zdSNu4v8nMWP+UotixXHFoEvRCCaZN36pEiR\n",
       "BeGzxyfk+mg9Jt+5WYQTJAWod1+Vm9O5PAkcKBMhpj6IsqayLnh5z0QVJT7mGPeF61lV31Xh3AdR\n",
       "LDPSI36FuK5jAA5eCRrJ/DE/eaQIHGJfPIbiIi2ROYN+UZ/vD8dh1Kxt4j/xDT57NvwbgPsCtwxB\n",
       "Gk1YK8kdPBXxHHptIuclh8BqFpgqHhpyqNrjRLg/yyVeh2NFoeIDn9EGfxVZgFJC812s0pFyQmxu\n",
       "BBtsnteJAA3FgU9G+sGv3zbEMxw5BuHM7PGWfSyxvjFlsnbnSGASVNWvxCSNZO1Sd6LhMJtiAadE\n",
       "zI6fTowCVCceCdTXwflQ2n6VJ3VhK6mvvDp0bObDgSTcBcVvydMGU8Vb0wYe5D+7b7YuShtguSVF\n",
       "k9BMujifnGw4E1FZABwRAAABEAGfTnRD/wA91d0W0GA6poAJ2+RK8QO+Uyu2RxalbQLOHo2D01uq\n",
       "ECOEJu82Re572bpejWBrx67wXBsJsG4fzyeFfxosNC5+BKdvb4GOl1O+nxZ5sM8mZMoZhRuualx/\n",
       "6V1tn7QTmPoP6qrdSs7iI1a3K3awxJRr5BZBBvHYJs4JmDa5+EXbFfPfGvKAMjxEn/uxHj3umBo8\n",
       "NYut0Jy2B/vjxTD+RmnAAR54AnuBhCeDkVUXqJcVSiir3LPIZ+e5s5HOwMBBUtZ+oHt/O+C0D8EZ\n",
       "PS68IB2wCWV7sMBYU2fkYk7ltlJ9bk5Pb6amQG8URhtcR7p7DrdtWipKD9sq6iyWuY+/PgLwDe5r\n",
       "CxDsrAO6AAABcgGfUGpD/wA93Yyh9gA/pEJPpwWwrNjiQZNKxCcD7X5/8y04QqBxgp8s9xVQxwMZ\n",
       "Vlp1twCfhn2gy06g5tcUeTSilSkKvqwibUGVfhvC8B0HhcZFMrzTR8+g/paxK8qEBjindngYzwg9\n",
       "oeoFkZkN/GMKnK7v4KKAd1CzbxWLsl9gdhEppKjqTtVpMsWG7AzR0VkMrS4iX5XX/r9PGdrIswuI\n",
       "3kHzfMZ0tsLMbj7FPvN27QKgMJF3yd1TPCkaD4OIhqa5e8q6tVTBfYXyLtMZywKdHkkRHqemJrkm\n",
       "j6tVTNf0KVkGj3JceaI8XLc6JV0H0TVWU85eOR+lPNR8LrDDKSIX3uS2sAHOixS01SffMHn28SdY\n",
       "KqcDrKl5Fa/ag9tvGsVdbvE1Aj5LaxrjXztREe+4KKW4GYc0ibZO6SE3J8qCdMeLF22X4xAKaqW7\n",
       "Bq/Vc9kMS1k8wmyLCznyB/4fMrsUVbrP0ldm5XbPE16ovBYATcAAAAVTQZtVSahBbJlMCCn//taM\n",
       "sAYWTjMzKYgAlrbxGmT2YnBBrPszVEIADWmeE4Ti20ujR1PaN82TPJMmS4hUhfehosDpICk/NbaQ\n",
       "zV0UHdYb+wtul8N369J39luOBUzuwbdi8uBFGadQvW2V0AKtL8sO5j6gS2N3BOFWBZV2KbuZju64\n",
       "3l0AfomIBKQYUdmemPxL/dz+7rJ1YmH7TZ0xn8RQJurn4gMQFkKAaFsHmaytJMnBECNI4QyhhKR7\n",
       "zHSHXP1knBfm9NShDmyAUBmKdfpIjrBzSQH9KgK36/k5//hMhWSdCryyn/KAQT5ii7xYuhkVPyOS\n",
       "6WHVkQbSKu3cYUwyW0/4fofoAYrR3/FU13Y5RiTvzu3mRzGk4f1Z+TfxX33+MW0+EbQdq6waXkQZ\n",
       "pqJaYNGMORq0xw/prpsDa/+lg+o7m37OzfCAg5Bh/AQXJfrsn62R0NCpv7aY4MUlvgkQU8h8/N7v\n",
       "fd+qOCtTVx5TOohDOkxWzlPHV66CNHzjF+39ob/cWmqVC+M13nprfp4dFOM7+CqO9C/+DjqXLAmy\n",
       "I/73D0Eqpfhs24pzJh+BFO0NhWzcAAD9pXKgkDl1cozOvNwh8V7bebbnJJdxkMYpssks/IoHfhws\n",
       "5i/GNTk6rjr7xMo4yAm8/aQiKjNsVChKxv69dAvu88NgT0JsXZoWxAb8Jg7V3A5sJCINmXejpuov\n",
       "Ru/ew0kqgzCUOSxxzUqGnx60ogMCkfsGqGBaig/yrHc4LrdCJlKTX51VvgOVkxnCWpqA03cydFA7\n",
       "7jRFkft2BcX+GpiYv4RnBq30F7uUdBLsjWEQeOJZJSu67u+eUV+RlxFtAM8LMYo+u1moymCTmw7P\n",
       "gQBJqKuvSSvxdUnyMYTEFt/uPf7donw/7cuFCMyFxelvMkwI3Zy4K7MXaBrbwERJCLti+R5jSDt2\n",
       "n225nQtW4y53kNpN5OGumtnDYr8Dzni9WGp0Z6ppf7Wp9tScpd/pCsAv+7Luq/wirLu5BQhjnLOz\n",
       "efV0Tq3Q3fPNCDS5pclErKvJd2qb3FVIiRhQy4I57LSCKgMnp6fomuEG97WKdD709OWq6tKgExRR\n",
       "4lqNQ5CTN5zX5sDPAQngkYzOvvn61vquwYGRcduT2eUwXPZRC1ASqw4ZpOLLHN+NWjzl+jlbgX77\n",
       "SH6+oim77BJvd/QSMKLy3SChyAdjC4DU3B8Trl+mGPDxzF4+Jod4k511j5F3dQdiWZxn7XVfujL4\n",
       "gqoxwxtQKSkL2BaAJlXGJdCL+Yv29b6WFygrZV1fBbxZcas5OrrfnwndH3IOEjDpD9ZXfdmiZ6Ms\n",
       "7Hu6eDY7PmpLp9dl5wTfihJl1YN3oOMGOiJJm0jxS7I0ZARLA3wQf6j/bEGVMIfYWyNpAdEsJh+/\n",
       "5uQ7PCHZwjboUehnYEpoZ1VfVR6kJSMz0P7NdLDgZ+OiCu3x2FvWETI4GqK36MhTujAWbFvpvGmh\n",
       "Q5aStknBtTZx8dn/lJZTuyxHip/UnDh18S224YdOVqCaFTRqJ5PSPCQJjavJBo4fuKnllWp040qM\n",
       "uqGGQzlrbB4OuDoIaR+fXQyC+RpJ4HbF9c6IgFtbZq849+SrnQGNcp1kN+YELqrcd1QEzA1xK217\n",
       "H4GP2HtCgIowOSQJi8dmVww6z1hvv3AYNVmuJnyYe8/Bs2wIF0aNPbOpSiMq0lu+ulM7OX5duexy\n",
       "M9y2wRSe+siJOW7QuraSH4CK06wr8NXeavFZxd3zZLOrmr7WxhkP4P2a4iEOIYZixoFWuIheQAH4\n",
       "SySOTiKWdRyWQis2XUP+PzGa2Kbc7Bf1uOWFC9bC7RPwUYCdgQAAAQRBn3NFFSwQ/wAcK/rMfAAN\n",
       "qvOSpXehtMhVy9fhY42K4nLpAHXqt1thU8z/OCHx8EbJDFSKCCVhIDegp+CGuz9WpL1c2zBwEhrw\n",
       "yj9XuJHJQB4lsbU1S2SURGT0VgcoycSAbVyaCMbhQlB6eUh/6eI33mrElj7y6K51GNW0nJa8S6bf\n",
       "wU6GFYKphgSglOMduQcil8OxFHBh2hoT0c3EHg1/3yc28fsHNLjfYYAzfR7ypkMDACK1GDBQiTIa\n",
       "VTgcweqTAkAHCroqi+8nDsmQU8ix/+GgRAlzpMqFa2R0zAPY2jlZkE5Yze8zJOQ/NkWf5ef8x3Kr\n",
       "lZ6WS3kFtJz2D5T90MADKgAAAUIBn5J0Q/8APLhUAH9IaKXVqTYf0b7+NlkMTd3ck/4sUpfUe5NU\n",
       "DbFm5ynZRPCNv5SNIPtBdhYL/fRReeZdSTGhzO/gsWDhrJybfcn+TBjRLgmnCPMFACMqBiCClSAR\n",
       "n8+r58naLutTqDw3XBTKjL9lPBy+gJ4sKijJqXQwe+g6VLQ7ilFu3Uqqy2e3vNHDict2FmuyHhAH\n",
       "IxqXCVOLI1del2apuewDzdwPzNUCv+otTxtPzfA0Uo0qiM2LKjCUmIpv+1cxszhqcY+k31lrL0O3\n",
       "MU8Xr++fT70yfEADuVMIc0iX3BBDi+2pYHf9M6u3PfIo/RJH/d5rQnzDPcSwqEVrX31WHOxD/Vvs\n",
       "vnVNdWkA2mUXQ23eLEQwIJJC6lDAKwqNd/nnQy1KC0rqDR9rBsN1JftsA649yKT6mfSmTRfwAKSA\n",
       "AAABFAGflGpD/wA93Y02PCADahHvWB2AQz9derMNxU+3lzqZG0nxcDnXU8+rVtiZev92bVm+IcA2\n",
       "LO6ktiN53q/sUqHaa2Z+3tkz9p0M86ed8u77qTOrL6XCoojWPNqCBYJXq5ubonfH4T0ROkjxxl/n\n",
       "wFPqJOTiqKBN+QbmpCULXlfd0tnLO2Ldk8ABRptc0Q/r/JVABHYoaN/iL6+EjMkoGlueJkEvCuj8\n",
       "4YzXs15i1N0/uYM6U8iGZfUqB/6OQBcNU68qPPgKf6soRfpHVuL/ELz+8pUlNfdhji4RJqNCgdtH\n",
       "tzf3sREwrKBreYmV4zclrAA8DbvjiS5CSPBap0Xnr8qu0B41mBmZ/ERl6kA4FSXnxAD2gQAAA5tB\n",
       "m5lJqEFsmUwIKf/+1oywBeVihUAEvnNwG+bOTq42si2XhWiNh2qGXxiV7mwYCsO37sKscEav4byf\n",
       "g+7ucIljDBVfjkRPxGNW00rCCE/tqkcJkXzSI2nFU0CWqKqa4k5wu9ONwNXvHylBldblIcwLPRwx\n",
       "KiWeVAHftZKkqdadiI7May+pDhJE6F9GoJRUtpe/4TJLvdYCnkmOi9rDoF15KD5TkLCpAcXvB3rk\n",
       "VPJ3Ratobx/fJwx1sPlL4ww0sjshjUJvfSQ2Q5XtGqoch62sVuq6/nkcL6utlVCEVFIRFZ+Ob+/J\n",
       "FzZFycKM/VnojsGQ6iflW0xsftJODSnCet9rHgSNtha6Kis4C4mjNJH9hmXXFRkGbYmM4MeOLQig\n",
       "nfeRY8i7i/qv5PqQIiD44G3HZjqQoVChwJAhml2pzSlSKDgFNqKZAnAQ4wfM4w88g1XU4pH3f397\n",
       "ZMSoFR5m1mxkI/f9Y/vIdI7Mj230ODlTVNHxBFwnGCQLF8OmPdXeOJibGYIUt5Mw4TzUOPxXaIGy\n",
       "y3zQbtXVBukMkYjXVfWK27qWv9VpV5FIfyD69XmW1WSMYj25L3uG1z2LX6UfZ2Hfa/AAGvTS8UD3\n",
       "QNO7Dhbz5tQQjIM6D8FDy4/rKvqtPwwJS3ckQyppURwIIUzaz/0xkHFgUYQj1S4MpfAjoQuXaPfd\n",
       "sZcDgNx/4uMZrEuLPjwxtEmoB2U9tV2R8uHIlPjMvL5QXpKTCPiRRGwpeNRMy3NwZAtn+zO1tfka\n",
       "yrOwS1nZmMrQwAuHMvevcSDuoRXqzgnULuHsLhqX9I1/U8GLGl9XWC0uYXkmcbeBW0cfwoS5xtSs\n",
       "oheLeL1xyBGMLgk50hHFHj7OilPgEXokU/0D4sTpICDPPAss3gzM3enDZXmBgXXclKsqxYTAYKHt\n",
       "/6CXjxaOwfRbf8sbyBX2GOHHAXMmqHgPKm1Oa/J/ExDiDDWPHJ9Q79kgzYOYJRXf+QV4+3JTzx0o\n",
       "YsBdhasdZhXdeDFg7YHQ3BjMeWLxhGhCj3gQLANn3UmY9NGW6IHWrHJ+GoOBwpiDJLrQC5p1e4SO\n",
       "Ru6pnIezou52ujxJgGrN4DNt1iNAy63+M/OC+LhrdMxuU4KN4la58Iloz2G11tkMc1WOFSmDAGwF\n",
       "re8HX4QuAWTsq61YH5R/R4lNzlNPjN50k7et4F72HOK8isyB7ICO0UCanJYTpzx44DC7oMo6OCkL\n",
       "WUbx0dhweFIC2gAAARlBn7dFFSwQ/wAbMPa+bzoAAmr5X5M+4FybqLV82RtREZHDcLuFadEv2PiO\n",
       "9O6duj+jUcdfvtQoWGcbbs1NjxBE5McXAfR3VLNcAppsFZfUNBgX4PhfqZ/2T/FNQbevH7ofBfgq\n",
       "A80lkO/OSrOTrIC0OJ+nASZAthH1cUazzIxCMbKo/lbA3+anz9zim/AOcfGNg/zraXJndeworh9j\n",
       "IIbPFR1nG2NZNpRqxVYyoMG0znu0hmsOz2ArdDFfV/672SwPDQpy94XJ/GGNXsnGprZI6+YbruUW\n",
       "RWR/Z2ihvWACR0LA0F5+ZJnhMw8B+9zPZS5SfJAbOfcPZmjZYJPcKSLk/dKMGtlkOyBWmgLE6qC8\n",
       "9BFdHkmjtAC9gQAAAOUBn9Z0Q/8AO78qi45F+ACdvjzVA5b+TSh1N/tBCAGid0TTz61lruzQIidR\n",
       "D74zTaDjH84O1tUN34MuBrQ/caSpPSM1KN2f0KfNx/M/hOAxw8PgCUD1i9udLmTJ5JxkRDEO8v21\n",
       "BQu9fPIdQ+0mpJ71+cAPmZYIoaAE0KkjqDvKnDopiHVJrcO8n78GeG7lFRl9b/dKU2M3K17NlCYX\n",
       "o86CDNLf1xgAs2ygtB87IoyWgjdCOvUsY04PNbvGsPwEledtc84AKKh6KsYDktJkp4kahl5i6Km8\n",
       "YW+tYpEP7a947dqLEAMDAAAAygGf2GpD/wA8VwHPABCnx5eD9nOYWn7dhmckR4MQsbXnl+38IW/u\n",
       "VaWcdYge3Kmk5bQk1cGRuHZnLlMBq7gi489xC6IHEShCfdC7XrULG2BqRwMEXZwX/ek49oOTeZSU\n",
       "0ZII2QDyAPjZQ/G1WVeG884CI2nwAO752u2yih5wavpd0kJxu779dUHLvK2YYwrHtUCskAo8ioJG\n",
       "UwH6iISGUZPT5njZNXkjWaJlEWyU/9fADvhonMOK8xIpgDRZhvpIcX6QCSThl0cAb0AAAAMPQZvd\n",
       "SahBbJlMCCn//taMsAYWVFU8nlxewAS1vhHFnggLsjNKCbzQEWhswEYPzkNGw8d/Nb7mXpwoEaCQ\n",
       "j2nRKl+0jDaUtpoJkgcWHI6yegTWsKMd/Z9PM2qHdfXafrDpa73Mi6SzkK+CFbMQDYBGqhATh2Xd\n",
       "/i/xAkNPF7Z8JFbLNFqSN9xfuF8LBIlgy616TFPxnNKCEmM04eXAQb/oAgv/nOby7bGQw2Cx5b81\n",
       "5z0P+Wk8Oob8wYtodb8psBUogCtT6rhW3pUtqB7Lq3uvGCOzJEqlQHDEW4Ve6ckIRPAAdF0JKeKw\n",
       "zhtzqljFZ3hmrfSBQ1jh7OwA91Yw0aCtXxDGSYUhral9XHoLc9QIUEpDsPNkln5SKQAkg7gZxAxN\n",
       "AUqXKfJ/e6h0OioP5HU37wlC7ot2u6qsQaIyUfcdSsWePi+feJWTd+/a7Gwane2avZ4VWnNljwBe\n",
       "AXzlopyWZaQm2YI2GQ24yWHnTyO+AT+8/QDU0Zx3DuWG4heABehHPtNumICFnrIZz44NbIajdKCs\n",
       "xacpTzT+8ii8UGGW3+WGcw5134KJ7eQ1JcF2t4rdn4C/teaX/poYdZIFptvVHsE12Q926lbt/SbK\n",
       "fHhOD8A0ld4TyG+lqzDXZL2E3/tqhjJyQ5efkFj/8lHyAwh/1AexdcsZAWs03Zk/2t6G/n1j2FhL\n",
       "BHMiXnp3D68FcjYpORNtAGCHJTajH/ARBSP9I31x8kj+hAJmnS9u7h8bW3oV9c9+krN1QBWzsAgT\n",
       "+L+es3E8vBbYvVv+boc94/825HKosnfd0N+CgF1mmGtTBNd7kDhEp/wmQUHuBt/gc2vJcFyHiBMg\n",
       "8sVh7I5Dp3D8CpeY5ahX5DLDOV96Vojs3FTBDxAKvPVauQubf/1nVfIDncJbS4O15yQGDt1GYw/D\n",
       "+bcpCUoRhDhAuG3CulTgtEedPyRXjP2piw4JN29dh8wrDXkv4r/WjJS3Lzr+9+9+x/VXCMWvBfoB\n",
       "N0FeR5VelJYbNgcYXgGBg0MD7eFK9fTWwlslC5iUreJxFNC+0AJXAAABKkGf+0UVLBD/ABwp5ldG\n",
       "AAlq4Dqxv3ASWH68AfS/iAG4NBXzcfIwze/bfs+R/UzE6aTfh/hwlos0zuKxQPCNoRCpW03uijs8\n",
       "3kc2rgEupJ10/6pIp5tHOKRzDUDfGqGH4u1NH0ur2B+soFVvSA6l/PA5i+1I3YMBsgUyzNvkHU3l\n",
       "meiTu5MnqVuQpOTszGo8E7dyHj1dM1SkVr/VNVwBrkPimLAuFmo+Jxivt/jJxFaZPnsk6/bK/tc8\n",
       "JOUj4Zy33JFf7x6pgxWcj9JBzz5VDe69A1krJ3xL4YRGuXdXzwRgM+BvndaARZfpMI7sCawvnCRX\n",
       "PVuihBaf3mnLBiTDjP4N/ZZemBGK9TYumc8GDnVG4u3nRflGTEqx1Y0wv+K35NvvY58UsCZwAk4A\n",
       "AADtAZ4adEP/AD3fk0Xl6dABO3yJP43cHF4h2Ax7uk6nvcZBq6ZbzGJcP/csrv1/6udU8ESzGLL6\n",
       "popwFGCVcS+cqfZQMYT43AmpCvJ691DePc/F4HfVuLqv05megAXvyXRJzT399EQ4HM25jqaOSN3X\n",
       "3xjUxq/0qcxheGM8CMw/QM4/5uhIpROWJKWPFv04JKPcZDlRyvaK6Myb54u6vEAWz6e15Fa5CozT\n",
       "yGnMEi0t6iJLEl7XlOnunJr1qnVHb6z0LdcNGV5F+LdeW7hLKj5aEtARoeabW8ufquwERaKMdy0V\n",
       "ytWPs/91ICBmkAb1AAAAqwGeHGpD/wA8fYyKUWuVohfHQyVABtQd0i1KxF4a400LOFAq5f5ZlmVn\n",
       "ZFbmEtlRBif/0jgQoIIBJJOK40k9GZvBdpE41GsrNLYwNtoJN6QeLB1rJXvNigx4oPuS3eCwB//O\n",
       "U6I+/5Xga/0YMsr1UNNWWLSiNLKa/NFgkdzpnISrrpgi80L7rKVPJ9y2N3b8GIg2H9t/2lAt8ziQ\n",
       "PaDVcfLjBqn8qJDnIQAk4QAABUtBmgFJqEFsmUwIKf/+1oywBhZAV5UH6QALdxjvSb9Tb3UWjjyQ\n",
       "25Sb8Kgh3cb5HEnfEV5N3tuU55+VipeWElo6BUUYrqlSaSU7PdUXgYksHDf6RDTFVjLYG1lYsBOl\n",
       "4U8lJvdAonXZIfR5Ebdxg8mMtZK3c+5fme1/IbnWl+v27PWkY1c/19IWA8Br65j6+LLBXM/Nihey\n",
       "yhSx4YCU+UK/jWPbjE+ntn4bjk8Ehi9tCvqT+jnKHhkKPo6+Yo9q9P++2zdvjaBlIRs5T4OOG5T7\n",
       "6TVveaPI0hKuWWYgvkKDXQ5rlK/zWvfNiYi1Sv5jqp7h37SUn/JmL+k0/NNoVeFMD7Q8lQH/YzCt\n",
       "xdTdcTTpwmo0K3dW+u0+BoLE4pbFmdTQb+EO3+/FS3EYZvLnLHi2MAOWeSyMJueJATyosMkUGikk\n",
       "XQmvRirOb5X4ELtLfDHeDXcFbMjcZjX/6NWV5dRGvpR3hYF0Qf4pD4vDH/TT9ev4beQtRmLqiYY7\n",
       "hkLU25nT/yWpTiNSb5ULaZCcCxI7iwGk9La96OI2xLIJgCWim1zr+6pV8bj9qR+Lz+vPevZvrbYZ\n",
       "I18VSrg2TgvKVAkIDJ2ajtEPbde3DFtm4ADnZODW7HfMMkxVm5P56+PAFzalIA5+agQoJS3zBTWW\n",
       "0rp7b8lEzgpCx8hHHkbLcf28di1c7FvIVC0EnYo5Ekoj53HJ3n8bvT+Gukd7lNEg6iCfR//VUwsR\n",
       "e0SoLeyEavGc6VqsVyg5pjDAIjZtlXC/IsPXaS0IcVWZ6aaZUJBE8lKEZ5GT3dOHyf1f3R8clrU5\n",
       "H0qbeGn400P6oZq7KY5WI3aDLDaKCERlAmtL3WkbNzouBLEEkxyYwsGWW5w2X68hRz/9OpcqFD7g\n",
       "8v8/kh+kVDVfa5wFNviEg9YILc9lXB2edlLX7ude/FE7L54bPNgyW5tU2F45s2+B7s8REJ4RW74I\n",
       "+rNxpF16BL/uoONipNNvR19zHtYdFF6/W3bOHGWnnPeWbv+3qnbgBuuCP++ioQISzVWquK2/Vfwf\n",
       "1LTqYDq9Unc91d6/OZUDfHGNJXSS0mxYNQxT8xLFbi7lircakPE2l32MhLp6LETyv83lwkFe46WQ\n",
       "7AsYntK0Q5ROlYhpHktnwK3PLRmh95ZhVglPvTUerRSA1kQgwZukCYoLeFeTIT3CS+Kt2RR69xHY\n",
       "GKHTYDJUdjIbCUaVRefA+buGNuHdEJWwwZyJbLI4zoB1LZ/3B5ihNfmNeIIvrJPbAv1l1AZhIou4\n",
       "RmSFm4wK2Sa4Ik92//0W2UsBKJREYgjlfTCo+BTyQngBfXXRYbD0W3ACQuYz7EZL/5cI7hu1HKaZ\n",
       "jRUnqp4FeFq3W3wBejfXsW0ZkiX6zFcaXjx51fDl5fJ4RDkb8+QRUbqvukAblmN7XrMQNQWRCkUD\n",
       "+ytv0C14cTSJK0bTaEWYt39MNptt3LcPBYJDNsWdEJ8PFZAKvAJX49yp2zGNEfneC+f+pgcx0jwy\n",
       "++htkXzXLDsT39swa6+e2swM6dONbtfAP8ByqIoSVZ2sI1SWRn/nR5j1LbpZD8SDBEkvQrlW9bZJ\n",
       "9yExRE3FKYs+4p0G3R3inBLhW/7+ZAQh3FTQ6BUD0/NP7S5YwCz5KBuK50wp/Kx3/iU/VGtA/Aaa\n",
       "P3jfEympMiKvTMgpFIJZt8lJs5FOLKt6fbk8T4BzL+SIYCT/onhEfcX0vm5ToLgIFUGg2Qrc7HY3\n",
       "POAVRW/8QNYQY2wgrptYnOGxxbaObdPbaVo2pJm++1G3cKXDO8EHKBOtZjQdcg90P0XbJBrLdhn8\n",
       "+cPYadcBNwAAARdBnj9FFSwQ/wAcK/oPobgAH7yvzw+JBE0WOo8KYysKv+gC6C72/vOE4HvCQSUV\n",
       "XJFhAjLRwMZ6xFZtGDdWlkYdeYPzcdn/0kWunfz/rsvVv9qZq0rM+ivsDlAOTNZWvNCjiiHg9zr1\n",
       "j+57LcMc6uavizaryeR1Al81BwZd7flRkc51lXeiYL7lS5pL7xwJRsDqrh/0bAOPhDel7pPjCyyg\n",
       "1EeJf3raUPbE8hyiUFQe9qBTt2m15BSIYokMUhaTXh/KFs9nXuWCzRnpBilq1jJg+8xjdivpIwK3\n",
       "Fq3eqATVZ51tHV1rp94SwsqcahUi5591L1BNIDvhNCsCnFt9cirPjUQraFGGP80V5VpHBuikStR5\n",
       "jXIAk4AAAAFcAZ5edEP/ADy4VAB/RlorPhjtzGVvnMVPl7QXbV1fMFUe/pQXVeiLRIVCKABg1htv\n",
       "kiFYaw1C/MzjZMyGIXiBtM0yrJKiXTnrdzOLXnkxKHQZGFgIraTiwzDdbRYgxkRR1k/R148IFMyd\n",
       "qhsj2PgKuarWyjwBfWd8/6mQrl8nnP7R018nk2zR73p1IjEPq1Q7f2GdnEEnXAaZXciRRQFqtBH5\n",
       "KWE+CZie/WXw0dxF/trIINxi4COFE+GG6UQcLyJfUMxzl34BqHkJAPn+dJhG8vlMpuf+MCKJMdrZ\n",
       "D6m+LAku6XqJqNpeeyZzmGSAI4e0zqYy7upJrW5pF5H47cdY2I/vJuQzzOVw4ipaJXkdZBQj2CbH\n",
       "xl7mqPCU3H71TJddHUGMqoz1XlLDXaNdpKPjRnJqNrUW+uTKLXS9PbrTJLRXIut2HPMvN9MPaxSs\n",
       "SW3PkMz/7eANaLUFIAwJAAAA3gGeQGpD/wA92EMrwgA2qRmD06ks/kiyr+n7zCpQiC+oX7KjGQE6\n",
       "S3zBtOMlIGwWbs+H8XYfgFnNFueDIf9Ss6e0TnU415iwsNumzw7t1N8TCJIAbSbNjz+jka/lf4zR\n",
       "C7fyAMX6HKJY5OQk2nheHPKqTAIhiLUWoMOpjVmfSkf/rXFF8TnvHWZYAa3lwDz22jKFjR+EX9rc\n",
       "J1ue+4advUmWbja8HJhvbL8Z0vA/BLccXzFKt65CAoC6lxsTZjA32BliHES/ff9GI+wvWYk/+or3\n",
       "LKTB/AmhA24EUACggAAABQpBmkVJqEFsmUwIJ//+tSqAF4cDMADds9N3HybQa8rnpfg8DIg+8uOh\n",
       "ToIx0Kfl3nwInDUdDs6nilpx1VKcDawROQo2r30Y4vq9twO9Nj9zFAsFmNTi36p2holGaS6YoNeu\n",
       "bpDrp2e6jmZgmRlqQMfdG9NZfY85avU0J1DwOXZvOytLFQSeDoBE2yAOEiYPO0zGeKznlJCtslYM\n",
       "Ep0Z69YF69l+UrzVaukloiVUoNkT0GuWbxqoLMyc3bBOkwv+Pjd0M4n480mYH5MXhl0YAQjxg/Yl\n",
       "5IZA0FDP428YKkbLlPH3n2mlF3ll8VZ3kdqwIFoIapgPr4nxsInLH8F/6sGQer+A1O1m9ftMqp/9\n",
       "dmbwc0BsXqBoBD6QozLOzG8XdZCPwJYaCp5/hBcZ8pdZExvzkxhsKPXlj8O0j3WLCuVbpxAqtHIg\n",
       "o3qxPh3pF/SjqP8MNBJ+e0QWhh72OJh6ftNmVxbonK1o/5FGvAr/HxfzNWkOKN3g08DF+YP66ntr\n",
       "aqrgeO3hJOQHe+Lq4LTIDMhy5vy7e7Dp9apGaJYFgA2/e4qACCpNkAgvzEfSLkeAR1EFfol8MQjp\n",
       "QP/iY/rQ2+f8uEipA17fm8F5X3Mkt3n4g1Zq8MYkq1PHVh37a6IVutt2rb9wHZCcCa2ZCWbktXvc\n",
       "5OgOIqLuOrJYusja5U1P3AtXQ6FG2Yo5biksRHO9oVvc9yyqyfcpiTC6Zj+qJ13OAok8h08scNWE\n",
       "e7PUIw5FOTt/bSvhfT5hGKruD0x2atJOfFqoDltEEcThcvF//6LkiLCrv/ScC+TK2z0q79WIPrNg\n",
       "Kwf8IVHdETuiQdSzH5+HYD8rBt7KhsE7FuV35VLBcNVM3M+DBusXF+iS1UypDUNAKwqk/dQ0vkRz\n",
       "1ElgQd+zWRZ/ULMCWL+UFI9Nu21GFohLrxrXce3BhEhud301fD+M8lC/0OIVClpOuVGqt75rV1tm\n",
       "gJx9wjzif7hX/Z6QhvWT2z6jEMMwCY73u0q5La/tcZt4ms8KvJ38an80vX71fQGNUgCjti6x8Y+T\n",
       "hEQf4aKcGNT4mNoNsHAIXphDOvh1VbgeMiul5683kE7SJU6LEb1iapHfod+rOrPsbuo2aE7/1LKV\n",
       "3A0p5UKeBLhmED00ZWm1AjXDSyonj1IknyMwODNdCp71LwpuHSRLxzVy9QiuWdplhX+8fyy4NCwt\n",
       "/Ij+QKwWTm8pxRpsZEAT75NJgP7HzW8votc7Otpv8dyuG8VdRXRY7wVQs43tq28auBzu8ksEQIG2\n",
       "w3Fbk83SmtiFyvCAqTyomua0aeueDy8B+RPctm+9+fvL8JcflEL1D+cXxsuyZ3iYIDIiJsT+bhIF\n",
       "rd/vl05AoiFvt5ae6d/8IB/DwdqoIEobluancxxOfbpX2SJtg/voZ9g/3IsUYxFeHG16o+M3iCsa\n",
       "uQGBQa0S3ixMxScYXEPV/LG7paKniDOfbhToMh4r4iddO+CBxl1sxO15d4ayNy/RfGupsOPkr8h/\n",
       "pnBnJWcRVbAdq+aL4EARzRRLZhNC13oqsEuLiBnXAiy928WfxkaV79az3UXtF4ZwT5XvrvhtAhkN\n",
       "SNwK0tTa93608R/1JqUxuY2BHgLegNj/wVoD8lOhi19P3KXP5Cu5WN1gDb6nh1xeSpBJDV7XGHnZ\n",
       "X62+re2ByfEzOHvrsktyf0UX9GxGTvmk6I02umELShX/jfolHEqGkqmPF7YFfzmT6nAAFBEAAAEX\n",
       "QZ5jRRUsEP8AHCv2YLHPkj4AB+jFTKkn9G6eIrznrAjFK99sdEFQpSC5bg8iBvB0tjvTx5XxN0/a\n",
       "0Vw9BXtwUp+Smnyi+E+dLGdydIl3hd51n5WYjBjWHP76uT8mKXm/n5EyQFp5g4gR+rDkoKT0JyMU\n",
       "z65sdylR3T7lkDDJ2wYomhVH0vVljaSgd7OHoTgUbiDxKv6VcfHkyPYurToP0t6mHeOqgJSjzzJS\n",
       "VPoxIDZACks6L017JMkR8qSd5pf4VjYiF3UAQVacasfIg8JGQR65GsSozw9inpTjJ5GTs0E5Injc\n",
       "OWchJJPpC8MNT7VESzJwulQp/vGtZvXVbWNl7gNxoeHgBGmCCGXQctb4A1Z1gUkoAHNAAAAA1QGe\n",
       "gnRD/wA8gLxgAiCTpVk7el9ouhoUU+z1DgGRl4fcFmn0YDd17jDXEVxRpf/Z34TsykKikA9r/k3+\n",
       "tU/h3ii+9cl4Gx6/1WLvrZ2vV6RV1RK5YAA4qooxV9DOsE3gXUpIdZ3TlZGe+bVkDkQ/ZeMH8/iD\n",
       "E5CwhwGVOLUfqY7nSp2bl7PZuErMSUsZKg5WA++dOP5YVpqdIpapqzKIj2QtOP+Oqc7bQSb0abm/\n",
       "pLAPb98gPVcGxUMKW7OAN9Pf6OT110Mz452c742xS02WGaM2AAC4gQAAAVMBnoRqQ/8APdhDFoAB\n",
       "tV2BLwSxJmZjk1rPyqlER5iOC2Af7DFYvmJnyF0yqWVt/E94OpabIX/LQaEuB3ximLAVfMEcwCsP\n",
       "hUAOiuUF9aZZ0xrY0eq+7Cx6BJ0aTFEjHP9AEb3Q0UN1Gk8Kxc3VQenPY17VKF4gpIytpwTAjTF2\n",
       "15GYFXsx0FHxmCgsehkqdOuqG2qvcOArkTXVg7k0Jk2fiKX/XIx7HNADTyjwz+tAIu7EnOM3CeJJ\n",
       "A4NK8+ODIJ01TUCA8fVvsZE92My9x0ZxfQYrVh81acSB+B77znyRLAUbb8uYaN4glLdjukRfMuQv\n",
       "hXty9tyomAcP5DPOTt7R0tDZdaJI5tVQ7Mg/QoQKOx2KpBnWjUxe+rz27T0lReynPWdVMUsvLWne\n",
       "Z6cmXnxqK5Irm8bW4F+lkDbR5ykHDTcgOhfcxCqEPVsNANLBtIAAi4EAAAZgQZqJSahBbJlMCCf/\n",
       "/rUqgBtMfLaQy5j10RO72PWJAmAFq3ZBNOamsQqFvPkY+s1oUlRlOBj6hwe498L4OoOUSGoA6pX/\n",
       "ez5iT4pI12FUShfXcsKGxMbNNPWg3gbMMrPDvTu/OtAvU7SDu4wY+GSQYETwUczMNYx0m9zNNQur\n",
       "YP9160PhTM1Mfg+yF9t7oC3VbGBduHREqQTynUHQ9CTBtr+cvz88F4prLN42Vwvw4xCvalABspSX\n",
       "/KB1BNh1dScxaABHfkFiClBIS4w7jzIeLG3BjzKbK6X82ABEjfvwVX4Xz4J88V0OXLgxS0gWt9Vq\n",
       "Ek3rgKDemiZts7XITxXsktLRI2XRzeCt9X0cFOckoa92DDl9/OFtWwDf11vxN5A/bO5aek+MJMje\n",
       "7jZ51uN6vkonEAJ7xosbg4X2InwdJS0tlBzGSMMnQKR5b5FhdiuG00rVMdwAXywLIiVeu5XfUgmQ\n",
       "mHpCoU3QzxqH57iS72LoQh/afRna7bGDZaGvVCJrN+fdm/xXLlTuwQP+QxWIvESDittL3vtdBpNv\n",
       "q14I09KB45epwLDOquWVjJv7+Gv5ndVutU/nPAJ6T2hXXPcY1rai7MOTcnb2ontoCPxiTUXAXvpD\n",
       "i8ajdHWeT3qZxauozV30CLlf8W4UfidiWgxydGdkXecS4EQpqPMDXNDZNiQfLX1tnm/jcfUd2OYF\n",
       "DXnfVrn0uHK+twqFyS6oarSFwJq414J3h9XakfKRGCm/K2Ngx2kQgQrzRsVoqKgVSF5doTVl1NtF\n",
       "O+gkq+kmoYJIA9dX4YXfhOQTNSq4MV/n82UwICyPo+SrNyI4aKylOgg22RTVTJmO/yqcaxb+RG3O\n",
       "2qIhONYh9u+dhbj+x2KMPjLmRN8dioHn/JT6esLX4cdCdRnzkv7mXNBkLa3tLwkRAN/1F3uN/raN\n",
       "HVKGWLXVOTbQWCAZ5/wwk2+s/8F8SDTOu0HhS7HP8vRiOTIyODnknxV8VF7Xf/cJuQ1RYZb2RXVi\n",
       "Qq925drCpZAXQPptazyoxSTVHRLQqwERIfZA0UDacLIEmKOT8I8P1nZhcf6xe3BxeM43LXNVfNru\n",
       "3TjRGgbBa5xXNV+JGmh2QOjBEB3DEEctipSch76TG0xUIEc/nI8K1XvAoaYQexwoj0a2wtyu4oyJ\n",
       "GVymznzuxhQ0CUevQvuPzu0loNI6WBtW4yNZFXPr5m1dm3RGU11PuapXxp/sZHFydbif/sHE6GxK\n",
       "nVd7ylE+JLmLacJLWdkvQbCVSXYWIDYzcdurwmKh9v2GuAlwzKQNavcE51XkyfXQ5Q9n08/PCQN7\n",
       "nArJ7OtGeaLfZedYMraUKNEj0wbjwsxaNrJc30XYvjlc1W6UeZY8JyfUCZB4UiHmpYNwEPskzbPf\n",
       "08A9/lbmhNFiTkPukT31lHyrjUhbuAOkmFe1jPL2BeJ9L+pQebxQz1+uO75F3Z/7q5AEoRB1i5V9\n",
       "od+sy/M0VWMeWn6uiOb2QPjxc9nmIUfb8QP7IgABcdz70SBllMOnE2zWIc5zrv/U90Pa8GBq0/Nh\n",
       "sErXJx7FB1b+J8ZYeqL6JjJkSBafQMxnW7AOLsDMvOUlSvOldY2hDFF3qaod63JXNOYTf3UTWYrO\n",
       "SK/EHcZCJyUfCnHtmAIpF4ltQBQCyn/83QlBxHwMbzvB5O8+lQ+FkrDF8LpvKvFO/W896LHHxoVG\n",
       "0r5JPu/m5S8Rm+YX/IRUGXkdud9LJ6CB8BuI/o/fQs5nIUq2m94bYSLSm6fJ46TSai1nDAH/0gnW\n",
       "ZsCiwkDqEnVLqJQd2NCmFbeOrJreKPwCdFwu9xUh5CFBmrNe769ziIy/DRI4xl+n4AIeBzpOz2ZC\n",
       "98YKR7qlq20UCzSB3u0jGQ2eV83lctJuySg85WnXn8fjUl5+sdIaXIeJXUg52vMroc/3lowNEG04\n",
       "rwYlnv5vx5bRQ46OE/XjoUlOtFjejiwqhi5gm3aL+Rk0dQJC55BwitV0bpejGSNzCiK95Yn/TJBW\n",
       "XyELzPimRdJQ6FpK6e4ZVUyUu9sP+EM1hSlsIuOtOVCsQ82WKMrI54bMFp+lL6hqIvrQAoZ6rSXl\n",
       "3u4DksoDwYEI95vPpL2+R5+BLPM2fZ4CXLqhmYVnx8nCH34aBzGX5Mh9dt51aEPWKCommOuNCaiD\n",
       "xUSb+i5NEUyWurROfv5Lv8mc7g6KAAJPAAABNkGep0UVLBD/AB7p7hJ5b0SgAG3X5pLoGSMoUfDN\n",
       "epcvFcZsSYblQ/p9dzgpq8J4NWjN7wRjAgmWBYNZ9sw3ZwquQu7cHapXrq+SSvWsqVTfLCy1ZR4G\n",
       "5MvQwHk0B/Z8LQvV+QSIpbKIttbTLEVFYipjpw4O6um88CJGehTl9kxXi4T4bfxCDYqmRzJqrIy0\n",
       "x7Tt7QDac6D6jd//z8P9nRFf/GLpz68eSzJYk6nlpfOMwYeZiATJam/2HNeCrY/DkI2liYsckL4q\n",
       "1aQOcrDX2+DIfP9niqvLJEIENaEY1Lb8JJvOB/vq1ttjzFv9vD/4/HllYRtEN1BLHD8S9eXj3VEG\n",
       "uAQSflTgy1yNhMChYpyZdQ/i5zMitbT6X0+MxnOx0uzoNmegTi0sFNtudsxoBeZ1GiwAsoEAAAFV\n",
       "AZ7GdEP/AETXJMZ6FKhQU4QwAbLlm6kYlEGpijORNKoFiBhX/9D68mVdual1ddDnyE/LB22db9nl\n",
       "KRjWq/3o9aA1SBRcvaJBS7PVcEOvxxaElo+LN0eS2D7MTuvAw+a/ohGhJPo7wD0MWXVEpn9VLpqc\n",
       "EX0SbjG/mYJOURD1Dd6Zq3psrLMiS+bqlOSEeXejQb24SQf+JbohUI5IqFqXcOezoMhD/1pv2KHy\n",
       "HxVvReTSESr3g6ph5Pr5z76OoaiMDUvl1xtEVLeiJxWc2867aGZWOTFtWufJBTnqKCjZcArbhcAH\n",
       "zHx3VY3LpoiigtnTIYxi1xqouO93B5UoW7PYVR4QIEhdMoOuhQqwAXSugKrsU8X5pgtBbtXZMddf\n",
       "Y7US8X4qND2VpsctL4gqiV6BFiJhBSrLEwzvgQ9gJDe3VzDWeFfPxqoBfOWzlLS73FcOS50ACpgA\n",
       "AAEsAZ7IakP/ADu+eYsLeaTb2nfRsAEPoQ/ZCMb4m23z6g3k8CQmADh7xj3wriZDF7AGFzmAlqfW\n",
       "IutcaBH9dYNFbTdw6qAIE0K2WaQJI6ykdFihfmgGm/G8AsHRI0yF9pN47rjXzh16kWOvsRcuS+Xw\n",
       "XmyUflzFC0DmlZ+XcGZMillzLKs8ABqZaojjmDzg553ArZZQGVZ5FCTk4QTPUhEpYrA4fyIpswxa\n",
       "2m+rRaAbXAdc3PfEplwuGSGji5jLpZPjZseqwCCkoAiXoN7T6+EojwlbAdnD25hcyFjgRIN1bBxA\n",
       "Bq8ql553HHx8Odx2bt/kxTehejCLY5QMoi2Ob+0r8IyU8uoxVqsgHmkD0HuKdddKVSloPo+/w3CR\n",
       "Y5OrnxR/50EfHmlbt/4p2AKKAAADSEGay0moQWyZTBRMFP/+1oywBhaSxoAgD9PCknl3CEV5srSv\n",
       "TKnIZtb6DmQ1B69e7o3GpI1onaKzEROxjnHGaHqhHqZ7bnquiONDEJbH/TQGC/8tn5zsYz/rppx9\n",
       "d+AaTmi0xujnmUNdCDaOFy5Bj737kWV8SAebODPbF0Ku8Ta5lWzg0Y+H0IpnFbTIxGhxgZoNhjBe\n",
       "ECHDmnZ80W09WJrxIxT7iVtVdCHpv3bBvucz9h/bjhlt3AKYKQqBYria7zfKtdfT99V9dLWPzM0f\n",
       "8Nw4HQEHp5cJ55dYxfvBNf+lDYUpM7VOBKRa0HiKuu5Wreqp65P3fAJEm05a+gLZCidrUEBsfA6Z\n",
       "NYkn4ixdLKuFlxGEQKXjlJ2I+0gMg1TfxpSGuolNhxSj4WIOnu0tCOuAHlg5KT86wyfqUPB6pdb7\n",
       "ylxlm1CPLKoq1U8l0d7hHIttnVHmUN/5RdPklspDIFVC6zCikdNboVeeZ2NFQT07yopcmKjR80jv\n",
       "fbliinB0UqBqmymHaDsOgyHsL7pgmFDNCC4oDgQC/cY0XZVCwGarE18/Svz18e3wkXxz785nZFzn\n",
       "/yz0m3N99E7F6i7KHZlh9whRxbVNjCGlX2L8s0kcfzZrd0fxKWn1rmKW4Yu4tkDvG26rcncdroY0\n",
       "5WikXa2aX31foRT0nBpfeKPEvk1yIWaGud3bxtLJz3VjCLmz/Cyq4yElBgSM7KXqSNp3v5Zugorx\n",
       "+o0/QzSmylsvVt0u+nrQ8wa5Xqrbi+DBYkPy3jM9UXg+m38i7HbtUE4/DCP+BQ7BX3ADyTVaMubL\n",
       "8yuaEYPWRUgZCOO/rsY7n/xFZaNwwQ5mRCsWFU2XBS2Eanzg5YdXPcj6UhBfW5lEp0Jqi4r+TAWX\n",
       "z+izEoOsT2o1uBPAW/5Cl1y2fJ/FOWOHS6P7CkRg6oni2Wf3m/hCd6t8pcGyNnAW9ECHlomLQFZe\n",
       "7KTpchy6rOaUui9lJDHx2MjgIKscVbXpGTo3PbEyv7TNr1CdD1z7I4Cttn2+yutorCjhIPmlJzRw\n",
       "EktvhpS8n9/BvumMxYqMQRycn7zTmuZZ8nmcPwZwmV2sqsuYHMGBG+6rXReYLDMkkUCX7/opYnj/\n",
       "ZRPmQDAXcQAAAYEBnupqQ/8AO74Z1yQSewAQ/amH6dy+WTa0yYaUbpFhoGwxaPTfJQacCnZLXJUD\n",
       "qICrNYXR43YOqDoTIJJL7fXyOgSy81SHegxA99g2ByOvoPRdZ+ZDDHcSZqTmYhMP202Z5ZyEv5gr\n",
       "/H2M4Bqy2FuDQivoUWtf+9e5ArBWmwnyJ1buSY1O8nAs84bxLORVurxB7wZZO9ePLmqAjD2aMF7L\n",
       "nQie7t42uDOWgfzARS0PWeqVpjqbzPMOvS5mxxj8YquMzWg+yAXrh4K2XEXXVwHRNeJsjhxyyXVk\n",
       "JuhV0OiRYwG8YCKnVqF9IiLivbrusnIpy39V6Trxfncz0Vt8pVXOKIRX8Xeq+sNJD8lEtzYia6LC\n",
       "H6Ci5urh2f8AQH2Kc+TAVqfrHN3vp+Si7OUnA10cB4V12IEZZYn/Q3oWWGDYf+nAFHxZ+GbbtLcU\n",
       "HJzhXIoXfhU57/SlW5x+a2I1P5t6/Fk+wVdrCbRhXGTQeHQtd02GeS1l2GhwiQcJwPPXMAM+AAAB\n",
       "vEGa70nhClJlMCCn//7WjLAFBp0uMRV5SpEAL85fNcOR1FLsFSEtyJdjIP0KJqb1JRSuWiNgacdE\n",
       "/XwL9Q4Y2egEIOPGm7jzHCLd3qzSP6f47IErb+v6RX1bB46gf4v7Nyp1qzt1t5IrTtuaVR516sss\n",
       "mrFQpNz7N63CSEchqVRCTqj2R8ju/p0LawbmfAhtNk7zmMRikAPvddsd/gk/bvtwS0fyOcs6nsM6\n",
       "VxllA6Y9DgCgI6DJWVivdUmW266cICs32SnsB2X8AARLAIXPtLrSXcZDM76U2mNpSjM34+ehaRVk\n",
       "jl1bDOlyGSdV3pLbPl3TNw1igKJHDn5os6E0kBhzrfWDNdRSQA/8d7ohks3DXHPYcoQjXqVHrnea\n",
       "ql0mVF06Iq2MXY4VnzsNjTFlcd9y1ObXO3U0goPXtY0CFK5/DdwJX7/qnEfEml0OF9tq88VWlWEe\n",
       "awLrKqvxf8WNdaCtXd+Bj6n1xTjrLKc0Zoon8T8f/iGUKYyIZYLIMzAipfU4+AanrjKdfbxYdsM1\n",
       "F/8G8x0yCt7J+fDM+EqTu6O56qUOhstaeAr1HvOGC8Tgzgp/h4DmqBkVbIDKgAAAADZBnw1FNEwQ\n",
       "/wAYWh0zgaisv8dLCRmLizAP3Lr3bX0Ms+ZcWYAjrF2nVeKT8ljo7Cg6jE8AHHEAAAAlAZ8sdEP/\n",
       "ADW3RhB6L1gy9VYlbuq5sw8AbhUgBTm8+aNPAAAcEQAAACABny5qQ/8ABr/Hdhz/wfE8t9HrG8nZ\n",
       "DMMYJeUa8AAW0QAAABpBmzNJqEFomUwIKf/+1oywAAADAAADAAD7gAAAACpBn1FFESwQ/wADD6po\n",
       "AWIhUr5kRJaR75uJgBcveA4NwOOdO8oe5kJgBnwAAAAgAZ9wdEP/AAa+6TF/LAFXcYbP1lr6NdlP\n",
       "cDNPK7AAJuEAAAAgAZ9yakP/AAa/x3Yc/8HxPLfR6xvJ2QzDGCXlGvAAFtAAAAAaQZt3SahBbJlM\n",
       "CCn//taMsAAAAwAAAwAA+4AAAAAqQZ+VRRUsEP8AAw+qaAFiIVK+ZESWke+biYAXL3gODcDjnTvK\n",
       "HuZCYAZ9AAAAIAGftHRD/wAGvukxfywBV3GGz9Za+jXZT3AzTyuwACbgAAAAIAGftmpD/wAGv8d2\n",
       "HP/B8Ty30esbydkMwxgl5RrwABbRAAAAGkGbu0moQWyZTAgp//7WjLAAAAMAAAMAAPuBAAAAKkGf\n",
       "2UUVLBD/AAMPqmgBYiFSvmRElpHvm4mAFy94Dg3A4507yh7mQmAGfAAAACABn/h0Q/8ABr7pMX8s\n",
       "AVdxhs/WWvo12U9wM08rsAAm4QAAACABn/pqQ/8ABr/Hdhz/wfE8t9HrG8nZDMMYJeUa8AAW0AAA\n",
       "ABpBm/9JqEFsmUwIKf/+1oywAAADAAADAAD7gQAAACpBnh1FFSwQ/wADD6poAWIhUr5kRJaR75uJ\n",
       "gBcveA4NwOOdO8oe5kJgBn0AAAAgAZ48dEP/AAa+6TF/LAFXcYbP1lr6NdlPcDNPK7AAJuAAAAAg\n",
       "AZ4+akP/AAa/x3Yc/8HxPLfR6xvJ2QzDGCXlGvAAFtAAAAAaQZojSahBbJlMCCn//taMsAAAAwAA\n",
       "AwAA+4EAAAAqQZ5BRRUsEP8AAw+qaAFiIVK+ZESWke+biYAXL3gODcDjnTvKHuZCYAZ8AAAAIAGe\n",
       "YHRD/wAGvukxfywBV3GGz9Za+jXZT3AzTyuwACbhAAAAIAGeYmpD/wAGv8d2HP/B8Ty30esbydkM\n",
       "wxgl5RrwABbQAAAAGkGaZ0moQWyZTAgp//7WjLAAAAMAAAMAAPuBAAAAKkGehUUVLBD/AAMPqmgB\n",
       "YiFSvmRElpHvm4mAFy94Dg3A4507yh7mQmAGfQAAACABnqR0Q/8ABr7pMX8sAVdxhs/WWvo12U9w\n",
       "M08rsAAm4QAAACABnqZqQ/8ABr/Hdhz/wfE8t9HrG8nZDMMYJeUa8AAW0QAAABpBmqtJqEFsmUwI\n",
       "Kf/+1oywAAADAAADAAD7gAAAACpBnslFFSwQ/wADD6poAWIhUr5kRJaR75uJgBcveA4NwOOdO8oe\n",
       "5kJgBnwAAAAgAZ7odEP/AAa+6TF/LAFXcYbP1lr6NdlPcDNPK7AAJuEAAAAgAZ7qakP/AAa/x3Yc\n",
       "/8HxPLfR6xvJ2QzDGCXlGvAAFtAAAAAaQZrvSahBbJlMCCn//taMsAAAAwAAAwAA+4AAAAAqQZ8N\n",
       "RRUsEP8AAw+qaAFiIVK+ZESWke+biYAXL3gODcDjnTvKHuZCYAZ9AAAAIAGfLHRD/wAGvukxfywB\n",
       "V3GGz9Za+jXZT3AzTyuwACbhAAAAIAGfLmpD/wAGv8d2HP/B8Ty30esbydkMwxgl5RrwABbRAAAA\n",
       "GkGbM0moQWyZTAgp//7WjLAAAAMAAAMAAPuAAAAAKkGfUUUVLBD/AAMPqmgBYiFSvmRElpHvm4mA\n",
       "Fy94Dg3A4507yh7mQmAGfAAAACABn3B0Q/8ABr7pMX8sAVdxhs/WWvo12U9wM08rsAAm4QAAACAB\n",
       "n3JqQ/8ABr/Hdhz/wfE8t9HrG8nZDMMYJeUa8AAW0AAAABpBm3dJqEFsmUwIKf/+1oywAAADAAAD\n",
       "AAD7gAAAACpBn5VFFSwQ/wADD6poAWIhUr5kRJaR75uJgBcveA4NwOOdO8oe5kJgBn0AAAAgAZ+0\n",
       "dEP/AAa+6TF/LAFXcYbP1lr6NdlPcDNPK7AAJuAAAAAgAZ+2akP/AAa/x3Yc/8HxPLfR6xvJ2QzD\n",
       "GCXlGvAAFtEAAAAaQZu7SahBbJlMCCn//taMsAAAAwAAAwAA+4EAAAAqQZ/ZRRUsEP8AAw+qaAFi\n",
       "IVK+ZESWke+biYAXL3gODcDjnTvKHuZCYAZ8AAAAIAGf+HRD/wAGvukxfywBV3GGz9Za+jXZT3Az\n",
       "TyuwACbhAAAAIAGf+mpD/wAGv8d2HP/B8Ty30esbydkMwxgl5RrwABbQAAAAGkGb/0moQWyZTAgp\n",
       "//7WjLAAAAMAAAMAAPuBAAAAKkGeHUUVLBD/AAMPqmgBYiFSvmRElpHvm4mAFy94Dg3A4507yh7m\n",
       "QmAGfQAAACABnjx0Q/8ABr7pMX8sAVdxhs/WWvo12U9wM08rsAAm4AAAACABnj5qQ/8ABr/Hdhz/\n",
       "wfE8t9HrG8nZDMMYJeUa8AAW0AAAABpBmiNJqEFsmUwIKf/+1oywAAADAAADAAD7gQAAACpBnkFF\n",
       "FSwQ/wADD6poAWIhUr5kRJaR75uJgBcveA4NwOOdO8oe5kJgBnwAAAAgAZ5gdEP/AAa+6TF/LAFX\n",
       "cYbP1lr6NdlPcDNPK7AAJuEAAAAgAZ5iakP/AAa/x3Yc/8HxPLfR6xvJ2QzDGCXlGvAAFtAAAAAa\n",
       "QZpnSahBbJlMCCn//taMsAAAAwAAAwAA+4EAAAAqQZ6FRRUsEP8AAw+qaAFiIVK+ZESWke+biYAX\n",
       "L3gODcDjnTvKHuZCYAZ9AAAAIAGepHRD/wAGvukxfywBV3GGz9Za+jXZT3AzTyuwACbhAAAAIAGe\n",
       "pmpD/wAGv8d2HP/B8Ty30esbydkMwxgl5RrwABbRAAAAGkGaq0moQWyZTAgp//7WjLAAAAMAAAMA\n",
       "APuAAAAAKkGeyUUVLBD/AAMPqmgBYiFSvmRElpHvm4mAFy94Dg3A4507yh7mQmAGfAAAACABnuh0\n",
       "Q/8ABr7pMX8sAVdxhs/WWvo12U9wM08rsAAm4QAAACABnupqQ/8ABr/Hdhz/wfE8t9HrG8nZDMMY\n",
       "JeUa8AAW0AAAABpBmu9JqEFsmUwIKf/+1oywAAADAAADAAD7gAAAACpBnw1FFSwQ/wADD6poAWIh\n",
       "Ur5kRJaR75uJgBcveA4NwOOdO8oe5kJgBn0AAAAgAZ8sdEP/AAa+6TF/LAFXcYbP1lr6NdlPcDNP\n",
       "K7AAJuEAAAAgAZ8uakP/AAa/x3Yc/8HxPLfR6xvJ2QzDGCXlGvAAFtEAAAAaQZszSahBbJlMCCn/\n",
       "/taMsAAAAwAAAwAA+4AAAAAqQZ9RRRUsEP8AAw+qaAFiIVK+ZESWke+biYAXL3gODcDjnTvKHuZC\n",
       "YAZ8AAAAIAGfcHRD/wAGvukxfywBV3GGz9Za+jXZT3AzTyuwACbhAAAAIAGfcmpD/wAGv8d2HP/B\n",
       "8Ty30esbydkMwxgl5RrwABbQAAAAGkGbd0moQWyZTAgp//7WjLAAAAMAAAMAAPuAAAAAKkGflUUV\n",
       "LBD/AAMPqmgBYiFSvmRElpHvm4mAFy94Dg3A4507yh7mQmAGfQAAACABn7R0Q/8ABr7pMX8sAVdx\n",
       "hs/WWvo12U9wM08rsAAm4AAAACABn7ZqQ/8ABr/Hdhz/wfE8t9HrG8nZDMMYJeUa8AAW0QAAABpB\n",
       "m7tJqEFsmUwIKf/+1oywAAADAAADAAD7gQAAACpBn9lFFSwQ/wADD6poAWIhUr5kRJaR75uJgBcv\n",
       "eA4NwOOdO8oe5kJgBnwAAAAgAZ/4dEP/AAa+6TF/LAFXcYbP1lr6NdlPcDNPK7AAJuEAAAAgAZ/6\n",
       "akP/AAa/x3Yc/8HxPLfR6xvJ2QzDGCXlGvAAFtAAAAAaQZv/SahBbJlMCCn//taMsAAAAwAAAwAA\n",
       "+4EAAAAqQZ4dRRUsEP8AAw+qaAFiIVK+ZESWke+biYAXL3gODcDjnTvKHuZCYAZ9AAAAIAGePHRD\n",
       "/wAGvukxfywBV3GGz9Za+jXZT3AzTyuwACbgAAAAIAGePmpD/wAGv8d2HP/B8Ty30esbydkMwxgl\n",
       "5RrwABbQAAAAGkGaI0moQWyZTAgp//7WjLAAAAMAAAMAAPuBAAAAKkGeQUUVLBD/AAMPqmgBYiFS\n",
       "vmRElpHvm4mAFy94Dg3A4507yh7mQmAGfAAAACABnmB0Q/8ABr7pMX8sAVdxhs/WWvo12U9wM08r\n",
       "sAAm4QAAACABnmJqQ/8ABr/Hdhz/wfE8t9HrG8nZDMMYJeUa8AAW0AAAABpBmmdJqEFsmUwIKf/+\n",
       "1oywAAADAAADAAD7gQAAACpBnoVFFSwQ/wADD6poAWIhUr5kRJaR75uJgBcveA4NwOOdO8oe5kJg\n",
       "Bn0AAAAgAZ6kdEP/AAa+6TF/LAFXcYbP1lr6NdlPcDNPK7AAJuEAAAAgAZ6makP/AAa/x3Yc/8Hx\n",
       "PLfR6xvJ2QzDGCXlGvAAFtEAAAAaQZqrSahBbJlMCCn//taMsAAAAwAAAwAA+4AAAAAqQZ7JRRUs\n",
       "EP8AAw+qaAFiIVK+ZESWke+biYAXL3gODcDjnTvKHuZCYAZ8AAAAIAGe6HRD/wAGvukxfywBV3GG\n",
       "z9Za+jXZT3AzTyuwACbhAAAAIAGe6mpD/wAGv8d2HP/B8Ty30esbydkMwxgl5RrwABbQAAAAGkGa\n",
       "70moQWyZTAgp//7WjLAAAAMAAAMAAPuAAAAAKkGfDUUVLBD/AAMPqmgBYiFSvmRElpHvm4mAFy94\n",
       "Dg3A4507yh7mQmAGfQAAACABnyx0Q/8ABr7pMX8sAVdxhs/WWvo12U9wM08rsAAm4QAAACABny5q\n",
       "Q/8ABr/Hdhz/wfE8t9HrG8nZDMMYJeUa8AAW0QAAABpBmzNJqEFsmUwIKf/+1oywAAADAAADAAD7\n",
       "gAAAACpBn1FFFSwQ/wADD6poAWIhUr5kRJaR75uJgBcveA4NwOOdO8oe5kJgBnwAAAAgAZ9wdEP/\n",
       "AAa+6TF/LAFXcYbP1lr6NdlPcDNPK7AAJuEAAAAgAZ9yakP/AAa/x3Yc/8HxPLfR6xvJ2QzDGCXl\n",
       "GvAAFtAAAAAaQZt3SahBbJlMCCn//taMsAAAAwAAAwAA+4AAAAAqQZ+VRRUsEP8AAw+qaAFiIVK+\n",
       "ZESWke+biYAXL3gODcDjnTvKHuZCYAZ9AAAAIAGftHRD/wAGvukxfywBV3GGz9Za+jXZT3AzTyuw\n",
       "ACbgAAAAIAGftmpD/wAGv8d2HP/B8Ty30esbydkMwxgl5RrwABbRAAAAGkGbu0moQWyZTAgp//7W\n",
       "jLAAAAMAAAMAAPuBAAAAKkGf2UUVLBD/AAMPqmgBYiFSvmRElpHvm4mAFy94Dg3A4507yh7mQmAG\n",
       "fAAAACABn/h0Q/8ABr7pMX8sAVdxhs/WWvo12U9wM08rsAAm4QAAACABn/pqQ/8ABr/Hdhz/wfE8\n",
       "t9HrG8nZDMMYJeUa8AAW0AAAABpBm/9JqEFsmUwIKf/+1oywAAADAAADAAD7gQAAACpBnh1FFSwQ\n",
       "/wADD6poAWIhUr5kRJaR75uJgBcveA4NwOOdO8oe5kJgBn0AAAAgAZ48dEP/AAa+6TF/LAFXcYbP\n",
       "1lr6NdlPcDNPK7AAJuAAAAAgAZ4+akP/AAa/x3Yc/8HxPLfR6xvJ2QzDGCXlGvAAFtAAAAAaQZoj\n",
       "SahBbJlMCCn//taMsAAAAwAAAwAA+4EAAAAqQZ5BRRUsEP8AAw+qaAFiIVK+ZESWke+biYAXL3gO\n",
       "DcDjnTvKHuZCYAZ8AAAAIAGeYHRD/wAGvukxfywBV3GGz9Za+jXZT3AzTyuwACbhAAAAIAGeYmpD\n",
       "/wAGv8d2HP/B8Ty30esbydkMwxgl5RrwABbQAAAAGkGaZ0moQWyZTAgp//7WjLAAAAMAAAMAAPuB\n",
       "AAAAKkGehUUVLBD/AAMPqmgBYiFSvmRElpHvm4mAFy94Dg3A4507yh7mQmAGfQAAACABnqR0Q/8A\n",
       "Br7pMX8sAVdxhs/WWvo12U9wM08rsAAm4QAAACABnqZqQ/8ABr/Hdhz/wfE8t9HrG8nZDMMYJeUa\n",
       "8AAW0QAAAClBmqtJqEFsmUwIKf/+1oywAABZSxTEAUmwSBpepCCvYIbjS8TXZIQPyAAAACpBnslF\n",
       "FSwQ/wADD6poAWIhUr5kRJaR75uJgBcveA4NwOOdO8oe5kJgBnwAAAAgAZ7odEP/AAa+6TF/LAFX\n",
       "cYbP1lr6NdlPcDNPK7AAJuEAAAAgAZ7qakP/AAa/x3Yc/8HxPLfR6xvJ2QzDGCXlGvAAFtAAAAAg\n",
       "QZrvSahBbJlMCCn//taMsAAAWUsUxAFInEgAAAMA+YAAAAAqQZ8NRRUsEP8AAw+qaAFiIVK+ZESW\n",
       "ke+biYAXL3gODcDjnTvKHuZCYAZ9AAAAIAGfLHRD/wAGvukxfywBV3GGz9Za+jXZT3AzTyuwACbh\n",
       "AAAAIAGfLmpD/wAGv8d2HP/B8Ty30esbydkMwxgl5RrwABbRAAAAGkGbM0moQWyZTAgp//7WjLAA\n",
       "AAMAAAMAAPuAAAAAKkGfUUUVLBD/AAMPqmgBYiFSvmRElpHvm4mAFy94Dg3A4507yh7mQmAGfAAA\n",
       "ACABn3B0Q/8ABr7pMX8sAVdxhs/WWvo12U9wM08rsAAm4QAAACABn3JqQ/8ABr/Hdhz/wfE8t9Hr\n",
       "G8nZDMMYJeUa8AAW0AAAABlBm3dJqEFsmUwIJ//+tSqAAAADAAADAAPWAAAAKkGflUUVLBD/AAMP\n",
       "qmgBYiFSvmRElpHvm4mAFy94Dg3A4507yh7mQmAGfQAAACABn7R0Q/8ABr7pMX8sAVdxhs/WWvo1\n",
       "2U9wM08rsAAm4AAAACABn7ZqQ/8ABr/Hdhz/wfE8t9HrG8nZDMMYJeUa8AAW0QAAABlBm7tJqEFs\n",
       "mUwIJ//+tSqAAAADAAADAAPXAAAAKkGf2UUVLBD/AAMPqmgBYiFSvmRElpHvm4mAFy94Dg3A4507\n",
       "yh7mQmAGfAAAACABn/h0Q/8ABr7pMX8sAVdxhs/WWvo12U9wM08rsAAm4QAAACABn/pqQ/8ABr/H\n",
       "dhz/wfE8t9HrG8nZDMMYJeUa8AAW0AAAAB9Bm/9JqEFsmUwIJ//+tSqAAAADAAB0n8RoAs915AlZ\n",
       "AAAAKkGeHUUVLBD/AAMPqmgBYiFSvmRElpHvm4mAFy94Dg3A4507yh7mQmAGfQAAACABnjx0Q/8A\n",
       "Br7pMX8sAVdxhs/WWvo12U9wM08rsAAm4AAAACABnj5qQ/8ABr/Hdhz/wfE8t9HrG8nZDMMYJeUa\n",
       "8AAW0AAAABlBmiNJqEFsmUwIJf/+tSqAAAADAAADAAPXAAAAKkGeQUUVLBD/AAMPqmgBYiFSvmRE\n",
       "lpHvm4mAFy94Dg3A4507yh7mQmAGfAAAACABnmB0Q/8ABr7pMX8sAVdxhs/WWvo12U9wM08rsAAm\n",
       "4QAAACABnmJqQ/8ABr/Hdhz/wfE8t9HrG8nZDMMYJeUa8AAW0AAAABlBmmdJqEFsmUwIf//+qZYA\n",
       "AAMAAAMAAB4RAAAAKkGehUUVLBD/AAMPqmgBYiFSvmRElpHvm4mAFy94Dg3A4507yh7mQmAGfQAA\n",
       "ACABnqR0Q/8ABr7pMX8sAVdxhs/WWvo12U9wM08rsAAm4QAAACABnqZqQ/8ABr/Hdhz/wfE8t9Hr\n",
       "G8nZDMMYJeUa8AAW0QAADIptb292AAAAbG12aGQAAAAAAAAAAAAAAAAAAAPoAACcQAABAAABAAAA\n",
       "AAAAAAAAAAAAAQAAAAAAAAAAAAAAAAAAAAEAAAAAAAAAAAAAAAAAAEAAAAAAAAAAAAAAAAAAAAAA\n",
       "AAAAAAAAAAAAAAAAAAACAAALtHRyYWsAAABcdGtoZAAAAAMAAAAAAAAAAAAAAAEAAAAAAACcQAAA\n",
       "AAAAAAAAAAAAAAAAAAAAAQAAAAAAAAAAAAAAAAAAAAEAAAAAAAAAAAAAAAAAAEAAAAAC0AAAAbAA\n",
       "AAAAACRlZHRzAAAAHGVsc3QAAAAAAAAAAQAAnEAAABAAAAEAAAAACyxtZGlhAAAAIG1kaGQAAAAA\n",
       "AAAAAAAAAAAAACgAAAZAAFXEAAAAAAAtaGRscgAAAAAAAAAAdmlkZQAAAAAAAAAAAAAAAFZpZGVv\n",
       "SGFuZGxlcgAAAArXbWluZgAAABR2bWhkAAAAAQAAAAAAAAAAAAAAJGRpbmYAAAAcZHJlZgAAAAAA\n",
       "AAABAAAADHVybCAAAAABAAAKl3N0YmwAAAC3c3RzZAAAAAAAAAABAAAAp2F2YzEAAAAAAAAAAQAA\n",
       "AAAAAAAAAAAAAAAAAAAC0AGwAEgAAABIAAAAAAAAAAEAAAAAAAAAAAAAAAAAAAAAAAAAAAAAAAAA\n",
       "AAAAAAAAAAAY//8AAAA1YXZjQwFkABb/4QAYZ2QAFqzZQLQ3oQAAAwABAAADAAoPFi2WAQAGaOvj\n",
       "yyLA/fj4AAAAABx1dWlka2hA8l8kT8W6OaUbzwMj8wAAAAAAAAAYc3R0cwAAAAAAAAABAAAAyAAA\n",
       "CAAAAAAUc3RzcwAAAAAAAAABAAAAAQAABkhjdHRzAAAAAAAAAMcAAAABAAAQAAAAAAEAABgAAAAA\n",
       "AQAACAAAAAABAAAoAAAAAAEAABAAAAAAAQAAAAAAAAABAAAIAAAAAAEAACAAAAAAAgAACAAAAAAB\n",
       "AAAoAAAAAAEAABAAAAAAAQAAAAAAAAABAAAIAAAAAAEAACgAAAAAAQAAEAAAAAABAAAAAAAAAAEA\n",
       "AAgAAAAAAQAAKAAAAAABAAAQAAAAAAEAAAAAAAAAAQAACAAAAAABAAAoAAAAAAEAABAAAAAAAQAA\n",
       "AAAAAAABAAAIAAAAAAEAACgAAAAAAQAAEAAAAAABAAAAAAAAAAEAAAgAAAAAAQAAKAAAAAABAAAQ\n",
       "AAAAAAEAAAAAAAAAAQAACAAAAAABAAAoAAAAAAEAABAAAAAAAQAAAAAAAAABAAAIAAAAAAEAACgA\n",
       "AAAAAQAAEAAAAAABAAAAAAAAAAEAAAgAAAAAAQAAGAAAAAABAAAIAAAAAAEAACgAAAAAAQAAEAAA\n",
       "AAABAAAAAAAAAAEAAAgAAAAAAQAAKAAAAAABAAAQAAAAAAEAAAAAAAAAAQAACAAAAAABAAAoAAAA\n",
       "AAEAABAAAAAAAQAAAAAAAAABAAAIAAAAAAEAACgAAAAAAQAAEAAAAAABAAAAAAAAAAEAAAgAAAAA\n",
       "AQAAKAAAAAABAAAQAAAAAAEAAAAAAAAAAQAACAAAAAABAAAoAAAAAAEAABAAAAAAAQAAAAAAAAAB\n",
       "AAAIAAAAAAEAACgAAAAAAQAAEAAAAAABAAAAAAAAAAEAAAgAAAAAAQAAKAAAAAABAAAQAAAAAAEA\n",
       "AAAAAAAAAQAACAAAAAABAAAoAAAAAAEAABAAAAAAAQAAAAAAAAABAAAIAAAAAAEAACgAAAAAAQAA\n",
       "EAAAAAABAAAAAAAAAAEAAAgAAAAAAQAAKAAAAAABAAAQAAAAAAEAAAAAAAAAAQAACAAAAAABAAAo\n",
       "AAAAAAEAABAAAAAAAQAAAAAAAAABAAAIAAAAAAEAACgAAAAAAQAAEAAAAAABAAAAAAAAAAEAAAgA\n",
       "AAAAAQAAKAAAAAABAAAQAAAAAAEAAAAAAAAAAQAACAAAAAABAAAoAAAAAAEAABAAAAAAAQAAAAAA\n",
       "AAABAAAIAAAAAAEAACgAAAAAAQAAEAAAAAABAAAAAAAAAAEAAAgAAAAAAQAAKAAAAAABAAAQAAAA\n",
       "AAEAAAAAAAAAAQAACAAAAAABAAAoAAAAAAEAABAAAAAAAQAAAAAAAAABAAAIAAAAAAEAACgAAAAA\n",
       "AQAAEAAAAAABAAAAAAAAAAEAAAgAAAAAAQAAKAAAAAABAAAQAAAAAAEAAAAAAAAAAQAACAAAAAAB\n",
       "AAAoAAAAAAEAABAAAAAAAQAAAAAAAAABAAAIAAAAAAEAACgAAAAAAQAAEAAAAAABAAAAAAAAAAEA\n",
       "AAgAAAAAAQAAKAAAAAABAAAQAAAAAAEAAAAAAAAAAQAACAAAAAABAAAoAAAAAAEAABAAAAAAAQAA\n",
       "AAAAAAABAAAIAAAAAAEAACgAAAAAAQAAEAAAAAABAAAAAAAAAAEAAAgAAAAAAQAAKAAAAAABAAAQ\n",
       "AAAAAAEAAAAAAAAAAQAACAAAAAABAAAoAAAAAAEAABAAAAAAAQAAAAAAAAABAAAIAAAAAAEAACgA\n",
       "AAAAAQAAEAAAAAABAAAAAAAAAAEAAAgAAAAAAQAAKAAAAAABAAAQAAAAAAEAAAAAAAAAAQAACAAA\n",
       "AAABAAAoAAAAAAEAABAAAAAAAQAAAAAAAAABAAAIAAAAAAEAACgAAAAAAQAAEAAAAAABAAAAAAAA\n",
       "AAEAAAgAAAAAAQAAKAAAAAABAAAQAAAAAAEAAAAAAAAAAQAACAAAAAABAAAoAAAAAAEAABAAAAAA\n",
       "AQAAAAAAAAABAAAIAAAAAAEAACgAAAAAAQAAEAAAAAABAAAAAAAAAAEAAAgAAAAAAQAAKAAAAAAB\n",
       "AAAQAAAAAAEAAAAAAAAAAQAACAAAAAABAAAoAAAAAAEAABAAAAAAAQAAAAAAAAABAAAIAAAAAAEA\n",
       "ACgAAAAAAQAAEAAAAAABAAAAAAAAAAEAAAgAAAAAAQAAKAAAAAABAAAQAAAAAAEAAAAAAAAAAQAA\n",
       "CAAAAAABAAAoAAAAAAEAABAAAAAAAQAAAAAAAAABAAAIAAAAABxzdHNjAAAAAAAAAAEAAAABAAAA\n",
       "yAAAAAEAAAM0c3RzegAAAAAAAAAAAAAAyAAAQbQAAAUAAAABbwAAA6MAAADcAAABYwAAAV4AAAOi\n",
       "AAABtwAAAR8AAAMFAAAAsgAAAP8AAACAAAAFYQAAAWUAAAEUAAABdgAABVcAAAEIAAABRgAAARgA\n",
       "AAOfAAABHQAAAOkAAADOAAADEwAAAS4AAADxAAAArwAABU8AAAEbAAABYAAAAOIAAAUOAAABGwAA\n",
       "ANkAAAFXAAAGZAAAAToAAAFZAAABMAAAA0wAAAGFAAABwAAAADoAAAApAAAAJAAAAB4AAAAuAAAA\n",
       "JAAAACQAAAAeAAAALgAAACQAAAAkAAAAHgAAAC4AAAAkAAAAJAAAAB4AAAAuAAAAJAAAACQAAAAe\n",
       "AAAALgAAACQAAAAkAAAAHgAAAC4AAAAkAAAAJAAAAB4AAAAuAAAAJAAAACQAAAAeAAAALgAAACQA\n",
       "AAAkAAAAHgAAAC4AAAAkAAAAJAAAAB4AAAAuAAAAJAAAACQAAAAeAAAALgAAACQAAAAkAAAAHgAA\n",
       "AC4AAAAkAAAAJAAAAB4AAAAuAAAAJAAAACQAAAAeAAAALgAAACQAAAAkAAAAHgAAAC4AAAAkAAAA\n",
       "JAAAAB4AAAAuAAAAJAAAACQAAAAeAAAALgAAACQAAAAkAAAAHgAAAC4AAAAkAAAAJAAAAB4AAAAu\n",
       "AAAAJAAAACQAAAAeAAAALgAAACQAAAAkAAAAHgAAAC4AAAAkAAAAJAAAAB4AAAAuAAAAJAAAACQA\n",
       "AAAeAAAALgAAACQAAAAkAAAAHgAAAC4AAAAkAAAAJAAAAB4AAAAuAAAAJAAAACQAAAAeAAAALgAA\n",
       "ACQAAAAkAAAAHgAAAC4AAAAkAAAAJAAAAB4AAAAuAAAAJAAAACQAAAAeAAAALgAAACQAAAAkAAAA\n",
       "HgAAAC4AAAAkAAAAJAAAAC0AAAAuAAAAJAAAACQAAAAkAAAALgAAACQAAAAkAAAAHgAAAC4AAAAk\n",
       "AAAAJAAAAB0AAAAuAAAAJAAAACQAAAAdAAAALgAAACQAAAAkAAAAIwAAAC4AAAAkAAAAJAAAAB0A\n",
       "AAAuAAAAJAAAACQAAAAdAAAALgAAACQAAAAkAAAAFHN0Y28AAAAAAAAAAQAAADAAAABidWR0YQAA\n",
       "AFptZXRhAAAAAAAAACFoZGxyAAAAAAAAAABtZGlyYXBwbAAAAAAAAAAAAAAAAC1pbHN0AAAAJal0\n",
       "b28AAAAdZGF0YQAAAAEAAAAATGF2ZjU4LjM1LjEwMg==\n",
       "\">\n",
       "  Your browser does not support the video tag.\n",
       "</video>"
      ],
      "text/plain": [
       "<IPython.core.display.HTML object>"
      ]
     },
     "execution_count": 36,
     "metadata": {},
     "output_type": "execute_result"
    },
    {
     "data": {
      "image/png": "[encoded data removed]",
      "text/plain": [
       "<Figure size 720x432 with 1 Axes>"
      ]
     },
     "metadata": {
      "needs_background": "light"
     },
     "output_type": "display_data"
    }
   ],
   "source": [
    "# This section will allow you to run animations of the search algorithms\n",
    "# by tweaking the parameters in the below function\n",
    "# The allowed search algorithms are:\n",
    "# 1. A* : solver='astar'\n",
    "# 2. Weighed A* : solver='wastar', weight=1.4\n",
    "# 3. Breadth first search : solver='bfs'\n",
    "# 4. Depth First Search : solver='dfs'\n",
    "# 5. Uniform Cost Search : solver='ucs'\n",
    "# 6. Greedy Best Frist Search : solver='bestfs'\n",
    "# TODO: bidirectional search\n",
    "\n",
    "grid = AnimateProblem(solver='bestfs', # allowed: ['astar', 'wastar', 'bfs', 'dfs', 'bestfs', 'ucs']\n",
    "                      weight=1.4, # If you are using 'wastar', change the weight here.\n",
    "                      height=20, width=40,\n",
    "                      initial=(1, 1), goal=(35, 19),\n",
    "                      obstacles=random_lines(X=range(40), Y=range(20), N=80, lengths=range(1, 7)))\n",
    "grid.draw_walls()\n",
    "# In case the animation is not complete,\n",
    "# increase the number of frames below.\n",
    "grid.run(frames=200)"
   ]
  },
  {
   "cell_type": "code",
   "execution_count": 37,
   "metadata": {
    "scrolled": false
   },
   "outputs": [
    {
     "data": {
      "image/png": "[encoded data removed]",
      "text/plain": [
       "<Figure size 1152x720 with 1 Axes>"
      ]
     },
     "metadata": {
      "needs_background": "light"
     },
     "output_type": "display_data"
    },
    {
     "name": "stdout",
     "output_type": "stream",
     "text": [
      "           A* search search: 154.2 path cost, 7,418 states reached\n"
     ]
    },
    {
     "data": {
      "image/png": "[encoded data removed]",
      "text/plain": [
       "<Figure size 1152x720 with 1 Axes>"
      ]
     },
     "metadata": {
      "needs_background": "light"
     },
     "output_type": "display_data"
    },
    {
     "name": "stdout",
     "output_type": "stream",
     "text": [
      "           (b) Weighted (1.4) A* search search: 154.2 path cost, 944 states reached\n"
     ]
    },
    {
     "data": {
      "image/png": "[encoded data removed]",
      "text/plain": [
       "<Figure size 1152x720 with 1 Axes>"
      ]
     },
     "metadata": {
      "needs_background": "light"
     },
     "output_type": "display_data"
    },
    {
     "name": "stdout",
     "output_type": "stream",
     "text": [
      "           (b) Weighted (2) A* search search: 162.8 path cost, 782 states reached\n"
     ]
    },
    {
     "data": {
      "image/png": "[encoded data removed]",
      "text/plain": [
       "<Figure size 1152x720 with 1 Axes>"
      ]
     },
     "metadata": {
      "needs_background": "light"
     },
     "output_type": "display_data"
    },
    {
     "name": "stdout",
     "output_type": "stream",
     "text": [
      "           Greedy best-first search search: 164.5 path cost, 448 states reached\n"
     ]
    }
   ],
   "source": [
    "plots(d3)"
   ]
  },
  {
   "cell_type": "code",
   "execution_count": 38,
   "metadata": {
    "scrolled": false
   },
   "outputs": [
    {
     "data": {
      "image/png": "[encoded data removed]",
      "text/plain": [
       "<Figure size 1152x720 with 1 Axes>"
      ]
     },
     "metadata": {
      "needs_background": "light"
     },
     "output_type": "display_data"
    },
    {
     "name": "stdout",
     "output_type": "stream",
     "text": [
      "           A* search search: 133.0 path cost, 2,196 states reached\n"
     ]
    },
    {
     "data": {
      "image/png": "[encoded data removed]",
      "text/plain": [
       "<Figure size 1152x720 with 1 Axes>"
      ]
     },
     "metadata": {
      "needs_background": "light"
     },
     "output_type": "display_data"
    },
    {
     "name": "stdout",
     "output_type": "stream",
     "text": [
      "           (b) Weighted (1.4) A* search search: 133.0 path cost, 440 states reached\n"
     ]
    },
    {
     "data": {
      "image/png": "[encoded data removed]",
      "text/plain": [
       "<Figure size 1152x720 with 1 Axes>"
      ]
     },
     "metadata": {
      "needs_background": "light"
     },
     "output_type": "display_data"
    },
    {
     "name": "stdout",
     "output_type": "stream",
     "text": [
      "           (b) Weighted (2) A* search search: 134.2 path cost, 418 states reached\n"
     ]
    },
    {
     "data": {
      "image/png": "[encoded data removed]",
      "text/plain": [
       "<Figure size 1152x720 with 1 Axes>"
      ]
     },
     "metadata": {
      "needs_background": "light"
     },
     "output_type": "display_data"
    },
    {
     "name": "stdout",
     "output_type": "stream",
     "text": [
      "           Greedy best-first search search: 153.0 path cost, 502 states reached\n"
     ]
    }
   ],
   "source": [
    "plots(d4)"
   ]
  },
  {
   "cell_type": "markdown",
   "metadata": {},
   "source": [
    "# The cost of weighted A* search\n",
    "\n",
    "Now I want to try a much simpler grid problem, `d6`, with only a few obstacles. We see that A* finds the optimal path, skirting below the obstacles. Weighterd A* with a weight of 1.4 finds the same optimal path while exploring only 1/3 the number of states. But weighted A* with weight 2 takes the slightly longer path above the obstacles, because that path allowed it to stay closer to the goal in straight-line distance, which it over-weights. And greedy best-first search has a bad showing, not deviating from its path towards the goal until it is almost inside the cup made by the obstacles."
   ]
  },
  {
   "cell_type": "code",
   "execution_count": 39,
   "metadata": {
    "scrolled": false
   },
   "outputs": [
    {
     "data": {
      "image/png": "[encoded data removed]",
      "text/plain": [
       "<Figure size 1152x720 with 1 Axes>"
      ]
     },
     "metadata": {
      "needs_background": "light"
     },
     "output_type": "display_data"
    },
    {
     "name": "stdout",
     "output_type": "stream",
     "text": [
      "           A* search search: 124.1 path cost, 3,305 states reached\n"
     ]
    },
    {
     "data": {
      "image/png": "[encoded data removed]",
      "text/plain": [
       "<Figure size 1152x720 with 1 Axes>"
      ]
     },
     "metadata": {
      "needs_background": "light"
     },
     "output_type": "display_data"
    },
    {
     "name": "stdout",
     "output_type": "stream",
     "text": [
      "           (b) Weighted (1.4) A* search search: 124.1 path cost, 975 states reached\n"
     ]
    },
    {
     "data": {
      "image/png": "[encoded data removed]",
      "text/plain": [
       "<Figure size 1152x720 with 1 Axes>"
      ]
     },
     "metadata": {
      "needs_background": "light"
     },
     "output_type": "display_data"
    },
    {
     "name": "stdout",
     "output_type": "stream",
     "text": [
      "           (b) Weighted (2) A* search search: 128.6 path cost, 879 states reached\n"
     ]
    },
    {
     "data": {
      "image/png": "[encoded data removed]",
      "text/plain": [
       "<Figure size 1152x720 with 1 Axes>"
      ]
     },
     "metadata": {
      "needs_background": "light"
     },
     "output_type": "display_data"
    },
    {
     "name": "stdout",
     "output_type": "stream",
     "text": [
      "           Greedy best-first search search: 133.9 path cost, 758 states reached\n"
     ]
    }
   ],
   "source": [
    "plots(d6)"
   ]
  },
  {
   "cell_type": "markdown",
   "metadata": {},
   "source": [
    "In the next problem, `d7`, we see a similar story. the optimal path found by A*, and we see that again weighted A* with weight 1.4 does great and with weight 2 ends up erroneously going below the first two barriers, and then makes another mistake by reversing direction back towards the goal and passing above the third barrier. Again, greedy best-first makes bad decisions all around."
   ]
  },
  {
   "cell_type": "code",
   "execution_count": 40,
   "metadata": {
    "scrolled": false
   },
   "outputs": [
    {
     "data": {
      "image/png": "[encoded data removed]",
      "text/plain": [
       "<Figure size 1152x720 with 1 Axes>"
      ]
     },
     "metadata": {
      "needs_background": "light"
     },
     "output_type": "display_data"
    },
    {
     "name": "stdout",
     "output_type": "stream",
     "text": [
      "           A* search search: 127.4 path cost, 4,058 states reached\n"
     ]
    },
    {
     "data": {
      "image/png": "[encoded data removed]",
      "text/plain": [
       "<Figure size 1152x720 with 1 Axes>"
      ]
     },
     "metadata": {
      "needs_background": "light"
     },
     "output_type": "display_data"
    },
    {
     "name": "stdout",
     "output_type": "stream",
     "text": [
      "           (b) Weighted (1.4) A* search search: 127.4 path cost, 1,289 states reached\n"
     ]
    },
    {
     "data": {
      "image/png": "[encoded data removed]",
      "text/plain": [
       "<Figure size 1152x720 with 1 Axes>"
      ]
     },
     "metadata": {
      "needs_background": "light"
     },
     "output_type": "display_data"
    },
    {
     "name": "stdout",
     "output_type": "stream",
     "text": [
      "           (b) Weighted (2) A* search search: 140.4 path cost, 982 states reached\n"
     ]
    },
    {
     "data": {
      "image/png": "[encoded data removed]",
      "text/plain": [
       "<Figure size 1152x720 with 1 Axes>"
      ]
     },
     "metadata": {
      "needs_background": "light"
     },
     "output_type": "display_data"
    },
    {
     "name": "stdout",
     "output_type": "stream",
     "text": [
      "           Greedy best-first search search: 151.6 path cost, 826 states reached\n"
     ]
    }
   ],
   "source": [
    "plots(d7)"
   ]
  },
  {
   "cell_type": "markdown",
   "metadata": {},
   "source": [
    "# Nondeterministic Actions\n",
    "\n",
    "To handle problems with nondeterministic problems, we'll replace the `result` method with `results`, which returns a collection of possible result states. We'll represent the solution to a problem not with a `Node`, but with a plan that consist of two types of component: sequences of actions, like `['forward', 'suck']`, and condition actions, like\n",
    "`{5: ['forward', 'suck'], 7: []}`, which says that if we end up in state 5, then do `['forward', 'suck']`, but if we end up in state 7, then do the empty sequence of actions."
   ]
  },
  {
   "cell_type": "code",
   "execution_count": 41,
   "metadata": {},
   "outputs": [],
   "source": [
    "def and_or_search(problem):\n",
    "    \"Find a plan for a problem that has nondterministic actions.\"\n",
    "    return or_search(problem, problem.initial, [])\n",
    "    \n",
    "def or_search(problem, state, path):\n",
    "    \"Find a sequence of actions to reach goal from state, without repeating states on path.\"\n",
    "    if problem.is_goal(state): return []\n",
    "    if state in path: return failure # check for loops\n",
    "    for action in problem.actions(state):\n",
    "        plan = and_search(problem, problem.results(state, action), [state] + path)\n",
    "        if plan != failure:\n",
    "            return [action] + plan\n",
    "    return failure\n",
    "\n",
    "def and_search(problem, states, path):\n",
    "    \"Plan for each of the possible states we might end up in.\"\n",
    "    if len(states) == 1: \n",
    "        return or_search(problem, next(iter(states)), path)\n",
    "    plan = {}\n",
    "    for s in states:\n",
    "        plan[s] = or_search(problem, s, path)\n",
    "        if plan[s] == failure: return failure\n",
    "    return [plan]"
   ]
  },
  {
   "cell_type": "code",
   "execution_count": 42,
   "metadata": {},
   "outputs": [],
   "source": [
    "class MultiGoalProblem(Problem):\n",
    "    \"\"\"A version of `Problem` with a colllection of `goals` instead of one `goal`.\"\"\"\n",
    "    \n",
    "    def __init__(self, initial=None, goals=(), **kwds): \n",
    "        self.__dict__.update(initial=initial, goals=goals, **kwds)\n",
    "        \n",
    "    def is_goal(self, state): return state in self.goals\n",
    "    \n",
    "class ErraticVacuum(MultiGoalProblem):\n",
    "    \"\"\"In this 2-location vacuum problem, the suck action in a dirty square will either clean up that square,\n",
    "    or clean up both squares. A suck action in a clean square will either do nothing, or\n",
    "    will deposit dirt in that square. Forward and backward actions are deterministic.\"\"\"\n",
    "    \n",
    "    def actions(self, state): \n",
    "        return ['suck', 'forward', 'backward']\n",
    "    \n",
    "    def results(self, state, action): return self.table[action][state]\n",
    "    \n",
    "    table = {'suck':{1:{5,7}, 2:{4,8}, 3:{7}, 4:{2,4}, 5:{1,5}, 6:{8}, 7:{3,7}, 8:{6,8}},\n",
    "             'forward': {1:{2}, 2:{2}, 3:{4}, 4:{4}, 5:{6}, 6:{6}, 7:{8}, 8:{8}},\n",
    "             'backward': {1:{1}, 2:{1}, 3:{3}, 4:{3}, 5:{5}, 6:{5}, 7:{7}, 8:{7}}}"
   ]
  },
  {
   "cell_type": "markdown",
   "metadata": {},
   "source": [
    "Let's find a plan to get from state 1 to the goal of no dirt (states 7 or 8):"
   ]
  },
  {
   "cell_type": "code",
   "execution_count": 43,
   "metadata": {},
   "outputs": [
    {
     "data": {
      "text/plain": [
       "['suck', {5: ['forward', 'suck'], 7: []}]"
      ]
     },
     "execution_count": 43,
     "metadata": {},
     "output_type": "execute_result"
    }
   ],
   "source": [
    "and_or_search(ErraticVacuum(1, {7, 8}))"
   ]
  },
  {
   "cell_type": "markdown",
   "metadata": {},
   "source": [
    "This plan says \"First suck, and if we end up in state 5, go forward and suck again; if we end up in state 7, do nothing because that is a goal.\"\n",
    "\n",
    "Here are the plans to get to a goal state starting from any one of the 8 states:"
   ]
  },
  {
   "cell_type": "code",
   "execution_count": 44,
   "metadata": {},
   "outputs": [
    {
     "data": {
      "text/plain": [
       "{1: ['suck', {5: ['forward', 'suck'], 7: []}],\n",
       " 2: ['suck', {8: [], 4: ['backward', 'suck']}],\n",
       " 3: ['suck'],\n",
       " 4: ['backward', 'suck'],\n",
       " 5: ['forward', 'suck'],\n",
       " 6: ['suck'],\n",
       " 7: [],\n",
       " 8: []}"
      ]
     },
     "execution_count": 44,
     "metadata": {},
     "output_type": "execute_result"
    }
   ],
   "source": [
    "{s: and_or_search(ErraticVacuum(s, {7,8})) \n",
    " for s in range(1, 9)}"
   ]
  },
  {
   "cell_type": "markdown",
   "metadata": {},
   "source": [
    "# Comparing Algorithms on EightPuzzle Problems of Different Lengths"
   ]
  },
  {
   "cell_type": "code",
   "execution_count": 45,
   "metadata": {},
   "outputs": [],
   "source": [
    "from functools import lru_cache\n",
    "\n",
    "def build_table(table, depth, state, problem):\n",
    "    if depth > 0 and state not in table:\n",
    "        problem.initial = state\n",
    "        table[state] = len(astar_search(problem))\n",
    "        for a in problem.actions(state):\n",
    "            build_table(table, depth - 1, problem.result(state, a), problem)\n",
    "    return table\n",
    "\n",
    "def invert_table(table):\n",
    "    result = defaultdict(list)\n",
    "    for key, val in table.items():\n",
    "        result[val].append(key)\n",
    "    return result\n",
    "\n",
    "goal = (0, 1, 2, 3, 4, 5, 6, 7, 8)\n",
    "table8 = invert_table(build_table({}, 25, goal, EightPuzzle(goal)))"
   ]
  },
  {
   "cell_type": "code",
   "execution_count": 46,
   "metadata": {
    "scrolled": false
   },
   "outputs": [
    {
     "data": {
      "text/plain": [
       "2.6698"
      ]
     },
     "execution_count": 46,
     "metadata": {},
     "output_type": "execute_result"
    }
   ],
   "source": [
    "def report8(table8, M, Ds=range(2, 25, 2), searchers=(breadth_first_search, astar_misplaced_tiles, astar_search)):\n",
    "    \"Make a table of average nodes generated and effective branching factor\"\n",
    "    for d in Ds:\n",
    "        line = [d]\n",
    "        N = min(M, len(table8[d]))\n",
    "        states = random.sample(table8[d], N)\n",
    "        for searcher in searchers:\n",
    "            nodes = 0\n",
    "            for s in states:\n",
    "                problem = CountCalls(EightPuzzle(s))\n",
    "                searcher(problem)\n",
    "                nodes += problem._counts['result']\n",
    "            nodes = int(round(nodes/N))\n",
    "            line.append(nodes)\n",
    "        line.extend([ebf(d, n) for n in line[1:]])\n",
    "        print('{:2} & {:6} & {:5} & {:5} && {:.2f} & {:.2f} & {:.2f}'\n",
    "              .format(*line))\n",
    "\n",
    "        \n",
    "def ebf(d, N, possible_bs=[b/100 for b in range(100, 300)]):\n",
    "    \"Effective Branching Factor\"\n",
    "    return min(possible_bs, key=lambda b: abs(N - sum(b**i for i in range(1, d+1))))\n",
    "\n",
    "from statistics import mean \n",
    "\n",
    "def random_state():\n",
    "    x = list(range(9))\n",
    "    random.shuffle(x)\n",
    "    return tuple(x)\n",
    "\n",
    "meanbf = mean(len(e3.actions(random_state())) for _ in range(10000))\n",
    "meanbf"
   ]
  },
  {
   "cell_type": "code",
   "execution_count": 47,
   "metadata": {},
   "outputs": [
    {
     "data": {
      "text/plain": [
       "{0: 1,\n",
       " 1: 2,\n",
       " 2: 4,\n",
       " 3: 8,\n",
       " 4: 16,\n",
       " 5: 16,\n",
       " 6: 33,\n",
       " 7: 39,\n",
       " 8: 77,\n",
       " 9: 85,\n",
       " 10: 169,\n",
       " 11: 183,\n",
       " 12: 374,\n",
       " 13: 376,\n",
       " 14: 745,\n",
       " 15: 446,\n",
       " 16: 918,\n",
       " 17: 628,\n",
       " 18: 1244,\n",
       " 19: 781,\n",
       " 20: 1425,\n",
       " 21: 546,\n",
       " 22: 869,\n",
       " 23: 222,\n",
       " 24: 305}"
      ]
     },
     "execution_count": 47,
     "metadata": {},
     "output_type": "execute_result"
    }
   ],
   "source": [
    "{n: len(v) for (n, v) in table8.items()}"
   ]
  },
  {
   "cell_type": "code",
   "execution_count": null,
   "metadata": {},
   "outputs": [],
   "source": [
    "%time table30 = invert_table(build_table({}, 30, goal, EightPuzzle(goal)))"
   ]
  },
  {
   "cell_type": "code",
   "execution_count": null,
   "metadata": {},
   "outputs": [],
   "source": [
    "%time report8(table30, 20, range(26, 31, 2))"
   ]
  },
  {
   "cell_type": "code",
   "execution_count": null,
   "metadata": {},
   "outputs": [],
   "source": [
    "from itertools import combinations\n",
    "from statistics import median, mean\n",
    "\n",
    "# Detour index for Romania\n",
    "\n",
    "L = romania.locations\n",
    "def ratio(a, b): return astar_search(RouteProblem(a, b, map=romania)).path_cost / straight_line_distance(L[a], L[b])\n",
    "nums = [ratio(a, b) for a,b in combinations(L, 2) if b in r1.actions(a)]\n",
    "mean(nums), median(nums) # 1.7, 1.6 # 1.26, 1.2 for adjacent cities"
   ]
  }
 ],
 "metadata": {
  "kernelspec": {
   "display_name": "Python 3",
   "language": "python",
   "name": "python3"
  },
  "language_info": {
   "codemirror_mode": {
    "name": "ipython",
    "version": 3
   },
   "file_extension": ".py",
   "mimetype": "text/x-python",
   "name": "python",
   "nbconvert_exporter": "python",
   "pygments_lexer": "ipython3",
   "version": "3.6.8"
  }
 },
 "nbformat": 4,
 "nbformat_minor": 2
}
