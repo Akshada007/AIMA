{
 "cells": [
  {
   "cell_type": "markdown",
   "metadata": {},
   "source": [
    "# Search for AIMA 4th edition\n",
    "\n",
    "Implementation of search algorithms and search problems for AIMA.\n",
    "\n",
    "# Problems and Nodes\n",
    "\n",
    "We start by defining the abstract class for a `Problem`; specific problem domains will subclass this. To make it easier for algorithms that use a heuristic evaluation function, `Problem` has a default `h` function (uniformly zero), and subclasses can define their own default `h` function.\n",
    "\n",
    "We also define a `Node` in a search tree, and some functions on nodes: `expand` to generate successors; `path_actions` and `path_states`  to recover aspects of the path from the node.  "
   ]
  },
  {
   "cell_type": "code",
   "execution_count": 1,
   "metadata": {},
   "outputs": [],
   "source": [
    "%matplotlib inline\n",
    "import matplotlib.pyplot as plt\n",
    "import random\n",
    "import heapq\n",
    "import math\n",
    "import sys\n",
    "from collections import defaultdict, deque, Counter\n",
    "from itertools import combinations\n",
    "from notebook4e import AnimateProblem\n",
    "\n",
    "\n",
    "class Problem(object):\n",
    "    \"\"\"The abstract class for a formal problem. A new domain subclasses this,\n",
    "    overriding `actions` and `results`, and perhaps other methods.\n",
    "    The default heuristic is 0 and the default action cost is 1 for all states.\n",
    "    When yiou create an instance of a subclass, specify `initial`, and `goal` states \n",
    "    (or give an `is_goal` method) and perhaps other keyword args for the subclass.\"\"\"\n",
    "\n",
    "    def __init__(self, initial=None, goal=None, **kwds): \n",
    "        self.__dict__.update(initial=initial, goal=goal, **kwds) \n",
    "        \n",
    "    def actions(self, state):        raise NotImplementedError\n",
    "    def result(self, state, action): raise NotImplementedError\n",
    "    def is_goal(self, state):        return state == self.goal\n",
    "    def step_cost(self, s, a, s1): return 1\n",
    "    def h(self, node):               return 0\n",
    "    \n",
    "    def __str__(self):\n",
    "        return '{}({!r}, {!r})'.format(\n",
    "            type(self).__name__, self.initial, self.goal)\n",
    "    \n",
    "\n",
    "class Node:\n",
    "    \"A Node in a search tree.\"\n",
    "    def __init__(self, state, parent=None, action=None, path_cost=0):\n",
    "        self.__dict__.update(state=state, parent=parent, action=action, path_cost=path_cost)\n",
    "\n",
    "    def __repr__(self): return '<{}>'.format(self.state)\n",
    "    def __len__(self): return 0 if self.parent is None else (1 + len(self.parent))\n",
    "    def __lt__(self, other): return self.path_cost < other.path_cost\n",
    "    \n",
    "    \n",
    "failure = Node('failure', path_cost=math.inf) # Indicates an algorithm couldn't find a solution.\n",
    "cutoff  = Node('cutoff',  path_cost=math.inf) # Indicates iterative deepening search was cut off.\n",
    "    \n",
    "    \n",
    "def expand(problem, node):\n",
    "    \"Expand a node, generating the children nodes.\"\n",
    "    s = node.state\n",
    "    for action in problem.actions(s):\n",
    "        s1 = problem.result(s, action)\n",
    "        cost = node.path_cost + problem.step_cost(s, action, s1)\n",
    "        yield Node(s1, node, action, cost)\n",
    "        \n",
    "\n",
    "def path_actions(node):\n",
    "    \"The sequence of actions to get to this node.\"\n",
    "    if node.parent is None:\n",
    "        return []  \n",
    "    return path_actions(node.parent) + [node.action]\n",
    "\n",
    "\n",
    "def path_states(node):\n",
    "    \"The sequence of states to get to this node.\"\n",
    "    if node in (cutoff, failure, None): \n",
    "        return []\n",
    "    return path_states(node.parent) + [node.state]"
   ]
  },
  {
   "cell_type": "markdown",
   "metadata": {},
   "source": [
    "# Queues\n",
    "\n",
    "First-in-first-out and Last-in-first-out queues, and a `PriorityQueue`, which allows you to keep a collection of items, and continually remove from it the item with minimum `f(item)` score."
   ]
  },
  {
   "cell_type": "code",
   "execution_count": 2,
   "metadata": {},
   "outputs": [],
   "source": [
    "FIFOQueue = deque\n",
    "\n",
    "LIFOQueue = list\n",
    "\n",
    "class PriorityQueue:\n",
    "    \"\"\"A queue in which the item with minimum f(item) is always popped first.\"\"\"\n",
    "\n",
    "    def __init__(self, items=(), key=lambda x: x): \n",
    "        self.key = key\n",
    "        self.items = [] # a heap of (score, item) pairs\n",
    "        for item in items:\n",
    "            self.add(item)\n",
    "         \n",
    "    def add(self, item):\n",
    "        \"\"\"Add item to the queuez.\"\"\"\n",
    "        pair = (self.key(item), item)\n",
    "        heapq.heappush(self.items, pair)\n",
    "\n",
    "    def pop(self):\n",
    "        \"\"\"Pop and return the item with min f(item) value.\"\"\"\n",
    "        return heapq.heappop(self.items)[1]\n",
    "    \n",
    "    def top(self): return self.items[0][1]\n",
    "\n",
    "    def __len__(self): return len(self.items)"
   ]
  },
  {
   "cell_type": "markdown",
   "metadata": {},
   "source": [
    "# Search Algorithms: Best-First\n",
    "\n",
    "Best-first search with various *f(n)* functions gives us different search algorithms. Note that A\\*, weighted A\\* and greedy search can be given a heuristic function, `h`, but if `h` is not supplied they use the problem's default `h` function (if the problem does not define one, it is taken as *h(n)* = 0)."
   ]
  },
  {
   "cell_type": "code",
   "execution_count": 3,
   "metadata": {},
   "outputs": [],
   "source": [
    "def best_first_search(problem, f):\n",
    "    \"Search nodes with minimum f(node) value first.\"\n",
    "    node = Node(problem.initial)\n",
    "    frontier = PriorityQueue([node], key=f)\n",
    "    reached = {problem.initial: node}\n",
    "    while frontier:\n",
    "        node = frontier.pop()\n",
    "        if problem.is_goal(node.state):\n",
    "            return node\n",
    "        for child in expand(problem, node):\n",
    "            s = child.state\n",
    "            if s not in reached or child.path_cost < reached[s].path_cost:\n",
    "                reached[s] = child\n",
    "                frontier.add(child)\n",
    "    return failure\n",
    "\n",
    "\n",
    "def best_first_tree_search(problem, f):\n",
    "    \"A version of best_first_search without the `reached` table.\"\n",
    "    frontier = PriorityQueue([Node(problem.initial)], key=f)\n",
    "    while frontier:\n",
    "        node = frontier.pop()\n",
    "        if problem.is_goal(node.state):\n",
    "            return node\n",
    "        for child in expand(problem, node):\n",
    "            if not is_cycle(child):\n",
    "                frontier.add(child)\n",
    "    return failure\n",
    "\n",
    "\n",
    "def g(n): return n.path_cost\n",
    "\n",
    "\n",
    "def astar_search(problem, h=None):\n",
    "    \"\"\"Search nodes with minimum f(n) = g(n) + h(n).\"\"\"\n",
    "    h = h or problem.h\n",
    "    return best_first_search(problem, f=lambda n: g(n) + h(n))\n",
    "\n",
    "\n",
    "def astar_tree_search(problem, h=None):\n",
    "    \"\"\"Search nodes with minimum f(n) = g(n) + h(n), with no `reached` table.\"\"\"\n",
    "    h = h or problem.h\n",
    "    return best_first_tree_search(problem, f=lambda n: g(n) + h(n))\n",
    "\n",
    "\n",
    "def weighted_astar_search(problem, h=None, weight=1.4):\n",
    "    \"\"\"Search nodes with minimum f(n) = g(n) + weight * h(n).\"\"\"\n",
    "    h = h or problem.h\n",
    "    return best_first_search(problem, f=lambda n: g(n) + weight * h(n))\n",
    "\n",
    "        \n",
    "def greedy_bfs(problem, h=None):\n",
    "    \"\"\"Search nodes with minimum h(n).\"\"\"\n",
    "    h = h or problem.h\n",
    "    return best_first_search(problem, f=h)\n",
    "\n",
    "\n",
    "def uniform_cost_search(problem):\n",
    "    \"Search nodes with minimum path cost first.\"\n",
    "    return best_first_search(problem, f=g)\n",
    "\n",
    "\n",
    "def breadth_first_bfs(problem):\n",
    "    \"Search shallowest nodes in the search tree first; using best-first.\"\n",
    "    return best_first_search(problem, f=len)\n",
    "\n",
    "\n",
    "def depth_first_bfs(problem):\n",
    "    \"Search deepest nodes in the search tree first; using best-first.\"\n",
    "    return best_first_search(problem, f=lambda n: -len(n))\n",
    "\n",
    "\n",
    "def is_cycle(node, k=30):\n",
    "    \"Does this node form a cycle of length k or less?\"\n",
    "    def find_cycle(ancestor, k):\n",
    "        return (ancestor is not None and k > 0 and\n",
    "                (ancestor.state == node.state or find_cycle(ancestor.parent, k - 1)))\n",
    "    return find_cycle(node.parent, k)\n",
    "\n"
   ]
  },
  {
   "cell_type": "markdown",
   "metadata": {},
   "source": [
    "# Other Search Algorithms\n",
    "\n",
    "Here are the other search algorithms:"
   ]
  },
  {
   "cell_type": "code",
   "execution_count": 4,
   "metadata": {},
   "outputs": [],
   "source": [
    "def breadth_first_search(problem):\n",
    "    \"Search shallowest nodes in the search tree first.\"\n",
    "    node = Node(problem.initial)\n",
    "    if problem.is_goal(problem.initial):\n",
    "        return node\n",
    "    frontier = FIFOQueue([node])\n",
    "    reached = {problem.initial}\n",
    "    while frontier:\n",
    "        node = frontier.pop()\n",
    "        for child in expand(problem, node):\n",
    "            s = child.state\n",
    "            if problem.is_goal(s):\n",
    "                return child\n",
    "            if s not in reached:\n",
    "                reached.add(s)\n",
    "                frontier.appendleft(child)\n",
    "    return failure\n",
    "\n",
    "\n",
    "def iterative_deepening_search(problem):\n",
    "    \"Do depth-limited search with increasing depth limits.\"\n",
    "    for limit in range(1, sys.maxsize):\n",
    "        result = depth_limited_search(problem, limit)\n",
    "        if result != cutoff:\n",
    "            return result\n",
    "        \n",
    "        \n",
    "def depth_limited_search(problem, limit=10):\n",
    "    \"Search deepest nodes in the search tree first.\"\n",
    "    frontier = LIFOQueue([Node(problem.initial)])\n",
    "    result = failure\n",
    "    while frontier:\n",
    "        node = frontier.pop()\n",
    "        if problem.is_goal(node.state):\n",
    "            return node\n",
    "        elif len(node) >= limit:\n",
    "            result = cutoff\n",
    "        elif not is_cycle(node):\n",
    "            for child in expand(problem, node):\n",
    "                frontier.append(child)\n",
    "    return result\n",
    "\n",
    "\n",
    "def depth_first_recursive_search(problem, node=None):\n",
    "    if node is None: \n",
    "        node = Node(problem.initial)\n",
    "    if problem.is_goal(node.state):\n",
    "        return node\n",
    "    elif is_cycle(node):\n",
    "        return failure\n",
    "    else:\n",
    "        for child in expand(problem, node):\n",
    "            result = depth_first_recursive_search(problem, child)\n",
    "            if result:\n",
    "                return result\n",
    "        return failure"
   ]
  },
  {
   "cell_type": "markdown",
   "metadata": {},
   "source": [
    "# Bidirectional Best-First Search"
   ]
  },
  {
   "cell_type": "code",
   "execution_count": 5,
   "metadata": {},
   "outputs": [],
   "source": [
    "def bidirectional_best_first_search(problem_f, f_f, problem_b, f_b, terminated):\n",
    "    node_f = Node(problem_f.initial)\n",
    "    node_b = Node(problem_f.goal)\n",
    "    frontier_f, reached_f = PriorityQueue([node_f], key=f_f), {node_f.state: node_f}\n",
    "    frontier_b, reached_b = PriorityQueue([node_b], key=f_b), {node_b.state: node_b}\n",
    "    solution = failure\n",
    "    while frontier_f and frontier_b and not terminated(solution, frontier_f, frontier_b):\n",
    "        def S1(node, f):\n",
    "            return str(int(f(node))) + ' ' + str(path_states(node))\n",
    "        print('Bi:', S1(frontier_f.top(), f_f), S1(frontier_b.top(), f_b))\n",
    "        if f_f(frontier_f.top()) < f_b(frontier_b.top()):\n",
    "            solution = proceed('f', problem_f, frontier_f, reached_f, reached_b, solution)\n",
    "        else:\n",
    "            solution = proceed('b', problem_b, frontier_b, reached_b, reached_f, solution)\n",
    "    return solution\n",
    "\n",
    "def inverse_problem(problem):\n",
    "    if isinstance(problem, CountCalls):\n",
    "        return CountCalls(inverse_problem(problem._object))\n",
    "    else:\n",
    "        inv = copy.copy(problem)\n",
    "        inv.initial, inv.goal = inv.goal, inv.initial\n",
    "        return inv"
   ]
  },
  {
   "cell_type": "code",
   "execution_count": 6,
   "metadata": {},
   "outputs": [],
   "source": [
    "def bidirectional_uniform_cost_search(problem_f):\n",
    "    def terminated(solution, frontier_f, frontier_b):\n",
    "        n_f, n_b = frontier_f.top(), frontier_b.top()\n",
    "        return g(n_f) + g(n_b) > g(solution)\n",
    "    return bidirectional_best_first_search(problem_f, g, inverse_problem(problem_f), g, terminated)\n",
    "\n",
    "def bidirectional_astar_search(problem_f):\n",
    "    def terminated(solution, frontier_f, frontier_b):\n",
    "        nf, nb = frontier_f.top(), frontier_b.top()\n",
    "        return g(nf) + g(nb) > g(solution)\n",
    "    problem_f = inverse_problem(problem_f)\n",
    "    return bidirectional_best_first_search(problem_f, lambda n: g(n) + problem_f.h(n),\n",
    "                                           problem_b, lambda n: g(n) + problem_b.h(n), \n",
    "                                           terminated)\n",
    "   \n",
    "\n",
    "def proceed(direction, problem, frontier, reached, reached2, solution):\n",
    "    node = frontier.pop()\n",
    "    for child in expand(problem, node):\n",
    "        s = child.state\n",
    "        print('proceed', direction, S(child))\n",
    "        if s not in reached or child.path_cost < reached[s].path_cost:\n",
    "            frontier.add(child)\n",
    "            reached[s] = child\n",
    "            if s in reached2: # Frontiers collide; solution found\n",
    "                solution2 = (join_nodes(child, reached2[s]) if direction == 'f' else\n",
    "                             join_nodes(reached2[s], child))\n",
    "                #print('solution', path_states(solution2), solution2.path_cost, \n",
    "                # path_states(child), path_states(reached2[s]))\n",
    "                if solution2.path_cost < solution.path_cost:\n",
    "                    solution = solution2\n",
    "    return solution\n",
    "\n",
    "S = path_states\n",
    "\n",
    "#A-S-R + B-P-R => A-S-R-P + B-P\n",
    "def join_nodes(nf, nb):\n",
    "    \"\"\"Join the reverse of the backward node nb to the forward node nf.\"\"\"\n",
    "    #print('join', S(nf), S(nb))\n",
    "    join = nf\n",
    "    while nb.parent is not None:\n",
    "        cost = join.path_cost + nb.path_cost - nb.parent.path_cost\n",
    "        join = Node(nb.parent.state, join, nb.action, cost)\n",
    "        nb = nb.parent\n",
    "        #print('  now join', S(join), 'with nb', S(nb), 'parent', S(nb.parent))\n",
    "    return join\n",
    "    \n",
    "   "
   ]
  },
  {
   "cell_type": "markdown",
   "metadata": {},
   "source": [
    "# TODO: RBFS"
   ]
  },
  {
   "cell_type": "markdown",
   "metadata": {},
   "source": [
    "# Problem Domains\n",
    "\n",
    "Now we turn our attention to defining some problem domains as subclasses of `Problem`."
   ]
  },
  {
   "cell_type": "markdown",
   "metadata": {},
   "source": [
    "# Route Finding Problems\n",
    "\n",
    "![](romania.png)\n",
    "\n",
    "In a `RouteProblem`, the states are names of \"cities\" (or other locations), like `'A'` for Arad. The actions are also city names; `'Z'` is the action to move to city `'Z'`. The layout of cities is given by a separate data structure, a `Map`, which is a graph where there are vertexes (cities), links between vertexes, distances (costs) of those links (if not specified, the default is 1 for every link), and optionally the 2D (x, y) location of each city can be specified. A `RouteProblem` takes this `Map` as input and allows actions to move between linked cities. The default heuristic is straight-line distance to the goal, or is uniformly zero if locations were not given."
   ]
  },
  {
   "cell_type": "code",
   "execution_count": 7,
   "metadata": {},
   "outputs": [],
   "source": [
    "class RouteProblem(Problem):\n",
    "    \"\"\"A problem to find a route between locations on a `Map`.\n",
    "    Create a problem with RouteProblem(start, goal, map=Map(...)}).\n",
    "    States are the vertexes in the Map graph; actions are destination states.\"\"\"\n",
    "    \n",
    "    def actions(self, state): \n",
    "        \"\"\"The places neighboring `state`.\"\"\"\n",
    "        return self.map.neighbors[state]\n",
    "    \n",
    "    def result(self, state, action):\n",
    "        \"\"\"Go to the `action` place, if the map says that is possible.\"\"\"\n",
    "        return action if action in self.map.neighbors[state] else state\n",
    "    \n",
    "    def step_cost(self, s, action, s1):\n",
    "        \"\"\"The distance (cost) to go from s to s1.\"\"\"\n",
    "        return self.map.distances[s, s1]\n",
    "    \n",
    "    def h(self, node):\n",
    "        \"Straight-line distance between state and the goal.\"\n",
    "        locs = self.map.locations\n",
    "        return straight_line_distance(locs[node.state], locs[self.goal])\n",
    "    \n",
    "    \n",
    "def straight_line_distance(A, B):\n",
    "    \"Straight-line distance between two points.\"\n",
    "    return sum(abs(a - b)**2 for (a, b) in zip(A, B)) ** 0.5"
   ]
  },
  {
   "cell_type": "code",
   "execution_count": 8,
   "metadata": {},
   "outputs": [],
   "source": [
    "class Map:\n",
    "    \"\"\"A map of places in a 2D world: a graph with vertexes and links between them. \n",
    "    In `Map(links, locations)`, `links` can be either [(v1, v2)...] pairs, \n",
    "    or a {(v1, v2): distance...} dict. Optional `locations` can be {v1: (x, y)} \n",
    "    If `directed=False` then for every (v1, v2) link, we add a (v2, v1) link.\"\"\"\n",
    "\n",
    "    def __init__(self, links, locations=None, directed=False):\n",
    "        if not hasattr(links, 'items'): # Distances are 1 by default\n",
    "            links = {link: 1 for link in links}\n",
    "        if not directed:\n",
    "            for (v1, v2) in list(links):\n",
    "                links[v2, v1] = links[v1, v2]\n",
    "        self.distances = links\n",
    "        self.neighbors = multimap(links)\n",
    "        self.locations = locations or defaultdict(lambda: (0, 0))\n",
    "\n",
    "        \n",
    "def multimap(pairs) -> dict:\n",
    "    \"Given (key, val) pairs, make a dict of {key: [val,...]}.\"\n",
    "    result = defaultdict(list)\n",
    "    for key, val in pairs:\n",
    "        result[key].append(val)\n",
    "    return result"
   ]
  },
  {
   "cell_type": "code",
   "execution_count": 9,
   "metadata": {},
   "outputs": [],
   "source": [
    "# Some specific RouteProblems\n",
    "\n",
    "romania = Map(\n",
    "    {('O', 'Z'):  71, ('O', 'S'): 151, ('A', 'Z'): 75, ('A', 'S'): 140, ('A', 'T'): 118, \n",
    "     ('L', 'T'): 111, ('L', 'M'):  70, ('D', 'M'): 75, ('C', 'D'): 120, ('C', 'R'): 146, \n",
    "     ('C', 'P'): 138, ('R', 'S'):  80, ('F', 'S'): 99, ('B', 'F'): 211, ('B', 'P'): 101, \n",
    "     ('B', 'G'):  90, ('B', 'U'):  85, ('H', 'U'): 98, ('E', 'H'):  86, ('U', 'V'): 142, \n",
    "     ('I', 'V'):  92, ('I', 'N'):  87, ('P', 'R'): 97},\n",
    "    {'A': ( 76, 497), 'B': (400, 327), 'C': (246, 285), 'D': (160, 296), 'E': (558, 294), \n",
    "     'F': (285, 460), 'G': (368, 257), 'H': (548, 355), 'I': (488, 535), 'L': (162, 379),\n",
    "     'M': (160, 343), 'N': (407, 561), 'O': (117, 580), 'P': (311, 372), 'R': (227, 412),\n",
    "     'S': (187, 463), 'T': ( 83, 414), 'U': (471, 363), 'V': (535, 473), 'Z': (92, 539)})\n",
    "\n",
    "\n",
    "r0 = RouteProblem('A', 'A', map=romania)\n",
    "r1 = RouteProblem('A', 'B', map=romania)\n",
    "r2 = RouteProblem('N', 'L', map=romania)\n",
    "r3 = RouteProblem('E', 'T', map=romania)\n",
    "r4 = RouteProblem('O', 'M', map=romania)"
   ]
  },
  {
   "cell_type": "code",
   "execution_count": 10,
   "metadata": {},
   "outputs": [
    {
     "data": {
      "text/plain": [
       "['A', 'S', 'R', 'P', 'B']"
      ]
     },
     "execution_count": 10,
     "metadata": {},
     "output_type": "execute_result"
    }
   ],
   "source": [
    "path_states(uniform_cost_search(r1)) # Lowest-cost path from Arab to Bucharest"
   ]
  },
  {
   "cell_type": "code",
   "execution_count": 11,
   "metadata": {},
   "outputs": [
    {
     "data": {
      "text/plain": [
       "['A', 'S', 'F', 'B']"
      ]
     },
     "execution_count": 11,
     "metadata": {},
     "output_type": "execute_result"
    }
   ],
   "source": [
    "path_states(breadth_first_search(r1)) # Breadth-first: fewer steps, higher path cost"
   ]
  },
  {
   "cell_type": "markdown",
   "metadata": {},
   "source": [
    "# Grid Problems\n",
    "\n",
    "A `GridProblem` involves navigating on a 2D grid, with some cells being impassible obstacles. By default you can move to any of the eight neighboring cells that are not obstacles (but in a problem instance you can supply a `directions=` keyword to change that). Again, the default heuristic is straight-line distance to the goal. States are `(x, y)` cell locations, such as `(4, 2)`, and actions are `(dx, dy)` cell movements, such as `(0, -1)`, which means leave the `x` coordinate alone, and decrement the `y` coordinate by 1."
   ]
  },
  {
   "cell_type": "code",
   "execution_count": 12,
   "metadata": {},
   "outputs": [],
   "source": [
    "class GridProblem(Problem):\n",
    "    \"\"\"Finding a path on a 2D grid with obstacles. Obstacles are (x, y) cells.\"\"\"\n",
    "\n",
    "    def __init__(self, initial=(15, 30), goal=(130, 30), obstacles=(), **kwds):\n",
    "        Problem.__init__(self, initial=initial, goal=goal, \n",
    "                         obstacles=set(obstacles) - {initial, goal}, **kwds)\n",
    "\n",
    "    directions = [(-1, -1), (0, -1), (1, -1),\n",
    "                  (-1, 0),           (1,  0),\n",
    "                  (-1, +1), (0, +1), (1, +1)]\n",
    "    \n",
    "    def step_cost(self, s, action, s1): return straight_line_distance(s, s1)\n",
    "    \n",
    "    def h(self, node): return straight_line_distance(node.state, self.goal)\n",
    "                  \n",
    "    def result(self, state, action): \n",
    "        \"Both states and actions are represented by (x, y) pairs.\"\n",
    "        return action if action not in self.obstacles else state\n",
    "    \n",
    "    def actions(self, state):\n",
    "        \"\"\"You can move one cell in any of `directions` to a non-obstacle cell.\"\"\"\n",
    "        x, y = state\n",
    "        return {(x + dx, y + dy) for (dx, dy) in self.directions} - self.obstacles\n",
    "    \n",
    "class ErraticVacuum(Problem):\n",
    "    def actions(self, state): \n",
    "        return ['suck', 'forward', 'backward']\n",
    "    \n",
    "    def results(self, state, action): return self.table[action][state]\n",
    "    \n",
    "    table = dict(suck=    {1:{5,7}, 2:{4,8}, 3:{7}, 4:{2,4}, 5:{1,5}, 6:{8}, 7:{3,7}, 8:{6,8}},\n",
    "                 forward= {1:{2}, 2:{2}, 3:{4}, 4:{4}, 5:{6}, 6:{6}, 7:{8}, 8:{8}},\n",
    "                 backward={1:{1}, 2:{1}, 3:{3}, 4:{3}, 5:{5}, 6:{5}, 7:{7}, 8:{7}})"
   ]
  },
  {
   "cell_type": "code",
   "execution_count": 13,
   "metadata": {},
   "outputs": [],
   "source": [
    "# Some grid routing problems\n",
    "\n",
    "# The following can be used to create obstacles:\n",
    "    \n",
    "def random_lines(X=range(15, 130), Y=range(60), N=150, lengths=range(6, 12)):\n",
    "    \"\"\"The set of cells in N random lines of the given lengths.\"\"\"\n",
    "    result = set()\n",
    "    for _ in range(N):\n",
    "        x, y = random.choice(X), random.choice(Y)\n",
    "        dx, dy = random.choice(((0, 1), (1, 0)))\n",
    "        result |= line(x, y, dx, dy, random.choice(lengths))\n",
    "    return result\n",
    "\n",
    "def line(x, y, dx, dy, length):\n",
    "    \"\"\"A line of `length` cells starting at (x, y) and going in (dx, dy) direction.\"\"\"\n",
    "    return {(x + i * dx, y + i * dy) for i in range(length)}\n",
    "\n",
    "random.seed(42) # To make this reproducible\n",
    "\n",
    "frame = line(-10, 20, 0, 1, 20) | line(150, 20, 0, 1, 20)\n",
    "cup = line(102, 44, -1, 0, 15) | line(102, 20, -1, 0, 20) | line(102, 44, 0, -1, 24)\n",
    "\n",
    "d1 = GridProblem(obstacles=random_lines(N=100) | frame)\n",
    "d2 = GridProblem(obstacles=random_lines(N=150) | frame)\n",
    "d3 = GridProblem(obstacles=random_lines(N=200) | frame)\n",
    "d4 = GridProblem(obstacles=random_lines(N=250) | frame)\n",
    "d5 = GridProblem(obstacles=random_lines(N=300) | frame)\n",
    "d6 = GridProblem(obstacles=cup | frame)\n",
    "d7 = GridProblem(obstacles=cup | frame | line(50, 35, 0, -1, 10) | line(60, 37, 0, -1, 17) | line(70, 31, 0, -1, 19))"
   ]
  },
  {
   "cell_type": "markdown",
   "metadata": {},
   "source": [
    "# 8 Puzzle Problems\n",
    "\n",
    "![](https://ece.uwaterloo.ca/~dwharder/aads/Algorithms/N_puzzles/images/puz3.png)\n",
    "\n",
    "A sliding tile puzzle where you can swap the blank with an adjacent piece, trying to reach a goal configuration. The cells are numbered 0 to 8, starting at the top left and going row by row left to right. The pieces are numebred 1 to 8, with 0 representing the blank. An action is the cell index number that is to be swapped with the blank (*not* the actual number to be swapped but the index into the state). So the diagram above left is the state `(5, 2, 7, 8, 4, 0, 1, 3, 6)`, and the action is `8`, because the cell number 8 (the 9th or last cell, the `6` in the bottom right) is swapped with the blank.\n",
    "\n",
    "There are two disjoint sets of states that cannot be reached from each other. One set has an even number of \"inversions\"; the other has an odd number. An inversion is when a piece in the state is larger than a piece that follows it.\n",
    "\n",
    "\n"
   ]
  },
  {
   "cell_type": "code",
   "execution_count": 14,
   "metadata": {},
   "outputs": [],
   "source": [
    "class EightPuzzle(Problem):\n",
    "    \"\"\" The problem of sliding tiles numbered from 1 to 8 on a 3x3 board,\n",
    "    where one of the squares is a blank, trying to reach a goal configuration.\n",
    "    A board state is represented as a tuple of length 9, where the element at index i \n",
    "    represents the tile number at index i, or 0 if for the empty square, e.g. the goal:\n",
    "        1 2 3\n",
    "        4 5 6 ==> (1, 2, 3, 4, 5, 6, 7, 8, 0)\n",
    "        7 8 _\n",
    "    \"\"\"\n",
    "\n",
    "    def __init__(self, initial, goal=(0, 1, 2, 3, 4, 5, 6, 7, 8)):\n",
    "        assert inversions(initial) % 2 == inversions(goal) % 2 # Parity check\n",
    "        self.initial, self.goal = initial, goal\n",
    "    \n",
    "    def actions(self, state):\n",
    "        \"\"\"The indexes of the squares that the blank can move to.\"\"\"\n",
    "        moves = ((1, 3),    (0, 2, 4),    (1, 5),\n",
    "                 (0, 4, 6), (1, 3, 5, 7), (2, 4, 8),\n",
    "                 (3, 7),    (4, 6, 8),    (7, 5))\n",
    "        blank = state.index(0)\n",
    "        return moves[blank]\n",
    "    \n",
    "    def result(self, state, action):\n",
    "        \"\"\"Swap the blank with the square numbered `action`.\"\"\"\n",
    "        s = list(state)\n",
    "        blank = state.index(0)\n",
    "        s[action], s[blank] = s[blank], s[action]\n",
    "        return tuple(s)\n",
    "    \n",
    "    def h1(self, node):\n",
    "        \"\"\"The misplaced tiles heuristic.\"\"\"\n",
    "        return hamming_distance(node.state, self.goal)\n",
    "    \n",
    "    def h2(self, node):\n",
    "        \"\"\"The Manhattan heuristic.\"\"\"\n",
    "        X = (0, 1, 2, 0, 1, 2, 0, 1, 2)\n",
    "        Y = (0, 0, 0, 1, 1, 1, 2, 2, 2)\n",
    "        return sum(abs(X[s] - X[g]) + abs(Y[s] - Y[g])\n",
    "                   for (s, g) in zip(node.state, self.goal) if s != 0)\n",
    "    \n",
    "    def h(self, node): return self.h2(node)\n",
    "    \n",
    "    \n",
    "def hamming_distance(A, B):\n",
    "    \"Number of positions where vectors A and B are different.\"\n",
    "    return sum(a != b for a, b in zip(A, B))\n",
    "    \n",
    "\n",
    "def inversions(board):\n",
    "    \"The number of times a piece is a smaller number than a following piece.\"\n",
    "    return sum((a > b and a != 0 and b != 0) for (a, b) in combinations(board, 2))\n",
    "    \n",
    "    \n",
    "def board8(board, fmt=(3 * '{} {} {}\\n')):\n",
    "    \"A string representing an 8-puzzle board\"\n",
    "    return fmt.format(*board).replace('0', '_')\n",
    "\n",
    "class Board(defaultdict):\n",
    "    empty = '.'\n",
    "    off = '#'\n",
    "    def __init__(self, board=None, width=8, height=8, to_move=None, **kwds):\n",
    "        if board is not None:\n",
    "            self.update(board)\n",
    "            self.width, self.height = (board.width, board.height) \n",
    "        else:\n",
    "            self.width, self.height = (width, height)\n",
    "        self.to_move = to_move\n",
    "\n",
    "    def __missing__(self, key):\n",
    "        x, y = key\n",
    "        if x < 0 or x >= self.width or y < 0 or y >= self.height:\n",
    "            return self.off\n",
    "        else:\n",
    "            return self.empty\n",
    "        \n",
    "    def __repr__(self):\n",
    "        def row(y): return ' '.join(self[x, y] for x in range(self.width))\n",
    "        return '\\n'.join(row(y) for y in range(self.height))\n",
    "            \n",
    "    def __hash__(self): \n",
    "        return hash(tuple(sorted(self.items()))) + hash(self.to_move)"
   ]
  },
  {
   "cell_type": "code",
   "execution_count": 15,
   "metadata": {},
   "outputs": [],
   "source": [
    "# Some specific EightPuzzle problems\n",
    "\n",
    "e1 = EightPuzzle((1, 4, 2, 0, 7, 5, 3, 6, 8))\n",
    "e2 = EightPuzzle((1, 2, 3, 4, 5, 6, 7, 8, 0))\n",
    "e3 = EightPuzzle((4, 0, 2, 5, 1, 3, 7, 8, 6))\n",
    "e4 = EightPuzzle((7, 2, 4, 5, 0, 6, 8, 3, 1))\n",
    "e5 = EightPuzzle((8, 6, 7, 2, 5, 4, 3, 0, 1))"
   ]
  },
  {
   "cell_type": "code",
   "execution_count": 16,
   "metadata": {},
   "outputs": [
    {
     "name": "stdout",
     "output_type": "stream",
     "text": [
      "1 4 2\n",
      "_ 7 5\n",
      "3 6 8\n",
      "\n",
      "1 4 2\n",
      "3 7 5\n",
      "_ 6 8\n",
      "\n",
      "1 4 2\n",
      "3 7 5\n",
      "6 _ 8\n",
      "\n",
      "1 4 2\n",
      "3 _ 5\n",
      "6 7 8\n",
      "\n",
      "1 _ 2\n",
      "3 4 5\n",
      "6 7 8\n",
      "\n",
      "_ 1 2\n",
      "3 4 5\n",
      "6 7 8\n",
      "\n"
     ]
    }
   ],
   "source": [
    "# Solve an 8 puzzle problem and print out each state\n",
    "\n",
    "for s in path_states(astar_search(e1)):\n",
    "    print(board8(s))"
   ]
  },
  {
   "cell_type": "markdown",
   "metadata": {},
   "source": [
    "# Water Pouring Problems\n",
    "\n",
    "![](http://puzzles.nigelcoldwell.co.uk/images/water22.png)\n",
    "\n",
    "In a [water pouring problem](https://en.wikipedia.org/wiki/Water_pouring_puzzle) you are given a collection of jugs, each of which has a size (capacity) in, say, litres, and a current level of water (in litres). The goal is to measure out a certain level of water; it can appear in any of the jugs. For example, in the movie *Die Hard 3*, the heroes were faced with the task of making exactly 4 gallons from jugs of size 5 gallons and 3 gallons.) A state is represented by a tuple of current water levels, and the available actions are:\n",
    "- `(Fill, i)`: fill the `i`th jug all the way to the top (from a tap with unlimited water).\n",
    "- `(Dump, i)`: dump all the water out of the `i`th jug.\n",
    "- `(Pour, i, j)`: pour water from the `i`th jug into the `j`th jug until either the jug `i` is empty, or jug `j` is full, whichever comes first."
   ]
  },
  {
   "cell_type": "code",
   "execution_count": 17,
   "metadata": {},
   "outputs": [],
   "source": [
    "class PourProblem(Problem):\n",
    "    \"\"\"Problem about pouring water between jugs to achieve some water level.\n",
    "    Each state is a tuples of water levels. In the initialization, also provide a tuple of \n",
    "    jug sizes, e.g. PourProblem(initial=(0, 0), goal=4, sizes=(5, 3)), \n",
    "    which means two jugs of sizes 5 and 3, initially both empty, with the goal\n",
    "    of getting a level of 4 in either jug.\"\"\"\n",
    "    \n",
    "    def actions(self, state):\n",
    "        \"\"\"The actions executable in this state.\"\"\"\n",
    "        jugs = range(len(state))\n",
    "        return ([('Fill', i)    for i in jugs if state[i] < self.sizes[i]] +\n",
    "                [('Dump', i)    for i in jugs if state[i]] +\n",
    "                [('Pour', i, j) for i in jugs if state[i] for j in jugs if i != j])\n",
    "\n",
    "    def result(self, state, action):\n",
    "        \"\"\"The state that results from executing this action in this state.\"\"\"\n",
    "        result = list(state)\n",
    "        act, i, *_ = action\n",
    "        if act == 'Fill':   # Fill i to capacity\n",
    "            result[i] = self.sizes[i]\n",
    "        elif act == 'Dump': # Empty i\n",
    "            result[i] = 0\n",
    "        elif act == 'Pour': # Pour from i into j\n",
    "            j = action[2]\n",
    "            amount = min(state[i], self.sizes[j] - state[j])\n",
    "            result[i] -= amount\n",
    "            result[j] += amount\n",
    "        return tuple(result)\n",
    "\n",
    "    def is_goal(self, state):\n",
    "        \"\"\"True if the goal level is in any one of the jugs.\"\"\"\n",
    "        return self.goal in state"
   ]
  },
  {
   "cell_type": "markdown",
   "metadata": {},
   "source": [
    "In a `GreenPourProblem`, the states and actions are the same, but instead of all actions costing 1, in these problems the cost of an action is the amount of water that flows from the tap. (There is an issue that non-*Fill* actions have 0 cost, which in general can lead to indefinitely long solutions, but in this problem there is a finite number of states, so we're ok.)"
   ]
  },
  {
   "cell_type": "code",
   "execution_count": 18,
   "metadata": {},
   "outputs": [],
   "source": [
    "class GreenPourProblem(PourProblem): \n",
    "    \"\"\"A PourProblem in which the cost is the amount of water used.\"\"\"\n",
    "    def action_cost(self, s, action, s1):\n",
    "        \"The cost is the amount of water used.\"\n",
    "        act, i, *_ = action\n",
    "        return self.sizes[i] - s[i] if act == 'Fill' else 0"
   ]
  },
  {
   "cell_type": "code",
   "execution_count": 19,
   "metadata": {},
   "outputs": [],
   "source": [
    "# Some specific PourProblems\n",
    "\n",
    "p1 = PourProblem((1, 1, 1), 13, sizes=(2, 16, 32))\n",
    "p2 = PourProblem((0, 0, 0), 21, sizes=(8, 11, 31))\n",
    "p3 = PourProblem((0, 0),     8, sizes=(7,9))\n",
    "p4 = PourProblem((0, 0, 0), 21, sizes=(8, 11, 31))\n",
    "p5 = PourProblem((0, 0),     4, sizes=(3, 5))\n",
    "\n",
    "g1 = GreenPourProblem((1, 1, 1), 13, sizes=(2, 16, 32))\n",
    "g2 = GreenPourProblem((0, 0, 0), 21, sizes=(8, 11, 31))\n",
    "g3 = GreenPourProblem((0, 0),     8, sizes=(7,9))\n",
    "g4 = GreenPourProblem((0, 0, 0), 21, sizes=(8, 11, 31))\n",
    "g5 = GreenPourProblem((0, 0),     4, sizes=(3, 5))"
   ]
  },
  {
   "cell_type": "code",
   "execution_count": 20,
   "metadata": {},
   "outputs": [
    {
     "data": {
      "text/plain": [
       "([('Fill', 1), ('Pour', 1, 0), ('Dump', 0), ('Pour', 1, 0)],\n",
       " [(1, 1, 1), (1, 16, 1), (2, 15, 1), (0, 15, 1), (2, 13, 1)])"
      ]
     },
     "execution_count": 20,
     "metadata": {},
     "output_type": "execute_result"
    }
   ],
   "source": [
    "# Solve the PourProblem of getting 13 in some jug, and show the actions and states\n",
    "soln = breadth_first_search(p1)\n",
    "path_actions(soln), path_states(soln)"
   ]
  },
  {
   "cell_type": "markdown",
   "metadata": {},
   "source": [
    "# Pancake Sorting Problems\n",
    "\n",
    "Given a stack of pancakes of various sizes, can you sort them into a stack of decreasing sizes, largest on bottom to smallest on top? You have a spatula with which you can flip the top `i` pancakes. This is shown below for `i = 3`; on the top the spatula grabs the first three pancakes; on the bottom we see them flipped:\n",
    "\n",
    "\n",
    "![](https://upload.wikimedia.org/wikipedia/commons/0/0f/Pancake_sort_operation.png)\n",
    "\n",
    "How many flips will it take to get the whole stack sorted? This is an interesting [problem](https://en.wikipedia.org/wiki/Pancake_sorting) that Bill Gates has [written about](https://people.eecs.berkeley.edu/~christos/papers/Bounds%20For%20Sorting%20By%20Prefix%20Reversal.pdf). A reasonable heuristic for this problem is the *gap heuristic*: if we look at neighboring pancakes, if, say, the 2nd smallest is next to the 3rd smallest, that's good; they should stay next to each other. But if the 2nd smallest is next to the 4th smallest, that's bad: we will require at least one move to separate them and insert the 3rd smallest between them. The gap heuristic counts the number of neighbors that have a gap like this. In our specification of the problem, pancakes are ranked by size: the smallest is `1`, the 2nd smallest `2`, and so on, and the representation of a state is a tuple of these rankings, from the top to the bottom pancake. Thus the goal state is always `(1, 2, ..., `*n*`)` and the initial (top) state in the diagram above is `(2, 1, 4, 6, 3, 5)`.\n"
   ]
  },
  {
   "cell_type": "code",
   "execution_count": 21,
   "metadata": {},
   "outputs": [],
   "source": [
    "class PancakeProblem(Problem):\n",
    "    \"\"\"A PancakeProblem the goal is always `tuple(range(1, n+1))`, where the\n",
    "    initial state is a permutation of `range(1, n+1)`. An act is the index `i` \n",
    "    of the top `i` pancakes that will be flipped.\"\"\"\n",
    "    \n",
    "    def __init__(self, initial): \n",
    "        self.initial, self.goal = tuple(initial), tuple(sorted(initial))\n",
    "    \n",
    "    def actions(self, state): return range(2, len(state) + 1)\n",
    "\n",
    "    def result(self, state, i): return state[:i][::-1] + state[i:]\n",
    "    \n",
    "    def h(self, node):\n",
    "        \"The gap heuristic.\"\n",
    "        s = node.state\n",
    "        return sum(abs(s[i] - s[i - 1]) > 1 for i in range(1, len(s)))"
   ]
  },
  {
   "cell_type": "code",
   "execution_count": 22,
   "metadata": {},
   "outputs": [],
   "source": [
    "c0 = PancakeProblem((2, 1, 4, 6, 3, 5))\n",
    "c1 = PancakeProblem((4, 6, 2, 5, 1, 3))\n",
    "c2 = PancakeProblem((1, 3, 7, 5, 2, 6, 4))\n",
    "c3 = PancakeProblem((1, 7, 2, 6, 3, 5, 4))\n",
    "c4 = PancakeProblem((1, 3, 5, 7, 9, 2, 4, 6, 8))"
   ]
  },
  {
   "cell_type": "code",
   "execution_count": 23,
   "metadata": {},
   "outputs": [
    {
     "data": {
      "text/plain": [
       "[(2, 1, 4, 6, 3, 5),\n",
       " (6, 4, 1, 2, 3, 5),\n",
       " (5, 3, 2, 1, 4, 6),\n",
       " (4, 1, 2, 3, 5, 6),\n",
       " (3, 2, 1, 4, 5, 6),\n",
       " (1, 2, 3, 4, 5, 6)]"
      ]
     },
     "execution_count": 23,
     "metadata": {},
     "output_type": "execute_result"
    }
   ],
   "source": [
    "# Solve a pancake problem\n",
    "path_states(astar_search(c0))"
   ]
  },
  {
   "cell_type": "markdown",
   "metadata": {},
   "source": [
    "# Jumping Frogs Puzzle\n",
    "\n",
    "In this puzzle (which also can be played as a two-player game), the initial state is a line of squares, with N pieces of one kind on the left, then one empty square, then N pieces of another kind on the right. The diagram below uses 2 blue toads and 2 red frogs; we will represent this as the string `'LL.RR'`. The goal is to swap the pieces, arriving at `'RR.LL'`. An `'L'` piece moves left-to-right, either sliding one space ahead to an empty space, or two spaces ahead if that space is empty and if there is an `'R'` in between to hop over. The `'R'` pieces move right-to-left analogously. An action will be an `(i, j)` pair meaning to swap the pieces at those indexes. The set of actions for the N = 2 position below is `{(1, 2), (3, 2)}`, meaning either the blue toad in position 1 or the red frog in position 3 can swap places with the blank in position 2.\n",
    "\n",
    "![](https://upload.wikimedia.org/wikipedia/commons/2/2f/ToadsAndFrogs.png)"
   ]
  },
  {
   "cell_type": "code",
   "execution_count": 24,
   "metadata": {},
   "outputs": [],
   "source": [
    "class JumpingPuzzle(Problem):\n",
    "    \"\"\"Try to exchange L and R by moving one ahead or hopping two ahead.\"\"\"\n",
    "    def __init__(self, N=2):\n",
    "        self.initial = N*'L' + '.' + N*'R'\n",
    "        self.goal = self.initial[::-1]\n",
    "        \n",
    "    def actions(self, state):\n",
    "        \"\"\"Find all possible move or hop moves.\"\"\"\n",
    "        idxs = range(len(state))\n",
    "        return ({(i, i + 1) for i in idxs if state[i:i+2] == 'L.'}   # Slide\n",
    "               |{(i, i + 2) for i in idxs if state[i:i+3] == 'LR.'}  # Hop\n",
    "               |{(i + 1, i) for i in idxs if state[i:i+2] == '.R'}   # Slide\n",
    "               |{(i + 2, i) for i in idxs if state[i:i+3] == '.LR'}) # Hop\n",
    "\n",
    "    def result(self, state, action):\n",
    "        \"\"\"An action (i, j) means swap the pieces at positions i and j.\"\"\"\n",
    "        i, j = action\n",
    "        result = list(state)\n",
    "        result[i], result[j] = state[j], state[i]\n",
    "        return ''.join(result)\n",
    "    \n",
    "    def h(self, node): return hamming_distance(node.state, self.goal)"
   ]
  },
  {
   "cell_type": "code",
   "execution_count": 25,
   "metadata": {},
   "outputs": [
    {
     "data": {
      "text/plain": [
       "{(1, 2), (3, 2)}"
      ]
     },
     "execution_count": 25,
     "metadata": {},
     "output_type": "execute_result"
    }
   ],
   "source": [
    "JumpingPuzzle(N=2).actions('LL.RR')"
   ]
  },
  {
   "cell_type": "code",
   "execution_count": 26,
   "metadata": {},
   "outputs": [
    {
     "data": {
      "text/plain": [
       "['LLL.RRR',\n",
       " 'LLLR.RR',\n",
       " 'LL.RLRR',\n",
       " 'L.LRLRR',\n",
       " 'LRL.LRR',\n",
       " 'LRLRL.R',\n",
       " 'LRLRLR.',\n",
       " 'LRLR.RL',\n",
       " 'LR.RLRL',\n",
       " '.RLRLRL',\n",
       " 'R.LRLRL',\n",
       " 'RRL.LRL',\n",
       " 'RRLRL.L',\n",
       " 'RRLR.LL',\n",
       " 'RR.RLLL',\n",
       " 'RRR.LLL']"
      ]
     },
     "execution_count": 26,
     "metadata": {},
     "output_type": "execute_result"
    }
   ],
   "source": [
    "j3 = JumpingPuzzle(N=3)\n",
    "j9 = JumpingPuzzle(N=9)\n",
    "path_states(astar_search(j3))"
   ]
  },
  {
   "cell_type": "markdown",
   "metadata": {},
   "source": [
    "# Reporting Summary Statistics on Search Algorithms\n",
    "\n",
    "Now let's gather some metrics on how well each algorithm does.  We'll use `CountCalls` to wrap a `Problem` object in such a way that calls to its methods are delegated to the original problem, but each call increments a counter. Once we've solved the problem, we print out summary statistics."
   ]
  },
  {
   "cell_type": "code",
   "execution_count": 27,
   "metadata": {},
   "outputs": [],
   "source": [
    "class CountCalls:\n",
    "    \"\"\"Delegate all attribute gets to the object, and count them in ._counts\"\"\"\n",
    "    def __init__(self, obj):\n",
    "        self._object = obj\n",
    "        self._counts = Counter()\n",
    "        \n",
    "    def __getattr__(self, attr):\n",
    "        \"Delegate to the original object, after incrementing a counter.\"\n",
    "        self._counts[attr] += 1\n",
    "        return getattr(self._object, attr)\n",
    "\n",
    "        \n",
    "def report(searchers, problems, verbose=True):\n",
    "    \"\"\"Show summary statistics for each searcher (and on each problem unless verbose is false).\"\"\"\n",
    "    for searcher in searchers:\n",
    "        print(searcher.__name__ + ':')\n",
    "        total_counts = Counter()\n",
    "        for p in problems:\n",
    "            prob   = CountCalls(p)\n",
    "            soln   = searcher(prob)\n",
    "            counts = prob._counts; \n",
    "            counts.update(actions=len(soln), cost=soln.path_cost)\n",
    "            total_counts += counts\n",
    "            if verbose: report_counts(counts, str(p)[:40])\n",
    "        report_counts(total_counts, 'TOTAL\\n')\n",
    "        \n",
    "def report_counts(counts, name):\n",
    "    \"\"\"Print one line of the counts report.\"\"\"\n",
    "    print('{:9,d} nodes |{:9,d} goal |{:5.0f} cost |{:8,d} actions | {}'.format(\n",
    "          counts['result'], counts['is_goal'], counts['cost'], counts['actions'], name))"
   ]
  },
  {
   "cell_type": "markdown",
   "metadata": {},
   "source": [
    "Here's a tiny report for uniform-cost search on the jug pouring problems:"
   ]
  },
  {
   "cell_type": "code",
   "execution_count": 28,
   "metadata": {},
   "outputs": [
    {
     "name": "stdout",
     "output_type": "stream",
     "text": [
      "uniform_cost_search:\n",
      "      948 nodes |      109 goal |    4 cost |     112 actions | PourProblem((1, 1, 1), 13)\n",
      "    3,499 nodes |      389 goal |    9 cost |     397 actions | PourProblem((0, 0, 0), 21)\n",
      "      124 nodes |       30 goal |   14 cost |      43 actions | PourProblem((0, 0), 8)\n",
      "    3,499 nodes |      389 goal |    9 cost |     397 actions | PourProblem((0, 0, 0), 21)\n",
      "       52 nodes |       14 goal |    6 cost |      19 actions | PourProblem((0, 0), 4)\n",
      "    8,122 nodes |      931 goal |   42 cost |     968 actions | TOTAL\n",
      "\n"
     ]
    }
   ],
   "source": [
    "report([uniform_cost_search], [p1, p2, p3, p4, p5])"
   ]
  },
  {
   "cell_type": "code",
   "execution_count": 29,
   "metadata": {},
   "outputs": [
    {
     "name": "stdout",
     "output_type": "stream",
     "text": [
      "uniform_cost_search:\n",
      "      948 nodes |      109 goal |    4 cost |     112 actions | PourProblem((1, 1, 1), 13)\n",
      "      948 nodes |      109 goal |    4 cost |     112 actions | GreenPourProblem((1, 1, 1), 13)\n",
      "    3,499 nodes |      389 goal |    9 cost |     397 actions | PourProblem((0, 0, 0), 21)\n",
      "    3,499 nodes |      389 goal |    9 cost |     397 actions | GreenPourProblem((0, 0, 0), 21)\n",
      "      124 nodes |       30 goal |   14 cost |      43 actions | PourProblem((0, 0), 8)\n",
      "      124 nodes |       30 goal |   14 cost |      43 actions | GreenPourProblem((0, 0), 8)\n",
      "    3,499 nodes |      389 goal |    9 cost |     397 actions | PourProblem((0, 0, 0), 21)\n",
      "    3,499 nodes |      389 goal |    9 cost |     397 actions | GreenPourProblem((0, 0, 0), 21)\n",
      "    3,499 nodes |      389 goal |    9 cost |     397 actions | PourProblem((0, 0, 0), 21)\n",
      "    3,499 nodes |      389 goal |    9 cost |     397 actions | GreenPourProblem((0, 0, 0), 21)\n",
      "    3,590 nodes |      719 goal |    7 cost |     725 actions | PancakeProblem((4, 6, 2, 5, 1, 3), (1, 2\n",
      "   30,204 nodes |    5,035 goal |    8 cost |   5,042 actions | PancakeProblem((1, 3, 7, 5, 2, 6, 4), (1\n",
      "   22,068 nodes |    3,679 goal |    6 cost |   3,684 actions | PancakeProblem((1, 7, 2, 6, 3, 5, 4), (1\n",
      "   79,000 nodes |   12,045 goal |  111 cost |  12,143 actions | TOTAL\n",
      "\n",
      "breadth_first_search:\n",
      "      596 nodes |      597 goal |    4 cost |      73 actions | PourProblem((1, 1, 1), 13)\n",
      "      596 nodes |      597 goal |    4 cost |      73 actions | GreenPourProblem((1, 1, 1), 13)\n",
      "    2,618 nodes |    2,619 goal |    9 cost |     302 actions | PourProblem((0, 0, 0), 21)\n",
      "    2,618 nodes |    2,619 goal |    9 cost |     302 actions | GreenPourProblem((0, 0, 0), 21)\n",
      "      120 nodes |      121 goal |   14 cost |      42 actions | PourProblem((0, 0), 8)\n",
      "      120 nodes |      121 goal |   14 cost |      42 actions | GreenPourProblem((0, 0), 8)\n",
      "    2,618 nodes |    2,619 goal |    9 cost |     302 actions | PourProblem((0, 0, 0), 21)\n",
      "    2,618 nodes |    2,619 goal |    9 cost |     302 actions | GreenPourProblem((0, 0, 0), 21)\n",
      "    2,618 nodes |    2,619 goal |    9 cost |     302 actions | PourProblem((0, 0, 0), 21)\n",
      "    2,618 nodes |    2,619 goal |    9 cost |     302 actions | GreenPourProblem((0, 0, 0), 21)\n",
      "    2,951 nodes |    2,952 goal |    7 cost |     598 actions | PancakeProblem((4, 6, 2, 5, 1, 3), (1, 2\n",
      "   25,945 nodes |   25,946 goal |    8 cost |   4,333 actions | PancakeProblem((1, 3, 7, 5, 2, 6, 4), (1\n",
      "    5,975 nodes |    5,976 goal |    6 cost |   1,002 actions | PancakeProblem((1, 7, 2, 6, 3, 5, 4), (1\n",
      "   52,011 nodes |   52,024 goal |  111 cost |   7,975 actions | TOTAL\n",
      "\n"
     ]
    }
   ],
   "source": [
    "report((uniform_cost_search, breadth_first_search), \n",
    "       (p1, g1, p2, g2, p3, g3, p4, g4, p4, g4, c1, c2, c3)) "
   ]
  },
  {
   "cell_type": "markdown",
   "metadata": {},
   "source": [
    "# Comparing heuristics\n",
    "\n",
    "First, let's look at the eight puzzle problems, and compare three different heuristics the Manhattan heuristic, the less informative misplaced tiles heuristic, and the uninformed (i.e. *h* = 0) breadth-first search:"
   ]
  },
  {
   "cell_type": "code",
   "execution_count": 30,
   "metadata": {
    "scrolled": false
   },
   "outputs": [
    {
     "name": "stdout",
     "output_type": "stream",
     "text": [
      "breadth_first_search:\n",
      "       81 nodes |       82 goal |    5 cost |      35 actions | EightPuzzle((1, 4, 2, 0, 7, 5, 3, 6, 8),\n",
      "  160,948 nodes |  160,949 goal |   22 cost |  59,960 actions | EightPuzzle((1, 2, 3, 4, 5, 6, 7, 8, 0),\n",
      "  218,263 nodes |  218,264 goal |   23 cost |  81,829 actions | EightPuzzle((4, 0, 2, 5, 1, 3, 7, 8, 6),\n",
      "  418,771 nodes |  418,772 goal |   26 cost | 156,533 actions | EightPuzzle((7, 2, 4, 5, 0, 6, 8, 3, 1),\n",
      "  448,667 nodes |  448,668 goal |   27 cost | 167,799 actions | EightPuzzle((8, 6, 7, 2, 5, 4, 3, 0, 1),\n",
      "1,246,730 nodes |1,246,735 goal |  103 cost | 466,156 actions | TOTAL\n",
      "\n",
      "astar_misplaced_tiles:\n",
      "       17 nodes |        7 goal |    5 cost |      11 actions | EightPuzzle((1, 4, 2, 0, 7, 5, 3, 6, 8),\n",
      "   23,407 nodes |    8,726 goal |   22 cost |   8,747 actions | EightPuzzle((1, 2, 3, 4, 5, 6, 7, 8, 0),\n",
      "   38,632 nodes |   14,433 goal |   23 cost |  14,455 actions | EightPuzzle((4, 0, 2, 5, 1, 3, 7, 8, 6),\n",
      "  124,324 nodes |   46,553 goal |   26 cost |  46,578 actions | EightPuzzle((7, 2, 4, 5, 0, 6, 8, 3, 1),\n",
      "  156,111 nodes |   58,475 goal |   27 cost |  58,501 actions | EightPuzzle((8, 6, 7, 2, 5, 4, 3, 0, 1),\n",
      "  342,491 nodes |  128,194 goal |  103 cost | 128,292 actions | TOTAL\n",
      "\n",
      "astar_search:\n",
      "       15 nodes |        6 goal |    5 cost |      10 actions | EightPuzzle((1, 4, 2, 0, 7, 5, 3, 6, 8),\n",
      "    3,614 nodes |    1,349 goal |   22 cost |   1,370 actions | EightPuzzle((1, 2, 3, 4, 5, 6, 7, 8, 0),\n",
      "    5,373 nodes |    2,010 goal |   23 cost |   2,032 actions | EightPuzzle((4, 0, 2, 5, 1, 3, 7, 8, 6),\n",
      "   10,832 nodes |    4,086 goal |   26 cost |   4,111 actions | EightPuzzle((7, 2, 4, 5, 0, 6, 8, 3, 1),\n",
      "   11,669 nodes |    4,417 goal |   27 cost |   4,443 actions | EightPuzzle((8, 6, 7, 2, 5, 4, 3, 0, 1),\n",
      "   31,503 nodes |   11,868 goal |  103 cost |  11,966 actions | TOTAL\n",
      "\n"
     ]
    }
   ],
   "source": [
    "def astar_misplaced_tiles(problem): return astar_search(problem, h=problem.h1)\n",
    "\n",
    "report([breadth_first_search, astar_misplaced_tiles, astar_search], \n",
    "       [e1, e2, e3, e4, e5])"
   ]
  },
  {
   "cell_type": "markdown",
   "metadata": {},
   "source": [
    "We see that all three algorithms get cost-optimal solutions, but the better the heuristic, the fewer nodes explored. \n",
    "Compared to the uninformed search, the misplaced tiles heuristic explores about 1/4 the number of nodes, and the Manhattan heuristic needs just 2%.\n",
    "\n",
    "Next, we can show the value of the gap heuristic for pancake sorting problems:"
   ]
  },
  {
   "cell_type": "code",
   "execution_count": 31,
   "metadata": {},
   "outputs": [
    {
     "name": "stdout",
     "output_type": "stream",
     "text": [
      "astar_search:\n",
      "    1,285 nodes |      258 goal |    7 cost |     264 actions | PancakeProblem((4, 6, 2, 5, 1, 3), (1, 2\n",
      "    3,804 nodes |      635 goal |    8 cost |     642 actions | PancakeProblem((1, 3, 7, 5, 2, 6, 4), (1\n",
      "      294 nodes |       50 goal |    6 cost |      55 actions | PancakeProblem((1, 7, 2, 6, 3, 5, 4), (1\n",
      "    2,256 nodes |      283 goal |    9 cost |     291 actions | PancakeProblem((1, 3, 5, 7, 9, 2, 4, 6, \n",
      "    7,639 nodes |    1,226 goal |   30 cost |   1,252 actions | TOTAL\n",
      "\n",
      "uniform_cost_search:\n",
      "    3,590 nodes |      719 goal |    7 cost |     725 actions | PancakeProblem((4, 6, 2, 5, 1, 3), (1, 2\n",
      "   30,204 nodes |    5,035 goal |    8 cost |   5,042 actions | PancakeProblem((1, 3, 7, 5, 2, 6, 4), (1\n",
      "   22,068 nodes |    3,679 goal |    6 cost |   3,684 actions | PancakeProblem((1, 7, 2, 6, 3, 5, 4), (1\n",
      "2,271,792 nodes |  283,975 goal |    9 cost | 283,983 actions | PancakeProblem((1, 3, 5, 7, 9, 2, 4, 6, \n",
      "2,327,654 nodes |  293,408 goal |   30 cost | 293,434 actions | TOTAL\n",
      "\n"
     ]
    }
   ],
   "source": [
    "report([astar_search, uniform_cost_search], [c1, c2, c3, c4])"
   ]
  },
  {
   "cell_type": "markdown",
   "metadata": {},
   "source": [
    "We need to explore 300 times more nodes without the heuristic.\n",
    "\n",
    "# Comparing graph search and tree search\n",
    "\n",
    "Keeping the *reached* table in `best_first_search` allows us to do a graph search, where we notice when we reach a state by two different paths, rather than a tree search, where we have duplicated effort. The *reached* table consumes space and also saves time. How much time? In part it depends on how good the heuristics are at focusing the search.  Below we show that on some pancake and eight puzzle problems, the tree search expands roughly twice as many nodes (and thus takes roughly twice as much time):"
   ]
  },
  {
   "cell_type": "code",
   "execution_count": 32,
   "metadata": {},
   "outputs": [
    {
     "name": "stdout",
     "output_type": "stream",
     "text": [
      "astar_search:\n",
      "       15 nodes |        6 goal |    5 cost |      10 actions | EightPuzzle((1, 4, 2, 0, 7, 5, 3, 6, 8),\n",
      "    3,614 nodes |    1,349 goal |   22 cost |   1,370 actions | EightPuzzle((1, 2, 3, 4, 5, 6, 7, 8, 0),\n",
      "    5,373 nodes |    2,010 goal |   23 cost |   2,032 actions | EightPuzzle((4, 0, 2, 5, 1, 3, 7, 8, 6),\n",
      "   10,832 nodes |    4,086 goal |   26 cost |   4,111 actions | EightPuzzle((7, 2, 4, 5, 0, 6, 8, 3, 1),\n",
      "       15 nodes |        6 goal |  418 cost |       9 actions | RouteProblem('A', 'B')\n",
      "       34 nodes |       15 goal |  910 cost |      23 actions | RouteProblem('N', 'L')\n",
      "       33 nodes |       14 goal |  805 cost |      21 actions | RouteProblem('E', 'T')\n",
      "       20 nodes |        9 goal |  445 cost |      13 actions | RouteProblem('O', 'M')\n",
      "   19,936 nodes |    7,495 goal | 2654 cost |   7,589 actions | TOTAL\n",
      "\n",
      "astar_tree_search:\n",
      "       15 nodes |        6 goal |    5 cost |      10 actions | EightPuzzle((1, 4, 2, 0, 7, 5, 3, 6, 8),\n",
      "    5,384 nodes |    2,000 goal |   22 cost |   2,021 actions | EightPuzzle((1, 2, 3, 4, 5, 6, 7, 8, 0),\n",
      "    9,116 nodes |    3,404 goal |   23 cost |   3,426 actions | EightPuzzle((4, 0, 2, 5, 1, 3, 7, 8, 6),\n",
      "   19,084 nodes |    7,185 goal |   26 cost |   7,210 actions | EightPuzzle((7, 2, 4, 5, 0, 6, 8, 3, 1),\n",
      "       15 nodes |        6 goal |  418 cost |       9 actions | RouteProblem('A', 'B')\n",
      "       47 nodes |       19 goal |  910 cost |      27 actions | RouteProblem('N', 'L')\n",
      "       46 nodes |       18 goal |  805 cost |      25 actions | RouteProblem('E', 'T')\n",
      "       24 nodes |       10 goal |  445 cost |      14 actions | RouteProblem('O', 'M')\n",
      "   33,731 nodes |   12,648 goal | 2654 cost |  12,742 actions | TOTAL\n",
      "\n"
     ]
    }
   ],
   "source": [
    "report([astar_search, astar_tree_search], [e1, e2, e3, e4, r1, r2, r3, r4])"
   ]
  },
  {
   "cell_type": "markdown",
   "metadata": {},
   "source": [
    "# Comparing different weighted search values\n",
    "\n",
    "Below we report on problems using these four algorithms:\n",
    "\n",
    "|Algorithm|*f*|Optimality|\n",
    "|:---------|---:|:----------:|\n",
    "|Greedy best-first search | *f = h*|nonoptimal|\n",
    "|Extra weighted A* search | *f = g + 2 &times; h*|nonoptimal|\n",
    "|Weighted A* search | *f = g + 1.4 &times; h*|nonoptimal|\n",
    "|A* search | *f = g + h*|optimal|\n",
    "|Uniform-cost search | *f = g*|optimal|\n",
    "\n",
    "We will see that greedy best-first search (which ranks nodes solely by the heuristic) explores the fewest number of nodes, but has the highest path costs. Weighted A* search explores twice as many nodes (on this problem set) but gets 10% better path costs. A* is optimal, but explores more nodes, and uniform-cost is also optimal, but explores an order of magnitude more nodes."
   ]
  },
  {
   "cell_type": "code",
   "execution_count": 33,
   "metadata": {
    "scrolled": false
   },
   "outputs": [
    {
     "name": "stdout",
     "output_type": "stream",
     "text": [
      "greedy_bfs:\n",
      "        0 nodes |        1 goal |    0 cost |       0 actions | RouteProblem('A', 'A')\n",
      "        9 nodes |        4 goal |  450 cost |       6 actions | RouteProblem('A', 'B')\n",
      "       28 nodes |       12 goal | 1207 cost |      22 actions | RouteProblem('N', 'L')\n",
      "       19 nodes |        8 goal |  837 cost |      14 actions | RouteProblem('E', 'T')\n",
      "       14 nodes |        6 goal |  572 cost |      10 actions | RouteProblem('O', 'M')\n",
      "       15 nodes |        6 goal |    5 cost |      10 actions | EightPuzzle((1, 4, 2, 0, 7, 5, 3, 6, 8),\n",
      "      909 nodes |      138 goal |  136 cost |     258 actions | GridProblem((15, 30), (130, 30))\n",
      "      974 nodes |      147 goal |  152 cost |     277 actions | GridProblem((15, 30), (130, 30))\n",
      "    5,146 nodes |    4,984 goal |   99 cost |   5,082 actions | JumpingPuzzle('LLLLLLLLL.RRRRRRRRR', 'RR\n",
      "    1,569 nodes |      568 goal |   58 cost |     625 actions | EightPuzzle((1, 2, 3, 4, 5, 6, 7, 8, 0),\n",
      "    1,424 nodes |      257 goal |  164 cost |     406 actions | GridProblem((15, 30), (130, 30))\n",
      "    1,899 nodes |      342 goal |  153 cost |     470 actions | GridProblem((15, 30), (130, 30))\n",
      "   18,239 nodes |    2,439 goal |  134 cost |   2,564 actions | GridProblem((15, 30), (130, 30))\n",
      "   18,329 nodes |    2,460 goal |  152 cost |   2,594 actions | GridProblem((15, 30), (130, 30))\n",
      "      287 nodes |      109 goal |   33 cost |     141 actions | EightPuzzle((4, 0, 2, 5, 1, 3, 7, 8, 6),\n",
      "    1,128 nodes |      408 goal |   46 cost |     453 actions | EightPuzzle((7, 2, 4, 5, 0, 6, 8, 3, 1),\n",
      "   49,989 nodes |   11,889 goal | 4198 cost |  12,932 actions | TOTAL\n",
      "\n",
      "extra_weighted_astar_search:\n",
      "        0 nodes |        1 goal |    0 cost |       0 actions | RouteProblem('A', 'A')\n",
      "        9 nodes |        4 goal |  450 cost |       6 actions | RouteProblem('A', 'B')\n",
      "       31 nodes |       13 goal |  910 cost |      21 actions | RouteProblem('N', 'L')\n",
      "       23 nodes |        9 goal |  805 cost |      16 actions | RouteProblem('E', 'T')\n",
      "       18 nodes |        8 goal |  445 cost |      12 actions | RouteProblem('O', 'M')\n",
      "       15 nodes |        6 goal |    5 cost |      10 actions | EightPuzzle((1, 4, 2, 0, 7, 5, 3, 6, 8),\n",
      "    1,575 nodes |      239 goal |  136 cost |     357 actions | GridProblem((15, 30), (130, 30))\n",
      "    1,384 nodes |      231 goal |  133 cost |     349 actions | GridProblem((15, 30), (130, 30))\n",
      "   10,990 nodes |   10,660 goal |   99 cost |  10,758 actions | JumpingPuzzle('LLLLLLLLL.RRRRRRRRR', 'RR\n",
      "    1,720 nodes |      633 goal |   24 cost |     656 actions | EightPuzzle((1, 2, 3, 4, 5, 6, 7, 8, 0),\n",
      "    9,282 nodes |    1,412 goal |  163 cost |   1,551 actions | GridProblem((15, 30), (130, 30))\n",
      "    1,354 nodes |      228 goal |  134 cost |     345 actions | GridProblem((15, 30), (130, 30))\n",
      "   16,024 nodes |    2,098 goal |  129 cost |   2,214 actions | GridProblem((15, 30), (130, 30))\n",
      "   16,950 nodes |    2,237 goal |  140 cost |   2,359 actions | GridProblem((15, 30), (130, 30))\n",
      "    1,908 nodes |      709 goal |   25 cost |     733 actions | EightPuzzle((4, 0, 2, 5, 1, 3, 7, 8, 6),\n",
      "    1,312 nodes |      489 goal |   30 cost |     518 actions | EightPuzzle((7, 2, 4, 5, 0, 6, 8, 3, 1),\n",
      "   62,595 nodes |   18,977 goal | 3628 cost |  19,905 actions | TOTAL\n",
      "\n",
      "weighted_astar_search:\n",
      "        0 nodes |        1 goal |    0 cost |       0 actions | RouteProblem('A', 'A')\n",
      "        9 nodes |        4 goal |  450 cost |       6 actions | RouteProblem('A', 'B')\n",
      "       32 nodes |       14 goal |  910 cost |      22 actions | RouteProblem('N', 'L')\n",
      "       28 nodes |       11 goal |  805 cost |      18 actions | RouteProblem('E', 'T')\n",
      "       18 nodes |        8 goal |  445 cost |      12 actions | RouteProblem('O', 'M')\n",
      "       15 nodes |        6 goal |    5 cost |      10 actions | EightPuzzle((1, 4, 2, 0, 7, 5, 3, 6, 8),\n",
      "    1,631 nodes |      236 goal |  128 cost |     350 actions | GridProblem((15, 30), (130, 30))\n",
      "    1,706 nodes |      275 goal |  131 cost |     389 actions | GridProblem((15, 30), (130, 30))\n",
      "   10,990 nodes |   10,660 goal |   99 cost |  10,758 actions | JumpingPuzzle('LLLLLLLLL.RRRRRRRRR', 'RR\n",
      "    2,082 nodes |      771 goal |   22 cost |     792 actions | EightPuzzle((1, 2, 3, 4, 5, 6, 7, 8, 0),\n",
      "    8,385 nodes |    1,266 goal |  154 cost |   1,396 actions | GridProblem((15, 30), (130, 30))\n",
      "    1,400 nodes |      229 goal |  133 cost |     344 actions | GridProblem((15, 30), (130, 30))\n",
      "   12,122 nodes |    1,572 goal |  124 cost |   1,686 actions | GridProblem((15, 30), (130, 30))\n",
      "   24,129 nodes |    3,141 goal |  127 cost |   3,255 actions | GridProblem((15, 30), (130, 30))\n",
      "    3,960 nodes |    1,475 goal |   25 cost |   1,499 actions | EightPuzzle((4, 0, 2, 5, 1, 3, 7, 8, 6),\n",
      "    1,992 nodes |      748 goal |   26 cost |     773 actions | EightPuzzle((7, 2, 4, 5, 0, 6, 8, 3, 1),\n",
      "   68,499 nodes |   20,417 goal | 3585 cost |  21,310 actions | TOTAL\n",
      "\n",
      "astar_search:\n",
      "        0 nodes |        1 goal |    0 cost |       0 actions | RouteProblem('A', 'A')\n",
      "       15 nodes |        6 goal |  418 cost |       9 actions | RouteProblem('A', 'B')\n",
      "       34 nodes |       15 goal |  910 cost |      23 actions | RouteProblem('N', 'L')\n",
      "       33 nodes |       14 goal |  805 cost |      21 actions | RouteProblem('E', 'T')\n",
      "       20 nodes |        9 goal |  445 cost |      13 actions | RouteProblem('O', 'M')\n",
      "       15 nodes |        6 goal |    5 cost |      10 actions | EightPuzzle((1, 4, 2, 0, 7, 5, 3, 6, 8),\n",
      "   26,711 nodes |    3,620 goal |  127 cost |   3,734 actions | GridProblem((15, 30), (130, 30))\n",
      "   12,932 nodes |    1,822 goal |  124 cost |   1,936 actions | GridProblem((15, 30), (130, 30))\n",
      "   10,991 nodes |   10,661 goal |   99 cost |  10,759 actions | JumpingPuzzle('LLLLLLLLL.RRRRRRRRR', 'RR\n",
      "    3,614 nodes |    1,349 goal |   22 cost |   1,370 actions | EightPuzzle((1, 2, 3, 4, 5, 6, 7, 8, 0),\n",
      "   62,509 nodes |    8,729 goal |  154 cost |   8,859 actions | GridProblem((15, 30), (130, 30))\n",
      "   15,190 nodes |    2,276 goal |  133 cost |   2,391 actions | GridProblem((15, 30), (130, 30))\n",
      "   25,303 nodes |    3,196 goal |  124 cost |   3,310 actions | GridProblem((15, 30), (130, 30))\n",
      "   32,572 nodes |    4,149 goal |  127 cost |   4,263 actions | GridProblem((15, 30), (130, 30))\n",
      "    5,373 nodes |    2,010 goal |   23 cost |   2,032 actions | EightPuzzle((4, 0, 2, 5, 1, 3, 7, 8, 6),\n",
      "   10,832 nodes |    4,086 goal |   26 cost |   4,111 actions | EightPuzzle((7, 2, 4, 5, 0, 6, 8, 3, 1),\n",
      "  206,144 nodes |   41,949 goal | 3543 cost |  42,841 actions | TOTAL\n",
      "\n",
      "uniform_cost_search:\n",
      "        0 nodes |        1 goal |    0 cost |       0 actions | RouteProblem('A', 'A')\n",
      "       30 nodes |       13 goal |  418 cost |      16 actions | RouteProblem('A', 'B')\n",
      "       42 nodes |       19 goal |  910 cost |      27 actions | RouteProblem('N', 'L')\n",
      "       44 nodes |       20 goal |  805 cost |      27 actions | RouteProblem('E', 'T')\n",
      "       30 nodes |       12 goal |  445 cost |      16 actions | RouteProblem('O', 'M')\n",
      "      124 nodes |       46 goal |    5 cost |      50 actions | EightPuzzle((1, 4, 2, 0, 7, 5, 3, 6, 8),\n",
      "  355,452 nodes |   44,984 goal |  127 cost |  45,098 actions | GridProblem((15, 30), (130, 30))\n",
      "  326,962 nodes |   41,650 goal |  124 cost |  41,764 actions | GridProblem((15, 30), (130, 30))\n",
      "   10,992 nodes |   10,662 goal |   99 cost |  10,760 actions | JumpingPuzzle('LLLLLLLLL.RRRRRRRRR', 'RR\n",
      "  214,952 nodes |   79,187 goal |   22 cost |  79,208 actions | EightPuzzle((1, 2, 3, 4, 5, 6, 7, 8, 0),\n",
      "  558,084 nodes |   70,738 goal |  154 cost |  70,868 actions | GridProblem((15, 30), (130, 30))\n",
      "  370,370 nodes |   47,243 goal |  133 cost |  47,358 actions | GridProblem((15, 30), (130, 30))\n",
      "  349,062 nodes |   43,693 goal |  124 cost |  43,807 actions | GridProblem((15, 30), (130, 30))\n",
      "  366,996 nodes |   45,970 goal |  127 cost |  46,084 actions | GridProblem((15, 30), (130, 30))\n",
      "  300,925 nodes |  112,082 goal |   23 cost | 112,104 actions | EightPuzzle((4, 0, 2, 5, 1, 3, 7, 8, 6),\n",
      "  457,766 nodes |  171,571 goal |   26 cost | 171,596 actions | EightPuzzle((7, 2, 4, 5, 0, 6, 8, 3, 1),\n",
      "3,311,831 nodes |  667,891 goal | 3543 cost | 668,783 actions | TOTAL\n",
      "\n"
     ]
    }
   ],
   "source": [
    "def extra_weighted_astar_search(problem): return weighted_astar_search(problem, weight=2)\n",
    "    \n",
    "report((greedy_bfs, extra_weighted_astar_search, weighted_astar_search, astar_search, uniform_cost_search), \n",
    "       (r0, r1, r2, r3, r4, e1, d1, d2, j9, e2, d3, d4, d6, d7, e3, e4))"
   ]
  },
  {
   "cell_type": "markdown",
   "metadata": {},
   "source": [
    "We see that greedy search expands the fewest nodes, but has the highest path costs. In contrast, A\\* gets optimal path costs, but expands 4 or 5 times more nodes. Weighted A* is a good compromise, using half the compute time as A\\*, and achieving path costs within  1% or 2% of optimal. Uniform-cost is optimal, but is an order of magnitude slower than A\\*.\n",
    "\n",
    "# Comparing  many search algorithms\n",
    "\n",
    "Finally, we compare a host of algorihms (even the slow ones) on some of the easier problems:"
   ]
  },
  {
   "cell_type": "code",
   "execution_count": 34,
   "metadata": {
    "scrolled": false
   },
   "outputs": [
    {
     "name": "stdout",
     "output_type": "stream",
     "text": [
      "astar_search:\n",
      "      948 nodes |      109 goal |    4 cost |     112 actions | PourProblem((1, 1, 1), 13)\n",
      "      948 nodes |      109 goal |    4 cost |     112 actions | GreenPourProblem((1, 1, 1), 13)\n",
      "    3,499 nodes |      389 goal |    9 cost |     397 actions | PourProblem((0, 0, 0), 21)\n",
      "    3,499 nodes |      389 goal |    9 cost |     397 actions | GreenPourProblem((0, 0, 0), 21)\n",
      "      124 nodes |       30 goal |   14 cost |      43 actions | PourProblem((0, 0), 8)\n",
      "      124 nodes |       30 goal |   14 cost |      43 actions | GreenPourProblem((0, 0), 8)\n",
      "    3,499 nodes |      389 goal |    9 cost |     397 actions | PourProblem((0, 0, 0), 21)\n",
      "    3,499 nodes |      389 goal |    9 cost |     397 actions | GreenPourProblem((0, 0, 0), 21)\n",
      "        0 nodes |        1 goal |    0 cost |       0 actions | RouteProblem('A', 'A')\n",
      "       15 nodes |        6 goal |  418 cost |       9 actions | RouteProblem('A', 'B')\n",
      "       34 nodes |       15 goal |  910 cost |      23 actions | RouteProblem('N', 'L')\n",
      "       33 nodes |       14 goal |  805 cost |      21 actions | RouteProblem('E', 'T')\n",
      "       20 nodes |        9 goal |  445 cost |      13 actions | RouteProblem('O', 'M')\n",
      "       15 nodes |        6 goal |    5 cost |      10 actions | EightPuzzle((1, 4, 2, 0, 7, 5, 3, 6, 8),\n",
      "   16,257 nodes |    1,885 goal | 2655 cost |   1,974 actions | TOTAL\n",
      "\n",
      "uniform_cost_search:\n",
      "      948 nodes |      109 goal |    4 cost |     112 actions | PourProblem((1, 1, 1), 13)\n",
      "      948 nodes |      109 goal |    4 cost |     112 actions | GreenPourProblem((1, 1, 1), 13)\n",
      "    3,499 nodes |      389 goal |    9 cost |     397 actions | PourProblem((0, 0, 0), 21)\n",
      "    3,499 nodes |      389 goal |    9 cost |     397 actions | GreenPourProblem((0, 0, 0), 21)\n",
      "      124 nodes |       30 goal |   14 cost |      43 actions | PourProblem((0, 0), 8)\n",
      "      124 nodes |       30 goal |   14 cost |      43 actions | GreenPourProblem((0, 0), 8)\n",
      "    3,499 nodes |      389 goal |    9 cost |     397 actions | PourProblem((0, 0, 0), 21)\n",
      "    3,499 nodes |      389 goal |    9 cost |     397 actions | GreenPourProblem((0, 0, 0), 21)\n",
      "        0 nodes |        1 goal |    0 cost |       0 actions | RouteProblem('A', 'A')\n",
      "       30 nodes |       13 goal |  418 cost |      16 actions | RouteProblem('A', 'B')\n",
      "       42 nodes |       19 goal |  910 cost |      27 actions | RouteProblem('N', 'L')\n",
      "       44 nodes |       20 goal |  805 cost |      27 actions | RouteProblem('E', 'T')\n",
      "       30 nodes |       12 goal |  445 cost |      16 actions | RouteProblem('O', 'M')\n",
      "      124 nodes |       46 goal |    5 cost |      50 actions | EightPuzzle((1, 4, 2, 0, 7, 5, 3, 6, 8),\n",
      "   16,410 nodes |    1,945 goal | 2655 cost |   2,034 actions | TOTAL\n",
      "\n",
      "breadth_first_search:\n",
      "      596 nodes |      597 goal |    4 cost |      73 actions | PourProblem((1, 1, 1), 13)\n",
      "      596 nodes |      597 goal |    4 cost |      73 actions | GreenPourProblem((1, 1, 1), 13)\n",
      "    2,618 nodes |    2,619 goal |    9 cost |     302 actions | PourProblem((0, 0, 0), 21)\n",
      "    2,618 nodes |    2,619 goal |    9 cost |     302 actions | GreenPourProblem((0, 0, 0), 21)\n",
      "      120 nodes |      121 goal |   14 cost |      42 actions | PourProblem((0, 0), 8)\n",
      "      120 nodes |      121 goal |   14 cost |      42 actions | GreenPourProblem((0, 0), 8)\n",
      "    2,618 nodes |    2,619 goal |    9 cost |     302 actions | PourProblem((0, 0, 0), 21)\n",
      "    2,618 nodes |    2,619 goal |    9 cost |     302 actions | GreenPourProblem((0, 0, 0), 21)\n",
      "        0 nodes |        1 goal |    0 cost |       0 actions | RouteProblem('A', 'A')\n",
      "       18 nodes |       19 goal |  450 cost |      10 actions | RouteProblem('A', 'B')\n",
      "       42 nodes |       43 goal | 1085 cost |      27 actions | RouteProblem('N', 'L')\n",
      "       36 nodes |       37 goal |  837 cost |      22 actions | RouteProblem('E', 'T')\n",
      "       30 nodes |       31 goal |  445 cost |      16 actions | RouteProblem('O', 'M')\n",
      "       81 nodes |       82 goal |    5 cost |      35 actions | EightPuzzle((1, 4, 2, 0, 7, 5, 3, 6, 8),\n",
      "   12,111 nodes |   12,125 goal | 2894 cost |   1,548 actions | TOTAL\n",
      "\n",
      "breadth_first_bfs:\n",
      "      948 nodes |      109 goal |    4 cost |     112 actions | PourProblem((1, 1, 1), 13)\n",
      "      948 nodes |      109 goal |    4 cost |     112 actions | GreenPourProblem((1, 1, 1), 13)\n",
      "    3,499 nodes |      389 goal |    9 cost |     397 actions | PourProblem((0, 0, 0), 21)\n",
      "    3,499 nodes |      389 goal |    9 cost |     397 actions | GreenPourProblem((0, 0, 0), 21)\n",
      "      124 nodes |       30 goal |   14 cost |      43 actions | PourProblem((0, 0), 8)\n",
      "      124 nodes |       30 goal |   14 cost |      43 actions | GreenPourProblem((0, 0), 8)\n",
      "    3,499 nodes |      389 goal |    9 cost |     397 actions | PourProblem((0, 0, 0), 21)\n",
      "    3,499 nodes |      389 goal |    9 cost |     397 actions | GreenPourProblem((0, 0, 0), 21)\n",
      "        0 nodes |        1 goal |    0 cost |       0 actions | RouteProblem('A', 'A')\n",
      "       28 nodes |       12 goal |  450 cost |      14 actions | RouteProblem('A', 'B')\n",
      "       55 nodes |       24 goal |  910 cost |      32 actions | RouteProblem('N', 'L')\n",
      "       51 nodes |       22 goal |  837 cost |      28 actions | RouteProblem('E', 'T')\n",
      "       40 nodes |       16 goal |  445 cost |      20 actions | RouteProblem('O', 'M')\n",
      "      124 nodes |       46 goal |    5 cost |      50 actions | EightPuzzle((1, 4, 2, 0, 7, 5, 3, 6, 8),\n",
      "   16,438 nodes |    1,955 goal | 2719 cost |   2,042 actions | TOTAL\n",
      "\n",
      "iterative_deepening_search:\n",
      "    6,133 nodes |    6,118 goal |    4 cost |     822 actions | PourProblem((1, 1, 1), 13)\n",
      "    6,133 nodes |    6,118 goal |    4 cost |     822 actions | GreenPourProblem((1, 1, 1), 13)\n",
      "  288,706 nodes |  288,675 goal |    9 cost |  36,962 actions | PourProblem((0, 0, 0), 21)\n",
      "  288,706 nodes |  288,675 goal |    9 cost |  36,962 actions | GreenPourProblem((0, 0, 0), 21)\n",
      "    3,840 nodes |    3,824 goal |   14 cost |     949 actions | PourProblem((0, 0), 8)\n",
      "    3,840 nodes |    3,824 goal |   14 cost |     949 actions | GreenPourProblem((0, 0), 8)\n",
      "  288,706 nodes |  288,675 goal |    9 cost |  36,962 actions | PourProblem((0, 0, 0), 21)\n",
      "  288,706 nodes |  288,675 goal |    9 cost |  36,962 actions | GreenPourProblem((0, 0, 0), 21)\n",
      "        0 nodes |        1 goal |    0 cost |       0 actions | RouteProblem('A', 'A')\n",
      "       27 nodes |       25 goal |  450 cost |      13 actions | RouteProblem('A', 'B')\n",
      "      167 nodes |      173 goal |  910 cost |      82 actions | RouteProblem('N', 'L')\n",
      "      117 nodes |      120 goal |  837 cost |      56 actions | RouteProblem('E', 'T')\n",
      "      108 nodes |      109 goal |  572 cost |      44 actions | RouteProblem('O', 'M')\n",
      "      116 nodes |      118 goal |    5 cost |      47 actions | EightPuzzle((1, 4, 2, 0, 7, 5, 3, 6, 8),\n",
      "1,175,305 nodes |1,175,130 goal | 2846 cost | 151,632 actions | TOTAL\n",
      "\n",
      "depth_limited_search:\n",
      "    4,433 nodes |    4,374 goal |   10 cost |     627 actions | PourProblem((1, 1, 1), 13)\n",
      "    4,433 nodes |    4,374 goal |   10 cost |     627 actions | GreenPourProblem((1, 1, 1), 13)\n",
      "   37,149 nodes |   37,106 goal |   10 cost |   4,753 actions | PourProblem((0, 0, 0), 21)\n",
      "   37,149 nodes |   37,106 goal |   10 cost |   4,753 actions | GreenPourProblem((0, 0, 0), 21)\n",
      "      452 nodes |      453 goal |  inf cost |     110 actions | PourProblem((0, 0), 8)\n",
      "      452 nodes |      453 goal |  inf cost |     110 actions | GreenPourProblem((0, 0), 8)\n",
      "   37,149 nodes |   37,106 goal |   10 cost |   4,753 actions | PourProblem((0, 0, 0), 21)\n",
      "   37,149 nodes |   37,106 goal |   10 cost |   4,753 actions | GreenPourProblem((0, 0, 0), 21)\n",
      "        0 nodes |        1 goal |    0 cost |       0 actions | RouteProblem('A', 'A')\n",
      "       17 nodes |        8 goal |  733 cost |      14 actions | RouteProblem('A', 'B')\n",
      "       40 nodes |       38 goal |  910 cost |      26 actions | RouteProblem('N', 'L')\n",
      "       29 nodes |       23 goal |  992 cost |      20 actions | RouteProblem('E', 'T')\n",
      "       35 nodes |       29 goal |  895 cost |      22 actions | RouteProblem('O', 'M')\n",
      "      351 nodes |      349 goal |    5 cost |     138 actions | EightPuzzle((1, 4, 2, 0, 7, 5, 3, 6, 8),\n",
      "  158,838 nodes |  158,526 goal |  inf cost |  20,706 actions | TOTAL\n",
      "\n",
      "greedy_bfs:\n",
      "      948 nodes |      109 goal |    4 cost |     112 actions | PourProblem((1, 1, 1), 13)\n",
      "      948 nodes |      109 goal |    4 cost |     112 actions | GreenPourProblem((1, 1, 1), 13)\n",
      "    3,499 nodes |      389 goal |    9 cost |     397 actions | PourProblem((0, 0, 0), 21)\n",
      "    3,499 nodes |      389 goal |    9 cost |     397 actions | GreenPourProblem((0, 0, 0), 21)\n",
      "      124 nodes |       30 goal |   14 cost |      43 actions | PourProblem((0, 0), 8)\n",
      "      124 nodes |       30 goal |   14 cost |      43 actions | GreenPourProblem((0, 0), 8)\n",
      "    3,499 nodes |      389 goal |    9 cost |     397 actions | PourProblem((0, 0, 0), 21)\n",
      "    3,499 nodes |      389 goal |    9 cost |     397 actions | GreenPourProblem((0, 0, 0), 21)\n",
      "        0 nodes |        1 goal |    0 cost |       0 actions | RouteProblem('A', 'A')\n",
      "        9 nodes |        4 goal |  450 cost |       6 actions | RouteProblem('A', 'B')\n",
      "       28 nodes |       12 goal | 1207 cost |      22 actions | RouteProblem('N', 'L')\n",
      "       19 nodes |        8 goal |  837 cost |      14 actions | RouteProblem('E', 'T')\n",
      "       14 nodes |        6 goal |  572 cost |      10 actions | RouteProblem('O', 'M')\n",
      "       15 nodes |        6 goal |    5 cost |      10 actions | EightPuzzle((1, 4, 2, 0, 7, 5, 3, 6, 8),\n",
      "   16,225 nodes |    1,871 goal | 3143 cost |   1,960 actions | TOTAL\n",
      "\n",
      "weighted_astar_search:\n",
      "      948 nodes |      109 goal |    4 cost |     112 actions | PourProblem((1, 1, 1), 13)\n",
      "      948 nodes |      109 goal |    4 cost |     112 actions | GreenPourProblem((1, 1, 1), 13)\n",
      "    3,499 nodes |      389 goal |    9 cost |     397 actions | PourProblem((0, 0, 0), 21)\n",
      "    3,499 nodes |      389 goal |    9 cost |     397 actions | GreenPourProblem((0, 0, 0), 21)\n",
      "      124 nodes |       30 goal |   14 cost |      43 actions | PourProblem((0, 0), 8)\n",
      "      124 nodes |       30 goal |   14 cost |      43 actions | GreenPourProblem((0, 0), 8)\n",
      "    3,499 nodes |      389 goal |    9 cost |     397 actions | PourProblem((0, 0, 0), 21)\n",
      "    3,499 nodes |      389 goal |    9 cost |     397 actions | GreenPourProblem((0, 0, 0), 21)\n",
      "        0 nodes |        1 goal |    0 cost |       0 actions | RouteProblem('A', 'A')\n",
      "        9 nodes |        4 goal |  450 cost |       6 actions | RouteProblem('A', 'B')\n",
      "       32 nodes |       14 goal |  910 cost |      22 actions | RouteProblem('N', 'L')\n",
      "       28 nodes |       11 goal |  805 cost |      18 actions | RouteProblem('E', 'T')\n",
      "       18 nodes |        8 goal |  445 cost |      12 actions | RouteProblem('O', 'M')\n",
      "       15 nodes |        6 goal |    5 cost |      10 actions | EightPuzzle((1, 4, 2, 0, 7, 5, 3, 6, 8),\n",
      "   16,242 nodes |    1,878 goal | 2687 cost |   1,966 actions | TOTAL\n",
      "\n",
      "extra_weighted_astar_search:\n",
      "      948 nodes |      109 goal |    4 cost |     112 actions | PourProblem((1, 1, 1), 13)\n",
      "      948 nodes |      109 goal |    4 cost |     112 actions | GreenPourProblem((1, 1, 1), 13)\n",
      "    3,499 nodes |      389 goal |    9 cost |     397 actions | PourProblem((0, 0, 0), 21)\n",
      "    3,499 nodes |      389 goal |    9 cost |     397 actions | GreenPourProblem((0, 0, 0), 21)\n",
      "      124 nodes |       30 goal |   14 cost |      43 actions | PourProblem((0, 0), 8)\n",
      "      124 nodes |       30 goal |   14 cost |      43 actions | GreenPourProblem((0, 0), 8)\n",
      "    3,499 nodes |      389 goal |    9 cost |     397 actions | PourProblem((0, 0, 0), 21)\n",
      "    3,499 nodes |      389 goal |    9 cost |     397 actions | GreenPourProblem((0, 0, 0), 21)\n",
      "        0 nodes |        1 goal |    0 cost |       0 actions | RouteProblem('A', 'A')\n",
      "        9 nodes |        4 goal |  450 cost |       6 actions | RouteProblem('A', 'B')\n",
      "       31 nodes |       13 goal |  910 cost |      21 actions | RouteProblem('N', 'L')\n",
      "       23 nodes |        9 goal |  805 cost |      16 actions | RouteProblem('E', 'T')\n",
      "       18 nodes |        8 goal |  445 cost |      12 actions | RouteProblem('O', 'M')\n",
      "       15 nodes |        6 goal |    5 cost |      10 actions | EightPuzzle((1, 4, 2, 0, 7, 5, 3, 6, 8),\n",
      "   16,236 nodes |    1,875 goal | 2687 cost |   1,963 actions | TOTAL\n",
      "\n"
     ]
    }
   ],
   "source": [
    "report((astar_search, uniform_cost_search,  breadth_first_search, breadth_first_bfs, \n",
    "        iterative_deepening_search, depth_limited_search, greedy_bfs, \n",
    "        weighted_astar_search, extra_weighted_astar_search), \n",
    "       (p1, g1, p2, g2, p3, g3, p4, g4, r0, r1, r2, r3, r4, e1))"
   ]
  },
  {
   "cell_type": "markdown",
   "metadata": {},
   "source": [
    "This confirms some of the things we already knew: A* and uniform-cost search are optimal, but the others are not. A* explores fewer nodes than uniform-cost. "
   ]
  },
  {
   "cell_type": "markdown",
   "metadata": {},
   "source": [
    "# Visualizing Reached States\n",
    "\n",
    "I would like to draw a picture of the state space, marking the states that have been reached by the search.\n",
    "Unfortunately, the *reached* variable is inaccessible inside `best_first_search`, so I will define a new version of `best_first_search` that is identical except that it declares *reached* to be `global`. I can then define `plot_grid_problem` to plot the obstacles of a `GridProblem`, along with the initial and goal states, the solution path, and the states reached during a search."
   ]
  },
  {
   "cell_type": "code",
   "execution_count": 35,
   "metadata": {},
   "outputs": [],
   "source": [
    "def best_first_search(problem, f):\n",
    "    \"Search nodes with minimum f(node) value first.\"\n",
    "    global reached # <<<<<<<<<<< Only change here\n",
    "    node = Node(problem.initial)\n",
    "    frontier = PriorityQueue([node], key=f)\n",
    "    reached = {problem.initial: node}\n",
    "    while frontier:\n",
    "        node = frontier.pop()\n",
    "        if problem.is_goal(node.state):\n",
    "            return node\n",
    "        for child in expand(problem, node):\n",
    "            s = child.state\n",
    "            if s not in reached or child.path_cost < reached[s].path_cost:\n",
    "                reached[s] = child\n",
    "                frontier.add(child)\n",
    "    return failure\n",
    "\n",
    "\n",
    "def plot_grid_problem(grid, solution, reached=(), title='Search', show=True):\n",
    "    \"Use matplotlib to plot the grid, obstacles, solution, and reached.\"\n",
    "    reached = list(reached)\n",
    "    plt.figure(figsize=(16, 10))\n",
    "    plt.axis('off'); plt.axis('equal')\n",
    "    plt.scatter(*transpose(grid.obstacles), marker='s', color='darkgrey')\n",
    "    plt.scatter(*transpose(reached), 1**2, marker='.', c='blue')\n",
    "    plt.scatter(*transpose(path_states(solution)), marker='s', c='blue')\n",
    "    plt.scatter(*transpose([grid.initial]), 9**2, marker='D', c='green')\n",
    "    plt.scatter(*transpose([grid.goal]), 9**2, marker='8', c='red')\n",
    "    if show: plt.show()\n",
    "    print('{} {} search: {:.1f} path cost, {:,d} states reached'\n",
    "          .format(' ' * 10, title, solution.path_cost, len(reached)))\n",
    "    \n",
    "def plots(grid, weights=(1.4, 2)): \n",
    "    \"\"\"Plot the results of 4 heuristic search algorithms for this grid.\"\"\"\n",
    "    solution = astar_search(grid)\n",
    "    plot_grid_problem(grid, solution, reached, 'A* search')\n",
    "    for weight in weights:\n",
    "        solution = weighted_astar_search(grid, weight=weight)\n",
    "        plot_grid_problem(grid, solution, reached, '(b) Weighted ({}) A* search'.format(weight))\n",
    "    solution = greedy_bfs(grid)\n",
    "    plot_grid_problem(grid, solution, reached, 'Greedy best-first search')\n",
    "    \n",
    "def transpose(matrix): return list(zip(*matrix))"
   ]
  },
  {
   "cell_type": "code",
   "execution_count": 36,
   "metadata": {},
   "outputs": [
    {
     "data": {
      "text/html": [
       "<video width=\"720\" height=\"432\" controls autoplay loop>\n",
       "  <source type=\"video/mp4\" src=\"data:video/mp4;base64,AAAAIGZ0eXBNNFYgAAACAE00ViBpc29taXNvMmF2YzEAAAAIZnJlZQAAsnxtZGF0AAACoAYF//+c\n",
       "3EXpvebZSLeWLNgg2SPu73gyNjQgLSBjb3JlIDE1OSAtIEguMjY0L01QRUctNCBBVkMgY29kZWMg\n",
       "LSBDb3B5bGVmdCAyMDAzLTIwMTkgLSBodHRwOi8vd3d3LnZpZGVvbGFuLm9yZy94MjY0Lmh0bWwg\n",
       "LSBvcHRpb25zOiBjYWJhYz0xIHJlZj0zIGRlYmxvY2s9MTowOjAgYW5hbHlzZT0weDM6MHgxMTMg\n",
       "bWU9aGV4IHN1Ym1lPTcgcHN5PTEgcHN5X3JkPTEuMDA6MC4wMCBtaXhlZF9yZWY9MSBtZV9yYW5n\n",
       "ZT0xNiBjaHJvbWFfbWU9MSB0cmVsbGlzPTEgOHg4ZGN0PTEgY3FtPTAgZGVhZHpvbmU9MjEsMTEg\n",
       "ZmFzdF9wc2tpcD0xIGNocm9tYV9xcF9vZmZzZXQ9LTIgdGhyZWFkcz0xMyBsb29rYWhlYWRfdGhy\n",
       "ZWFkcz0yIHNsaWNlZF90aHJlYWRzPTAgbnI9MCBkZWNpbWF0ZT0xIGludGVybGFjZWQ9MCBibHVy\n",
       "YXlfY29tcGF0PTAgY29uc3RyYWluZWRfaW50cmE9MCBiZnJhbWVzPTMgYl9weXJhbWlkPTIgYl9h\n",
       "ZGFwdD0xIGJfYmlhcz0wIGRpcmVjdD0xIHdlaWdodGI9MSBvcGVuX2dvcD0wIHdlaWdodHA9MiBr\n",
       "ZXlpbnQ9MjUwIGtleWludF9taW49NSBzY2VuZWN1dD00MCBpbnRyYV9yZWZyZXNoPTAgcmNfbG9v\n",
       "a2FoZWFkPTQwIHJjPWNyZiBtYnRyZWU9MSBjcmY9MjMuMCBxY29tcD0wLjYwIHFwbWluPTAgcXBt\n",
       "YXg9NjkgcXBzdGVwPTQgaXBfcmF0aW89MS40MCBhcT0xOjEuMDAAgAAAPzFliIQAE//+97GPgU3I\n",
       "AA2XOop6H+EVsfSQUXqx2aBk6gAAAwAAAwAAAwAQjocotiX1cXGXW+5jtfxk7cAB0A8431oWMYTF\n",
       "8nv+o7xhMyAzwnyvnGAvO6WLG516jOuSHjC/a0SQnQDR1xVVWjvIL/amxX2lL1Xuw+2TqvC3bgoO\n",
       "/0gNnZreN2axIBfybqxKEYY0FjgkbSxn61AN33UfS2BoZO1Rq9zDH3MBecVii5Jn9woPcFQB87fD\n",
       "TWwVaj4FCX7OLW7OgMhf0NesFhkyHX19a6bjrentSqWm03SXBpsYSzG2BVgfoRs5zYQ5T0KY/sj0\n",
       "a5LcBCsmYkrLScrOR3Nnd4qK+pNLvGAQLLXYYwxwghBzO1tSt4NgP2wj2T0H4wFuRF6JxRfSYT+m\n",
       "m1wNjPMjTIhZyGBd7uj5OjDbhgjrZybabvR7PXZZoPj+k7YCFJoFYhS0tohxBLRT2dEaERdisYEn\n",
       "L4zi1Sx49SF9rJBe3XLJ/7emlynlYYP/rc3EBUUeiRyFprm8UHrSO9nQr5ddirEnL6nUeudH29SL\n",
       "vEkZ7Eqq5JF3v9prU/R+7pHXMmp4cgkGHjE0IW/gf4gjxrjjiTXvaDs1l4H8nzHu9yEotDXnoHPa\n",
       "8t9vvFmOm/xrAL1Sk7fyY/AsFePhjP8PGmlmYGUuusTOp++OSdvAmVtfxwNY9dNLPW+tYyEnuL65\n",
       "E3+tOeUqJXdS6hCVEV0krwsQ6xqK9MPGqH7Ogq29GZnsMqdshRU4mu9GzAx7MgM7pinqR72PkTda\n",
       "iX/RxOKuyga0ol+Qy4baOGI6g86KtIgAnStJAyJytKzjsuweXc82lkT14jB0ElIn0KSMv82bm7RQ\n",
       "IkZUgEzVLEivY9CumRsNodv7elCa0FUks5xNBGWkkHrBElc4oEmTK5BKqawwkErF8G/blW/9pX3J\n",
       "T4dIpbp4wjKUNAw9H49fSb1c8kvvVN2YINDRGaYnhUCwYFIPzSZxdLaRDmABY7U4rBUbm+lN3WYp\n",
       "hn0gARXAsa/VCCOqCfBa5rNCQFBdNNzn2C0A7PpndIoDYpHTA6+ZkKisLIVABwPCiP2oP/BLN7X7\n",
       "4SykdDr0+lSQoz5m3BirqhU+aNDz8vMAIxn3K48d8LAWVumra/Ca8Ii1nKSG3lgVDk3h+4BZvhrV\n",
       "WzpYQwBSQwjLbULklesf3vGS1EdSJ90dOb0cQhntIoCnVBIVYvweRs7Oh3MXTf6MVFKv+8BvkrbF\n",
       "TEbgY8AS1VWrVLvg7ft4yVwmbZgnbqH/BCGuwz0IRJdO1S7S2w1SEjCP68XDUkMorXToaVLJhpnf\n",
       "FIZTg6OoQ6mCTUG7LxZmqauAI+JI6AtJ1+Pqwg9KYbKbnmNzIFUn7cGCKpmIbOrEkkZ+nvU5FZOa\n",
       "IO/oBbQkx3tIcnMVDaFMfizPgkfkRMkyI+GerQYUYCbJqMv6xtAA0DK9puRArWS3ik4EhIF0D1y2\n",
       "c8ZmdR67dRIykXUOhieSRdyZoJlULyThaypip9D/Noc2+Ja6S6RVVd6A/hNvAR3gQXnZ1kjWwcAA\n",
       "AJiAp4bA9Ll/1EQ+yh0ZLVLzFqw5JP6EQX76+SWQdW6votua3Z5muink3/vdndjZVkHZNKWBf53C\n",
       "qHJBcA1EFDvfcJnlhznkg5aFrQjMdjf/fUYMv/r+KJTWbpjY7rUastGtAF6y9QrXAk38f9iR9WbJ\n",
       "sLb+HmIDFKmcBIAUp9FQLCiXw5AYvCDO/siKVUfhGnwZYglWO4y/FPFnfDvt7N8wyJ63Ct13eh36\n",
       "aciM9QD3o2r0FxUuDf9SmM4atSNIZX1zGohg1GPOlYMeJQ5aMySCWruKRJGdw4+S16iuPKokmG0W\n",
       "qRu/1a3BdqfPvTsJkrveyhjZG+kbnge9YeOJLUnU/efjMNnJrCK5t1IetGqV97/ww2jWeBCZgmgX\n",
       "OllvMfcHG5O6isN4R0MMlxyncXKUhuzzJq0cde3FeX0/WuJkQhAzss6dWX3ZXcTsgDGSlhJZ9MXs\n",
       "kORoRy+onAbLS//7Ntp6uwLlUd6GQclgaT28OYWEHd6r+r3UxCSmHnZ7vbTEcLvP07iSwu3KFW0p\n",
       "7VmA0WR+E/CrdG2YvF9k58IPt3d4dD69rrOM9C3k294zbXicnuJQJEBx4c83i7L0lO/33QVhW5NQ\n",
       "ufNXTv7Kk/hQv/+bfLlO/BPmIPPETn+RiiLhL24A/pM1DWz4Pwjvndk87eTdTOg17Xbm0kzr1I0d\n",
       "NX2d7jpPeOpLZwUKct6oF8BYqfPrpLwUF5L/vqDdKbvhNXRdfyg3nSmClFmSrfi4NO6azvtA4Nq/\n",
       "bWfOuD4J357Zi975+YFsBGDOjFuLuhpu2jpkttFSln8yhkBt1crLAfcNMKq3cyK2yr00UMS1GslO\n",
       "DsyYNQhv8/mo62N+9MUweyFuwaki0/jkR1TmghyV2YnWgRFzldGw2Ywfc3qVnMEe0cGQZvIW51yw\n",
       "7L/NzrSndAkBhF8rlGeqoVhJxPg3/1TjdSC5w7teF298IuNkWwmrwhIefNcNlVXJwx4A8TnAJgN/\n",
       "U9cIcwFN3EB/nvBcnsIaiQAx75Zjk1utsurLCozXWJcj7BSZJHKnu94QVceBfVUMmAoqZSXs8OTN\n",
       "/IWHaFaJ56+Iw28EkWzk9o+I31OEIjWjWQyUwIq5PM5bHHi3zsh2J7hrSY0NDIb6f/+AbszLh9TU\n",
       "Rgv86VIcQIoRHGYyWH3P/6YjzUsJY7Bag3RGEIKH9IGRQui0qddKgmfW7ZoHBcuE2tqYIDcswPBT\n",
       "Y1weKBYLDPy4mIyL51BbP0w9Aq6IpKBR6cccl+Wty2rMf0UcAbkxrHK+d6Bv3ioyBhRfC4+gfgBy\n",
       "BkjeCH7n/fPW1Aed3dZh2suvtr90awTfpkDt3UBrVtFlEVLMT1fIcb25nU/UnLQIx0njhe1LKSNL\n",
       "vpgeL/CSa6aHTYvxuY4fJt/+HgcNA6Kg9FDOhT1Q4XAPDquuxiMYW42Mr1sqrdfD/mC9t6nEfckY\n",
       "Qn2JUuqpMQsawO+m7CjCUTlnJC45fYT/Ff+QqTZIE7IsRksVAr6yI9WbZwLjvfDGD/yjnC5Bz598\n",
       "Zs/4XVGCWm8BevUWkZ1ljQOKgR8s7/vPgdaGS5GuV//8IkNRw/Idhv2ybz+IydXFCaHKXCW9L+LX\n",
       "39XYQN711DFho6Ls7ey4dzAIUuP7edQNKcNeAWydDDR2jyk/NjOIvBP2Y2h6QVnGQOGoPHI9/Dg1\n",
       "WvYuoyIsT/x/kttA3Vmw/Wl3yl/DyAk39/ciEQbBRGwdVrXgxy2RH/f09RPso7Z1xzWJgn78cSZy\n",
       "6dbKsqghsr8oS5I0dFt/KLUa1fgTBkyaI8PHgLDPBWxQbAS6v/ezxGa14wQGMucExv+GLz2ASPtH\n",
       "wsVlWa8s4e3I9zFdF9o4Kk2F9hQeu061lwFf2dYXpz5xvlOeCm2vIF/4qEdRDl79Te5Xuwr+2Hpp\n",
       "eyAXofbCv9kc6xiR1PV1JKuWEmHEtpf8MdNCnh/wkyWZdvzl/e2x6rCe98/oCqfZBZZAlut/ECZ0\n",
       "KLtlPxQCl9OtpvoR2ZA7nbGaIzbXtdwYO9Qz81Dy2CnN0KpTUuJoagfEaIh/J3WgfHAANDFL96EQ\n",
       "4WBOOv8YI+ILPRTE7d1mRWR4p1C3JS4OS5nJ7FtVzLteRKRQzimo3+tMUHJ6DuU5A9hLBskdijP+\n",
       "GqwOiYRPUlTkBS6QeA3gfyBLNYUVcWQJGo4Swhd0LWUEew+RCSUXE4RGME+CsuThI2CYU+fL3qLD\n",
       "p0jhJ4ugrKsh4/FI83Ljsuy/TZjWKom+XOEqXEE7tMfY35/+fUDq83nfL4qFRIC4bJySrSiwO0Hz\n",
       "VXR5A6VuvKiiddfAVs9YI5Db6WZY0wxP0oz0JRzz8Tec4C1fptufhcW3nUhUytAoj4CbFT72/tVy\n",
       "0G1m1f3mueIwhj8gG1Dfvqo79hGRhini5jJa9Nfg8Jio0fJoFlgkerkFIrv4fz9oYnBtqqGRMYR4\n",
       "N4u/Uok3Ha2lnjBSxBNTvQHCKl8rD6ad//1tzFInNz0/f5UlhEwn9Wy1Qqk2am/H6LoJkVjDVsA2\n",
       "qGnTytqQJADIukscJfysBdvj1PBadVxo0ZGuk52aN1mwQHQbb5evm5YpVrTtQd1/lDQ4G2ErJBCE\n",
       "Q4WBL58IcABbFnopeMXFPf5p38KUGe9mbER/TryY04qzquq9og4VP6vhpig5IJpcEnb7zlJuY7FS\n",
       "S8NVgUzmTspKnICl0gK6yxetXTarVOtWtojWSobxPJUYnBh/KHK69MJRkTABKkbxdqE9glmBtkoz\n",
       "lcHRbAhkrhHuLgFD2lqYgQPHGyjSAQ8mXI7byALCyb88YOrRN+UKKjIcRCUO44rLwhsqh3vMMzcM\n",
       "74JIGD4CnTXNKMbg/WbYXIAlCZr+HOoXzxPd6y46hNxsDm8fDvUBfdiNxD8XGfgw85nlm93N+hJ2\n",
       "U0h0cL/WtwzPMhkumU/2fJq+XAx0vxEM7zf/JoxJzGQgu3q/X7dJHF0EVr8sVyZEnrNG8l7nPF3k\n",
       "chSoEttA3XXOrOyiQfbPv6ATsxyfRBAHvMTmfEhTkYgsYxOuuDJIMlHoYZv2fGvd28KYOoZVGD5o\n",
       "Ttd0MQkZGO+zmKvhSorNSS7G8yS1kjEeW3RNgKK2qqSIGexWY1rMbsCJdxCIwOwW2/g414av4q6z\n",
       "2USIsDbGWZbOeUHAW6fWKoJvp1rLZ+h/p9TOumhRHGm2K2kBSEUNT4BCNyW+4fgnM25zc9GP7vD9\n",
       "Fy9rel8m+K3R0CQUhyi19/WJFZp+mAeN4yx2uNP3snyHhjIUTn+gBl5b0ALparP6R5iJtZCvXB5c\n",
       "Kha5YKw0E4/2Jms9dW9Q9GtMz+yxNjxxdFOJCjnhbuYygnfbFf9VQdiDQq8x50xdkXHG449bDEPl\n",
       "KDLpN+UKKjIi6p/2ymkqXbkgAT/+Amqf8yhQGWVjDqNCjOl/Sx9W6DYz9wTT9xqLM+yxeJgKI3fD\n",
       "XIxUrCIJX4rScSoBREsHWGx4RL/9TDzhgPlGC2KuQOsn+L0UtdLcSj8BHyFQTqN8jiH5Kgte0nL/\n",
       "zHxo9VmGowESgBuz3CKPf3G8u/C1GL0iLdv5F9XJ7j/qGN/0C1vu+iQQBFLdb+IEzoSQEInW9YlC\n",
       "MQamrkE/oZ2n1CaEgavAty5wvGfmy2LtHciyL73hEc+c/13NBRAoqpomEgOXCjGOsz9Nid48hGz+\n",
       "ML6nq/bfFEQ5BEQsy+ChFHLJZw7ojhEXnVGdfxDC/5FCGZhoPnM1ErUD5kPPwG4aV3B9C+I1fL5M\n",
       "7i2VtrfAg7XRzCSn1gvEipJrElWyR+/1bZlYjPoqaDCS9aVzIhcKLQJhF2gKsAUaoIcCzmnx/6OO\n",
       "tYzj7MsKX+8xKQDnXEd5umFvc1WzXChm0h43QmuhqVsoQFPj1v+DAiOUUy56nYTUcMbl2tZyolKf\n",
       "xSJOaGC0A+xas9Kk6s2mpAr9Vui+i05C2Z7BbJEvE29g+hTyO5Ch0pQD/x+pH04W3yndOqo6oTw7\n",
       "BiB9SuLhsjsmukZ84cc2oEYIh2vhGeBJNyLPc4wDYzbSkcyX6VPeFpeVgr/ihSJ+3OBvUGoKf9kR\n",
       "fmRQyTQUu/KtFVZRs2Zzvcy1L+mN/938B1l+7vG3i/7F8lSoR5uimrWJyG8PI0YwaEocknON2TpC\n",
       "+pHcoD/lNmsTxZ+EhEvUuMcB/XxJpZraW5AcTqjnSX0hG6AGn8LRINKevalmcfzGRTRfVKWEwqY+\n",
       "BI0d/ABpu8NUmR7OK7QBSfllOi4WDbLolNmgiUYIloc8Ibr3Xk8K3ZcYV8zKSUg5MQNae2LLM2xd\n",
       "qkt/CCeRsVgLqRGWNyImgaguxTJzRc3jFHHZEbgePn+OXVipJmIAIi7k5qENbp1OG6sTrhqwmI/o\n",
       "c4dI1EFcVU6FKTPEs4cH0OvBNGpNIWLZxRokbCgVrfTaywKO6dEme3YCkUjvhpeg85XcXCH74QRn\n",
       "o1OJqvpT9hwfMKQ6aalxKRTB3SXFXkHm43t5+hAuoy4knJ2sOzDRVCENxgm5DHm6hpWXc74NOM50\n",
       "Sw6uZtFeLh1MOP0IWoaYiCtdxGgdidRQZqNedbR+BFBPwzAOpGFfeaKyhsV41sbGKxUKGn/lLQNV\n",
       "4KdZTqNEf74ZccP2Gyahdr1VvIAAzWGzYmX3Hs6CVnm6T3qfXRu0ykEmeepqotXNBWlDKCPqDnnG\n",
       "bBroDgSxLRJsDQr4DcBCuDQG1UAiqeF08YQwJK8XE2HHyLt7Q1lIAv6JWSyTELUeL4r+1HjtgOD8\n",
       "wS7SH4LG54bXl/CFziCpCYFRQASIq4yZcZrBZVGcl6AIwBvyaN9TdLhaWFqtvQ5DXaHay3QBR4C0\n",
       "VoR6UjbHhitCysPztuWJW14yuqHoiCv2YwuHGJoHEk6YKxuKCXUJgibDpdCQIUoAik1ULEtSJdl+\n",
       "D4YGv0wBvVXCZYoT7J49XjqkZes2uOY5F4C+fYXRJ1cq2NipuC3ppJ34zyCwdBoe84nrRPYKVqQp\n",
       "8I2tTJLqXkGddOFDimbLiWf48F6TJJtjR8GqJaN7w4H4LrfcFjI35DNb08PBYDHwdsMQMX51cabl\n",
       "Qu5DPw4e9wOE/dx6o9bQ9Z7LEV38QjHKS9qjjDWE0kSajfN6mdwF3iPQG9OlOK1u+9QDga+dVKwJ\n",
       "QvXn+qSHrMN8azS65m27MTyIRr3kktch64DqcFCPYnydEJ69itsWzStvYxOlEzAD/387UkwU98VD\n",
       "C7Y4JhzzwVn7zk+95P7PDKLbf8fMNEBvROfXxsn/lM7JT9HDFDXQKBtZg8FnNNglz4rZucRnmOc1\n",
       "7vNQKw3JROgbEAe77X880oRnCACBC6RoYtOQH37rT/ZQvPoEV8OAnFMyuHnrH+pustei1A/fAUZX\n",
       "VNgTe7EjW0xR8dPsOmo9CH217phKu3lzgohx9vBVqGd+Xz8DMX/KsS7c7z/J/rOucNbxRoMkRAYj\n",
       "9Gm0I+ItQ5UJP066p2nN3YFKURSCCSiwF93ZeVWVr87JH6eZIGdjesJrDWof+b1p54TaQ55odw45\n",
       "tF3c/NE/DXEeJH1Q2j0fP80P/zpf5LOVF0UW3I+vc3olQEhq5pYSUjH//GZy1bilObrapIx0gMQA\n",
       "YnX66wmSTb81vCxafOIMs5ICyKaW5B1meHp4N4VA4soB5ezf66HXlCgHCRf9KkkK+JRuILSu/Ut6\n",
       "N7JhyWSZCXf4hRAl+BMu28oMsDc3l93jwsBXJG6Akv13BpzAqlPS//UIr94OTxPTkzaZoFdVQUWO\n",
       "RC/UbNT61ca2aEYGRXG0T+S45tEi+g7ZrIZuv+mofudlg/65PvMNnGpH+cyHdiSk/1mPEaN57sSY\n",
       "P52siOXYSEZKw0iMKCZhmwpM8BurE7cgqnbdLRpaIT+ErSpuODZ2Sqmr7Tslorvk6FHQzteVnXM9\n",
       "0LQwPaudck/1ELHJFBLqgKSSjBpwg4khYQ+HW7dcI7K0mrBW8UWa98thdP1oQL7vUp8k2otf200r\n",
       "EPbloWALJ7AFIpAs6f+n9X7cjILv37Rety5HPdSHFFPQTuGIAA07SocWmSz+mtmhKY9JGUIY8KTJ\n",
       "GFV96iCk8WxAmBMjmrvPZMDJ2JM72RRk1SV5Qg7YUWhxaRDADdDi4fR335ebCXcokjL6SE3439eX\n",
       "pTeEOsgQv+u4umyYauNUF+tSkEHpKuoDq/M9AFAIoHepA4D3X384yiW9gV/H9WS8RWoTEnnL74Kb\n",
       "y6rbC/yGORM1AqSyX+naCcsQDS9WOjMyAI7Hp1DOclkoLVeoC9hiykIJ+nGOwKosyPX0uupRxt29\n",
       "o/I3IgHzPrUvuFTi9P/803G8URQreDK/NnQKETGoPB3ZBF6VK76e/PLXpTAKjOASrpcyNfKlrQXX\n",
       "hLSdJQBXIPf9DpsLTtofduTnwYRJBgIMgPj1x5OeA1MmE8Oh1jhJ+4Q3dV6RMVIgKWXPUjNnD1RR\n",
       "zf/p2QE20ylK4wGUOPIPNFIeQj5AQScInRdEiYys71O/AGQe68dtv53UJQ7sdxoi3SKDnwBN5vKr\n",
       "NdyAsAVBSlmYTZi3R/xrc5MarQIR0uY3UH7AJ/F2fJarp38MXYxf1+RAAUx6iGIyVfqgv2xRknkk\n",
       "qyUfCGaLjmgd3oeKYVgVv/MpiKkeXAfew6MOtiS2PtTM+mlSPElhfz/GhDzKqqtEz57SnzWfsY0M\n",
       "GxhGnp4yZ4Am9mKzHJXfnUrsAKUZOG3ha14atYjf+Tb19qccV3VuHbWR/Lv6T1ZWG/a9ND7nku/A\n",
       "amOJnl2R1kMxcw/ycMdlnDQJQqq4ugMFYsvw486HnhKb1Rl/+3+q9x9lH9WRk23HLus0I2FSJd7/\n",
       "O6IdNGcX1Ct0cnKyKtPDon79dRKpdkZOrtuGTK4MY/UmOMp3vfJFdkvPnOsdJSv/rr/Eu0npmVc6\n",
       "9W4X+ZCuqkWapYQXvDotlWYGAoGOrZYuMZCUVd9uHmuuK2rbpp9K2baf1dGuneG9RnDmxP+XIv8Q\n",
       "BwQQAZp7tr4nTYFObvuXEW910WgUVW5kfhqP3qFVWAUuSkGG94yeik6WyMXX7PXZ1P5tDO1GXebN\n",
       "2kFmqIHePubha4qG4RhmJi8lH3SjntW2GF9Q4IrK0SU3nKdEeIZ/lD60sRVl/C+enrl6iLpsrFLn\n",
       "myqg31c+b5G9PeyG+UXOVhQMdciObNQsqw7Oqi0EpT5OqmJ9UYRFQvRuEceC14MNhQfs9H2rFAHi\n",
       "2wgFTa/zd9LaNKYea+mDhHpTDQZtkgv3dACQ88l9D+GpSzvNV71IUnp035+d47zs9p9r+Ux3z9Gi\n",
       "uJOnXHj0fa8Cb8UpWHBYhmxHd4nsJZ1yxqcoeRNaxxXIST+Gvu4UIlZ9Cz0CL2c1Mbl75Bi8GH9G\n",
       "mZh5/pAKHZnKvp9esVWqEezZk4v4JOwZSGanDrVg2cdmRj50cd2SgsrVq+n0nQhG6kNbsQ6bmwe2\n",
       "DNFtDZLpKv9kikESUuwoJIQScARW+OHqC8v4phtwqRf8U17KeI0Hf2NXXZ3dAg8Jm6JDU4udgeIc\n",
       "FOhL/gJTajwJdf0ikxU2HEeWpxrjg+aCS0oiJ5MuSlAjjDdrXCW4u3o3o/SOSEsNfyo1hJvD580h\n",
       "0dpBjnK072MMzQfxiD+MlErh8FYDUuNDDRVUS2taAogmIyo5TsWklupkWxljO4vGjJVUDS7Pcqc5\n",
       "WpHH2p3ffpZOz72bfmFGjHHweVEtmb05ZUZ35UiXAL9HMx+dAXvZTPK8ajrAWZ3e1bvSChHbgzbG\n",
       "KkL9FOFzZ19MCgy7fsNW1/uIqe0pDsfBjw25GG6/VcQjaCrf/tA+1Dm7Ns4/37/YiLmhvxyldNfz\n",
       "qiw32PsBnkgvm31vmGIX8/AijDJmZnt/RyBbLK9wOEa8m9q7PPjt0P72OO5nduoMHBKUkj4/XVpj\n",
       "d0qnsXjcBYL2svgJ0C2X28dkRuB4+xVgceGli+Ttdo5RBWOfsDQV9KsifED4Ulj6eY3o/SUrLy8A\n",
       "qrB9fjWlimC9F9zdcOIeCh1zD2T/K9WKICuTg/qzPswSI55dIes7fP1KhFqVQDp1tR3DBXeglOZD\n",
       "XOqzU9ThU5u65De1+yoQwg9ym8+ocltg7xjGDa/8JIQFRceTxv7fonkSWC3sh5QHlQ1F2MQZ7GZJ\n",
       "Ok3mLfzvum8NlfzMaztOXqkpUAlnoYq1wflxDizCJ2uTKg+VzoqzjYmnxpWxctJufA14a9Iym7Fd\n",
       "j+ieAh4uGLrysygZ+oBIm3s8AWED810pyhBKbUeBKh58f44Sl7gkQVizG+FgzkgnCQnANf2zqAFF\n",
       "fc6SN1kq02qcb18sTDB7H2xqFwN0/up07rbuujGTwzVmn+iChHbgzYc83+3zEltDU1awifKLDS+F\n",
       "dZGzgIH2u9GJbAXFiFme3cZUDBBeo3pzH2PQ3eWyuqjhoNABqU3l1eLAWx6E5KS91voXRlLUzuQ1\n",
       "eNFXOVz2f4aWa6JE29bzABUfRVBM+yvVLz1bQcDYz9eA6hn/8IOVV9RFXPmL14ZLlCGOxYDX7dHj\n",
       "9unIvXkFXpLozeXJEeELQuIR8jTZQKt3JGNjZ5fWijjjoUQARF3KGBUc7PjZjHSzHo9e/aBxizH/\n",
       "xRAbqclocea8a7vir13ChErPoWeF4Nc9NIFeQjKsaXwjaudSYDtZcbc7o5CsPss7Or8cWJM2lStw\n",
       "1AjoPlJmP/irZv7KCBmI/1/c1+TDPVN9DV8z4f5326knQrejTKW/88xJsBl0KXfiwX/B+2bd6NBx\n",
       "I9AGAese7N4jItZQvOT7oiNbgnM739dDJOc95OKX0iKd7XiObOC5qnNZHPQ/uFaVxFd+vgHAUXZ5\n",
       "ruGg1VmnWj80qsL/pqfS/yxBPJEVoRqVxmvxu/b2nWFEKa8c8J/way7qDbXQnVBsP///P26JypV3\n",
       "qIfGkQSPOJBUOuDYzX/3dHG81TOZibAV/aY9M9P3cALho+LsE5LLEJAKNUMbE8EytpBJAaYb4kvg\n",
       "p5wcWvre3fv95IR4g6tL65j3X6B0wtZENry//vKuL1s9MvCqi/m8s3+TOuxgoricaDrxqzG+rQy7\n",
       "/pLNiYcMafun4sjT4s2KPZKmpCcl4Gn6nPY2jhBH7Zs847CWZsLXMax3SoegO2iH5dc0l75YJ20A\n",
       "afEfC75LueSKBLlx0U0Zs+VxWOhaHJ7X7LtyRTr3X7OFxNfP4h+OQWDrlGE4ZKKVISt7vKnUX30z\n",
       "N3eRKes7eLzh/JoDGNl2ZGcRs23b6BLQcl+kawWsP6APOhDIEAdTzgplCOz7ZbHJpzL/UanUZl8h\n",
       "PDkc+O83sP6Cqpjb5nHR4vhU66X8jtlR1+DKdF3XXaq051PgGu6ZvhQcU982mcixBqa0h61ycAQZ\n",
       "ig5Qm8X0wDhFx7iCF4Y7kuk6S6/wmigMTezz6R9zQr2vnGertNovQpSIaC+M5YVUG0C7SLRHpS1U\n",
       "wk3gs6ks0LtFYiw5kLK9H5C87gWlwH8PVrdnlbTqZ2fM5u5oFhdlH5sNy1+UyuoPePbJDhaOuFJz\n",
       "RP6ujX/jYUTU9KdUaZ96oPuptg45XEyJkQ6y63aUJCLzzORK6e16DZXWLY5l9+xH6JQ4HH7yd5r+\n",
       "FsvHa9SLdHYiBCHi8wIec8TbBi0OCvq7/7CZTMnKX+IyQawCyLO30MC/z2CerwUiLeYRrmDspIuu\n",
       "hWOU+tjtm+of2/3gglypzT7buMbaxwb//oTfF8924Y7LS6nKo6GP0HbmgJs75pyiXQ8t/23qxtW3\n",
       "M5Y/hPqmSHky3vvyaQLtsgiDhgceWAQTvTIeoGogGUA+4arhgoM+ASxdxZ0LJLOPIxi6p+0WJUfU\n",
       "aR1YnaL4v8zIeZiUdBN721RqhejR5f79ohvuT/vd+1xXG1unQM9gw7JAzhWlLoAMnW8A4hA6Mjne\n",
       "KZb2Wbh19HEA0hXQBxDjmeN5RubOuPi6Ksi06GVFivff3U72f+PEMixh/cR9rywvMzBlZuSpUy9D\n",
       "nwxad89OTlGuJcl4YTra6OJ4FtHwmyF6ton9XRrr2rQiZVLtaMIFSOjlRgDGeVanal/t33Ma+MQC\n",
       "HXIkzT/ccE6jswTelLl5jBe/mgTFEWuUFBmWGvT2uv+6sqWnNJFQcMECWs/YH8cpcAgZpuQ+Em3X\n",
       "XPKnVQbwkBrk+8DLLh0yzhqjg9vugHmNKZpka0fDEGGj3ptaZ8SZic3Y/1alUqmrmp8taVVAgbUj\n",
       "8k6iHX3EiALsXWejkwrfHGJf99kqhMT/B9FC00Wzb/QVJfOorB8lCT991OIH2icyBYh9iXeE2ZCJ\n",
       "kddAPe0bgePkr2jW3+SOLjnynf+/ERdrOOt6PjKuoTWQ0/1CPu8CCfSo2eKXcsGs/Z/ybuNC9+57\n",
       "/7s5QELmO+WB3hP6sHOnO+DZXBjVrjrX3IPR8kjpwB+N3Z3l8/Dm9nAiY9vg+za6JJiWuSGN+bGp\n",
       "6GM78ARV8ztVTPLr5PtW+IkUMFbfoGqpOHuNBDj6hOm9JIjG5u45EEP91GwYX56Hg660w8Hbvo83\n",
       "ZzqY9RzpnHaMFrSz+jEKp+DQpikxbIWx4OH12RtPRxfL1juV43hx7af72ODAhv57CBv/VuX/J2XF\n",
       "eGTZFvGRgjqUr8kSJ9Oydo7n+e3YDqutyxVkwW+mc7qUZFhprnet0NMewsqPjmrhlOxMBe8mnPan\n",
       "c++XOWI0gzf4x/azxy2a9nRX0SdibhiFVLR0ZbSPC1itdxEDzM/UthRsIklSzUZfbVx+ZC0K+5Gn\n",
       "WGg8dTofPseI22OCPZ63lkfl5C2t9fHIAguV8lgvpc1jfjo5QweIwXbTxC0JdRW3psenFMOpa169\n",
       "9ybDDW+fvLvlvbsPhJlc90B+bhKaIs3h0guy0dFK5WjtIXNnsm2ykDU2Y65VhtEhfXds7PNT5kMM\n",
       "phkJb4TE+LbRHVsmli3JsMpYynj/Po2y8Eg7HEsIaYo7L+ImiYROdubp8ZHxynWRy+5H1g+c3Bi8\n",
       "tuiiqn8VVL9V7m4pNqjRxAXhclD/ySOn6wN8oytF5P8SYtxuxBdyi4TV/nU5RJb7PLQno3vd6vpT\n",
       "9hxHB2Y/+ly92+PXF1X3fPww81ppnjTKNZcWACgUI5RyBfS+j33LRkGH4nw+g9lkSqxIjtDnP5St\n",
       "jgHBa8Vu+Ogu4fFWAT9f6y+FauM9w+9j+gGP0nzo7IhmRoWzExlfvTgvzKGwFPUopjuFuxnNx5SD\n",
       "GibQg0UBrvx+kkxbr3OzfjD01WWTOE/dQpvw8aDas5/YfOOt/2JA1AewtjdraSFmHqWD4O9BX5vt\n",
       "mpPv180qVYymdY4LfyHN9/FIlK41K/SVm6v5LgQvikdUiJ/X30oapD6LmSWyogi9QRyG+KL9oSZb\n",
       "1JURgbktvPibB/BNfuep90t6hHWWoXw6QRiXZsb0YUuxSDV8+BecNKTkLfZ0Cssw7HRz7RtV/IcX\n",
       "QqH0/nkD3wrASoXlpG/6b6wsMmxitsjNKe1xg46TUybLqUHdjRWAB1aKrbnGgf8Xl7BSpEermAoy\n",
       "Up85vqaYozSFRYnVezaDg+HW09DcLU/N0pm14UfqwlMbLwUNA53WRsjB5cYlQaGJ2Eh6MCEuuiMz\n",
       "zqo4ZIjTdWvXqo30tm2gOndpv8nlo1h6n1lQutx8T9NPawo14T/fv2UCwNhvyLdf4vhEGN3HGVxI\n",
       "kqqbVt7tXbG9eVwIRLNko97rDdbEG+svGR9hQ/ulo3FQNezP/h0XiU7s1pnYv95ytS/yN/sOpc4X\n",
       "yShdqyOqTvv09pie+2l4ji6kury2TEQDFOYq6ZG28IFmIfEUYYN4pH73IjcawJRbnmV1xWPEUNi8\n",
       "FdH2jicr998SP+xvqstxxXnNo3AN6ZbYv79uF58YyTIJdvqSf7uz4URTSaiQMQocK30Nvxb63W4y\n",
       "3s5C0e5j4QwYeCm0VGqQvwJX0h4Y81AW6bqXLnd4xY92ZGrS5qWUsiszpVUrnVFTa4fFWTgLZ+j0\n",
       "/llAf+hsIZBNgG9g47UZgcJt+vuLBczAWASGzj/B8uvilvFLRTHssRR8zAUUVvuEjrsa+etJ2Pcy\n",
       "+/3H1pXpfUq13lXIwUabjhv/2MNp/zRHgzaZAsuFwQK3y/7sSg3JObQxGDgB7OAXrFGWPC+XX2fP\n",
       "5MGkMPTgcpFpzYiCv1JI5XuLb5cL9dNrPzTSvQct6TcphYB4rt2KUEd5wNYzbTW6nP7wPwCy2q8j\n",
       "DfK4dIa+zyprUsgOgqf7Wy8JOLjMtIQ+2VLWwX9ieCyXyrmQQehSW+6Z9B2H/XZu/KtAV9JI2qb3\n",
       "xT48yIkR2rNYgxjUjrf2kU5Tx3BJOeulYH0+zMjdv22L8y8VtUxc1b/tC4od4f2wf/QrVm03kUwk\n",
       "CpCP7+hOBhDznM9x2Re/7zRg1sNZkL0Eo/mvG9BfzLt58ATHHZAQaQprpC6sfU7ogWBuWrzIWGYs\n",
       "Sh2P5VxQKVzuZRzN0+wWIPymHwBSfB/2v5Ywv7nj2FSk/e6+BXgDyiEeNWlohKIr2M/U9keZBng3\n",
       "1DFayQWDl0piCf/HNZWtv1LiEJ0r8yTXZeS4jGXZqwKBivVYB2uH+ZdGZM/QpXMgyTSXuUNoHerp\n",
       "q5tr+jx8Iz2Ta8olTpLZujEseYodXoIufjhnyZO/zAE96qdpO7kAUrTLjHaW9tBalVml+djRnjGh\n",
       "h2jpbiZIPdkVXR0o4MxdVe5utHH92fu3xqim13PKV3TITccS/T8+BaVD6l885c7yB5/VROBz4v8j\n",
       "reOIzhFsEBorvWfeSJ5DazMbaXs6ksDcXhADTb7AMb8CCIB2xZPSgkXEH91L2pB3dUFoRn8N+fv8\n",
       "1YhYDA9LqPbb2pZ6/HwwlTpFA/DUDKiL0xk9FwxgJ116K2dUrZeGsEgzaFKFw9iBsmzWCuSGWVX6\n",
       "Jmv9E92wTGMLQ1OQJtVa7NPDDs7UEctS8FDnC1J2J3/fv3Yukc0CXOAQMgTaPOT3gykyi15uPqHa\n",
       "+jaJlVlnBsg8qL2kMqFdKv1Elw5oxQ8etbuLSL/KJomaWlJ746NaMWL63pjK5dzioWEjUa/F5bqQ\n",
       "uYoaVUAruIJigfHo7eHeANnWjCBUjo5UX1Ry6vznzsawDyX7gQxru0aTKdlK08v4ci7brPOOczuv\n",
       "32UReXNXNjWPG3VsvCc5Yc2NdSsO2JY+aHTbxpSNCU1yT32pDqvPn/55hsH+8l9eMFCpf7rffiAM\n",
       "rwt01WNno8f4MtNcO0w83iCefAUoJdYUd4gRaPs8saW+E0IV9FRjjqiO57WVcNeDc7rVW84GhV0L\n",
       "+DV4LqI6v5T/Af8I6ZNFIENgzVlJYA0xi3jsZUFaOQAfYWFdfVqymv+OFBN3SrYxJEhflEEJNWNx\n",
       "gj3xrSk+PDLqIA/XepG0Ju7nzZgfVTO4xYNOruAs6OpagP1X9v75O9Dg0cLkF4n0ExeovjjxYgOE\n",
       "nVpdCGxN+jUn6H3nwESYbjoF5Wl47wvAXYRyq6FrIAJWktTzrZmdYsIjOgHZAJYOOdke64qQxG4A\n",
       "Fi0SfZPgbj0ZhlZQHX/ihdk3QhDdojUuEQA+q+GBa95EEEovUYz/kA+VKm3gTSffWzQnggYvinWy\n",
       "mhqgicdYcCs7wUXj5sOKIH3EAemAwEDFSqAvvLUD3aH7Of18XLZUUwB4+I4XJRd6i1uyZxJOyra/\n",
       "9MCEBD1vwNnSDPSlsccc1TfzZ60C4icFhMJzLf5SMUBIM97RMbuk69YUP3KadDteKUmwq4M0QMLZ\n",
       "lZ9iyfKpkE6FfpXvhCSOqDnqY/mct3g6fQ5i9xsZpVjP8IBcOB7ucHc5au4iybwSRg00H84GeJ0v\n",
       "5gJa0+l8XZGyPAF42yEWwrz+TV1HtV2R6jJrKU3RVuZmPntOa5Rj4eCd73wHMoElMcx8AtJcAzPr\n",
       "3v++OtojCy4HnfjUjR7iLkscdiBJLhCb8Xt4NgLBhIweIAetb4CYznvvT7r8rSBzZuNBAsDRc2s+\n",
       "UcOtVS+QHpVj8otfV2zlGiNbsKJ9TpWJ3Spwtx+ckSOSTSNBFnXeFdD6TYPFAwy3evYaVdJcOljz\n",
       "sE/VTOeIXLCIbkpLHnBhcfBEHaj4wCoP8Jkm4dwbbpdcdbzMpBuZDsZr43GiIboYgvfbMVJFnxgF\n",
       "O1CryU4k/hUe/PkWO05t6v0uAuN3ivnxQ5K/q3PmtCunbqKXRyiLwzIi4gmX3JCF/toWOEyHZ/3l\n",
       "Q37/4WBluT0kpLWftkQsXIb9EeFm+dNGz/BBpgTj8SNREumiYdftf5q4s9KJvIyC3hK4VASiXNAW\n",
       "Vm5weXcolp5nR93TtAfr6UqSToBrXbhmddlmU9grjEydZ/YQB4m585xocYT4wyUQ1GX+eAEccGXG\n",
       "6tR0cWogcNLJef7wae9x+otHaXWsKcy4VOU2DLpAHZ9xX8MZtkl1mvv/ANXyMYCGAgT6rLvHgO5n\n",
       "6v35uQpxX3EzYJvFMaSJacFBkg2oP/AXsgEWVyXD/CrHUnUT+BsmsxjELvIN0nNKanydGIfu0myK\n",
       "FGu+99cf2JO2PuFT0imEnJ8NggKaw+B2Eo7jnuptcGUagWo/vBylWRn0YjoLe9jyTxSay3kCkZCP\n",
       "fQEZELWC7r5pLhqwqAB7d1VRQ2anARlIEdaeePcASGpxh4Y8Nq1nLxyksK70gYR2HNFW270btIY5\n",
       "Pq4iGCVEIHIb4/j4Peu9YeOiaMUzzymffRoMi/joP8+nqYRE36B19fExsRdGWa/dA4YjX08u9hlm\n",
       "lifKEag8ec5nnyU61mx3NC43ijIIwHkTcR/6mP3Yy7T9Yvi79UaOnUfl5z6NwecfkXxVLpMdGKAJ\n",
       "d/w+DKshxjI9PQwmUSC/MteTe1b5j4rx3wcj+PyVPGlY9dGACRTOKd2jcDx9rKCvoxrqhxN53OQp\n",
       "XruC0Lv5FtEIvvAgsbSxOuGrWUbQj9pcMWKm5gAsW/9d/r9jzrFY/lsJxHUEclyCHzXMwx3srR06\n",
       "b7VI5a7BHZVoWxSmshS6KrPRxP0kixmNAse/HZxla4/eM0qcmL+gyLxw0mkra8B7clkkzPAWdOsF\n",
       "jimdkIB2DaluwqExKVSg1fVbZV+VAm0iHzVggtYk9ZB6zjlP23C6vFAse2Zz9B/agKzGsnMblwC6\n",
       "RhbyOq18DIlmPisg14n6QQkS21KdX2Y1L5oVw2bEyYbS/6K+NLGpMWoNYG3J7Cg0H9oQp/tGCMug\n",
       "ly1J7UQMzAdULQXxC+6ieicYQ+aA9MpPvf2oR8pPkE+3R1K7HRQN/jIRCl+QXYs3gvQ6AsipBDOX\n",
       "ROe13JuB4+iXUZoA7FbVr6JwhhbFl5+wn2cqWk54eyKlHms01qHAEsC+VmqlJ17y7lHgo5ZinL1I\n",
       "CqEJ1avmXbaBjQZBhhlOmgeWB2AP17UTZSlcgJ2tnmSRTTYdvbxZJie9cImT3eoZVjChVEaGSQlQ\n",
       "YIVB/6zZPOH65q/gAtEpozRP3p3hr0jKboPPWZn2s/ple8xF0piyPOhqq091YnXDWJnXkLcDxvUM\n",
       "UocjMBxQikmiSGylpZHahv9oi23BQFSpS8L6mQGvORswm1a7KrVhIehp5B9yURkaOaivDWdeSNX+\n",
       "n0D1IrZiZQWnXhNgjhpBSuQumjjI8d9TxZxf7ge7ofgM3EoEcYdCNeC+Tjg4xD0SZ9P7FgOh1KL5\n",
       "0QBnZm8ExsdnyRbIpV8/P4kIfB+BxRvCRznMeEOSXHhxbHDXjupXAWM1L2wFUwTCMaaZo1YjL4VZ\n",
       "rYP04knY1P9IwtK4t1flRZBpMZyCtsOAQLH/Wp2WTDhxFO3CvW0rRHC/4pnEbnpbpykppWO4Z3dt\n",
       "G3xrZIZfdW5fYtLOJDM3W6Yal8cVFQgxB6Rv1kSh4vgZQ8D6ar+yN4oKo9AHJ/w9UbRotg+7MZzQ\n",
       "J27fa5VIuoIcOTNa/dwxUi1lBkNf04LR3Qb4uCR/xURggNPzT4Gcn+0evhkiW9uz6/DjgWpvU4p/\n",
       "kmnilhgqLRRHrIsApLpd5bmId5ZVNhW8FYsPjPu75LpQQ1++IZRzQz0M2YOfvbr8Pe8K1//YRD/g\n",
       "mhidpHn224KOSoUpVOvGckoUyOy///goATEeQZvYHAWhqTeYuw8Jnuxlomf8/AbQd4G9zQuvWw+8\n",
       "KX17LDfJ1/O/R2t5h1p4vNT4Yn7dbwVvmwyjMo3cBGW6xPokh3Oh0/L1a5iKTlttD4mlEEZTXoo/\n",
       "3/+AeblU1phJjTytj63Ip+ojdqfo+8vHcs9wzK4DmMUvkufff3UPfdn3ZaWcs/PbNgxPQlEHne7q\n",
       "Ywx6tvXfKu0IQPPIskfRTduZaHeuLRt3bBEWF6YGAMuj1/umW5umSJ4SOeJq0P4uWTjOVB+zDQmG\n",
       "OReTYQBnKuUbeK5eDyJYeytEVkTVVa+oDY8irw8Bkbz8a95VS16uBVGEO54YwliZb969JKBQLAnX\n",
       "cKADSRC3LgV1BzY8Bo6HoZDRJk7IZ2mTpLSzJhVXn/sBd34gE371uPU0rOUjxHiXf7pOlPSy4szR\n",
       "+IR9CnRod3TfgmdVWzuBjtODS25s5yOnn1PkDd7YZpqEM85ui9yEokJ+XLQQW6ljW43Hjm3lfSx9\n",
       "pRj6mRypFLmALIyARTs8ymrT8qQrF6FLb+OOLiupTlxR0ctVDWoawhVYlrSc6o361jfBHCPT6mwI\n",
       "Yv3LktbnBYNPpRA7rwpCP14tAJd1XvTprJ5vgFdeQy0QvrpnKefO9SVHSv1WOML2bHNzz9zfNYj6\n",
       "ydsDpV00BpofGrKxnpgZqskQk+tYgfANH4xAPUgIazsKZUW1hidOySQxK4a2pyuwFeXeNXqLyvf3\n",
       "JUObqYM7FEAL5g3LurMWjpGCyLvHiTVsJJ+oy7FfYf38aQoqmnBKyNPYjM9db+DcftQOhvgp//FF\n",
       "wCDJB8RAX1cEIozeXIadxIvSkuKwtbdtvhEM98f5QovFnyXqMS5f+y1xEA83aYJan2OC6/Nwq9AA\n",
       "dzkmN4oXYQuljGKRZazxeZLe4PSzPfRwaBc+NnSzRALy8llMf9zA/sGq3JwiYsMjm8VUWXYggWQG\n",
       "x8x0gyO7PCg+BnYNT/amTb/Ty9IQ9XD9wUe9oCLlNOwVwlCelUmGBeupmEUv3Y/xmv22XTv6RdWY\n",
       "qMPPRkUtid+Kilgq+mE5rMsHyBQ2a7ymdMi7ixGTBWRJgCkVboOLROhr4pSD8/6SZvkPA+ZSoZjM\n",
       "7AbLzBlRa9bnGuVgGO2WQcXqOTAN+COicgrgrpSWERu10EEOxT+O7fjD8IJpUSqk1Nt3By4i66KO\n",
       "hktSAcs/2FixSHfhypaIxmov1lkvuFCKyR+vbEhIqpk0Oj5ZF/739bLgNoahYkCDg0Y+NKliM4G4\n",
       "hSlhRvF0ujZiPm22U4YIdyU7HHVPnQxdx56bNZckASS6pW+CiesI9f4rsUyc0y0tJGS8grJhDEtw\n",
       "uZgkzqDrRyoU2xOS6x7/0KQIgSkw+pLCJy+NR/zOBH11GcSvquwVR9kOUjJaclUQNrEoVSOGeiyH\n",
       "Pox6QAVQfNYdfu2rT9ZR13a7XaOUeclBAj1sn7D62Fk1SyS+K7FMnNLp3YIXNi4qnuOKSd2u0cqd\n",
       "4MoX+R2/3cm7FCrKxymA2aVVmgt0DSDq4CPREO+dwDz+RSah+Y9ypKT3ILDAY3R9l4CnPv/R3dYr\n",
       "V/BtUriw7DXiwVt79zhlB1xILrUsHgmWj2NdFmK2bLfjptH0peRTaYIQhvtql5xc+Ko1vx8SPH7E\n",
       "fXgqOt6TUTICab1nH/CdlpiLGPqdhEOxlYJ82FFfV9ReYs9ZhwWnuEdfWQ7kWIKRoihtNSbVZDgF\n",
       "YKGFJs2NtUNWL7IY5Hheik3dbFMZ0GWiO5iW8ILHhA4W6AYfZZPtAp1JvpWzVbhMvcGtfNc6bkkU\n",
       "PGPhTvFuV5W+mL0EAsQoj7DZ5VN86FK1pGckuhj1Zj2xgmwlyxs//2Sk9/qIVoDQw2Ksa59RDP7D\n",
       "aZTX17FFV93rz758TSeQD9CIkgujDA14XOoRaWyI0mGnLbmz+DAkceP+J96hGrBzOvwT2rRVhkzP\n",
       "urFP5Z8iaoER1Op/rcekD6PDywqB1A10pRoWMvdxXDxIKayz7IzuwH+jyKPHQcxYEuFiDkI3Pnbq\n",
       "SrmdoaTecC2lr8SenpiC82wHsI7bDUeawL1aMUgFEJ0EAMFrCXL6YrRbRJjxUIvw/qPK7XxXYpk5\n",
       "pg6ZCDe+QV1ACIu5CqK3XY1nfyLaJbOsHr519LE8hMGmVRnQbjgn+UjgXp65O2qLL5TG5+FNjsfz\n",
       "1FCkUm51uG+qIyedf+SR1Bv6Ir6/E3bXtIIGFDQWNmkP2ecruLdB9gQNiomvZ4yTasmBj1PQPo+O\n",
       "locwNNE7rAlIbItaG/tUoWwT8zXVK2nh+Eznov84Sh8c+t6hrarV3JHoWZTNYir7B53Mg7dGwMlB\n",
       "BtYWHeQ9HtQwy4by2JdZD5QODfEIEQVbceRvR+xBfwUoGlWakDwDaQ1E7BnVurQnhj4T0lf0tWId\n",
       "kcX81MkFLEsM4tAFumPPIiD4AAA4dN4bc0Eou7dnMmW6VW7TxfPl+f4lIpmkanfRtv+6TALDrgaA\n",
       "/9X0buCZ4Dx7rdlODP//ScQP2b6Lk3Jyy2eEvkqb4ZwAzsFPGh65O2vXu6sgQU+DDYQCLQz+ZtqK\n",
       "c3kgBKF/SHcwNgrSQ78YRQWVrOag8acugwgo6ABkdAHyHwl8ydGhklbJolHeWhf0qIcHYf7MSCwN\n",
       "MBnn709OV9HIspAev8FjpnvD5rWrn/vzgNAVY8OIcD0AQ9OIeaYQfdlQD7YuX1Wlz/55+2i1NBlE\n",
       "HGqJr+95IVSk53zf4Dc/EJffl6DaN9wUYRQvyP+9tU/w+zkwE6KfrtVa7NPDDs6KU4dfz6mAyrxD\n",
       "Vx/n6bLQItzAdbG45UDs64pbDO+Vi4M9jYgwv5JwH1dpniv9U9aNINiktgQ9X6F7g03wLfHWPu6B\n",
       "sqIrViMl7gKxnMMLKHZg0mYQ2n6TskqAm2Ed0IY99yzR0nTnYIF0Wf4RzpeH2GNLhEEiPbPG6lly\n",
       "+50mAdaX0vfiMIUt5FUTwAuIatCzKzthu1d3DgisrndX6EkaCLoMDjIWkK+BBdvJkwWFuxDP0Dts\n",
       "EEvPv1RCMAzzOHSCzzJzzMl2ltmJECNEFkD7HoDmPHXpqOfCvLuGJmM3Gaf3j/d+HkKzUQjWLoOm\n",
       "mb93uzibDYeKkHbWqvlee9NGVb/s5UnNtnvp9TMDdwljUdQz7bhjsss4sA9fBZJnS17J0o0AK56H\n",
       "gUx44alDS5QqIlWWRhiSThxk3V5O6XNsHylG9utY58SfwkrgulGaD7Pj9w/aob+bCO1RD/7mPGwF\n",
       "Few6glvhNtzz7hacefGNm4Q4pMqQFJnJ9qLjzHLD8yivF4qLxqwOHZXLAkemcA/HUKdUr0g3bt1F\n",
       "60dQQUWZJpcYvDap04FOkPPeSThs3Y/V9g1H/qw1MDAmGPKQ1TNSvBv9XXHx9nx+4ftUN/bylsdC\n",
       "gPPftn+XaMVbFdnXWIgKa4bapsSSHFODNM5PtRceY5DPkdM7cO3f+ysBY9tkzUdS6NWBw7K5W54d\n",
       "U+5Wg5Tqlifnx+SALaJmlpSe/psRuXc3qptv6Tu0VtT8XGE8FB8q7mh0+7b8lfznJuBOYOpP7vRl\n",
       "q1mK6BiZblF9OFsIuPMa7R2NfZdfMBoGv8kVoCZ6OF4ytfWwJ8mmeZUmnkURJ2W4c1Mh5ZED/ZuR\n",
       "N1cy6lF726t3ZiCucLheFcBhLsx3zXLikKoyW55KI9xnzvJuEAuk59tFDCME4budtTLy938AgxOI\n",
       "sy/IhlTY7vXmQHU+qA0of5QB7sbfB5goNTQg1ga/i7Fmr71uX/J+e3+SKzUX0ZKvRoeEpUuf4GII\n",
       "wu0yASmB22gIDn36oklCZwKfK9wgn/RgizLFwL3oRp62CV6JcEHDUPzrI/8BPfcanVZgPDpL5X6B\n",
       "SJNGIGGdB2TeYcA7oUicZsOiyHoQcVdpBE8sMvrmDgGKhsX45jfrmdHyPe4IrK1bSUZ1shYMqS/Z\n",
       "gq+3/HUKdARsjAmi7oNCEvPv1RCQ2umF8mJAqqpIG/XD0b+lv1SUIteWUR1j6KLIKs831T4JDlbF\n",
       "X/271qeyGjfUXG6WlPZsq1DU8Wt2eXOYJsLQLQ5pPsOJCk4THw5mJkXQPk1VI28B7X5dSTYUxAUy\n",
       "UcbuC7ulUExlTljiJgkWB5gDgLa7sAAABXIAVeAIeAIvAAAEnkGaImxBT/7WjLAF4JZrhsQAITDO\n",
       "8bSVtAqOXRpZ9CVpvt3gzXSchwrbMq/obEaoG2iXgPkN9hW1OkwbMTD4AvYPE5pTaM3dPcNFaLG+\n",
       "7FjnUx//Y1zFPOdztdppn8B6q6S3k3czen78gMBgUsvTKbezIUczJjwjPQwalEhhyStVaJgk75gr\n",
       "fyLnwYehP6Hrx2n4PjEPwnjRLDYqdPyCtpCYxhSIl7iOxXuQXKqWW5nRUleId12K6BNLI92RpjNV\n",
       "Laer4pe2Q/LIHUAfSwTa5iXmFRMve0zcc7TlKyA3XkGxCcpNckpLloWRSAqHBysanGVF45J5/lpY\n",
       "hcaof/jyI13B8khOB7vx4rKcJTdperFK//izaztYwMysTFDl0USpdYX7FKDBjNQ6GUsYSLjvGWDh\n",
       "BRJwC3f8ndLcCZI94b10AtJqg7H3mq8tX9YFCId5JQmvCOeljbhDozWFJ0fpA3gSR79MLJm3TsTZ\n",
       "kG/lBYEp4D2KDLTACOJ9EJY1gm0Om+bfl76vXaSkkMAODPYUWyg7H4H28Apqt3BjVCPTqyWT8Tb9\n",
       "JULwajP5u5DnyF/HagTwcTgg+YWD2dfo2d2FruT2snquF/WeSQSdnCyOHSgB6pOQxSpaQmzYQYWg\n",
       "hY4cO2gZ1OIdabpkOfN/8KLmVyYS8Zvd3hqKzhs9877mKtYLK5umOv8SmQPtkWMAKgbSpaDLKEDc\n",
       "KCD9NZ++9qzyypUaKLHtyQNGnEzdZ1dzcY16JeKwHfDClQIrOQZP8WZAlM1ADTezzIFXHBvY+mjw\n",
       "64vMr18hIOxuwaMn/Fn1MiInqq+irV06YMgw0wdM8Gby9jBE9osSXJRQhhO19akd37HFRBu/DcIB\n",
       "ILl5sw0etwCx0l2hbw1j09KrjIZn/TLzcbKAEQUq7dF9mgTJRDkb1lJTkhkt8CyvFvPWJoeKKqfg\n",
       "A7Sk2PCuvXnOtMCLW4CU4/R5pJNQNEb/W/MCg50cM0uqfT37v+NYnn3P1L/kEeBVpme8PFKd9pNl\n",
       "oGsoBburM50G7B4oBuP/gbKxcGBrWb7dKhdIPuynrUSADp4yRxdN3HnOTCg/QTxYo1aH38wKDjfx\n",
       "n/5aX8yFqh5m+fYV3kgbkr4Jq7zMa89cxD3mp5tcEBVtkLR8M5dVD6728TlfnNuH+c7WFKK57d8U\n",
       "Ga8wVn+FTzUFP4HlwRsLmTPOEBeaHYBBcm8po92Gv0LK4mwylcc2ZI41Sg1Se5fuDzCAfw465W1v\n",
       "ssvLnwMN8EbHT9AKNibk22a7rIg2bAqNJxXtFTjS5XqwF3BI8GNwNd68H/nDlv2S+Hpb/1vzcm6h\n",
       "O7BhNVwczkM70GWh9Q4oXAVw2vxXrO1gDkaWZHROqZoczPt9PLC3ZSMuJXrsmqFLVTPhw+NupVbJ\n",
       "3g4WwyFnd6QLx5jsuJIB9sJqtbS6ZL4JcTUqg3trW56JhKjJiMKOnpHS/BWdwlobRuPmJyk0cNQn\n",
       "UINfviuPkDWOHb37OUdtk/U2u71LDOenYwEpAxOel+RHRW7JGsg3c8Rjcy8yMdNgVtWN2yXy4x4m\n",
       "YIEV1o0i7lsHKsGuZ6iPWZMkwIY44AAAAWEBnkF5D/8AO8R5eXJdoIAQqCQFOZshjbfKVZ6ixtcS\n",
       "pQtBiJz4u/WDZlHQoxHQjj05ndhUiCcx5yeXEq5y/RTFW4gwl3r3deWNlr9kx7gUdodDBJ6BjIxZ\n",
       "emExMkcBslyp3l0Z9C2s7/t7Ydksz0q8B2cEXGjkZl32Nh6NeoBYKSogjLDvl4QvJXJvn/69KqIu\n",
       "gDyzgrfo1HeJ3W2ujFFzOv0W3sANqWn6QCXctnBdvZh9d77YLB98iuI8JZIi82dmyzMRukrg6ViX\n",
       "zoiJ8SlytUmdZyWCP0rr+e3BeYPgKYCg9iMFRnIUoSfpCqDbItzTe93WgsRkCGYEPf9rUnbvV5k/\n",
       "BUESVHJzYuwFEb+W1ARMqXAr0KQ57esH+9iQ92OP/aw9qLXHGXj/e8a01Aq+AU6nFa2ghI7eCV9f\n",
       "psEtgQjyj6r2k8EyDMO9auWqgtMYspqTvJ1IY92nUcOQziAXcQAAA59BmkY8IZMphBP//rUqgBbI\n",
       "kAVABEBx2KYjtbAeYA5/B7mzeskLfjsHzZLLLaO4NcLlaL5GG2ZmKSzcY7hEJiatTl5wyvRA3/Jc\n",
       "42YeEKEMz9FYJ0EIoKcQECoSTNpHExAA45deQbtW8Tcq6/jFsTycSrB7+eLWfoXMUazSjxY/zK9R\n",
       "h3nhjuBPrK+FJL/8Yma6Dat9Tn4b2L33Ww2RRPdJuV+NZPVNmAe+x4pqf9/5hyA/fenm4K7zRRX5\n",
       "VI/vrDS2Vyerf8KSpDi28yqBdYRkq3zWYrEnJMD09Po0T7nmlgfx4uMb71p4K5OmZfnhL7BBxLQN\n",
       "a3WFIl+LS/gT1eZqzgalfBRmR9ErWp8sOt20Qd2H52LEkyOT6rRyfn8xmxy3hcVqRad72wF06xkN\n",
       "jtH0wR6VMs09p58DXyWiMR20gsVtJJ6hz4YRBtJgGVJfcmpzNPfQAe6wh856DAi2cUP0EBUGFJWK\n",
       "T6moIh47WajG9NXvfV2dglEGJJVQSLbcroHpYfmr+ir6bfskdz5paXZtID/XbVwXQJg8SuxnoIsx\n",
       "CeXMQ6/CR2oAlurcUTpce1PAUsbW1odU9JOgRQk81kqFl+rQUaMsp+01hR7KBJgQtk9riecVG/4R\n",
       "o4ALVxheBOIMyS3tVH5HgEylSqJVo+d2vPd1BhSXTYlVvagABk3WQPRDEHBJ/Paf+h1fyk5W9ofk\n",
       "gWPSvj7y8gXeXxXtjzzk73cyQi1d0EMUBmwJC6epRQbqD8m267daALkBUJAOqmbeKAXgSzIlbE9K\n",
       "zGJmEunXJzsZdp+C9iTTPmPMfDBrttBSLtXWG7XBuYzCQGOju0dImPLEVkROFEc3RLIQUFA2Gl2U\n",
       "SG3CFOxYlUpayKIRuMNQkCdqpFv18m5C3zckW6nA6IUWrssRwgOL4CqqxvegNGyPS68puPIYHBIv\n",
       "zrSWrC0SzE5wDkWyCH9BJAAutGFbx/XNQKVeUvkyOGrF99wMggoS/7OFrI5VAI47yb9q49j14VXu\n",
       "zVxFRsaGfrqtxp/ycjtYrspBCh3qOYH5+avZoNWWKPmi1vRjbIblpdSAebEHME385RR+0Swx6Om4\n",
       "NJ78P02F3ePVuFUYxQfYLNuEw01l4L/WUVNZCjSCuYZBiZqAcWoo+325ZNBj/FWjwJx+JwOlx70J\n",
       "cZtP9b3RNdTBPGRoVZcW0LzbsRoWhXoOUb3awL08oCTlwKp+MxRkQXdQ5V9wFIB15Y3MXZOItIAA\n",
       "AADQQZ5kalPBDwAbO0sn8Kkf8MQsAJoZjMWRfbFbF1NXyXTRplUea+V6lubIKMpl8ccWYWdEbt6M\n",
       "xrjUxc1butmAXfblHh2pwcvzzoE6Yo6ATO79E1cJuKyBtAC17/Hwx3AIjkgFLfQb9xeQlZa0IMib\n",
       "z2MHmHozYDhv41ktjsWMQAgHjC+8Ev220nk1siG1GdXbjLG6T6+4NuMESE0OmthCimUGIMyz0QYz\n",
       "nWhF3rUdssUjuyBE1l4o46tGE5ZD8ZmVw9LVD4EubNINKolVR+A2YQAAAVgBnoN0Q/8AO79UNZSw\n",
       "yywAQnadaekeSwJAXSjYd2NGJZdzrc4QQWs7mHEjeBVEFnVbQW4M7PFk/6B4BPwEroxUOWfhWKan\n",
       "XQc98v2dMsODh2gLWZDGoeeU95kvkPNSNpDOXRJgtUbingH7BJw/I6lSNr5pXhiBNVa8BLkexZzh\n",
       "tevz7N+bjb/1eJiP2mWSF0+5OZiETGcroLLWLXTECth9V4OlR6bxFYHx/I0hl73f3c0MdFl5t6v5\n",
       "f7AgZ9H7A6xyxGUcz33QQEo1tLBwcDCn1BvZ/NmFAOTdNIO518QjF/qlXEM0FAm7+nJJLPC0GDXB\n",
       "zpzDD03wtqt0ceiQ32hZhiMvBdg9tfVz4xHrDKHE5zAnSeeO7cwyQLXsYiCWR0kC7gs95bQw9qa3\n",
       "xw86+NUePDgkh0JKf9okIIPExAiuxv1cqRL3Q3/93td6+DcXtRIUUZH3Y8AGZQAAAVMBnoVqQ/8A\n",
       "O8R4IckucwAbLRXASL3E/mDU4+jo7Zc/z3Y36dhhbI3xcK1yN3v4UIU7du2zKflGI2l7WXUSqX0B\n",
       "8KImCw4OPYNI7G7nlqlSdFje4sQkBbCRxMKjLRFlXGc/0s2vTCFxa5/yTjlmJ3l2mkHK+y2nU65Y\n",
       "J+9YpCBnD69dwnXAkAOcWrig9uy/RwxykvtFVRNWwMnzkO9Bh2w/lQI5kGPinFtYtdbIC6WN6SBa\n",
       "/r+6ng9ZEJIAM1JBvId5wFbl7KgPTVfr/wgR1BWx6mBqzK/HRNJspByI8/eZREbl1cpbRCf97s57\n",
       "7GcdgGuaGSHQi+EivP9jeS6zMPFCQlGQ+2CBOvcbFw3SE+loKWj2m1I3tffUcsXZTv6JSe2+EbRj\n",
       "HbhDof7GijZeHfhT8HD7/0qAl8jSQpQLokDBTStLvRKZXpB7ZZzchn3ymvfgGBEAAAOeQZqJSahB\n",
       "aJlMCCn//taMsAbTMc7/hfjdEMhGgAOOpJJifjGbpKQ2nEJvtdL2gdlGM2oyerK11h0IBIpCD2nU\n",
       "EixpG9z+77S8nLpmN/T6sD8Tag41zCeFbTu3r9+zKHk85TEiBSEQOzcgHB7KmJgrsdTQS1tuIdqL\n",
       "cCXduZzT0dKjeTxnRj9gWuwbfmofB3/4eYHzS36j3Beo2yIUW/6s04Pw/P6KdXZp4AJ2E1K3gqx+\n",
       "HUYyxXaYnf+0vd1v6PwdYez/Bs3QcQcmVNriN4qlKcykKuhE8JVAHudaZUzgcHDGhC1UDZCIPGAn\n",
       "jRo8Xm/GG2Ac7l2Km1ZM1Pr9qwUFUcRwiJlHdPxlDC9cCoBJ7ljLLWnGhG+oeA3D75wRP60jyt/I\n",
       "ppkI7c0fBv51oVi9fWRhjm36XRSgWISDu1mH3bCtUcgAYO9zQINOzC/71W9Xsz7aJ4C/lKzp4EIK\n",
       "g1zkku4yGZ8MvCsSqq39DKhUGfqfnuqY1rQ6aHtzcxy+dIcPKGlKpeFXmMFnbYiy0iGF6iWuJPCd\n",
       "1xB0e2/ocvwCYq3wM9qQGaTHMwnt1G+/jdwfNbLY2oU6JCzGjfU2yDl8L8FbsxdxCKksfODatLZ3\n",
       "Gx1Fv8Kd1ARVX/+FoNSr1+gVk3JFepujzm7Y7DYnG7BwmjJMzsD9dc2wcD0eobpnuo0HEW7E6xA2\n",
       "IC+MxxIS9kEiA3UtYzLW0HhVRkrmb3/yLdhv4yhOJjPKus3Z7kqLE64sCpkJOlscHGupz2SxEf7K\n",
       "uYmPpZIO9qI6NAJHt0bO0BifzRPefR4X7pDtxddffLXg+7DNE0KvEC1E2u8Eyd90Q+yJZGL/c3FA\n",
       "CWumIzIaTEA4RgYL1Mn/Iq0PWZAvF5mRrZ9C/cTfBdALQEE5vmnHZlYyp1PcoHyIopv9GxMCbtAf\n",
       "+chsuiKSfGu4jRB01q4ysQ5yarkCXW/VE7uNQV0WdN4mUnjbMPJKTX/WdnkA4z5GPfW4eb4f6io6\n",
       "p98RwolWSufMtVmx1KUSO7oK3k13veHD9YD61KCuQdlX8vLGi/TTQH+LrEWk/WljJ9vr8uCK0R3L\n",
       "OLzkMtxD7cG49TY73K3dhlkm4Wa1GA21+d5LiGlHyPKie6vAcxlNxUQ+dyjwgb211LT3hsIJC9Dt\n",
       "iKFGg/tY8PDZTmCRqor394UhgS2Cc8Zvix5/h6gXnH5tXT10Vs1k6mI+CvT//WyEOPYIABGAN72S\n",
       "Ch8gNc2yK2EAAAGnQZ6nRREsEP8AHjv6xof1v+3xVK6TAAA7NHt43xMk/AutvaCC6pBOovbN9vgp\n",
       "MYfVmFK5rXHO7wNb49lWg7or59WB5aZ3RPo6NLnZJ7A+soR0aRshUotzaIu+rKjGXquCOtc7Z9Jc\n",
       "w6nar2BhxWj4Mh2gCCxeqQeddP2eDZ62mBSK3RnhxAJt9k30206fhMHjUlk49pcgRIDPv4ik4vrz\n",
       "COS2MoUYZDQkopF7UCDlUk2IMcb0zqWsrxN+xjDdc3Zmbfemb3Wz6liIJhFWluHi65VUnJJ3kkum\n",
       "N0ieCAVYT203P7kWl30W6aiHxAR7aNFmLxJ4rtoAw/R/LKQ2Iu2718lYlo/1ENtsBZtZM9bO3o0F\n",
       "bfW8nXdK6+ey3ZfanfQAET4YOfZQ4+w8gM5WdQejoWBQaFsjfXqBvrLwJrUqzwMui4vhTOPjS9Sx\n",
       "ldoSkU/jviI+9eOdp80l9TaF2ybLQffTJL9msQcHpb5dWjQRCP3KI5Nhwm87pRDGYmhtF/BTnvC/\n",
       "u1nJXmNJV0+EPNQmQ5cex7FQA00Zhm2lzJdg8IQVPgwniBLwAAABFgGeyGpD/wBC2jSDgUP6qzIH\n",
       "zABEHxRUwbtF8RV5moo5CD2KxvDDeEGzsgtLpVrOxwjpoIlOMkJRbEJxhRElYiLGnPnF8/BoLhhX\n",
       "+YSuq4iefiUrlFI/uVP4UlxlQ6pzUUHQM7S7/ORgxIn1UXKYN0Vwx6oaDUFE0lnLwD3o4TvJem3t\n",
       "gBmS16j8AHOX/7CGpLdYFoScYMyNOd07bQSb0i51si/Fgw+6UxF/715iewB6f6UKjBliICs4M48d\n",
       "uMWJXnOlA7Gk+I+K1DLhA6TxuVAtWhh4HSzrsb65xmndNsyqIs1frxQjQmrjtl5vwkwCK57i9RKl\n",
       "R3d628u4eL9EMJTB31y3wPQmGS9v8iKyQjy/CXBAAGVAAAADAUGazUmoQWyZTAgp//7WjLAF4KSj\n",
       "D/AAOc3wjOmgRrG9NNRGyTWRQUKGG+fcQkw/xE+rPyqqcsaPkULMnZyfd8U1dW75PqVxmzV8PQ8V\n",
       "lrawgxfUF6HgLY2OFV9udMP9YlIXBF2JRyKSu21ebN4j3R/Iw20rqw8cDLTYWrIK2OtPJbCHr194\n",
       "DxQzwmcAvA9WOAAaCrgcvZsYfhDyzqMRz6m/QgSA3R/s51fsX1Nj3dW3kOZencGeGCZk2E5EiPin\n",
       "krU1nRREqA3leZyjyx0BaqRMGUFkmRmzcCiuYJ7Rheo1//DMHD22VEnpWBPQao0aREpePijmgRRM\n",
       "pnofpGcMa93w3ujCh3ncpRZjutDXFi7ooo8DpixSPZfHs4VTLexGmXNF491xPRbLKYJ0Fgj/naZG\n",
       "7e/E3SE4jQXChVIBupSIniHYu7EPRhqo5o6dRr9SNP0zuRHHLqK8QtpRElZvl/YG9xiBe8JPtuik\n",
       "hcgLjEP5jjGNO/PgHGUa33PozN4RtHozDbXGrdcmy3FY1/BqUocPhyFffRBNrNQvu/R8ZayJKpHJ\n",
       "u9hVwqS4kUUdUX7yLObKZkMRmUGow22vwAAMZEu2yIoswfpKI3oM2UkBKQ5XMTRGp3odoqgJt9BK\n",
       "pWR8BodR4rgkLm8jUEYc9tid+4R6L/5wbWcP+t2unK26oYBBEYCpyT3LHkEIdAaVp4ej/solUSyw\n",
       "v3qnBo3L+xEOClREyF9kg1EzsDqnR8GSjIBYed8ftvKiCXAnx2xYgdO+YzbJmG0T6ZV1MvYqREYg\n",
       "vpuAWAFgtXQ1/U2XqqVsYA23iyTUr8JdCD/6cb+lMJHyf3IDW0wgPyzNZq61XoT/udtIBjUzalLq\n",
       "O3kOivjxZXkTnL4U1Bu61oGv1ap49ZRbai/lMCpTT7uoLhxtyNFodikXrlJ00WS0Gepm4LqODiy3\n",
       "kGRR7RGsxcrgLzrtX005ZOMuevAbYPia1nUmnXzL/ec8Coe3KMK15p9B1xRLqn+y7laprEN4MtEA\n",
       "OcKS/wSzxbUAAACkQZ7rRRUsEP8AG3v6xof13PjZULPcAAFumsdOwOnVFSKI9cx5nwZro4Qobz7K\n",
       "9J+cQ1TfpVsAl610cR385AA3JvVw/WOlM3sR3ScGv7mqCLBtRISowz2H0S0vvCpv0iDuDXxbTtzp\n",
       "GwPb/4OjEDayDKh5y1WVp5PEjJ6uLMCFgMX54LERNEI/L8lU8ethYXlhtJ4P/OiV8zdAqCobsPEH\n",
       "E+DgGpAAAAD4AZ8KdEP/ADXlZgA/mYpUUq9Lws0ksG0V385SwEuc6dg74lS6PPUGjQ26AAZGxCUC\n",
       "a/zzeyG90TyDdpc3K9aHqxxtGfDBgACynRVBij62qvT6e1SAC0SR2dXMKeA0NttHy5wOidD3C5dn\n",
       "yXrTnE6rLH/dx8gkf/uF8MbKBlNwW2zhjf7ft7u2qiv6CfF3yI8+jxb6YK2so/yVdskYY8f46Ryu\n",
       "d9tgRMloq3n4Ssdk+RPQFXU/zqfgjDTEgA03zCI5QAmrNPetone1pikz/SaWWmA88MOuK3U7IB7J\n",
       "9RfLhh7YdzlpX+/oZfIp/fVy/GlaxB9/QeoADegAAAB5AZ8MakP/ADx9jIpRa5XSzMaqPhrGMACR\n",
       "3/riyvm2NgAuPCWRB5jJ/v06CcNuMYpFYRbHiqe0KTqTj3+74tu4Lm4Zi21M+lOOIjLqVf6+35j1\n",
       "8W9loynG4MmIA3VrqICsL1s6BtQ5PtXQH/jBUOjrCo9knI0uUgBqQQAABWJBmxFJqEFsmUwIJ//+\n",
       "tSqAF4cDMAETbzsTjge7xXKQlGi99LENv6yW7TecmNjeewhngJPD1rY2rx1ByScrmgDKk1Yq8q+w\n",
       "2JnURmKyHLxBbFsxAbWDXHWJjyq6jqCv7o9OWqFNML9qu7sP8hj7ErIT4YJ4Frjk5/jRPtJCAySJ\n",
       "p/XSOC965sJ0mIPmYvm0zFzZhioV/ob4PE1bFDhibx1pRTdenkSoAb1qgGJSdqM0/DK7yZSIJbdz\n",
       "YYEJqH78hEBNPFvOkC9A+ThCZ7z+jRn3Htc0jQqe6xB9VJKi8OzvWTzoOqPQgwchbWPohVXyIAQJ\n",
       "Rcn2IEteJ3WD0rP62StTXu6rKpearY2NGwP662Fxcu5G5qRjeA8k07AItXHJD4bsVzZpplcUqVwm\n",
       "0BDaRI+q88ki3uB9ZIJ9vlTvPZc0m2f1nvKfhtUn4n4Ui6KfkKAtgQ3VXlOqqhby5jkkeVPb65wL\n",
       "0Ch+UK4/fmjSSAlA3Vi193FKr1D5NtvOR1G4X7lXXz1SAOitoZ/sR1rDKdrdq8bMMT2BHmYpHEhP\n",
       "UfMFgSfEFLTQJ+TtC9j+sK5JL92Hp84jq0VjhOUlr36bj821Ilj6ZTtCZj6L2pX7aYKVgHFBCLRz\n",
       "7XU5E+qfZd/i4opJyfckFCDyjEFiwSBBb2xuUNfn91OdtOm9GYMPY8Izha9ns6h/NwwTZP9kM6xv\n",
       "SdNm8ScGOABCQtinYJGQH4Y+e3JcQQF+89nue6Hxoz+KPaRE3O0uQufmOcwMFYxHhhO8JVk3PxQp\n",
       "RNMC/hyD2jDzjCFCBvrcWAgnhioFL1nljerSdP3B2x5k+VK+oosDz2p7EsomtiwuoAtb1Cv9yYU0\n",
       "iyNx8oI6CdPLRwj1oPJsT5r1eXjHOPJMZe5taH7F1wPLFuKdpDiuf0tCsLpZ1uKjPT3ErMXthq+Q\n",
       "PVALdLGJkFKTbZAPlp4yM6wrdKXKMpDtapLqsNWqOSWrSDMOqIAuZsyB2Ub7tjDPVULKBn6rBM7K\n",
       "Y7zm40aYCGxQGp5mRRlyLLK60d1/MSL++oA//igK70Zj9xUftA9GI6YeATu6entWPXLCpFfwfEMc\n",
       "PipZGTfk1GLxV1/Yar1Vtnm1XLSJwiEdYZb1BHbUnB7vrq9lqP7KSb/gspsT2rLw4V+S/N65x/Fg\n",
       "EDBNUfIiMrUG/1QsaQAoOdR3KQ0rdwpmwVhB4F+tKIXUR2IrQD+LDbnCFuDfwicEkPPglYJYqUMl\n",
       "y0MvoEQp58583Cq63nxSeHC6MAHz2FvedO8hL1/hZE8f353b6+B3ngA7/ry02S0d+POnCy4Nuc8F\n",
       "w6XEPvP4tskJhNrQbtegwD39g+XX6KShbvAyuEX7zWKYnuJKVzumOpWXh2wQst++dJ1JxVRYb7KZ\n",
       "ak/Y6z2KXmA5+pU8xFvGXCD++Tbe1wYsMQ8T095r2zPvhUqnR65HvLaGegtZLbldtSz/5ICkwqAA\n",
       "G9o0M7H/McUcHV37RwZF2cyVHPO+GbmgF3P6ng134p5NATMh/+NA7GrNeJlCiYJ1UQCyqzEY8m9R\n",
       "XgdQdFCyMoXm5kVa9wtzgpO+/85ycoZCw7oz/IJH1koMpUNmprsIhtadakyrkq2N99Y2sQpLom/I\n",
       "b+3oHQazZ5C2wZ+mmaItSHwFou4oUqSpmX5H1PVzPgWXVpVZlgGN5DZUxs51emKNDsB16XD+watQ\n",
       "s0STjwZYQOcWG4AZr5s9Rt3DGMQvEEJO0YuJIdCYFua4VuMDbfiP2pe5QH9/2qzT1xuyH2iXJjkb\n",
       "lrvPBK3pZeBVc9kQG9+y7MPo2R+WbfwDV6bMMuq5sXGEbnYMOZcmKygTTModawNAsirJDAM/AAAB\n",
       "V0GfL0UVLBD/ABvTBnBVidEswAcbzlE1XV4rVN729Fc9ycxY/4uWPMEw5BzYiKfJUl+t6JVg/+oP\n",
       "JluHMfeffNiD35QmYHtVAxZuveme2cvG+w/mgWhmXjy5YueHnPPJW7ePpgYoXrhadsTihsXeDWtl\n",
       "UMO5FA+22s+LmsgNWOkGhzDJDmznjApLcsiHuF1Isdl3uCU0GgX8b+ot2L0lOwTJT0QPIYYYjqFq\n",
       "R/L4sdMuiOP5REdAVhwGoWmCoeHaq5RtFVADKvKxlPPD/YTkxbTRC01Evh/BspcSiODiyr+gLwbO\n",
       "7EohxxrHYR0PuZlVgoggthYRCCFBGv6m9AkqatfiEkaydqk70XCYTbEA06JmR0+nRgEqE48E6mvg\n",
       "/KhtP0qTurCV1NfeHTo2c2HAkm18EpkVXOjrMHPl+GWhp18nhJgE/wLklRZPQav7MQatyatfQLAA\n",
       "KmEAAAERAZ9OdEP/AD3V3RbQYDqmgAnb4rh62Nx0Wd/mtsF3GBqNGvFhzEVRxxHeYqum3mpm6g53\n",
       "C68fAOrsGo/vYODKFJZffVRWzc/olCMgt4HxF9Wvu938mzPOeA0QgXmitj2m7GQgut1cQ/M+8JkM\n",
       "naDa5B2pWnDc/iYGy74Z4ngYyNp2a+9bOCZgyufhF2wxMignXALU0axeyMwJr34+7KS8huhuxgum\n",
       "mxMrUAE4UdAEaYCblIBMbEOqSGBIz8hn57mzkc7AwEFS1n6ge380I+9qJMkeYLwgHbAJZXuwwFhR\n",
       "RqVG6BllFk+tycnt9NTIDeKIw2uI909h1u2rRUlB+257ygjpgHd2QvAN7m4i1dv+AOmAAAABcQGf\n",
       "UGpD/wA93Yyh9gA/pEDeYFP/9glDVT+l2hM4ElaLwJJIs2B3eRxK3ZVmQfeFxQWlh2ahtxl0X3TR\n",
       "49UlT+J4paERy7Y4DcW8djfheA+EKSNimWT7e4zw/lP5dmje4LcgWqAghdPHwNsdxN9z/jGFTld3\n",
       "8FFAO6u8Q597y2jYHYRJZ0TZ7qKtJlixFp1il0mbbrL1X6k1B3ygdSANgVR67g9ou8WphldYtMEv\n",
       "tLJPpvTERr7KPDUhtHprLARxiSSP8vS6zkG2GY3XbJLffM00Aflg4FqFbfzOHda8/IWiBWdtDLIw\n",
       "xHrPonaT/zO9aKtAYhUaftHphbQ/bcVy3mkNkwAaeocOwNPPqilvRCw7LmMDg6ypeRWv2n5IIyUF\n",
       "XW4c8lsa/X+aq2V5fvPDag6BXjREWAJR8vwq4pwKzXTvzH6ztX6SNJgfRbA1fqueyGJayeYTZFhZ\n",
       "z5A/8PmV2KKt1n6Su0P62Xo01wo1WgAm4AAAAwtBm1VJqEFsmUwIJ//+tSqAFsh7UADtN52Jy+ED\n",
       "bi7234smlwuux7V3k54uFZPG7ww24KwZ6Kt630n0DjLRf3k5eILOQ3j0Orz8pRqYmHaJZ70d2tMv\n",
       "Nq76fmDUFHhAv6EXXaNyXLyA+2yeydMcQviFHy9N8EU2xyDVSv77rZGkeo5vKNUX8D6bOKRk0hsF\n",
       "8BbkUN4qSd8Ub8VMoickDyEfRFFrtvVtMk6euFrP+9W/tmAAGvlm94GA765dg7e08xjf4ZV0r48O\n",
       "BNTmAStLvCL0K8yNLrImN5r9PD8sISHYHb8wwxxQ+h/P6pSRcAI95pIFwXcR+lZXmxtyjqi4cU5C\n",
       "FP7K6IitC92qbzyOd2JJ1DTgwav6r9asbT6IuspfbB5z1ZgmHqrUEKy/KF+p2hTMIEy6YWvzrccO\n",
       "5gUbJxxETGRwITHTuL7FX9DJEyXBctY2nRIB4ifn6sh1Gy06PNZsIHnCsb6dNcB1M/HwkMD7EoZq\n",
       "uaFZtrerAxk0Hh7ONU6bdFzitWUQGAR5voQsacb2TgysN6ozJkMw0WaedS2z3IOzAtAKMPvmzZ5e\n",
       "b7/37qXqsuioBOhqHR5EGmnHcnAtuJo7du7Au77uQMTnIHV8i8qBQHvDbxNHh+bkgjtDIwDAP7zk\n",
       "ruDNK41CH8CFvebZCkdptyABUyInY0iTDG15UUFmlCXSvGXTaxbU89CpMwpK9q5pTXrRGPusKn9Q\n",
       "RrELBP9XE8b/NVRAAV4lJQJC72SwiBosGfgRECFA87FOXX/klH8REb1WGZhPmq773Awb12xVJam7\n",
       "33hEaH2gqKq0rwzHhikMhlzPlx6mvA4qlSsYwDCg1a5739sEClqPg7bg66ydekk2vgLthgbTZq3U\n",
       "1MkAESTiUDPpWPWAH+r2Z/tYqeQFAlwdWU6hMlkyqRK3zAeXQC6WZcGZGK2jMHd4EYyezXJRYyIs\n",
       "nAx/dx0fuYw6+9RBMK1nQbl/6BROpDi6GmUXk8jOUEtzZjgImAgRUyDrLjmdRi05XT7CRZTEvBtc\n",
       "NQx79CVMP2cXEQAAAJBBn3NFFSwQ/wAbeiD8CDRdPwg52wAGmH90QXXQA495yVIP6L6hYY0amOUb\n",
       "l8mqTtxq2iYyznHJ/88jjx6sa2DkfaiVcKbch0dbOWk3/Ptc2QcGXiWMo2FOYPVJgSADhV0aMs4S\n",
       "6kGnxhSw2tf4Vm4U8Xm/irNehJUPPzk/a5YcX6zS3ZuiEQ3JYn8AIBmABlwAAAFJAZ+SdEP/ADyA\n",
       "6YQAfzLGu+v8C/DrYtIRFJZJbFo+47fHPwnXN7RX9y660h2x/l22n7OxS1V2yMLD80lWkI895vzR\n",
       "BbmaQY4EV9Ko8LqNIX8FRtytoc9ZK5NjmOgqDrOGdo99sZkN/GMKnK7v4KKAd1d4hz73ltGwOwiS\n",
       "zomz3UVaTLFiN3aEp5XmePwxc1N2wwlRD/T9KkfTrxm2vwHXI1dbFkX4+ryxFwZihdRyjL58L1B1\n",
       "MVwW6KWOz8XqUTsyJRv1fQfZv4E1TD/QehlPiLMBRmO66eGec94QzABqS5qxmqSoMD6HjNT5RL85\n",
       "sgaVtsdXlVL7kc/AAiEIFODUIv2v/84lnAm3RnELe07FJfEAwwjwgZ92Ydt9r76ocS87fxLllEZJ\n",
       "Iq/cT/Q8DD8SawIQ/kjemTjuv1/vFe6ujocqTGKZTNpAAj4AAACnAZ+UakP/ADXlZgA/pEG8K/i+\n",
       "JMQUKAr2CM6Jt8jKqUMiQ1lgXjfDhgben/62gNdzgBDPf5hEI2Lp1y1ddvi66/eHMEYpCravpAAs\n",
       "QB5Ij8B3DuNdf9TPVBtMYjSbWWIaQnntureebmcUP15bGv0lM3qy034uvQ2VxWzw1rfjkCiKddyR\n",
       "F7aw7sjmcFpZJqt7jmpM0Gyg5J82LZRu/A67e/lgHfIAMuEAAAQ5QZuXSahBbJlMFEwU//7WjLAG\n",
       "Fk4zMymIALa3XzgV+1JkGi4mf8K7hCAakYu6RIaVI99jWz2ryiJ5JjjJ6UUwmdT8OHhTWas0B3ep\n",
       "9f8WADRmfdS+8uQNKG3cDi+aruIlGD8fSvyeDBBEZoOgxN9hw67T9V3Bd+8+GleQFQSJ+lnUBcJG\n",
       "kiUFJZpH+tJA3d/X4PeO5pDatUKRd2Tyb2U39SU8PkS8+2PjxgHR4y4KiC+EU4OeWcKVjjVZppbn\n",
       "yfiJttKpff2CbV7f0Shz+vWYPhrQQD3sr2udRsO5xeFvE0hTaJEU/rySeYTAbNTaB9595mRR9nJh\n",
       "9XfadbgsZ8Ybi7HM269c+9cFYLj6g//SMKCZ88hIE6A33HDgy7ql3KkG3w/bOC6pcuA3IYKwPscV\n",
       "54oDAxFujgr/M+YYnibKU30Z26Gf8rrrJSGA6Yrl27c+UTjpfd41VLQ90wOU+6jhySOngCCHuAqy\n",
       "dIxAwN4vJeSqET4mj5Gz4viUTGDgfNvppZ0xoPgmGq4ugW2qe53PLsdIgF6ZRGvJae1Gt3LJMdcC\n",
       "cf3/+4bdQG2Bzz32Ea3sBaFFjePCUj4OfKE6TTTloZqY7Cf49uS/CvMR8SJ6GLbNwAAP2QXhkhzS\n",
       "pFAvoPNS1+xnQEqlf4ebA91MJ4a6UJDpiWPO1yFfqx06nzKlc79rW13c3cFguH8dhcHlu7QXonLR\n",
       "eiP9ri+z8Qv9DTbwFAMR25VbXne2G1uHzz6cFoM2+TIdYhr5pQquUG+JOQM/aLQTohJGzxOqhlO1\n",
       "IpPd3gn3axcUDSbzYMzbngO/0jMRwHyl07bBJKPMKkNZXnwJ2KzGOo54cdt1fNBXp8Qqzaesz9Ty\n",
       "WC3blw2AmzYoUwLTs3u0Idn8BkjfMRhUsLIpghp3tbNNRUKs4A+8FjNJuwEZafPLGcR2J4KZFIS0\n",
       "O6iaSK3bgKSBEhP2GppQnEJHk2oOjGrRqffJ4Rxb/tEf6XTbhC37stp87G7dmMpqWs1Q+13YF1eI\n",
       "8KN2NY1AdfUsyv5IZNRvTHERhEGQJNw8x/I3uODepvNNATlLA4KkbnUu0g2nMuvBQ3hm5xSewk0a\n",
       "7ZJwbV0ikoTIQQArvpve3naxXamB6/+i3XFXK4sgB3DF/YPHOQ6wL25y8Oh296oagWoIIZjH2Z4K\n",
       "N/oT5kTsU07843wNjMxWHqEI5KXIFtBMlz13eS2X5GGyTrp/Q6cZAYH5qFbt6/hl8G053gnxDOua\n",
       "ECcSY6aLq2X6oocpeuXcDzmVAYzU43Z5TapirJSd/YfBbShS15haBy213ZMAQZSqQJsIr57aFM8M\n",
       "0c/NdvJlgEt0NrsRlAvzC0jHfRJ28ssRFS5Pk3GBsEitjxWR9xR8EZhhks2Sf5+iBd0I7bb29alu\n",
       "FsTmw/2CtAEx/JrW4nb9Q7lu9DDuAAVzDwlpj/udG9+PCPAGpAAAATIBn7ZqQ/8APd1+SvT78YX8\n",
       "7ABtGvaeqL4RR96iMvpxsQmkibOGX/7PMZkfZDbKAwrYcoXZsfnsT97RDJ2szSpICN9pkRtYX8BX\n",
       "LviO/r8oflm3gE5V9F/Jqklxff3ZV/w1EAq1n4+Jctc2tmFr4dwCTJPZH4XyDWvQxZyUAd0+n8El\n",
       "pzeAzJ9yoQAguj7IE0z9vVfcWh0LFe+loAArIaadjzOwiJgKBP8e3OHgUzx0UVrBW06Y4wZkFOAJ\n",
       "d3U38hunmfvpfEnOpBwdYUPitaHttrI9oSzv+NysWTmEYy8CxHeuM8+36R1b/4mfWf3lKks3WEqU\n",
       "+NFyqKbpIKD89Y2EA2/eXYOO3mJUZrOjDSt+R/EEIQZ/ZBhyKIaxWPbV2gPGswHUvSBWa6ziOfTr\n",
       "8eMADukAAAOWQZu7SeEKUmUwIKf//taMsAXh3rQAS+34M9qSgydXJppMROep41Kpm4/Tved75MLH\n",
       "8H2OUZGZGPxOf/lP/tlrBE+9mCll0n8dNxnvJJIt2xrgKNcYxu1vdeAUfTJp0rBcSYa6YjADGmVi\n",
       "aW1RH8GvsVgvSIxugBU3iskq6iNq1cCHH01ioTuv9VM5DrDFa3p5IssRLDRioXSpfVn6eX2pUlc+\n",
       "8PzyK2yE10Dx0YBSZftKYl4xI7Qw2nuf3iAZoksreUc1FsFxMZxrRK+GTpQtnHsgoemmM99Aw1Dl\n",
       "AR0eucUCiWQVCYnY3vDbq2Q83P3gKRaa56v5rHZ6SBJlq+jBXiUyKg/VPSYCLrOeic13YHvuX/55\n",
       "tEKAPQVeE93auk3Vt9dALoX8s+A6ZiUttMoyCFJ2wgyqrBgshu3pESrDWaWXCvb2Z7Xj5yD3nkfU\n",
       "Lb0W6V6JdmHqfmCZTwJDcpX+8bcL38jzkp6Wlb+3VN5RYkCveA+sC/iQXtdNdVENsMFuaGXwOFc8\n",
       "mHTL8AWYhtwkjr7a25gqRac0wNKFhCs41VufFSBRrhMIBJDjev6cIUu/zA/EP/Shgh95x8msOvTw\n",
       "Bcgf2yFmQxjVWlEamdzUYa9FapwO+1+AANcqNg4RO3vdkeXeY2nUKjBYc5Qw/vorAivqtPwwJS3c\n",
       "kQyppURqgHz5KeGrSwYXALUIab0PFYUzEcEgPn1Ti6n7DOi9I+/si+xX1zfUNok1AOyntquyPlw5\n",
       "Ep8Zl5fKC9JSYR8SKI2FLxqJmW5uDIFs/2Z2tr8jWVZ2CWs7MxlaGAFw5l717iLl0syXIIA0f/JD\n",
       "D70qf0XLaJcTYmCGN5+x7WjyZxt4FbRx/ChLnHFcRiJjAHHUKmpdY9Y30vfSMp54pHAQQi9Ein+g\n",
       "fFidJAQZ54Flm8GZm704bK8wMC67kpVlWLCYDBQ9v/Fr6APN/uaBOviQQwx6YWkSpyNOoqGGfo1a\n",
       "KTnXUedlHNmij5D8xzO+mGMoZ/hdpDQ27vy607FccgvjMrk4YLfddvJReb+bqawNHAvj00Zbogda\n",
       "scn4ag4HCmIMkutALmnV7hI5G7qmch7Oi7na6PEmAas+7BA+id7qqGMv8M4L4uGt0zG5Tgv4rHIl\n",
       "RFyhi3K4ZWdEAFl9VJxHl4ajn6dJRqOSZ5AzT3Gc931M2rd+9hzivIrMgeyAjtFAmpyWE6c8eOAw\n",
       "u6DKOjgpC1lG80KAggVNAAABD0Gf2UU0TBD/ABsxHPwlIoAB/SKAmr3/J+upI7SEdP/jjAyiIaT+\n",
       "7NBo6CJ3I+tfQXr0b1uJvZXMiZD7qmXZVAFw8+6CKSFlZjI25Z2dXGmRASp528hsvj/1e+MJj4zF\n",
       "997t51MMfqR7s68E57Sz+XimB/c8kNOOe/g6xPu5a6z/vb+9QHtzLuqQBORcXsUSqMRBTNbfACjR\n",
       "laDjFisEEUS1wKXAnsE1AUCMlBpSa6gj3XbMi9/sp3kI8++nL3hcn8YY1eycamtkjr5huu5RZFZH\n",
       "+NgGAaEW6c73096jbaQRFRwm50GoIFZYm3x4o8jwyLBJ7hSRcn7pRg1ssh2QK1ro7/chn0Qx8kCK\n",
       "Ph2gBCwAAADMAZ/4dEP/ADu/LDS1ngAmr49XJJY8iVWdxNS2q0X8pVu9ONQ2N7v5y327HbmELt+B\n",
       "abAFB/JiaYbydi7rVZx+o5KuuCWmc0RSCcO3kQxBjBh4HgBIntYvc+ZX4b0e3JR5qxwKx+oprYVA\n",
       "dz9iHHsSGogAJ7vCptkxE0msT2p37v6RDdBYRooKqaMNnoiqo4s36oItj9JGsm5nzQ9ytGcHpA2S\n",
       "H20N27/H73uFqHoqx3cyYIRFwtsmCNIJGSkCaGAv63+FmYeGpmV00AN7AAAAwgGf+mpD/wA8VwHP\n",
       "ABCnx5eD9nOYWn7dhmckR5uDd7D4s7N/CEvcr4LPIw4fO6zNtNBMRJYscS/IRF8ADKOQvoTPQSGX\n",
       "B0EkI0yHB90jv/dkInmPA+2PHgPOKZPo8uqZgMag98dxlJ888fYX8c/CMzkYTH/V1RJap4VdcpkG\n",
       "lTn9lAe6dTPoSlZN0AFlWjAaTkQCgrWHCilQf4ze+93ygO5dW/HbJUAXu3aRgmxhxXmJFMAaLMN9\n",
       "JRel2z2QuBkJ0AMuAAADEkGb/0moQWiZTAgp//7WjLAGFlRVPJ5cXsAFtbr5wweB0D/cw5pN0BpD\n",
       "PtWAbB+AlM/4+17hZUr2qIhck/BLpHec3MFSy8NaGGwRYfpANIm4IZceOyhPu2jpzKjUq/U9naYY\n",
       "kw92Tyq7AfdKTSeWWIGKEZhPKlDTcVMK72qiCQD4fYkmKfSJYSKVtjFl/CoaPhk+Quk60upjFfMC\n",
       "rIKZPZ79N3t2UpV0O5WHsxp/aidbuvqGwI5KiVUuN/CXR8US2hpULCWZ+b2rGACHc9+HLiA2sKaY\n",
       "WIc0jB4YrOkq4VFGnvsOhy65F8INwCP5hu6Tpg8o5+TmilGBq1n4gCbuYmFW2DGijAZxbzQW8Plk\n",
       "wyN551cegtz1AhQSkOw82SWflIpACSDuBnEDE0BSpcp8n97qHQ6Kg/kdTfvCULui3a66TCFPs/uT\n",
       "XNj+rjIGNKAG4R/37XY2DRbxBoqihorYXS2pjuC+ctFOSzLSE2zBGwyG3GSw86eR3wCf3n6AamjO\n",
       "O4dxkjk3dETRm59pt0xAQs9ZDOfHBrZDUbpQVmLTlKeaf1PBdBZfx3foxnLl7t8FE6sZ+f1h4Rs7\n",
       "OvA/S4oDG7l4r0rmwezRRkcr9lkPdupW7f0mynx4Tg/ANJXeE8hvpasw12S9hN/7aoaJUMGMY3ke\n",
       "pgfJPgDUD/qA9i65YyAtZaGehY+IzPEwYgKaFbohNz0YvhLH06Vz/7jYPWWnJollf391kkWHO5M7\n",
       "3P7Q0Lvqm7AVuY18+Nrb0K+ue/SVm6oArZ2AQJ/F/PWbieXgtsXq3/N0Oe8f+bcjlUWTvu6G/BQC\n",
       "6zUKamRVNXY6MR+hIAVAC19p8WKcmwdCtON4Z4FSEktr8h07h+BUvMctQr8hlhnK+9K0R2bipgh4\n",
       "gFXnqtXIXNv/WSEkBY5kjli8wZSKFl8pNFMkEXCnnKQlKEeAvPVhtwrpU4KVb6VTFJQa7Q5xJakF\n",
       "TeYL/jgcZ7F3jHf5tsI1FR+gbMdP6q4Ri14L9AJugryPKr0pLDZsDjC8AwMGhgfr5i84Xlg6OSuJ\n",
       "mgYBJwAAASBBnh1FESwQ/wAcKeZXRgAJauA6s1IxKXU++wjqYMbp9wPAmEKY5FRSWyu+PqKP4ltp\n",
       "cBwD3F6Bf/2bD57RFdZq97kvD8UmNBHjqTqSddP+qSSWOO65PqocAolFMVOskql9MUupMH6yNd4l\n",
       "3d7nYh0OsViZdgvnjRMllGYf7YV33ywGg+yw1lr1kd82JXmYGeOiHfef5y3heABXZoObEwNneb+x\n",
       "Iy7PPzq/bK/tc8JOUj4Zy33JFf7x6pgxWcj9JBzz5G4SqklasK48Bg8iJDcek2s3H16Vhh3UIYd5\n",
       "PkCUd2BNYXzhIrnq3RQgtP7zTlgxJhxn8G/ssvTAjFepsYJpj4zLrYSnosIvyjJiVYGRgnzUmc6H\n",
       "4GlgnJxzesGgBaUAAAD0AZ48dEP/AD3ffF4wT8a0d06ACdFNbP5Jl0XpR2npTmBij/r7d/l3xMcz\n",
       "JqOYGezmLx9eOyGBsU5jREQygO39gTz4+yslRl2xyqQlLa2RSwz307SS/hJOjLzRztuaOcVB2KmP\n",
       "yXPiHG3Ya2gbt3/sHNMEp/er5VBw+TEkh+dUApMxn7Y/jRDK8TXNvrLyAVjsg1m0Q3mCHTcTpVAX\n",
       "yBxHCjO/p0d5Faol0Zp5DTt9em+CzWEjCkIg+jiAVmymEAdW8Rb8ML/8QydjbL89wdkQLVCjg7Jh\n",
       "BqCqNWthY4Et2hVscUwcT46NDCPzgYvAMI+Co8QBgQAAALABnj5qQ/8APH2MilFrlc5zDgAh7Y8e\n",
       "DKyGSzaW6mg1nYwin3Qljuil8WCfH5TtBFRtvfx1oAOiuu9J+ecxgziYpyx/YCjWVmlsYG20Em9I\n",
       "PFg61kr3mxQY8UHu6AuOkRb/szClpp70nnVWgg5ZXqoaassWlEaWU1+aLBI7nTOQlXXTBF5oX3ZQ\n",
       "4WSpcSgoUfZRJwbD+2/7SgW+ZxIHt5BHg83PHz+t370+um2tR+AKSAAABNtBmiNJqEFsmUwIKf/+\n",
       "1oywBhZAV5UH6QAN1uLSo3rU9WLxiJAIXSgFMBnspkkfS8nXRV/j0CBW/aN4Ls+/kBaHvgGhpSh5\n",
       "AI8i/NUuKViJQ13veVD6T9D1+pqQBbsSKENYxR0uLUjinEmKTYTDs62mZj8eNCz6eXsImkRzvobG\n",
       "/FZ7eVCRhavEUciFDGNUJqWRgwmTw89w0HtuFBven4WAsf0bo1ubwbGbPLdRGPvq7awl0peO8g+/\n",
       "0OePyDoxgJ0uhx2z81s6eilxgV1sB8/DsKwnqwuejn3sXfWp14uErAM8AwmLRo/rjQ4Yx4+xBhx2\n",
       "0axDhYt9QuaPiLCjRx5gvjruUdfwaouUAvRxoV/0HPwUGAzUw4Mu3pzC/XKnicb6TQ/+JY3JPT9t\n",
       "tqzhYzOEGWcTtpdtTBqYqXdfj2B/NF/m+muP1a7mSVGxQI/B2/B+x0uteqYxZInLu2l/SncFeryx\n",
       "qLisfIVcZnd9xJLuyZHCvbtR6/GBArTahx88sNSO7zOIgB+NFclB6wMAxg9y22HP1Gg6n4EZ3q9E\n",
       "+1x6t7Q0KGI1b2WxJpxtrig2DCa0VunsdenTiQCGk7AZ4slD8Up+v9j4K7hE8qVKGt683tWMAN3y\n",
       "d/yJY3Kt6FI7cmnOjzSIKOHSftKFyLcn1G/wgoIbp3Y8WLHiKuu5WrjIZn/QtaY3fX9bdTCycXwQ\n",
       "2P1Q1Wxt8eDjM1VRa3LAlEjTbV+4kHZl4gYwUssjVO8kCqx8SVTvBV7GorbNRFcFThvuIBKRTci7\n",
       "uI1A0nYI3XlTi2bFE8kb0LtRjMnoghZygAJb6lA5+mYUkza7cwclJDd/GXvTKdWmcD+L0rrEmwpE\n",
       "ibzqXq2au0nXvK0EtCgc70KJCMnjH9/d+byTkDeoKNm8HHxP73h8rvLGvtYLIvJV35fm4KX77Vcj\n",
       "jX3ppjs2R67nghcSLWW0UrjWZOMW8AaW0dA4zdeqQ9RG7V5soMYNxXENzrBmBX3P+d2vbG1IQUAA\n",
       "IS3JOVVvsiVgVBUfDPp7n2r6jZjATQSUQBDkCTT25dtXuJH8wcSKwKwdIpVz4/OzscvcJZ1nCg7g\n",
       "RtoYzsH8r7CchBv7XIhNb6yID8Ot9MEM5aXfnNuyNfw96GFnLKT8Ugi2qUqiwpgCL0zbZSD8wQJu\n",
       "MBKmCac7gy4D5vEOdx8t2mkq6v9Qd/aoEynHL6oEMWRmNo1Z0pNOe+b8FDf6WG/FzDGtPOnq6VS4\n",
       "Z4X1aC2HD5CwPlFLCaJD9kvmlOpQAdaLf/86/M0rePT/3SBj9BFUwqPgU8cTpd9yF+Kh4b9VAVhg\n",
       "vIyCEWcax9+cLD0J8BBwDDeXLORjDtrRPRz6j+FxxKzuyDsbr/le6IGNFNtcmoy1+mrvLr+yonWo\n",
       "A5nGKOa8Ov++f19osS4EL8K1QoBIsxvi7wwheCoHxqAIeLYTMlQMlNpLu8cYoOUbnWF7chk/kb4u\n",
       "Nh5yVRwWAXrSm3yGBVyA1LVfZIEHanu51iT+J3xAPhpURGI3GZHBq1PjeDcGWncVfat5Ux45+3V1\n",
       "Iund1sW7XkzE/AV+M1FCPcErjAyEw0t9aBz7PYaEBXlJ6iXCrQldkK5F9BNvwF4unIWiu/XTCkN9\n",
       "9qNu4XbTMcEObgmlQjAGrYfk/nyfdgTaYoxR1RxZAEXBAAAA70GeQUUVLBD/ABwr+kUfhgAH9Ip+\n",
       "huqOLfR/scIZTfZ6XKTnZHIjrU4ML6zxC/Zc3zEGOYCMa3mWF/QRQFyICU7WM+GEoEMjai/ZvB/4\n",
       "Oj01gsfAFuX7MvsLsVO6NP9IO3vQts8S372KtR0hE2EBH492M8/TzxGutrOPrGZY5u29/iqXHEfg\n",
       "BHRnMg1VHIh40CWXQFcB9A/wTqXGFS07Lvj4bUZPyJynj20lNW6+7rI1VS66ZBMTes5P3ygrFRkZ\n",
       "72+CpiaLexn1tVM/XxbwTndOHWNWvJODYFvcjFB47YsIyX/N6/2lpDU3ZP9mAMqAAAABCwGeYHRD\n",
       "/wA8uFQAfzNpXd1xZ+uqtv1b4pIDwvBRFdCXSb5nHIZcSFhdlc8m7Qm1D7mmInHskjbSuxT3/pTO\n",
       "4BCRpX/FAJsDyufjLJDoMkf6aLivnp/YgqAfWDBe+hoLHLYQzzcVEwjDvrL/cfKZv1BipplDiaa+\n",
       "d5thtXewDxK9NzWi6To88M5z3tcg/C9ywL7tEzyof7h104iWYYh4gCraV4AiZzwlB4+YFTw/MW0X\n",
       "9cd/cfdhfgWqejg9nwHKxnNRgHF40ODC2zA7EVt/RYgRzbpbEfoKu/ykA9oUbPdBmRMNXMZKO4zc\n",
       "hMROzoBrJeWjR/zSxUy9Q0RoF1NUgkGWgE59BNlza4AuIQAAASABnmJqQ/8APd2KxdWrACFPkTis\n",
       "5T+7esvj7bT+S5PoDTtgPsNEui90YUwSiPnIPkmTWGvadqzdiwzV/uH0fU8Xy1otNsE/LBij2U3f\n",
       "Zlr496dByoAcVK6XI/+otW9g0AupKiOzIFOesmU5sHX9MacfR3wRHsS9jX2Q7SVr6QRrT+gvpTDA\n",
       "/OpiZ44VFdAJ8Ax3MJ3CaARPleejTR3LzUL3sIk5BCXUv+ULLKP0zEAHL7Sh7Ynd1tTBGGldTtBs\n",
       "dgKi/wb62WYG86l3xnJz8oeDlTPOS/sqQ/1IdlT69A4RtgYb53hTmcGapax6IRySuNJyMEViqhRa\n",
       "mNwWO8rbEfgh7rT/GWZ4qE+VIaD2jiyWJSmsnskqEf72wvc+8BrAAqYAAAXRQZpnSahBbJlMCCf/\n",
       "/rUqgBeHAzABE2qK5s4sDCZKEfL/P5jBw6BPDWYuB+oMpYbqNvapQKU30zCtIBOkG5+fkQm9203u\n",
       "FNBs5u5XI0mwgAg3ucPB8PaldN2lLstUUqzDd4i8w89kFCaAk5Lr935bdffZlAiYkEM9iHlaknac\n",
       "85tOAXpCQIWu/ovMKBbojVoq+0iXIffpaCpbyxAJJfLp7pyg1/BMo7u+OepkV1kXKwOAZZJLEoZz\n",
       "Yl22hXal7hMapRAAgLkVdkHI405mgiRtk7Qm6H/PmNB/c6tzf464mp951esoCS3JE+wQRD9d+cuW\n",
       "7KXtqty8raFTvX7UQfyh7xvxGCLyhzBhQUb9JpLonBtpU63S2jbkVWaLc5RnY1o0Hwb3wEE40wbR\n",
       "0/RYVSkBm/V9I/4B9Roa7fnmP5a0Ar5JjFIbMN+fmPIXZA+eNc2y1yVCNBYqrmuF9JgooWZsftwA\n",
       "8MTA9MvneTjq5clPsPc+do0mkPtpcqnHfxrM3WPnzx9TK5IinD1yt1BwcO4AF2zStRMLRSRgfYyG\n",
       "VhQeyS0fZnvYOKeYOsUUA0dpCbAevi1BrmUg17SiKM/t7hKljr93jGi5ue1y7V2zS72V8MuKfw3b\n",
       "NK6C/+SgSM2uhxw7PtEq2Ytf2XQbEQ7wbjLWMTOjuDchKBRZixms6HIyPxl07BpQYZHR/WDzHIvW\n",
       "QoYn7oHasYAYb9R1umcJkybwApmTd33Erw1ZgXja+xa3yIaAuwzX/P0+/suCwLuq9T0U7tkh7WKP\n",
       "992RIotiWytk3XbI2uVNT+9SA/pv5zRpDdZiWLvLH/lGVgAGWgaNzUxIT8bxWWAtyuPA65j3XFZ9\n",
       "ccbRNT7Z/siMpUU0OZXY/vznU4YhrMeZv3Qiq4mj856S5jWn5kqOXYh5XU9ODDzw9GwmFDMZcU13\n",
       "Gd7ilBfLVjoT5uZCUtt0Ey3Nvni7UCpmXo6Dn/uXgIT43e1zdd+MLat7lwSRRkkc/V/CjNQ94+2o\n",
       "BfaVy0m4h/0/kcdTwSdL5xJKr9PtPTs40R0a5wgmEtIvLKHqUeuJXxt/0JX6Fel+G8JdDXKFLNoD\n",
       "BZk5lGBbBCLdnpe2MXofDlyC8D6lRaIDmj+/jPuSIu/gew8Rt8gqeitws8QtHP5CnVnVTVUSQmI9\n",
       "4APmnO5NFlIBzWhfLKz4y686G+SzXQqe9S8PGYvkYNWTVy9QiuWdp010yleFDS3BjK3/slPgSR2w\n",
       "zmUAjuicjF4fAKltJbSst0ZZKazCfF0zZQPayD6DxI+PVsT5fTE2nWkX1Dpb3YMmsFpcFgyfMoGn\n",
       "4JJEqNqKDglHrRRs6J9wacNqYOilmZTDs1nq/Hu/Vhx3ZotXw0ARu22PYJGjR0EELM3pFynqEsxS\n",
       "jw4Y/o5GTXQVyJKGFPvDgv2XxcM6IXNwwlV/pAVrF30CvmFXDudY16PUDjMEGGmtidXrIXhfE5DS\n",
       "ExoTpqMCLoUCXQcetdOX8rvsoSFT/RisJapLQVD976iFIq71NE0VCWaxxqklNB/D0a+7FcwBNZe0\n",
       "oT9JJAgdmjMiIipmMIaZckkIARUuvZ5DdnVZonDSix2AT1y0oL//Zv+cDKaS7u55CTVlTvLBco8Q\n",
       "NeGki1rUtnnwfiAHezD3/B/++N0NtciNTQsMpCp0tla6wf9lbLqk1fgUiStG02hFmOPk9JWD/vwl\n",
       "4Jh+nbcTKZ5+sglbJS9Q9sdQQwl9u4imCVQz+vMNa1DLrKeMuPYB6mfJJzxvP8GJx7As9K/NuNIY\n",
       "N9GGGi5IjdkhEsHZ/iiTPxiACIo02Xle/DJbVolctoLnobcU5CC/0rmSGXkblWWjMwvMpW/KXvh7\n",
       "K//wAqpuPKfty6pUogB1SwbU+PUsmafNXPZcjtuHZEpGHX19OvBtFGfyPW2/WJG8kjnucBM8kiZV\n",
       "LioZqI+Fy3QdDbmZxlTo6qCP5iZUDeplYyM/ir1ikBbp74RNNcRGcLKS2V98M+QYlAAMeQAAAT9B\n",
       "noVFFSwQ/wAcK/X+BjAqD91hgBM2m15BRqVyy+hy3lBiYUESpWf5/l+SKi50I1w3+lSeC8wawfvS\n",
       "GXv2SlGDY9eIbOqZkZEzhWh5DWCH7997aKnajtgZU1ggzTtbLF9QGkvdWZfxmouaRVs0YGfMiDSx\n",
       "CG/o3Qv76Kscdv3K/wNM2JIlqkF1Oi5sHfvy9lWgt+h5xf1PMZ/ln93M79nrgW3gA+ASvQEx0+Sv\n",
       "n1/DqPNiqlEygwUWYdhucIMg0IJr5FFbRHBp/BW4m/86F6z54E8Ff3D4khOpxK7Z57mqPqfLS7Qp\n",
       "2UC3Dj5pecHFNkB3rZ9/GDsXAWPt3FFa88Z1opcy5zhCjSUJmY7kGiuX+Aef8fzZJ1v7nbSNo4qa\n",
       "z3YlfC67WAd2SWfNj81BFYr64j5/v44Gv2V8zsI0AD7hAAABawGepHRD/wA7vWFwdgCMwAQp75ru\n",
       "7xoEq9+PFPNgLbfeVAySLsxhDB4vJc/v70wtZKB4UfGAxM48aURzkLf39udMXzlayAjJ9FIecioF\n",
       "7JQS9MTh5xLM0DOOQP5t85PEFJZcBngMZa5T3FhOT+tKYsBDiLrq0GdqlOazcny7ddBvEZTSE1Dk\n",
       "0uGAmjhfNXqBC3sU8G+upgL5HwGUGwE37x4uF92WADEY/omTJH34qhtE50kg0du48rdKvlOoSesj\n",
       "RiBXrTKux5R+XJHrf6j0J/LVuqG8RrlLGf/qhYr0AxYjBzFJ1m+ig01SFhnWYKk4+NUX7E1x2oRk\n",
       "0JHmTdJqcSB1cGxPPoMWXTBoEN5cjsAoWl7+EKB4BkVkKktt1x/tUWcTrJFxrkX1+e0ZZ3HHp9Nv\n",
       "dewoQMxDAt3x6HnA890zwD2JVS+fTekT1hpUeutQF3rpYtr5ysiShqAekGZ9uwuxtcb5Dlh0CuAI\n",
       "WQAAALYBnqZqQ/8APdhDFoABtVcE7UUgkW1L3i2ugzk8nsfi9qGl4yLFwP5XDqHnR/+e3RF+smeo\n",
       "4mMqDxJ6tyssrONwIehGxt93r/NKY6rZSJFqoKf+4+MdgSYKMCJVRf3bLMm7R8foqiInKrwjNZda\n",
       "RKsFoob2K18cVh0RxZBVsN/mT0nkV43786cH/kB2MVdg9lDr6HTdZl/0wj4+WQp72ZctShK0hpJa\n",
       "udaA/6oxCHLQDjaEUSABdwAABlNBmqpJqEFsmUwIKf/+1oywBx/fTv+F+N0Qx0qhmqMQ+ACgY0M+\n",
       "Vbv9DAuefIx9ZsZoH/r4GPqHB7j36VtoBdRIagDqlgBdb4CHghPk6yVhh6NXow8GJqk2lvNO/xWQ\n",
       "B4jBpQPAIFG3KtUoukET310e7DFjhNq9F2mWeWH/05m91J/cVY05sTSq+Vi+64Ij5mix3gDxXZHI\n",
       "GvNewWKcAZYZddmxsGrVhtDcuJjQa5nYX4GoKMxjB5YLzN3ibM6Vf1/tWzSLtC5dM3RzK76PV784\n",
       "vSuEwcD9zXf1CEIDW0YrJYAUncl+/j1u/f93xs4Sp2LO6k+8PHLr4uRq6jkQORHLALKziUcjlM2A\n",
       "Bklq9xo9ATewrJU4J6v/0ReGxAq9Y58thM3co6KN1OJfQbSWMbmWVhcgM5Vr4eNAzlRPtLz+21+I\n",
       "C3vx+2BcnAI7Uhc4v138kYQqVq2eAa189G1sxK6uetDRKBcfCfdNP7uqBUX9yIfMGuyPw2PrS0Gq\n",
       "mS3cf/TzZZ/aDR2KOB7iCS1EQzirOLr8ASGABzd+hWP2x/SWmiyETTWPdSnpdBtookvwVzEy877m\n",
       "8fEhsEBl211bkUuVrU2XXLpWcg8LQ2213pS1aQZM6ChNLf9f3eMQuCPZYKaFht+G/z0ot29khOTb\n",
       "Wmchc2/ufptv8tb4PoSuxTDTbLaizuuIAEFlf9tWXWLcL3+aPrEHzSE2eHIT4wmF8oFcFg6s2TYw\n",
       "ce0tnw1dlSoOYKeKW3zwguX5dFHMDv7JCrYfWi4BSvN4+hlL0gJHHU50Aowa1alRpkG79wJMknDw\n",
       "3d0adbn7XmCq2+oH0X85l6IWu9fBCzqY0rlownbJIsYqWava+cmadSR+tDVPw8+IBoO2Qdf2E22t\n",
       "3/9s27OmoRWkQP0UOBMc18m00Dx02qtenhMVYB1aypGS7jIZg+y6jpnIH/SY/Du8f/Dd/rBjxPbM\n",
       "aR5tUoYm+mnbBHl5Vm1ll79Zn7fm+0grk+R6siHIvmEUDBJbhc1CPuO2eurxxE28GwsHyjoboFLB\n",
       "SGTBqCZgBiS5+wrypefZY+6jC6njREB9r/c3dSUdp0GTNaV/P9b9OI13YWERYrlrkEAeeKnoFmM0\n",
       "4npOQGJnpoM8d+6YvBRNucqEwmzQGzyUthXkQ/aNHZkptHMT+c4mphqxPkRWWPudi6zZNQBQ8cmj\n",
       "KtyJSICH8mXOfqscd7La3aAiurkhw4AM1C9if/XIbnZbXDCid5AYCbfV4jV+6mVxUpocrNtd0EdC\n",
       "1rDXrHbm+eZ4vRbb5ddQBn+h+nNaindifB4EqDQnfcEy4FiUIdkNdYTkuONPB/q2bAVlM53zfaUR\n",
       "2xthrI0urYjWk/eMSslUf+9wunyxzVTyrr7aeYnSXOXSw6M9ga10xqPQS7oqsjR/bWd3Gyg1xea1\n",
       "Xni9R8E7cwm3b7iQBmkJvypue43D/Ml8RimXpwXd71D9LXKjxSkjyzKCtCAg9W5JGfXDgU0NoHbw\n",
       "F+u30Ntp7N/ssYDHC/RzsNvUANvS2o/+MMLMgyAhF0MGOjYVLm1bawvUSaDf5WrX5tSfjM/w9pv0\n",
       "xidsJ52pIN3mHqxyyj8yxgIPdDsu7dr/DdpMp+GfKSu33UEj+xFvNH1lcoF1Bj8Nmi1vraQD0pAU\n",
       "4PiUpIFiowEOc+z8/mhQyRvit8rzAQy/kCPQQAjTvXUGbxnHp0X/g4QlE/P7FluTnTbW0prW/4oa\n",
       "RQmp/DAJx2YGJDJtilbFKik1Sb0f6H75LmzZG9YRF7aqdeKXxza8QKKcA07KKIWfvAnP+Vov6rmV\n",
       "ibeCjD9jQa3n56CRi+AjDMOACxx2prHRlArJ+hkD5FoButjj0yxWAYR91kZk4rYeg6JDKqVukJOE\n",
       "cdMoVJ0xwdpthUKRALEuyfAQKRrThBYUDIEqPVk7Z0WlfbzPiLUtKD/E//qP1IIXOg1PzWZwoYy3\n",
       "FP/buWOe1CyiwUUynuzUWnTCX+oJuRKKbFmZquQSiz62x8uMeIBuEGWH1gxta4UqCa0LWHiF38li\n",
       "Wv65zP2SIsUajqsK+k/xKvxZequhZCR7pTkRZ1NzkRPCmc5+w0WE7iE7xKkB8f0h1mlCJMwL2vd3\n",
       "wyi9QYIIiBRhW9zeCmlwtGg8Ja4q1Tchg+/B8z5fEKk7X7Nk3/YMAAA7oAAAAZJBnshFFSwQ/wAe\n",
       "6e4SeW8rWBOsOJAuSaACcwLz8QfBYr82cC9QnTVLJtuSGZH4GtMMo9lWyF4myHpXGQSxpdaccmyz\n",
       "imiP+lZ45jXGNCAAX4aJDtUr1KM56cOLnzm7btamiTBt1mkD4TzteV3h6kTeKNFvVpBeUhWFxTXT\n",
       "4vEmC29sQjA8+QMZaOWA/joLxPHsVQVLD1OVCKnIlNJW7wXKPEMABnJbCtrFQoir3Y3kT8PLJQe0\n",
       "XmRLFYLsGrQn24gtKjUhD0JMt+xCpdY/iPVpg7Qy7MDf2NKG4ELBbHF3g4mfdUYIk+VGWXZ27/27\n",
       "TPFUr8lZF2Ai6JEKKXntxCxzYlr/7PUr0s0Rxb6S8Z7odpvP7CjiwFYaGOXTl19He5yq5XvoifCO\n",
       "14XVMt5zwlLMcfn7o28qsikhNkkymKhuavuPQ8uQJwyMUPVcJcR48PnrOAn/q8DoyfI7UrpH8Lx2\n",
       "da8hLnwm2hHQYjNOQ0EBZ9e3/pEwQJCzBqBp/QrAUOagjaswDyn+0w/gZ/5mragAUEAAAAELAZ7p\n",
       "akP/AdFQm9TxesAG0kUru6Ht5ypbnFu00xIt0nf5f++a5x5eFb0MvdhJOpiKoSJjueUwboKYuR9n\n",
       "+ndymx+Hywwh1RpLrObBOg/EKZ7s35uxHKJc3HAVq+DEDwf++AVD1kdAdp8WuIg5IrR8lXITmtv+\n",
       "7/wO2MK3/n1FqSuLJnXAPfYcAngWRCvT1e6oZjUO2LcE0tMYbC1/pmnXKsbl00RRQXZ0yGMYtca/\n",
       "4xlhDXLMwhE/acaGFRucTDv4UdnnrvMSGWxiKiLUX5pgtBbtXZMddfY7US8X4qND2VpsctL4gqic\n",
       "NvuMzN5Mv6RMMzwEPYCQ3t1fzdg3xJtwJCpNrY7zVCOaQAXdAAAEfUGa7kmoQWyZTAgp//7WjLAF\n",
       "4PpGtoAjykmlS6DmSsL9tKP/tzPj2bjsNj5f5HqId+7PL4N8XJhtWKY7UNwgjHS8MTwNB0c02kId\n",
       "dJaajHk2/TOxqp+/oK7lkpglfib9oFyR69XOh4vnZQcPCrdiZzYD0iHRPLqr9+EFyS1lejy6kejd\n",
       "TkqwiJryPzhFCuhcVpxOSukcj8e8WCFlBr5FLXW4hBrhVqhLt/hkD22iYnYg0+LCADzgDl97n3MG\n",
       "4aD598rhghWkwsA28lEDBOVKSDiLEMz6f6A9yzMFKFYsx/WgYWXDVbs/8N5lpAF6Utjs8LMI5+kN\n",
       "67YztwNo79RmYj6dPB4irruVq3qqeuT93wCRJtOW1w+UsRhwQqrYgbl4t8F/5YR3ag8hfIDz+t7s\n",
       "4pOovthvf3tgQRHGPOAu0r9jM9wfpeEu09N6UZsgiKk4RrRpQ8Hql1vvKXGWbUI8sqirVTyXR3uE\n",
       "ci22dUeZQ3/lF0+SWykMgVULrMKKR01uhV55nY0VBPXEFbcGYsNgN+7325YopwecSFKqtvw/fUDA\n",
       "ZD5b/M7qDntzMoqA4WAonSJvfSA6xuiadnPCTS9fHt8JF8c+/OZ2Rc5/8s9JtzffROxeouyh2ZYf\n",
       "cIUcW4fSNCKGRGjVlQah3rUZCpz+BkSar+eadxs5oXLiKgn5oVziMFc90St6CNwXbFP8CVdEPdlR\n",
       "iOG2XlBpjwVlqoUg/7C/PxXo1+GfSn79VynljQZLDQySGaUhf3adIaMmxTTptEOK+8UeJfJlJdtf\n",
       "9frdvG0snPdVwkkgdanchM9g/KZkoCC5qz1Y5ekNAHIiEhs0LSs2sGQxkUUL4tmfT2WXaDT+Xmgx\n",
       "zrUnfveOS1VzIKfrbqdlvqE3FWLv8Ch9BVJYjuhT1jrZqzATJaiIaVHVFnIWA+FPBSt5QhvGMQ/x\n",
       "/OaJPv47stgtouU5icYNnZdMAfqWtOfrm5rQQlk5O9wnwwc+9AOCPbJ8/dZ6srxbGZf355xJQtVn\n",
       "P/Fw8EDn+genTUpJLwsbCai0ZXgUf1UIsBIRyZMfwXK/6LqQdmvmQ36n5/vIo8rJbA9knmhMO4kZ\n",
       "rcsTesFstydsZwiaaJPEbpJ/ded1CoGoI4F9c22yii0GGuWUk8ftkIq8A/brn3jAqWGcCBFlhKw8\n",
       "HNSehxxFBDuPUmycw+DXP32MRJPqJs4BRiKX+H9Up65n2BGoDrBIowIKNp1RqyGOWcSNSy1WYkOM\n",
       "q+1byPAgJGkmNTW69tkswSV1h1Ka/p3777iOXpjYHsjqj7Czdbk5OTmp/gpUryUxHYBVVfkFuwb9\n",
       "hNPjm4vAhrp/R/j6n6BbzvlKqb9ikPHkITVpN3M1Kv9S4OWEZIPh0ShEkwzGb/qcKPIfQMfug5cD\n",
       "89SeOP+qoQwmMdmA4FnvKYazpoLyW4MUSMosDF2iz/OpryvHMIraCVDN26vDwdoZTE02XSLm8Act\n",
       "0v2U4+fXnNkO3kjE+HjOwMjBgsK4jQcmtSFujU9oNv33N1314r0OwGebXMEJUzAQcAAAALNBnwxF\n",
       "FSwQ/wAbcgUIAAEOCgz+mk+bJFUGXSowl2St27TUYBl58fZLlDh8bLHc+Vk640UwjykobpG4IY1Q\n",
       "j4KA4kcSSBgDYE1xcZDj2Kv+VDY+iO6KggdH4g11EZNgSAY6ZsUQQRv9tG5LrWswQN8DwKdqMWFd\n",
       "mNuRc4TTozBQIEwkUCnMUbK5/6arX44o4TQAoyf1k1cggDFDtZGSSthcoWN8XWM1aa/5pnYsPz6x\n",
       "oqACPgAAAR8Bnyt0Q/8APGV36wAbP0NetSxMYK5tNv46Kz9V8TdiG5I58xmOh2JCglIwc7f/S3gT\n",
       "PNH9vS3NsWvuUOzq6NrEns43WfpTuh/RzbwMYZl+fVowc6sd25fzgscMqkCJvBRBRY8tRV8ch4lY\n",
       "FLMjoG2v+rtHh0g1zjrKn7USbnZDZqWfyykB1n3JS+2l7kq0EoepY+am94SJ4i6gCZLk2rlXybNR\n",
       "3dsF098aELgD9SU6hi1PXVI55xIY2YUFdiLixrkFxhwu741Z6uFK2CKLFD1C66Y08vLMG8G5v3l3\n",
       "gxhTPtGEyyROJp1EcfHw53HIYZeTJDWpOPb2CYnx3V9n2UAao0TURxnGmAutZQrP309mNLwvwgM8\n",
       "OIl+0QAXxagB1wAAAMIBny1qQ/8AO+B0hwAQgZQTvlHbbsu61uA4Zur+J13FnU27nS6qEmRij81m\n",
       "K26ZIt/EAZq5fARrcQKIKWaORh3/cKbHR5XdCU4KuaZiyjynSbSaV9hhe8vAzrDWdjrl8bc7mb+m\n",
       "ZGtTqagTOtAlUmSHSATFs3OQln7nCrKiSi7OQZwLM7l4pyGYBKm7nQGJ4o9IzD/04Ao+LPwzbdpZ\n",
       "m9n9NNhLEACvFa7uW3OPzp669R2lFiV6poPzVxm+Xk6P2TgBiwAAAdJBmzJJqEFsmUwIKf/+1oyw\n",
       "BQaqGXl5DYCIAOW5djKwF1lEuIDUb6pF7p7necN4dtGP4fFKaHgnsnpeP6gwxlqRmQUiTXaXxZtr\n",
       "69AyUeq++v3VSQyrT5Mo6q8i1Odxu43kfff7dX8yl/ApUQaU93WGcxzrqHdRSp0YOd0A9qDE3Kt5\n",
       "UyjV/irOkViep/2CTU2+yWVmigJ2mcDP95jLs1M/DQ49InLsDyR+JjS+MpyAy0VrwUeYVtzr1Tfw\n",
       "7XStVLxChcSCDl/AAESwCFz7S60l3GQzO+lNpjaUozN+PnoWkVZIl+a6SXdVWaxhoaz5DyrE69eJ\n",
       "Rs1ApZW6EXEhiD7uaZVSzVGGjbXbwzmKk6LT8W6L+5aUIN2QEyfQyrunkFW5y7HD8/+o80ar68vC\n",
       "w8TRGDiUkI+VK8PIH4VnCjUJa3JRpY+0wgbcaXfnbIanqlQT+zfI9NDs6jCVm5mH0C6yxShahLrc\n",
       "2h0BU6aS+dq1WtJ1a7hJ/NwdOOnz2LVbbh1omp5/5xOsV0yMRBx923Y9cZUqZIWJSntxpaBzI5Mh\n",
       "qCfrwvXRAGlP9kF8TNYke1cgMgekxCjecjjtuJdFcoWEJCHYPW6uVJ1IMO5I5iZ9oA/xAAAALkGf\n",
       "UEUVLBD/ABhaHTOEqdztWHh/20VwvLFDR9/+g/cL3iq6RyTR/Pzk8ewALKAAAAAiAZ9vdEP/ADW3\n",
       "RhB9SzSQtyfz5Ynf/xm9nVppyXEvHAAccAAAABkBn3FqQ/8AEVg1ub/OAA/ed5GuOYngqB8xAAAA\n",
       "JEGbdkmoQWyZTAgp//7WjLAAAAMC7limIDme4oMsk9OUfoAC2gAAACNBn5RFFSwQ/wAHw1S7/ZKw\n",
       "1AALJ99IMmtwA0NxrLH/BAAzIAAAABkBn7N0Q/8AEVXJMf+cAB+zWRaIBil7ANWBAAAAGQGftWpD\n",
       "/wARWDW5v84AD953ka45ieCoHzAAAAAkQZu6SahBbJlMCCn//taMsAAAAwLuWKYgOa8CgyyT06te\n",
       "gALbAAAAI0Gf2EUVLBD/AAfDVLv9krDUAAsn30gya3ADQ3Gssf8EADMhAAAAGQGf93RD/wARVckx\n",
       "/5wAH7NZFogGKXsA1YAAAAAZAZ/5akP/ABFYNbm/zgAP3neRrjmJ4KgfMQAAACRBm/5JqEFsmUwI\n",
       "Kf/+1oywAAADAu5YpiA5nuKDLJPTlH6AAtoAAAAjQZ4cRRUsEP8AB8NUu/2SsNQACyffSDJrcAND\n",
       "cayx/wQAMyEAAAAZAZ47dEP/ABFVyTH/nAAfs1kWiAYpewDVgQAAABkBnj1qQ/8AEVg1ub/OAA/e\n",
       "d5GuOYngqB8wAAAAJEGaIkmoQWyZTAgp//7WjLAAAAMC7limIDmvAoMsk9OrXoAC2gAAACNBnkBF\n",
       "FSwQ/wAHw1S7/ZKw1AALJ99IMmtwA0NxrLH/BAAzIQAAABkBnn90Q/8AEVXJMf+cAB+zWRaIBil7\n",
       "ANWAAAAAGQGeYWpD/wARWDW5v84AD953ka45ieCoHzEAAAAkQZpmSahBbJlMCCn//taMsAAAAwLu\n",
       "WKYgOZ7igyyT05R+gALaAAAAI0GehEUVLBD/AAfDVLv9krDUAAsn30gya3ADQ3Gssf8EADMhAAAA\n",
       "GQGeo3RD/wARVckx/5wAH7NZFogGKXsA1YEAAAAZAZ6lakP/ABFYNbm/zgAP3neRrjmJ4KgfMQAA\n",
       "ACRBmqpJqEFsmUwIKf/+1oywAAADAu5YpiA5rwKDLJPTq16AAtsAAAAjQZ7IRRUsEP8AB8NUu/2S\n",
       "sNQACyffSDJrcANDcayx/wQAMyAAAAAZAZ7ndEP/ABFVyTH/nAAfs1kWiAYpewDVgAAAABkBnulq\n",
       "Q/8AEVg1ub/OAA/ed5GuOYngqB8xAAAAJEGa7kmoQWyZTAgp//7WjLAAAAMC7limIDme4oMsk9OU\n",
       "foAC2gAAACNBnwxFFSwQ/wAHw1S7/ZKw1AALJ99IMmtwA0NxrLH/BAAzIAAAABkBnyt0Q/8AEVXJ\n",
       "Mf+cAB+zWRaIBil7ANWBAAAAGQGfLWpD/wARWDW5v84AD953ka45ieCoHzEAAAAkQZsySahBbJlM\n",
       "CCn//taMsAAAAwLuWKYgOa8CgyyT06tegALbAAAAI0GfUEUVLBD/AAfDVLv9krDUAAsn30gya3AD\n",
       "Q3Gssf8EADMgAAAAGQGfb3RD/wARVckx/5wAH7NZFogGKXsA1YAAAAAZAZ9xakP/ABFYNbm/zgAP\n",
       "3neRrjmJ4KgfMQAAACRBm3ZJqEFsmUwIKf/+1oywAAADAu5YpiA5nuKDLJPTlH6AAtoAAAAjQZ+U\n",
       "RRUsEP8AB8NUu/2SsNQACyffSDJrcANDcayx/wQAMyAAAAAZAZ+zdEP/ABFVyTH/nAAfs1kWiAYp\n",
       "ewDVgQAAABkBn7VqQ/8AEVg1ub/OAA/ed5GuOYngqB8wAAAAJEGbukmoQWyZTAgp//7WjLAAAAMC\n",
       "7limIDmvAoMsk9OrXoAC2wAAACNBn9hFFSwQ/wAHw1S7/ZKw1AALJ99IMmtwA0NxrLH/BAAzIQAA\n",
       "ABkBn/d0Q/8AEVXJMf+cAB+zWRaIBil7ANWAAAAAGQGf+WpD/wARWDW5v84AD953ka45ieCoHzEA\n",
       "AAAkQZv+SahBbJlMCCn//taMsAAAAwLuWKYgOZ7igyyT05R+gALaAAAAI0GeHEUVLBD/AAfDVLv9\n",
       "krDUAAsn30gya3ADQ3Gssf8EADMhAAAAGQGeO3RD/wARVckx/5wAH7NZFogGKXsA1YEAAAAZAZ49\n",
       "akP/ABFYNbm/zgAP3neRrjmJ4KgfMAAAACRBmiJJqEFsmUwIKf/+1oywAAADAu5YpiA5rwKDLJPT\n",
       "q16AAtoAAAAjQZ5ARRUsEP8AB8NUu/2SsNQACyffSDJrcANDcayx/wQAMyEAAAAZAZ5/dEP/ABFV\n",
       "yTH/nAAfs1kWiAYpewDVgAAAABkBnmFqQ/8AEVg1ub/OAA/ed5GuOYngqB8xAAAAJEGaZkmoQWyZ\n",
       "TAgp//7WjLAAAAMC7limIDme4oMsk9OUfoAC2gAAACNBnoRFFSwQ/wAHw1S7/ZKw1AALJ99IMmtw\n",
       "A0NxrLH/BAAzIQAAABkBnqN0Q/8AEVXJMf+cAB+zWRaIBil7ANWBAAAAGQGepWpD/wARWDW5v84A\n",
       "D953ka45ieCoHzEAAAAkQZqqSahBbJlMCCn//taMsAAAAwLuWKYgOa8CgyyT06tegALbAAAAI0Ge\n",
       "yEUVLBD/AAfDVLv9krDUAAsn30gya3ADQ3Gssf8EADMgAAAAGQGe53RD/wARVckx/5wAH7NZFogG\n",
       "KXsA1YAAAAAZAZ7pakP/ABFYNbm/zgAP3neRrjmJ4KgfMQAAACRBmu5JqEFsmUwIKf/+1oywAAAD\n",
       "Au5YpiA5nuKDLJPTlH6AAtoAAAAjQZ8MRRUsEP8AB8NUu/2SsNQACyffSDJrcANDcayx/wQAMyAA\n",
       "AAAZAZ8rdEP/ABFVyTH/nAAfs1kWiAYpewDVgQAAABkBny1qQ/8AEVg1ub/OAA/ed5GuOYngqB8x\n",
       "AAAAJEGbMkmoQWyZTAgp//7WjLAAAAMC7limIDmvAoMsk9OrXoAC2wAAACNBn1BFFSwQ/wAHw1S7\n",
       "/ZKw1AALJ99IMmtwA0NxrLH/BAAzIAAAABkBn290Q/8AEVXJMf+cAB+zWRaIBil7ANWAAAAAGQGf\n",
       "cWpD/wARWDW5v84AD953ka45ieCoHzEAAAAkQZt2SahBbJlMCCn//taMsAAAAwLuWKYgOZ7igyyT\n",
       "05R+gALaAAAAI0GflEUVLBD/AAfDVLv9krDUAAsn30gya3ADQ3Gssf8EADMgAAAAGQGfs3RD/wAR\n",
       "Vckx/5wAH7NZFogGKXsA1YEAAAAZAZ+1akP/ABFYNbm/zgAP3neRrjmJ4KgfMAAAACRBm7pJqEFs\n",
       "mUwIKf/+1oywAAADAu5YpiA5rwKDLJPTq16AAtsAAAAjQZ/YRRUsEP8AB8NUu/2SsNQACyffSDJr\n",
       "cANDcayx/wQAMyEAAAAZAZ/3dEP/ABFVyTH/nAAfs1kWiAYpewDVgAAAABkBn/lqQ/8AEVg1ub/O\n",
       "AA/ed5GuOYngqB8xAAAAJEGb/kmoQWyZTAgp//7WjLAAAAMC7limIDme4oMsk9OUfoAC2gAAACNB\n",
       "nhxFFSwQ/wAHw1S7/ZKw1AALJ99IMmtwA0NxrLH/BAAzIQAAABkBnjt0Q/8AEVXJMf+cAB+zWRaI\n",
       "Bil7ANWBAAAAGQGePWpD/wARWDW5v84AD953ka45ieCoHzAAAAAkQZoiSahBbJlMCCn//taMsAAA\n",
       "AwLuWKYgOa8CgyyT06tegALaAAAAI0GeQEUVLBD/AAfDVLv9krDUAAsn30gya3ADQ3Gssf8EADMh\n",
       "AAAAGQGef3RD/wARVckx/5wAH7NZFogGKXsA1YAAAAAZAZ5hakP/ABFYNbm/zgAP3neRrjmJ4Kgf\n",
       "MQAAACRBmmZJqEFsmUwIKf/+1oywAAADAu5YpiA5nuKDLJPTlH6AAtoAAAAjQZ6ERRUsEP8AB8NU\n",
       "u/2SsNQACyffSDJrcANDcayx/wQAMyEAAAAZAZ6jdEP/ABFVyTH/nAAfs1kWiAYpewDVgQAAABkB\n",
       "nqVqQ/8AEVg1ub/OAA/ed5GuOYngqB8xAAAAJEGaqkmoQWyZTAgp//7WjLAAAAMC7limIDmvAoMs\n",
       "k9OrXoAC2wAAACNBnshFFSwQ/wAHw1S7/ZKw1AALJ99IMmtwA0NxrLH/BAAzIAAAABkBnud0Q/8A\n",
       "EVXJMf+cAB+zWRaIBil7ANWAAAAAGQGe6WpD/wARWDW5v84AD953ka45ieCoHzEAAAAkQZruSahB\n",
       "bJlMCCn//taMsAAAAwLuWKYgOZ7igyyT05R+gALaAAAAI0GfDEUVLBD/AAfDVLv9krDUAAsn30gy\n",
       "a3ADQ3Gssf8EADMgAAAAGQGfK3RD/wARVckx/5wAH7NZFogGKXsA1YEAAAAZAZ8takP/ABFYNbm/\n",
       "zgAP3neRrjmJ4KgfMQAAACRBmzJJqEFsmUwIKf/+1oywAAADAu5YpiA5rwKDLJPTq16AAtsAAAAj\n",
       "QZ9QRRUsEP8AB8NUu/2SsNQACyffSDJrcANDcayx/wQAMyAAAAAZAZ9vdEP/ABFVyTH/nAAfs1kW\n",
       "iAYpewDVgAAAABkBn3FqQ/8AEVg1ub/OAA/ed5GuOYngqB8xAAAAJEGbdkmoQWyZTAgp//7WjLAA\n",
       "AAMC7limIDme4oMsk9OUfoAC2gAAACNBn5RFFSwQ/wAHw1S7/ZKw1AALJ99IMmtwA0NxrLH/BAAz\n",
       "IAAAABkBn7N0Q/8AEVXJMf+cAB+zWRaIBil7ANWBAAAAGQGftWpD/wARWDW5v84AD953ka45ieCo\n",
       "HzAAAAAkQZu6SahBbJlMCCn//taMsAAAAwLuWKYgOa8CgyyT06tegALbAAAAI0Gf2EUVLBD/AAfD\n",
       "VLv9krDUAAsn30gya3ADQ3Gssf8EADMhAAAAGQGf93RD/wARVckx/5wAH7NZFogGKXsA1YAAAAAZ\n",
       "AZ/5akP/ABFYNbm/zgAP3neRrjmJ4KgfMQAAACRBm/5JqEFsmUwIKf/+1oywAAADAu5YpiA5nuKD\n",
       "LJPTlH6AAtoAAAAjQZ4cRRUsEP8AB8NUu/2SsNQACyffSDJrcANDcayx/wQAMyEAAAAZAZ47dEP/\n",
       "ABFVyTH/nAAfs1kWiAYpewDVgQAAABkBnj1qQ/8AEVg1ub/OAA/ed5GuOYngqB8wAAAAJEGaIkmo\n",
       "QWyZTAgp//7WjLAAAAMC7limIDmvAoMsk9OrXoAC2gAAACNBnkBFFSwQ/wAHw1S7/ZKw1AALJ99I\n",
       "MmtwA0NxrLH/BAAzIQAAABkBnn90Q/8AEVXJMf+cAB+zWRaIBil7ANWAAAAAGQGeYWpD/wARWDW5\n",
       "v84AD953ka45ieCoHzEAAAAkQZpmSahBbJlMCCn//taMsAAAAwLuWKYgOZ7igyyT05R+gALaAAAA\n",
       "I0GehEUVLBD/AAfDVLv9krDUAAsn30gya3ADQ3Gssf8EADMhAAAAGQGeo3RD/wARVckx/5wAH7NZ\n",
       "FogGKXsA1YEAAAAZAZ6lakP/ABFYNbm/zgAP3neRrjmJ4KgfMQAAACJBmqpJqEFsmUwIKf/+1oyw\n",
       "AABZSxTEAUmwSBr+pFLtAAb9AAAAI0GeyEUVLBD/AAfDVLv9krDUAAsn30gya3ADQ3Gssf8EADMg\n",
       "AAAAGQGe53RD/wARVckx/5wAH7NZFogGKXsA1YAAAAAZAZ7pakP/ABFYNbm/zgAP3neRrjmJ4Kgf\n",
       "MQAAACJBmu5JqEFsmUwIKf/+1oywAABZSxTEAUicSBr+pCCtAAb8AAAAI0GfDEUVLBD/AAfDVLv9\n",
       "krDUAAsn30gya3ADQ3Gssf8EADMgAAAAGQGfK3RD/wARVckx/5wAH7NZFogGKXsA1YEAAAAZAZ8t\n",
       "akP/ABFYNbm/zgAP3neRrjmJ4KgfMQAAACJBmzJJqEFsmUwIKf/+1oywAABZSxTEAUmwSBr+pFLt\n",
       "AAb9AAAAI0GfUEUVLBD/AAfDVLv9krDUAAsn30gya3ADQ3Gssf8EADMgAAAAGQGfb3RD/wARVckx\n",
       "/5wAH7NZFogGKXsA1YAAAAAZAZ9xakP/ABFYNbm/zgAP3neRrjmJ4KgfMQAAABlBm3ZJqEFsmUwI\n",
       "J//+tSqAAAADAAADAAPWAAAAI0GflEUVLBD/AAfDVLv9krDUAAsn30gya3ADQ3Gssf8EADMgAAAA\n",
       "GQGfs3RD/wARVckx/5wAH7NZFogGKXsA1YEAAAAZAZ+1akP/ABFYNbm/zgAP3neRrjmJ4KgfMAAA\n",
       "ABlBm7pJqEFsmUwIJ//+tSqAAAADAAADAAPXAAAAI0Gf2EUVLBD/AAfDVLv9krDUAAsn30gya3AD\n",
       "Q3Gssf8EADMhAAAAGQGf93RD/wARVckx/5wAH7NZFogGKXsA1YAAAAAZAZ/5akP/ABFYNbm/zgAP\n",
       "3neRrjmJ4KgfMQAAABlBm/5JqEFsmUwIJ//+tSqAAAADAAADAAPWAAAAI0GeHEUVLBD/AAfDVLv9\n",
       "krDUAAsn30gya3ADQ3Gssf8EADMhAAAAGQGeO3RD/wARVckx/5wAH7NZFogGKXsA1YEAAAAZAZ49\n",
       "akP/ABFYNbm/zgAP3neRrjmJ4KgfMAAAABlBmiJJqEFsmUwIJf/+tSqAAAADAAADAAPWAAAAI0Ge\n",
       "QEUVLBD/AAfDVLv9krDUAAsn30gya3ADQ3Gssf8EADMhAAAAGQGef3RD/wARVckx/5wAH7NZFogG\n",
       "KXsA1YAAAAAZAZ5hakP/ABFYNbm/zgAP3neRrjmJ4KgfMQAAABlBmmZJqEFsmUwIIf/+qlUAAAMA\n",
       "AAMAAAesAAAAI0GehEUVLBD/AAfDVLv9krDUAAsn30gya3ADQ3Gssf8EADMhAAAAGQGeo3RD/wAR\n",
       "Vckx/5wAH7NZFogGKXsA1YEAAAAZAZ6lakP/ABFYNbm/zgAP3neRrjmJ4KgfMQAAABlBmqdJqEFs\n",
       "mUwIf//+qZYAAAMAAAMAAB4RAAAMgm1vb3YAAABsbXZoZAAAAAAAAAAAAAAAAAAAA+gAAJxAAAEA\n",
       "AAEAAAAAAAAAAAAAAAABAAAAAAAAAAAAAAAAAAAAAQAAAAAAAAAAAAAAAAAAQAAAAAAAAAAAAAAA\n",
       "AAAAAAAAAAAAAAAAAAAAAAAAAAIAAAusdHJhawAAAFx0a2hkAAAAAwAAAAAAAAAAAAAAAQAAAAAA\n",
       "AJxAAAAAAAAAAAAAAAAAAAAAAAABAAAAAAAAAAAAAAAAAAAAAQAAAAAAAAAAAAAAAAAAQAAAAALQ\n",
       "AAABsAAAAAAAJGVkdHMAAAAcZWxzdAAAAAAAAAABAACcQAAAEAAAAQAAAAALJG1kaWEAAAAgbWRo\n",
       "ZAAAAAAAAAAAAAAAAAAAKAAABkAAVcQAAAAAAC1oZGxyAAAAAAAAAAB2aWRlAAAAAAAAAAAAAAAA\n",
       "VmlkZW9IYW5kbGVyAAAACs9taW5mAAAAFHZtaGQAAAABAAAAAAAAAAAAAAAkZGluZgAAABxkcmVm\n",
       "AAAAAAAAAAEAAAAMdXJsIAAAAAEAAAqPc3RibAAAALdzdHNkAAAAAAAAAAEAAACnYXZjMQAAAAAA\n",
       "AAABAAAAAAAAAAAAAAAAAAAAAALQAbAASAAAAEgAAAAAAAAAAQAAAAAAAAAAAAAAAAAAAAAAAAAA\n",
       "AAAAAAAAAAAAAAAAABj//wAAADVhdmNDAWQAFv/hABhnZAAWrNlAtDehAAADAAEAAAMACg8WLZYB\n",
       "AAZo6+PLIsD9+PgAAAAAHHV1aWRraEDyXyRPxbo5pRvPAyPzAAAAAAAAABhzdHRzAAAAAAAAAAEA\n",
       "AADIAAAIAAAAABRzdHNzAAAAAAAAAAEAAAABAAAGQGN0dHMAAAAAAAAAxgAAAAEAABAAAAAAAQAA\n",
       "GAAAAAABAAAIAAAAAAEAACgAAAAAAQAAEAAAAAABAAAAAAAAAAEAAAgAAAAAAQAAIAAAAAACAAAI\n",
       "AAAAAAEAACgAAAAAAQAAEAAAAAABAAAAAAAAAAEAAAgAAAAAAQAAKAAAAAABAAAQAAAAAAEAAAAA\n",
       "AAAAAQAACAAAAAABAAAoAAAAAAEAABAAAAAAAQAAAAAAAAABAAAIAAAAAAEAABgAAAAAAQAACAAA\n",
       "AAABAAAoAAAAAAEAABAAAAAAAQAAAAAAAAABAAAIAAAAAAEAACgAAAAAAQAAEAAAAAABAAAAAAAA\n",
       "AAEAAAgAAAAAAQAAKAAAAAABAAAQAAAAAAEAAAAAAAAAAQAACAAAAAABAAAoAAAAAAEAABAAAAAA\n",
       "AQAAAAAAAAABAAAIAAAAAAEAACAAAAAAAgAACAAAAAABAAAoAAAAAAEAABAAAAAAAQAAAAAAAAAB\n",
       "AAAIAAAAAAEAACgAAAAAAQAAEAAAAAABAAAAAAAAAAEAAAgAAAAAAQAAKAAAAAABAAAQAAAAAAEA\n",
       "AAAAAAAAAQAACAAAAAABAAAoAAAAAAEAABAAAAAAAQAAAAAAAAABAAAIAAAAAAEAACgAAAAAAQAA\n",
       "EAAAAAABAAAAAAAAAAEAAAgAAAAAAQAAKAAAAAABAAAQAAAAAAEAAAAAAAAAAQAACAAAAAABAAAo\n",
       "AAAAAAEAABAAAAAAAQAAAAAAAAABAAAIAAAAAAEAACgAAAAAAQAAEAAAAAABAAAAAAAAAAEAAAgA\n",
       "AAAAAQAAKAAAAAABAAAQAAAAAAEAAAAAAAAAAQAACAAAAAABAAAoAAAAAAEAABAAAAAAAQAAAAAA\n",
       "AAABAAAIAAAAAAEAACgAAAAAAQAAEAAAAAABAAAAAAAAAAEAAAgAAAAAAQAAKAAAAAABAAAQAAAA\n",
       "AAEAAAAAAAAAAQAACAAAAAABAAAoAAAAAAEAABAAAAAAAQAAAAAAAAABAAAIAAAAAAEAACgAAAAA\n",
       "AQAAEAAAAAABAAAAAAAAAAEAAAgAAAAAAQAAKAAAAAABAAAQAAAAAAEAAAAAAAAAAQAACAAAAAAB\n",
       "AAAoAAAAAAEAABAAAAAAAQAAAAAAAAABAAAIAAAAAAEAACgAAAAAAQAAEAAAAAABAAAAAAAAAAEA\n",
       "AAgAAAAAAQAAKAAAAAABAAAQAAAAAAEAAAAAAAAAAQAACAAAAAABAAAoAAAAAAEAABAAAAAAAQAA\n",
       "AAAAAAABAAAIAAAAAAEAACgAAAAAAQAAEAAAAAABAAAAAAAAAAEAAAgAAAAAAQAAKAAAAAABAAAQ\n",
       "AAAAAAEAAAAAAAAAAQAACAAAAAABAAAoAAAAAAEAABAAAAAAAQAAAAAAAAABAAAIAAAAAAEAACgA\n",
       "AAAAAQAAEAAAAAABAAAAAAAAAAEAAAgAAAAAAQAAKAAAAAABAAAQAAAAAAEAAAAAAAAAAQAACAAA\n",
       "AAABAAAoAAAAAAEAABAAAAAAAQAAAAAAAAABAAAIAAAAAAEAACgAAAAAAQAAEAAAAAABAAAAAAAA\n",
       "AAEAAAgAAAAAAQAAKAAAAAABAAAQAAAAAAEAAAAAAAAAAQAACAAAAAABAAAoAAAAAAEAABAAAAAA\n",
       "AQAAAAAAAAABAAAIAAAAAAEAACgAAAAAAQAAEAAAAAABAAAAAAAAAAEAAAgAAAAAAQAAKAAAAAAB\n",
       "AAAQAAAAAAEAAAAAAAAAAQAACAAAAAABAAAoAAAAAAEAABAAAAAAAQAAAAAAAAABAAAIAAAAAAEA\n",
       "ACgAAAAAAQAAEAAAAAABAAAAAAAAAAEAAAgAAAAAAQAAKAAAAAABAAAQAAAAAAEAAAAAAAAAAQAA\n",
       "CAAAAAABAAAoAAAAAAEAABAAAAAAAQAAAAAAAAABAAAIAAAAAAEAACgAAAAAAQAAEAAAAAABAAAA\n",
       "AAAAAAEAAAgAAAAAAQAAKAAAAAABAAAQAAAAAAEAAAAAAAAAAQAACAAAAAABAAAoAAAAAAEAABAA\n",
       "AAAAAQAAAAAAAAABAAAIAAAAAAEAACgAAAAAAQAAEAAAAAABAAAAAAAAAAEAAAgAAAAAAQAAKAAA\n",
       "AAABAAAQAAAAAAEAAAAAAAAAAQAACAAAAAABAAAQAAAAABxzdHNjAAAAAAAAAAEAAAABAAAAyAAA\n",
       "AAEAAAM0c3RzegAAAAAAAAAAAAAAyAAAQdkAAASiAAABZQAAA6MAAADUAAABXAAAAVcAAAOiAAAB\n",
       "qwAAARoAAAMFAAAAqAAAAPwAAAB9AAAFZgAAAVsAAAEVAAABdQAAAw8AAACUAAABTQAAAKsAAAQ9\n",
       "AAABNgAAA5oAAAETAAAA0AAAAMYAAAMWAAABJAAAAPgAAAC0AAAE3wAAAPMAAAEPAAABJAAABdUA\n",
       "AAFDAAABbwAAALoAAAZXAAABlgAAAQ8AAASBAAAAtwAAASMAAADGAAAB1gAAADIAAAAmAAAAHQAA\n",
       "ACgAAAAnAAAAHQAAAB0AAAAoAAAAJwAAAB0AAAAdAAAAKAAAACcAAAAdAAAAHQAAACgAAAAnAAAA\n",
       "HQAAAB0AAAAoAAAAJwAAAB0AAAAdAAAAKAAAACcAAAAdAAAAHQAAACgAAAAnAAAAHQAAAB0AAAAo\n",
       "AAAAJwAAAB0AAAAdAAAAKAAAACcAAAAdAAAAHQAAACgAAAAnAAAAHQAAAB0AAAAoAAAAJwAAAB0A\n",
       "AAAdAAAAKAAAACcAAAAdAAAAHQAAACgAAAAnAAAAHQAAAB0AAAAoAAAAJwAAAB0AAAAdAAAAKAAA\n",
       "ACcAAAAdAAAAHQAAACgAAAAnAAAAHQAAAB0AAAAoAAAAJwAAAB0AAAAdAAAAKAAAACcAAAAdAAAA\n",
       "HQAAACgAAAAnAAAAHQAAAB0AAAAoAAAAJwAAAB0AAAAdAAAAKAAAACcAAAAdAAAAHQAAACgAAAAn\n",
       "AAAAHQAAAB0AAAAoAAAAJwAAAB0AAAAdAAAAKAAAACcAAAAdAAAAHQAAACgAAAAnAAAAHQAAAB0A\n",
       "AAAoAAAAJwAAAB0AAAAdAAAAKAAAACcAAAAdAAAAHQAAACgAAAAnAAAAHQAAAB0AAAAoAAAAJwAA\n",
       "AB0AAAAdAAAAJgAAACcAAAAdAAAAHQAAACYAAAAnAAAAHQAAAB0AAAAmAAAAJwAAAB0AAAAdAAAA\n",
       "HQAAACcAAAAdAAAAHQAAAB0AAAAnAAAAHQAAAB0AAAAdAAAAJwAAAB0AAAAdAAAAHQAAACcAAAAd\n",
       "AAAAHQAAAB0AAAAnAAAAHQAAAB0AAAAdAAAAFHN0Y28AAAAAAAAAAQAAADAAAABidWR0YQAAAFpt\n",
       "ZXRhAAAAAAAAACFoZGxyAAAAAAAAAABtZGlyYXBwbAAAAAAAAAAAAAAAAC1pbHN0AAAAJal0b28A\n",
       "AAAdZGF0YQAAAAEAAAAATGF2ZjU4LjM1LjEwMg==\n",
       "\">\n",
       "  Your browser does not support the video tag.\n",
       "</video>"
      ],
      "text/plain": [
       "<IPython.core.display.HTML object>"
      ]
     },
     "execution_count": 36,
     "metadata": {},
     "output_type": "execute_result"
    },
    {
     "data": {
      "image/png": "[encoded data removed]",
      "text/plain": [
       "<Figure size 720x432 with 1 Axes>"
      ]
     },
     "metadata": {
      "needs_background": "light"
     },
     "output_type": "display_data"
    }
   ],
   "source": [
    "# This section will allow you to run animations of the search algorithms\n",
    "# by tweaking the parameters in the below function\n",
    "# The allowed search algorithms are:\n",
    "# 1. A* : solver='astar'\n",
    "# 2. Weighed A* : solver='wastar', weight=1.4\n",
    "# 3. Breadth first search : solver='bfs'\n",
    "# 4. Depth First Search : solver='dfs'\n",
    "# 5. Uniform Cost Search : solver='ucs'\n",
    "# 6. Greedy Best Frist Search : solver='bestfs'\n",
    "# TODO: bidirectional search\n",
    "\n",
    "grid = AnimateProblem(solver='wastar', # allowed: ['astar', 'wastar', 'bfs', 'dfs', 'bestfs', 'ucs']\n",
    "                      weight=1.4, # If you are using 'wastar', change the weight here.\n",
    "                      height=20, width=40,\n",
    "                      initial=(1, 1), goal=(35, 19),\n",
    "                      obstacles=random_lines(X=range(40), Y=range(20), N=80, lengths=range(1, 7)))\n",
    "grid.draw_walls()\n",
    "# In case the animation is not complete,\n",
    "# increase the number of frames below.\n",
    "grid.run(frames=200)"
   ]
  },
  {
   "cell_type": "code",
   "execution_count": 37,
   "metadata": {
    "scrolled": false
   },
   "outputs": [
    {
     "data": {
      "image/png": "[encoded data removed]",
      "text/plain": [
       "<Figure size 1152x720 with 1 Axes>"
      ]
     },
     "metadata": {
      "needs_background": "light"
     },
     "output_type": "display_data"
    },
    {
     "name": "stdout",
     "output_type": "stream",
     "text": [
      "           A* search search: 154.2 path cost, 7,418 states reached\n"
     ]
    },
    {
     "data": {
      "image/png": "[encoded data removed]",
      "text/plain": [
       "<Figure size 1152x720 with 1 Axes>"
      ]
     },
     "metadata": {
      "needs_background": "light"
     },
     "output_type": "display_data"
    },
    {
     "name": "stdout",
     "output_type": "stream",
     "text": [
      "           (b) Weighted (1.4) A* search search: 154.2 path cost, 944 states reached\n"
     ]
    },
    {
     "data": {
      "image/png": "[encoded data removed]",
      "text/plain": [
       "<Figure size 1152x720 with 1 Axes>"
      ]
     },
     "metadata": {
      "needs_background": "light"
     },
     "output_type": "display_data"
    },
    {
     "name": "stdout",
     "output_type": "stream",
     "text": [
      "           (b) Weighted (2) A* search search: 162.8 path cost, 782 states reached\n"
     ]
    },
    {
     "data": {
      "image/png": "[encoded data removed]",
      "text/plain": [
       "<Figure size 1152x720 with 1 Axes>"
      ]
     },
     "metadata": {
      "needs_background": "light"
     },
     "output_type": "display_data"
    },
    {
     "name": "stdout",
     "output_type": "stream",
     "text": [
      "           Greedy best-first search search: 164.5 path cost, 448 states reached\n"
     ]
    }
   ],
   "source": [
    "plots(d3)"
   ]
  },
  {
   "cell_type": "code",
   "execution_count": 38,
   "metadata": {
    "scrolled": false
   },
   "outputs": [
    {
     "data": {
      "image/png": "[encoded data removed]",
      "text/plain": [
       "<Figure size 1152x720 with 1 Axes>"
      ]
     },
     "metadata": {
      "needs_background": "light"
     },
     "output_type": "display_data"
    },
    {
     "name": "stdout",
     "output_type": "stream",
     "text": [
      "           A* search search: 133.0 path cost, 2,196 states reached\n"
     ]
    },
    {
     "data": {
      "image/png": "[encoded data removed]",
      "text/plain": [
       "<Figure size 1152x720 with 1 Axes>"
      ]
     },
     "metadata": {
      "needs_background": "light"
     },
     "output_type": "display_data"
    },
    {
     "name": "stdout",
     "output_type": "stream",
     "text": [
      "           (b) Weighted (1.4) A* search search: 133.0 path cost, 440 states reached\n"
     ]
    },
    {
     "data": {
      "image/png": "[encoded data removed]",
      "text/plain": [
       "<Figure size 1152x720 with 1 Axes>"
      ]
     },
     "metadata": {
      "needs_background": "light"
     },
     "output_type": "display_data"
    },
    {
     "name": "stdout",
     "output_type": "stream",
     "text": [
      "           (b) Weighted (2) A* search search: 134.2 path cost, 418 states reached\n"
     ]
    },
    {
     "data": {
      "image/png": "[encoded data removed]",
      "text/plain": [
       "<Figure size 1152x720 with 1 Axes>"
      ]
     },
     "metadata": {
      "needs_background": "light"
     },
     "output_type": "display_data"
    },
    {
     "name": "stdout",
     "output_type": "stream",
     "text": [
      "           Greedy best-first search search: 153.0 path cost, 502 states reached\n"
     ]
    }
   ],
   "source": [
    "plots(d4)"
   ]
  },
  {
   "cell_type": "markdown",
   "metadata": {},
   "source": [
    "# The cost of weighted A* search\n",
    "\n",
    "Now I want to try a much simpler grid problem, `d6`, with only a few obstacles. We see that A* finds the optimal path, skirting below the obstacles. Weighterd A* with a weight of 1.4 finds the same optimal path while exploring only 1/3 the number of states. But weighted A* with weight 2 takes the slightly longer path above the obstacles, because that path allowed it to stay closer to the goal in straight-line distance, which it over-weights. And greedy best-first search has a bad showing, not deviating from its path towards the goal until it is almost inside the cup made by the obstacles."
   ]
  },
  {
   "cell_type": "code",
   "execution_count": 39,
   "metadata": {
    "scrolled": false
   },
   "outputs": [
    {
     "data": {
      "image/png": "[encoded data removed]",
      "text/plain": [
       "<Figure size 1152x720 with 1 Axes>"
      ]
     },
     "metadata": {
      "needs_background": "light"
     },
     "output_type": "display_data"
    },
    {
     "name": "stdout",
     "output_type": "stream",
     "text": [
      "           A* search search: 124.1 path cost, 3,305 states reached\n"
     ]
    },
    {
     "data": {
      "image/png": "[encoded data removed]",
      "text/plain": [
       "<Figure size 1152x720 with 1 Axes>"
      ]
     },
     "metadata": {
      "needs_background": "light"
     },
     "output_type": "display_data"
    },
    {
     "name": "stdout",
     "output_type": "stream",
     "text": [
      "           (b) Weighted (1.4) A* search search: 124.1 path cost, 975 states reached\n"
     ]
    },
    {
     "data": {
      "image/png": "[encoded data removed]",
      "text/plain": [
       "<Figure size 1152x720 with 1 Axes>"
      ]
     },
     "metadata": {
      "needs_background": "light"
     },
     "output_type": "display_data"
    },
    {
     "name": "stdout",
     "output_type": "stream",
     "text": [
      "           (b) Weighted (2) A* search search: 128.6 path cost, 879 states reached\n"
     ]
    },
    {
     "data": {
      "image/png": "[encoded data removed]",
      "text/plain": [
       "<Figure size 1152x720 with 1 Axes>"
      ]
     },
     "metadata": {
      "needs_background": "light"
     },
     "output_type": "display_data"
    },
    {
     "name": "stdout",
     "output_type": "stream",
     "text": [
      "           Greedy best-first search search: 133.9 path cost, 758 states reached\n"
     ]
    }
   ],
   "source": [
    "plots(d6)"
   ]
  },
  {
   "cell_type": "markdown",
   "metadata": {},
   "source": [
    "In the next problem, `d7`, we see a similar story. the optimal path found by A*, and we see that again weighted A* with weight 1.4 does great and with weight 2 ends up erroneously going below the first two barriers, and then makes another mistake by reversing direction back towards the goal and passing above the third barrier. Again, greedy best-first makes bad decisions all around."
   ]
  },
  {
   "cell_type": "code",
   "execution_count": 40,
   "metadata": {
    "scrolled": false
   },
   "outputs": [
    {
     "data": {
      "image/png": "[encoded data removed]",
      "text/plain": [
       "<Figure size 1152x720 with 1 Axes>"
      ]
     },
     "metadata": {
      "needs_background": "light"
     },
     "output_type": "display_data"
    },
    {
     "name": "stdout",
     "output_type": "stream",
     "text": [
      "           A* search search: 127.4 path cost, 4,058 states reached\n"
     ]
    },
    {
     "data": {
      "image/png": "[encoded data removed]",
      "text/plain": [
       "<Figure size 1152x720 with 1 Axes>"
      ]
     },
     "metadata": {
      "needs_background": "light"
     },
     "output_type": "display_data"
    },
    {
     "name": "stdout",
     "output_type": "stream",
     "text": [
      "           (b) Weighted (1.4) A* search search: 127.4 path cost, 1,289 states reached\n"
     ]
    },
    {
     "data": {
      "image/png": "[encoded data removed]",
      "text/plain": [
       "<Figure size 1152x720 with 1 Axes>"
      ]
     },
     "metadata": {
      "needs_background": "light"
     },
     "output_type": "display_data"
    },
    {
     "name": "stdout",
     "output_type": "stream",
     "text": [
      "           (b) Weighted (2) A* search search: 140.4 path cost, 982 states reached\n"
     ]
    },
    {
     "data": {
      "image/png": "[encoded data removed]",
      "text/plain": [
       "<Figure size 1152x720 with 1 Axes>"
      ]
     },
     "metadata": {
      "needs_background": "light"
     },
     "output_type": "display_data"
    },
    {
     "name": "stdout",
     "output_type": "stream",
     "text": [
      "           Greedy best-first search search: 151.6 path cost, 826 states reached\n"
     ]
    }
   ],
   "source": [
    "plots(d7)"
   ]
  },
  {
   "cell_type": "markdown",
   "metadata": {},
   "source": [
    "# Nondeterministic Actions\n",
    "\n",
    "To handle problems with nondeterministic problems, we'll replace the `result` method with `results`, which returns a collection of possible result states. We'll represent the solution to a problem not with a `Node`, but with a plan that consist of two types of component: sequences of actions, like `['forward', 'suck']`, and condition actions, like\n",
    "`{5: ['forward', 'suck'], 7: []}`, which says that if we end up in state 5, then do `['forward', 'suck']`, but if we end up in state 7, then do the empty sequence of actions."
   ]
  },
  {
   "cell_type": "code",
   "execution_count": 41,
   "metadata": {},
   "outputs": [],
   "source": [
    "def and_or_search(problem):\n",
    "    \"Find a plan for a problem that has nondterministic actions.\"\n",
    "    return or_search(problem, problem.initial, [])\n",
    "    \n",
    "def or_search(problem, state, path):\n",
    "    \"Find a sequence of actions to reach goal from state, without repeating states on path.\"\n",
    "    if problem.is_goal(state): return []\n",
    "    if state in path: return failure # check for loops\n",
    "    for action in problem.actions(state):\n",
    "        plan = and_search(problem, problem.results(state, action), [state] + path)\n",
    "        if plan != failure:\n",
    "            return [action] + plan\n",
    "    return failure\n",
    "\n",
    "def and_search(problem, states, path):\n",
    "    \"Plan for each of the possible states we might end up in.\"\n",
    "    if len(states) == 1: \n",
    "        return or_search(problem, next(iter(states)), path)\n",
    "    plan = {}\n",
    "    for s in states:\n",
    "        plan[s] = or_search(problem, s, path)\n",
    "        if plan[s] == failure: return failure\n",
    "    return [plan]"
   ]
  },
  {
   "cell_type": "code",
   "execution_count": 42,
   "metadata": {},
   "outputs": [],
   "source": [
    "class MultiGoalProblem(Problem):\n",
    "    \"\"\"A version of `Problem` with a colllection of `goals` instead of one `goal`.\"\"\"\n",
    "    \n",
    "    def __init__(self, initial=None, goals=(), **kwds): \n",
    "        self.__dict__.update(initial=initial, goals=goals, **kwds)\n",
    "        \n",
    "    def is_goal(self, state): return state in self.goals\n",
    "    \n",
    "class ErraticVacuum(MultiGoalProblem):\n",
    "    \"\"\"In this 2-location vacuum problem, the suck action in a dirty square will either clean up that square,\n",
    "    or clean up both squares. A suck action in a clean square will either do nothing, or\n",
    "    will deposit dirt in that square. Forward and backward actions are deterministic.\"\"\"\n",
    "    \n",
    "    def actions(self, state): \n",
    "        return ['suck', 'forward', 'backward']\n",
    "    \n",
    "    def results(self, state, action): return self.table[action][state]\n",
    "    \n",
    "    table = {'suck':{1:{5,7}, 2:{4,8}, 3:{7}, 4:{2,4}, 5:{1,5}, 6:{8}, 7:{3,7}, 8:{6,8}},\n",
    "             'forward': {1:{2}, 2:{2}, 3:{4}, 4:{4}, 5:{6}, 6:{6}, 7:{8}, 8:{8}},\n",
    "             'backward': {1:{1}, 2:{1}, 3:{3}, 4:{3}, 5:{5}, 6:{5}, 7:{7}, 8:{7}}}"
   ]
  },
  {
   "cell_type": "markdown",
   "metadata": {},
   "source": [
    "Let's find a plan to get from state 1 to the goal of no dirt (states 7 or 8):"
   ]
  },
  {
   "cell_type": "code",
   "execution_count": 43,
   "metadata": {},
   "outputs": [
    {
     "data": {
      "text/plain": [
       "['suck', {5: ['forward', 'suck'], 7: []}]"
      ]
     },
     "execution_count": 43,
     "metadata": {},
     "output_type": "execute_result"
    }
   ],
   "source": [
    "and_or_search(ErraticVacuum(1, {7, 8}))"
   ]
  },
  {
   "cell_type": "markdown",
   "metadata": {},
   "source": [
    "This plan says \"First suck, and if we end up in state 5, go forward and suck again; if we end up in state 7, do nothing because that is a goal.\"\n",
    "\n",
    "Here are the plans to get to a goal state starting from any one of the 8 states:"
   ]
  },
  {
   "cell_type": "code",
   "execution_count": 44,
   "metadata": {},
   "outputs": [
    {
     "data": {
      "text/plain": [
       "{1: ['suck', {5: ['forward', 'suck'], 7: []}],\n",
       " 2: ['suck', {8: [], 4: ['backward', 'suck']}],\n",
       " 3: ['suck'],\n",
       " 4: ['backward', 'suck'],\n",
       " 5: ['forward', 'suck'],\n",
       " 6: ['suck'],\n",
       " 7: [],\n",
       " 8: []}"
      ]
     },
     "execution_count": 44,
     "metadata": {},
     "output_type": "execute_result"
    }
   ],
   "source": [
    "{s: and_or_search(ErraticVacuum(s, {7,8})) \n",
    " for s in range(1, 9)}"
   ]
  },
  {
   "cell_type": "markdown",
   "metadata": {},
   "source": [
    "# Comparing Algorithms on EightPuzzle Problems of Different Lengths"
   ]
  },
  {
   "cell_type": "code",
   "execution_count": 45,
   "metadata": {},
   "outputs": [],
   "source": [
    "from functools import lru_cache\n",
    "\n",
    "def build_table(table, depth, state, problem):\n",
    "    if depth > 0 and state not in table:\n",
    "        problem.initial = state\n",
    "        table[state] = len(astar_search(problem))\n",
    "        for a in problem.actions(state):\n",
    "            build_table(table, depth - 1, problem.result(state, a), problem)\n",
    "    return table\n",
    "\n",
    "def invert_table(table):\n",
    "    result = defaultdict(list)\n",
    "    for key, val in table.items():\n",
    "        result[val].append(key)\n",
    "    return result\n",
    "\n",
    "goal = (0, 1, 2, 3, 4, 5, 6, 7, 8)\n",
    "table8 = invert_table(build_table({}, 25, goal, EightPuzzle(goal)))"
   ]
  },
  {
   "cell_type": "code",
   "execution_count": 47,
   "metadata": {
    "scrolled": false
   },
   "outputs": [
    {
     "data": {
      "text/plain": [
       "2.6698"
      ]
     },
     "execution_count": 47,
     "metadata": {},
     "output_type": "execute_result"
    }
   ],
   "source": [
    "def report8(table8, M, Ds=range(2, 25, 2), searchers=(breadth_first_search, astar_misplaced_tiles, astar_search)):\n",
    "    \"Make a table of average nodes generated and effective branching factor\"\n",
    "    for d in Ds:\n",
    "        line = [d]\n",
    "        N = min(M, len(table8[d]))\n",
    "        states = random.sample(table8[d], N)\n",
    "        for searcher in searchers:\n",
    "            nodes = 0\n",
    "            for s in states:\n",
    "                problem = CountCalls(EightPuzzle(s))\n",
    "                searcher(problem)\n",
    "                nodes += problem._counts['result']\n",
    "            nodes = int(round(nodes/N))\n",
    "            line.append(nodes)\n",
    "        line.extend([ebf(d, n) for n in line[1:]])\n",
    "        print('{:2} & {:6} & {:5} & {:5} && {:.2f} & {:.2f} & {:.2f}'\n",
    "              .format(*line))\n",
    "\n",
    "        \n",
    "def ebf(d, N, possible_bs=[b/100 for b in range(100, 300)]):\n",
    "    \"Effective Branching Factor\"\n",
    "    return min(possible_bs, key=lambda b: abs(N - sum(b**i for i in range(1, d+1))))\n",
    "\n",
    "from statistics import mean \n",
    "\n",
    "def random_state():\n",
    "    x = list(range(9))\n",
    "    random.shuffle(x)\n",
    "    return tuple(x)\n",
    "\n",
    "meanbf = mean(len(e3.actions(random_state())) for _ in range(10000))\n",
    "meanbf"
   ]
  },
  {
   "cell_type": "code",
   "execution_count": 49,
   "metadata": {},
   "outputs": [
    {
     "data": {
      "text/plain": [
       "{0: 1,\n",
       " 1: 2,\n",
       " 2: 4,\n",
       " 3: 8,\n",
       " 4: 16,\n",
       " 5: 16,\n",
       " 6: 33,\n",
       " 7: 39,\n",
       " 8: 77,\n",
       " 9: 85,\n",
       " 10: 169,\n",
       " 11: 183,\n",
       " 12: 374,\n",
       " 13: 376,\n",
       " 14: 745,\n",
       " 15: 446,\n",
       " 16: 918,\n",
       " 17: 628,\n",
       " 18: 1244,\n",
       " 19: 781,\n",
       " 20: 1425,\n",
       " 21: 546,\n",
       " 22: 869,\n",
       " 23: 222,\n",
       " 24: 305}"
      ]
     },
     "execution_count": 49,
     "metadata": {},
     "output_type": "execute_result"
    }
   ],
   "source": [
    "{n: len(v) for (n, v) in table8.items()}"
   ]
  },
  {
   "cell_type": "code",
   "execution_count": 50,
   "metadata": {},
   "outputs": [
    {
     "name": "stdout",
     "output_type": "stream",
     "text": [
      "Wall time: 8min 36s\n"
     ]
    }
   ],
   "source": [
    "%time table30 = invert_table(build_table({}, 30, goal, EightPuzzle(goal)))"
   ]
  },
  {
   "cell_type": "code",
   "execution_count": 51,
   "metadata": {},
   "outputs": [
    {
     "name": "stdout",
     "output_type": "stream",
     "text": [
      "26 & 400059 & 107111 & 10609 && 1.58 & 1.50 & 1.36\n",
      "28 & 459968 & 197334 & 22060 && 1.53 & 1.48 & 1.36\n"
     ]
    },
    {
     "ename": "ZeroDivisionError",
     "evalue": "division by zero",
     "output_type": "error",
     "traceback": [
      "\u001b[1;31m---------------------------------------------------------------------------\u001b[0m",
      "\u001b[1;31mZeroDivisionError\u001b[0m                         Traceback (most recent call last)",
      "\u001b[1;32m<timed eval>\u001b[0m in \u001b[0;36m<module>\u001b[1;34m\u001b[0m\n",
      "\u001b[1;32m<ipython-input-47-0ddeb82eba5d>\u001b[0m in \u001b[0;36mreport8\u001b[1;34m(table8, M, Ds, searchers)\u001b[0m\n\u001b[0;32m     11\u001b[0m                 \u001b[0msearcher\u001b[0m\u001b[1;33m(\u001b[0m\u001b[0mproblem\u001b[0m\u001b[1;33m)\u001b[0m\u001b[1;33m\u001b[0m\u001b[1;33m\u001b[0m\u001b[0m\n\u001b[0;32m     12\u001b[0m                 \u001b[0mnodes\u001b[0m \u001b[1;33m+=\u001b[0m \u001b[0mproblem\u001b[0m\u001b[1;33m.\u001b[0m\u001b[0m_counts\u001b[0m\u001b[1;33m[\u001b[0m\u001b[1;34m'result'\u001b[0m\u001b[1;33m]\u001b[0m\u001b[1;33m\u001b[0m\u001b[1;33m\u001b[0m\u001b[0m\n\u001b[1;32m---> 13\u001b[1;33m             \u001b[0mnodes\u001b[0m \u001b[1;33m=\u001b[0m \u001b[0mint\u001b[0m\u001b[1;33m(\u001b[0m\u001b[0mround\u001b[0m\u001b[1;33m(\u001b[0m\u001b[0mnodes\u001b[0m\u001b[1;33m/\u001b[0m\u001b[0mN\u001b[0m\u001b[1;33m)\u001b[0m\u001b[1;33m)\u001b[0m\u001b[1;33m\u001b[0m\u001b[1;33m\u001b[0m\u001b[0m\n\u001b[0m\u001b[0;32m     14\u001b[0m             \u001b[0mline\u001b[0m\u001b[1;33m.\u001b[0m\u001b[0mappend\u001b[0m\u001b[1;33m(\u001b[0m\u001b[0mnodes\u001b[0m\u001b[1;33m)\u001b[0m\u001b[1;33m\u001b[0m\u001b[1;33m\u001b[0m\u001b[0m\n\u001b[0;32m     15\u001b[0m         \u001b[0mline\u001b[0m\u001b[1;33m.\u001b[0m\u001b[0mextend\u001b[0m\u001b[1;33m(\u001b[0m\u001b[1;33m[\u001b[0m\u001b[0mebf\u001b[0m\u001b[1;33m(\u001b[0m\u001b[0md\u001b[0m\u001b[1;33m,\u001b[0m \u001b[0mn\u001b[0m\u001b[1;33m)\u001b[0m \u001b[1;32mfor\u001b[0m \u001b[0mn\u001b[0m \u001b[1;32min\u001b[0m \u001b[0mline\u001b[0m\u001b[1;33m[\u001b[0m\u001b[1;36m1\u001b[0m\u001b[1;33m:\u001b[0m\u001b[1;33m]\u001b[0m\u001b[1;33m]\u001b[0m\u001b[1;33m)\u001b[0m\u001b[1;33m\u001b[0m\u001b[1;33m\u001b[0m\u001b[0m\n",
      "\u001b[1;31mZeroDivisionError\u001b[0m: division by zero"
     ]
    }
   ],
   "source": [
    "%time report8(table30, 20, range(26, 31, 2))"
   ]
  },
  {
   "cell_type": "code",
   "execution_count": 53,
   "metadata": {},
   "outputs": [
    {
     "ename": "NameError",
     "evalue": "name 'sld' is not defined",
     "output_type": "error",
     "traceback": [
      "\u001b[1;31m---------------------------------------------------------------------------\u001b[0m",
      "\u001b[1;31mNameError\u001b[0m                                 Traceback (most recent call last)",
      "\u001b[1;32m<ipython-input-53-7f4d349bb1b8>\u001b[0m in \u001b[0;36m<module>\u001b[1;34m\u001b[0m\n\u001b[0;32m      6\u001b[0m \u001b[0mL\u001b[0m \u001b[1;33m=\u001b[0m \u001b[0mromania\u001b[0m\u001b[1;33m.\u001b[0m\u001b[0mlocations\u001b[0m\u001b[1;33m\u001b[0m\u001b[1;33m\u001b[0m\u001b[0m\n\u001b[0;32m      7\u001b[0m \u001b[1;32mdef\u001b[0m \u001b[0mratio\u001b[0m\u001b[1;33m(\u001b[0m\u001b[0ma\u001b[0m\u001b[1;33m,\u001b[0m \u001b[0mb\u001b[0m\u001b[1;33m)\u001b[0m\u001b[1;33m:\u001b[0m \u001b[1;32mreturn\u001b[0m \u001b[0mastar_search\u001b[0m\u001b[1;33m(\u001b[0m\u001b[0mRouteProblem\u001b[0m\u001b[1;33m(\u001b[0m\u001b[0ma\u001b[0m\u001b[1;33m,\u001b[0m \u001b[0mb\u001b[0m\u001b[1;33m,\u001b[0m \u001b[0mmap\u001b[0m\u001b[1;33m=\u001b[0m\u001b[0mromania\u001b[0m\u001b[1;33m)\u001b[0m\u001b[1;33m)\u001b[0m\u001b[1;33m.\u001b[0m\u001b[0mpath_cost\u001b[0m \u001b[1;33m/\u001b[0m \u001b[0msld\u001b[0m\u001b[1;33m(\u001b[0m\u001b[0mL\u001b[0m\u001b[1;33m[\u001b[0m\u001b[0ma\u001b[0m\u001b[1;33m]\u001b[0m\u001b[1;33m,\u001b[0m \u001b[0mL\u001b[0m\u001b[1;33m[\u001b[0m\u001b[0mb\u001b[0m\u001b[1;33m]\u001b[0m\u001b[1;33m)\u001b[0m\u001b[1;33m\u001b[0m\u001b[1;33m\u001b[0m\u001b[0m\n\u001b[1;32m----> 8\u001b[1;33m \u001b[0mnums\u001b[0m \u001b[1;33m=\u001b[0m \u001b[1;33m[\u001b[0m\u001b[0mratio\u001b[0m\u001b[1;33m(\u001b[0m\u001b[0ma\u001b[0m\u001b[1;33m,\u001b[0m \u001b[0mb\u001b[0m\u001b[1;33m)\u001b[0m \u001b[1;32mfor\u001b[0m \u001b[0ma\u001b[0m\u001b[1;33m,\u001b[0m\u001b[0mb\u001b[0m \u001b[1;32min\u001b[0m \u001b[0mcombinations\u001b[0m\u001b[1;33m(\u001b[0m\u001b[0mL\u001b[0m\u001b[1;33m,\u001b[0m \u001b[1;36m2\u001b[0m\u001b[1;33m)\u001b[0m \u001b[1;32mif\u001b[0m \u001b[0mb\u001b[0m \u001b[1;32min\u001b[0m \u001b[0mr1\u001b[0m\u001b[1;33m.\u001b[0m\u001b[0mactions\u001b[0m\u001b[1;33m(\u001b[0m\u001b[0ma\u001b[0m\u001b[1;33m)\u001b[0m\u001b[1;33m]\u001b[0m\u001b[1;33m\u001b[0m\u001b[1;33m\u001b[0m\u001b[0m\n\u001b[0m\u001b[0;32m      9\u001b[0m \u001b[0mmean\u001b[0m\u001b[1;33m(\u001b[0m\u001b[0mnums\u001b[0m\u001b[1;33m)\u001b[0m\u001b[1;33m,\u001b[0m \u001b[0mmedian\u001b[0m\u001b[1;33m(\u001b[0m\u001b[0mnums\u001b[0m\u001b[1;33m)\u001b[0m \u001b[1;31m# 1.7, 1.6 # 1.26, 1.2 for adjacent cities\u001b[0m\u001b[1;33m\u001b[0m\u001b[1;33m\u001b[0m\u001b[0m\n",
      "\u001b[1;32m<ipython-input-53-7f4d349bb1b8>\u001b[0m in \u001b[0;36m<listcomp>\u001b[1;34m(.0)\u001b[0m\n\u001b[0;32m      6\u001b[0m \u001b[0mL\u001b[0m \u001b[1;33m=\u001b[0m \u001b[0mromania\u001b[0m\u001b[1;33m.\u001b[0m\u001b[0mlocations\u001b[0m\u001b[1;33m\u001b[0m\u001b[1;33m\u001b[0m\u001b[0m\n\u001b[0;32m      7\u001b[0m \u001b[1;32mdef\u001b[0m \u001b[0mratio\u001b[0m\u001b[1;33m(\u001b[0m\u001b[0ma\u001b[0m\u001b[1;33m,\u001b[0m \u001b[0mb\u001b[0m\u001b[1;33m)\u001b[0m\u001b[1;33m:\u001b[0m \u001b[1;32mreturn\u001b[0m \u001b[0mastar_search\u001b[0m\u001b[1;33m(\u001b[0m\u001b[0mRouteProblem\u001b[0m\u001b[1;33m(\u001b[0m\u001b[0ma\u001b[0m\u001b[1;33m,\u001b[0m \u001b[0mb\u001b[0m\u001b[1;33m,\u001b[0m \u001b[0mmap\u001b[0m\u001b[1;33m=\u001b[0m\u001b[0mromania\u001b[0m\u001b[1;33m)\u001b[0m\u001b[1;33m)\u001b[0m\u001b[1;33m.\u001b[0m\u001b[0mpath_cost\u001b[0m \u001b[1;33m/\u001b[0m \u001b[0msld\u001b[0m\u001b[1;33m(\u001b[0m\u001b[0mL\u001b[0m\u001b[1;33m[\u001b[0m\u001b[0ma\u001b[0m\u001b[1;33m]\u001b[0m\u001b[1;33m,\u001b[0m \u001b[0mL\u001b[0m\u001b[1;33m[\u001b[0m\u001b[0mb\u001b[0m\u001b[1;33m]\u001b[0m\u001b[1;33m)\u001b[0m\u001b[1;33m\u001b[0m\u001b[1;33m\u001b[0m\u001b[0m\n\u001b[1;32m----> 8\u001b[1;33m \u001b[0mnums\u001b[0m \u001b[1;33m=\u001b[0m \u001b[1;33m[\u001b[0m\u001b[0mratio\u001b[0m\u001b[1;33m(\u001b[0m\u001b[0ma\u001b[0m\u001b[1;33m,\u001b[0m \u001b[0mb\u001b[0m\u001b[1;33m)\u001b[0m \u001b[1;32mfor\u001b[0m \u001b[0ma\u001b[0m\u001b[1;33m,\u001b[0m\u001b[0mb\u001b[0m \u001b[1;32min\u001b[0m \u001b[0mcombinations\u001b[0m\u001b[1;33m(\u001b[0m\u001b[0mL\u001b[0m\u001b[1;33m,\u001b[0m \u001b[1;36m2\u001b[0m\u001b[1;33m)\u001b[0m \u001b[1;32mif\u001b[0m \u001b[0mb\u001b[0m \u001b[1;32min\u001b[0m \u001b[0mr1\u001b[0m\u001b[1;33m.\u001b[0m\u001b[0mactions\u001b[0m\u001b[1;33m(\u001b[0m\u001b[0ma\u001b[0m\u001b[1;33m)\u001b[0m\u001b[1;33m]\u001b[0m\u001b[1;33m\u001b[0m\u001b[1;33m\u001b[0m\u001b[0m\n\u001b[0m\u001b[0;32m      9\u001b[0m \u001b[0mmean\u001b[0m\u001b[1;33m(\u001b[0m\u001b[0mnums\u001b[0m\u001b[1;33m)\u001b[0m\u001b[1;33m,\u001b[0m \u001b[0mmedian\u001b[0m\u001b[1;33m(\u001b[0m\u001b[0mnums\u001b[0m\u001b[1;33m)\u001b[0m \u001b[1;31m# 1.7, 1.6 # 1.26, 1.2 for adjacent cities\u001b[0m\u001b[1;33m\u001b[0m\u001b[1;33m\u001b[0m\u001b[0m\n",
      "\u001b[1;32m<ipython-input-53-7f4d349bb1b8>\u001b[0m in \u001b[0;36mratio\u001b[1;34m(a, b)\u001b[0m\n\u001b[0;32m      5\u001b[0m \u001b[1;33m\u001b[0m\u001b[0m\n\u001b[0;32m      6\u001b[0m \u001b[0mL\u001b[0m \u001b[1;33m=\u001b[0m \u001b[0mromania\u001b[0m\u001b[1;33m.\u001b[0m\u001b[0mlocations\u001b[0m\u001b[1;33m\u001b[0m\u001b[1;33m\u001b[0m\u001b[0m\n\u001b[1;32m----> 7\u001b[1;33m \u001b[1;32mdef\u001b[0m \u001b[0mratio\u001b[0m\u001b[1;33m(\u001b[0m\u001b[0ma\u001b[0m\u001b[1;33m,\u001b[0m \u001b[0mb\u001b[0m\u001b[1;33m)\u001b[0m\u001b[1;33m:\u001b[0m \u001b[1;32mreturn\u001b[0m \u001b[0mastar_search\u001b[0m\u001b[1;33m(\u001b[0m\u001b[0mRouteProblem\u001b[0m\u001b[1;33m(\u001b[0m\u001b[0ma\u001b[0m\u001b[1;33m,\u001b[0m \u001b[0mb\u001b[0m\u001b[1;33m,\u001b[0m \u001b[0mmap\u001b[0m\u001b[1;33m=\u001b[0m\u001b[0mromania\u001b[0m\u001b[1;33m)\u001b[0m\u001b[1;33m)\u001b[0m\u001b[1;33m.\u001b[0m\u001b[0mpath_cost\u001b[0m \u001b[1;33m/\u001b[0m \u001b[0msld\u001b[0m\u001b[1;33m(\u001b[0m\u001b[0mL\u001b[0m\u001b[1;33m[\u001b[0m\u001b[0ma\u001b[0m\u001b[1;33m]\u001b[0m\u001b[1;33m,\u001b[0m \u001b[0mL\u001b[0m\u001b[1;33m[\u001b[0m\u001b[0mb\u001b[0m\u001b[1;33m]\u001b[0m\u001b[1;33m)\u001b[0m\u001b[1;33m\u001b[0m\u001b[1;33m\u001b[0m\u001b[0m\n\u001b[0m\u001b[0;32m      8\u001b[0m \u001b[0mnums\u001b[0m \u001b[1;33m=\u001b[0m \u001b[1;33m[\u001b[0m\u001b[0mratio\u001b[0m\u001b[1;33m(\u001b[0m\u001b[0ma\u001b[0m\u001b[1;33m,\u001b[0m \u001b[0mb\u001b[0m\u001b[1;33m)\u001b[0m \u001b[1;32mfor\u001b[0m \u001b[0ma\u001b[0m\u001b[1;33m,\u001b[0m\u001b[0mb\u001b[0m \u001b[1;32min\u001b[0m \u001b[0mcombinations\u001b[0m\u001b[1;33m(\u001b[0m\u001b[0mL\u001b[0m\u001b[1;33m,\u001b[0m \u001b[1;36m2\u001b[0m\u001b[1;33m)\u001b[0m \u001b[1;32mif\u001b[0m \u001b[0mb\u001b[0m \u001b[1;32min\u001b[0m \u001b[0mr1\u001b[0m\u001b[1;33m.\u001b[0m\u001b[0mactions\u001b[0m\u001b[1;33m(\u001b[0m\u001b[0ma\u001b[0m\u001b[1;33m)\u001b[0m\u001b[1;33m]\u001b[0m\u001b[1;33m\u001b[0m\u001b[1;33m\u001b[0m\u001b[0m\n\u001b[0;32m      9\u001b[0m \u001b[0mmean\u001b[0m\u001b[1;33m(\u001b[0m\u001b[0mnums\u001b[0m\u001b[1;33m)\u001b[0m\u001b[1;33m,\u001b[0m \u001b[0mmedian\u001b[0m\u001b[1;33m(\u001b[0m\u001b[0mnums\u001b[0m\u001b[1;33m)\u001b[0m \u001b[1;31m# 1.7, 1.6 # 1.26, 1.2 for adjacent cities\u001b[0m\u001b[1;33m\u001b[0m\u001b[1;33m\u001b[0m\u001b[0m\n",
      "\u001b[1;31mNameError\u001b[0m: name 'sld' is not defined"
     ]
    }
   ],
   "source": [
    "from itertools import combinations\n",
    "from statistics import median, mean\n",
    "\n",
    "# Detour index for Romania\n",
    "\n",
    "L = romania.locations\n",
    "def ratio(a, b): return astar_search(RouteProblem(a, b, map=romania)).path_cost / sld(L[a], L[b])\n",
    "nums = [ratio(a, b) for a,b in combinations(L, 2) if b in r1.actions(a)]\n",
    "mean(nums), median(nums) # 1.7, 1.6 # 1.26, 1.2 for adjacent cities"
   ]
  }
 ],
 "metadata": {
  "kernelspec": {
   "display_name": "Python 3",
   "language": "python",
   "name": "python3"
  },
  "language_info": {
   "codemirror_mode": {
    "name": "ipython",
    "version": 3
   },
   "file_extension": ".py",
   "mimetype": "text/x-python",
   "name": "python",
   "nbconvert_exporter": "python",
   "pygments_lexer": "ipython3",
   "version": "3.6.8"
  }
 },
 "nbformat": 4,
 "nbformat_minor": 2
}
