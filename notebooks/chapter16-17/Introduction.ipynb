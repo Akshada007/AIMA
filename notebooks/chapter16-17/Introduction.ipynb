{
 "cells": [
  {
   "cell_type": "markdown",
   "metadata": {},
   "source": [
    "# Making Complex Decisions\n",
    "---\n",
    "\n",
    "This Jupyter notebook acts as supporting material for topics covered in **Chapter 16 Making Complex Decisions** of the book* Artificial Intelligence: A Modern Approach*. We make use of the implementations in the mdp.py module. This notebook also includes a summary of the main topics as a review. The main content of this chapter is about Markov models and algorithms to solve it."
   ]
  },
  {
   "cell_type": "markdown",
   "metadata": {},
   "source": [
    "## CONTENTS\n",
    "\n",
    "* Introduction\n",
    "* MDPs: the definition of Markov Decision Problems.\n",
    "* Algorithms for MDPs: Algorithms to solve MDPs: value iteration and its visualization, and policy iteration.\n",
    "* Sequential Decision Problems: demonstration case of the first example in chapter 16 of the book.\n",
    "* POMDPs: Definition of partially observed MDPs and its visualization."
   ]
  },
  {
   "cell_type": "markdown",
   "metadata": {},
   "source": [
    "## OVERVIEW\n",
    "\n",
    "MDPs are meant to be a straightforward description of the real-world learning problem from interaction to achieve a goal. An agent and the environment interact continually. The agent selects actions and the environment responds to these actions and feeds new situations back to the agent.\n",
    "\n",
    "To use the implemented modules of Markov models, you need to import the packages by executing the following code in each notebook:"
   ]
  },
  {
   "cell_type": "code",
   "execution_count": 1,
   "metadata": {},
   "outputs": [],
   "source": [
    "import os, sys\n",
    "sys.path = [os.path.abspath(\"../../\")] + sys.path\n",
    "from mdp4e import *\n",
    "from notebook4e import psource, pseudocode, plot_pomdp_utility"
   ]
  },
  {
   "cell_type": "code",
   "execution_count": null,
   "metadata": {},
   "outputs": [],
   "source": []
  }
 ],
 "metadata": {
  "kernelspec": {
   "display_name": "Python 3",
   "language": "python",
   "name": "python3"
  },
  "language_info": {
   "codemirror_mode": {
    "name": "ipython",
    "version": 3
   },
   "file_extension": ".py",
   "mimetype": "text/x-python",
   "name": "python",
   "nbconvert_exporter": "python",
   "pygments_lexer": "ipython3",
   "version": "3.7.2"
  }
 },
 "nbformat": 4,
 "nbformat_minor": 2
}
