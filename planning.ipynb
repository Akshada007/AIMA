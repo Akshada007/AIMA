{
 "cells": [
  {
   "cell_type": "markdown",
   "metadata": {},
   "source": [
    "## PLANNING"
   ]
  },
  {
   "cell_type": "markdown",
   "metadata": {},
   "source": [
    "This notebook describes the planning.py module, which covers Classical Planning from Chapter 10 & Planning & Acting in Real World Chapter 11."
   ]
  },
  {
   "cell_type": "code",
   "execution_count": 1,
   "metadata": {
    "collapsed": false
   },
   "outputs": [],
   "source": [
    "from planning import *\n",
    "from utils import expr"
   ]
  },
  {
   "cell_type": "markdown",
   "metadata": {},
   "source": [
    "#PDDL \n",
    "The PDDL (Planning Domain Definition Language)   allows us to express all actions with one action schema, it consists of following four functions:"
   ]
  },
  {
   "cell_type": "markdown",
   "metadata": {},
   "source": [
    "1. init(self, initial_state, actions, goal_test)  : the constructor creates a knowledge base with initial state, initialises actions and goal_test_func function with goal_test.\n",
    "2. goal_test(self) : initialises goal_test with kb.\n",
    "3. act(self, action) :  Performs the action given as argument, along with checks preformed on pre-conditions."
   ]
  },
  {
   "cell_type": "markdown",
   "metadata": {},
   "source": [
    ""
   ]
  },
  {
   "cell_type": "markdown",
   "metadata": {},
   "source": [
    "#ACTIONS\n",
    "Actions are described by a set of action schemas that implicitly define the class Actions:\n",
    "Actions consists of a precondition(positive and negative) and effect(positive and negative). It consists of following "
   ]
  },
  {
   "cell_type": "markdown",
   "metadata": {},
   "source": [
    "Each problem described in chapter 10 has:\n",
    "\t* an initial condition\n",
    "\t* a goal\n",
    "\t* actions with preconditions and effects\n",
    "\t\tthese action are split into _pos (positive conditions) and _neg (negative conditions)\n",
    "Each problem thus requires a solution which is satisfied by the initial conditions and solved using actions which meet the preconditions and effects.\n",
    " "
   ]
  },
  {
   "cell_type": "markdown",
   "metadata": {},
   "source": [
    ""
   ]
  },
  {
   "cell_type": "markdown",
   "metadata": {},
   "source": [
    "# AIR CARGO PROBLEM from Figure 10.1\n",
    "\n",
    "The following code defines the initial state for the problem"
   ]
  },
  {
   "cell_type": "code",
   "execution_count": 2,
   "metadata": {},
   "outputs": [],
   "source": [
    "def air_cargo():\n",
    "    init = [expr('At(C1, SFO)'),     \n",
    "            expr('At(C2, JFK)'),\n",
    "            expr('At(P1, SFO)'),\n",
    "            expr('At(P2, JFK)'),\n",
    "            expr('Cargo(C1)'),\n",
    "            expr('Cargo(C2)'),\n",
    "            expr('Plane(P1)'),\n",
    "            expr('Plane(P2)'),\n",
    "            expr('Airport(JFK)'),\n",
    "            expr('Airport(SFO)')]"
   ]
  },
  {
   "cell_type": "markdown",
   "metadata": {},
   "source": [
    "The following code defines the goal_test() function which tests if the solution achieves goal or not. 'required' states the goal:"
   ]
  },
  {
   "cell_type": "code",
   "execution_count": 3,
   "metadata": {},
   "outputs": [],
   "source": [
    "def goal_test(kb):\n",
    "        required = [expr('At(C1 , JFK)'), expr('At(C2 ,SFO)')]\n",
    "        for q in required:\n",
    "            if kb.ask(q) is False:\n",
    "                return False\n",
    "        return True"
   ]
  },
  {
   "cell_type": "markdown",
   "metadata": {},
   "source": [
    "Actions such as 'load', 'unload'  and fly are deifned with preconditions and effects accompanying them."
   ]
  },
  {
   "cell_type": "code",
   "execution_count": 14,
   "metadata": {},
   "outputs": [],
   "source": [
    "# Actions\n",
    "\n",
    "#  Load\n",
    "precond_pos = [expr(\"At(c, a)\"), expr(\"At(p, a)\"), expr(\"Cargo(c)\"), expr(\"Plane(p)\"),\n",
    "               expr(\"Airport(a)\")]\n",
    "precond_neg = []\n",
    "effect_add = [expr(\"In(c, p)\")]\n",
    "effect_rem = [expr(\"At(c, a)\")]\n",
    "load = Action(expr(\"Load(c, p, a)\"), [precond_pos, precond_neg], [effect_add, effect_rem])\n",
    "\n",
    "#  Unload\n",
    "precond_pos = [expr(\"In(c, p)\"), expr(\"At(p, a)\"), expr(\"Cargo(c)\"), expr(\"Plane(p)\"),\n",
    "               expr(\"Airport(a)\")]\n",
    "precond_neg = []\n",
    "effect_add = [expr(\"At(c, a)\")]\n",
    "effect_rem = [expr(\"In(c, p)\")]\n",
    "unload = Action(expr(\"Unload(c, p, a)\"), [precond_pos, precond_neg], [effect_add, effect_rem])\n",
    "\n",
    "#  Fly\n",
    "#  Used 'f' instead of 'from' because 'from' is a python keyword and expr uses eval() function\n",
    "precond_pos = [expr(\"At(p, f)\"), expr(\"Plane(p)\"), expr(\"Airport(f)\"), expr(\"Airport(to)\")]\n",
    "precond_neg = []\n",
    "effect_add = [expr(\"At(p, to)\")]\n",
    "effect_rem = [expr(\"At(p, f)\")]\n",
    "fly = Action(expr(\"Fly(p, f, to)\"), [precond_pos, precond_neg], [effect_add, effect_rem])"
   ]
  },
  {
   "cell_type": "markdown",
   "metadata": {},
   "source": [
    "Finally, the function returns the defined problem using PDLL."
   ]
  },
  {
   "cell_type": "markdown",
   "metadata": {},
   "source": [
    "  return PDLL(init, [load, unload, fly], goal_test)"
   ]
  },
  {
   "cell_type": "markdown",
   "metadata": {},
   "source": [
    ""
   ]
  },
  {
   "cell_type": "markdown",
   "metadata": {},
   "source": [
    ""
   ]
  },
  {
   "cell_type": "markdown",
   "metadata": {},
   "source": [
    "A solution to the air_cargo problem is as follows:"
   ]
  },
  {
   "cell_type": "code",
   "execution_count": 2,
   "metadata": {},
   "outputs": [],
   "source": [
    "solution = [expr(\"Load(C1 , P1, SFO)\"),\n",
    "            expr(\"Fly(P1, SFO, JFK)\"),\n",
    "            expr(\"Unload(C1, P1, JFK)\"),\n",
    "            expr(\"Load(C2, P2, JFK)\"),\n",
    "            expr(\"Fly(P2, JFK, SFO)\"),\n",
    "            expr(\"Unload (C2, P2, SFO)\")]"
   ]
  },
  {
   "cell_type": "markdown",
   "metadata": {},
   "source": [
    "We then execute the action on the state's kb."
   ]
  },
  {
   "cell_type": "code",
   "execution_count": 3,
   "metadata": {},
   "outputs": [],
   "source": [
    "a = air_cargo()\n",
    "\n",
    "for action in solution:\n",
    "    a.act(action)"
   ]
  },
  {
   "cell_type": "markdown",
   "metadata": {},
   "source": [
    "Now we test whether the actions achieve the goal defined before."
   ]
  },
  {
   "cell_type": "code",
   "execution_count": 4,
   "metadata": {},
   "outputs": [
    {
     "data": {
      "text/plain": [
       "True"
      ]
     },
     "execution_count": 4,
     "metadata": {},
     "output_type": "execute_result"
    }
   ],
   "source": [
    "a.goal_test()"
   ]
  },
  {
   "cell_type": "markdown",
   "metadata": {},
   "source": [
    "Yes, the solution is correct. You may try any other solution to check if it achieves the goal or not."
   ]
  },
  {
   "cell_type": "markdown",
   "metadata": {},
   "source": [
    ""
   ]
  },
  {
   "cell_type": "markdown",
   "metadata": {},
   "source": [
    "# SPARE TIRE PROBLEM from Figure 10.2:\n","\n","The problem follows the same structure of function as before, only the predicates are changed.\n"
   ]
  },
  {
   "cell_type": "code",
   "execution_count": 5,
   "metadata": {},
   "outputs": [],
   "source": [
    "init = [expr('Tire(Flat)'),\n",
    "            expr('Tire(Spare)'),\n",
    "            expr('At(Flat, Axle)'),\n",
    "            expr('At(Spare, Trunk)')]\n",
    "\n",
    "\n",
    "required = [expr('At(Spare, Axle)'), expr('At(Flat, Ground)')]"
   ]
  },
  {
   "cell_type": "code",
   "execution_count": 6,
   "metadata": {},
   "outputs": [],
   "source": [
    "# Actions\n",
    "\n",
    "# Remove\n",
    "precond_pos = [expr(\"At(obj, loc)\")]\n",
    "precond_neg = []\n",
    "effect_add = [expr(\"At(obj, Ground)\")]\n",
    "effect_rem = [expr(\"At(obj, loc)\")]\n",
    "remove = Action(expr(\"Remove(obj, loc)\"), [precond_pos, precond_neg], [effect_add, effect_rem])\n",
    "\n",
    "# PutOn\n",
    "precond_pos = [expr(\"Tire(t)\"), expr(\"At(t, Ground)\")]\n",
    "precond_neg = [expr(\"At(Flat, Axle)\")]\n",
    "effect_add = [expr(\"At(t, Axle)\")]\n",
    "effect_rem = [expr(\"At(t, Ground)\")]\n",
    "put_on = Action(expr(\"PutOn(t, Axle)\"), [precond_pos, precond_neg], [effect_add, effect_rem])\n",
    "\n",
    "# LeaveOvernight\n",
    "precond_pos = []\n",
    "precond_neg = []\n",
    "effect_add = []\n",
    "effect_rem = [expr(\"At(Spare, Ground)\"), expr(\"At(Spare, Axle)\"), expr(\"At(Spare, Trunk)\"),\n",
    "              expr(\"At(Flat, Ground)\"), expr(\"At(Flat, Axle)\"), expr(\"At(Flat, Trunk)\")]\n",
    "leave_overnight = Action(expr(\"LeaveOvernight\"), [precond_pos, precond_neg],\n",
    "                         [effect_add, effect_rem])"
   ]
  },
  {
   "cell_type": "markdown",
   "metadata": {},
   "source": [
    "solution to the spare tire problem from the book is as follows:"
   ]
  },
  {
   "cell_type": "code",
   "execution_count": 7,
   "metadata": {},
   "outputs": [],
   "source": [
    "solution = [expr(\"Remove(Flat, Axle)\"),\n",
    "                expr(\"Remove(Spare, Trunk)\"),\n",
    "                expr(\"PutOn(Spare, Axle)\")]"
   ]
  },
  {
   "cell_type": "markdown",
   "metadata": {},
   "source": [
    "let's test it in the same way as before :"
   ]
  },
  {
   "cell_type": "code",
   "execution_count": 8,
   "metadata": {},
   "outputs": [
    {
     "data": {
      "text/plain": [
       "True"
      ]
     },
     "execution_count": 8,
     "metadata": {},
     "output_type": "execute_result"
    }
   ],
   "source": [
    "s = spare_tire()\n",
    "\n",
    "for action in solution:\n",
    "    s.act(action)\n",
    "\n",
    "s.goal_test()"
   ]
  },
  {
   "cell_type": "markdown",
   "metadata": {},
   "source": [
    "The solution achieves the goal."
   ]
  },
  {
   "cell_type": "markdown",
   "metadata": {},
   "source": [
    ""
   ]
  },
  {
   "cell_type": "markdown",
   "metadata": {},
   "source": [
    "# THE BLOCKS WORLD from Figure 10.3 :"
   ]
  },
  {
   "cell_type": "markdown",
   "metadata": {},
   "source": [
    "\n",
    "![pL plot](images/blocks_world.png)\n","\n"," The above image shows how the transitions between different states can be possible. Watch how the rightmost transition is what we follow in the book."
   ]
  }
 ],
 "metadata": {
  "kernelspec": {
   "display_name": "Python 3",
   "language": "python",
   "name": "python3"
  },
  "language_info": {
   "codemirror_mode": {
    "name": "ipython",
    "version": 3.0
   },
   "file_extension": ".py",
   "mimetype": "text/x-python",
   "name": "python",
   "nbconvert_exporter": "python",
   "pygments_lexer": "ipython3",
   "version": "3.5.1"
  }
 },
 "nbformat": 4,
 "nbformat_minor": 0
}
