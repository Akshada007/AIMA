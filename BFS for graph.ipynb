{
 "cells": [
  {
   "cell_type": "markdown",
   "metadata": {},
   "source": [
    "## Visualisation of BFS graph traversal using networkx library"
   ]
  },
  {
   "cell_type": "markdown",
   "metadata": {},
   "source": [
    "### INPUT"
   ]
  },
  {
   "cell_type": "markdown",
   "metadata": {},
   "source": [
    "Input is taken from the file\n",
    "\n",
    "Sample input: input.txt\n",
    "\n",
    "4\n",
    "\n",
    "0  5  10  5\n",
    "\n",
    "0  0  5  0\n",
    "\n",
    "0  10  0  0\n",
    "\n",
    "0  0  10  0\n",
    "\n",
    "0"
   ]
  },
  {
   "cell_type": "markdown",
   "metadata": {},
   "source": [
    "First line contains the number of nodes,say n.(Nodes are numbered as 0,1,2,...(n-1) ) Followed by n*n weighted matrix. Disconnected egdes are represented by negative weight. Last line contains the source node.(i.e, the node from which the BFS should begin)"
   ]
  },
  {
   "cell_type": "markdown",
   "metadata": {},
   "source": [
    "## BFS traversal"
   ]
  },
  {
   "cell_type": "markdown",
   "metadata": {},
   "source": [
    "Initial edges are marked with black.\n",
    "\n",
    "When iterative BFS is performed, using a queue. Each time an edge is encountered, it is marked with red on the graph through the line -\n",
    "\n",
    "nx.draw_networkx_edges(G,pos,edgelist=[(curr_node,i)],width=2.5,alpha=0.6,edge_color='r')"
   ]
  },
  {
   "cell_type": "code",
   "execution_count": 4,
   "metadata": {},
   "outputs": [
    {
     "data": {
      "image/png": "[encoded data removed]",
      "text/plain": [
       "<Figure size 432x288 with 1 Axes>"
      ]
     },
     "metadata": {},
     "output_type": "display_data"
    }
   ],
   "source": [
    "import networkx as nx\n",
    "import matplotlib.pyplot as plt\n",
    " \n",
    "\n",
    "\n",
    "#BFS traversal \n",
    "def BFS(G, source, pos): \n",
    "    visited = [False]*(len(G.nodes()))\n",
    "    queue = []   #a queue for BFS traversal\n",
    "    queue.append(source)\n",
    "    visited[source] = True\n",
    "    while queue:\n",
    "        curr_node = queue.pop(0)\n",
    "        for i in G[curr_node]:  #iterates through all the possible vertices adjacent to the curr_node\n",
    "            if visited[i] == False:\n",
    "                queue.append(i)\n",
    "                visited[i] = True\n",
    "                # nx.draw_networkx_edges(G, pos, edgelist = [(curr_node,i)], width = 2.5, alpha = 0.6, edge_color = 'r')\n",
    "    return\n",
    "\n",
    "\n",
    "\n",
    "#takes input from the file and creates a weighted graph\n",
    "def CreateGraph():\n",
    "    G = nx.DiGraph()\n",
    "    f = open('input.txt')\n",
    "    n = int(f.readline())\n",
    "    wtMatrix = []\n",
    "    for i in range(n):\n",
    "        list1 = list(map(int, (f.readline()).split()))\n",
    "        wtMatrix.append(list1)\n",
    "    source = int(f.readline()) #source vertex from where BFS has to start\n",
    "    #Adds egdes along with their weights to the graph \n",
    "    for i in range(n):\n",
    "        for j in range(n):\n",
    "            if wtMatrix[i][j] > 0:\n",
    "                    G.add_edge(i, j, length = wtMatrix[i][j]) \n",
    "    return G, source\n",
    "\n",
    "\n",
    "\n",
    "#draws the graph and displays the weights on the edges\n",
    "def DrawGraph(G):\n",
    "    pos = nx.spring_layout(G)\n",
    "    nx.draw(G, pos, with_labels = True)  #with_labels=true is to show the node number in the output graph\n",
    "    edge_labels = dict([((u,v,), d['length']) for u, v, d in G.edges(data = True)])\n",
    "    nx.draw_networkx_edge_labels(G, pos, edge_labels = edge_labels, label_pos = 0.3, font_size = 11) #prints weight on all the edges\n",
    "    return pos\n",
    "\n",
    "\n",
    "\n",
    "#main function\n",
    "if __name__== \"__main__\":\n",
    "    G,source = CreateGraph()\n",
    "    pos = DrawGraph(G)\n",
    "    BFS(G, source, pos)\n",
    "    plt.show()"
   ]
  },
  {
   "cell_type": "markdown",
   "metadata": {},
   "source": [
    "## Complexity"
   ]
  },
  {
   "cell_type": "markdown",
   "metadata": {},
   "source": [
    "Time: 0(m+n)\n",
    "\n",
    "where m - number of edges\n",
    "\n",
    "n - number of nodes"
   ]
  },
  {
   "cell_type": "code",
   "execution_count": null,
   "metadata": {},
   "outputs": [],
   "source": []
  }
 ],
 "metadata": {
  "kernelspec": {
   "display_name": "Python 3",
   "language": "python",
   "name": "python3"
  },
  "language_info": {
   "codemirror_mode": {
    "name": "ipython",
    "version": 3
   },
   "file_extension": ".py",
   "mimetype": "text/x-python",
   "name": "python",
   "nbconvert_exporter": "python",
   "pygments_lexer": "ipython3",
   "version": "3.7.3"
  }
 },
 "nbformat": 4,
 "nbformat_minor": 2
}
