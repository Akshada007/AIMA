{
 "cells": [
  {
   "cell_type": "markdown",
   "metadata": {
    "collapsed": true
   },
   "source": [
    "# Utilities\n",
    "\n",
    "This notebook provides explanation of some utilities widely used by other modules in the book *Artificial Intelligence: A Modern Approach.* This notebook uses implementations from [utils.py](https://github.com/aimacode/aima-python/blob/master/utils.py) module. Let's start by importing everything from utils module."
   ]
  },
  {
   "cell_type": "code",
   "execution_count": 4,
   "metadata": {
    "collapsed": true,
    "scrolled": true
   },
   "outputs": [],
   "source": [
    "from utils import *\n",
    "from notebook import psource\n",
    "\n",
    "# Needed to hide warnings in the matplotlib sections\n",
    "import warnings\n",
    "warnings.filterwarnings(\"ignore\")"
   ]
  },
  {
   "cell_type": "markdown",
   "metadata": {},
   "source": [
    "## CONTENTS\n",
    "\n",
    "* Queue\n",
    "* FIFOQueue\n",
    "* PriorityQueue"
   ]
  },
  {
   "cell_type": "markdown",
   "metadata": {},
   "source": [
    "## Queue\n",
    "\n",
    "Let's see how we define a Queue. Run the next cell to see how abstract class `Queue` is defined in the search module."
   ]
  },
  {
   "cell_type": "code",
   "execution_count": 5,
   "metadata": {},
   "outputs": [],
   "source": [
    "%psource Queue"
   ]
  },
  {
   "cell_type": "markdown",
   "metadata": {},
   "source": [
    "The `Queue` class has only two methods.\n",
    "\n",
    "* `__init__(self)` : This is what is called a `constructor` and is the first method called when you create an instance of the class.\n",
    "\n",
    "* `extend(self, items)` : This method simply adds all the items in `items` to the queue.\n"
   ]
  },
  {
   "cell_type": "markdown",
   "metadata": {},
   "source": [
    "## FIFOQueue\n",
    "\n",
    "Let's see how we define a FIFOQueue(First-In-First-Out Queue). Run the next cell to see how abstract class `FIFOQueue` is defined in the search module."
   ]
  },
  {
   "cell_type": "code",
   "execution_count": 12,
   "metadata": {
    "collapsed": true
   },
   "outputs": [],
   "source": [
    "%psource FIFOQueue"
   ]
  },
  {
   "cell_type": "markdown",
   "metadata": {},
   "source": [
    "The `FIFOQueue` class has six methods.\n",
    "\n",
    "* `__init__(self, maxlen, items)` : This method creates a `queue` where `maxlen` is the maximum length of the `queue` and `items` is all the items in the queue.\n",
    "\n",
    "* `append(self, item)` : This method simply adds an `item` to the end of the queue until the maximum capacity of the queue is exceeded. When the maximum capacity of the queue is exceeded an error is raised.\n",
    "\n",
    "* `extend(self, items)` : This method simply adds the all the items in `items` to the queue. When the maximum capacity of the queue is exceeded an error is raised.\n",
    "\n",
    "* `pop(self)` : This checks whether the `queue` is empty or not. If the `queue` is not empty the item at the top of the queue is returned. However, if the `queue` is empty, an error is raised.\n",
    "\n",
    "* `__len__(self)` : This returns the length of the queue i.e. the number of items in the queue. \n",
    "\n",
    "* `__contains__(self, item)` : This method returns `True` if `item` is present in the queue, otherwise it returns `False`. \n"
   ]
  },
  {
   "cell_type": "markdown",
   "metadata": {},
   "source": [
    "## PriorityQueue\n",
    "\n",
    "Let's see how we define a PriorityQueue. Run the next cell to see how abstract class `PriorityQueue` is defined in the search module."
   ]
  },
  {
   "cell_type": "code",
   "execution_count": 10,
   "metadata": {
    "collapsed": true
   },
   "outputs": [],
   "source": [
    "%psource PriorityQueue"
   ]
  },
  {
   "cell_type": "markdown",
   "metadata": {},
   "source": [
    "The `PriotityQueue` class has seven methods.\n",
    "\n",
    "* `__init__(self, order , f)` : This method creates a `PriorityQueue` where `order` determines whether the items in the queue will be sorted in increasing priority or decreasing. If `order` is set to `min` then the minimum element is stored in `f`. If `order` is set to `max` then the maximum element is stored in `f`. \n",
    "\n",
    "* `append(self, item)` : This method simply adds an `item` to the queue in the desired sort order defined during the initialization.\n",
    "\n",
    "* `__len__(self)` : This returns the length of the queue .i.e the number of items in the queue. \n",
    "\n",
    "* `pop(self)` : This returns the item that is at the top of the queue.\n",
    "\n",
    "* `__contains__(self, item)` : This returns `True` if `item` is present in the queue, otherwise it returns `False`. \n",
    "\n",
    "* `__getitem__(self, key)` : This method looks for the item `key` in the queue. If it is found, then the item is returned.\n",
    "\n",
    "* `__delitem__(self, key)` : This method looks for the item `key` in the queue. If it is found then the item is deleted from the queue.\n"
   ]
  },
  {
   "cell_type": "code",
   "execution_count": null,
   "metadata": {
    "collapsed": true
   },
   "outputs": [],
   "source": []
  }
 ],
 "metadata": {
  "kernelspec": {
   "display_name": "Python 3",
   "language": "python",
   "name": "python3"
  },
  "language_info": {
   "codemirror_mode": {
    "name": "ipython",
    "version": 3
   },
   "file_extension": ".py",
   "mimetype": "text/x-python",
   "name": "python",
   "nbconvert_exporter": "python",
   "pygments_lexer": "ipython3",
   "version": "3.6.3"
  }
 },
 "nbformat": 4,
 "nbformat_minor": 1
}
